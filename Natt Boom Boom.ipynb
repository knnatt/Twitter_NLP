{
 "cells": [
  {
   "cell_type": "markdown",
   "metadata": {},
   "source": [
    "NLP_df_labeled \n",
    "ggl sheet: NLP_df_unlimit_final_more_for_upload     \n"
   ]
  },
  {
   "cell_type": "code",
   "execution_count": null,
   "metadata": {},
   "outputs": [],
   "source": [
    "'''git remote add origin https://github.com/knnatt/Twitter_NLP\n",
    "git add twitter-gpt.ipynb        \n",
    "git commit -m \"testing first repository\"      \n",
    "'''"
   ]
  },
  {
   "cell_type": "code",
   "execution_count": null,
   "metadata": {},
   "outputs": [],
   "source": [
    "'''! pip install pandas\n",
    "! pip install keras\n",
    "! pip install pythainlp\n",
    "! pip install scikit-learn\n",
    "! pip install numpy\n",
    "! pip install matplotlib\n",
    "! pip install seaborn'''\n"
   ]
  },
  {
   "cell_type": "code",
   "execution_count": 5,
   "metadata": {},
   "outputs": [],
   "source": [
    "import os\n",
    "import re\n",
    "import time\n",
    "import pandas as pd\n",
    "import numpy as np\n",
    "import matplotlib.pyplot as plt\n",
    "import seaborn as sns\n",
    "\n",
    "from keras.models import load_model\n",
    "from pythainlp.tokenize import word_tokenize\n",
    "#from sklearn.metrics import confusion_matrix\n",
    "from pythainlp.corpus import thai_stopwords\n",
    "from pythainlp.util import normalize"
   ]
  },
  {
   "cell_type": "markdown",
   "metadata": {},
   "source": []
  },
  {
   "cell_type": "code",
   "execution_count": 6,
   "metadata": {},
   "outputs": [],
   "source": [
    "def stopwords_rm(text):\n",
    "    stopwords = set(thai_stopwords())\n",
    "    stopwords.update([\"nan\", \"-\", \"_\", \"\", \" \", \"฿\" ,\"ค่ะ\", \"ครับ\", \"จ้า\"])  # Add more stopwords as needed\n",
    "\n",
    "    # Remove stopwords from the text\n",
    "    cleaned_text = ' '.join(word for word in text.split() if word not in stopwords)\n",
    "    return cleaned_text\n",
    "\n",
    "\n",
    "def deEmojify(text):\n",
    "    regrex_pattern = re.compile(pattern = \"[\"\n",
    "        u\"\\U0001F600-\\U0001F64F\"  # emoticons\n",
    "        u\"\\U0001F300-\\U0001F5FF\"  # symbols & pictographs\n",
    "        u\"\\U0001F680-\\U0001F6FF\"  # transport & map symbols\n",
    "        u\"\\U0001F1E0-\\U0001F1FF\"  # flags (iOS)\n",
    "        u\"\\U00002500-\\U00002BEF\"  # chinese char\n",
    "        u\"\\U00002702-\\U000027B0\"\n",
    "        u\"\\U00002702-\\U000027B0\"\n",
    "        u\"\\U000024C2-\\U0001F251\"\n",
    "        u\"\\U0001f926-\\U0001f937\"\n",
    "        u\"\\U00010000-\\U0010ffff\"\n",
    "        u\"\\u2640-\\u2642\"\n",
    "        u\"\\u2600-\\u2B55\"\n",
    "        u\"\\u200d\"\n",
    "        u\"\\u23cf\"\n",
    "        u\"\\u23e9\"\n",
    "        u\"\\u231a\"\n",
    "        u\"\\ufe0f\"  # dingbats\n",
    "        u\"\\u3030\"\n",
    "                           \"]+\", flags = re.UNICODE)\n",
    "    return regrex_pattern.sub(r'',text)\n",
    "\n",
    "def normie(df):\n",
    "    print('cleaning . . .')\n",
    "    i = 0 #row number\n",
    "    df['cleaned1'] = ''\n",
    "    for row in df['cleaned']:\n",
    "        clean = ''\n",
    "        j = row.split(' ') #j is array of string\n",
    "        for word in j:\n",
    "            clean = clean + ' ' + normalize(word) #spell(word)[0] #correct(word)\n",
    "        df['cleaned1'].iloc[i] = clean\n",
    "        i += 1\n",
    "    print('done cleaning by normalization')\n",
    "    return df['cleaned1']\n",
    "def alone(df):\n",
    "    print('Are you alone?')\n",
    "    i = 0 #row number\n",
    "    df['cleaned1'] = ''\n",
    "    for row in df['cleaned']:\n",
    "        words = row.split() #j is array of string\n",
    "        cleaned = [word for word in words if len(word) > 1]\n",
    "        cleaned_string = \" \".join(cleaned)\n",
    "        df['cleaned1'].iloc[i] = cleaned_string\n",
    "        i += 1\n",
    "    print('done cleaning alone')\n",
    "    return df['cleaned1']\n"
   ]
  },
  {
   "cell_type": "code",
   "execution_count": 3,
   "metadata": {},
   "outputs": [],
   "source": [
    "df_1 = pd.read_csv(\"./df_y4s2_final_new.csv\")\n",
    "# df_1 = df_1.dropna(subset='mentioned_location')"
   ]
  },
  {
   "cell_type": "code",
   "execution_count": 4,
   "metadata": {},
   "outputs": [
    {
     "data": {
      "text/plain": [
       "False    3327\n",
       "True      271\n",
       "Name: relevant, dtype: int64"
      ]
     },
     "execution_count": 4,
     "metadata": {},
     "output_type": "execute_result"
    }
   ],
   "source": [
    "df_1['relevant'].value_counts() "
   ]
  },
  {
   "cell_type": "code",
   "execution_count": 5,
   "metadata": {},
   "outputs": [],
   "source": [
    "df_all = pd.read_csv(\"./df_y4s2_v1_Natt48.csv\") #have chad chat 48 true entries\n",
    "df_all1 = pd.concat([df_1,df_all])\n",
    "df_all1['Chadchad'] = df_all1['Chadchad'].fillna('no')\n",
    "df_all1 = df_all1.drop_duplicates(subset='tweet_text', keep='last')\n",
    "df_a = df_all1\n"
   ]
  },
  {
   "cell_type": "code",
   "execution_count": 6,
   "metadata": {},
   "outputs": [
    {
     "data": {
      "text/plain": [
       "False    4192\n",
       "True      371\n",
       "Name: relevant, dtype: int64"
      ]
     },
     "execution_count": 6,
     "metadata": {},
     "output_type": "execute_result"
    }
   ],
   "source": [
    "df_a['relevant'].value_counts() "
   ]
  },
  {
   "cell_type": "markdown",
   "metadata": {},
   "source": [
    "random drop false num_drop(3008 data entries) for resolve imbalance data"
   ]
  },
  {
   "cell_type": "code",
   "execution_count": 7,
   "metadata": {},
   "outputs": [
    {
     "data": {
      "text/plain": [
       "True     371\n",
       "False    312\n",
       "Name: relevant, dtype: int64"
      ]
     },
     "execution_count": 7,
     "metadata": {},
     "output_type": "execute_result"
    }
   ],
   "source": [
    "num_drop = int(df_a[df_a['relevant'] == False].shape[0]) - int(df_a[df_a['relevant'] == True].shape[0])\n",
    "np.random.seed(int(time.time()))\n",
    "false_rows = df_a[df_a['relevant'] == False]\n",
    "rows_to_keep = false_rows.sample(n=312, random_state=42) \n",
    "\n",
    "df_dropped = df_a[df_a['relevant'] != False]\n",
    "df_a = pd.concat([df_dropped,rows_to_keep])\n",
    "df_a['relevant'].value_counts() #balanced "
   ]
  },
  {
   "cell_type": "code",
   "execution_count": 8,
   "metadata": {},
   "outputs": [
    {
     "name": "stdout",
     "output_type": "stream",
     "text": [
      "Are you alone?\n",
      "done cleaning alone\n"
     ]
    },
    {
     "name": "stderr",
     "output_type": "stream",
     "text": [
      "C:\\Users\\mrbvb\\AppData\\Local\\Temp\\ipykernel_37228\\415578056.py:54: SettingWithCopyWarning: \n",
      "A value is trying to be set on a copy of a slice from a DataFrame\n",
      "\n",
      "See the caveats in the documentation: https://pandas.pydata.org/pandas-docs/stable/user_guide/indexing.html#returning-a-view-versus-a-copy\n",
      "  df['cleaned1'].iloc[i] = cleaned_string\n"
     ]
    }
   ],
   "source": [
    "df_a['split_text'] = df_a.apply(lambda row: word_tokenize(row['tweet_text'],engine=\"newmm\",keep_whitespace=False), axis=1) #use this\n",
    "df_a['combined'] = [' '.join(lst) for lst in df_a['split_text']]\n",
    "df_a['cleaned'] = df_a['combined'].apply(deEmojify)\n",
    "df_a['cleaned'] = df_a['cleaned'].apply(stopwords_rm) #use in X\n",
    "#df_a['cleaned'] = normie(df_a)\n",
    "df_a['cleaned'] = alone(df_a)\n",
    "df_a['split_cleaned'] = df_a.apply(lambda row: word_tokenize(row['cleaned'],engine=\"newmm\",keep_whitespace=False), axis=1) #use in counting words\n",
    "\n",
    "#newmm cuts better than nemm-safe ศร, ีฯ ค่,ะ #attacut is virus\n",
    "#try other engine or break larger, add space in between  \n",
    "#df_a['split_text2'] = df_a.apply(lambda row: word_tokenize(row['tweet_text'],engine=\"newmm-safe\",keep_whitespace=False), axis=1)'''\n"
   ]
  },
  {
   "cell_type": "markdown",
   "metadata": {},
   "source": [
    "https://pythainlp.github.io/dev-docs/api/tokenize.html"
   ]
  },
  {
   "cell_type": "code",
   "execution_count": 9,
   "metadata": {},
   "outputs": [
    {
     "name": "stderr",
     "output_type": "stream",
     "text": [
      "C:\\Users\\mrbvb\\AppData\\Local\\Temp\\ipykernel_37228\\3348223842.py:8: SettingWithCopyWarning: \n",
      "A value is trying to be set on a copy of a slice from a DataFrame\n",
      "\n",
      "See the caveats in the documentation: https://pandas.pydata.org/pandas-docs/stable/user_guide/indexing.html#returning-a-view-versus-a-copy\n",
      "  df_a['contain_good'].iloc[i] = '0'\n",
      "C:\\Users\\mrbvb\\AppData\\Local\\Temp\\ipykernel_37228\\3348223842.py:6: SettingWithCopyWarning: \n",
      "A value is trying to be set on a copy of a slice from a DataFrame\n",
      "\n",
      "See the caveats in the documentation: https://pandas.pydata.org/pandas-docs/stable/user_guide/indexing.html#returning-a-view-versus-a-copy\n",
      "  df_a['contain_good'].iloc[i] = '1'\n",
      "C:\\Users\\mrbvb\\AppData\\Local\\Temp\\ipykernel_37228\\3348223842.py:14: SettingWithCopyWarning: \n",
      "A value is trying to be set on a copy of a slice from a DataFrame\n",
      "\n",
      "See the caveats in the documentation: https://pandas.pydata.org/pandas-docs/stable/user_guide/indexing.html#returning-a-view-versus-a-copy\n",
      "  df_a['contain_area'].iloc[i] = '0'\n",
      "C:\\Users\\mrbvb\\AppData\\Local\\Temp\\ipykernel_37228\\3348223842.py:12: SettingWithCopyWarning: \n",
      "A value is trying to be set on a copy of a slice from a DataFrame\n",
      "\n",
      "See the caveats in the documentation: https://pandas.pydata.org/pandas-docs/stable/user_guide/indexing.html#returning-a-view-versus-a-copy\n",
      "  df_a['contain_area'].iloc[i] = '1'\n"
     ]
    }
   ],
   "source": [
    "df_a['relevance_nlp'] = df_a['relevant'].apply(lambda x: 'relevant' if x else 'not relevant')\n",
    "df_a = df_a.dropna(subset=['tweet_text'])\n",
    "df_a['contain_area'],df_a['contain_good'] = '2','2'\n",
    "for i in range(df_a['split_cleaned'].shape[0]):\n",
    "    if 'ดี' in df_a['split_cleaned'].iloc[i]:\n",
    "        df_a['contain_good'].iloc[i] = '1'\n",
    "    else:\n",
    "        df_a['contain_good'].iloc[i] = '0'\n",
    "\n",
    "for i in range(df_a['split_cleaned'].shape[0]):\n",
    "    if 'พื้นที่' in df_a['split_cleaned'].iloc[i]:\n",
    "        df_a['contain_area'].iloc[i] = '1'\n",
    "    else:\n",
    "        df_a['contain_area'].iloc[i] = '0'\n",
    "df_a = df_a.dropna(subset=['tweet_text'])"
   ]
  },
  {
   "cell_type": "code",
   "execution_count": 10,
   "metadata": {},
   "outputs": [],
   "source": [
    "df_a['word_length'] = df_a['split_cleaned'].str.len()"
   ]
  },
  {
   "cell_type": "code",
   "execution_count": 11,
   "metadata": {},
   "outputs": [
    {
     "data": {
      "text/plain": [
       "2768    132\n",
       "2770     94\n",
       "2783     79\n",
       "2797     76\n",
       "2771     76\n",
       "       ... \n",
       "2524      4\n",
       "562       4\n",
       "2765      4\n",
       "2112      2\n",
       "2758      2\n",
       "Name: word_length, Length: 683, dtype: int64"
      ]
     },
     "execution_count": 11,
     "metadata": {},
     "output_type": "execute_result"
    }
   ],
   "source": [
    "df_a['word_length'].sort_values(ascending=False) "
   ]
  },
  {
   "cell_type": "code",
   "execution_count": 12,
   "metadata": {},
   "outputs": [
    {
     "data": {
      "text/html": [
       "<div>\n",
       "<style scoped>\n",
       "    .dataframe tbody tr th:only-of-type {\n",
       "        vertical-align: middle;\n",
       "    }\n",
       "\n",
       "    .dataframe tbody tr th {\n",
       "        vertical-align: top;\n",
       "    }\n",
       "\n",
       "    .dataframe thead th {\n",
       "        text-align: right;\n",
       "    }\n",
       "</style>\n",
       "<table border=\"1\" class=\"dataframe\">\n",
       "  <thead>\n",
       "    <tr style=\"text-align: right;\">\n",
       "      <th></th>\n",
       "      <th>index</th>\n",
       "      <th>username</th>\n",
       "      <th>tweet_id</th>\n",
       "      <th>tweet_text</th>\n",
       "      <th>translated_text</th>\n",
       "      <th>org_step_1</th>\n",
       "      <th>org_step_2</th>\n",
       "      <th>relevant</th>\n",
       "      <th>category</th>\n",
       "      <th>query</th>\n",
       "      <th>...</th>\n",
       "      <th>Chadchad</th>\n",
       "      <th>split_text</th>\n",
       "      <th>combined</th>\n",
       "      <th>cleaned</th>\n",
       "      <th>cleaned1</th>\n",
       "      <th>split_cleaned</th>\n",
       "      <th>relevance_nlp</th>\n",
       "      <th>contain_area</th>\n",
       "      <th>contain_good</th>\n",
       "      <th>word_length</th>\n",
       "    </tr>\n",
       "  </thead>\n",
       "  <tbody>\n",
       "    <tr>\n",
       "      <th>4</th>\n",
       "      <td>68</td>\n",
       "      <td>ssssxsaii</td>\n",
       "      <td>1.723592e+18</td>\n",
       "      <td>บรรทัดทองจะน่าเดินกว่านี้ถ้า\\r\\n-ทำทางเดินใหม่...</td>\n",
       "      <td>Banthat Thong would be more worth walking arou...</td>\n",
       "      <td>สนง.เทศกิจ</td>\n",
       "      <td>สนง.เทศกิจ</td>\n",
       "      <td>True</td>\n",
       "      <td>ทางเท้า</td>\n",
       "      <td>(\"ทางเท้า\" OR \"ทางเดิน\" OR \"ฟุตบาท\") AND (\"นคร...</td>\n",
       "      <td>...</td>\n",
       "      <td>no</td>\n",
       "      <td>[บรรทัด, ทอง, จะ, น่า, เดิน, กว่า, นี้, ถ้า, \\...</td>\n",
       "      <td>บรรทัด ทอง จะ น่า เดิน กว่า นี้ ถ้า \\r\\n - ทำ ...</td>\n",
       "      <td>บรรทัด ทอง เดิน ทำ ทางเดิน แผ่น พื้น กระดก ท่อ...</td>\n",
       "      <td>บรรทัด ทอง เดิน ทำ ทางเดิน แผ่น พื้น กระดก ท่อ...</td>\n",
       "      <td>[บรรทัด, ทอง, เดิน, ทำ, ทางเดิน, แผ่น, พื้น, ก...</td>\n",
       "      <td>relevant</td>\n",
       "      <td>0</td>\n",
       "      <td>0</td>\n",
       "      <td>30</td>\n",
       "    </tr>\n",
       "    <tr>\n",
       "      <th>5</th>\n",
       "      <td>79</td>\n",
       "      <td>Catter65422769</td>\n",
       "      <td>1.723250e+18</td>\n",
       "      <td>ความปลอดภัยของแทร่\\r\\n\\r\\nงานปรับปรุงทางเท้าให...</td>\n",
       "      <td>Tractor safety\\r\\n\\r\\nNew sidewalk improvement...</td>\n",
       "      <td>สนง.โยธา</td>\n",
       "      <td>สนง.โยธา</td>\n",
       "      <td>True</td>\n",
       "      <td>ทางเท้า</td>\n",
       "      <td>(\"ทางเท้า\" OR \"ทางเดิน\" OR \"ฟุตบาท\") AND (\"กรุ...</td>\n",
       "      <td>...</td>\n",
       "      <td>no</td>\n",
       "      <td>[ความปลอดภัย, ของ, แทร่, \\r\\n, \\r\\n, งาน, ปรับ...</td>\n",
       "      <td>ความปลอดภัย ของ แทร่ \\r\\n \\r\\n งาน ปรับปรุง ทา...</td>\n",
       "      <td>ความปลอดภัย แทร่ งาน ปรับปรุง ทางเท้า ถนน สุทธ...</td>\n",
       "      <td>ความปลอดภัย แทร่ งาน ปรับปรุง ทางเท้า ถนน สุทธ...</td>\n",
       "      <td>[ความปลอดภัย, แทร่, งาน, ปรับปรุง, ทางเท้า, ถน...</td>\n",
       "      <td>relevant</td>\n",
       "      <td>0</td>\n",
       "      <td>0</td>\n",
       "      <td>37</td>\n",
       "    </tr>\n",
       "    <tr>\n",
       "      <th>6</th>\n",
       "      <td>80</td>\n",
       "      <td>yakult_cool</td>\n",
       "      <td>1.723223e+18</td>\n",
       "      <td>เส้นสุขุมวิทเป็นอะไรที่WTF มาก เมื่อเช้าต้นสุข...</td>\n",
       "      <td>The Sukhumvit line is very WTF. This morning, ...</td>\n",
       "      <td>สนง.ตำรวจแห่งชาติ</td>\n",
       "      <td>สนง.ตำรวจแห่งชาติ</td>\n",
       "      <td>True</td>\n",
       "      <td>ทางเท้า</td>\n",
       "      <td>(\"ทางเท้า\" OR \"ทางเดิน\" OR \"ฟุตบาท\") AND (\"สาท...</td>\n",
       "      <td>...</td>\n",
       "      <td>no</td>\n",
       "      <td>[เส้น, สุขุมวิท, เป็น, อะไร, ที่, WTF, มาก, เม...</td>\n",
       "      <td>เส้น สุขุมวิท เป็น อะไร ที่ WTF มาก เมื่อเช้า ...</td>\n",
       "      <td>เส้น สุขุมวิท WTF ต้น สุขุมวิท เจอ เลน ซ้าย จอ...</td>\n",
       "      <td>เส้น สุขุมวิท WTF ต้น สุขุมวิท เจอ เลน ซ้าย จอ...</td>\n",
       "      <td>[เส้น, สุขุมวิท, WTF, ต้น, สุขุมวิท, เจอ, เลน,...</td>\n",
       "      <td>relevant</td>\n",
       "      <td>0</td>\n",
       "      <td>0</td>\n",
       "      <td>40</td>\n",
       "    </tr>\n",
       "    <tr>\n",
       "      <th>7</th>\n",
       "      <td>93</td>\n",
       "      <td>akdmaum</td>\n",
       "      <td>1.722924e+18</td>\n",
       "      <td>ฝนลงทุกวันในอาทิตย์ที่ฉันไม่มีรถแล้วต้องลงรถเม...</td>\n",
       "      <td>It rained every day of the week when I didn't ...</td>\n",
       "      <td>สนง.โยธา</td>\n",
       "      <td>สนง.โยธา</td>\n",
       "      <td>True</td>\n",
       "      <td>ทางเท้า</td>\n",
       "      <td>(\"ทางเท้า\" OR \"ทางเดิน\" OR \"ฟุตบาท\") AND (\"อนุ...</td>\n",
       "      <td>...</td>\n",
       "      <td>no</td>\n",
       "      <td>[ฝน, ลง, ทุกวัน, ใน, อาทิตย์, ที่, ฉัน, ไม่, ม...</td>\n",
       "      <td>ฝน ลง ทุกวัน ใน อาทิตย์ ที่ ฉัน ไม่ มี รถ แล้ว...</td>\n",
       "      <td>ฝน อาทิตย์ รถ ลงรถ เม เดิน ร้าน ทางเดิน อุดม ส...</td>\n",
       "      <td>ฝน อาทิตย์ รถ ลงรถ เม เดิน ร้าน ทางเดิน อุดม ส...</td>\n",
       "      <td>[ฝน, อาทิตย์, รถ, ลงรถ, เม, เดิน, ร้าน, ทางเดิ...</td>\n",
       "      <td>relevant</td>\n",
       "      <td>0</td>\n",
       "      <td>0</td>\n",
       "      <td>13</td>\n",
       "    </tr>\n",
       "    <tr>\n",
       "      <th>8</th>\n",
       "      <td>98</td>\n",
       "      <td>Sirilapas_mfp</td>\n",
       "      <td>1.722825e+18</td>\n",
       "      <td>ประสานงานแก้ไขสำเร็จ\\r\\n\\r\\nหลังจากได้รับแจ้งจ...</td>\n",
       "      <td>Successfully coordinated corrections\\r\\n\\r\\nAf...</td>\n",
       "      <td>สนง.โยธา</td>\n",
       "      <td>สนง.โยธา</td>\n",
       "      <td>True</td>\n",
       "      <td>ทางเท้า</td>\n",
       "      <td>(\"ทางเท้า\" OR \"ทางเดิน\" OR \"ฟุตบาท\") AND (\"ราช...</td>\n",
       "      <td>...</td>\n",
       "      <td>no</td>\n",
       "      <td>[ประสานงาน, แก้ไข, สำเร็จ, \\r\\n, \\r\\n, หลังจาก...</td>\n",
       "      <td>ประสานงาน แก้ไข สำเร็จ \\r\\n \\r\\n หลังจาก ได้รั...</td>\n",
       "      <td>ประสานงาน สำเร็จ แจ้ง ประชาชน พื้น สิ่งของ ล้ำ...</td>\n",
       "      <td>ประสานงาน สำเร็จ แจ้ง ประชาชน พื้น สิ่งของ ล้ำ...</td>\n",
       "      <td>[ประสานงาน, สำเร็จ, แจ้ง, ประชาชน, พื้น, สิ่งข...</td>\n",
       "      <td>relevant</td>\n",
       "      <td>0</td>\n",
       "      <td>0</td>\n",
       "      <td>20</td>\n",
       "    </tr>\n",
       "    <tr>\n",
       "      <th>...</th>\n",
       "      <td>...</td>\n",
       "      <td>...</td>\n",
       "      <td>...</td>\n",
       "      <td>...</td>\n",
       "      <td>...</td>\n",
       "      <td>...</td>\n",
       "      <td>...</td>\n",
       "      <td>...</td>\n",
       "      <td>...</td>\n",
       "      <td>...</td>\n",
       "      <td>...</td>\n",
       "      <td>...</td>\n",
       "      <td>...</td>\n",
       "      <td>...</td>\n",
       "      <td>...</td>\n",
       "      <td>...</td>\n",
       "      <td>...</td>\n",
       "      <td>...</td>\n",
       "      <td>...</td>\n",
       "      <td>...</td>\n",
       "      <td>...</td>\n",
       "    </tr>\n",
       "    <tr>\n",
       "      <th>199</th>\n",
       "      <td>0245</td>\n",
       "      <td>Aekvarunyoo</td>\n",
       "      <td>1.717790e+18</td>\n",
       "      <td>#กรุงเทพ จับมือภาคีรื้อสายสื่อสารกลางเมือง  เร...</td>\n",
       "      <td>#Bangkok joins hands with partners to dismantl...</td>\n",
       "      <td>NaN</td>\n",
       "      <td>NaN</td>\n",
       "      <td>False</td>\n",
       "      <td>ทางเท้า</td>\n",
       "      <td>(\"ทางเท้า\" OR \"ทางเดิน\" OR \"ฟุตบาท\") AND (\"กรุ...</td>\n",
       "      <td>...</td>\n",
       "      <td>no</td>\n",
       "      <td>[#, กรุงเทพ, จับมือ, ภาคี, รื้อ, สาย, สื่อสาร,...</td>\n",
       "      <td># กรุงเทพ จับมือ ภาคี รื้อ สาย สื่อสาร กลางเมื...</td>\n",
       "      <td>กรุงเทพ จับมือ ภาคี รื้อ สาย สื่อสาร กลางเมือง...</td>\n",
       "      <td>กรุงเทพ จับมือ ภาคี รื้อ สาย สื่อสาร กลางเมือง...</td>\n",
       "      <td>[กรุงเทพ, จับมือ, ภาคี, รื้อ, สาย, สื่อสาร, กล...</td>\n",
       "      <td>not relevant</td>\n",
       "      <td>0</td>\n",
       "      <td>0</td>\n",
       "      <td>34</td>\n",
       "    </tr>\n",
       "    <tr>\n",
       "      <th>2015</th>\n",
       "      <td>1760</td>\n",
       "      <td>kitxti_xix</td>\n",
       "      <td>1.690000e+18</td>\n",
       "      <td>กทม.LIVE โชว์ผลงานปรับปรุงทางเดินบริเวณโดยรอบศ...</td>\n",
       "      <td>Bangkok LIVE showcases work on improving the w...</td>\n",
       "      <td>NaN</td>\n",
       "      <td>NaN</td>\n",
       "      <td>False</td>\n",
       "      <td>ทางเท้า</td>\n",
       "      <td>(\"ทางเท้า\" OR \"ทางเดิน\" OR \"ฟุตบาท\") AND (\"กรุ...</td>\n",
       "      <td>...</td>\n",
       "      <td>no</td>\n",
       "      <td>[กทม., LIVE, โชว์, ผลงาน, ปรับปรุง, ทางเดิน, บ...</td>\n",
       "      <td>กทม. LIVE โชว์ ผลงาน ปรับปรุง ทางเดิน บริเวณ โ...</td>\n",
       "      <td>กทม. LIVE โชว์ ผลงาน ปรับปรุง ทางเดิน บริเวณ โ...</td>\n",
       "      <td>กทม. LIVE โชว์ ผลงาน ปรับปรุง ทางเดิน บริเวณ โ...</td>\n",
       "      <td>[กทม., LIVE, โชว์, ผลงาน, ปรับปรุง, ทางเดิน, บ...</td>\n",
       "      <td>not relevant</td>\n",
       "      <td>0</td>\n",
       "      <td>0</td>\n",
       "      <td>34</td>\n",
       "    </tr>\n",
       "    <tr>\n",
       "      <th>590</th>\n",
       "      <td>62</td>\n",
       "      <td>NiannianY</td>\n",
       "      <td>1.760000e+18</td>\n",
       "      <td>15.2.24 \\r\\n1955 ถนนรัชดา ตลาดนัด\\r\\n2007 แยกอ...</td>\n",
       "      <td>15.2.24\\r\\n1955 Ratchada Road Talat\\r\\n2007 As...</td>\n",
       "      <td>NaN</td>\n",
       "      <td>NaN</td>\n",
       "      <td>False</td>\n",
       "      <td>ทางเท้า</td>\n",
       "      <td>(\"ทางเท้า\" OR \"ทางเดิน\" OR \"ฟุตบาท\") AND (\"นคร...</td>\n",
       "      <td>...</td>\n",
       "      <td>no</td>\n",
       "      <td>[15.2.24, \\r\\n, 1955, ถนน, รัชดา, ตลาดนัด, \\r\\...</td>\n",
       "      <td>15.2.24 \\r\\n 1955 ถนน รัชดา ตลาดนัด \\r\\n 2007 ...</td>\n",
       "      <td>15.2.24 1955 ถนน รัชดา ตลาดนัด 2007 แยก อโศก ค...</td>\n",
       "      <td>15.2.24 1955 ถนน รัชดา ตลาดนัด 2007 แยก อโศก ค...</td>\n",
       "      <td>[15.2.24, 1955, ถนน, รัชดา, ตลาดนัด, 2007, แยก...</td>\n",
       "      <td>not relevant</td>\n",
       "      <td>0</td>\n",
       "      <td>0</td>\n",
       "      <td>32</td>\n",
       "    </tr>\n",
       "    <tr>\n",
       "      <th>643</th>\n",
       "      <td>115</td>\n",
       "      <td>IcePrapapan</td>\n",
       "      <td>1.760000e+18</td>\n",
       "      <td>พวกเรามันคนแกร่ง 55555 สภาพแบบหย่อนรองเท้าลงฟุ...</td>\n",
       "      <td>We are strong people. Haha. The situation of d...</td>\n",
       "      <td>NaN</td>\n",
       "      <td>NaN</td>\n",
       "      <td>False</td>\n",
       "      <td>ทางเท้า</td>\n",
       "      <td>(\"ทางเท้า\" OR \"ทางเดิน\" OR \"ฟุตบาท\") AND (\"กรุ...</td>\n",
       "      <td>...</td>\n",
       "      <td>no</td>\n",
       "      <td>[พวกเรา, มัน, คน, แกร่ง, 55555, สภาพ, แบบ, หย่...</td>\n",
       "      <td>พวกเรา มัน คน แกร่ง 55555 สภาพ แบบ หย่อน รองเท...</td>\n",
       "      <td>พวกเรา คน แกร่ง 55555 สภาพ หย่อน รองเท้า ฟุตบา...</td>\n",
       "      <td>พวกเรา คน แกร่ง 55555 สภาพ หย่อน รองเท้า ฟุตบา...</td>\n",
       "      <td>[พวกเรา, คน, แกร่ง, 55555, สภาพ, หย่อน, รองเท้...</td>\n",
       "      <td>not relevant</td>\n",
       "      <td>0</td>\n",
       "      <td>0</td>\n",
       "      <td>25</td>\n",
       "    </tr>\n",
       "    <tr>\n",
       "      <th>2949</th>\n",
       "      <td>2701</td>\n",
       "      <td>yournitenight</td>\n",
       "      <td>1.670000e+18</td>\n",
       "      <td>ประเด็นหลักที่หลายคนรู้แล้วโกรธก็คือตอนทุกคนวิ...</td>\n",
       "      <td>The main point that many people were angry abo...</td>\n",
       "      <td>NaN</td>\n",
       "      <td>NaN</td>\n",
       "      <td>False</td>\n",
       "      <td>ทางเท้า</td>\n",
       "      <td>(\"ทางเท้า\" OR \"ทางเดิน\" OR \"ฟุตบาท\") AND (\"กรุ...</td>\n",
       "      <td>...</td>\n",
       "      <td>no</td>\n",
       "      <td>[ประเด็นหลัก, ที่, หลาย, คน, รู้, แล้ว, โกรธ, ...</td>\n",
       "      <td>ประเด็นหลัก ที่ หลาย คน รู้ แล้ว โกรธ ก็ คือ ต...</td>\n",
       "      <td>ประเด็นหลัก คน รู้ โกรธ ตอน วิ่งหนี สะดุด หิน ...</td>\n",
       "      <td>ประเด็นหลัก คน รู้ โกรธ ตอน วิ่งหนี สะดุด หิน ...</td>\n",
       "      <td>[ประเด็นหลัก, คน, รู้, โกรธ, ตอน, วิ่งหนี, สะด...</td>\n",
       "      <td>not relevant</td>\n",
       "      <td>0</td>\n",
       "      <td>1</td>\n",
       "      <td>26</td>\n",
       "    </tr>\n",
       "  </tbody>\n",
       "</table>\n",
       "<p>683 rows × 26 columns</p>\n",
       "</div>"
      ],
      "text/plain": [
       "     index        username      tweet_id  \\\n",
       "4       68       ssssxsaii  1.723592e+18   \n",
       "5       79  Catter65422769  1.723250e+18   \n",
       "6       80     yakult_cool  1.723223e+18   \n",
       "7       93         akdmaum  1.722924e+18   \n",
       "8       98   Sirilapas_mfp  1.722825e+18   \n",
       "...    ...             ...           ...   \n",
       "199   0245     Aekvarunyoo  1.717790e+18   \n",
       "2015  1760      kitxti_xix  1.690000e+18   \n",
       "590     62       NiannianY  1.760000e+18   \n",
       "643    115     IcePrapapan  1.760000e+18   \n",
       "2949  2701   yournitenight  1.670000e+18   \n",
       "\n",
       "                                             tweet_text  \\\n",
       "4     บรรทัดทองจะน่าเดินกว่านี้ถ้า\\r\\n-ทำทางเดินใหม่...   \n",
       "5     ความปลอดภัยของแทร่\\r\\n\\r\\nงานปรับปรุงทางเท้าให...   \n",
       "6     เส้นสุขุมวิทเป็นอะไรที่WTF มาก เมื่อเช้าต้นสุข...   \n",
       "7     ฝนลงทุกวันในอาทิตย์ที่ฉันไม่มีรถแล้วต้องลงรถเม...   \n",
       "8     ประสานงานแก้ไขสำเร็จ\\r\\n\\r\\nหลังจากได้รับแจ้งจ...   \n",
       "...                                                 ...   \n",
       "199   #กรุงเทพ จับมือภาคีรื้อสายสื่อสารกลางเมือง  เร...   \n",
       "2015  กทม.LIVE โชว์ผลงานปรับปรุงทางเดินบริเวณโดยรอบศ...   \n",
       "590   15.2.24 \\r\\n1955 ถนนรัชดา ตลาดนัด\\r\\n2007 แยกอ...   \n",
       "643   พวกเรามันคนแกร่ง 55555 สภาพแบบหย่อนรองเท้าลงฟุ...   \n",
       "2949  ประเด็นหลักที่หลายคนรู้แล้วโกรธก็คือตอนทุกคนวิ...   \n",
       "\n",
       "                                        translated_text         org_step_1  \\\n",
       "4     Banthat Thong would be more worth walking arou...         สนง.เทศกิจ   \n",
       "5     Tractor safety\\r\\n\\r\\nNew sidewalk improvement...           สนง.โยธา   \n",
       "6     The Sukhumvit line is very WTF. This morning, ...  สนง.ตำรวจแห่งชาติ   \n",
       "7     It rained every day of the week when I didn't ...           สนง.โยธา   \n",
       "8     Successfully coordinated corrections\\r\\n\\r\\nAf...           สนง.โยธา   \n",
       "...                                                 ...                ...   \n",
       "199   #Bangkok joins hands with partners to dismantl...                NaN   \n",
       "2015  Bangkok LIVE showcases work on improving the w...                NaN   \n",
       "590   15.2.24\\r\\n1955 Ratchada Road Talat\\r\\n2007 As...                NaN   \n",
       "643   We are strong people. Haha. The situation of d...                NaN   \n",
       "2949  The main point that many people were angry abo...                NaN   \n",
       "\n",
       "             org_step_2  relevant category  \\\n",
       "4            สนง.เทศกิจ      True  ทางเท้า   \n",
       "5              สนง.โยธา      True  ทางเท้า   \n",
       "6     สนง.ตำรวจแห่งชาติ      True  ทางเท้า   \n",
       "7              สนง.โยธา      True  ทางเท้า   \n",
       "8              สนง.โยธา      True  ทางเท้า   \n",
       "...                 ...       ...      ...   \n",
       "199                 NaN     False  ทางเท้า   \n",
       "2015                NaN     False  ทางเท้า   \n",
       "590                 NaN     False  ทางเท้า   \n",
       "643                 NaN     False  ทางเท้า   \n",
       "2949                NaN     False  ทางเท้า   \n",
       "\n",
       "                                                  query  ... Chadchad  \\\n",
       "4     (\"ทางเท้า\" OR \"ทางเดิน\" OR \"ฟุตบาท\") AND (\"นคร...  ...       no   \n",
       "5     (\"ทางเท้า\" OR \"ทางเดิน\" OR \"ฟุตบาท\") AND (\"กรุ...  ...       no   \n",
       "6     (\"ทางเท้า\" OR \"ทางเดิน\" OR \"ฟุตบาท\") AND (\"สาท...  ...       no   \n",
       "7     (\"ทางเท้า\" OR \"ทางเดิน\" OR \"ฟุตบาท\") AND (\"อนุ...  ...       no   \n",
       "8     (\"ทางเท้า\" OR \"ทางเดิน\" OR \"ฟุตบาท\") AND (\"ราช...  ...       no   \n",
       "...                                                 ...  ...      ...   \n",
       "199   (\"ทางเท้า\" OR \"ทางเดิน\" OR \"ฟุตบาท\") AND (\"กรุ...  ...       no   \n",
       "2015  (\"ทางเท้า\" OR \"ทางเดิน\" OR \"ฟุตบาท\") AND (\"กรุ...  ...       no   \n",
       "590   (\"ทางเท้า\" OR \"ทางเดิน\" OR \"ฟุตบาท\") AND (\"นคร...  ...       no   \n",
       "643   (\"ทางเท้า\" OR \"ทางเดิน\" OR \"ฟุตบาท\") AND (\"กรุ...  ...       no   \n",
       "2949  (\"ทางเท้า\" OR \"ทางเดิน\" OR \"ฟุตบาท\") AND (\"กรุ...  ...       no   \n",
       "\n",
       "                                             split_text  \\\n",
       "4     [บรรทัด, ทอง, จะ, น่า, เดิน, กว่า, นี้, ถ้า, \\...   \n",
       "5     [ความปลอดภัย, ของ, แทร่, \\r\\n, \\r\\n, งาน, ปรับ...   \n",
       "6     [เส้น, สุขุมวิท, เป็น, อะไร, ที่, WTF, มาก, เม...   \n",
       "7     [ฝน, ลง, ทุกวัน, ใน, อาทิตย์, ที่, ฉัน, ไม่, ม...   \n",
       "8     [ประสานงาน, แก้ไข, สำเร็จ, \\r\\n, \\r\\n, หลังจาก...   \n",
       "...                                                 ...   \n",
       "199   [#, กรุงเทพ, จับมือ, ภาคี, รื้อ, สาย, สื่อสาร,...   \n",
       "2015  [กทม., LIVE, โชว์, ผลงาน, ปรับปรุง, ทางเดิน, บ...   \n",
       "590   [15.2.24, \\r\\n, 1955, ถนน, รัชดา, ตลาดนัด, \\r\\...   \n",
       "643   [พวกเรา, มัน, คน, แกร่ง, 55555, สภาพ, แบบ, หย่...   \n",
       "2949  [ประเด็นหลัก, ที่, หลาย, คน, รู้, แล้ว, โกรธ, ...   \n",
       "\n",
       "                                               combined  \\\n",
       "4     บรรทัด ทอง จะ น่า เดิน กว่า นี้ ถ้า \\r\\n - ทำ ...   \n",
       "5     ความปลอดภัย ของ แทร่ \\r\\n \\r\\n งาน ปรับปรุง ทา...   \n",
       "6     เส้น สุขุมวิท เป็น อะไร ที่ WTF มาก เมื่อเช้า ...   \n",
       "7     ฝน ลง ทุกวัน ใน อาทิตย์ ที่ ฉัน ไม่ มี รถ แล้ว...   \n",
       "8     ประสานงาน แก้ไข สำเร็จ \\r\\n \\r\\n หลังจาก ได้รั...   \n",
       "...                                                 ...   \n",
       "199   # กรุงเทพ จับมือ ภาคี รื้อ สาย สื่อสาร กลางเมื...   \n",
       "2015  กทม. LIVE โชว์ ผลงาน ปรับปรุง ทางเดิน บริเวณ โ...   \n",
       "590   15.2.24 \\r\\n 1955 ถนน รัชดา ตลาดนัด \\r\\n 2007 ...   \n",
       "643   พวกเรา มัน คน แกร่ง 55555 สภาพ แบบ หย่อน รองเท...   \n",
       "2949  ประเด็นหลัก ที่ หลาย คน รู้ แล้ว โกรธ ก็ คือ ต...   \n",
       "\n",
       "                                                cleaned  \\\n",
       "4     บรรทัด ทอง เดิน ทำ ทางเดิน แผ่น พื้น กระดก ท่อ...   \n",
       "5     ความปลอดภัย แทร่ งาน ปรับปรุง ทางเท้า ถนน สุทธ...   \n",
       "6     เส้น สุขุมวิท WTF ต้น สุขุมวิท เจอ เลน ซ้าย จอ...   \n",
       "7     ฝน อาทิตย์ รถ ลงรถ เม เดิน ร้าน ทางเดิน อุดม ส...   \n",
       "8     ประสานงาน สำเร็จ แจ้ง ประชาชน พื้น สิ่งของ ล้ำ...   \n",
       "...                                                 ...   \n",
       "199   กรุงเทพ จับมือ ภาคี รื้อ สาย สื่อสาร กลางเมือง...   \n",
       "2015  กทม. LIVE โชว์ ผลงาน ปรับปรุง ทางเดิน บริเวณ โ...   \n",
       "590   15.2.24 1955 ถนน รัชดา ตลาดนัด 2007 แยก อโศก ค...   \n",
       "643   พวกเรา คน แกร่ง 55555 สภาพ หย่อน รองเท้า ฟุตบา...   \n",
       "2949  ประเด็นหลัก คน รู้ โกรธ ตอน วิ่งหนี สะดุด หิน ...   \n",
       "\n",
       "                                               cleaned1  \\\n",
       "4     บรรทัด ทอง เดิน ทำ ทางเดิน แผ่น พื้น กระดก ท่อ...   \n",
       "5     ความปลอดภัย แทร่ งาน ปรับปรุง ทางเท้า ถนน สุทธ...   \n",
       "6     เส้น สุขุมวิท WTF ต้น สุขุมวิท เจอ เลน ซ้าย จอ...   \n",
       "7     ฝน อาทิตย์ รถ ลงรถ เม เดิน ร้าน ทางเดิน อุดม ส...   \n",
       "8     ประสานงาน สำเร็จ แจ้ง ประชาชน พื้น สิ่งของ ล้ำ...   \n",
       "...                                                 ...   \n",
       "199   กรุงเทพ จับมือ ภาคี รื้อ สาย สื่อสาร กลางเมือง...   \n",
       "2015  กทม. LIVE โชว์ ผลงาน ปรับปรุง ทางเดิน บริเวณ โ...   \n",
       "590   15.2.24 1955 ถนน รัชดา ตลาดนัด 2007 แยก อโศก ค...   \n",
       "643   พวกเรา คน แกร่ง 55555 สภาพ หย่อน รองเท้า ฟุตบา...   \n",
       "2949  ประเด็นหลัก คน รู้ โกรธ ตอน วิ่งหนี สะดุด หิน ...   \n",
       "\n",
       "                                          split_cleaned relevance_nlp  \\\n",
       "4     [บรรทัด, ทอง, เดิน, ทำ, ทางเดิน, แผ่น, พื้น, ก...      relevant   \n",
       "5     [ความปลอดภัย, แทร่, งาน, ปรับปรุง, ทางเท้า, ถน...      relevant   \n",
       "6     [เส้น, สุขุมวิท, WTF, ต้น, สุขุมวิท, เจอ, เลน,...      relevant   \n",
       "7     [ฝน, อาทิตย์, รถ, ลงรถ, เม, เดิน, ร้าน, ทางเดิ...      relevant   \n",
       "8     [ประสานงาน, สำเร็จ, แจ้ง, ประชาชน, พื้น, สิ่งข...      relevant   \n",
       "...                                                 ...           ...   \n",
       "199   [กรุงเทพ, จับมือ, ภาคี, รื้อ, สาย, สื่อสาร, กล...  not relevant   \n",
       "2015  [กทม., LIVE, โชว์, ผลงาน, ปรับปรุง, ทางเดิน, บ...  not relevant   \n",
       "590   [15.2.24, 1955, ถนน, รัชดา, ตลาดนัด, 2007, แยก...  not relevant   \n",
       "643   [พวกเรา, คน, แกร่ง, 55555, สภาพ, หย่อน, รองเท้...  not relevant   \n",
       "2949  [ประเด็นหลัก, คน, รู้, โกรธ, ตอน, วิ่งหนี, สะด...  not relevant   \n",
       "\n",
       "     contain_area contain_good word_length  \n",
       "4               0            0          30  \n",
       "5               0            0          37  \n",
       "6               0            0          40  \n",
       "7               0            0          13  \n",
       "8               0            0          20  \n",
       "...           ...          ...         ...  \n",
       "199             0            0          34  \n",
       "2015            0            0          34  \n",
       "590             0            0          32  \n",
       "643             0            0          25  \n",
       "2949            0            1          26  \n",
       "\n",
       "[683 rows x 26 columns]"
      ]
     },
     "execution_count": 12,
     "metadata": {},
     "output_type": "execute_result"
    }
   ],
   "source": [
    "df_a\n"
   ]
  },
  {
   "cell_type": "markdown",
   "metadata": {},
   "source": [
    "Optuna"
   ]
  },
  {
   "cell_type": "code",
   "execution_count": 7,
   "metadata": {},
   "outputs": [
    {
     "ename": "NameError",
     "evalue": "name 'df_a' is not defined",
     "output_type": "error",
     "traceback": [
      "\u001b[1;31m---------------------------------------------------------------------------\u001b[0m",
      "\u001b[1;31mNameError\u001b[0m                                 Traceback (most recent call last)",
      "Cell \u001b[1;32mIn[7], line 23\u001b[0m\n\u001b[0;32m     18\u001b[0m \u001b[38;5;66;03m#EMBEDDING_DIM = 100\u001b[39;00m\n\u001b[0;32m     19\u001b[0m \u001b[38;5;66;03m#epochs = 50\u001b[39;00m\n\u001b[0;32m     20\u001b[0m \u001b[38;5;66;03m#batch_size = 32\u001b[39;00m\n\u001b[0;32m     22\u001b[0m tokenizer \u001b[38;5;241m=\u001b[39m Tokenizer(num_words\u001b[38;5;241m=\u001b[39mMAX_WORDS, filters\u001b[38;5;241m=\u001b[39m\u001b[38;5;124m'\u001b[39m\u001b[38;5;124m!\u001b[39m\u001b[38;5;124m\"\u001b[39m\u001b[38;5;124m#$\u001b[39m\u001b[38;5;124m%\u001b[39m\u001b[38;5;124m&()*+,-./:;<=>?@[\u001b[39m\u001b[38;5;124m\\\u001b[39m\u001b[38;5;124m]^_`\u001b[39m\u001b[38;5;124m{\u001b[39m\u001b[38;5;124m|}~\u001b[39m\u001b[38;5;124m'\u001b[39m)\n\u001b[1;32m---> 23\u001b[0m tokenizer\u001b[38;5;241m.\u001b[39mfit_on_texts(\u001b[43mdf_a\u001b[49m\u001b[38;5;241m.\u001b[39mcleaned\u001b[38;5;241m.\u001b[39mvalues)\n\u001b[0;32m     24\u001b[0m word_index \u001b[38;5;241m=\u001b[39m tokenizer\u001b[38;5;241m.\u001b[39mword_index\n\u001b[0;32m     25\u001b[0m X \u001b[38;5;241m=\u001b[39m tokenizer\u001b[38;5;241m.\u001b[39mtexts_to_sequences(df_a\u001b[38;5;241m.\u001b[39mcleaned\u001b[38;5;241m.\u001b[39mvalues)\n",
      "\u001b[1;31mNameError\u001b[0m: name 'df_a' is not defined"
     ]
    }
   ],
   "source": [
    "import numpy as np\n",
    "from sklearn.model_selection import GridSearchCV, train_test_split\n",
    "from sklearn.preprocessing import LabelEncoder\n",
    "#from scikeras.wrappers.scikit_learn import KerasClassifier #comes with GridSearch\n",
    "from scikeras.wrappers import KerasClassifier\n",
    "from sklearn.base import BaseEstimator\n",
    "from keras import backend as K\n",
    "from keras.models import Sequential\n",
    "from tensorflow.keras.preprocessing.text import Tokenizer\n",
    "from keras.preprocessing.sequence import pad_sequences\n",
    "from keras.layers import Embedding, SpatialDropout1D, Dense, Bidirectional, LSTM\n",
    "from keras.callbacks import EarlyStopping\n",
    "from keras.optimizers import Adam\n",
    "\n",
    "\n",
    "MAX_WORDS = 3500  # Memorized words\n",
    "MAX_SEQUENCE_LENGTH = 132 \n",
    "#EMBEDDING_DIM = 100\n",
    "#epochs = 50\n",
    "#batch_size = 32\n",
    "\n",
    "tokenizer = Tokenizer(num_words=MAX_WORDS, filters='!\"#$%&()*+,-./:;<=>?@[\\]^_`{|}~')\n",
    "tokenizer.fit_on_texts(df_a.cleaned.values)\n",
    "word_index = tokenizer.word_index\n",
    "X = tokenizer.texts_to_sequences(df_a.cleaned.values)\n",
    "X = pad_sequences(X, maxlen=MAX_SEQUENCE_LENGTH)\n",
    "\n",
    "# Addding Pau anal---------\n",
    "\n",
    "contain_good = df_a['contain_good'].to_numpy()\n",
    "good_reshaped = np.reshape(contain_good, (contain_good.shape[0], 1))\n",
    "good_reshaped = [int(x) for n in range(int(df_a.shape[0]))for x in good_reshaped[n][0]] #list in int \n",
    "np_good = np.array(good_reshaped)\n",
    "good_reshaped = np.reshape(np_good, (np_good.shape[0], 1))\n",
    "\n",
    "contain_area = df_a['contain_area'].to_numpy()\n",
    "area_reshaped = np.reshape(contain_area, (contain_area.shape[0], 1))\n",
    "area_reshaped = [int(x) for n in range(int(df_a.shape[0]))for x in area_reshaped[n][0]] #list in int \n",
    "np_area = np.array(area_reshaped)\n",
    "area_reshaped = np.reshape(np_good, (np_good.shape[0], 1))\n",
    "\n",
    "# Use np.hstack to append new column to the right\n",
    "X = np.hstack((X, good_reshaped))\n",
    "X = np.hstack((X, area_reshaped))\n",
    "\n",
    "# Ending Pau anal------\n",
    "\n",
    "label_encoder = LabelEncoder()\n",
    "Y = label_encoder.fit_transform(df_a['relevance_nlp'].values)\n",
    "X_train, X_test, Y_train, Y_test = train_test_split(X,Y, test_size = 0.20, random_state = 42)\n"
   ]
  },
  {
   "cell_type": "code",
   "execution_count": 14,
   "metadata": {},
   "outputs": [],
   "source": [
    "def recall_m(y_true, y_pred):\n",
    "    true_positives = K.sum(K.round(K.clip(y_true * y_pred, 0, 1)))\n",
    "    possible_positives = K.sum(K.round(K.clip(y_true, 0, 1)))\n",
    "    recall = true_positives / (possible_positives + K.epsilon())\n",
    "    return recall\n",
    "\n",
    "def precision_m(y_true, y_pred):\n",
    "    true_positives = K.sum(K.round(K.clip(y_true * y_pred, 0, 1)))\n",
    "    predicted_positives = K.sum(K.round(K.clip(y_pred, 0, 1)))\n",
    "    precision = true_positives / (predicted_positives + K.epsilon())\n",
    "    return precision\n",
    "\n",
    "def f1_m(y_true, y_pred):\n",
    "    precision = precision_m(y_true, y_pred)\n",
    "    recall = recall_m(y_true, y_pred)\n",
    "    return 2*((precision*recall)/(precision+recall+K.epsilon()))"
   ]
  },
  {
   "cell_type": "code",
   "execution_count": 1,
   "metadata": {},
   "outputs": [],
   "source": [
    "import pickle\n",
    "\n",
    "# Load the data from the file\n",
    "with open('./train_test_data.pkl', 'rb') as f:\n",
    "    X_train, X_test, Y_train, Y_test = pickle.load(f)"
   ]
  },
  {
   "cell_type": "code",
   "execution_count": 8,
   "metadata": {},
   "outputs": [],
   "source": [
    "import numpy as np\n",
    "from sklearn.model_selection import GridSearchCV, train_test_split\n",
    "from sklearn.preprocessing import LabelEncoder\n",
    "#from scikeras.wrappers.scikit_learn import KerasClassifier #comes with GridSearch\n",
    "from scikeras.wrappers import KerasClassifier\n",
    "from sklearn.base import BaseEstimator\n",
    "from keras import backend as K\n",
    "from keras.models import Sequential\n",
    "from tensorflow.keras.preprocessing.text import Tokenizer\n",
    "from keras.preprocessing.sequence import pad_sequences\n",
    "from keras.layers import Embedding, SpatialDropout1D, Dense, Bidirectional, LSTM\n",
    "from keras.callbacks import EarlyStopping\n",
    "from keras.optimizers import Adam"
   ]
  },
  {
   "cell_type": "code",
   "execution_count": 9,
   "metadata": {},
   "outputs": [
    {
     "name": "stderr",
     "output_type": "stream",
     "text": [
      "[I 2024-04-30 16:59:55,316] A new study created in memory with name: no-name-45ee3d39-ca0e-4b3c-8360-414845c1727c\n"
     ]
    },
    {
     "name": "stdout",
     "output_type": "stream",
     "text": [
      "objectiving\n",
      "kw {}\n",
      "kw {}\n",
      "create mod: d_rate 0.196550107176308 d_rate2  0.055573261026230995 LSTM  256 dim  100 lr  0.0008916015412771673\n",
      "Epoch 1/10\n"
     ]
    },
    {
     "name": "stderr",
     "output_type": "stream",
     "text": [
      "C:\\Users\\mrbvb\\AppData\\Local\\Temp\\ipykernel_26724\\2049930526.py:63: FutureWarning: suggest_uniform has been deprecated in v3.0.0. This feature will be removed in v6.0.0. See https://github.com/optuna/optuna/releases/tag/v3.0.0. Use suggest_float instead.\n",
      "  dropout_rate = trial.suggest_uniform('dropout_rate', 0.05, 0.3) #value should be from small to large only\n",
      "C:\\Users\\mrbvb\\AppData\\Local\\Temp\\ipykernel_26724\\2049930526.py:64: FutureWarning: suggest_uniform has been deprecated in v3.0.0. This feature will be removed in v6.0.0. See https://github.com/optuna/optuna/releases/tag/v3.0.0. Use suggest_float instead.\n",
      "  dropout_rate2 = trial.suggest_uniform('dropout_rate2', 0.05, 0.1)\n",
      "C:\\Users\\mrbvb\\AppData\\Local\\Temp\\ipykernel_26724\\2049930526.py:67: FutureWarning: suggest_loguniform has been deprecated in v3.0.0. This feature will be removed in v6.0.0. See https://github.com/optuna/optuna/releases/tag/v3.0.0. Use suggest_float(..., log=True) instead.\n",
      "  learning_rate = trial.suggest_loguniform('learning_rate', 1e-6, 1e-3)\n",
      "C:\\Users\\mrbvb\\AppData\\Local\\Temp\\ipykernel_26724\\2049930526.py:16: FutureWarning: suggest_uniform has been deprecated in v3.0.0. This feature will be removed in v6.0.0. See https://github.com/optuna/optuna/releases/tag/v3.0.0. Use suggest_float instead.\n",
      "  dropout_rate = trial.suggest_uniform('dropout_rate', 0.09, 0.3)\n",
      "c:\\Users\\mrbvb\\AppData\\Local\\Programs\\Python\\Python311\\Lib\\site-packages\\optuna\\trial\\_trial.py:676: RuntimeWarning: Inconsistent parameter values for distribution with name \"dropout_rate\"! This might be a configuration mistake. Optuna allows to call the same distribution with the same name more than once in a trial. When the parameter values are inconsistent optuna only uses the values of the first call and ignores all following. Using these values: {'step': None, 'low': 0.05, 'high': 0.3, 'log': False}\n",
      "  warnings.warn(\n",
      "C:\\Users\\mrbvb\\AppData\\Local\\Temp\\ipykernel_26724\\2049930526.py:17: FutureWarning: suggest_uniform has been deprecated in v3.0.0. This feature will be removed in v6.0.0. See https://github.com/optuna/optuna/releases/tag/v3.0.0. Use suggest_float instead.\n",
      "  dropout_rate2 = trial.suggest_uniform('dropout_rate2', 0.05, 0.2)\n",
      "c:\\Users\\mrbvb\\AppData\\Local\\Programs\\Python\\Python311\\Lib\\site-packages\\optuna\\trial\\_trial.py:676: RuntimeWarning: Inconsistent parameter values for distribution with name \"dropout_rate2\"! This might be a configuration mistake. Optuna allows to call the same distribution with the same name more than once in a trial. When the parameter values are inconsistent optuna only uses the values of the first call and ignores all following. Using these values: {'step': None, 'low': 0.05, 'high': 0.1, 'log': False}\n",
      "  warnings.warn(\n",
      "C:\\Users\\mrbvb\\AppData\\Local\\Temp\\ipykernel_26724\\2049930526.py:20: FutureWarning: suggest_loguniform has been deprecated in v3.0.0. This feature will be removed in v6.0.0. See https://github.com/optuna/optuna/releases/tag/v3.0.0. Use suggest_float(..., log=True) instead.\n",
      "  learning_rate = trial.suggest_loguniform('learning_rate', 1e-6, 1e-3)\n",
      "c:\\Users\\mrbvb\\AppData\\Local\\Programs\\Python\\Python311\\Lib\\site-packages\\keras\\src\\layers\\core\\embedding.py:86: UserWarning: Argument `input_length` is deprecated. Just remove it.\n",
      "  warnings.warn(\n"
     ]
    },
    {
     "name": "stdout",
     "output_type": "stream",
     "text": [
      "\u001b[1m11/11\u001b[0m \u001b[32m━━━━━━━━━━━━━━━━━━━━\u001b[0m\u001b[37m\u001b[0m \u001b[1m7s\u001b[0m 223ms/step - accuracy: 0.4899 - loss: 0.6938\n",
      "Epoch 2/10\n",
      "\u001b[1m11/11\u001b[0m \u001b[32m━━━━━━━━━━━━━━━━━━━━\u001b[0m\u001b[37m\u001b[0m \u001b[1m2s\u001b[0m 210ms/step - accuracy: 0.6880 - loss: 0.7188\n",
      "Epoch 3/10\n",
      "\u001b[1m11/11\u001b[0m \u001b[32m━━━━━━━━━━━━━━━━━━━━\u001b[0m\u001b[37m\u001b[0m \u001b[1m2s\u001b[0m 217ms/step - accuracy: 0.8910 - loss: 0.5456\n",
      "Epoch 4/10\n",
      "\u001b[1m11/11\u001b[0m \u001b[32m━━━━━━━━━━━━━━━━━━━━\u001b[0m\u001b[37m\u001b[0m \u001b[1m2s\u001b[0m 213ms/step - accuracy: 0.9505 - loss: 0.1749\n",
      "Epoch 5/10\n",
      "\u001b[1m11/11\u001b[0m \u001b[32m━━━━━━━━━━━━━━━━━━━━\u001b[0m\u001b[37m\u001b[0m \u001b[1m2s\u001b[0m 214ms/step - accuracy: 0.9608 - loss: 0.1259\n",
      "Epoch 6/10\n",
      "\u001b[1m11/11\u001b[0m \u001b[32m━━━━━━━━━━━━━━━━━━━━\u001b[0m\u001b[37m\u001b[0m \u001b[1m3s\u001b[0m 225ms/step - accuracy: 0.9840 - loss: 0.0578\n",
      "Epoch 7/10\n",
      "\u001b[1m11/11\u001b[0m \u001b[32m━━━━━━━━━━━━━━━━━━━━\u001b[0m\u001b[37m\u001b[0m \u001b[1m2s\u001b[0m 217ms/step - accuracy: 0.9883 - loss: 0.0357\n",
      "Epoch 8/10\n",
      "\u001b[1m11/11\u001b[0m \u001b[32m━━━━━━━━━━━━━━━━━━━━\u001b[0m\u001b[37m\u001b[0m \u001b[1m3s\u001b[0m 231ms/step - accuracy: 0.9940 - loss: 0.0347\n",
      "Epoch 9/10\n",
      "\u001b[1m11/11\u001b[0m \u001b[32m━━━━━━━━━━━━━━━━━━━━\u001b[0m\u001b[37m\u001b[0m \u001b[1m3s\u001b[0m 243ms/step - accuracy: 0.9795 - loss: 0.0564\n",
      "Epoch 10/10\n",
      "\u001b[1m11/11\u001b[0m \u001b[32m━━━━━━━━━━━━━━━━━━━━\u001b[0m\u001b[37m\u001b[0m \u001b[1m2s\u001b[0m 216ms/step - accuracy: 0.9824 - loss: 0.0449\n",
      "\u001b[1m6/6\u001b[0m \u001b[32m━━━━━━━━━━━━━━━━━━━━\u001b[0m\u001b[37m\u001b[0m \u001b[1m1s\u001b[0m 128ms/step\n",
      "kw {}\n",
      "create mod: d_rate 0.196550107176308 d_rate2  0.055573261026230995 LSTM  256 dim  100 lr  0.0008916015412771673\n",
      "Epoch 1/10\n"
     ]
    },
    {
     "name": "stderr",
     "output_type": "stream",
     "text": [
      "C:\\Users\\mrbvb\\AppData\\Local\\Temp\\ipykernel_26724\\2049930526.py:16: FutureWarning: suggest_uniform has been deprecated in v3.0.0. This feature will be removed in v6.0.0. See https://github.com/optuna/optuna/releases/tag/v3.0.0. Use suggest_float instead.\n",
      "  dropout_rate = trial.suggest_uniform('dropout_rate', 0.09, 0.3)\n",
      "c:\\Users\\mrbvb\\AppData\\Local\\Programs\\Python\\Python311\\Lib\\site-packages\\optuna\\trial\\_trial.py:676: RuntimeWarning: Inconsistent parameter values for distribution with name \"dropout_rate\"! This might be a configuration mistake. Optuna allows to call the same distribution with the same name more than once in a trial. When the parameter values are inconsistent optuna only uses the values of the first call and ignores all following. Using these values: {'step': None, 'low': 0.05, 'high': 0.3, 'log': False}\n",
      "  warnings.warn(\n",
      "C:\\Users\\mrbvb\\AppData\\Local\\Temp\\ipykernel_26724\\2049930526.py:17: FutureWarning: suggest_uniform has been deprecated in v3.0.0. This feature will be removed in v6.0.0. See https://github.com/optuna/optuna/releases/tag/v3.0.0. Use suggest_float instead.\n",
      "  dropout_rate2 = trial.suggest_uniform('dropout_rate2', 0.05, 0.2)\n",
      "c:\\Users\\mrbvb\\AppData\\Local\\Programs\\Python\\Python311\\Lib\\site-packages\\optuna\\trial\\_trial.py:676: RuntimeWarning: Inconsistent parameter values for distribution with name \"dropout_rate2\"! This might be a configuration mistake. Optuna allows to call the same distribution with the same name more than once in a trial. When the parameter values are inconsistent optuna only uses the values of the first call and ignores all following. Using these values: {'step': None, 'low': 0.05, 'high': 0.1, 'log': False}\n",
      "  warnings.warn(\n",
      "C:\\Users\\mrbvb\\AppData\\Local\\Temp\\ipykernel_26724\\2049930526.py:20: FutureWarning: suggest_loguniform has been deprecated in v3.0.0. This feature will be removed in v6.0.0. See https://github.com/optuna/optuna/releases/tag/v3.0.0. Use suggest_float(..., log=True) instead.\n",
      "  learning_rate = trial.suggest_loguniform('learning_rate', 1e-6, 1e-3)\n",
      "c:\\Users\\mrbvb\\AppData\\Local\\Programs\\Python\\Python311\\Lib\\site-packages\\keras\\src\\layers\\core\\embedding.py:86: UserWarning: Argument `input_length` is deprecated. Just remove it.\n",
      "  warnings.warn(\n"
     ]
    },
    {
     "name": "stdout",
     "output_type": "stream",
     "text": [
      "\u001b[1m11/11\u001b[0m \u001b[32m━━━━━━━━━━━━━━━━━━━━\u001b[0m\u001b[37m\u001b[0m \u001b[1m6s\u001b[0m 196ms/step - accuracy: 0.5254 - loss: 0.6966\n",
      "Epoch 2/10\n",
      "\u001b[1m11/11\u001b[0m \u001b[32m━━━━━━━━━━━━━━━━━━━━\u001b[0m\u001b[37m\u001b[0m \u001b[1m2s\u001b[0m 198ms/step - accuracy: 0.5704 - loss: 0.6814\n",
      "Epoch 3/10\n",
      "\u001b[1m11/11\u001b[0m \u001b[32m━━━━━━━━━━━━━━━━━━━━\u001b[0m\u001b[37m\u001b[0m \u001b[1m2s\u001b[0m 207ms/step - accuracy: 0.7157 - loss: 0.6065\n",
      "Epoch 4/10\n",
      "\u001b[1m11/11\u001b[0m \u001b[32m━━━━━━━━━━━━━━━━━━━━\u001b[0m\u001b[37m\u001b[0m \u001b[1m2s\u001b[0m 198ms/step - accuracy: 0.8933 - loss: 0.4070\n",
      "Epoch 5/10\n",
      "\u001b[1m11/11\u001b[0m \u001b[32m━━━━━━━━━━━━━━━━━━━━\u001b[0m\u001b[37m\u001b[0m \u001b[1m2s\u001b[0m 199ms/step - accuracy: 0.9520 - loss: 0.1670\n",
      "Epoch 6/10\n",
      "\u001b[1m11/11\u001b[0m \u001b[32m━━━━━━━━━━━━━━━━━━━━\u001b[0m\u001b[37m\u001b[0m \u001b[1m2s\u001b[0m 202ms/step - accuracy: 0.8938 - loss: 0.2333\n",
      "Epoch 7/10\n",
      "\u001b[1m11/11\u001b[0m \u001b[32m━━━━━━━━━━━━━━━━━━━━\u001b[0m\u001b[37m\u001b[0m \u001b[1m2s\u001b[0m 205ms/step - accuracy: 0.9878 - loss: 0.0868\n",
      "Epoch 8/10\n",
      "\u001b[1m11/11\u001b[0m \u001b[32m━━━━━━━━━━━━━━━━━━━━\u001b[0m\u001b[37m\u001b[0m \u001b[1m2s\u001b[0m 205ms/step - accuracy: 0.9968 - loss: 0.0370\n",
      "Epoch 9/10\n",
      "\u001b[1m11/11\u001b[0m \u001b[32m━━━━━━━━━━━━━━━━━━━━\u001b[0m\u001b[37m\u001b[0m \u001b[1m2s\u001b[0m 202ms/step - accuracy: 0.9961 - loss: 0.0184\n",
      "Epoch 10/10\n",
      "\u001b[1m11/11\u001b[0m \u001b[32m━━━━━━━━━━━━━━━━━━━━\u001b[0m\u001b[37m\u001b[0m \u001b[1m2s\u001b[0m 203ms/step - accuracy: 0.9951 - loss: 0.0239\n",
      "\u001b[1m6/6\u001b[0m \u001b[32m━━━━━━━━━━━━━━━━━━━━\u001b[0m\u001b[37m\u001b[0m \u001b[1m1s\u001b[0m 128ms/step\n",
      "kw {}\n",
      "create mod: d_rate 0.196550107176308 d_rate2  0.055573261026230995 LSTM  256 dim  100 lr  0.0008916015412771673\n",
      "Epoch 1/10\n"
     ]
    },
    {
     "name": "stderr",
     "output_type": "stream",
     "text": [
      "C:\\Users\\mrbvb\\AppData\\Local\\Temp\\ipykernel_26724\\2049930526.py:16: FutureWarning: suggest_uniform has been deprecated in v3.0.0. This feature will be removed in v6.0.0. See https://github.com/optuna/optuna/releases/tag/v3.0.0. Use suggest_float instead.\n",
      "  dropout_rate = trial.suggest_uniform('dropout_rate', 0.09, 0.3)\n",
      "c:\\Users\\mrbvb\\AppData\\Local\\Programs\\Python\\Python311\\Lib\\site-packages\\optuna\\trial\\_trial.py:676: RuntimeWarning: Inconsistent parameter values for distribution with name \"dropout_rate\"! This might be a configuration mistake. Optuna allows to call the same distribution with the same name more than once in a trial. When the parameter values are inconsistent optuna only uses the values of the first call and ignores all following. Using these values: {'step': None, 'low': 0.05, 'high': 0.3, 'log': False}\n",
      "  warnings.warn(\n",
      "C:\\Users\\mrbvb\\AppData\\Local\\Temp\\ipykernel_26724\\2049930526.py:17: FutureWarning: suggest_uniform has been deprecated in v3.0.0. This feature will be removed in v6.0.0. See https://github.com/optuna/optuna/releases/tag/v3.0.0. Use suggest_float instead.\n",
      "  dropout_rate2 = trial.suggest_uniform('dropout_rate2', 0.05, 0.2)\n",
      "c:\\Users\\mrbvb\\AppData\\Local\\Programs\\Python\\Python311\\Lib\\site-packages\\optuna\\trial\\_trial.py:676: RuntimeWarning: Inconsistent parameter values for distribution with name \"dropout_rate2\"! This might be a configuration mistake. Optuna allows to call the same distribution with the same name more than once in a trial. When the parameter values are inconsistent optuna only uses the values of the first call and ignores all following. Using these values: {'step': None, 'low': 0.05, 'high': 0.1, 'log': False}\n",
      "  warnings.warn(\n",
      "C:\\Users\\mrbvb\\AppData\\Local\\Temp\\ipykernel_26724\\2049930526.py:20: FutureWarning: suggest_loguniform has been deprecated in v3.0.0. This feature will be removed in v6.0.0. See https://github.com/optuna/optuna/releases/tag/v3.0.0. Use suggest_float(..., log=True) instead.\n",
      "  learning_rate = trial.suggest_loguniform('learning_rate', 1e-6, 1e-3)\n",
      "c:\\Users\\mrbvb\\AppData\\Local\\Programs\\Python\\Python311\\Lib\\site-packages\\keras\\src\\layers\\core\\embedding.py:86: UserWarning: Argument `input_length` is deprecated. Just remove it.\n",
      "  warnings.warn(\n"
     ]
    },
    {
     "name": "stdout",
     "output_type": "stream",
     "text": [
      "\u001b[1m11/11\u001b[0m \u001b[32m━━━━━━━━━━━━━━━━━━━━\u001b[0m\u001b[37m\u001b[0m \u001b[1m6s\u001b[0m 194ms/step - accuracy: 0.5133 - loss: 0.6953\n",
      "Epoch 2/10\n",
      "\u001b[1m11/11\u001b[0m \u001b[32m━━━━━━━━━━━━━━━━━━━━\u001b[0m\u001b[37m\u001b[0m \u001b[1m2s\u001b[0m 200ms/step - accuracy: 0.5250 - loss: 0.6843\n",
      "Epoch 3/10\n",
      "\u001b[1m11/11\u001b[0m \u001b[32m━━━━━━━━━━━━━━━━━━━━\u001b[0m\u001b[37m\u001b[0m \u001b[1m2s\u001b[0m 200ms/step - accuracy: 0.7523 - loss: 0.5100\n",
      "Epoch 4/10\n",
      "\u001b[1m11/11\u001b[0m \u001b[32m━━━━━━━━━━━━━━━━━━━━\u001b[0m\u001b[37m\u001b[0m \u001b[1m2s\u001b[0m 198ms/step - accuracy: 0.9541 - loss: 0.1697\n",
      "Epoch 5/10\n",
      "\u001b[1m11/11\u001b[0m \u001b[32m━━━━━━━━━━━━━━━━━━━━\u001b[0m\u001b[37m\u001b[0m \u001b[1m2s\u001b[0m 200ms/step - accuracy: 0.9724 - loss: 0.0891\n",
      "Epoch 6/10\n",
      "\u001b[1m11/11\u001b[0m \u001b[32m━━━━━━━━━━━━━━━━━━━━\u001b[0m\u001b[37m\u001b[0m \u001b[1m2s\u001b[0m 207ms/step - accuracy: 0.9765 - loss: 0.0707\n",
      "Epoch 7/10\n",
      "\u001b[1m11/11\u001b[0m \u001b[32m━━━━━━━━━━━━━━━━━━━━\u001b[0m\u001b[37m\u001b[0m \u001b[1m2s\u001b[0m 220ms/step - accuracy: 0.9870 - loss: 0.0426\n",
      "Epoch 8/10\n",
      "\u001b[1m11/11\u001b[0m \u001b[32m━━━━━━━━━━━━━━━━━━━━\u001b[0m\u001b[37m\u001b[0m \u001b[1m2s\u001b[0m 217ms/step - accuracy: 1.0000 - loss: 0.0124\n",
      "Epoch 9/10\n",
      "\u001b[1m11/11\u001b[0m \u001b[32m━━━━━━━━━━━━━━━━━━━━\u001b[0m\u001b[37m\u001b[0m \u001b[1m2s\u001b[0m 206ms/step - accuracy: 0.9898 - loss: 0.0297\n",
      "Epoch 10/10\n",
      "\u001b[1m11/11\u001b[0m \u001b[32m━━━━━━━━━━━━━━━━━━━━\u001b[0m\u001b[37m\u001b[0m \u001b[1m2s\u001b[0m 206ms/step - accuracy: 0.9919 - loss: 0.0350\n",
      "WARNING:tensorflow:5 out of the last 13 calls to <function TensorFlowTrainer.make_predict_function.<locals>.one_step_on_data_distributed at 0x000002494F81D940> triggered tf.function retracing. Tracing is expensive and the excessive number of tracings could be due to (1) creating @tf.function repeatedly in a loop, (2) passing tensors with different shapes, (3) passing Python objects instead of tensors. For (1), please define your @tf.function outside of the loop. For (2), @tf.function has reduce_retracing=True option that can avoid unnecessary retracing. For (3), please refer to https://www.tensorflow.org/guide/function#controlling_retracing and https://www.tensorflow.org/api_docs/python/tf/function for  more details.\n",
      "\u001b[1m6/6\u001b[0m \u001b[32m━━━━━━━━━━━━━━━━━━━━\u001b[0m\u001b[37m\u001b[0m \u001b[1m1s\u001b[0m 133ms/step\n",
      "result score f1 fuc -0.6831659395039678\n",
      "kw {}\n",
      "create mod: d_rate 0.196550107176308 d_rate2  0.055573261026230995 LSTM  256 dim  100 lr  0.0008916015412771673\n",
      "Epoch 1/10\n"
     ]
    },
    {
     "name": "stderr",
     "output_type": "stream",
     "text": [
      "C:\\Users\\mrbvb\\AppData\\Local\\Temp\\ipykernel_26724\\2049930526.py:16: FutureWarning: suggest_uniform has been deprecated in v3.0.0. This feature will be removed in v6.0.0. See https://github.com/optuna/optuna/releases/tag/v3.0.0. Use suggest_float instead.\n",
      "  dropout_rate = trial.suggest_uniform('dropout_rate', 0.09, 0.3)\n",
      "c:\\Users\\mrbvb\\AppData\\Local\\Programs\\Python\\Python311\\Lib\\site-packages\\optuna\\trial\\_trial.py:676: RuntimeWarning: Inconsistent parameter values for distribution with name \"dropout_rate\"! This might be a configuration mistake. Optuna allows to call the same distribution with the same name more than once in a trial. When the parameter values are inconsistent optuna only uses the values of the first call and ignores all following. Using these values: {'step': None, 'low': 0.05, 'high': 0.3, 'log': False}\n",
      "  warnings.warn(\n",
      "C:\\Users\\mrbvb\\AppData\\Local\\Temp\\ipykernel_26724\\2049930526.py:17: FutureWarning: suggest_uniform has been deprecated in v3.0.0. This feature will be removed in v6.0.0. See https://github.com/optuna/optuna/releases/tag/v3.0.0. Use suggest_float instead.\n",
      "  dropout_rate2 = trial.suggest_uniform('dropout_rate2', 0.05, 0.2)\n",
      "c:\\Users\\mrbvb\\AppData\\Local\\Programs\\Python\\Python311\\Lib\\site-packages\\optuna\\trial\\_trial.py:676: RuntimeWarning: Inconsistent parameter values for distribution with name \"dropout_rate2\"! This might be a configuration mistake. Optuna allows to call the same distribution with the same name more than once in a trial. When the parameter values are inconsistent optuna only uses the values of the first call and ignores all following. Using these values: {'step': None, 'low': 0.05, 'high': 0.1, 'log': False}\n",
      "  warnings.warn(\n",
      "C:\\Users\\mrbvb\\AppData\\Local\\Temp\\ipykernel_26724\\2049930526.py:20: FutureWarning: suggest_loguniform has been deprecated in v3.0.0. This feature will be removed in v6.0.0. See https://github.com/optuna/optuna/releases/tag/v3.0.0. Use suggest_float(..., log=True) instead.\n",
      "  learning_rate = trial.suggest_loguniform('learning_rate', 1e-6, 1e-3)\n",
      "c:\\Users\\mrbvb\\AppData\\Local\\Programs\\Python\\Python311\\Lib\\site-packages\\keras\\src\\layers\\core\\embedding.py:86: UserWarning: Argument `input_length` is deprecated. Just remove it.\n",
      "  warnings.warn(\n"
     ]
    },
    {
     "name": "stdout",
     "output_type": "stream",
     "text": [
      "\u001b[1m11/11\u001b[0m \u001b[32m━━━━━━━━━━━━━━━━━━━━\u001b[0m\u001b[37m\u001b[0m \u001b[1m7s\u001b[0m 204ms/step - accuracy: 0.5515 - loss: 0.6944\n",
      "Epoch 2/10\n",
      "\u001b[1m11/11\u001b[0m \u001b[32m━━━━━━━━━━━━━━━━━━━━\u001b[0m\u001b[37m\u001b[0m \u001b[1m2s\u001b[0m 206ms/step - accuracy: 0.6832 - loss: 0.6720\n",
      "Epoch 3/10\n",
      "\u001b[1m11/11\u001b[0m \u001b[32m━━━━━━━━━━━━━━━━━━━━\u001b[0m\u001b[37m\u001b[0m \u001b[1m2s\u001b[0m 206ms/step - accuracy: 0.9358 - loss: 0.4018\n",
      "Epoch 4/10\n",
      "\u001b[1m11/11\u001b[0m \u001b[32m━━━━━━━━━━━━━━━━━━━━\u001b[0m\u001b[37m\u001b[0m \u001b[1m2s\u001b[0m 205ms/step - accuracy: 0.9437 - loss: 0.2304\n",
      "Epoch 5/10\n",
      "\u001b[1m11/11\u001b[0m \u001b[32m━━━━━━━━━━━━━━━━━━━━\u001b[0m\u001b[37m\u001b[0m \u001b[1m2s\u001b[0m 205ms/step - accuracy: 0.9916 - loss: 0.0450\n",
      "Epoch 6/10\n",
      "\u001b[1m11/11\u001b[0m \u001b[32m━━━━━━━━━━━━━━━━━━━━\u001b[0m\u001b[37m\u001b[0m \u001b[1m2s\u001b[0m 204ms/step - accuracy: 0.9945 - loss: 0.0304\n",
      "Epoch 7/10\n",
      "\u001b[1m11/11\u001b[0m \u001b[32m━━━━━━━━━━━━━━━━━━━━\u001b[0m\u001b[37m\u001b[0m \u001b[1m2s\u001b[0m 208ms/step - accuracy: 0.9871 - loss: 0.0644\n",
      "Epoch 8/10\n",
      "\u001b[1m11/11\u001b[0m \u001b[32m━━━━━━━━━━━━━━━━━━━━\u001b[0m\u001b[37m\u001b[0m \u001b[1m2s\u001b[0m 211ms/step - accuracy: 0.9536 - loss: 0.1208\n",
      "Epoch 9/10\n",
      "\u001b[1m11/11\u001b[0m \u001b[32m━━━━━━━━━━━━━━━━━━━━\u001b[0m\u001b[37m\u001b[0m \u001b[1m2s\u001b[0m 215ms/step - accuracy: 0.9895 - loss: 0.0793\n",
      "WARNING:tensorflow:5 out of the last 13 calls to <function TensorFlowTrainer.make_predict_function.<locals>.one_step_on_data_distributed at 0x0000024997607060> triggered tf.function retracing. Tracing is expensive and the excessive number of tracings could be due to (1) creating @tf.function repeatedly in a loop, (2) passing tensors with different shapes, (3) passing Python objects instead of tensors. For (1), please define your @tf.function outside of the loop. For (2), @tf.function has reduce_retracing=True option that can avoid unnecessary retracing. For (3), please refer to https://www.tensorflow.org/guide/function#controlling_retracing and https://www.tensorflow.org/api_docs/python/tf/function for  more details.\n",
      "\u001b[1m6/6\u001b[0m \u001b[32m━━━━━━━━━━━━━━━━━━━━\u001b[0m\u001b[37m\u001b[0m \u001b[1m2s\u001b[0m 187ms/step\n",
      "kw {}\n",
      "create mod: d_rate 0.196550107176308 d_rate2  0.055573261026230995 LSTM  256 dim  100 lr  0.0008916015412771673\n",
      "Epoch 1/10\n"
     ]
    },
    {
     "name": "stderr",
     "output_type": "stream",
     "text": [
      "C:\\Users\\mrbvb\\AppData\\Local\\Temp\\ipykernel_26724\\2049930526.py:16: FutureWarning: suggest_uniform has been deprecated in v3.0.0. This feature will be removed in v6.0.0. See https://github.com/optuna/optuna/releases/tag/v3.0.0. Use suggest_float instead.\n",
      "  dropout_rate = trial.suggest_uniform('dropout_rate', 0.09, 0.3)\n",
      "c:\\Users\\mrbvb\\AppData\\Local\\Programs\\Python\\Python311\\Lib\\site-packages\\optuna\\trial\\_trial.py:676: RuntimeWarning: Inconsistent parameter values for distribution with name \"dropout_rate\"! This might be a configuration mistake. Optuna allows to call the same distribution with the same name more than once in a trial. When the parameter values are inconsistent optuna only uses the values of the first call and ignores all following. Using these values: {'step': None, 'low': 0.05, 'high': 0.3, 'log': False}\n",
      "  warnings.warn(\n",
      "C:\\Users\\mrbvb\\AppData\\Local\\Temp\\ipykernel_26724\\2049930526.py:17: FutureWarning: suggest_uniform has been deprecated in v3.0.0. This feature will be removed in v6.0.0. See https://github.com/optuna/optuna/releases/tag/v3.0.0. Use suggest_float instead.\n",
      "  dropout_rate2 = trial.suggest_uniform('dropout_rate2', 0.05, 0.2)\n",
      "c:\\Users\\mrbvb\\AppData\\Local\\Programs\\Python\\Python311\\Lib\\site-packages\\optuna\\trial\\_trial.py:676: RuntimeWarning: Inconsistent parameter values for distribution with name \"dropout_rate2\"! This might be a configuration mistake. Optuna allows to call the same distribution with the same name more than once in a trial. When the parameter values are inconsistent optuna only uses the values of the first call and ignores all following. Using these values: {'step': None, 'low': 0.05, 'high': 0.1, 'log': False}\n",
      "  warnings.warn(\n",
      "C:\\Users\\mrbvb\\AppData\\Local\\Temp\\ipykernel_26724\\2049930526.py:20: FutureWarning: suggest_loguniform has been deprecated in v3.0.0. This feature will be removed in v6.0.0. See https://github.com/optuna/optuna/releases/tag/v3.0.0. Use suggest_float(..., log=True) instead.\n",
      "  learning_rate = trial.suggest_loguniform('learning_rate', 1e-6, 1e-3)\n",
      "c:\\Users\\mrbvb\\AppData\\Local\\Programs\\Python\\Python311\\Lib\\site-packages\\keras\\src\\layers\\core\\embedding.py:86: UserWarning: Argument `input_length` is deprecated. Just remove it.\n",
      "  warnings.warn(\n"
     ]
    },
    {
     "name": "stdout",
     "output_type": "stream",
     "text": [
      "\u001b[1m11/11\u001b[0m \u001b[32m━━━━━━━━━━━━━━━━━━━━\u001b[0m\u001b[37m\u001b[0m \u001b[1m8s\u001b[0m 284ms/step - accuracy: 0.4874 - loss: 0.6955\n",
      "Epoch 2/10\n",
      "\u001b[1m11/11\u001b[0m \u001b[32m━━━━━━━━━━━━━━━━━━━━\u001b[0m\u001b[37m\u001b[0m \u001b[1m3s\u001b[0m 270ms/step - accuracy: 0.5818 - loss: 0.6614\n",
      "Epoch 3/10\n",
      "\u001b[1m11/11\u001b[0m \u001b[32m━━━━━━━━━━━━━━━━━━━━\u001b[0m\u001b[37m\u001b[0m \u001b[1m3s\u001b[0m 266ms/step - accuracy: 0.8797 - loss: 0.3169\n",
      "Epoch 4/10\n",
      "\u001b[1m11/11\u001b[0m \u001b[32m━━━━━━━━━━━━━━━━━━━━\u001b[0m\u001b[37m\u001b[0m \u001b[1m3s\u001b[0m 306ms/step - accuracy: 0.9441 - loss: 0.1924\n",
      "Epoch 5/10\n",
      "\u001b[1m11/11\u001b[0m \u001b[32m━━━━━━━━━━━━━━━━━━━━\u001b[0m\u001b[37m\u001b[0m \u001b[1m3s\u001b[0m 261ms/step - accuracy: 0.9484 - loss: 0.1532\n",
      "Epoch 6/10\n",
      "\u001b[1m11/11\u001b[0m \u001b[32m━━━━━━━━━━━━━━━━━━━━\u001b[0m\u001b[37m\u001b[0m \u001b[1m3s\u001b[0m 264ms/step - accuracy: 0.9799 - loss: 0.0557\n",
      "Epoch 7/10\n",
      "\u001b[1m11/11\u001b[0m \u001b[32m━━━━━━━━━━━━━━━━━━━━\u001b[0m\u001b[37m\u001b[0m \u001b[1m3s\u001b[0m 256ms/step - accuracy: 1.0000 - loss: 0.0158\n",
      "Epoch 8/10\n",
      "\u001b[1m11/11\u001b[0m \u001b[32m━━━━━━━━━━━━━━━━━━━━\u001b[0m\u001b[37m\u001b[0m \u001b[1m3s\u001b[0m 262ms/step - accuracy: 1.0000 - loss: 0.0118\n",
      "Epoch 9/10\n",
      "\u001b[1m11/11\u001b[0m \u001b[32m━━━━━━━━━━━━━━━━━━━━\u001b[0m\u001b[37m\u001b[0m \u001b[1m3s\u001b[0m 252ms/step - accuracy: 1.0000 - loss: 0.0036\n",
      "Epoch 10/10\n",
      "\u001b[1m11/11\u001b[0m \u001b[32m━━━━━━━━━━━━━━━━━━━━\u001b[0m\u001b[37m\u001b[0m \u001b[1m3s\u001b[0m 254ms/step - accuracy: 1.0000 - loss: 0.0024\n",
      "\u001b[1m6/6\u001b[0m \u001b[32m━━━━━━━━━━━━━━━━━━━━\u001b[0m\u001b[37m\u001b[0m \u001b[1m1s\u001b[0m 150ms/step\n",
      "kw {}\n",
      "create mod: d_rate 0.196550107176308 d_rate2  0.055573261026230995 LSTM  256 dim  100 lr  0.0008916015412771673\n",
      "Epoch 1/10\n"
     ]
    },
    {
     "name": "stderr",
     "output_type": "stream",
     "text": [
      "C:\\Users\\mrbvb\\AppData\\Local\\Temp\\ipykernel_26724\\2049930526.py:16: FutureWarning: suggest_uniform has been deprecated in v3.0.0. This feature will be removed in v6.0.0. See https://github.com/optuna/optuna/releases/tag/v3.0.0. Use suggest_float instead.\n",
      "  dropout_rate = trial.suggest_uniform('dropout_rate', 0.09, 0.3)\n",
      "c:\\Users\\mrbvb\\AppData\\Local\\Programs\\Python\\Python311\\Lib\\site-packages\\optuna\\trial\\_trial.py:676: RuntimeWarning: Inconsistent parameter values for distribution with name \"dropout_rate\"! This might be a configuration mistake. Optuna allows to call the same distribution with the same name more than once in a trial. When the parameter values are inconsistent optuna only uses the values of the first call and ignores all following. Using these values: {'step': None, 'low': 0.05, 'high': 0.3, 'log': False}\n",
      "  warnings.warn(\n",
      "C:\\Users\\mrbvb\\AppData\\Local\\Temp\\ipykernel_26724\\2049930526.py:17: FutureWarning: suggest_uniform has been deprecated in v3.0.0. This feature will be removed in v6.0.0. See https://github.com/optuna/optuna/releases/tag/v3.0.0. Use suggest_float instead.\n",
      "  dropout_rate2 = trial.suggest_uniform('dropout_rate2', 0.05, 0.2)\n",
      "c:\\Users\\mrbvb\\AppData\\Local\\Programs\\Python\\Python311\\Lib\\site-packages\\optuna\\trial\\_trial.py:676: RuntimeWarning: Inconsistent parameter values for distribution with name \"dropout_rate2\"! This might be a configuration mistake. Optuna allows to call the same distribution with the same name more than once in a trial. When the parameter values are inconsistent optuna only uses the values of the first call and ignores all following. Using these values: {'step': None, 'low': 0.05, 'high': 0.1, 'log': False}\n",
      "  warnings.warn(\n",
      "C:\\Users\\mrbvb\\AppData\\Local\\Temp\\ipykernel_26724\\2049930526.py:20: FutureWarning: suggest_loguniform has been deprecated in v3.0.0. This feature will be removed in v6.0.0. See https://github.com/optuna/optuna/releases/tag/v3.0.0. Use suggest_float(..., log=True) instead.\n",
      "  learning_rate = trial.suggest_loguniform('learning_rate', 1e-6, 1e-3)\n",
      "c:\\Users\\mrbvb\\AppData\\Local\\Programs\\Python\\Python311\\Lib\\site-packages\\keras\\src\\layers\\core\\embedding.py:86: UserWarning: Argument `input_length` is deprecated. Just remove it.\n",
      "  warnings.warn(\n"
     ]
    },
    {
     "name": "stdout",
     "output_type": "stream",
     "text": [
      "\u001b[1m11/11\u001b[0m \u001b[32m━━━━━━━━━━━━━━━━━━━━\u001b[0m\u001b[37m\u001b[0m \u001b[1m8s\u001b[0m 307ms/step - accuracy: 0.5583 - loss: 0.6966\n",
      "Epoch 2/10\n",
      "\u001b[1m11/11\u001b[0m \u001b[32m━━━━━━━━━━━━━━━━━━━━\u001b[0m\u001b[37m\u001b[0m \u001b[1m4s\u001b[0m 319ms/step - accuracy: 0.6532 - loss: 0.6853\n",
      "Epoch 3/10\n",
      "\u001b[1m11/11\u001b[0m \u001b[32m━━━━━━━━━━━━━━━━━━━━\u001b[0m\u001b[37m\u001b[0m \u001b[1m3s\u001b[0m 311ms/step - accuracy: 0.8360 - loss: 0.5899\n",
      "Epoch 4/10\n",
      "\u001b[1m11/11\u001b[0m \u001b[32m━━━━━━━━━━━━━━━━━━━━\u001b[0m\u001b[37m\u001b[0m \u001b[1m4s\u001b[0m 320ms/step - accuracy: 0.8957 - loss: 0.2830\n",
      "Epoch 5/10\n",
      "\u001b[1m11/11\u001b[0m \u001b[32m━━━━━━━━━━━━━━━━━━━━\u001b[0m\u001b[37m\u001b[0m \u001b[1m3s\u001b[0m 316ms/step - accuracy: 0.9686 - loss: 0.0852\n",
      "Epoch 6/10\n",
      "\u001b[1m11/11\u001b[0m \u001b[32m━━━━━━━━━━━━━━━━━━━━\u001b[0m\u001b[37m\u001b[0m \u001b[1m4s\u001b[0m 326ms/step - accuracy: 0.9968 - loss: 0.0346\n",
      "Epoch 7/10\n",
      "\u001b[1m11/11\u001b[0m \u001b[32m━━━━━━━━━━━━━━━━━━━━\u001b[0m\u001b[37m\u001b[0m \u001b[1m4s\u001b[0m 317ms/step - accuracy: 0.9950 - loss: 0.0171\n",
      "Epoch 8/10\n",
      "\u001b[1m11/11\u001b[0m \u001b[32m━━━━━━━━━━━━━━━━━━━━\u001b[0m\u001b[37m\u001b[0m \u001b[1m4s\u001b[0m 319ms/step - accuracy: 1.0000 - loss: 0.0087\n",
      "Epoch 9/10\n",
      "\u001b[1m11/11\u001b[0m \u001b[32m━━━━━━━━━━━━━━━━━━━━\u001b[0m\u001b[37m\u001b[0m \u001b[1m3s\u001b[0m 313ms/step - accuracy: 1.0000 - loss: 0.0066\n",
      "Epoch 10/10\n",
      "\u001b[1m11/11\u001b[0m \u001b[32m━━━━━━━━━━━━━━━━━━━━\u001b[0m\u001b[37m\u001b[0m \u001b[1m3s\u001b[0m 307ms/step - accuracy: 1.0000 - loss: 0.0023\n",
      "\u001b[1m6/6\u001b[0m \u001b[32m━━━━━━━━━━━━━━━━━━━━\u001b[0m\u001b[37m\u001b[0m \u001b[1m1s\u001b[0m 184ms/step\n"
     ]
    },
    {
     "name": "stderr",
     "output_type": "stream",
     "text": [
      "[I 2024-04-30 17:03:06,018] Trial 0 finished with value: 0.7263624737711227 and parameters: {'dropout_rate': 0.196550107176308, 'dropout_rate2': 0.055573261026230995, 'LSTM_units': 256, 'EMBEDDING_DIM': 100, 'learning_rate': 0.0008916015412771673}. Best is trial 0 with value: 0.7263624737711227.\n"
     ]
    },
    {
     "name": "stdout",
     "output_type": "stream",
     "text": [
      "objectiving\n",
      "kw {}\n",
      "kw {}\n",
      "create mod: d_rate 0.10941356232458853 d_rate2  0.07969743012294797 LSTM  256 dim  200 lr  1.7930766053237372e-06\n",
      "Epoch 1/10\n"
     ]
    },
    {
     "name": "stderr",
     "output_type": "stream",
     "text": [
      "C:\\Users\\mrbvb\\AppData\\Local\\Temp\\ipykernel_26724\\2049930526.py:63: FutureWarning: suggest_uniform has been deprecated in v3.0.0. This feature will be removed in v6.0.0. See https://github.com/optuna/optuna/releases/tag/v3.0.0. Use suggest_float instead.\n",
      "  dropout_rate = trial.suggest_uniform('dropout_rate', 0.05, 0.3) #value should be from small to large only\n",
      "C:\\Users\\mrbvb\\AppData\\Local\\Temp\\ipykernel_26724\\2049930526.py:64: FutureWarning: suggest_uniform has been deprecated in v3.0.0. This feature will be removed in v6.0.0. See https://github.com/optuna/optuna/releases/tag/v3.0.0. Use suggest_float instead.\n",
      "  dropout_rate2 = trial.suggest_uniform('dropout_rate2', 0.05, 0.1)\n",
      "C:\\Users\\mrbvb\\AppData\\Local\\Temp\\ipykernel_26724\\2049930526.py:67: FutureWarning: suggest_loguniform has been deprecated in v3.0.0. This feature will be removed in v6.0.0. See https://github.com/optuna/optuna/releases/tag/v3.0.0. Use suggest_float(..., log=True) instead.\n",
      "  learning_rate = trial.suggest_loguniform('learning_rate', 1e-6, 1e-3)\n",
      "C:\\Users\\mrbvb\\AppData\\Local\\Temp\\ipykernel_26724\\2049930526.py:16: FutureWarning: suggest_uniform has been deprecated in v3.0.0. This feature will be removed in v6.0.0. See https://github.com/optuna/optuna/releases/tag/v3.0.0. Use suggest_float instead.\n",
      "  dropout_rate = trial.suggest_uniform('dropout_rate', 0.09, 0.3)\n",
      "c:\\Users\\mrbvb\\AppData\\Local\\Programs\\Python\\Python311\\Lib\\site-packages\\optuna\\trial\\_trial.py:676: RuntimeWarning: Inconsistent parameter values for distribution with name \"dropout_rate\"! This might be a configuration mistake. Optuna allows to call the same distribution with the same name more than once in a trial. When the parameter values are inconsistent optuna only uses the values of the first call and ignores all following. Using these values: {'step': None, 'low': 0.05, 'high': 0.3, 'log': False}\n",
      "  warnings.warn(\n",
      "C:\\Users\\mrbvb\\AppData\\Local\\Temp\\ipykernel_26724\\2049930526.py:17: FutureWarning: suggest_uniform has been deprecated in v3.0.0. This feature will be removed in v6.0.0. See https://github.com/optuna/optuna/releases/tag/v3.0.0. Use suggest_float instead.\n",
      "  dropout_rate2 = trial.suggest_uniform('dropout_rate2', 0.05, 0.2)\n",
      "c:\\Users\\mrbvb\\AppData\\Local\\Programs\\Python\\Python311\\Lib\\site-packages\\optuna\\trial\\_trial.py:676: RuntimeWarning: Inconsistent parameter values for distribution with name \"dropout_rate2\"! This might be a configuration mistake. Optuna allows to call the same distribution with the same name more than once in a trial. When the parameter values are inconsistent optuna only uses the values of the first call and ignores all following. Using these values: {'step': None, 'low': 0.05, 'high': 0.1, 'log': False}\n",
      "  warnings.warn(\n",
      "C:\\Users\\mrbvb\\AppData\\Local\\Temp\\ipykernel_26724\\2049930526.py:20: FutureWarning: suggest_loguniform has been deprecated in v3.0.0. This feature will be removed in v6.0.0. See https://github.com/optuna/optuna/releases/tag/v3.0.0. Use suggest_float(..., log=True) instead.\n",
      "  learning_rate = trial.suggest_loguniform('learning_rate', 1e-6, 1e-3)\n",
      "c:\\Users\\mrbvb\\AppData\\Local\\Programs\\Python\\Python311\\Lib\\site-packages\\keras\\src\\layers\\core\\embedding.py:86: UserWarning: Argument `input_length` is deprecated. Just remove it.\n",
      "  warnings.warn(\n"
     ]
    },
    {
     "name": "stdout",
     "output_type": "stream",
     "text": [
      "\u001b[1m11/11\u001b[0m \u001b[32m━━━━━━━━━━━━━━━━━━━━\u001b[0m\u001b[37m\u001b[0m \u001b[1m7s\u001b[0m 284ms/step - accuracy: 0.4960 - loss: 0.6934\n",
      "Epoch 2/10\n",
      "\u001b[1m11/11\u001b[0m \u001b[32m━━━━━━━━━━━━━━━━━━━━\u001b[0m\u001b[37m\u001b[0m \u001b[1m3s\u001b[0m 289ms/step - accuracy: 0.4978 - loss: 0.6936\n",
      "Epoch 3/10\n",
      "\u001b[1m11/11\u001b[0m \u001b[32m━━━━━━━━━━━━━━━━━━━━\u001b[0m\u001b[37m\u001b[0m \u001b[1m3s\u001b[0m 282ms/step - accuracy: 0.5169 - loss: 0.6920\n",
      "Epoch 4/10\n",
      "\u001b[1m11/11\u001b[0m \u001b[32m━━━━━━━━━━━━━━━━━━━━\u001b[0m\u001b[37m\u001b[0m \u001b[1m3s\u001b[0m 293ms/step - accuracy: 0.4858 - loss: 0.6934\n",
      "Epoch 5/10\n",
      "\u001b[1m11/11\u001b[0m \u001b[32m━━━━━━━━━━━━━━━━━━━━\u001b[0m\u001b[37m\u001b[0m \u001b[1m3s\u001b[0m 295ms/step - accuracy: 0.5092 - loss: 0.6928\n",
      "\u001b[1m6/6\u001b[0m \u001b[32m━━━━━━━━━━━━━━━━━━━━\u001b[0m\u001b[37m\u001b[0m \u001b[1m1s\u001b[0m 175ms/step\n",
      "kw {}\n",
      "create mod: d_rate 0.10941356232458853 d_rate2  0.07969743012294797 LSTM  256 dim  200 lr  1.7930766053237372e-06\n",
      "Epoch 1/10\n"
     ]
    },
    {
     "name": "stderr",
     "output_type": "stream",
     "text": [
      "C:\\Users\\mrbvb\\AppData\\Local\\Temp\\ipykernel_26724\\2049930526.py:16: FutureWarning: suggest_uniform has been deprecated in v3.0.0. This feature will be removed in v6.0.0. See https://github.com/optuna/optuna/releases/tag/v3.0.0. Use suggest_float instead.\n",
      "  dropout_rate = trial.suggest_uniform('dropout_rate', 0.09, 0.3)\n",
      "c:\\Users\\mrbvb\\AppData\\Local\\Programs\\Python\\Python311\\Lib\\site-packages\\optuna\\trial\\_trial.py:676: RuntimeWarning: Inconsistent parameter values for distribution with name \"dropout_rate\"! This might be a configuration mistake. Optuna allows to call the same distribution with the same name more than once in a trial. When the parameter values are inconsistent optuna only uses the values of the first call and ignores all following. Using these values: {'step': None, 'low': 0.05, 'high': 0.3, 'log': False}\n",
      "  warnings.warn(\n",
      "C:\\Users\\mrbvb\\AppData\\Local\\Temp\\ipykernel_26724\\2049930526.py:17: FutureWarning: suggest_uniform has been deprecated in v3.0.0. This feature will be removed in v6.0.0. See https://github.com/optuna/optuna/releases/tag/v3.0.0. Use suggest_float instead.\n",
      "  dropout_rate2 = trial.suggest_uniform('dropout_rate2', 0.05, 0.2)\n",
      "c:\\Users\\mrbvb\\AppData\\Local\\Programs\\Python\\Python311\\Lib\\site-packages\\optuna\\trial\\_trial.py:676: RuntimeWarning: Inconsistent parameter values for distribution with name \"dropout_rate2\"! This might be a configuration mistake. Optuna allows to call the same distribution with the same name more than once in a trial. When the parameter values are inconsistent optuna only uses the values of the first call and ignores all following. Using these values: {'step': None, 'low': 0.05, 'high': 0.1, 'log': False}\n",
      "  warnings.warn(\n",
      "C:\\Users\\mrbvb\\AppData\\Local\\Temp\\ipykernel_26724\\2049930526.py:20: FutureWarning: suggest_loguniform has been deprecated in v3.0.0. This feature will be removed in v6.0.0. See https://github.com/optuna/optuna/releases/tag/v3.0.0. Use suggest_float(..., log=True) instead.\n",
      "  learning_rate = trial.suggest_loguniform('learning_rate', 1e-6, 1e-3)\n",
      "c:\\Users\\mrbvb\\AppData\\Local\\Programs\\Python\\Python311\\Lib\\site-packages\\keras\\src\\layers\\core\\embedding.py:86: UserWarning: Argument `input_length` is deprecated. Just remove it.\n",
      "  warnings.warn(\n"
     ]
    },
    {
     "name": "stdout",
     "output_type": "stream",
     "text": [
      "\u001b[1m11/11\u001b[0m \u001b[32m━━━━━━━━━━━━━━━━━━━━\u001b[0m\u001b[37m\u001b[0m \u001b[1m7s\u001b[0m 266ms/step - accuracy: 0.4838 - loss: 0.6932\n",
      "Epoch 2/10\n",
      "\u001b[1m11/11\u001b[0m \u001b[32m━━━━━━━━━━━━━━━━━━━━\u001b[0m\u001b[37m\u001b[0m \u001b[1m3s\u001b[0m 288ms/step - accuracy: 0.4634 - loss: 0.6930\n",
      "Epoch 3/10\n",
      "\u001b[1m11/11\u001b[0m \u001b[32m━━━━━━━━━━━━━━━━━━━━\u001b[0m\u001b[37m\u001b[0m \u001b[1m3s\u001b[0m 293ms/step - accuracy: 0.5442 - loss: 0.6925\n",
      "Epoch 4/10\n",
      "\u001b[1m11/11\u001b[0m \u001b[32m━━━━━━━━━━━━━━━━━━━━\u001b[0m\u001b[37m\u001b[0m \u001b[1m3s\u001b[0m 283ms/step - accuracy: 0.5295 - loss: 0.6928\n",
      "Epoch 5/10\n",
      "\u001b[1m11/11\u001b[0m \u001b[32m━━━━━━━━━━━━━━━━━━━━\u001b[0m\u001b[37m\u001b[0m \u001b[1m3s\u001b[0m 296ms/step - accuracy: 0.5504 - loss: 0.6928\n",
      "\u001b[1m6/6\u001b[0m \u001b[32m━━━━━━━━━━━━━━━━━━━━\u001b[0m\u001b[37m\u001b[0m \u001b[1m1s\u001b[0m 186ms/step\n",
      "kw {}\n",
      "create mod: d_rate 0.10941356232458853 d_rate2  0.07969743012294797 LSTM  256 dim  200 lr  1.7930766053237372e-06\n",
      "Epoch 1/10\n"
     ]
    },
    {
     "name": "stderr",
     "output_type": "stream",
     "text": [
      "C:\\Users\\mrbvb\\AppData\\Local\\Temp\\ipykernel_26724\\2049930526.py:16: FutureWarning: suggest_uniform has been deprecated in v3.0.0. This feature will be removed in v6.0.0. See https://github.com/optuna/optuna/releases/tag/v3.0.0. Use suggest_float instead.\n",
      "  dropout_rate = trial.suggest_uniform('dropout_rate', 0.09, 0.3)\n",
      "c:\\Users\\mrbvb\\AppData\\Local\\Programs\\Python\\Python311\\Lib\\site-packages\\optuna\\trial\\_trial.py:676: RuntimeWarning: Inconsistent parameter values for distribution with name \"dropout_rate\"! This might be a configuration mistake. Optuna allows to call the same distribution with the same name more than once in a trial. When the parameter values are inconsistent optuna only uses the values of the first call and ignores all following. Using these values: {'step': None, 'low': 0.05, 'high': 0.3, 'log': False}\n",
      "  warnings.warn(\n",
      "C:\\Users\\mrbvb\\AppData\\Local\\Temp\\ipykernel_26724\\2049930526.py:17: FutureWarning: suggest_uniform has been deprecated in v3.0.0. This feature will be removed in v6.0.0. See https://github.com/optuna/optuna/releases/tag/v3.0.0. Use suggest_float instead.\n",
      "  dropout_rate2 = trial.suggest_uniform('dropout_rate2', 0.05, 0.2)\n",
      "c:\\Users\\mrbvb\\AppData\\Local\\Programs\\Python\\Python311\\Lib\\site-packages\\optuna\\trial\\_trial.py:676: RuntimeWarning: Inconsistent parameter values for distribution with name \"dropout_rate2\"! This might be a configuration mistake. Optuna allows to call the same distribution with the same name more than once in a trial. When the parameter values are inconsistent optuna only uses the values of the first call and ignores all following. Using these values: {'step': None, 'low': 0.05, 'high': 0.1, 'log': False}\n",
      "  warnings.warn(\n",
      "C:\\Users\\mrbvb\\AppData\\Local\\Temp\\ipykernel_26724\\2049930526.py:20: FutureWarning: suggest_loguniform has been deprecated in v3.0.0. This feature will be removed in v6.0.0. See https://github.com/optuna/optuna/releases/tag/v3.0.0. Use suggest_float(..., log=True) instead.\n",
      "  learning_rate = trial.suggest_loguniform('learning_rate', 1e-6, 1e-3)\n",
      "c:\\Users\\mrbvb\\AppData\\Local\\Programs\\Python\\Python311\\Lib\\site-packages\\keras\\src\\layers\\core\\embedding.py:86: UserWarning: Argument `input_length` is deprecated. Just remove it.\n",
      "  warnings.warn(\n"
     ]
    },
    {
     "name": "stdout",
     "output_type": "stream",
     "text": [
      "\u001b[1m11/11\u001b[0m \u001b[32m━━━━━━━━━━━━━━━━━━━━\u001b[0m\u001b[37m\u001b[0m \u001b[1m10s\u001b[0m 395ms/step - accuracy: 0.4715 - loss: 0.6938\n",
      "Epoch 2/10\n",
      "\u001b[1m11/11\u001b[0m \u001b[32m━━━━━━━━━━━━━━━━━━━━\u001b[0m\u001b[37m\u001b[0m \u001b[1m4s\u001b[0m 400ms/step - accuracy: 0.4401 - loss: 0.6947\n",
      "Epoch 3/10\n",
      "\u001b[1m11/11\u001b[0m \u001b[32m━━━━━━━━━━━━━━━━━━━━\u001b[0m\u001b[37m\u001b[0m \u001b[1m5s\u001b[0m 404ms/step - accuracy: 0.4847 - loss: 0.6932\n",
      "Epoch 4/10\n",
      "\u001b[1m11/11\u001b[0m \u001b[32m━━━━━━━━━━━━━━━━━━━━\u001b[0m\u001b[37m\u001b[0m \u001b[1m4s\u001b[0m 397ms/step - accuracy: 0.4255 - loss: 0.6945\n",
      "Epoch 5/10\n",
      "\u001b[1m11/11\u001b[0m \u001b[32m━━━━━━━━━━━━━━━━━━━━\u001b[0m\u001b[37m\u001b[0m \u001b[1m4s\u001b[0m 398ms/step - accuracy: 0.4916 - loss: 0.6933\n",
      "Epoch 6/10\n",
      "\u001b[1m11/11\u001b[0m \u001b[32m━━━━━━━━━━━━━━━━━━━━\u001b[0m\u001b[37m\u001b[0m \u001b[1m4s\u001b[0m 404ms/step - accuracy: 0.4813 - loss: 0.6933\n",
      "Epoch 7/10\n",
      "\u001b[1m11/11\u001b[0m \u001b[32m━━━━━━━━━━━━━━━━━━━━\u001b[0m\u001b[37m\u001b[0m \u001b[1m4s\u001b[0m 390ms/step - accuracy: 0.4920 - loss: 0.6930\n",
      "Epoch 8/10\n",
      "\u001b[1m11/11\u001b[0m \u001b[32m━━━━━━━━━━━━━━━━━━━━\u001b[0m\u001b[37m\u001b[0m \u001b[1m4s\u001b[0m 399ms/step - accuracy: 0.4508 - loss: 0.6940\n",
      "Epoch 9/10\n",
      "\u001b[1m11/11\u001b[0m \u001b[32m━━━━━━━━━━━━━━━━━━━━\u001b[0m\u001b[37m\u001b[0m \u001b[1m4s\u001b[0m 401ms/step - accuracy: 0.4584 - loss: 0.6936\n",
      "\u001b[1m6/6\u001b[0m \u001b[32m━━━━━━━━━━━━━━━━━━━━\u001b[0m\u001b[37m\u001b[0m \u001b[1m2s\u001b[0m 245ms/step\n",
      "result score f1 fuc -0.4371327900578858\n",
      "kw {}\n",
      "create mod: d_rate 0.10941356232458853 d_rate2  0.07969743012294797 LSTM  256 dim  200 lr  1.7930766053237372e-06\n",
      "Epoch 1/10\n"
     ]
    },
    {
     "name": "stderr",
     "output_type": "stream",
     "text": [
      "C:\\Users\\mrbvb\\AppData\\Local\\Temp\\ipykernel_26724\\2049930526.py:16: FutureWarning: suggest_uniform has been deprecated in v3.0.0. This feature will be removed in v6.0.0. See https://github.com/optuna/optuna/releases/tag/v3.0.0. Use suggest_float instead.\n",
      "  dropout_rate = trial.suggest_uniform('dropout_rate', 0.09, 0.3)\n",
      "c:\\Users\\mrbvb\\AppData\\Local\\Programs\\Python\\Python311\\Lib\\site-packages\\optuna\\trial\\_trial.py:676: RuntimeWarning: Inconsistent parameter values for distribution with name \"dropout_rate\"! This might be a configuration mistake. Optuna allows to call the same distribution with the same name more than once in a trial. When the parameter values are inconsistent optuna only uses the values of the first call and ignores all following. Using these values: {'step': None, 'low': 0.05, 'high': 0.3, 'log': False}\n",
      "  warnings.warn(\n",
      "C:\\Users\\mrbvb\\AppData\\Local\\Temp\\ipykernel_26724\\2049930526.py:17: FutureWarning: suggest_uniform has been deprecated in v3.0.0. This feature will be removed in v6.0.0. See https://github.com/optuna/optuna/releases/tag/v3.0.0. Use suggest_float instead.\n",
      "  dropout_rate2 = trial.suggest_uniform('dropout_rate2', 0.05, 0.2)\n",
      "c:\\Users\\mrbvb\\AppData\\Local\\Programs\\Python\\Python311\\Lib\\site-packages\\optuna\\trial\\_trial.py:676: RuntimeWarning: Inconsistent parameter values for distribution with name \"dropout_rate2\"! This might be a configuration mistake. Optuna allows to call the same distribution with the same name more than once in a trial. When the parameter values are inconsistent optuna only uses the values of the first call and ignores all following. Using these values: {'step': None, 'low': 0.05, 'high': 0.1, 'log': False}\n",
      "  warnings.warn(\n",
      "C:\\Users\\mrbvb\\AppData\\Local\\Temp\\ipykernel_26724\\2049930526.py:20: FutureWarning: suggest_loguniform has been deprecated in v3.0.0. This feature will be removed in v6.0.0. See https://github.com/optuna/optuna/releases/tag/v3.0.0. Use suggest_float(..., log=True) instead.\n",
      "  learning_rate = trial.suggest_loguniform('learning_rate', 1e-6, 1e-3)\n",
      "c:\\Users\\mrbvb\\AppData\\Local\\Programs\\Python\\Python311\\Lib\\site-packages\\keras\\src\\layers\\core\\embedding.py:86: UserWarning: Argument `input_length` is deprecated. Just remove it.\n",
      "  warnings.warn(\n"
     ]
    },
    {
     "name": "stdout",
     "output_type": "stream",
     "text": [
      "\u001b[1m11/11\u001b[0m \u001b[32m━━━━━━━━━━━━━━━━━━━━\u001b[0m\u001b[37m\u001b[0m \u001b[1m8s\u001b[0m 381ms/step - accuracy: 0.5208 - loss: 0.6928\n",
      "Epoch 2/10\n",
      "\u001b[1m11/11\u001b[0m \u001b[32m━━━━━━━━━━━━━━━━━━━━\u001b[0m\u001b[37m\u001b[0m \u001b[1m4s\u001b[0m 400ms/step - accuracy: 0.5283 - loss: 0.6928\n",
      "Epoch 3/10\n",
      "\u001b[1m11/11\u001b[0m \u001b[32m━━━━━━━━━━━━━━━━━━━━\u001b[0m\u001b[37m\u001b[0m \u001b[1m4s\u001b[0m 399ms/step - accuracy: 0.5201 - loss: 0.6924\n",
      "Epoch 4/10\n",
      "\u001b[1m11/11\u001b[0m \u001b[32m━━━━━━━━━━━━━━━━━━━━\u001b[0m\u001b[37m\u001b[0m \u001b[1m4s\u001b[0m 379ms/step - accuracy: 0.5207 - loss: 0.6933\n",
      "\u001b[1m6/6\u001b[0m \u001b[32m━━━━━━━━━━━━━━━━━━━━\u001b[0m\u001b[37m\u001b[0m \u001b[1m2s\u001b[0m 238ms/step\n",
      "kw {}\n",
      "create mod: d_rate 0.10941356232458853 d_rate2  0.07969743012294797 LSTM  256 dim  200 lr  1.7930766053237372e-06\n",
      "Epoch 1/10\n"
     ]
    },
    {
     "name": "stderr",
     "output_type": "stream",
     "text": [
      "C:\\Users\\mrbvb\\AppData\\Local\\Temp\\ipykernel_26724\\2049930526.py:16: FutureWarning: suggest_uniform has been deprecated in v3.0.0. This feature will be removed in v6.0.0. See https://github.com/optuna/optuna/releases/tag/v3.0.0. Use suggest_float instead.\n",
      "  dropout_rate = trial.suggest_uniform('dropout_rate', 0.09, 0.3)\n",
      "c:\\Users\\mrbvb\\AppData\\Local\\Programs\\Python\\Python311\\Lib\\site-packages\\optuna\\trial\\_trial.py:676: RuntimeWarning: Inconsistent parameter values for distribution with name \"dropout_rate\"! This might be a configuration mistake. Optuna allows to call the same distribution with the same name more than once in a trial. When the parameter values are inconsistent optuna only uses the values of the first call and ignores all following. Using these values: {'step': None, 'low': 0.05, 'high': 0.3, 'log': False}\n",
      "  warnings.warn(\n",
      "C:\\Users\\mrbvb\\AppData\\Local\\Temp\\ipykernel_26724\\2049930526.py:17: FutureWarning: suggest_uniform has been deprecated in v3.0.0. This feature will be removed in v6.0.0. See https://github.com/optuna/optuna/releases/tag/v3.0.0. Use suggest_float instead.\n",
      "  dropout_rate2 = trial.suggest_uniform('dropout_rate2', 0.05, 0.2)\n",
      "c:\\Users\\mrbvb\\AppData\\Local\\Programs\\Python\\Python311\\Lib\\site-packages\\optuna\\trial\\_trial.py:676: RuntimeWarning: Inconsistent parameter values for distribution with name \"dropout_rate2\"! This might be a configuration mistake. Optuna allows to call the same distribution with the same name more than once in a trial. When the parameter values are inconsistent optuna only uses the values of the first call and ignores all following. Using these values: {'step': None, 'low': 0.05, 'high': 0.1, 'log': False}\n",
      "  warnings.warn(\n",
      "C:\\Users\\mrbvb\\AppData\\Local\\Temp\\ipykernel_26724\\2049930526.py:20: FutureWarning: suggest_loguniform has been deprecated in v3.0.0. This feature will be removed in v6.0.0. See https://github.com/optuna/optuna/releases/tag/v3.0.0. Use suggest_float(..., log=True) instead.\n",
      "  learning_rate = trial.suggest_loguniform('learning_rate', 1e-6, 1e-3)\n",
      "c:\\Users\\mrbvb\\AppData\\Local\\Programs\\Python\\Python311\\Lib\\site-packages\\keras\\src\\layers\\core\\embedding.py:86: UserWarning: Argument `input_length` is deprecated. Just remove it.\n",
      "  warnings.warn(\n"
     ]
    },
    {
     "name": "stdout",
     "output_type": "stream",
     "text": [
      "\u001b[1m11/11\u001b[0m \u001b[32m━━━━━━━━━━━━━━━━━━━━\u001b[0m\u001b[37m\u001b[0m \u001b[1m8s\u001b[0m 386ms/step - accuracy: 0.5345 - loss: 0.6930\n",
      "Epoch 2/10\n",
      "\u001b[1m11/11\u001b[0m \u001b[32m━━━━━━━━━━━━━━━━━━━━\u001b[0m\u001b[37m\u001b[0m \u001b[1m4s\u001b[0m 379ms/step - accuracy: 0.5231 - loss: 0.6926\n",
      "Epoch 3/10\n",
      "\u001b[1m11/11\u001b[0m \u001b[32m━━━━━━━━━━━━━━━━━━━━\u001b[0m\u001b[37m\u001b[0m \u001b[1m4s\u001b[0m 383ms/step - accuracy: 0.5518 - loss: 0.6930\n",
      "Epoch 4/10\n",
      "\u001b[1m11/11\u001b[0m \u001b[32m━━━━━━━━━━━━━━━━━━━━\u001b[0m\u001b[37m\u001b[0m \u001b[1m4s\u001b[0m 381ms/step - accuracy: 0.5733 - loss: 0.6928\n",
      "Epoch 5/10\n",
      "\u001b[1m11/11\u001b[0m \u001b[32m━━━━━━━━━━━━━━━━━━━━\u001b[0m\u001b[37m\u001b[0m \u001b[1m4s\u001b[0m 382ms/step - accuracy: 0.4685 - loss: 0.6931\n",
      "Epoch 6/10\n",
      "\u001b[1m11/11\u001b[0m \u001b[32m━━━━━━━━━━━━━━━━━━━━\u001b[0m\u001b[37m\u001b[0m \u001b[1m4s\u001b[0m 384ms/step - accuracy: 0.5294 - loss: 0.6927\n",
      "Epoch 7/10\n",
      "\u001b[1m11/11\u001b[0m \u001b[32m━━━━━━━━━━━━━━━━━━━━\u001b[0m\u001b[37m\u001b[0m \u001b[1m4s\u001b[0m 381ms/step - accuracy: 0.5189 - loss: 0.6931\n",
      "\u001b[1m6/6\u001b[0m \u001b[32m━━━━━━━━━━━━━━━━━━━━\u001b[0m\u001b[37m\u001b[0m \u001b[1m2s\u001b[0m 235ms/step\n",
      "kw {}\n",
      "create mod: d_rate 0.10941356232458853 d_rate2  0.07969743012294797 LSTM  256 dim  200 lr  1.7930766053237372e-06\n",
      "Epoch 1/10\n"
     ]
    },
    {
     "name": "stderr",
     "output_type": "stream",
     "text": [
      "C:\\Users\\mrbvb\\AppData\\Local\\Temp\\ipykernel_26724\\2049930526.py:16: FutureWarning: suggest_uniform has been deprecated in v3.0.0. This feature will be removed in v6.0.0. See https://github.com/optuna/optuna/releases/tag/v3.0.0. Use suggest_float instead.\n",
      "  dropout_rate = trial.suggest_uniform('dropout_rate', 0.09, 0.3)\n",
      "c:\\Users\\mrbvb\\AppData\\Local\\Programs\\Python\\Python311\\Lib\\site-packages\\optuna\\trial\\_trial.py:676: RuntimeWarning: Inconsistent parameter values for distribution with name \"dropout_rate\"! This might be a configuration mistake. Optuna allows to call the same distribution with the same name more than once in a trial. When the parameter values are inconsistent optuna only uses the values of the first call and ignores all following. Using these values: {'step': None, 'low': 0.05, 'high': 0.3, 'log': False}\n",
      "  warnings.warn(\n",
      "C:\\Users\\mrbvb\\AppData\\Local\\Temp\\ipykernel_26724\\2049930526.py:17: FutureWarning: suggest_uniform has been deprecated in v3.0.0. This feature will be removed in v6.0.0. See https://github.com/optuna/optuna/releases/tag/v3.0.0. Use suggest_float instead.\n",
      "  dropout_rate2 = trial.suggest_uniform('dropout_rate2', 0.05, 0.2)\n",
      "c:\\Users\\mrbvb\\AppData\\Local\\Programs\\Python\\Python311\\Lib\\site-packages\\optuna\\trial\\_trial.py:676: RuntimeWarning: Inconsistent parameter values for distribution with name \"dropout_rate2\"! This might be a configuration mistake. Optuna allows to call the same distribution with the same name more than once in a trial. When the parameter values are inconsistent optuna only uses the values of the first call and ignores all following. Using these values: {'step': None, 'low': 0.05, 'high': 0.1, 'log': False}\n",
      "  warnings.warn(\n",
      "C:\\Users\\mrbvb\\AppData\\Local\\Temp\\ipykernel_26724\\2049930526.py:20: FutureWarning: suggest_loguniform has been deprecated in v3.0.0. This feature will be removed in v6.0.0. See https://github.com/optuna/optuna/releases/tag/v3.0.0. Use suggest_float(..., log=True) instead.\n",
      "  learning_rate = trial.suggest_loguniform('learning_rate', 1e-6, 1e-3)\n",
      "c:\\Users\\mrbvb\\AppData\\Local\\Programs\\Python\\Python311\\Lib\\site-packages\\keras\\src\\layers\\core\\embedding.py:86: UserWarning: Argument `input_length` is deprecated. Just remove it.\n",
      "  warnings.warn(\n"
     ]
    },
    {
     "name": "stdout",
     "output_type": "stream",
     "text": [
      "\u001b[1m11/11\u001b[0m \u001b[32m━━━━━━━━━━━━━━━━━━━━\u001b[0m\u001b[37m\u001b[0m \u001b[1m8s\u001b[0m 355ms/step - accuracy: 0.5092 - loss: 0.6931\n",
      "Epoch 2/10\n",
      "\u001b[1m11/11\u001b[0m \u001b[32m━━━━━━━━━━━━━━━━━━━━\u001b[0m\u001b[37m\u001b[0m \u001b[1m4s\u001b[0m 354ms/step - accuracy: 0.5174 - loss: 0.6927\n",
      "Epoch 3/10\n",
      "\u001b[1m11/11\u001b[0m \u001b[32m━━━━━━━━━━━━━━━━━━━━\u001b[0m\u001b[37m\u001b[0m \u001b[1m4s\u001b[0m 361ms/step - accuracy: 0.5443 - loss: 0.6927\n",
      "Epoch 4/10\n",
      "\u001b[1m11/11\u001b[0m \u001b[32m━━━━━━━━━━━━━━━━━━━━\u001b[0m\u001b[37m\u001b[0m \u001b[1m4s\u001b[0m 349ms/step - accuracy: 0.5393 - loss: 0.6924\n",
      "Epoch 5/10\n",
      "\u001b[1m11/11\u001b[0m \u001b[32m━━━━━━━━━━━━━━━━━━━━\u001b[0m\u001b[37m\u001b[0m \u001b[1m4s\u001b[0m 356ms/step - accuracy: 0.5361 - loss: 0.6925\n",
      "\u001b[1m6/6\u001b[0m \u001b[32m━━━━━━━━━━━━━━━━━━━━\u001b[0m\u001b[37m\u001b[0m \u001b[1m2s\u001b[0m 221ms/step\n"
     ]
    },
    {
     "name": "stderr",
     "output_type": "stream",
     "text": [
      "[I 2024-04-30 17:06:00,776] Trial 1 finished with value: 0.21122112211221122 and parameters: {'dropout_rate': 0.10941356232458853, 'dropout_rate2': 0.07969743012294797, 'LSTM_units': 256, 'EMBEDDING_DIM': 200, 'learning_rate': 1.7930766053237372e-06}. Best is trial 0 with value: 0.7263624737711227.\n"
     ]
    },
    {
     "name": "stdout",
     "output_type": "stream",
     "text": [
      "objectiving\n",
      "kw {}\n",
      "kw {}\n",
      "create mod: d_rate 0.09519559466194506 d_rate2  0.0923169036449272 LSTM  256 dim  100 lr  1.8840811537076847e-05\n",
      "Epoch 1/10\n"
     ]
    },
    {
     "name": "stderr",
     "output_type": "stream",
     "text": [
      "C:\\Users\\mrbvb\\AppData\\Local\\Temp\\ipykernel_26724\\2049930526.py:63: FutureWarning: suggest_uniform has been deprecated in v3.0.0. This feature will be removed in v6.0.0. See https://github.com/optuna/optuna/releases/tag/v3.0.0. Use suggest_float instead.\n",
      "  dropout_rate = trial.suggest_uniform('dropout_rate', 0.05, 0.3) #value should be from small to large only\n",
      "C:\\Users\\mrbvb\\AppData\\Local\\Temp\\ipykernel_26724\\2049930526.py:64: FutureWarning: suggest_uniform has been deprecated in v3.0.0. This feature will be removed in v6.0.0. See https://github.com/optuna/optuna/releases/tag/v3.0.0. Use suggest_float instead.\n",
      "  dropout_rate2 = trial.suggest_uniform('dropout_rate2', 0.05, 0.1)\n",
      "C:\\Users\\mrbvb\\AppData\\Local\\Temp\\ipykernel_26724\\2049930526.py:67: FutureWarning: suggest_loguniform has been deprecated in v3.0.0. This feature will be removed in v6.0.0. See https://github.com/optuna/optuna/releases/tag/v3.0.0. Use suggest_float(..., log=True) instead.\n",
      "  learning_rate = trial.suggest_loguniform('learning_rate', 1e-6, 1e-3)\n",
      "C:\\Users\\mrbvb\\AppData\\Local\\Temp\\ipykernel_26724\\2049930526.py:16: FutureWarning: suggest_uniform has been deprecated in v3.0.0. This feature will be removed in v6.0.0. See https://github.com/optuna/optuna/releases/tag/v3.0.0. Use suggest_float instead.\n",
      "  dropout_rate = trial.suggest_uniform('dropout_rate', 0.09, 0.3)\n",
      "c:\\Users\\mrbvb\\AppData\\Local\\Programs\\Python\\Python311\\Lib\\site-packages\\optuna\\trial\\_trial.py:676: RuntimeWarning: Inconsistent parameter values for distribution with name \"dropout_rate\"! This might be a configuration mistake. Optuna allows to call the same distribution with the same name more than once in a trial. When the parameter values are inconsistent optuna only uses the values of the first call and ignores all following. Using these values: {'step': None, 'low': 0.05, 'high': 0.3, 'log': False}\n",
      "  warnings.warn(\n",
      "C:\\Users\\mrbvb\\AppData\\Local\\Temp\\ipykernel_26724\\2049930526.py:17: FutureWarning: suggest_uniform has been deprecated in v3.0.0. This feature will be removed in v6.0.0. See https://github.com/optuna/optuna/releases/tag/v3.0.0. Use suggest_float instead.\n",
      "  dropout_rate2 = trial.suggest_uniform('dropout_rate2', 0.05, 0.2)\n",
      "c:\\Users\\mrbvb\\AppData\\Local\\Programs\\Python\\Python311\\Lib\\site-packages\\optuna\\trial\\_trial.py:676: RuntimeWarning: Inconsistent parameter values for distribution with name \"dropout_rate2\"! This might be a configuration mistake. Optuna allows to call the same distribution with the same name more than once in a trial. When the parameter values are inconsistent optuna only uses the values of the first call and ignores all following. Using these values: {'step': None, 'low': 0.05, 'high': 0.1, 'log': False}\n",
      "  warnings.warn(\n",
      "C:\\Users\\mrbvb\\AppData\\Local\\Temp\\ipykernel_26724\\2049930526.py:20: FutureWarning: suggest_loguniform has been deprecated in v3.0.0. This feature will be removed in v6.0.0. See https://github.com/optuna/optuna/releases/tag/v3.0.0. Use suggest_float(..., log=True) instead.\n",
      "  learning_rate = trial.suggest_loguniform('learning_rate', 1e-6, 1e-3)\n",
      "c:\\Users\\mrbvb\\AppData\\Local\\Programs\\Python\\Python311\\Lib\\site-packages\\keras\\src\\layers\\core\\embedding.py:86: UserWarning: Argument `input_length` is deprecated. Just remove it.\n",
      "  warnings.warn(\n"
     ]
    },
    {
     "name": "stdout",
     "output_type": "stream",
     "text": [
      "\u001b[1m11/11\u001b[0m \u001b[32m━━━━━━━━━━━━━━━━━━━━\u001b[0m\u001b[37m\u001b[0m \u001b[1m9s\u001b[0m 455ms/step - accuracy: 0.4622 - loss: 0.6938\n",
      "Epoch 2/10\n",
      "\u001b[1m11/11\u001b[0m \u001b[32m━━━━━━━━━━━━━━━━━━━━\u001b[0m\u001b[37m\u001b[0m \u001b[1m5s\u001b[0m 441ms/step - accuracy: 0.4546 - loss: 0.6933\n",
      "Epoch 3/10\n",
      "\u001b[1m11/11\u001b[0m \u001b[32m━━━━━━━━━━━━━━━━━━━━\u001b[0m\u001b[37m\u001b[0m \u001b[1m5s\u001b[0m 450ms/step - accuracy: 0.5323 - loss: 0.6928\n",
      "Epoch 4/10\n",
      "\u001b[1m11/11\u001b[0m \u001b[32m━━━━━━━━━━━━━━━━━━━━\u001b[0m\u001b[37m\u001b[0m \u001b[1m5s\u001b[0m 445ms/step - accuracy: 0.5504 - loss: 0.6918\n",
      "Epoch 5/10\n",
      "\u001b[1m11/11\u001b[0m \u001b[32m━━━━━━━━━━━━━━━━━━━━\u001b[0m\u001b[37m\u001b[0m \u001b[1m5s\u001b[0m 442ms/step - accuracy: 0.5209 - loss: 0.6922\n",
      "Epoch 6/10\n",
      "\u001b[1m11/11\u001b[0m \u001b[32m━━━━━━━━━━━━━━━━━━━━\u001b[0m\u001b[37m\u001b[0m \u001b[1m5s\u001b[0m 445ms/step - accuracy: 0.5058 - loss: 0.6921\n",
      "\u001b[1m6/6\u001b[0m \u001b[32m━━━━━━━━━━━━━━━━━━━━\u001b[0m\u001b[37m\u001b[0m \u001b[1m2s\u001b[0m 235ms/step\n",
      "kw {}\n",
      "create mod: d_rate 0.09519559466194506 d_rate2  0.0923169036449272 LSTM  256 dim  100 lr  1.8840811537076847e-05\n",
      "Epoch 1/10\n"
     ]
    },
    {
     "name": "stderr",
     "output_type": "stream",
     "text": [
      "C:\\Users\\mrbvb\\AppData\\Local\\Temp\\ipykernel_26724\\2049930526.py:16: FutureWarning: suggest_uniform has been deprecated in v3.0.0. This feature will be removed in v6.0.0. See https://github.com/optuna/optuna/releases/tag/v3.0.0. Use suggest_float instead.\n",
      "  dropout_rate = trial.suggest_uniform('dropout_rate', 0.09, 0.3)\n",
      "c:\\Users\\mrbvb\\AppData\\Local\\Programs\\Python\\Python311\\Lib\\site-packages\\optuna\\trial\\_trial.py:676: RuntimeWarning: Inconsistent parameter values for distribution with name \"dropout_rate\"! This might be a configuration mistake. Optuna allows to call the same distribution with the same name more than once in a trial. When the parameter values are inconsistent optuna only uses the values of the first call and ignores all following. Using these values: {'step': None, 'low': 0.05, 'high': 0.3, 'log': False}\n",
      "  warnings.warn(\n",
      "C:\\Users\\mrbvb\\AppData\\Local\\Temp\\ipykernel_26724\\2049930526.py:17: FutureWarning: suggest_uniform has been deprecated in v3.0.0. This feature will be removed in v6.0.0. See https://github.com/optuna/optuna/releases/tag/v3.0.0. Use suggest_float instead.\n",
      "  dropout_rate2 = trial.suggest_uniform('dropout_rate2', 0.05, 0.2)\n",
      "c:\\Users\\mrbvb\\AppData\\Local\\Programs\\Python\\Python311\\Lib\\site-packages\\optuna\\trial\\_trial.py:676: RuntimeWarning: Inconsistent parameter values for distribution with name \"dropout_rate2\"! This might be a configuration mistake. Optuna allows to call the same distribution with the same name more than once in a trial. When the parameter values are inconsistent optuna only uses the values of the first call and ignores all following. Using these values: {'step': None, 'low': 0.05, 'high': 0.1, 'log': False}\n",
      "  warnings.warn(\n",
      "C:\\Users\\mrbvb\\AppData\\Local\\Temp\\ipykernel_26724\\2049930526.py:20: FutureWarning: suggest_loguniform has been deprecated in v3.0.0. This feature will be removed in v6.0.0. See https://github.com/optuna/optuna/releases/tag/v3.0.0. Use suggest_float(..., log=True) instead.\n",
      "  learning_rate = trial.suggest_loguniform('learning_rate', 1e-6, 1e-3)\n",
      "c:\\Users\\mrbvb\\AppData\\Local\\Programs\\Python\\Python311\\Lib\\site-packages\\keras\\src\\layers\\core\\embedding.py:86: UserWarning: Argument `input_length` is deprecated. Just remove it.\n",
      "  warnings.warn(\n"
     ]
    },
    {
     "name": "stdout",
     "output_type": "stream",
     "text": [
      "\u001b[1m11/11\u001b[0m \u001b[32m━━━━━━━━━━━━━━━━━━━━\u001b[0m\u001b[37m\u001b[0m \u001b[1m9s\u001b[0m 428ms/step - accuracy: 0.4579 - loss: 0.6935\n",
      "Epoch 2/10\n",
      "\u001b[1m11/11\u001b[0m \u001b[32m━━━━━━━━━━━━━━━━━━━━\u001b[0m\u001b[37m\u001b[0m \u001b[1m5s\u001b[0m 437ms/step - accuracy: 0.5125 - loss: 0.6931\n",
      "Epoch 3/10\n",
      "\u001b[1m11/11\u001b[0m \u001b[32m━━━━━━━━━━━━━━━━━━━━\u001b[0m\u001b[37m\u001b[0m \u001b[1m5s\u001b[0m 440ms/step - accuracy: 0.5075 - loss: 0.6930\n",
      "Epoch 4/10\n",
      "\u001b[1m11/11\u001b[0m \u001b[32m━━━━━━━━━━━━━━━━━━━━\u001b[0m\u001b[37m\u001b[0m \u001b[1m5s\u001b[0m 440ms/step - accuracy: 0.5025 - loss: 0.6931\n",
      "Epoch 5/10\n",
      "\u001b[1m11/11\u001b[0m \u001b[32m━━━━━━━━━━━━━━━━━━━━\u001b[0m\u001b[37m\u001b[0m \u001b[1m5s\u001b[0m 437ms/step - accuracy: 0.6089 - loss: 0.6923\n",
      "Epoch 6/10\n",
      "\u001b[1m11/11\u001b[0m \u001b[32m━━━━━━━━━━━━━━━━━━━━\u001b[0m\u001b[37m\u001b[0m \u001b[1m5s\u001b[0m 435ms/step - accuracy: 0.5906 - loss: 0.6923\n",
      "Epoch 7/10\n",
      "\u001b[1m11/11\u001b[0m \u001b[32m━━━━━━━━━━━━━━━━━━━━\u001b[0m\u001b[37m\u001b[0m \u001b[1m5s\u001b[0m 450ms/step - accuracy: 0.6294 - loss: 0.6921\n",
      "Epoch 8/10\n",
      "\u001b[1m11/11\u001b[0m \u001b[32m━━━━━━━━━━━━━━━━━━━━\u001b[0m\u001b[37m\u001b[0m \u001b[1m5s\u001b[0m 448ms/step - accuracy: 0.6553 - loss: 0.6916\n",
      "Epoch 9/10\n",
      "\u001b[1m11/11\u001b[0m \u001b[32m━━━━━━━━━━━━━━━━━━━━\u001b[0m\u001b[37m\u001b[0m \u001b[1m5s\u001b[0m 443ms/step - accuracy: 0.6705 - loss: 0.6916\n",
      "Epoch 10/10\n",
      "\u001b[1m11/11\u001b[0m \u001b[32m━━━━━━━━━━━━━━━━━━━━\u001b[0m\u001b[37m\u001b[0m \u001b[1m5s\u001b[0m 443ms/step - accuracy: 0.7088 - loss: 0.6908\n",
      "\u001b[1m6/6\u001b[0m \u001b[32m━━━━━━━━━━━━━━━━━━━━\u001b[0m\u001b[37m\u001b[0m \u001b[1m2s\u001b[0m 255ms/step\n",
      "kw {}\n",
      "create mod: d_rate 0.09519559466194506 d_rate2  0.0923169036449272 LSTM  256 dim  100 lr  1.8840811537076847e-05\n",
      "Epoch 1/10\n"
     ]
    },
    {
     "name": "stderr",
     "output_type": "stream",
     "text": [
      "C:\\Users\\mrbvb\\AppData\\Local\\Temp\\ipykernel_26724\\2049930526.py:16: FutureWarning: suggest_uniform has been deprecated in v3.0.0. This feature will be removed in v6.0.0. See https://github.com/optuna/optuna/releases/tag/v3.0.0. Use suggest_float instead.\n",
      "  dropout_rate = trial.suggest_uniform('dropout_rate', 0.09, 0.3)\n",
      "c:\\Users\\mrbvb\\AppData\\Local\\Programs\\Python\\Python311\\Lib\\site-packages\\optuna\\trial\\_trial.py:676: RuntimeWarning: Inconsistent parameter values for distribution with name \"dropout_rate\"! This might be a configuration mistake. Optuna allows to call the same distribution with the same name more than once in a trial. When the parameter values are inconsistent optuna only uses the values of the first call and ignores all following. Using these values: {'step': None, 'low': 0.05, 'high': 0.3, 'log': False}\n",
      "  warnings.warn(\n",
      "C:\\Users\\mrbvb\\AppData\\Local\\Temp\\ipykernel_26724\\2049930526.py:17: FutureWarning: suggest_uniform has been deprecated in v3.0.0. This feature will be removed in v6.0.0. See https://github.com/optuna/optuna/releases/tag/v3.0.0. Use suggest_float instead.\n",
      "  dropout_rate2 = trial.suggest_uniform('dropout_rate2', 0.05, 0.2)\n",
      "c:\\Users\\mrbvb\\AppData\\Local\\Programs\\Python\\Python311\\Lib\\site-packages\\optuna\\trial\\_trial.py:676: RuntimeWarning: Inconsistent parameter values for distribution with name \"dropout_rate2\"! This might be a configuration mistake. Optuna allows to call the same distribution with the same name more than once in a trial. When the parameter values are inconsistent optuna only uses the values of the first call and ignores all following. Using these values: {'step': None, 'low': 0.05, 'high': 0.1, 'log': False}\n",
      "  warnings.warn(\n",
      "C:\\Users\\mrbvb\\AppData\\Local\\Temp\\ipykernel_26724\\2049930526.py:20: FutureWarning: suggest_loguniform has been deprecated in v3.0.0. This feature will be removed in v6.0.0. See https://github.com/optuna/optuna/releases/tag/v3.0.0. Use suggest_float(..., log=True) instead.\n",
      "  learning_rate = trial.suggest_loguniform('learning_rate', 1e-6, 1e-3)\n",
      "c:\\Users\\mrbvb\\AppData\\Local\\Programs\\Python\\Python311\\Lib\\site-packages\\keras\\src\\layers\\core\\embedding.py:86: UserWarning: Argument `input_length` is deprecated. Just remove it.\n",
      "  warnings.warn(\n"
     ]
    },
    {
     "name": "stdout",
     "output_type": "stream",
     "text": [
      "\u001b[1m11/11\u001b[0m \u001b[32m━━━━━━━━━━━━━━━━━━━━\u001b[0m\u001b[37m\u001b[0m \u001b[1m12s\u001b[0m 554ms/step - accuracy: 0.5205 - loss: 0.6929\n",
      "Epoch 2/10\n",
      "\u001b[1m11/11\u001b[0m \u001b[32m━━━━━━━━━━━━━━━━━━━━\u001b[0m\u001b[37m\u001b[0m \u001b[1m6s\u001b[0m 550ms/step - accuracy: 0.5460 - loss: 0.6923\n",
      "Epoch 3/10\n",
      "\u001b[1m11/11\u001b[0m \u001b[32m━━━━━━━━━━━━━━━━━━━━\u001b[0m\u001b[37m\u001b[0m \u001b[1m6s\u001b[0m 555ms/step - accuracy: 0.5638 - loss: 0.6909\n",
      "Epoch 4/10\n",
      "\u001b[1m11/11\u001b[0m \u001b[32m━━━━━━━━━━━━━━━━━━━━\u001b[0m\u001b[37m\u001b[0m \u001b[1m6s\u001b[0m 551ms/step - accuracy: 0.5597 - loss: 0.6902\n",
      "\u001b[1m6/6\u001b[0m \u001b[32m━━━━━━━━━━━━━━━━━━━━\u001b[0m\u001b[37m\u001b[0m \u001b[1m2s\u001b[0m 267ms/step\n",
      "result score f1 fuc -0.20703933747412007\n",
      "kw {}\n",
      "create mod: d_rate 0.09519559466194506 d_rate2  0.0923169036449272 LSTM  256 dim  100 lr  1.8840811537076847e-05\n",
      "Epoch 1/10\n"
     ]
    },
    {
     "name": "stderr",
     "output_type": "stream",
     "text": [
      "C:\\Users\\mrbvb\\AppData\\Local\\Temp\\ipykernel_26724\\2049930526.py:16: FutureWarning: suggest_uniform has been deprecated in v3.0.0. This feature will be removed in v6.0.0. See https://github.com/optuna/optuna/releases/tag/v3.0.0. Use suggest_float instead.\n",
      "  dropout_rate = trial.suggest_uniform('dropout_rate', 0.09, 0.3)\n",
      "c:\\Users\\mrbvb\\AppData\\Local\\Programs\\Python\\Python311\\Lib\\site-packages\\optuna\\trial\\_trial.py:676: RuntimeWarning: Inconsistent parameter values for distribution with name \"dropout_rate\"! This might be a configuration mistake. Optuna allows to call the same distribution with the same name more than once in a trial. When the parameter values are inconsistent optuna only uses the values of the first call and ignores all following. Using these values: {'step': None, 'low': 0.05, 'high': 0.3, 'log': False}\n",
      "  warnings.warn(\n",
      "C:\\Users\\mrbvb\\AppData\\Local\\Temp\\ipykernel_26724\\2049930526.py:17: FutureWarning: suggest_uniform has been deprecated in v3.0.0. This feature will be removed in v6.0.0. See https://github.com/optuna/optuna/releases/tag/v3.0.0. Use suggest_float instead.\n",
      "  dropout_rate2 = trial.suggest_uniform('dropout_rate2', 0.05, 0.2)\n",
      "c:\\Users\\mrbvb\\AppData\\Local\\Programs\\Python\\Python311\\Lib\\site-packages\\optuna\\trial\\_trial.py:676: RuntimeWarning: Inconsistent parameter values for distribution with name \"dropout_rate2\"! This might be a configuration mistake. Optuna allows to call the same distribution with the same name more than once in a trial. When the parameter values are inconsistent optuna only uses the values of the first call and ignores all following. Using these values: {'step': None, 'low': 0.05, 'high': 0.1, 'log': False}\n",
      "  warnings.warn(\n",
      "C:\\Users\\mrbvb\\AppData\\Local\\Temp\\ipykernel_26724\\2049930526.py:20: FutureWarning: suggest_loguniform has been deprecated in v3.0.0. This feature will be removed in v6.0.0. See https://github.com/optuna/optuna/releases/tag/v3.0.0. Use suggest_float(..., log=True) instead.\n",
      "  learning_rate = trial.suggest_loguniform('learning_rate', 1e-6, 1e-3)\n",
      "c:\\Users\\mrbvb\\AppData\\Local\\Programs\\Python\\Python311\\Lib\\site-packages\\keras\\src\\layers\\core\\embedding.py:86: UserWarning: Argument `input_length` is deprecated. Just remove it.\n",
      "  warnings.warn(\n"
     ]
    },
    {
     "name": "stdout",
     "output_type": "stream",
     "text": [
      "\u001b[1m11/11\u001b[0m \u001b[32m━━━━━━━━━━━━━━━━━━━━\u001b[0m\u001b[37m\u001b[0m \u001b[1m10s\u001b[0m 513ms/step - accuracy: 0.5015 - loss: 0.6934\n",
      "Epoch 2/10\n",
      "\u001b[1m11/11\u001b[0m \u001b[32m━━━━━━━━━━━━━━━━━━━━\u001b[0m\u001b[37m\u001b[0m \u001b[1m6s\u001b[0m 501ms/step - accuracy: 0.4902 - loss: 0.6931\n",
      "Epoch 3/10\n",
      "\u001b[1m11/11\u001b[0m \u001b[32m━━━━━━━━━━━━━━━━━━━━\u001b[0m\u001b[37m\u001b[0m \u001b[1m6s\u001b[0m 519ms/step - accuracy: 0.5256 - loss: 0.6923\n",
      "Epoch 4/10\n",
      "\u001b[1m11/11\u001b[0m \u001b[32m━━━━━━━━━━━━━━━━━━━━\u001b[0m\u001b[37m\u001b[0m \u001b[1m6s\u001b[0m 531ms/step - accuracy: 0.5063 - loss: 0.6929\n",
      "\u001b[1m6/6\u001b[0m \u001b[32m━━━━━━━━━━━━━━━━━━━━\u001b[0m\u001b[37m\u001b[0m \u001b[1m2s\u001b[0m 271ms/step\n",
      "kw {}\n",
      "create mod: d_rate 0.09519559466194506 d_rate2  0.0923169036449272 LSTM  256 dim  100 lr  1.8840811537076847e-05\n",
      "Epoch 1/10\n"
     ]
    },
    {
     "name": "stderr",
     "output_type": "stream",
     "text": [
      "C:\\Users\\mrbvb\\AppData\\Local\\Temp\\ipykernel_26724\\2049930526.py:16: FutureWarning: suggest_uniform has been deprecated in v3.0.0. This feature will be removed in v6.0.0. See https://github.com/optuna/optuna/releases/tag/v3.0.0. Use suggest_float instead.\n",
      "  dropout_rate = trial.suggest_uniform('dropout_rate', 0.09, 0.3)\n",
      "c:\\Users\\mrbvb\\AppData\\Local\\Programs\\Python\\Python311\\Lib\\site-packages\\optuna\\trial\\_trial.py:676: RuntimeWarning: Inconsistent parameter values for distribution with name \"dropout_rate\"! This might be a configuration mistake. Optuna allows to call the same distribution with the same name more than once in a trial. When the parameter values are inconsistent optuna only uses the values of the first call and ignores all following. Using these values: {'step': None, 'low': 0.05, 'high': 0.3, 'log': False}\n",
      "  warnings.warn(\n",
      "C:\\Users\\mrbvb\\AppData\\Local\\Temp\\ipykernel_26724\\2049930526.py:17: FutureWarning: suggest_uniform has been deprecated in v3.0.0. This feature will be removed in v6.0.0. See https://github.com/optuna/optuna/releases/tag/v3.0.0. Use suggest_float instead.\n",
      "  dropout_rate2 = trial.suggest_uniform('dropout_rate2', 0.05, 0.2)\n",
      "c:\\Users\\mrbvb\\AppData\\Local\\Programs\\Python\\Python311\\Lib\\site-packages\\optuna\\trial\\_trial.py:676: RuntimeWarning: Inconsistent parameter values for distribution with name \"dropout_rate2\"! This might be a configuration mistake. Optuna allows to call the same distribution with the same name more than once in a trial. When the parameter values are inconsistent optuna only uses the values of the first call and ignores all following. Using these values: {'step': None, 'low': 0.05, 'high': 0.1, 'log': False}\n",
      "  warnings.warn(\n",
      "C:\\Users\\mrbvb\\AppData\\Local\\Temp\\ipykernel_26724\\2049930526.py:20: FutureWarning: suggest_loguniform has been deprecated in v3.0.0. This feature will be removed in v6.0.0. See https://github.com/optuna/optuna/releases/tag/v3.0.0. Use suggest_float(..., log=True) instead.\n",
      "  learning_rate = trial.suggest_loguniform('learning_rate', 1e-6, 1e-3)\n",
      "c:\\Users\\mrbvb\\AppData\\Local\\Programs\\Python\\Python311\\Lib\\site-packages\\keras\\src\\layers\\core\\embedding.py:86: UserWarning: Argument `input_length` is deprecated. Just remove it.\n",
      "  warnings.warn(\n"
     ]
    },
    {
     "name": "stdout",
     "output_type": "stream",
     "text": [
      "\u001b[1m11/11\u001b[0m \u001b[32m━━━━━━━━━━━━━━━━━━━━\u001b[0m\u001b[37m\u001b[0m \u001b[1m10s\u001b[0m 505ms/step - accuracy: 0.4936 - loss: 0.6936\n",
      "Epoch 2/10\n",
      "\u001b[1m11/11\u001b[0m \u001b[32m━━━━━━━━━━━━━━━━━━━━\u001b[0m\u001b[37m\u001b[0m \u001b[1m5s\u001b[0m 495ms/step - accuracy: 0.5234 - loss: 0.6926\n",
      "Epoch 3/10\n",
      "\u001b[1m11/11\u001b[0m \u001b[32m━━━━━━━━━━━━━━━━━━━━\u001b[0m\u001b[37m\u001b[0m \u001b[1m5s\u001b[0m 481ms/step - accuracy: 0.5117 - loss: 0.6928\n",
      "Epoch 4/10\n",
      "\u001b[1m11/11\u001b[0m \u001b[32m━━━━━━━━━━━━━━━━━━━━\u001b[0m\u001b[37m\u001b[0m \u001b[1m5s\u001b[0m 490ms/step - accuracy: 0.5393 - loss: 0.6925\n",
      "Epoch 5/10\n",
      "\u001b[1m11/11\u001b[0m \u001b[32m━━━━━━━━━━━━━━━━━━━━\u001b[0m\u001b[37m\u001b[0m \u001b[1m5s\u001b[0m 491ms/step - accuracy: 0.4924 - loss: 0.6928\n",
      "Epoch 6/10\n",
      "\u001b[1m11/11\u001b[0m \u001b[32m━━━━━━━━━━━━━━━━━━━━\u001b[0m\u001b[37m\u001b[0m \u001b[1m5s\u001b[0m 487ms/step - accuracy: 0.5432 - loss: 0.6922\n",
      "Epoch 7/10\n",
      "\u001b[1m11/11\u001b[0m \u001b[32m━━━━━━━━━━━━━━━━━━━━\u001b[0m\u001b[37m\u001b[0m \u001b[1m5s\u001b[0m 493ms/step - accuracy: 0.5864 - loss: 0.6920\n",
      "Epoch 8/10\n",
      "\u001b[1m11/11\u001b[0m \u001b[32m━━━━━━━━━━━━━━━━━━━━\u001b[0m\u001b[37m\u001b[0m \u001b[1m5s\u001b[0m 489ms/step - accuracy: 0.5867 - loss: 0.6917\n",
      "Epoch 9/10\n",
      "\u001b[1m11/11\u001b[0m \u001b[32m━━━━━━━━━━━━━━━━━━━━\u001b[0m\u001b[37m\u001b[0m \u001b[1m5s\u001b[0m 489ms/step - accuracy: 0.5885 - loss: 0.6919\n",
      "Epoch 10/10\n",
      "\u001b[1m11/11\u001b[0m \u001b[32m━━━━━━━━━━━━━━━━━━━━\u001b[0m\u001b[37m\u001b[0m \u001b[1m5s\u001b[0m 495ms/step - accuracy: 0.6491 - loss: 0.6909\n",
      "\u001b[1m6/6\u001b[0m \u001b[32m━━━━━━━━━━━━━━━━━━━━\u001b[0m\u001b[37m\u001b[0m \u001b[1m2s\u001b[0m 256ms/step\n",
      "kw {}\n",
      "create mod: d_rate 0.09519559466194506 d_rate2  0.0923169036449272 LSTM  256 dim  100 lr  1.8840811537076847e-05\n",
      "Epoch 1/10\n"
     ]
    },
    {
     "name": "stderr",
     "output_type": "stream",
     "text": [
      "C:\\Users\\mrbvb\\AppData\\Local\\Temp\\ipykernel_26724\\2049930526.py:16: FutureWarning: suggest_uniform has been deprecated in v3.0.0. This feature will be removed in v6.0.0. See https://github.com/optuna/optuna/releases/tag/v3.0.0. Use suggest_float instead.\n",
      "  dropout_rate = trial.suggest_uniform('dropout_rate', 0.09, 0.3)\n",
      "c:\\Users\\mrbvb\\AppData\\Local\\Programs\\Python\\Python311\\Lib\\site-packages\\optuna\\trial\\_trial.py:676: RuntimeWarning: Inconsistent parameter values for distribution with name \"dropout_rate\"! This might be a configuration mistake. Optuna allows to call the same distribution with the same name more than once in a trial. When the parameter values are inconsistent optuna only uses the values of the first call and ignores all following. Using these values: {'step': None, 'low': 0.05, 'high': 0.3, 'log': False}\n",
      "  warnings.warn(\n",
      "C:\\Users\\mrbvb\\AppData\\Local\\Temp\\ipykernel_26724\\2049930526.py:17: FutureWarning: suggest_uniform has been deprecated in v3.0.0. This feature will be removed in v6.0.0. See https://github.com/optuna/optuna/releases/tag/v3.0.0. Use suggest_float instead.\n",
      "  dropout_rate2 = trial.suggest_uniform('dropout_rate2', 0.05, 0.2)\n",
      "c:\\Users\\mrbvb\\AppData\\Local\\Programs\\Python\\Python311\\Lib\\site-packages\\optuna\\trial\\_trial.py:676: RuntimeWarning: Inconsistent parameter values for distribution with name \"dropout_rate2\"! This might be a configuration mistake. Optuna allows to call the same distribution with the same name more than once in a trial. When the parameter values are inconsistent optuna only uses the values of the first call and ignores all following. Using these values: {'step': None, 'low': 0.05, 'high': 0.1, 'log': False}\n",
      "  warnings.warn(\n",
      "C:\\Users\\mrbvb\\AppData\\Local\\Temp\\ipykernel_26724\\2049930526.py:20: FutureWarning: suggest_loguniform has been deprecated in v3.0.0. This feature will be removed in v6.0.0. See https://github.com/optuna/optuna/releases/tag/v3.0.0. Use suggest_float(..., log=True) instead.\n",
      "  learning_rate = trial.suggest_loguniform('learning_rate', 1e-6, 1e-3)\n",
      "c:\\Users\\mrbvb\\AppData\\Local\\Programs\\Python\\Python311\\Lib\\site-packages\\keras\\src\\layers\\core\\embedding.py:86: UserWarning: Argument `input_length` is deprecated. Just remove it.\n",
      "  warnings.warn(\n"
     ]
    },
    {
     "name": "stdout",
     "output_type": "stream",
     "text": [
      "\u001b[1m11/11\u001b[0m \u001b[32m━━━━━━━━━━━━━━━━━━━━\u001b[0m\u001b[37m\u001b[0m \u001b[1m9s\u001b[0m 409ms/step - accuracy: 0.5252 - loss: 0.6930\n",
      "Epoch 2/10\n",
      "\u001b[1m11/11\u001b[0m \u001b[32m━━━━━━━━━━━━━━━━━━━━\u001b[0m\u001b[37m\u001b[0m \u001b[1m4s\u001b[0m 382ms/step - accuracy: 0.5468 - loss: 0.6924\n",
      "Epoch 3/10\n",
      "\u001b[1m11/11\u001b[0m \u001b[32m━━━━━━━━━━━━━━━━━━━━\u001b[0m\u001b[37m\u001b[0m \u001b[1m4s\u001b[0m 389ms/step - accuracy: 0.5503 - loss: 0.6916\n",
      "Epoch 4/10\n",
      "\u001b[1m11/11\u001b[0m \u001b[32m━━━━━━━━━━━━━━━━━━━━\u001b[0m\u001b[37m\u001b[0m \u001b[1m4s\u001b[0m 389ms/step - accuracy: 0.5284 - loss: 0.6918\n",
      "Epoch 5/10\n",
      "\u001b[1m11/11\u001b[0m \u001b[32m━━━━━━━━━━━━━━━━━━━━\u001b[0m\u001b[37m\u001b[0m \u001b[1m4s\u001b[0m 389ms/step - accuracy: 0.5063 - loss: 0.6923\n",
      "\u001b[1m6/6\u001b[0m \u001b[32m━━━━━━━━━━━━━━━━━━━━\u001b[0m\u001b[37m\u001b[0m \u001b[1m2s\u001b[0m 221ms/step\n"
     ]
    },
    {
     "name": "stderr",
     "output_type": "stream",
     "text": [
      "[I 2024-04-30 17:10:01,569] Trial 2 finished with value: 0.20701754385964913 and parameters: {'dropout_rate': 0.09519559466194506, 'dropout_rate2': 0.0923169036449272, 'LSTM_units': 256, 'EMBEDDING_DIM': 100, 'learning_rate': 1.8840811537076847e-05}. Best is trial 0 with value: 0.7263624737711227.\n"
     ]
    },
    {
     "name": "stdout",
     "output_type": "stream",
     "text": [
      "objectiving\n",
      "kw {}\n",
      "kw {}\n",
      "create mod: d_rate 0.2357155537622735 d_rate2  0.05839907420390267 LSTM  64 dim  100 lr  3.147618610026078e-06\n",
      "Epoch 1/10\n"
     ]
    },
    {
     "name": "stderr",
     "output_type": "stream",
     "text": [
      "C:\\Users\\mrbvb\\AppData\\Local\\Temp\\ipykernel_26724\\2049930526.py:63: FutureWarning: suggest_uniform has been deprecated in v3.0.0. This feature will be removed in v6.0.0. See https://github.com/optuna/optuna/releases/tag/v3.0.0. Use suggest_float instead.\n",
      "  dropout_rate = trial.suggest_uniform('dropout_rate', 0.05, 0.3) #value should be from small to large only\n",
      "C:\\Users\\mrbvb\\AppData\\Local\\Temp\\ipykernel_26724\\2049930526.py:64: FutureWarning: suggest_uniform has been deprecated in v3.0.0. This feature will be removed in v6.0.0. See https://github.com/optuna/optuna/releases/tag/v3.0.0. Use suggest_float instead.\n",
      "  dropout_rate2 = trial.suggest_uniform('dropout_rate2', 0.05, 0.1)\n",
      "C:\\Users\\mrbvb\\AppData\\Local\\Temp\\ipykernel_26724\\2049930526.py:67: FutureWarning: suggest_loguniform has been deprecated in v3.0.0. This feature will be removed in v6.0.0. See https://github.com/optuna/optuna/releases/tag/v3.0.0. Use suggest_float(..., log=True) instead.\n",
      "  learning_rate = trial.suggest_loguniform('learning_rate', 1e-6, 1e-3)\n",
      "C:\\Users\\mrbvb\\AppData\\Local\\Temp\\ipykernel_26724\\2049930526.py:16: FutureWarning: suggest_uniform has been deprecated in v3.0.0. This feature will be removed in v6.0.0. See https://github.com/optuna/optuna/releases/tag/v3.0.0. Use suggest_float instead.\n",
      "  dropout_rate = trial.suggest_uniform('dropout_rate', 0.09, 0.3)\n",
      "c:\\Users\\mrbvb\\AppData\\Local\\Programs\\Python\\Python311\\Lib\\site-packages\\optuna\\trial\\_trial.py:676: RuntimeWarning: Inconsistent parameter values for distribution with name \"dropout_rate\"! This might be a configuration mistake. Optuna allows to call the same distribution with the same name more than once in a trial. When the parameter values are inconsistent optuna only uses the values of the first call and ignores all following. Using these values: {'step': None, 'low': 0.05, 'high': 0.3, 'log': False}\n",
      "  warnings.warn(\n",
      "C:\\Users\\mrbvb\\AppData\\Local\\Temp\\ipykernel_26724\\2049930526.py:17: FutureWarning: suggest_uniform has been deprecated in v3.0.0. This feature will be removed in v6.0.0. See https://github.com/optuna/optuna/releases/tag/v3.0.0. Use suggest_float instead.\n",
      "  dropout_rate2 = trial.suggest_uniform('dropout_rate2', 0.05, 0.2)\n",
      "c:\\Users\\mrbvb\\AppData\\Local\\Programs\\Python\\Python311\\Lib\\site-packages\\optuna\\trial\\_trial.py:676: RuntimeWarning: Inconsistent parameter values for distribution with name \"dropout_rate2\"! This might be a configuration mistake. Optuna allows to call the same distribution with the same name more than once in a trial. When the parameter values are inconsistent optuna only uses the values of the first call and ignores all following. Using these values: {'step': None, 'low': 0.05, 'high': 0.1, 'log': False}\n",
      "  warnings.warn(\n",
      "C:\\Users\\mrbvb\\AppData\\Local\\Temp\\ipykernel_26724\\2049930526.py:20: FutureWarning: suggest_loguniform has been deprecated in v3.0.0. This feature will be removed in v6.0.0. See https://github.com/optuna/optuna/releases/tag/v3.0.0. Use suggest_float(..., log=True) instead.\n",
      "  learning_rate = trial.suggest_loguniform('learning_rate', 1e-6, 1e-3)\n",
      "c:\\Users\\mrbvb\\AppData\\Local\\Programs\\Python\\Python311\\Lib\\site-packages\\keras\\src\\layers\\core\\embedding.py:86: UserWarning: Argument `input_length` is deprecated. Just remove it.\n",
      "  warnings.warn(\n"
     ]
    },
    {
     "name": "stdout",
     "output_type": "stream",
     "text": [
      "\u001b[1m11/11\u001b[0m \u001b[32m━━━━━━━━━━━━━━━━━━━━\u001b[0m\u001b[37m\u001b[0m \u001b[1m7s\u001b[0m 247ms/step - accuracy: 0.5228 - loss: 0.6922\n",
      "Epoch 2/10\n",
      "\u001b[1m11/11\u001b[0m \u001b[32m━━━━━━━━━━━━━━━━━━━━\u001b[0m\u001b[37m\u001b[0m \u001b[1m2s\u001b[0m 222ms/step - accuracy: 0.4762 - loss: 0.6940\n",
      "Epoch 3/10\n",
      "\u001b[1m11/11\u001b[0m \u001b[32m━━━━━━━━━━━━━━━━━━━━\u001b[0m\u001b[37m\u001b[0m \u001b[1m2s\u001b[0m 214ms/step - accuracy: 0.5058 - loss: 0.6929\n",
      "Epoch 4/10\n",
      "\u001b[1m11/11\u001b[0m \u001b[32m━━━━━━━━━━━━━━━━━━━━\u001b[0m\u001b[37m\u001b[0m \u001b[1m2s\u001b[0m 221ms/step - accuracy: 0.4980 - loss: 0.6928\n",
      "Epoch 5/10\n",
      "\u001b[1m11/11\u001b[0m \u001b[32m━━━━━━━━━━━━━━━━━━━━\u001b[0m\u001b[37m\u001b[0m \u001b[1m2s\u001b[0m 218ms/step - accuracy: 0.4809 - loss: 0.6936\n",
      "Epoch 6/10\n",
      "\u001b[1m11/11\u001b[0m \u001b[32m━━━━━━━━━━━━━━━━━━━━\u001b[0m\u001b[37m\u001b[0m \u001b[1m2s\u001b[0m 221ms/step - accuracy: 0.4917 - loss: 0.6929\n",
      "Epoch 7/10\n",
      "\u001b[1m11/11\u001b[0m \u001b[32m━━━━━━━━━━━━━━━━━━━━\u001b[0m\u001b[37m\u001b[0m \u001b[1m2s\u001b[0m 215ms/step - accuracy: 0.5176 - loss: 0.6919\n",
      "Epoch 8/10\n",
      "\u001b[1m11/11\u001b[0m \u001b[32m━━━━━━━━━━━━━━━━━━━━\u001b[0m\u001b[37m\u001b[0m \u001b[1m2s\u001b[0m 217ms/step - accuracy: 0.5145 - loss: 0.6923\n",
      "Epoch 9/10\n",
      "\u001b[1m11/11\u001b[0m \u001b[32m━━━━━━━━━━━━━━━━━━━━\u001b[0m\u001b[37m\u001b[0m \u001b[1m2s\u001b[0m 218ms/step - accuracy: 0.4130 - loss: 0.6961\n",
      "\u001b[1m6/6\u001b[0m \u001b[32m━━━━━━━━━━━━━━━━━━━━\u001b[0m\u001b[37m\u001b[0m \u001b[1m1s\u001b[0m 139ms/step\n",
      "kw {}\n",
      "create mod: d_rate 0.2357155537622735 d_rate2  0.05839907420390267 LSTM  64 dim  100 lr  3.147618610026078e-06\n",
      "Epoch 1/10\n"
     ]
    },
    {
     "name": "stderr",
     "output_type": "stream",
     "text": [
      "C:\\Users\\mrbvb\\AppData\\Local\\Temp\\ipykernel_26724\\2049930526.py:16: FutureWarning: suggest_uniform has been deprecated in v3.0.0. This feature will be removed in v6.0.0. See https://github.com/optuna/optuna/releases/tag/v3.0.0. Use suggest_float instead.\n",
      "  dropout_rate = trial.suggest_uniform('dropout_rate', 0.09, 0.3)\n",
      "c:\\Users\\mrbvb\\AppData\\Local\\Programs\\Python\\Python311\\Lib\\site-packages\\optuna\\trial\\_trial.py:676: RuntimeWarning: Inconsistent parameter values for distribution with name \"dropout_rate\"! This might be a configuration mistake. Optuna allows to call the same distribution with the same name more than once in a trial. When the parameter values are inconsistent optuna only uses the values of the first call and ignores all following. Using these values: {'step': None, 'low': 0.05, 'high': 0.3, 'log': False}\n",
      "  warnings.warn(\n",
      "C:\\Users\\mrbvb\\AppData\\Local\\Temp\\ipykernel_26724\\2049930526.py:17: FutureWarning: suggest_uniform has been deprecated in v3.0.0. This feature will be removed in v6.0.0. See https://github.com/optuna/optuna/releases/tag/v3.0.0. Use suggest_float instead.\n",
      "  dropout_rate2 = trial.suggest_uniform('dropout_rate2', 0.05, 0.2)\n",
      "c:\\Users\\mrbvb\\AppData\\Local\\Programs\\Python\\Python311\\Lib\\site-packages\\optuna\\trial\\_trial.py:676: RuntimeWarning: Inconsistent parameter values for distribution with name \"dropout_rate2\"! This might be a configuration mistake. Optuna allows to call the same distribution with the same name more than once in a trial. When the parameter values are inconsistent optuna only uses the values of the first call and ignores all following. Using these values: {'step': None, 'low': 0.05, 'high': 0.1, 'log': False}\n",
      "  warnings.warn(\n",
      "C:\\Users\\mrbvb\\AppData\\Local\\Temp\\ipykernel_26724\\2049930526.py:20: FutureWarning: suggest_loguniform has been deprecated in v3.0.0. This feature will be removed in v6.0.0. See https://github.com/optuna/optuna/releases/tag/v3.0.0. Use suggest_float(..., log=True) instead.\n",
      "  learning_rate = trial.suggest_loguniform('learning_rate', 1e-6, 1e-3)\n",
      "c:\\Users\\mrbvb\\AppData\\Local\\Programs\\Python\\Python311\\Lib\\site-packages\\keras\\src\\layers\\core\\embedding.py:86: UserWarning: Argument `input_length` is deprecated. Just remove it.\n",
      "  warnings.warn(\n"
     ]
    },
    {
     "name": "stdout",
     "output_type": "stream",
     "text": [
      "\u001b[1m11/11\u001b[0m \u001b[32m━━━━━━━━━━━━━━━━━━━━\u001b[0m\u001b[37m\u001b[0m \u001b[1m9s\u001b[0m 296ms/step - accuracy: 0.4908 - loss: 0.6936\n",
      "Epoch 2/10\n",
      "\u001b[1m11/11\u001b[0m \u001b[32m━━━━━━━━━━━━━━━━━━━━\u001b[0m\u001b[37m\u001b[0m \u001b[1m3s\u001b[0m 294ms/step - accuracy: 0.4776 - loss: 0.6935\n",
      "Epoch 3/10\n",
      "\u001b[1m11/11\u001b[0m \u001b[32m━━━━━━━━━━━━━━━━━━━━\u001b[0m\u001b[37m\u001b[0m \u001b[1m3s\u001b[0m 290ms/step - accuracy: 0.5019 - loss: 0.6933\n",
      "Epoch 4/10\n",
      "\u001b[1m11/11\u001b[0m \u001b[32m━━━━━━━━━━━━━━━━━━━━\u001b[0m\u001b[37m\u001b[0m \u001b[1m3s\u001b[0m 288ms/step - accuracy: 0.5526 - loss: 0.6924\n",
      "Epoch 5/10\n",
      "\u001b[1m11/11\u001b[0m \u001b[32m━━━━━━━━━━━━━━━━━━━━\u001b[0m\u001b[37m\u001b[0m \u001b[1m3s\u001b[0m 285ms/step - accuracy: 0.5169 - loss: 0.6931\n",
      "Epoch 6/10\n",
      "\u001b[1m11/11\u001b[0m \u001b[32m━━━━━━━━━━━━━━━━━━━━\u001b[0m\u001b[37m\u001b[0m \u001b[1m3s\u001b[0m 285ms/step - accuracy: 0.4162 - loss: 0.6941\n",
      "Epoch 7/10\n",
      "\u001b[1m11/11\u001b[0m \u001b[32m━━━━━━━━━━━━━━━━━━━━\u001b[0m\u001b[37m\u001b[0m \u001b[1m3s\u001b[0m 284ms/step - accuracy: 0.4751 - loss: 0.6937\n",
      "\u001b[1m6/6\u001b[0m \u001b[32m━━━━━━━━━━━━━━━━━━━━\u001b[0m\u001b[37m\u001b[0m \u001b[1m1s\u001b[0m 157ms/step\n",
      "kw {}\n",
      "create mod: d_rate 0.2357155537622735 d_rate2  0.05839907420390267 LSTM  64 dim  100 lr  3.147618610026078e-06\n",
      "Epoch 1/10\n"
     ]
    },
    {
     "name": "stderr",
     "output_type": "stream",
     "text": [
      "C:\\Users\\mrbvb\\AppData\\Local\\Temp\\ipykernel_26724\\2049930526.py:16: FutureWarning: suggest_uniform has been deprecated in v3.0.0. This feature will be removed in v6.0.0. See https://github.com/optuna/optuna/releases/tag/v3.0.0. Use suggest_float instead.\n",
      "  dropout_rate = trial.suggest_uniform('dropout_rate', 0.09, 0.3)\n",
      "c:\\Users\\mrbvb\\AppData\\Local\\Programs\\Python\\Python311\\Lib\\site-packages\\optuna\\trial\\_trial.py:676: RuntimeWarning: Inconsistent parameter values for distribution with name \"dropout_rate\"! This might be a configuration mistake. Optuna allows to call the same distribution with the same name more than once in a trial. When the parameter values are inconsistent optuna only uses the values of the first call and ignores all following. Using these values: {'step': None, 'low': 0.05, 'high': 0.3, 'log': False}\n",
      "  warnings.warn(\n",
      "C:\\Users\\mrbvb\\AppData\\Local\\Temp\\ipykernel_26724\\2049930526.py:17: FutureWarning: suggest_uniform has been deprecated in v3.0.0. This feature will be removed in v6.0.0. See https://github.com/optuna/optuna/releases/tag/v3.0.0. Use suggest_float instead.\n",
      "  dropout_rate2 = trial.suggest_uniform('dropout_rate2', 0.05, 0.2)\n",
      "c:\\Users\\mrbvb\\AppData\\Local\\Programs\\Python\\Python311\\Lib\\site-packages\\optuna\\trial\\_trial.py:676: RuntimeWarning: Inconsistent parameter values for distribution with name \"dropout_rate2\"! This might be a configuration mistake. Optuna allows to call the same distribution with the same name more than once in a trial. When the parameter values are inconsistent optuna only uses the values of the first call and ignores all following. Using these values: {'step': None, 'low': 0.05, 'high': 0.1, 'log': False}\n",
      "  warnings.warn(\n",
      "C:\\Users\\mrbvb\\AppData\\Local\\Temp\\ipykernel_26724\\2049930526.py:20: FutureWarning: suggest_loguniform has been deprecated in v3.0.0. This feature will be removed in v6.0.0. See https://github.com/optuna/optuna/releases/tag/v3.0.0. Use suggest_float(..., log=True) instead.\n",
      "  learning_rate = trial.suggest_loguniform('learning_rate', 1e-6, 1e-3)\n",
      "c:\\Users\\mrbvb\\AppData\\Local\\Programs\\Python\\Python311\\Lib\\site-packages\\keras\\src\\layers\\core\\embedding.py:86: UserWarning: Argument `input_length` is deprecated. Just remove it.\n",
      "  warnings.warn(\n"
     ]
    },
    {
     "name": "stdout",
     "output_type": "stream",
     "text": [
      "\u001b[1m11/11\u001b[0m \u001b[32m━━━━━━━━━━━━━━━━━━━━\u001b[0m\u001b[37m\u001b[0m \u001b[1m7s\u001b[0m 272ms/step - accuracy: 0.5077 - loss: 0.6929\n",
      "Epoch 2/10\n",
      "\u001b[1m11/11\u001b[0m \u001b[32m━━━━━━━━━━━━━━━━━━━━\u001b[0m\u001b[37m\u001b[0m \u001b[1m3s\u001b[0m 264ms/step - accuracy: 0.5076 - loss: 0.6922\n",
      "Epoch 3/10\n",
      "\u001b[1m11/11\u001b[0m \u001b[32m━━━━━━━━━━━━━━━━━━━━\u001b[0m\u001b[37m\u001b[0m \u001b[1m3s\u001b[0m 263ms/step - accuracy: 0.5106 - loss: 0.6923\n",
      "Epoch 4/10\n",
      "\u001b[1m11/11\u001b[0m \u001b[32m━━━━━━━━━━━━━━━━━━━━\u001b[0m\u001b[37m\u001b[0m \u001b[1m3s\u001b[0m 263ms/step - accuracy: 0.5429 - loss: 0.6925\n",
      "Epoch 5/10\n",
      "\u001b[1m11/11\u001b[0m \u001b[32m━━━━━━━━━━━━━━━━━━━━\u001b[0m\u001b[37m\u001b[0m \u001b[1m3s\u001b[0m 267ms/step - accuracy: 0.5095 - loss: 0.6920\n",
      "\u001b[1m6/6\u001b[0m \u001b[32m━━━━━━━━━━━━━━━━━━━━\u001b[0m\u001b[37m\u001b[0m \u001b[1m1s\u001b[0m 150ms/step\n",
      "result score f1 fuc -0.2691902361217921\n",
      "kw {}\n",
      "create mod: d_rate 0.2357155537622735 d_rate2  0.05839907420390267 LSTM  64 dim  100 lr  3.147618610026078e-06\n",
      "Epoch 1/10\n"
     ]
    },
    {
     "name": "stderr",
     "output_type": "stream",
     "text": [
      "C:\\Users\\mrbvb\\AppData\\Local\\Temp\\ipykernel_26724\\2049930526.py:16: FutureWarning: suggest_uniform has been deprecated in v3.0.0. This feature will be removed in v6.0.0. See https://github.com/optuna/optuna/releases/tag/v3.0.0. Use suggest_float instead.\n",
      "  dropout_rate = trial.suggest_uniform('dropout_rate', 0.09, 0.3)\n",
      "c:\\Users\\mrbvb\\AppData\\Local\\Programs\\Python\\Python311\\Lib\\site-packages\\optuna\\trial\\_trial.py:676: RuntimeWarning: Inconsistent parameter values for distribution with name \"dropout_rate\"! This might be a configuration mistake. Optuna allows to call the same distribution with the same name more than once in a trial. When the parameter values are inconsistent optuna only uses the values of the first call and ignores all following. Using these values: {'step': None, 'low': 0.05, 'high': 0.3, 'log': False}\n",
      "  warnings.warn(\n",
      "C:\\Users\\mrbvb\\AppData\\Local\\Temp\\ipykernel_26724\\2049930526.py:17: FutureWarning: suggest_uniform has been deprecated in v3.0.0. This feature will be removed in v6.0.0. See https://github.com/optuna/optuna/releases/tag/v3.0.0. Use suggest_float instead.\n",
      "  dropout_rate2 = trial.suggest_uniform('dropout_rate2', 0.05, 0.2)\n",
      "c:\\Users\\mrbvb\\AppData\\Local\\Programs\\Python\\Python311\\Lib\\site-packages\\optuna\\trial\\_trial.py:676: RuntimeWarning: Inconsistent parameter values for distribution with name \"dropout_rate2\"! This might be a configuration mistake. Optuna allows to call the same distribution with the same name more than once in a trial. When the parameter values are inconsistent optuna only uses the values of the first call and ignores all following. Using these values: {'step': None, 'low': 0.05, 'high': 0.1, 'log': False}\n",
      "  warnings.warn(\n",
      "C:\\Users\\mrbvb\\AppData\\Local\\Temp\\ipykernel_26724\\2049930526.py:20: FutureWarning: suggest_loguniform has been deprecated in v3.0.0. This feature will be removed in v6.0.0. See https://github.com/optuna/optuna/releases/tag/v3.0.0. Use suggest_float(..., log=True) instead.\n",
      "  learning_rate = trial.suggest_loguniform('learning_rate', 1e-6, 1e-3)\n",
      "c:\\Users\\mrbvb\\AppData\\Local\\Programs\\Python\\Python311\\Lib\\site-packages\\keras\\src\\layers\\core\\embedding.py:86: UserWarning: Argument `input_length` is deprecated. Just remove it.\n",
      "  warnings.warn(\n"
     ]
    },
    {
     "name": "stdout",
     "output_type": "stream",
     "text": [
      "\u001b[1m11/11\u001b[0m \u001b[32m━━━━━━━━━━━━━━━━━━━━\u001b[0m\u001b[37m\u001b[0m \u001b[1m7s\u001b[0m 246ms/step - accuracy: 0.5093 - loss: 0.6929\n",
      "Epoch 2/10\n",
      "\u001b[1m11/11\u001b[0m \u001b[32m━━━━━━━━━━━━━━━━━━━━\u001b[0m\u001b[37m\u001b[0m \u001b[1m3s\u001b[0m 242ms/step - accuracy: 0.5471 - loss: 0.6926\n",
      "Epoch 3/10\n",
      "\u001b[1m11/11\u001b[0m \u001b[32m━━━━━━━━━━━━━━━━━━━━\u001b[0m\u001b[37m\u001b[0m \u001b[1m3s\u001b[0m 237ms/step - accuracy: 0.4844 - loss: 0.6929\n",
      "Epoch 4/10\n",
      "\u001b[1m11/11\u001b[0m \u001b[32m━━━━━━━━━━━━━━━━━━━━\u001b[0m\u001b[37m\u001b[0m \u001b[1m3s\u001b[0m 237ms/step - accuracy: 0.5108 - loss: 0.6933\n",
      "Epoch 5/10\n",
      "\u001b[1m11/11\u001b[0m \u001b[32m━━━━━━━━━━━━━━━━━━━━\u001b[0m\u001b[37m\u001b[0m \u001b[1m3s\u001b[0m 238ms/step - accuracy: 0.4719 - loss: 0.6931\n",
      "Epoch 6/10\n",
      "\u001b[1m11/11\u001b[0m \u001b[32m━━━━━━━━━━━━━━━━━━━━\u001b[0m\u001b[37m\u001b[0m \u001b[1m3s\u001b[0m 227ms/step - accuracy: 0.5058 - loss: 0.6933\n",
      "Epoch 7/10\n",
      "\u001b[1m11/11\u001b[0m \u001b[32m━━━━━━━━━━━━━━━━━━━━\u001b[0m\u001b[37m\u001b[0m \u001b[1m3s\u001b[0m 228ms/step - accuracy: 0.4590 - loss: 0.6938\n",
      "Epoch 8/10\n",
      "\u001b[1m11/11\u001b[0m \u001b[32m━━━━━━━━━━━━━━━━━━━━\u001b[0m\u001b[37m\u001b[0m \u001b[1m3s\u001b[0m 229ms/step - accuracy: 0.5021 - loss: 0.6927\n",
      "Epoch 9/10\n",
      "\u001b[1m11/11\u001b[0m \u001b[32m━━━━━━━━━━━━━━━━━━━━\u001b[0m\u001b[37m\u001b[0m \u001b[1m3s\u001b[0m 226ms/step - accuracy: 0.5476 - loss: 0.6921\n",
      "\u001b[1m6/6\u001b[0m \u001b[32m━━━━━━━━━━━━━━━━━━━━\u001b[0m\u001b[37m\u001b[0m \u001b[1m1s\u001b[0m 140ms/step\n",
      "kw {}\n",
      "create mod: d_rate 0.2357155537622735 d_rate2  0.05839907420390267 LSTM  64 dim  100 lr  3.147618610026078e-06\n",
      "Epoch 1/10\n"
     ]
    },
    {
     "name": "stderr",
     "output_type": "stream",
     "text": [
      "C:\\Users\\mrbvb\\AppData\\Local\\Temp\\ipykernel_26724\\2049930526.py:16: FutureWarning: suggest_uniform has been deprecated in v3.0.0. This feature will be removed in v6.0.0. See https://github.com/optuna/optuna/releases/tag/v3.0.0. Use suggest_float instead.\n",
      "  dropout_rate = trial.suggest_uniform('dropout_rate', 0.09, 0.3)\n",
      "c:\\Users\\mrbvb\\AppData\\Local\\Programs\\Python\\Python311\\Lib\\site-packages\\optuna\\trial\\_trial.py:676: RuntimeWarning: Inconsistent parameter values for distribution with name \"dropout_rate\"! This might be a configuration mistake. Optuna allows to call the same distribution with the same name more than once in a trial. When the parameter values are inconsistent optuna only uses the values of the first call and ignores all following. Using these values: {'step': None, 'low': 0.05, 'high': 0.3, 'log': False}\n",
      "  warnings.warn(\n",
      "C:\\Users\\mrbvb\\AppData\\Local\\Temp\\ipykernel_26724\\2049930526.py:17: FutureWarning: suggest_uniform has been deprecated in v3.0.0. This feature will be removed in v6.0.0. See https://github.com/optuna/optuna/releases/tag/v3.0.0. Use suggest_float instead.\n",
      "  dropout_rate2 = trial.suggest_uniform('dropout_rate2', 0.05, 0.2)\n",
      "c:\\Users\\mrbvb\\AppData\\Local\\Programs\\Python\\Python311\\Lib\\site-packages\\optuna\\trial\\_trial.py:676: RuntimeWarning: Inconsistent parameter values for distribution with name \"dropout_rate2\"! This might be a configuration mistake. Optuna allows to call the same distribution with the same name more than once in a trial. When the parameter values are inconsistent optuna only uses the values of the first call and ignores all following. Using these values: {'step': None, 'low': 0.05, 'high': 0.1, 'log': False}\n",
      "  warnings.warn(\n",
      "C:\\Users\\mrbvb\\AppData\\Local\\Temp\\ipykernel_26724\\2049930526.py:20: FutureWarning: suggest_loguniform has been deprecated in v3.0.0. This feature will be removed in v6.0.0. See https://github.com/optuna/optuna/releases/tag/v3.0.0. Use suggest_float(..., log=True) instead.\n",
      "  learning_rate = trial.suggest_loguniform('learning_rate', 1e-6, 1e-3)\n",
      "c:\\Users\\mrbvb\\AppData\\Local\\Programs\\Python\\Python311\\Lib\\site-packages\\keras\\src\\layers\\core\\embedding.py:86: UserWarning: Argument `input_length` is deprecated. Just remove it.\n",
      "  warnings.warn(\n"
     ]
    },
    {
     "name": "stdout",
     "output_type": "stream",
     "text": [
      "\u001b[1m11/11\u001b[0m \u001b[32m━━━━━━━━━━━━━━━━━━━━\u001b[0m\u001b[37m\u001b[0m \u001b[1m7s\u001b[0m 241ms/step - accuracy: 0.4991 - loss: 0.6935\n",
      "Epoch 2/10\n",
      "\u001b[1m11/11\u001b[0m \u001b[32m━━━━━━━━━━━━━━━━━━━━\u001b[0m\u001b[37m\u001b[0m \u001b[1m2s\u001b[0m 192ms/step - accuracy: 0.4877 - loss: 0.6943\n",
      "Epoch 3/10\n",
      "\u001b[1m11/11\u001b[0m \u001b[32m━━━━━━━━━━━━━━━━━━━━\u001b[0m\u001b[37m\u001b[0m \u001b[1m2s\u001b[0m 186ms/step - accuracy: 0.4591 - loss: 0.6953\n",
      "Epoch 4/10\n",
      "\u001b[1m11/11\u001b[0m \u001b[32m━━━━━━━━━━━━━━━━━━━━\u001b[0m\u001b[37m\u001b[0m \u001b[1m2s\u001b[0m 186ms/step - accuracy: 0.5001 - loss: 0.6923\n",
      "\u001b[1m6/6\u001b[0m \u001b[32m━━━━━━━━━━━━━━━━━━━━\u001b[0m\u001b[37m\u001b[0m \u001b[1m1s\u001b[0m 129ms/step\n",
      "kw {}\n",
      "create mod: d_rate 0.2357155537622735 d_rate2  0.05839907420390267 LSTM  64 dim  100 lr  3.147618610026078e-06\n",
      "Epoch 1/10\n"
     ]
    },
    {
     "name": "stderr",
     "output_type": "stream",
     "text": [
      "C:\\Users\\mrbvb\\AppData\\Local\\Temp\\ipykernel_26724\\2049930526.py:16: FutureWarning: suggest_uniform has been deprecated in v3.0.0. This feature will be removed in v6.0.0. See https://github.com/optuna/optuna/releases/tag/v3.0.0. Use suggest_float instead.\n",
      "  dropout_rate = trial.suggest_uniform('dropout_rate', 0.09, 0.3)\n",
      "c:\\Users\\mrbvb\\AppData\\Local\\Programs\\Python\\Python311\\Lib\\site-packages\\optuna\\trial\\_trial.py:676: RuntimeWarning: Inconsistent parameter values for distribution with name \"dropout_rate\"! This might be a configuration mistake. Optuna allows to call the same distribution with the same name more than once in a trial. When the parameter values are inconsistent optuna only uses the values of the first call and ignores all following. Using these values: {'step': None, 'low': 0.05, 'high': 0.3, 'log': False}\n",
      "  warnings.warn(\n",
      "C:\\Users\\mrbvb\\AppData\\Local\\Temp\\ipykernel_26724\\2049930526.py:17: FutureWarning: suggest_uniform has been deprecated in v3.0.0. This feature will be removed in v6.0.0. See https://github.com/optuna/optuna/releases/tag/v3.0.0. Use suggest_float instead.\n",
      "  dropout_rate2 = trial.suggest_uniform('dropout_rate2', 0.05, 0.2)\n",
      "c:\\Users\\mrbvb\\AppData\\Local\\Programs\\Python\\Python311\\Lib\\site-packages\\optuna\\trial\\_trial.py:676: RuntimeWarning: Inconsistent parameter values for distribution with name \"dropout_rate2\"! This might be a configuration mistake. Optuna allows to call the same distribution with the same name more than once in a trial. When the parameter values are inconsistent optuna only uses the values of the first call and ignores all following. Using these values: {'step': None, 'low': 0.05, 'high': 0.1, 'log': False}\n",
      "  warnings.warn(\n",
      "C:\\Users\\mrbvb\\AppData\\Local\\Temp\\ipykernel_26724\\2049930526.py:20: FutureWarning: suggest_loguniform has been deprecated in v3.0.0. This feature will be removed in v6.0.0. See https://github.com/optuna/optuna/releases/tag/v3.0.0. Use suggest_float(..., log=True) instead.\n",
      "  learning_rate = trial.suggest_loguniform('learning_rate', 1e-6, 1e-3)\n",
      "c:\\Users\\mrbvb\\AppData\\Local\\Programs\\Python\\Python311\\Lib\\site-packages\\keras\\src\\layers\\core\\embedding.py:86: UserWarning: Argument `input_length` is deprecated. Just remove it.\n",
      "  warnings.warn(\n"
     ]
    },
    {
     "name": "stdout",
     "output_type": "stream",
     "text": [
      "\u001b[1m11/11\u001b[0m \u001b[32m━━━━━━━━━━━━━━━━━━━━\u001b[0m\u001b[37m\u001b[0m \u001b[1m7s\u001b[0m 246ms/step - accuracy: 0.5119 - loss: 0.6931\n",
      "Epoch 2/10\n",
      "\u001b[1m11/11\u001b[0m \u001b[32m━━━━━━━━━━━━━━━━━━━━\u001b[0m\u001b[37m\u001b[0m \u001b[1m2s\u001b[0m 214ms/step - accuracy: 0.5194 - loss: 0.6932\n",
      "Epoch 3/10\n",
      "\u001b[1m11/11\u001b[0m \u001b[32m━━━━━━━━━━━━━━━━━━━━\u001b[0m\u001b[37m\u001b[0m \u001b[1m2s\u001b[0m 215ms/step - accuracy: 0.5180 - loss: 0.6926\n",
      "Epoch 4/10\n",
      "\u001b[1m11/11\u001b[0m \u001b[32m━━━━━━━━━━━━━━━━━━━━\u001b[0m\u001b[37m\u001b[0m \u001b[1m2s\u001b[0m 211ms/step - accuracy: 0.4878 - loss: 0.6941\n",
      "Epoch 5/10\n",
      "\u001b[1m11/11\u001b[0m \u001b[32m━━━━━━━━━━━━━━━━━━━━\u001b[0m\u001b[37m\u001b[0m \u001b[1m2s\u001b[0m 210ms/step - accuracy: 0.4671 - loss: 0.6946\n",
      "\u001b[1m6/6\u001b[0m \u001b[32m━━━━━━━━━━━━━━━━━━━━\u001b[0m\u001b[37m\u001b[0m \u001b[1m2s\u001b[0m 269ms/step\n"
     ]
    },
    {
     "name": "stderr",
     "output_type": "stream",
     "text": [
      "[I 2024-04-30 17:12:20,196] Trial 3 finished with value: 0.4295555555555555 and parameters: {'dropout_rate': 0.2357155537622735, 'dropout_rate2': 0.05839907420390267, 'LSTM_units': 64, 'EMBEDDING_DIM': 100, 'learning_rate': 3.147618610026078e-06}. Best is trial 0 with value: 0.7263624737711227.\n"
     ]
    },
    {
     "name": "stdout",
     "output_type": "stream",
     "text": [
      "objectiving\n",
      "kw {}\n",
      "kw {}\n",
      "create mod: d_rate 0.2630712385463084 d_rate2  0.07100984514727471 LSTM  64 dim  100 lr  0.00025005729005457555\n",
      "Epoch 1/10\n"
     ]
    },
    {
     "name": "stderr",
     "output_type": "stream",
     "text": [
      "C:\\Users\\mrbvb\\AppData\\Local\\Temp\\ipykernel_26724\\2049930526.py:63: FutureWarning: suggest_uniform has been deprecated in v3.0.0. This feature will be removed in v6.0.0. See https://github.com/optuna/optuna/releases/tag/v3.0.0. Use suggest_float instead.\n",
      "  dropout_rate = trial.suggest_uniform('dropout_rate', 0.05, 0.3) #value should be from small to large only\n",
      "C:\\Users\\mrbvb\\AppData\\Local\\Temp\\ipykernel_26724\\2049930526.py:64: FutureWarning: suggest_uniform has been deprecated in v3.0.0. This feature will be removed in v6.0.0. See https://github.com/optuna/optuna/releases/tag/v3.0.0. Use suggest_float instead.\n",
      "  dropout_rate2 = trial.suggest_uniform('dropout_rate2', 0.05, 0.1)\n",
      "C:\\Users\\mrbvb\\AppData\\Local\\Temp\\ipykernel_26724\\2049930526.py:67: FutureWarning: suggest_loguniform has been deprecated in v3.0.0. This feature will be removed in v6.0.0. See https://github.com/optuna/optuna/releases/tag/v3.0.0. Use suggest_float(..., log=True) instead.\n",
      "  learning_rate = trial.suggest_loguniform('learning_rate', 1e-6, 1e-3)\n",
      "C:\\Users\\mrbvb\\AppData\\Local\\Temp\\ipykernel_26724\\2049930526.py:16: FutureWarning: suggest_uniform has been deprecated in v3.0.0. This feature will be removed in v6.0.0. See https://github.com/optuna/optuna/releases/tag/v3.0.0. Use suggest_float instead.\n",
      "  dropout_rate = trial.suggest_uniform('dropout_rate', 0.09, 0.3)\n",
      "c:\\Users\\mrbvb\\AppData\\Local\\Programs\\Python\\Python311\\Lib\\site-packages\\optuna\\trial\\_trial.py:676: RuntimeWarning: Inconsistent parameter values for distribution with name \"dropout_rate\"! This might be a configuration mistake. Optuna allows to call the same distribution with the same name more than once in a trial. When the parameter values are inconsistent optuna only uses the values of the first call and ignores all following. Using these values: {'step': None, 'low': 0.05, 'high': 0.3, 'log': False}\n",
      "  warnings.warn(\n",
      "C:\\Users\\mrbvb\\AppData\\Local\\Temp\\ipykernel_26724\\2049930526.py:17: FutureWarning: suggest_uniform has been deprecated in v3.0.0. This feature will be removed in v6.0.0. See https://github.com/optuna/optuna/releases/tag/v3.0.0. Use suggest_float instead.\n",
      "  dropout_rate2 = trial.suggest_uniform('dropout_rate2', 0.05, 0.2)\n",
      "c:\\Users\\mrbvb\\AppData\\Local\\Programs\\Python\\Python311\\Lib\\site-packages\\optuna\\trial\\_trial.py:676: RuntimeWarning: Inconsistent parameter values for distribution with name \"dropout_rate2\"! This might be a configuration mistake. Optuna allows to call the same distribution with the same name more than once in a trial. When the parameter values are inconsistent optuna only uses the values of the first call and ignores all following. Using these values: {'step': None, 'low': 0.05, 'high': 0.1, 'log': False}\n",
      "  warnings.warn(\n",
      "C:\\Users\\mrbvb\\AppData\\Local\\Temp\\ipykernel_26724\\2049930526.py:20: FutureWarning: suggest_loguniform has been deprecated in v3.0.0. This feature will be removed in v6.0.0. See https://github.com/optuna/optuna/releases/tag/v3.0.0. Use suggest_float(..., log=True) instead.\n",
      "  learning_rate = trial.suggest_loguniform('learning_rate', 1e-6, 1e-3)\n",
      "c:\\Users\\mrbvb\\AppData\\Local\\Programs\\Python\\Python311\\Lib\\site-packages\\keras\\src\\layers\\core\\embedding.py:86: UserWarning: Argument `input_length` is deprecated. Just remove it.\n",
      "  warnings.warn(\n"
     ]
    },
    {
     "name": "stdout",
     "output_type": "stream",
     "text": [
      "\u001b[1m11/11\u001b[0m \u001b[32m━━━━━━━━━━━━━━━━━━━━\u001b[0m\u001b[37m\u001b[0m \u001b[1m7s\u001b[0m 236ms/step - accuracy: 0.5028 - loss: 0.6938\n",
      "Epoch 2/10\n",
      "\u001b[1m11/11\u001b[0m \u001b[32m━━━━━━━━━━━━━━━━━━━━\u001b[0m\u001b[37m\u001b[0m \u001b[1m3s\u001b[0m 232ms/step - accuracy: 0.5413 - loss: 0.6892\n",
      "Epoch 3/10\n",
      "\u001b[1m11/11\u001b[0m \u001b[32m━━━━━━━━━━━━━━━━━━━━\u001b[0m\u001b[37m\u001b[0m \u001b[1m3s\u001b[0m 232ms/step - accuracy: 0.5288 - loss: 0.6875\n",
      "Epoch 4/10\n",
      "\u001b[1m11/11\u001b[0m \u001b[32m━━━━━━━━━━━━━━━━━━━━\u001b[0m\u001b[37m\u001b[0m \u001b[1m3s\u001b[0m 234ms/step - accuracy: 0.5341 - loss: 0.6811\n",
      "Epoch 5/10\n",
      "\u001b[1m11/11\u001b[0m \u001b[32m━━━━━━━━━━━━━━━━━━━━\u001b[0m\u001b[37m\u001b[0m \u001b[1m3s\u001b[0m 234ms/step - accuracy: 0.6154 - loss: 0.6624\n",
      "Epoch 6/10\n",
      "\u001b[1m11/11\u001b[0m \u001b[32m━━━━━━━━━━━━━━━━━━━━\u001b[0m\u001b[37m\u001b[0m \u001b[1m3s\u001b[0m 233ms/step - accuracy: 0.6715 - loss: 0.6389\n",
      "Epoch 7/10\n",
      "\u001b[1m11/11\u001b[0m \u001b[32m━━━━━━━━━━━━━━━━━━━━\u001b[0m\u001b[37m\u001b[0m \u001b[1m3s\u001b[0m 234ms/step - accuracy: 0.7862 - loss: 0.5738\n",
      "Epoch 8/10\n",
      "\u001b[1m11/11\u001b[0m \u001b[32m━━━━━━━━━━━━━━━━━━━━\u001b[0m\u001b[37m\u001b[0m \u001b[1m3s\u001b[0m 233ms/step - accuracy: 0.8865 - loss: 0.4635\n",
      "Epoch 9/10\n",
      "\u001b[1m11/11\u001b[0m \u001b[32m━━━━━━━━━━━━━━━━━━━━\u001b[0m\u001b[37m\u001b[0m \u001b[1m3s\u001b[0m 234ms/step - accuracy: 0.9022 - loss: 0.3422\n",
      "Epoch 10/10\n",
      "\u001b[1m11/11\u001b[0m \u001b[32m━━━━━━━━━━━━━━━━━━━━\u001b[0m\u001b[37m\u001b[0m \u001b[1m3s\u001b[0m 233ms/step - accuracy: 0.9720 - loss: 0.2319\n",
      "\u001b[1m6/6\u001b[0m \u001b[32m━━━━━━━━━━━━━━━━━━━━\u001b[0m\u001b[37m\u001b[0m \u001b[1m1s\u001b[0m 146ms/step\n",
      "kw {}\n",
      "create mod: d_rate 0.2630712385463084 d_rate2  0.07100984514727471 LSTM  64 dim  100 lr  0.00025005729005457555\n",
      "Epoch 1/10\n"
     ]
    },
    {
     "name": "stderr",
     "output_type": "stream",
     "text": [
      "C:\\Users\\mrbvb\\AppData\\Local\\Temp\\ipykernel_26724\\2049930526.py:16: FutureWarning: suggest_uniform has been deprecated in v3.0.0. This feature will be removed in v6.0.0. See https://github.com/optuna/optuna/releases/tag/v3.0.0. Use suggest_float instead.\n",
      "  dropout_rate = trial.suggest_uniform('dropout_rate', 0.09, 0.3)\n",
      "c:\\Users\\mrbvb\\AppData\\Local\\Programs\\Python\\Python311\\Lib\\site-packages\\optuna\\trial\\_trial.py:676: RuntimeWarning: Inconsistent parameter values for distribution with name \"dropout_rate\"! This might be a configuration mistake. Optuna allows to call the same distribution with the same name more than once in a trial. When the parameter values are inconsistent optuna only uses the values of the first call and ignores all following. Using these values: {'step': None, 'low': 0.05, 'high': 0.3, 'log': False}\n",
      "  warnings.warn(\n",
      "C:\\Users\\mrbvb\\AppData\\Local\\Temp\\ipykernel_26724\\2049930526.py:17: FutureWarning: suggest_uniform has been deprecated in v3.0.0. This feature will be removed in v6.0.0. See https://github.com/optuna/optuna/releases/tag/v3.0.0. Use suggest_float instead.\n",
      "  dropout_rate2 = trial.suggest_uniform('dropout_rate2', 0.05, 0.2)\n",
      "c:\\Users\\mrbvb\\AppData\\Local\\Programs\\Python\\Python311\\Lib\\site-packages\\optuna\\trial\\_trial.py:676: RuntimeWarning: Inconsistent parameter values for distribution with name \"dropout_rate2\"! This might be a configuration mistake. Optuna allows to call the same distribution with the same name more than once in a trial. When the parameter values are inconsistent optuna only uses the values of the first call and ignores all following. Using these values: {'step': None, 'low': 0.05, 'high': 0.1, 'log': False}\n",
      "  warnings.warn(\n",
      "C:\\Users\\mrbvb\\AppData\\Local\\Temp\\ipykernel_26724\\2049930526.py:20: FutureWarning: suggest_loguniform has been deprecated in v3.0.0. This feature will be removed in v6.0.0. See https://github.com/optuna/optuna/releases/tag/v3.0.0. Use suggest_float(..., log=True) instead.\n",
      "  learning_rate = trial.suggest_loguniform('learning_rate', 1e-6, 1e-3)\n",
      "c:\\Users\\mrbvb\\AppData\\Local\\Programs\\Python\\Python311\\Lib\\site-packages\\keras\\src\\layers\\core\\embedding.py:86: UserWarning: Argument `input_length` is deprecated. Just remove it.\n",
      "  warnings.warn(\n"
     ]
    },
    {
     "name": "stdout",
     "output_type": "stream",
     "text": [
      "\u001b[1m11/11\u001b[0m \u001b[32m━━━━━━━━━━━━━━━━━━━━\u001b[0m\u001b[37m\u001b[0m \u001b[1m7s\u001b[0m 224ms/step - accuracy: 0.5399 - loss: 0.6924\n",
      "Epoch 2/10\n",
      "\u001b[1m11/11\u001b[0m \u001b[32m━━━━━━━━━━━━━━━━━━━━\u001b[0m\u001b[37m\u001b[0m \u001b[1m2s\u001b[0m 222ms/step - accuracy: 0.5931 - loss: 0.6904\n",
      "Epoch 3/10\n",
      "\u001b[1m11/11\u001b[0m \u001b[32m━━━━━━━━━━━━━━━━━━━━\u001b[0m\u001b[37m\u001b[0m \u001b[1m2s\u001b[0m 223ms/step - accuracy: 0.6462 - loss: 0.6900\n",
      "Epoch 4/10\n",
      "\u001b[1m11/11\u001b[0m \u001b[32m━━━━━━━━━━━━━━━━━━━━\u001b[0m\u001b[37m\u001b[0m \u001b[1m2s\u001b[0m 221ms/step - accuracy: 0.6693 - loss: 0.6857\n",
      "Epoch 5/10\n",
      "\u001b[1m11/11\u001b[0m \u001b[32m━━━━━━━━━━━━━━━━━━━━\u001b[0m\u001b[37m\u001b[0m \u001b[1m2s\u001b[0m 222ms/step - accuracy: 0.8081 - loss: 0.6788\n",
      "Epoch 6/10\n",
      "\u001b[1m11/11\u001b[0m \u001b[32m━━━━━━━━━━━━━━━━━━━━\u001b[0m\u001b[37m\u001b[0m \u001b[1m2s\u001b[0m 221ms/step - accuracy: 0.8970 - loss: 0.6585\n",
      "Epoch 7/10\n",
      "\u001b[1m11/11\u001b[0m \u001b[32m━━━━━━━━━━━━━━━━━━━━\u001b[0m\u001b[37m\u001b[0m \u001b[1m2s\u001b[0m 221ms/step - accuracy: 0.8258 - loss: 0.6160\n",
      "Epoch 8/10\n",
      "\u001b[1m11/11\u001b[0m \u001b[32m━━━━━━━━━━━━━━━━━━━━\u001b[0m\u001b[37m\u001b[0m \u001b[1m3s\u001b[0m 227ms/step - accuracy: 0.8306 - loss: 0.5285\n",
      "Epoch 9/10\n",
      "\u001b[1m11/11\u001b[0m \u001b[32m━━━━━━━━━━━━━━━━━━━━\u001b[0m\u001b[37m\u001b[0m \u001b[1m2s\u001b[0m 222ms/step - accuracy: 0.8909 - loss: 0.4225\n",
      "Epoch 10/10\n",
      "\u001b[1m11/11\u001b[0m \u001b[32m━━━━━━━━━━━━━━━━━━━━\u001b[0m\u001b[37m\u001b[0m \u001b[1m2s\u001b[0m 222ms/step - accuracy: 0.9481 - loss: 0.2839\n",
      "\u001b[1m6/6\u001b[0m \u001b[32m━━━━━━━━━━━━━━━━━━━━\u001b[0m\u001b[37m\u001b[0m \u001b[1m1s\u001b[0m 143ms/step\n",
      "kw {}\n",
      "create mod: d_rate 0.2630712385463084 d_rate2  0.07100984514727471 LSTM  64 dim  100 lr  0.00025005729005457555\n",
      "Epoch 1/10\n"
     ]
    },
    {
     "name": "stderr",
     "output_type": "stream",
     "text": [
      "C:\\Users\\mrbvb\\AppData\\Local\\Temp\\ipykernel_26724\\2049930526.py:16: FutureWarning: suggest_uniform has been deprecated in v3.0.0. This feature will be removed in v6.0.0. See https://github.com/optuna/optuna/releases/tag/v3.0.0. Use suggest_float instead.\n",
      "  dropout_rate = trial.suggest_uniform('dropout_rate', 0.09, 0.3)\n",
      "c:\\Users\\mrbvb\\AppData\\Local\\Programs\\Python\\Python311\\Lib\\site-packages\\optuna\\trial\\_trial.py:676: RuntimeWarning: Inconsistent parameter values for distribution with name \"dropout_rate\"! This might be a configuration mistake. Optuna allows to call the same distribution with the same name more than once in a trial. When the parameter values are inconsistent optuna only uses the values of the first call and ignores all following. Using these values: {'step': None, 'low': 0.05, 'high': 0.3, 'log': False}\n",
      "  warnings.warn(\n",
      "C:\\Users\\mrbvb\\AppData\\Local\\Temp\\ipykernel_26724\\2049930526.py:17: FutureWarning: suggest_uniform has been deprecated in v3.0.0. This feature will be removed in v6.0.0. See https://github.com/optuna/optuna/releases/tag/v3.0.0. Use suggest_float instead.\n",
      "  dropout_rate2 = trial.suggest_uniform('dropout_rate2', 0.05, 0.2)\n",
      "c:\\Users\\mrbvb\\AppData\\Local\\Programs\\Python\\Python311\\Lib\\site-packages\\optuna\\trial\\_trial.py:676: RuntimeWarning: Inconsistent parameter values for distribution with name \"dropout_rate2\"! This might be a configuration mistake. Optuna allows to call the same distribution with the same name more than once in a trial. When the parameter values are inconsistent optuna only uses the values of the first call and ignores all following. Using these values: {'step': None, 'low': 0.05, 'high': 0.1, 'log': False}\n",
      "  warnings.warn(\n",
      "C:\\Users\\mrbvb\\AppData\\Local\\Temp\\ipykernel_26724\\2049930526.py:20: FutureWarning: suggest_loguniform has been deprecated in v3.0.0. This feature will be removed in v6.0.0. See https://github.com/optuna/optuna/releases/tag/v3.0.0. Use suggest_float(..., log=True) instead.\n",
      "  learning_rate = trial.suggest_loguniform('learning_rate', 1e-6, 1e-3)\n",
      "c:\\Users\\mrbvb\\AppData\\Local\\Programs\\Python\\Python311\\Lib\\site-packages\\keras\\src\\layers\\core\\embedding.py:86: UserWarning: Argument `input_length` is deprecated. Just remove it.\n",
      "  warnings.warn(\n"
     ]
    },
    {
     "name": "stdout",
     "output_type": "stream",
     "text": [
      "\u001b[1m11/11\u001b[0m \u001b[32m━━━━━━━━━━━━━━━━━━━━\u001b[0m\u001b[37m\u001b[0m \u001b[1m7s\u001b[0m 218ms/step - accuracy: 0.5644 - loss: 0.6919\n",
      "Epoch 2/10\n",
      "\u001b[1m11/11\u001b[0m \u001b[32m━━━━━━━━━━━━━━━━━━━━\u001b[0m\u001b[37m\u001b[0m \u001b[1m2s\u001b[0m 212ms/step - accuracy: 0.5191 - loss: 0.6905\n",
      "Epoch 3/10\n",
      "\u001b[1m11/11\u001b[0m \u001b[32m━━━━━━━━━━━━━━━━━━━━\u001b[0m\u001b[37m\u001b[0m \u001b[1m2s\u001b[0m 212ms/step - accuracy: 0.5382 - loss: 0.6841\n",
      "Epoch 4/10\n",
      "\u001b[1m11/11\u001b[0m \u001b[32m━━━━━━━━━━━━━━━━━━━━\u001b[0m\u001b[37m\u001b[0m \u001b[1m2s\u001b[0m 211ms/step - accuracy: 0.5760 - loss: 0.6758\n",
      "Epoch 5/10\n",
      "\u001b[1m11/11\u001b[0m \u001b[32m━━━━━━━━━━━━━━━━━━━━\u001b[0m\u001b[37m\u001b[0m \u001b[1m2s\u001b[0m 213ms/step - accuracy: 0.5620 - loss: 0.6718\n",
      "Epoch 6/10\n",
      "\u001b[1m11/11\u001b[0m \u001b[32m━━━━━━━━━━━━━━━━━━━━\u001b[0m\u001b[37m\u001b[0m \u001b[1m2s\u001b[0m 212ms/step - accuracy: 0.7258 - loss: 0.6323\n",
      "Epoch 7/10\n",
      "\u001b[1m11/11\u001b[0m \u001b[32m━━━━━━━━━━━━━━━━━━━━\u001b[0m\u001b[37m\u001b[0m \u001b[1m2s\u001b[0m 210ms/step - accuracy: 0.7988 - loss: 0.5506\n",
      "Epoch 8/10\n",
      "\u001b[1m11/11\u001b[0m \u001b[32m━━━━━━━━━━━━━━━━━━━━\u001b[0m\u001b[37m\u001b[0m \u001b[1m2s\u001b[0m 209ms/step - accuracy: 0.8938 - loss: 0.4453\n",
      "Epoch 9/10\n",
      "\u001b[1m11/11\u001b[0m \u001b[32m━━━━━━━━━━━━━━━━━━━━\u001b[0m\u001b[37m\u001b[0m \u001b[1m2s\u001b[0m 210ms/step - accuracy: 0.9370 - loss: 0.3520\n",
      "Epoch 10/10\n",
      "\u001b[1m11/11\u001b[0m \u001b[32m━━━━━━━━━━━━━━━━━━━━\u001b[0m\u001b[37m\u001b[0m \u001b[1m2s\u001b[0m 209ms/step - accuracy: 0.9610 - loss: 0.2539\n",
      "\u001b[1m6/6\u001b[0m \u001b[32m━━━━━━━━━━━━━━━━━━━━\u001b[0m\u001b[37m\u001b[0m \u001b[1m1s\u001b[0m 138ms/step\n",
      "result score f1 fuc -0.7347660465109902\n",
      "kw {}\n",
      "create mod: d_rate 0.2630712385463084 d_rate2  0.07100984514727471 LSTM  64 dim  100 lr  0.00025005729005457555\n",
      "Epoch 1/10\n"
     ]
    },
    {
     "name": "stderr",
     "output_type": "stream",
     "text": [
      "C:\\Users\\mrbvb\\AppData\\Local\\Temp\\ipykernel_26724\\2049930526.py:16: FutureWarning: suggest_uniform has been deprecated in v3.0.0. This feature will be removed in v6.0.0. See https://github.com/optuna/optuna/releases/tag/v3.0.0. Use suggest_float instead.\n",
      "  dropout_rate = trial.suggest_uniform('dropout_rate', 0.09, 0.3)\n",
      "c:\\Users\\mrbvb\\AppData\\Local\\Programs\\Python\\Python311\\Lib\\site-packages\\optuna\\trial\\_trial.py:676: RuntimeWarning: Inconsistent parameter values for distribution with name \"dropout_rate\"! This might be a configuration mistake. Optuna allows to call the same distribution with the same name more than once in a trial. When the parameter values are inconsistent optuna only uses the values of the first call and ignores all following. Using these values: {'step': None, 'low': 0.05, 'high': 0.3, 'log': False}\n",
      "  warnings.warn(\n",
      "C:\\Users\\mrbvb\\AppData\\Local\\Temp\\ipykernel_26724\\2049930526.py:17: FutureWarning: suggest_uniform has been deprecated in v3.0.0. This feature will be removed in v6.0.0. See https://github.com/optuna/optuna/releases/tag/v3.0.0. Use suggest_float instead.\n",
      "  dropout_rate2 = trial.suggest_uniform('dropout_rate2', 0.05, 0.2)\n",
      "c:\\Users\\mrbvb\\AppData\\Local\\Programs\\Python\\Python311\\Lib\\site-packages\\optuna\\trial\\_trial.py:676: RuntimeWarning: Inconsistent parameter values for distribution with name \"dropout_rate2\"! This might be a configuration mistake. Optuna allows to call the same distribution with the same name more than once in a trial. When the parameter values are inconsistent optuna only uses the values of the first call and ignores all following. Using these values: {'step': None, 'low': 0.05, 'high': 0.1, 'log': False}\n",
      "  warnings.warn(\n",
      "C:\\Users\\mrbvb\\AppData\\Local\\Temp\\ipykernel_26724\\2049930526.py:20: FutureWarning: suggest_loguniform has been deprecated in v3.0.0. This feature will be removed in v6.0.0. See https://github.com/optuna/optuna/releases/tag/v3.0.0. Use suggest_float(..., log=True) instead.\n",
      "  learning_rate = trial.suggest_loguniform('learning_rate', 1e-6, 1e-3)\n",
      "c:\\Users\\mrbvb\\AppData\\Local\\Programs\\Python\\Python311\\Lib\\site-packages\\keras\\src\\layers\\core\\embedding.py:86: UserWarning: Argument `input_length` is deprecated. Just remove it.\n",
      "  warnings.warn(\n"
     ]
    },
    {
     "name": "stdout",
     "output_type": "stream",
     "text": [
      "\u001b[1m11/11\u001b[0m \u001b[32m━━━━━━━━━━━━━━━━━━━━\u001b[0m\u001b[37m\u001b[0m \u001b[1m7s\u001b[0m 268ms/step - accuracy: 0.5333 - loss: 0.6924\n",
      "Epoch 2/10\n",
      "\u001b[1m11/11\u001b[0m \u001b[32m━━━━━━━━━━━━━━━━━━━━\u001b[0m\u001b[37m\u001b[0m \u001b[1m3s\u001b[0m 245ms/step - accuracy: 0.5404 - loss: 0.6891\n",
      "Epoch 3/10\n",
      "\u001b[1m11/11\u001b[0m \u001b[32m━━━━━━━━━━━━━━━━━━━━\u001b[0m\u001b[37m\u001b[0m \u001b[1m3s\u001b[0m 240ms/step - accuracy: 0.5256 - loss: 0.6887\n",
      "Epoch 4/10\n",
      "\u001b[1m11/11\u001b[0m \u001b[32m━━━━━━━━━━━━━━━━━━━━\u001b[0m\u001b[37m\u001b[0m \u001b[1m3s\u001b[0m 240ms/step - accuracy: 0.5238 - loss: 0.6850\n",
      "\u001b[1m6/6\u001b[0m \u001b[32m━━━━━━━━━━━━━━━━━━━━\u001b[0m\u001b[37m\u001b[0m \u001b[1m1s\u001b[0m 148ms/step\n",
      "kw {}\n",
      "create mod: d_rate 0.2630712385463084 d_rate2  0.07100984514727471 LSTM  64 dim  100 lr  0.00025005729005457555\n",
      "Epoch 1/10\n"
     ]
    },
    {
     "name": "stderr",
     "output_type": "stream",
     "text": [
      "C:\\Users\\mrbvb\\AppData\\Local\\Temp\\ipykernel_26724\\2049930526.py:16: FutureWarning: suggest_uniform has been deprecated in v3.0.0. This feature will be removed in v6.0.0. See https://github.com/optuna/optuna/releases/tag/v3.0.0. Use suggest_float instead.\n",
      "  dropout_rate = trial.suggest_uniform('dropout_rate', 0.09, 0.3)\n",
      "c:\\Users\\mrbvb\\AppData\\Local\\Programs\\Python\\Python311\\Lib\\site-packages\\optuna\\trial\\_trial.py:676: RuntimeWarning: Inconsistent parameter values for distribution with name \"dropout_rate\"! This might be a configuration mistake. Optuna allows to call the same distribution with the same name more than once in a trial. When the parameter values are inconsistent optuna only uses the values of the first call and ignores all following. Using these values: {'step': None, 'low': 0.05, 'high': 0.3, 'log': False}\n",
      "  warnings.warn(\n",
      "C:\\Users\\mrbvb\\AppData\\Local\\Temp\\ipykernel_26724\\2049930526.py:17: FutureWarning: suggest_uniform has been deprecated in v3.0.0. This feature will be removed in v6.0.0. See https://github.com/optuna/optuna/releases/tag/v3.0.0. Use suggest_float instead.\n",
      "  dropout_rate2 = trial.suggest_uniform('dropout_rate2', 0.05, 0.2)\n",
      "c:\\Users\\mrbvb\\AppData\\Local\\Programs\\Python\\Python311\\Lib\\site-packages\\optuna\\trial\\_trial.py:676: RuntimeWarning: Inconsistent parameter values for distribution with name \"dropout_rate2\"! This might be a configuration mistake. Optuna allows to call the same distribution with the same name more than once in a trial. When the parameter values are inconsistent optuna only uses the values of the first call and ignores all following. Using these values: {'step': None, 'low': 0.05, 'high': 0.1, 'log': False}\n",
      "  warnings.warn(\n",
      "C:\\Users\\mrbvb\\AppData\\Local\\Temp\\ipykernel_26724\\2049930526.py:20: FutureWarning: suggest_loguniform has been deprecated in v3.0.0. This feature will be removed in v6.0.0. See https://github.com/optuna/optuna/releases/tag/v3.0.0. Use suggest_float(..., log=True) instead.\n",
      "  learning_rate = trial.suggest_loguniform('learning_rate', 1e-6, 1e-3)\n",
      "c:\\Users\\mrbvb\\AppData\\Local\\Programs\\Python\\Python311\\Lib\\site-packages\\keras\\src\\layers\\core\\embedding.py:86: UserWarning: Argument `input_length` is deprecated. Just remove it.\n",
      "  warnings.warn(\n"
     ]
    },
    {
     "name": "stdout",
     "output_type": "stream",
     "text": [
      "\u001b[1m11/11\u001b[0m \u001b[32m━━━━━━━━━━━━━━━━━━━━\u001b[0m\u001b[37m\u001b[0m \u001b[1m7s\u001b[0m 257ms/step - accuracy: 0.5066 - loss: 0.6927\n",
      "Epoch 2/10\n",
      "\u001b[1m11/11\u001b[0m \u001b[32m━━━━━━━━━━━━━━━━━━━━\u001b[0m\u001b[37m\u001b[0m \u001b[1m3s\u001b[0m 228ms/step - accuracy: 0.5654 - loss: 0.6918\n",
      "Epoch 3/10\n",
      "\u001b[1m11/11\u001b[0m \u001b[32m━━━━━━━━━━━━━━━━━━━━\u001b[0m\u001b[37m\u001b[0m \u001b[1m2s\u001b[0m 225ms/step - accuracy: 0.6269 - loss: 0.6899\n",
      "Epoch 4/10\n",
      "\u001b[1m11/11\u001b[0m \u001b[32m━━━━━━━━━━━━━━━━━━━━\u001b[0m\u001b[37m\u001b[0m \u001b[1m3s\u001b[0m 227ms/step - accuracy: 0.7417 - loss: 0.6851\n",
      "Epoch 5/10\n",
      "\u001b[1m11/11\u001b[0m \u001b[32m━━━━━━━━━━━━━━━━━━━━\u001b[0m\u001b[37m\u001b[0m \u001b[1m3s\u001b[0m 228ms/step - accuracy: 0.7754 - loss: 0.6783\n",
      "Epoch 6/10\n",
      "\u001b[1m11/11\u001b[0m \u001b[32m━━━━━━━━━━━━━━━━━━━━\u001b[0m\u001b[37m\u001b[0m \u001b[1m2s\u001b[0m 220ms/step - accuracy: 0.8637 - loss: 0.6542\n",
      "Epoch 7/10\n",
      "\u001b[1m11/11\u001b[0m \u001b[32m━━━━━━━━━━━━━━━━━━━━\u001b[0m\u001b[37m\u001b[0m \u001b[1m2s\u001b[0m 224ms/step - accuracy: 0.8519 - loss: 0.5984\n",
      "Epoch 8/10\n",
      "\u001b[1m11/11\u001b[0m \u001b[32m━━━━━━━━━━━━━━━━━━━━\u001b[0m\u001b[37m\u001b[0m \u001b[1m3s\u001b[0m 227ms/step - accuracy: 0.7989 - loss: 0.5057\n",
      "Epoch 9/10\n",
      "\u001b[1m11/11\u001b[0m \u001b[32m━━━━━━━━━━━━━━━━━━━━\u001b[0m\u001b[37m\u001b[0m \u001b[1m3s\u001b[0m 247ms/step - accuracy: 0.8542 - loss: 0.4247\n",
      "Epoch 10/10\n",
      "\u001b[1m11/11\u001b[0m \u001b[32m━━━━━━━━━━━━━━━━━━━━\u001b[0m\u001b[37m\u001b[0m \u001b[1m3s\u001b[0m 234ms/step - accuracy: 0.9387 - loss: 0.2797\n",
      "\u001b[1m6/6\u001b[0m \u001b[32m━━━━━━━━━━━━━━━━━━━━\u001b[0m\u001b[37m\u001b[0m \u001b[1m1s\u001b[0m 149ms/step\n",
      "kw {}\n",
      "create mod: d_rate 0.2630712385463084 d_rate2  0.07100984514727471 LSTM  64 dim  100 lr  0.00025005729005457555\n",
      "Epoch 1/10\n"
     ]
    },
    {
     "name": "stderr",
     "output_type": "stream",
     "text": [
      "C:\\Users\\mrbvb\\AppData\\Local\\Temp\\ipykernel_26724\\2049930526.py:16: FutureWarning: suggest_uniform has been deprecated in v3.0.0. This feature will be removed in v6.0.0. See https://github.com/optuna/optuna/releases/tag/v3.0.0. Use suggest_float instead.\n",
      "  dropout_rate = trial.suggest_uniform('dropout_rate', 0.09, 0.3)\n",
      "c:\\Users\\mrbvb\\AppData\\Local\\Programs\\Python\\Python311\\Lib\\site-packages\\optuna\\trial\\_trial.py:676: RuntimeWarning: Inconsistent parameter values for distribution with name \"dropout_rate\"! This might be a configuration mistake. Optuna allows to call the same distribution with the same name more than once in a trial. When the parameter values are inconsistent optuna only uses the values of the first call and ignores all following. Using these values: {'step': None, 'low': 0.05, 'high': 0.3, 'log': False}\n",
      "  warnings.warn(\n",
      "C:\\Users\\mrbvb\\AppData\\Local\\Temp\\ipykernel_26724\\2049930526.py:17: FutureWarning: suggest_uniform has been deprecated in v3.0.0. This feature will be removed in v6.0.0. See https://github.com/optuna/optuna/releases/tag/v3.0.0. Use suggest_float instead.\n",
      "  dropout_rate2 = trial.suggest_uniform('dropout_rate2', 0.05, 0.2)\n",
      "c:\\Users\\mrbvb\\AppData\\Local\\Programs\\Python\\Python311\\Lib\\site-packages\\optuna\\trial\\_trial.py:676: RuntimeWarning: Inconsistent parameter values for distribution with name \"dropout_rate2\"! This might be a configuration mistake. Optuna allows to call the same distribution with the same name more than once in a trial. When the parameter values are inconsistent optuna only uses the values of the first call and ignores all following. Using these values: {'step': None, 'low': 0.05, 'high': 0.1, 'log': False}\n",
      "  warnings.warn(\n",
      "C:\\Users\\mrbvb\\AppData\\Local\\Temp\\ipykernel_26724\\2049930526.py:20: FutureWarning: suggest_loguniform has been deprecated in v3.0.0. This feature will be removed in v6.0.0. See https://github.com/optuna/optuna/releases/tag/v3.0.0. Use suggest_float(..., log=True) instead.\n",
      "  learning_rate = trial.suggest_loguniform('learning_rate', 1e-6, 1e-3)\n",
      "c:\\Users\\mrbvb\\AppData\\Local\\Programs\\Python\\Python311\\Lib\\site-packages\\keras\\src\\layers\\core\\embedding.py:86: UserWarning: Argument `input_length` is deprecated. Just remove it.\n",
      "  warnings.warn(\n"
     ]
    },
    {
     "name": "stdout",
     "output_type": "stream",
     "text": [
      "\u001b[1m11/11\u001b[0m \u001b[32m━━━━━━━━━━━━━━━━━━━━\u001b[0m\u001b[37m\u001b[0m \u001b[1m9s\u001b[0m 338ms/step - accuracy: 0.5018 - loss: 0.6932\n",
      "Epoch 2/10\n",
      "\u001b[1m11/11\u001b[0m \u001b[32m━━━━━━━━━━━━━━━━━━━━\u001b[0m\u001b[37m\u001b[0m \u001b[1m4s\u001b[0m 333ms/step - accuracy: 0.5718 - loss: 0.6906\n",
      "Epoch 3/10\n",
      "\u001b[1m11/11\u001b[0m \u001b[32m━━━━━━━━━━━━━━━━━━━━\u001b[0m\u001b[37m\u001b[0m \u001b[1m4s\u001b[0m 333ms/step - accuracy: 0.5323 - loss: 0.6886\n",
      "Epoch 4/10\n",
      "\u001b[1m11/11\u001b[0m \u001b[32m━━━━━━━━━━━━━━━━━━━━\u001b[0m\u001b[37m\u001b[0m \u001b[1m4s\u001b[0m 333ms/step - accuracy: 0.5203 - loss: 0.6864\n",
      "Epoch 5/10\n",
      "\u001b[1m11/11\u001b[0m \u001b[32m━━━━━━━━━━━━━━━━━━━━\u001b[0m\u001b[37m\u001b[0m \u001b[1m4s\u001b[0m 333ms/step - accuracy: 0.5412 - loss: 0.6786\n",
      "\u001b[1m6/6\u001b[0m \u001b[32m━━━━━━━━━━━━━━━━━━━━\u001b[0m\u001b[37m\u001b[0m \u001b[1m1s\u001b[0m 183ms/step\n"
     ]
    },
    {
     "name": "stderr",
     "output_type": "stream",
     "text": [
      "[I 2024-04-30 17:15:03,786] Trial 4 finished with value: 0.2549019607843137 and parameters: {'dropout_rate': 0.2630712385463084, 'dropout_rate2': 0.07100984514727471, 'LSTM_units': 64, 'EMBEDDING_DIM': 100, 'learning_rate': 0.00025005729005457555}. Best is trial 0 with value: 0.7263624737711227.\n"
     ]
    },
    {
     "name": "stdout",
     "output_type": "stream",
     "text": [
      "objectiving\n",
      "kw {}\n",
      "kw {}\n",
      "create mod: d_rate 0.29129974651700874 d_rate2  0.0943531391961512 LSTM  256 dim  150 lr  3.396716355544651e-05\n",
      "Epoch 1/10\n"
     ]
    },
    {
     "name": "stderr",
     "output_type": "stream",
     "text": [
      "C:\\Users\\mrbvb\\AppData\\Local\\Temp\\ipykernel_26724\\2049930526.py:63: FutureWarning: suggest_uniform has been deprecated in v3.0.0. This feature will be removed in v6.0.0. See https://github.com/optuna/optuna/releases/tag/v3.0.0. Use suggest_float instead.\n",
      "  dropout_rate = trial.suggest_uniform('dropout_rate', 0.05, 0.3) #value should be from small to large only\n",
      "C:\\Users\\mrbvb\\AppData\\Local\\Temp\\ipykernel_26724\\2049930526.py:64: FutureWarning: suggest_uniform has been deprecated in v3.0.0. This feature will be removed in v6.0.0. See https://github.com/optuna/optuna/releases/tag/v3.0.0. Use suggest_float instead.\n",
      "  dropout_rate2 = trial.suggest_uniform('dropout_rate2', 0.05, 0.1)\n",
      "C:\\Users\\mrbvb\\AppData\\Local\\Temp\\ipykernel_26724\\2049930526.py:67: FutureWarning: suggest_loguniform has been deprecated in v3.0.0. This feature will be removed in v6.0.0. See https://github.com/optuna/optuna/releases/tag/v3.0.0. Use suggest_float(..., log=True) instead.\n",
      "  learning_rate = trial.suggest_loguniform('learning_rate', 1e-6, 1e-3)\n",
      "C:\\Users\\mrbvb\\AppData\\Local\\Temp\\ipykernel_26724\\2049930526.py:16: FutureWarning: suggest_uniform has been deprecated in v3.0.0. This feature will be removed in v6.0.0. See https://github.com/optuna/optuna/releases/tag/v3.0.0. Use suggest_float instead.\n",
      "  dropout_rate = trial.suggest_uniform('dropout_rate', 0.09, 0.3)\n",
      "c:\\Users\\mrbvb\\AppData\\Local\\Programs\\Python\\Python311\\Lib\\site-packages\\optuna\\trial\\_trial.py:676: RuntimeWarning: Inconsistent parameter values for distribution with name \"dropout_rate\"! This might be a configuration mistake. Optuna allows to call the same distribution with the same name more than once in a trial. When the parameter values are inconsistent optuna only uses the values of the first call and ignores all following. Using these values: {'step': None, 'low': 0.05, 'high': 0.3, 'log': False}\n",
      "  warnings.warn(\n",
      "C:\\Users\\mrbvb\\AppData\\Local\\Temp\\ipykernel_26724\\2049930526.py:17: FutureWarning: suggest_uniform has been deprecated in v3.0.0. This feature will be removed in v6.0.0. See https://github.com/optuna/optuna/releases/tag/v3.0.0. Use suggest_float instead.\n",
      "  dropout_rate2 = trial.suggest_uniform('dropout_rate2', 0.05, 0.2)\n",
      "c:\\Users\\mrbvb\\AppData\\Local\\Programs\\Python\\Python311\\Lib\\site-packages\\optuna\\trial\\_trial.py:676: RuntimeWarning: Inconsistent parameter values for distribution with name \"dropout_rate2\"! This might be a configuration mistake. Optuna allows to call the same distribution with the same name more than once in a trial. When the parameter values are inconsistent optuna only uses the values of the first call and ignores all following. Using these values: {'step': None, 'low': 0.05, 'high': 0.1, 'log': False}\n",
      "  warnings.warn(\n",
      "C:\\Users\\mrbvb\\AppData\\Local\\Temp\\ipykernel_26724\\2049930526.py:20: FutureWarning: suggest_loguniform has been deprecated in v3.0.0. This feature will be removed in v6.0.0. See https://github.com/optuna/optuna/releases/tag/v3.0.0. Use suggest_float(..., log=True) instead.\n",
      "  learning_rate = trial.suggest_loguniform('learning_rate', 1e-6, 1e-3)\n",
      "c:\\Users\\mrbvb\\AppData\\Local\\Programs\\Python\\Python311\\Lib\\site-packages\\keras\\src\\layers\\core\\embedding.py:86: UserWarning: Argument `input_length` is deprecated. Just remove it.\n",
      "  warnings.warn(\n"
     ]
    },
    {
     "name": "stdout",
     "output_type": "stream",
     "text": [
      "\u001b[1m11/11\u001b[0m \u001b[32m━━━━━━━━━━━━━━━━━━━━\u001b[0m\u001b[37m\u001b[0m \u001b[1m9s\u001b[0m 372ms/step - accuracy: 0.4621 - loss: 0.6935\n",
      "Epoch 2/10\n",
      "\u001b[1m11/11\u001b[0m \u001b[32m━━━━━━━━━━━━━━━━━━━━\u001b[0m\u001b[37m\u001b[0m \u001b[1m4s\u001b[0m 366ms/step - accuracy: 0.5412 - loss: 0.6926\n",
      "Epoch 3/10\n",
      "\u001b[1m11/11\u001b[0m \u001b[32m━━━━━━━━━━━━━━━━━━━━\u001b[0m\u001b[37m\u001b[0m \u001b[1m4s\u001b[0m 365ms/step - accuracy: 0.5701 - loss: 0.6909\n",
      "Epoch 4/10\n",
      "\u001b[1m11/11\u001b[0m \u001b[32m━━━━━━━━━━━━━━━━━━━━\u001b[0m\u001b[37m\u001b[0m \u001b[1m4s\u001b[0m 367ms/step - accuracy: 0.4990 - loss: 0.6925\n",
      "Epoch 5/10\n",
      "\u001b[1m11/11\u001b[0m \u001b[32m━━━━━━━━━━━━━━━━━━━━\u001b[0m\u001b[37m\u001b[0m \u001b[1m4s\u001b[0m 359ms/step - accuracy: 0.5437 - loss: 0.6887\n",
      "\u001b[1m6/6\u001b[0m \u001b[32m━━━━━━━━━━━━━━━━━━━━\u001b[0m\u001b[37m\u001b[0m \u001b[1m2s\u001b[0m 267ms/step\n",
      "kw {}\n",
      "create mod: d_rate 0.29129974651700874 d_rate2  0.0943531391961512 LSTM  256 dim  150 lr  3.396716355544651e-05\n",
      "Epoch 1/10\n"
     ]
    },
    {
     "name": "stderr",
     "output_type": "stream",
     "text": [
      "C:\\Users\\mrbvb\\AppData\\Local\\Temp\\ipykernel_26724\\2049930526.py:16: FutureWarning: suggest_uniform has been deprecated in v3.0.0. This feature will be removed in v6.0.0. See https://github.com/optuna/optuna/releases/tag/v3.0.0. Use suggest_float instead.\n",
      "  dropout_rate = trial.suggest_uniform('dropout_rate', 0.09, 0.3)\n",
      "c:\\Users\\mrbvb\\AppData\\Local\\Programs\\Python\\Python311\\Lib\\site-packages\\optuna\\trial\\_trial.py:676: RuntimeWarning: Inconsistent parameter values for distribution with name \"dropout_rate\"! This might be a configuration mistake. Optuna allows to call the same distribution with the same name more than once in a trial. When the parameter values are inconsistent optuna only uses the values of the first call and ignores all following. Using these values: {'step': None, 'low': 0.05, 'high': 0.3, 'log': False}\n",
      "  warnings.warn(\n",
      "C:\\Users\\mrbvb\\AppData\\Local\\Temp\\ipykernel_26724\\2049930526.py:17: FutureWarning: suggest_uniform has been deprecated in v3.0.0. This feature will be removed in v6.0.0. See https://github.com/optuna/optuna/releases/tag/v3.0.0. Use suggest_float instead.\n",
      "  dropout_rate2 = trial.suggest_uniform('dropout_rate2', 0.05, 0.2)\n",
      "c:\\Users\\mrbvb\\AppData\\Local\\Programs\\Python\\Python311\\Lib\\site-packages\\optuna\\trial\\_trial.py:676: RuntimeWarning: Inconsistent parameter values for distribution with name \"dropout_rate2\"! This might be a configuration mistake. Optuna allows to call the same distribution with the same name more than once in a trial. When the parameter values are inconsistent optuna only uses the values of the first call and ignores all following. Using these values: {'step': None, 'low': 0.05, 'high': 0.1, 'log': False}\n",
      "  warnings.warn(\n",
      "C:\\Users\\mrbvb\\AppData\\Local\\Temp\\ipykernel_26724\\2049930526.py:20: FutureWarning: suggest_loguniform has been deprecated in v3.0.0. This feature will be removed in v6.0.0. See https://github.com/optuna/optuna/releases/tag/v3.0.0. Use suggest_float(..., log=True) instead.\n",
      "  learning_rate = trial.suggest_loguniform('learning_rate', 1e-6, 1e-3)\n",
      "c:\\Users\\mrbvb\\AppData\\Local\\Programs\\Python\\Python311\\Lib\\site-packages\\keras\\src\\layers\\core\\embedding.py:86: UserWarning: Argument `input_length` is deprecated. Just remove it.\n",
      "  warnings.warn(\n"
     ]
    },
    {
     "name": "stdout",
     "output_type": "stream",
     "text": [
      "\u001b[1m11/11\u001b[0m \u001b[32m━━━━━━━━━━━━━━━━━━━━\u001b[0m\u001b[37m\u001b[0m \u001b[1m8s\u001b[0m 360ms/step - accuracy: 0.5328 - loss: 0.6931\n",
      "Epoch 2/10\n",
      "\u001b[1m11/11\u001b[0m \u001b[32m━━━━━━━━━━━━━━━━━━━━\u001b[0m\u001b[37m\u001b[0m \u001b[1m4s\u001b[0m 364ms/step - accuracy: 0.5188 - loss: 0.6932\n",
      "Epoch 3/10\n",
      "\u001b[1m11/11\u001b[0m \u001b[32m━━━━━━━━━━━━━━━━━━━━\u001b[0m\u001b[37m\u001b[0m \u001b[1m4s\u001b[0m 358ms/step - accuracy: 0.5525 - loss: 0.6922\n",
      "Epoch 4/10\n",
      "\u001b[1m11/11\u001b[0m \u001b[32m━━━━━━━━━━━━━━━━━━━━\u001b[0m\u001b[37m\u001b[0m \u001b[1m4s\u001b[0m 361ms/step - accuracy: 0.5351 - loss: 0.6920\n",
      "Epoch 5/10\n",
      "\u001b[1m11/11\u001b[0m \u001b[32m━━━━━━━━━━━━━━━━━━━━\u001b[0m\u001b[37m\u001b[0m \u001b[1m4s\u001b[0m 359ms/step - accuracy: 0.5934 - loss: 0.6917\n",
      "Epoch 6/10\n",
      "\u001b[1m11/11\u001b[0m \u001b[32m━━━━━━━━━━━━━━━━━━━━\u001b[0m\u001b[37m\u001b[0m \u001b[1m4s\u001b[0m 354ms/step - accuracy: 0.5604 - loss: 0.6917\n",
      "Epoch 7/10\n",
      "\u001b[1m11/11\u001b[0m \u001b[32m━━━━━━━━━━━━━━━━━━━━\u001b[0m\u001b[37m\u001b[0m \u001b[1m4s\u001b[0m 360ms/step - accuracy: 0.6328 - loss: 0.6899\n",
      "Epoch 8/10\n",
      "\u001b[1m11/11\u001b[0m \u001b[32m━━━━━━━━━━━━━━━━━━━━\u001b[0m\u001b[37m\u001b[0m \u001b[1m4s\u001b[0m 356ms/step - accuracy: 0.5960 - loss: 0.6889\n",
      "\u001b[1m6/6\u001b[0m \u001b[32m━━━━━━━━━━━━━━━━━━━━\u001b[0m\u001b[37m\u001b[0m \u001b[1m2s\u001b[0m 260ms/step\n",
      "kw {}\n",
      "create mod: d_rate 0.29129974651700874 d_rate2  0.0943531391961512 LSTM  256 dim  150 lr  3.396716355544651e-05\n",
      "Epoch 1/10\n"
     ]
    },
    {
     "name": "stderr",
     "output_type": "stream",
     "text": [
      "C:\\Users\\mrbvb\\AppData\\Local\\Temp\\ipykernel_26724\\2049930526.py:16: FutureWarning: suggest_uniform has been deprecated in v3.0.0. This feature will be removed in v6.0.0. See https://github.com/optuna/optuna/releases/tag/v3.0.0. Use suggest_float instead.\n",
      "  dropout_rate = trial.suggest_uniform('dropout_rate', 0.09, 0.3)\n",
      "c:\\Users\\mrbvb\\AppData\\Local\\Programs\\Python\\Python311\\Lib\\site-packages\\optuna\\trial\\_trial.py:676: RuntimeWarning: Inconsistent parameter values for distribution with name \"dropout_rate\"! This might be a configuration mistake. Optuna allows to call the same distribution with the same name more than once in a trial. When the parameter values are inconsistent optuna only uses the values of the first call and ignores all following. Using these values: {'step': None, 'low': 0.05, 'high': 0.3, 'log': False}\n",
      "  warnings.warn(\n",
      "C:\\Users\\mrbvb\\AppData\\Local\\Temp\\ipykernel_26724\\2049930526.py:17: FutureWarning: suggest_uniform has been deprecated in v3.0.0. This feature will be removed in v6.0.0. See https://github.com/optuna/optuna/releases/tag/v3.0.0. Use suggest_float instead.\n",
      "  dropout_rate2 = trial.suggest_uniform('dropout_rate2', 0.05, 0.2)\n",
      "c:\\Users\\mrbvb\\AppData\\Local\\Programs\\Python\\Python311\\Lib\\site-packages\\optuna\\trial\\_trial.py:676: RuntimeWarning: Inconsistent parameter values for distribution with name \"dropout_rate2\"! This might be a configuration mistake. Optuna allows to call the same distribution with the same name more than once in a trial. When the parameter values are inconsistent optuna only uses the values of the first call and ignores all following. Using these values: {'step': None, 'low': 0.05, 'high': 0.1, 'log': False}\n",
      "  warnings.warn(\n",
      "C:\\Users\\mrbvb\\AppData\\Local\\Temp\\ipykernel_26724\\2049930526.py:20: FutureWarning: suggest_loguniform has been deprecated in v3.0.0. This feature will be removed in v6.0.0. See https://github.com/optuna/optuna/releases/tag/v3.0.0. Use suggest_float(..., log=True) instead.\n",
      "  learning_rate = trial.suggest_loguniform('learning_rate', 1e-6, 1e-3)\n",
      "c:\\Users\\mrbvb\\AppData\\Local\\Programs\\Python\\Python311\\Lib\\site-packages\\keras\\src\\layers\\core\\embedding.py:86: UserWarning: Argument `input_length` is deprecated. Just remove it.\n",
      "  warnings.warn(\n"
     ]
    },
    {
     "name": "stdout",
     "output_type": "stream",
     "text": [
      "\u001b[1m11/11\u001b[0m \u001b[32m━━━━━━━━━━━━━━━━━━━━\u001b[0m\u001b[37m\u001b[0m \u001b[1m8s\u001b[0m 361ms/step - accuracy: 0.5293 - loss: 0.6930\n",
      "Epoch 2/10\n",
      "\u001b[1m11/11\u001b[0m \u001b[32m━━━━━━━━━━━━━━━━━━━━\u001b[0m\u001b[37m\u001b[0m \u001b[1m4s\u001b[0m 361ms/step - accuracy: 0.5239 - loss: 0.6923\n",
      "Epoch 3/10\n",
      "\u001b[1m11/11\u001b[0m \u001b[32m━━━━━━━━━━━━━━━━━━━━\u001b[0m\u001b[37m\u001b[0m \u001b[1m4s\u001b[0m 354ms/step - accuracy: 0.5317 - loss: 0.6909\n",
      "Epoch 4/10\n",
      "\u001b[1m11/11\u001b[0m \u001b[32m━━━━━━━━━━━━━━━━━━━━\u001b[0m\u001b[37m\u001b[0m \u001b[1m4s\u001b[0m 351ms/step - accuracy: 0.5147 - loss: 0.6916\n",
      "Epoch 5/10\n",
      "\u001b[1m11/11\u001b[0m \u001b[32m━━━━━━━━━━━━━━━━━━━━\u001b[0m\u001b[37m\u001b[0m \u001b[1m4s\u001b[0m 360ms/step - accuracy: 0.5752 - loss: 0.6869\n",
      "\u001b[1m6/6\u001b[0m \u001b[32m━━━━━━━━━━━━━━━━━━━━\u001b[0m\u001b[37m\u001b[0m \u001b[1m2s\u001b[0m 254ms/step\n",
      "result score f1 fuc -0.20621468926553668\n",
      "kw {}\n",
      "create mod: d_rate 0.29129974651700874 d_rate2  0.0943531391961512 LSTM  256 dim  150 lr  3.396716355544651e-05\n",
      "Epoch 1/10\n"
     ]
    },
    {
     "name": "stderr",
     "output_type": "stream",
     "text": [
      "C:\\Users\\mrbvb\\AppData\\Local\\Temp\\ipykernel_26724\\2049930526.py:16: FutureWarning: suggest_uniform has been deprecated in v3.0.0. This feature will be removed in v6.0.0. See https://github.com/optuna/optuna/releases/tag/v3.0.0. Use suggest_float instead.\n",
      "  dropout_rate = trial.suggest_uniform('dropout_rate', 0.09, 0.3)\n",
      "c:\\Users\\mrbvb\\AppData\\Local\\Programs\\Python\\Python311\\Lib\\site-packages\\optuna\\trial\\_trial.py:676: RuntimeWarning: Inconsistent parameter values for distribution with name \"dropout_rate\"! This might be a configuration mistake. Optuna allows to call the same distribution with the same name more than once in a trial. When the parameter values are inconsistent optuna only uses the values of the first call and ignores all following. Using these values: {'step': None, 'low': 0.05, 'high': 0.3, 'log': False}\n",
      "  warnings.warn(\n",
      "C:\\Users\\mrbvb\\AppData\\Local\\Temp\\ipykernel_26724\\2049930526.py:17: FutureWarning: suggest_uniform has been deprecated in v3.0.0. This feature will be removed in v6.0.0. See https://github.com/optuna/optuna/releases/tag/v3.0.0. Use suggest_float instead.\n",
      "  dropout_rate2 = trial.suggest_uniform('dropout_rate2', 0.05, 0.2)\n",
      "c:\\Users\\mrbvb\\AppData\\Local\\Programs\\Python\\Python311\\Lib\\site-packages\\optuna\\trial\\_trial.py:676: RuntimeWarning: Inconsistent parameter values for distribution with name \"dropout_rate2\"! This might be a configuration mistake. Optuna allows to call the same distribution with the same name more than once in a trial. When the parameter values are inconsistent optuna only uses the values of the first call and ignores all following. Using these values: {'step': None, 'low': 0.05, 'high': 0.1, 'log': False}\n",
      "  warnings.warn(\n",
      "C:\\Users\\mrbvb\\AppData\\Local\\Temp\\ipykernel_26724\\2049930526.py:20: FutureWarning: suggest_loguniform has been deprecated in v3.0.0. This feature will be removed in v6.0.0. See https://github.com/optuna/optuna/releases/tag/v3.0.0. Use suggest_float(..., log=True) instead.\n",
      "  learning_rate = trial.suggest_loguniform('learning_rate', 1e-6, 1e-3)\n",
      "c:\\Users\\mrbvb\\AppData\\Local\\Programs\\Python\\Python311\\Lib\\site-packages\\keras\\src\\layers\\core\\embedding.py:86: UserWarning: Argument `input_length` is deprecated. Just remove it.\n",
      "  warnings.warn(\n"
     ]
    },
    {
     "name": "stdout",
     "output_type": "stream",
     "text": [
      "\u001b[1m11/11\u001b[0m \u001b[32m━━━━━━━━━━━━━━━━━━━━\u001b[0m\u001b[37m\u001b[0m \u001b[1m8s\u001b[0m 342ms/step - accuracy: 0.5023 - loss: 0.6932\n",
      "Epoch 2/10\n",
      "\u001b[1m11/11\u001b[0m \u001b[32m━━━━━━━━━━━━━━━━━━━━\u001b[0m\u001b[37m\u001b[0m \u001b[1m4s\u001b[0m 331ms/step - accuracy: 0.5052 - loss: 0.6932\n",
      "Epoch 3/10\n",
      "\u001b[1m11/11\u001b[0m \u001b[32m━━━━━━━━━━━━━━━━━━━━\u001b[0m\u001b[37m\u001b[0m \u001b[1m4s\u001b[0m 334ms/step - accuracy: 0.5448 - loss: 0.6909\n",
      "Epoch 4/10\n",
      "\u001b[1m11/11\u001b[0m \u001b[32m━━━━━━━━━━━━━━━━━━━━\u001b[0m\u001b[37m\u001b[0m \u001b[1m4s\u001b[0m 331ms/step - accuracy: 0.5192 - loss: 0.6915\n",
      "Epoch 5/10\n",
      "\u001b[1m11/11\u001b[0m \u001b[32m━━━━━━━━━━━━━━━━━━━━\u001b[0m\u001b[37m\u001b[0m \u001b[1m4s\u001b[0m 329ms/step - accuracy: 0.5106 - loss: 0.6910\n",
      "Epoch 6/10\n",
      "\u001b[1m11/11\u001b[0m \u001b[32m━━━━━━━━━━━━━━━━━━━━\u001b[0m\u001b[37m\u001b[0m \u001b[1m4s\u001b[0m 329ms/step - accuracy: 0.5262 - loss: 0.6888\n",
      "\u001b[1m6/6\u001b[0m \u001b[32m━━━━━━━━━━━━━━━━━━━━\u001b[0m\u001b[37m\u001b[0m \u001b[1m2s\u001b[0m 247ms/step\n",
      "kw {}\n",
      "create mod: d_rate 0.29129974651700874 d_rate2  0.0943531391961512 LSTM  256 dim  150 lr  3.396716355544651e-05\n",
      "Epoch 1/10\n"
     ]
    },
    {
     "name": "stderr",
     "output_type": "stream",
     "text": [
      "C:\\Users\\mrbvb\\AppData\\Local\\Temp\\ipykernel_26724\\2049930526.py:16: FutureWarning: suggest_uniform has been deprecated in v3.0.0. This feature will be removed in v6.0.0. See https://github.com/optuna/optuna/releases/tag/v3.0.0. Use suggest_float instead.\n",
      "  dropout_rate = trial.suggest_uniform('dropout_rate', 0.09, 0.3)\n",
      "c:\\Users\\mrbvb\\AppData\\Local\\Programs\\Python\\Python311\\Lib\\site-packages\\optuna\\trial\\_trial.py:676: RuntimeWarning: Inconsistent parameter values for distribution with name \"dropout_rate\"! This might be a configuration mistake. Optuna allows to call the same distribution with the same name more than once in a trial. When the parameter values are inconsistent optuna only uses the values of the first call and ignores all following. Using these values: {'step': None, 'low': 0.05, 'high': 0.3, 'log': False}\n",
      "  warnings.warn(\n",
      "C:\\Users\\mrbvb\\AppData\\Local\\Temp\\ipykernel_26724\\2049930526.py:17: FutureWarning: suggest_uniform has been deprecated in v3.0.0. This feature will be removed in v6.0.0. See https://github.com/optuna/optuna/releases/tag/v3.0.0. Use suggest_float instead.\n",
      "  dropout_rate2 = trial.suggest_uniform('dropout_rate2', 0.05, 0.2)\n",
      "c:\\Users\\mrbvb\\AppData\\Local\\Programs\\Python\\Python311\\Lib\\site-packages\\optuna\\trial\\_trial.py:676: RuntimeWarning: Inconsistent parameter values for distribution with name \"dropout_rate2\"! This might be a configuration mistake. Optuna allows to call the same distribution with the same name more than once in a trial. When the parameter values are inconsistent optuna only uses the values of the first call and ignores all following. Using these values: {'step': None, 'low': 0.05, 'high': 0.1, 'log': False}\n",
      "  warnings.warn(\n",
      "C:\\Users\\mrbvb\\AppData\\Local\\Temp\\ipykernel_26724\\2049930526.py:20: FutureWarning: suggest_loguniform has been deprecated in v3.0.0. This feature will be removed in v6.0.0. See https://github.com/optuna/optuna/releases/tag/v3.0.0. Use suggest_float(..., log=True) instead.\n",
      "  learning_rate = trial.suggest_loguniform('learning_rate', 1e-6, 1e-3)\n",
      "c:\\Users\\mrbvb\\AppData\\Local\\Programs\\Python\\Python311\\Lib\\site-packages\\keras\\src\\layers\\core\\embedding.py:86: UserWarning: Argument `input_length` is deprecated. Just remove it.\n",
      "  warnings.warn(\n"
     ]
    },
    {
     "name": "stdout",
     "output_type": "stream",
     "text": [
      "\u001b[1m11/11\u001b[0m \u001b[32m━━━━━━━━━━━━━━━━━━━━\u001b[0m\u001b[37m\u001b[0m \u001b[1m10s\u001b[0m 400ms/step - accuracy: 0.4880 - loss: 0.6932\n",
      "Epoch 2/10\n",
      "\u001b[1m11/11\u001b[0m \u001b[32m━━━━━━━━━━━━━━━━━━━━\u001b[0m\u001b[37m\u001b[0m \u001b[1m4s\u001b[0m 390ms/step - accuracy: 0.5738 - loss: 0.6932\n",
      "Epoch 3/10\n",
      "\u001b[1m11/11\u001b[0m \u001b[32m━━━━━━━━━━━━━━━━━━━━\u001b[0m\u001b[37m\u001b[0m \u001b[1m4s\u001b[0m 404ms/step - accuracy: 0.5056 - loss: 0.6930\n",
      "Epoch 4/10\n",
      "\u001b[1m11/11\u001b[0m \u001b[32m━━━━━━━━━━━━━━━━━━━━\u001b[0m\u001b[37m\u001b[0m \u001b[1m4s\u001b[0m 401ms/step - accuracy: 0.5508 - loss: 0.6925\n",
      "Epoch 5/10\n",
      "\u001b[1m11/11\u001b[0m \u001b[32m━━━━━━━━━━━━━━━━━━━━\u001b[0m\u001b[37m\u001b[0m \u001b[1m4s\u001b[0m 391ms/step - accuracy: 0.5973 - loss: 0.6918\n",
      "Epoch 6/10\n",
      "\u001b[1m11/11\u001b[0m \u001b[32m━━━━━━━━━━━━━━━━━━━━\u001b[0m\u001b[37m\u001b[0m \u001b[1m4s\u001b[0m 395ms/step - accuracy: 0.5764 - loss: 0.6914\n",
      "Epoch 7/10\n",
      "\u001b[1m11/11\u001b[0m \u001b[32m━━━━━━━━━━━━━━━━━━━━\u001b[0m\u001b[37m\u001b[0m \u001b[1m4s\u001b[0m 399ms/step - accuracy: 0.5990 - loss: 0.6911\n",
      "Epoch 8/10\n",
      "\u001b[1m11/11\u001b[0m \u001b[32m━━━━━━━━━━━━━━━━━━━━\u001b[0m\u001b[37m\u001b[0m \u001b[1m4s\u001b[0m 402ms/step - accuracy: 0.6823 - loss: 0.6898\n",
      "Epoch 9/10\n",
      "\u001b[1m11/11\u001b[0m \u001b[32m━━━━━━━━━━━━━━━━━━━━\u001b[0m\u001b[37m\u001b[0m \u001b[1m4s\u001b[0m 393ms/step - accuracy: 0.6088 - loss: 0.6906\n",
      "Epoch 10/10\n",
      "\u001b[1m11/11\u001b[0m \u001b[32m━━━━━━━━━━━━━━━━━━━━\u001b[0m\u001b[37m\u001b[0m \u001b[1m4s\u001b[0m 400ms/step - accuracy: 0.6278 - loss: 0.6884\n",
      "\u001b[1m6/6\u001b[0m \u001b[32m━━━━━━━━━━━━━━━━━━━━\u001b[0m\u001b[37m\u001b[0m \u001b[1m2s\u001b[0m 281ms/step\n",
      "kw {}\n",
      "create mod: d_rate 0.29129974651700874 d_rate2  0.0943531391961512 LSTM  256 dim  150 lr  3.396716355544651e-05\n",
      "Epoch 1/10\n"
     ]
    },
    {
     "name": "stderr",
     "output_type": "stream",
     "text": [
      "C:\\Users\\mrbvb\\AppData\\Local\\Temp\\ipykernel_26724\\2049930526.py:16: FutureWarning: suggest_uniform has been deprecated in v3.0.0. This feature will be removed in v6.0.0. See https://github.com/optuna/optuna/releases/tag/v3.0.0. Use suggest_float instead.\n",
      "  dropout_rate = trial.suggest_uniform('dropout_rate', 0.09, 0.3)\n",
      "c:\\Users\\mrbvb\\AppData\\Local\\Programs\\Python\\Python311\\Lib\\site-packages\\optuna\\trial\\_trial.py:676: RuntimeWarning: Inconsistent parameter values for distribution with name \"dropout_rate\"! This might be a configuration mistake. Optuna allows to call the same distribution with the same name more than once in a trial. When the parameter values are inconsistent optuna only uses the values of the first call and ignores all following. Using these values: {'step': None, 'low': 0.05, 'high': 0.3, 'log': False}\n",
      "  warnings.warn(\n",
      "C:\\Users\\mrbvb\\AppData\\Local\\Temp\\ipykernel_26724\\2049930526.py:17: FutureWarning: suggest_uniform has been deprecated in v3.0.0. This feature will be removed in v6.0.0. See https://github.com/optuna/optuna/releases/tag/v3.0.0. Use suggest_float instead.\n",
      "  dropout_rate2 = trial.suggest_uniform('dropout_rate2', 0.05, 0.2)\n",
      "c:\\Users\\mrbvb\\AppData\\Local\\Programs\\Python\\Python311\\Lib\\site-packages\\optuna\\trial\\_trial.py:676: RuntimeWarning: Inconsistent parameter values for distribution with name \"dropout_rate2\"! This might be a configuration mistake. Optuna allows to call the same distribution with the same name more than once in a trial. When the parameter values are inconsistent optuna only uses the values of the first call and ignores all following. Using these values: {'step': None, 'low': 0.05, 'high': 0.1, 'log': False}\n",
      "  warnings.warn(\n",
      "C:\\Users\\mrbvb\\AppData\\Local\\Temp\\ipykernel_26724\\2049930526.py:20: FutureWarning: suggest_loguniform has been deprecated in v3.0.0. This feature will be removed in v6.0.0. See https://github.com/optuna/optuna/releases/tag/v3.0.0. Use suggest_float(..., log=True) instead.\n",
      "  learning_rate = trial.suggest_loguniform('learning_rate', 1e-6, 1e-3)\n",
      "c:\\Users\\mrbvb\\AppData\\Local\\Programs\\Python\\Python311\\Lib\\site-packages\\keras\\src\\layers\\core\\embedding.py:86: UserWarning: Argument `input_length` is deprecated. Just remove it.\n",
      "  warnings.warn(\n"
     ]
    },
    {
     "name": "stdout",
     "output_type": "stream",
     "text": [
      "\u001b[1m11/11\u001b[0m \u001b[32m━━━━━━━━━━━━━━━━━━━━\u001b[0m\u001b[37m\u001b[0m \u001b[1m8s\u001b[0m 382ms/step - accuracy: 0.5184 - loss: 0.6924\n",
      "Epoch 2/10\n",
      "\u001b[1m11/11\u001b[0m \u001b[32m━━━━━━━━━━━━━━━━━━━━\u001b[0m\u001b[37m\u001b[0m \u001b[1m4s\u001b[0m 386ms/step - accuracy: 0.5305 - loss: 0.6919\n",
      "Epoch 3/10\n",
      "\u001b[1m11/11\u001b[0m \u001b[32m━━━━━━━━━━━━━━━━━━━━\u001b[0m\u001b[37m\u001b[0m \u001b[1m4s\u001b[0m 389ms/step - accuracy: 0.5377 - loss: 0.6907\n",
      "Epoch 4/10\n",
      "\u001b[1m11/11\u001b[0m \u001b[32m━━━━━━━━━━━━━━━━━━━━\u001b[0m\u001b[37m\u001b[0m \u001b[1m4s\u001b[0m 402ms/step - accuracy: 0.5381 - loss: 0.6900\n",
      "Epoch 5/10\n",
      "\u001b[1m11/11\u001b[0m \u001b[32m━━━━━━━━━━━━━━━━━━━━\u001b[0m\u001b[37m\u001b[0m \u001b[1m5s\u001b[0m 410ms/step - accuracy: 0.5520 - loss: 0.6892\n",
      "\u001b[1m6/6\u001b[0m \u001b[32m━━━━━━━━━━━━━━━━━━━━\u001b[0m\u001b[37m\u001b[0m \u001b[1m2s\u001b[0m 300ms/step\n"
     ]
    },
    {
     "name": "stderr",
     "output_type": "stream",
     "text": [
      "[I 2024-04-30 17:18:22,130] Trial 5 finished with value: 0.09782414838594615 and parameters: {'dropout_rate': 0.29129974651700874, 'dropout_rate2': 0.0943531391961512, 'LSTM_units': 256, 'EMBEDDING_DIM': 150, 'learning_rate': 3.396716355544651e-05}. Best is trial 0 with value: 0.7263624737711227.\n"
     ]
    },
    {
     "name": "stdout",
     "output_type": "stream",
     "text": [
      "objectiving\n",
      "kw {}\n",
      "kw {}\n",
      "create mod: d_rate 0.09285260956947004 d_rate2  0.07499131298828723 LSTM  128 dim  200 lr  2.7592639973913976e-06\n",
      "Epoch 1/10\n"
     ]
    },
    {
     "name": "stderr",
     "output_type": "stream",
     "text": [
      "C:\\Users\\mrbvb\\AppData\\Local\\Temp\\ipykernel_26724\\2049930526.py:63: FutureWarning: suggest_uniform has been deprecated in v3.0.0. This feature will be removed in v6.0.0. See https://github.com/optuna/optuna/releases/tag/v3.0.0. Use suggest_float instead.\n",
      "  dropout_rate = trial.suggest_uniform('dropout_rate', 0.05, 0.3) #value should be from small to large only\n",
      "C:\\Users\\mrbvb\\AppData\\Local\\Temp\\ipykernel_26724\\2049930526.py:64: FutureWarning: suggest_uniform has been deprecated in v3.0.0. This feature will be removed in v6.0.0. See https://github.com/optuna/optuna/releases/tag/v3.0.0. Use suggest_float instead.\n",
      "  dropout_rate2 = trial.suggest_uniform('dropout_rate2', 0.05, 0.1)\n",
      "C:\\Users\\mrbvb\\AppData\\Local\\Temp\\ipykernel_26724\\2049930526.py:67: FutureWarning: suggest_loguniform has been deprecated in v3.0.0. This feature will be removed in v6.0.0. See https://github.com/optuna/optuna/releases/tag/v3.0.0. Use suggest_float(..., log=True) instead.\n",
      "  learning_rate = trial.suggest_loguniform('learning_rate', 1e-6, 1e-3)\n",
      "C:\\Users\\mrbvb\\AppData\\Local\\Temp\\ipykernel_26724\\2049930526.py:16: FutureWarning: suggest_uniform has been deprecated in v3.0.0. This feature will be removed in v6.0.0. See https://github.com/optuna/optuna/releases/tag/v3.0.0. Use suggest_float instead.\n",
      "  dropout_rate = trial.suggest_uniform('dropout_rate', 0.09, 0.3)\n",
      "c:\\Users\\mrbvb\\AppData\\Local\\Programs\\Python\\Python311\\Lib\\site-packages\\optuna\\trial\\_trial.py:676: RuntimeWarning: Inconsistent parameter values for distribution with name \"dropout_rate\"! This might be a configuration mistake. Optuna allows to call the same distribution with the same name more than once in a trial. When the parameter values are inconsistent optuna only uses the values of the first call and ignores all following. Using these values: {'step': None, 'low': 0.05, 'high': 0.3, 'log': False}\n",
      "  warnings.warn(\n",
      "C:\\Users\\mrbvb\\AppData\\Local\\Temp\\ipykernel_26724\\2049930526.py:17: FutureWarning: suggest_uniform has been deprecated in v3.0.0. This feature will be removed in v6.0.0. See https://github.com/optuna/optuna/releases/tag/v3.0.0. Use suggest_float instead.\n",
      "  dropout_rate2 = trial.suggest_uniform('dropout_rate2', 0.05, 0.2)\n",
      "c:\\Users\\mrbvb\\AppData\\Local\\Programs\\Python\\Python311\\Lib\\site-packages\\optuna\\trial\\_trial.py:676: RuntimeWarning: Inconsistent parameter values for distribution with name \"dropout_rate2\"! This might be a configuration mistake. Optuna allows to call the same distribution with the same name more than once in a trial. When the parameter values are inconsistent optuna only uses the values of the first call and ignores all following. Using these values: {'step': None, 'low': 0.05, 'high': 0.1, 'log': False}\n",
      "  warnings.warn(\n",
      "C:\\Users\\mrbvb\\AppData\\Local\\Temp\\ipykernel_26724\\2049930526.py:20: FutureWarning: suggest_loguniform has been deprecated in v3.0.0. This feature will be removed in v6.0.0. See https://github.com/optuna/optuna/releases/tag/v3.0.0. Use suggest_float(..., log=True) instead.\n",
      "  learning_rate = trial.suggest_loguniform('learning_rate', 1e-6, 1e-3)\n",
      "c:\\Users\\mrbvb\\AppData\\Local\\Programs\\Python\\Python311\\Lib\\site-packages\\keras\\src\\layers\\core\\embedding.py:86: UserWarning: Argument `input_length` is deprecated. Just remove it.\n",
      "  warnings.warn(\n"
     ]
    },
    {
     "name": "stdout",
     "output_type": "stream",
     "text": [
      "\u001b[1m11/11\u001b[0m \u001b[32m━━━━━━━━━━━━━━━━━━━━\u001b[0m\u001b[37m\u001b[0m \u001b[1m7s\u001b[0m 236ms/step - accuracy: 0.4554 - loss: 0.6934\n",
      "Epoch 2/10\n",
      "\u001b[1m11/11\u001b[0m \u001b[32m━━━━━━━━━━━━━━━━━━━━\u001b[0m\u001b[37m\u001b[0m \u001b[1m3s\u001b[0m 230ms/step - accuracy: 0.4996 - loss: 0.6932\n",
      "Epoch 3/10\n",
      "\u001b[1m11/11\u001b[0m \u001b[32m━━━━━━━━━━━━━━━━━━━━\u001b[0m\u001b[37m\u001b[0m \u001b[1m3s\u001b[0m 227ms/step - accuracy: 0.4871 - loss: 0.6932\n",
      "Epoch 4/10\n",
      "\u001b[1m11/11\u001b[0m \u001b[32m━━━━━━━━━━━━━━━━━━━━\u001b[0m\u001b[37m\u001b[0m \u001b[1m3s\u001b[0m 226ms/step - accuracy: 0.4946 - loss: 0.6929\n",
      "Epoch 5/10\n",
      "\u001b[1m11/11\u001b[0m \u001b[32m━━━━━━━━━━━━━━━━━━━━\u001b[0m\u001b[37m\u001b[0m \u001b[1m2s\u001b[0m 226ms/step - accuracy: 0.5297 - loss: 0.6931\n",
      "\u001b[1m6/6\u001b[0m \u001b[32m━━━━━━━━━━━━━━━━━━━━\u001b[0m\u001b[37m\u001b[0m \u001b[1m2s\u001b[0m 214ms/step\n",
      "kw {}\n",
      "create mod: d_rate 0.09285260956947004 d_rate2  0.07499131298828723 LSTM  128 dim  200 lr  2.7592639973913976e-06\n",
      "Epoch 1/10\n"
     ]
    },
    {
     "name": "stderr",
     "output_type": "stream",
     "text": [
      "C:\\Users\\mrbvb\\AppData\\Local\\Temp\\ipykernel_26724\\2049930526.py:16: FutureWarning: suggest_uniform has been deprecated in v3.0.0. This feature will be removed in v6.0.0. See https://github.com/optuna/optuna/releases/tag/v3.0.0. Use suggest_float instead.\n",
      "  dropout_rate = trial.suggest_uniform('dropout_rate', 0.09, 0.3)\n",
      "c:\\Users\\mrbvb\\AppData\\Local\\Programs\\Python\\Python311\\Lib\\site-packages\\optuna\\trial\\_trial.py:676: RuntimeWarning: Inconsistent parameter values for distribution with name \"dropout_rate\"! This might be a configuration mistake. Optuna allows to call the same distribution with the same name more than once in a trial. When the parameter values are inconsistent optuna only uses the values of the first call and ignores all following. Using these values: {'step': None, 'low': 0.05, 'high': 0.3, 'log': False}\n",
      "  warnings.warn(\n",
      "C:\\Users\\mrbvb\\AppData\\Local\\Temp\\ipykernel_26724\\2049930526.py:17: FutureWarning: suggest_uniform has been deprecated in v3.0.0. This feature will be removed in v6.0.0. See https://github.com/optuna/optuna/releases/tag/v3.0.0. Use suggest_float instead.\n",
      "  dropout_rate2 = trial.suggest_uniform('dropout_rate2', 0.05, 0.2)\n",
      "c:\\Users\\mrbvb\\AppData\\Local\\Programs\\Python\\Python311\\Lib\\site-packages\\optuna\\trial\\_trial.py:676: RuntimeWarning: Inconsistent parameter values for distribution with name \"dropout_rate2\"! This might be a configuration mistake. Optuna allows to call the same distribution with the same name more than once in a trial. When the parameter values are inconsistent optuna only uses the values of the first call and ignores all following. Using these values: {'step': None, 'low': 0.05, 'high': 0.1, 'log': False}\n",
      "  warnings.warn(\n",
      "C:\\Users\\mrbvb\\AppData\\Local\\Temp\\ipykernel_26724\\2049930526.py:20: FutureWarning: suggest_loguniform has been deprecated in v3.0.0. This feature will be removed in v6.0.0. See https://github.com/optuna/optuna/releases/tag/v3.0.0. Use suggest_float(..., log=True) instead.\n",
      "  learning_rate = trial.suggest_loguniform('learning_rate', 1e-6, 1e-3)\n",
      "c:\\Users\\mrbvb\\AppData\\Local\\Programs\\Python\\Python311\\Lib\\site-packages\\keras\\src\\layers\\core\\embedding.py:86: UserWarning: Argument `input_length` is deprecated. Just remove it.\n",
      "  warnings.warn(\n"
     ]
    },
    {
     "name": "stdout",
     "output_type": "stream",
     "text": [
      "\u001b[1m11/11\u001b[0m \u001b[32m━━━━━━━━━━━━━━━━━━━━\u001b[0m\u001b[37m\u001b[0m \u001b[1m7s\u001b[0m 223ms/step - accuracy: 0.5254 - loss: 0.6929\n",
      "Epoch 2/10\n",
      "\u001b[1m11/11\u001b[0m \u001b[32m━━━━━━━━━━━━━━━━━━━━\u001b[0m\u001b[37m\u001b[0m \u001b[1m2s\u001b[0m 221ms/step - accuracy: 0.4995 - loss: 0.6928\n",
      "Epoch 3/10\n",
      "\u001b[1m11/11\u001b[0m \u001b[32m━━━━━━━━━━━━━━━━━━━━\u001b[0m\u001b[37m\u001b[0m \u001b[1m2s\u001b[0m 222ms/step - accuracy: 0.4893 - loss: 0.6935\n",
      "Epoch 4/10\n",
      "\u001b[1m11/11\u001b[0m \u001b[32m━━━━━━━━━━━━━━━━━━━━\u001b[0m\u001b[37m\u001b[0m \u001b[1m2s\u001b[0m 223ms/step - accuracy: 0.5339 - loss: 0.6929\n",
      "Epoch 5/10\n",
      "\u001b[1m11/11\u001b[0m \u001b[32m━━━━━━━━━━━━━━━━━━━━\u001b[0m\u001b[37m\u001b[0m \u001b[1m2s\u001b[0m 221ms/step - accuracy: 0.5016 - loss: 0.6931\n",
      "Epoch 6/10\n",
      "\u001b[1m11/11\u001b[0m \u001b[32m━━━━━━━━━━━━━━━━━━━━\u001b[0m\u001b[37m\u001b[0m \u001b[1m2s\u001b[0m 221ms/step - accuracy: 0.5286 - loss: 0.6928\n",
      "Epoch 7/10\n",
      "\u001b[1m11/11\u001b[0m \u001b[32m━━━━━━━━━━━━━━━━━━━━\u001b[0m\u001b[37m\u001b[0m \u001b[1m3s\u001b[0m 231ms/step - accuracy: 0.4807 - loss: 0.6937\n",
      "\u001b[1m6/6\u001b[0m \u001b[32m━━━━━━━━━━━━━━━━━━━━\u001b[0m\u001b[37m\u001b[0m \u001b[1m2s\u001b[0m 205ms/step\n",
      "kw {}\n",
      "create mod: d_rate 0.09285260956947004 d_rate2  0.07499131298828723 LSTM  128 dim  200 lr  2.7592639973913976e-06\n",
      "Epoch 1/10\n"
     ]
    },
    {
     "name": "stderr",
     "output_type": "stream",
     "text": [
      "C:\\Users\\mrbvb\\AppData\\Local\\Temp\\ipykernel_26724\\2049930526.py:16: FutureWarning: suggest_uniform has been deprecated in v3.0.0. This feature will be removed in v6.0.0. See https://github.com/optuna/optuna/releases/tag/v3.0.0. Use suggest_float instead.\n",
      "  dropout_rate = trial.suggest_uniform('dropout_rate', 0.09, 0.3)\n",
      "c:\\Users\\mrbvb\\AppData\\Local\\Programs\\Python\\Python311\\Lib\\site-packages\\optuna\\trial\\_trial.py:676: RuntimeWarning: Inconsistent parameter values for distribution with name \"dropout_rate\"! This might be a configuration mistake. Optuna allows to call the same distribution with the same name more than once in a trial. When the parameter values are inconsistent optuna only uses the values of the first call and ignores all following. Using these values: {'step': None, 'low': 0.05, 'high': 0.3, 'log': False}\n",
      "  warnings.warn(\n",
      "C:\\Users\\mrbvb\\AppData\\Local\\Temp\\ipykernel_26724\\2049930526.py:17: FutureWarning: suggest_uniform has been deprecated in v3.0.0. This feature will be removed in v6.0.0. See https://github.com/optuna/optuna/releases/tag/v3.0.0. Use suggest_float instead.\n",
      "  dropout_rate2 = trial.suggest_uniform('dropout_rate2', 0.05, 0.2)\n",
      "c:\\Users\\mrbvb\\AppData\\Local\\Programs\\Python\\Python311\\Lib\\site-packages\\optuna\\trial\\_trial.py:676: RuntimeWarning: Inconsistent parameter values for distribution with name \"dropout_rate2\"! This might be a configuration mistake. Optuna allows to call the same distribution with the same name more than once in a trial. When the parameter values are inconsistent optuna only uses the values of the first call and ignores all following. Using these values: {'step': None, 'low': 0.05, 'high': 0.1, 'log': False}\n",
      "  warnings.warn(\n",
      "C:\\Users\\mrbvb\\AppData\\Local\\Temp\\ipykernel_26724\\2049930526.py:20: FutureWarning: suggest_loguniform has been deprecated in v3.0.0. This feature will be removed in v6.0.0. See https://github.com/optuna/optuna/releases/tag/v3.0.0. Use suggest_float(..., log=True) instead.\n",
      "  learning_rate = trial.suggest_loguniform('learning_rate', 1e-6, 1e-3)\n",
      "c:\\Users\\mrbvb\\AppData\\Local\\Programs\\Python\\Python311\\Lib\\site-packages\\keras\\src\\layers\\core\\embedding.py:86: UserWarning: Argument `input_length` is deprecated. Just remove it.\n",
      "  warnings.warn(\n"
     ]
    },
    {
     "name": "stdout",
     "output_type": "stream",
     "text": [
      "\u001b[1m11/11\u001b[0m \u001b[32m━━━━━━━━━━━━━━━━━━━━\u001b[0m\u001b[37m\u001b[0m \u001b[1m7s\u001b[0m 218ms/step - accuracy: 0.5318 - loss: 0.6927\n",
      "Epoch 2/10\n",
      "\u001b[1m11/11\u001b[0m \u001b[32m━━━━━━━━━━━━━━━━━━━━\u001b[0m\u001b[37m\u001b[0m \u001b[1m2s\u001b[0m 214ms/step - accuracy: 0.5231 - loss: 0.6936\n",
      "Epoch 3/10\n",
      "\u001b[1m11/11\u001b[0m \u001b[32m━━━━━━━━━━━━━━━━━━━━\u001b[0m\u001b[37m\u001b[0m \u001b[1m2s\u001b[0m 209ms/step - accuracy: 0.5296 - loss: 0.6932\n",
      "Epoch 4/10\n",
      "\u001b[1m11/11\u001b[0m \u001b[32m━━━━━━━━━━━━━━━━━━━━\u001b[0m\u001b[37m\u001b[0m \u001b[1m2s\u001b[0m 212ms/step - accuracy: 0.5108 - loss: 0.6932\n",
      "\u001b[1m6/6\u001b[0m \u001b[32m━━━━━━━━━━━━━━━━━━━━\u001b[0m\u001b[37m\u001b[0m \u001b[1m1s\u001b[0m 199ms/step\n",
      "result score f1 fuc -0.40201288244766503\n",
      "kw {}\n",
      "create mod: d_rate 0.09285260956947004 d_rate2  0.07499131298828723 LSTM  128 dim  200 lr  2.7592639973913976e-06\n",
      "Epoch 1/10\n"
     ]
    },
    {
     "name": "stderr",
     "output_type": "stream",
     "text": [
      "C:\\Users\\mrbvb\\AppData\\Local\\Temp\\ipykernel_26724\\2049930526.py:16: FutureWarning: suggest_uniform has been deprecated in v3.0.0. This feature will be removed in v6.0.0. See https://github.com/optuna/optuna/releases/tag/v3.0.0. Use suggest_float instead.\n",
      "  dropout_rate = trial.suggest_uniform('dropout_rate', 0.09, 0.3)\n",
      "c:\\Users\\mrbvb\\AppData\\Local\\Programs\\Python\\Python311\\Lib\\site-packages\\optuna\\trial\\_trial.py:676: RuntimeWarning: Inconsistent parameter values for distribution with name \"dropout_rate\"! This might be a configuration mistake. Optuna allows to call the same distribution with the same name more than once in a trial. When the parameter values are inconsistent optuna only uses the values of the first call and ignores all following. Using these values: {'step': None, 'low': 0.05, 'high': 0.3, 'log': False}\n",
      "  warnings.warn(\n",
      "C:\\Users\\mrbvb\\AppData\\Local\\Temp\\ipykernel_26724\\2049930526.py:17: FutureWarning: suggest_uniform has been deprecated in v3.0.0. This feature will be removed in v6.0.0. See https://github.com/optuna/optuna/releases/tag/v3.0.0. Use suggest_float instead.\n",
      "  dropout_rate2 = trial.suggest_uniform('dropout_rate2', 0.05, 0.2)\n",
      "c:\\Users\\mrbvb\\AppData\\Local\\Programs\\Python\\Python311\\Lib\\site-packages\\optuna\\trial\\_trial.py:676: RuntimeWarning: Inconsistent parameter values for distribution with name \"dropout_rate2\"! This might be a configuration mistake. Optuna allows to call the same distribution with the same name more than once in a trial. When the parameter values are inconsistent optuna only uses the values of the first call and ignores all following. Using these values: {'step': None, 'low': 0.05, 'high': 0.1, 'log': False}\n",
      "  warnings.warn(\n",
      "C:\\Users\\mrbvb\\AppData\\Local\\Temp\\ipykernel_26724\\2049930526.py:20: FutureWarning: suggest_loguniform has been deprecated in v3.0.0. This feature will be removed in v6.0.0. See https://github.com/optuna/optuna/releases/tag/v3.0.0. Use suggest_float(..., log=True) instead.\n",
      "  learning_rate = trial.suggest_loguniform('learning_rate', 1e-6, 1e-3)\n",
      "c:\\Users\\mrbvb\\AppData\\Local\\Programs\\Python\\Python311\\Lib\\site-packages\\keras\\src\\layers\\core\\embedding.py:86: UserWarning: Argument `input_length` is deprecated. Just remove it.\n",
      "  warnings.warn(\n"
     ]
    },
    {
     "name": "stdout",
     "output_type": "stream",
     "text": [
      "\u001b[1m11/11\u001b[0m \u001b[32m━━━━━━━━━━━━━━━━━━━━\u001b[0m\u001b[37m\u001b[0m \u001b[1m8s\u001b[0m 230ms/step - accuracy: 0.4831 - loss: 0.6939\n",
      "Epoch 2/10\n",
      "\u001b[1m11/11\u001b[0m \u001b[32m━━━━━━━━━━━━━━━━━━━━\u001b[0m\u001b[37m\u001b[0m \u001b[1m3s\u001b[0m 233ms/step - accuracy: 0.4654 - loss: 0.6946\n",
      "Epoch 3/10\n",
      "\u001b[1m11/11\u001b[0m \u001b[32m━━━━━━━━━━━━━━━━━━━━\u001b[0m\u001b[37m\u001b[0m \u001b[1m3s\u001b[0m 236ms/step - accuracy: 0.4406 - loss: 0.6958\n",
      "Epoch 4/10\n",
      "\u001b[1m11/11\u001b[0m \u001b[32m━━━━━━━━━━━━━━━━━━━━\u001b[0m\u001b[37m\u001b[0m \u001b[1m3s\u001b[0m 230ms/step - accuracy: 0.4749 - loss: 0.6938\n",
      "Epoch 5/10\n",
      "\u001b[1m11/11\u001b[0m \u001b[32m━━━━━━━━━━━━━━━━━━━━\u001b[0m\u001b[37m\u001b[0m \u001b[1m3s\u001b[0m 232ms/step - accuracy: 0.4699 - loss: 0.6939\n",
      "\u001b[1m6/6\u001b[0m \u001b[32m━━━━━━━━━━━━━━━━━━━━\u001b[0m\u001b[37m\u001b[0m \u001b[1m2s\u001b[0m 227ms/step\n",
      "kw {}\n",
      "create mod: d_rate 0.09285260956947004 d_rate2  0.07499131298828723 LSTM  128 dim  200 lr  2.7592639973913976e-06\n",
      "Epoch 1/10\n"
     ]
    },
    {
     "name": "stderr",
     "output_type": "stream",
     "text": [
      "C:\\Users\\mrbvb\\AppData\\Local\\Temp\\ipykernel_26724\\2049930526.py:16: FutureWarning: suggest_uniform has been deprecated in v3.0.0. This feature will be removed in v6.0.0. See https://github.com/optuna/optuna/releases/tag/v3.0.0. Use suggest_float instead.\n",
      "  dropout_rate = trial.suggest_uniform('dropout_rate', 0.09, 0.3)\n",
      "c:\\Users\\mrbvb\\AppData\\Local\\Programs\\Python\\Python311\\Lib\\site-packages\\optuna\\trial\\_trial.py:676: RuntimeWarning: Inconsistent parameter values for distribution with name \"dropout_rate\"! This might be a configuration mistake. Optuna allows to call the same distribution with the same name more than once in a trial. When the parameter values are inconsistent optuna only uses the values of the first call and ignores all following. Using these values: {'step': None, 'low': 0.05, 'high': 0.3, 'log': False}\n",
      "  warnings.warn(\n",
      "C:\\Users\\mrbvb\\AppData\\Local\\Temp\\ipykernel_26724\\2049930526.py:17: FutureWarning: suggest_uniform has been deprecated in v3.0.0. This feature will be removed in v6.0.0. See https://github.com/optuna/optuna/releases/tag/v3.0.0. Use suggest_float instead.\n",
      "  dropout_rate2 = trial.suggest_uniform('dropout_rate2', 0.05, 0.2)\n",
      "c:\\Users\\mrbvb\\AppData\\Local\\Programs\\Python\\Python311\\Lib\\site-packages\\optuna\\trial\\_trial.py:676: RuntimeWarning: Inconsistent parameter values for distribution with name \"dropout_rate2\"! This might be a configuration mistake. Optuna allows to call the same distribution with the same name more than once in a trial. When the parameter values are inconsistent optuna only uses the values of the first call and ignores all following. Using these values: {'step': None, 'low': 0.05, 'high': 0.1, 'log': False}\n",
      "  warnings.warn(\n",
      "C:\\Users\\mrbvb\\AppData\\Local\\Temp\\ipykernel_26724\\2049930526.py:20: FutureWarning: suggest_loguniform has been deprecated in v3.0.0. This feature will be removed in v6.0.0. See https://github.com/optuna/optuna/releases/tag/v3.0.0. Use suggest_float(..., log=True) instead.\n",
      "  learning_rate = trial.suggest_loguniform('learning_rate', 1e-6, 1e-3)\n",
      "c:\\Users\\mrbvb\\AppData\\Local\\Programs\\Python\\Python311\\Lib\\site-packages\\keras\\src\\layers\\core\\embedding.py:86: UserWarning: Argument `input_length` is deprecated. Just remove it.\n",
      "  warnings.warn(\n"
     ]
    },
    {
     "name": "stdout",
     "output_type": "stream",
     "text": [
      "\u001b[1m11/11\u001b[0m \u001b[32m━━━━━━━━━━━━━━━━━━━━\u001b[0m\u001b[37m\u001b[0m \u001b[1m7s\u001b[0m 223ms/step - accuracy: 0.5164 - loss: 0.6927\n",
      "Epoch 2/10\n",
      "\u001b[1m11/11\u001b[0m \u001b[32m━━━━━━━━━━━━━━━━━━━━\u001b[0m\u001b[37m\u001b[0m \u001b[1m2s\u001b[0m 224ms/step - accuracy: 0.4820 - loss: 0.6930\n",
      "Epoch 3/10\n",
      "\u001b[1m11/11\u001b[0m \u001b[32m━━━━━━━━━━━━━━━━━━━━\u001b[0m\u001b[37m\u001b[0m \u001b[1m2s\u001b[0m 223ms/step - accuracy: 0.5294 - loss: 0.6924\n",
      "Epoch 4/10\n",
      "\u001b[1m11/11\u001b[0m \u001b[32m━━━━━━━━━━━━━━━━━━━━\u001b[0m\u001b[37m\u001b[0m \u001b[1m2s\u001b[0m 222ms/step - accuracy: 0.4896 - loss: 0.6929\n",
      "Epoch 5/10\n",
      "\u001b[1m11/11\u001b[0m \u001b[32m━━━━━━━━━━━━━━━━━━━━\u001b[0m\u001b[37m\u001b[0m \u001b[1m2s\u001b[0m 222ms/step - accuracy: 0.5162 - loss: 0.6927\n",
      "Epoch 6/10\n",
      "\u001b[1m11/11\u001b[0m \u001b[32m━━━━━━━━━━━━━━━━━━━━\u001b[0m\u001b[37m\u001b[0m \u001b[1m2s\u001b[0m 224ms/step - accuracy: 0.4779 - loss: 0.6929\n",
      "\u001b[1m6/6\u001b[0m \u001b[32m━━━━━━━━━━━━━━━━━━━━\u001b[0m\u001b[37m\u001b[0m \u001b[1m2s\u001b[0m 214ms/step\n",
      "kw {}\n",
      "create mod: d_rate 0.09285260956947004 d_rate2  0.07499131298828723 LSTM  128 dim  200 lr  2.7592639973913976e-06\n",
      "Epoch 1/10\n"
     ]
    },
    {
     "name": "stderr",
     "output_type": "stream",
     "text": [
      "C:\\Users\\mrbvb\\AppData\\Local\\Temp\\ipykernel_26724\\2049930526.py:16: FutureWarning: suggest_uniform has been deprecated in v3.0.0. This feature will be removed in v6.0.0. See https://github.com/optuna/optuna/releases/tag/v3.0.0. Use suggest_float instead.\n",
      "  dropout_rate = trial.suggest_uniform('dropout_rate', 0.09, 0.3)\n",
      "c:\\Users\\mrbvb\\AppData\\Local\\Programs\\Python\\Python311\\Lib\\site-packages\\optuna\\trial\\_trial.py:676: RuntimeWarning: Inconsistent parameter values for distribution with name \"dropout_rate\"! This might be a configuration mistake. Optuna allows to call the same distribution with the same name more than once in a trial. When the parameter values are inconsistent optuna only uses the values of the first call and ignores all following. Using these values: {'step': None, 'low': 0.05, 'high': 0.3, 'log': False}\n",
      "  warnings.warn(\n",
      "C:\\Users\\mrbvb\\AppData\\Local\\Temp\\ipykernel_26724\\2049930526.py:17: FutureWarning: suggest_uniform has been deprecated in v3.0.0. This feature will be removed in v6.0.0. See https://github.com/optuna/optuna/releases/tag/v3.0.0. Use suggest_float instead.\n",
      "  dropout_rate2 = trial.suggest_uniform('dropout_rate2', 0.05, 0.2)\n",
      "c:\\Users\\mrbvb\\AppData\\Local\\Programs\\Python\\Python311\\Lib\\site-packages\\optuna\\trial\\_trial.py:676: RuntimeWarning: Inconsistent parameter values for distribution with name \"dropout_rate2\"! This might be a configuration mistake. Optuna allows to call the same distribution with the same name more than once in a trial. When the parameter values are inconsistent optuna only uses the values of the first call and ignores all following. Using these values: {'step': None, 'low': 0.05, 'high': 0.1, 'log': False}\n",
      "  warnings.warn(\n",
      "C:\\Users\\mrbvb\\AppData\\Local\\Temp\\ipykernel_26724\\2049930526.py:20: FutureWarning: suggest_loguniform has been deprecated in v3.0.0. This feature will be removed in v6.0.0. See https://github.com/optuna/optuna/releases/tag/v3.0.0. Use suggest_float(..., log=True) instead.\n",
      "  learning_rate = trial.suggest_loguniform('learning_rate', 1e-6, 1e-3)\n",
      "c:\\Users\\mrbvb\\AppData\\Local\\Programs\\Python\\Python311\\Lib\\site-packages\\keras\\src\\layers\\core\\embedding.py:86: UserWarning: Argument `input_length` is deprecated. Just remove it.\n",
      "  warnings.warn(\n"
     ]
    },
    {
     "name": "stdout",
     "output_type": "stream",
     "text": [
      "\u001b[1m11/11\u001b[0m \u001b[32m━━━━━━━━━━━━━━━━━━━━\u001b[0m\u001b[37m\u001b[0m \u001b[1m7s\u001b[0m 220ms/step - accuracy: 0.4937 - loss: 0.6935\n",
      "Epoch 2/10\n",
      "\u001b[1m11/11\u001b[0m \u001b[32m━━━━━━━━━━━━━━━━━━━━\u001b[0m\u001b[37m\u001b[0m \u001b[1m2s\u001b[0m 219ms/step - accuracy: 0.4372 - loss: 0.6942\n",
      "Epoch 3/10\n",
      "\u001b[1m11/11\u001b[0m \u001b[32m━━━━━━━━━━━━━━━━━━━━\u001b[0m\u001b[37m\u001b[0m \u001b[1m2s\u001b[0m 221ms/step - accuracy: 0.5002 - loss: 0.6936\n",
      "Epoch 4/10\n",
      "\u001b[1m11/11\u001b[0m \u001b[32m━━━━━━━━━━━━━━━━━━━━\u001b[0m\u001b[37m\u001b[0m \u001b[1m2s\u001b[0m 219ms/step - accuracy: 0.5275 - loss: 0.6932\n",
      "Epoch 5/10\n",
      "\u001b[1m11/11\u001b[0m \u001b[32m━━━━━━━━━━━━━━━━━━━━\u001b[0m\u001b[37m\u001b[0m \u001b[1m2s\u001b[0m 219ms/step - accuracy: 0.4770 - loss: 0.6930\n",
      "Epoch 6/10\n",
      "\u001b[1m11/11\u001b[0m \u001b[32m━━━━━━━━━━━━━━━━━━━━\u001b[0m\u001b[37m\u001b[0m \u001b[1m2s\u001b[0m 218ms/step - accuracy: 0.4931 - loss: 0.6934\n",
      "Epoch 7/10\n",
      "\u001b[1m11/11\u001b[0m \u001b[32m━━━━━━━━━━━━━━━━━━━━\u001b[0m\u001b[37m\u001b[0m \u001b[1m2s\u001b[0m 218ms/step - accuracy: 0.4706 - loss: 0.6937\n",
      "\u001b[1m6/6\u001b[0m \u001b[32m━━━━━━━━━━━━━━━━━━━━\u001b[0m\u001b[37m\u001b[0m \u001b[1m2s\u001b[0m 211ms/step\n"
     ]
    },
    {
     "name": "stderr",
     "output_type": "stream",
     "text": [
      "[I 2024-04-30 17:20:22,737] Trial 6 finished with value: 0.4462329317269076 and parameters: {'dropout_rate': 0.09285260956947004, 'dropout_rate2': 0.07499131298828723, 'LSTM_units': 128, 'EMBEDDING_DIM': 200, 'learning_rate': 2.7592639973913976e-06}. Best is trial 0 with value: 0.7263624737711227.\n"
     ]
    },
    {
     "name": "stdout",
     "output_type": "stream",
     "text": [
      "objectiving\n",
      "kw {}\n",
      "kw {}\n",
      "create mod: d_rate 0.24825155805881133 d_rate2  0.06175973993702768 LSTM  64 dim  150 lr  6.286937250794002e-06\n",
      "Epoch 1/10\n"
     ]
    },
    {
     "name": "stderr",
     "output_type": "stream",
     "text": [
      "C:\\Users\\mrbvb\\AppData\\Local\\Temp\\ipykernel_26724\\2049930526.py:63: FutureWarning: suggest_uniform has been deprecated in v3.0.0. This feature will be removed in v6.0.0. See https://github.com/optuna/optuna/releases/tag/v3.0.0. Use suggest_float instead.\n",
      "  dropout_rate = trial.suggest_uniform('dropout_rate', 0.05, 0.3) #value should be from small to large only\n",
      "C:\\Users\\mrbvb\\AppData\\Local\\Temp\\ipykernel_26724\\2049930526.py:64: FutureWarning: suggest_uniform has been deprecated in v3.0.0. This feature will be removed in v6.0.0. See https://github.com/optuna/optuna/releases/tag/v3.0.0. Use suggest_float instead.\n",
      "  dropout_rate2 = trial.suggest_uniform('dropout_rate2', 0.05, 0.1)\n",
      "C:\\Users\\mrbvb\\AppData\\Local\\Temp\\ipykernel_26724\\2049930526.py:67: FutureWarning: suggest_loguniform has been deprecated in v3.0.0. This feature will be removed in v6.0.0. See https://github.com/optuna/optuna/releases/tag/v3.0.0. Use suggest_float(..., log=True) instead.\n",
      "  learning_rate = trial.suggest_loguniform('learning_rate', 1e-6, 1e-3)\n",
      "C:\\Users\\mrbvb\\AppData\\Local\\Temp\\ipykernel_26724\\2049930526.py:16: FutureWarning: suggest_uniform has been deprecated in v3.0.0. This feature will be removed in v6.0.0. See https://github.com/optuna/optuna/releases/tag/v3.0.0. Use suggest_float instead.\n",
      "  dropout_rate = trial.suggest_uniform('dropout_rate', 0.09, 0.3)\n",
      "c:\\Users\\mrbvb\\AppData\\Local\\Programs\\Python\\Python311\\Lib\\site-packages\\optuna\\trial\\_trial.py:676: RuntimeWarning: Inconsistent parameter values for distribution with name \"dropout_rate\"! This might be a configuration mistake. Optuna allows to call the same distribution with the same name more than once in a trial. When the parameter values are inconsistent optuna only uses the values of the first call and ignores all following. Using these values: {'step': None, 'low': 0.05, 'high': 0.3, 'log': False}\n",
      "  warnings.warn(\n",
      "C:\\Users\\mrbvb\\AppData\\Local\\Temp\\ipykernel_26724\\2049930526.py:17: FutureWarning: suggest_uniform has been deprecated in v3.0.0. This feature will be removed in v6.0.0. See https://github.com/optuna/optuna/releases/tag/v3.0.0. Use suggest_float instead.\n",
      "  dropout_rate2 = trial.suggest_uniform('dropout_rate2', 0.05, 0.2)\n",
      "c:\\Users\\mrbvb\\AppData\\Local\\Programs\\Python\\Python311\\Lib\\site-packages\\optuna\\trial\\_trial.py:676: RuntimeWarning: Inconsistent parameter values for distribution with name \"dropout_rate2\"! This might be a configuration mistake. Optuna allows to call the same distribution with the same name more than once in a trial. When the parameter values are inconsistent optuna only uses the values of the first call and ignores all following. Using these values: {'step': None, 'low': 0.05, 'high': 0.1, 'log': False}\n",
      "  warnings.warn(\n",
      "C:\\Users\\mrbvb\\AppData\\Local\\Temp\\ipykernel_26724\\2049930526.py:20: FutureWarning: suggest_loguniform has been deprecated in v3.0.0. This feature will be removed in v6.0.0. See https://github.com/optuna/optuna/releases/tag/v3.0.0. Use suggest_float(..., log=True) instead.\n",
      "  learning_rate = trial.suggest_loguniform('learning_rate', 1e-6, 1e-3)\n",
      "c:\\Users\\mrbvb\\AppData\\Local\\Programs\\Python\\Python311\\Lib\\site-packages\\keras\\src\\layers\\core\\embedding.py:86: UserWarning: Argument `input_length` is deprecated. Just remove it.\n",
      "  warnings.warn(\n"
     ]
    },
    {
     "name": "stdout",
     "output_type": "stream",
     "text": [
      "\u001b[1m11/11\u001b[0m \u001b[32m━━━━━━━━━━━━━━━━━━━━\u001b[0m\u001b[37m\u001b[0m \u001b[1m7s\u001b[0m 255ms/step - accuracy: 0.5309 - loss: 0.6922\n",
      "Epoch 2/10\n",
      "\u001b[1m11/11\u001b[0m \u001b[32m━━━━━━━━━━━━━━━━━━━━\u001b[0m\u001b[37m\u001b[0m \u001b[1m3s\u001b[0m 247ms/step - accuracy: 0.5272 - loss: 0.6915\n",
      "Epoch 3/10\n",
      "\u001b[1m11/11\u001b[0m \u001b[32m━━━━━━━━━━━━━━━━━━━━\u001b[0m\u001b[37m\u001b[0m \u001b[1m3s\u001b[0m 246ms/step - accuracy: 0.5584 - loss: 0.6909\n",
      "Epoch 4/10\n",
      "\u001b[1m11/11\u001b[0m \u001b[32m━━━━━━━━━━━━━━━━━━━━\u001b[0m\u001b[37m\u001b[0m \u001b[1m3s\u001b[0m 247ms/step - accuracy: 0.5298 - loss: 0.6917\n",
      "Epoch 5/10\n",
      "\u001b[1m11/11\u001b[0m \u001b[32m━━━━━━━━━━━━━━━━━━━━\u001b[0m\u001b[37m\u001b[0m \u001b[1m3s\u001b[0m 249ms/step - accuracy: 0.5013 - loss: 0.6931\n",
      "\u001b[1m6/6\u001b[0m \u001b[32m━━━━━━━━━━━━━━━━━━━━\u001b[0m\u001b[37m\u001b[0m \u001b[1m1s\u001b[0m 155ms/step\n",
      "kw {}\n",
      "create mod: d_rate 0.24825155805881133 d_rate2  0.06175973993702768 LSTM  64 dim  150 lr  6.286937250794002e-06\n",
      "Epoch 1/10\n"
     ]
    },
    {
     "name": "stderr",
     "output_type": "stream",
     "text": [
      "C:\\Users\\mrbvb\\AppData\\Local\\Temp\\ipykernel_26724\\2049930526.py:16: FutureWarning: suggest_uniform has been deprecated in v3.0.0. This feature will be removed in v6.0.0. See https://github.com/optuna/optuna/releases/tag/v3.0.0. Use suggest_float instead.\n",
      "  dropout_rate = trial.suggest_uniform('dropout_rate', 0.09, 0.3)\n",
      "c:\\Users\\mrbvb\\AppData\\Local\\Programs\\Python\\Python311\\Lib\\site-packages\\optuna\\trial\\_trial.py:676: RuntimeWarning: Inconsistent parameter values for distribution with name \"dropout_rate\"! This might be a configuration mistake. Optuna allows to call the same distribution with the same name more than once in a trial. When the parameter values are inconsistent optuna only uses the values of the first call and ignores all following. Using these values: {'step': None, 'low': 0.05, 'high': 0.3, 'log': False}\n",
      "  warnings.warn(\n",
      "C:\\Users\\mrbvb\\AppData\\Local\\Temp\\ipykernel_26724\\2049930526.py:17: FutureWarning: suggest_uniform has been deprecated in v3.0.0. This feature will be removed in v6.0.0. See https://github.com/optuna/optuna/releases/tag/v3.0.0. Use suggest_float instead.\n",
      "  dropout_rate2 = trial.suggest_uniform('dropout_rate2', 0.05, 0.2)\n",
      "c:\\Users\\mrbvb\\AppData\\Local\\Programs\\Python\\Python311\\Lib\\site-packages\\optuna\\trial\\_trial.py:676: RuntimeWarning: Inconsistent parameter values for distribution with name \"dropout_rate2\"! This might be a configuration mistake. Optuna allows to call the same distribution with the same name more than once in a trial. When the parameter values are inconsistent optuna only uses the values of the first call and ignores all following. Using these values: {'step': None, 'low': 0.05, 'high': 0.1, 'log': False}\n",
      "  warnings.warn(\n",
      "C:\\Users\\mrbvb\\AppData\\Local\\Temp\\ipykernel_26724\\2049930526.py:20: FutureWarning: suggest_loguniform has been deprecated in v3.0.0. This feature will be removed in v6.0.0. See https://github.com/optuna/optuna/releases/tag/v3.0.0. Use suggest_float(..., log=True) instead.\n",
      "  learning_rate = trial.suggest_loguniform('learning_rate', 1e-6, 1e-3)\n",
      "c:\\Users\\mrbvb\\AppData\\Local\\Programs\\Python\\Python311\\Lib\\site-packages\\keras\\src\\layers\\core\\embedding.py:86: UserWarning: Argument `input_length` is deprecated. Just remove it.\n",
      "  warnings.warn(\n"
     ]
    },
    {
     "name": "stdout",
     "output_type": "stream",
     "text": [
      "\u001b[1m11/11\u001b[0m \u001b[32m━━━━━━━━━━━━━━━━━━━━\u001b[0m\u001b[37m\u001b[0m \u001b[1m7s\u001b[0m 241ms/step - accuracy: 0.5081 - loss: 0.6932\n",
      "Epoch 2/10\n",
      "\u001b[1m11/11\u001b[0m \u001b[32m━━━━━━━━━━━━━━━━━━━━\u001b[0m\u001b[37m\u001b[0m \u001b[1m2s\u001b[0m 226ms/step - accuracy: 0.4795 - loss: 0.6930\n",
      "Epoch 3/10\n",
      "\u001b[1m11/11\u001b[0m \u001b[32m━━━━━━━━━━━━━━━━━━━━\u001b[0m\u001b[37m\u001b[0m \u001b[1m3s\u001b[0m 226ms/step - accuracy: 0.5471 - loss: 0.6921\n",
      "Epoch 4/10\n",
      "\u001b[1m11/11\u001b[0m \u001b[32m━━━━━━━━━━━━━━━━━━━━\u001b[0m\u001b[37m\u001b[0m \u001b[1m3s\u001b[0m 227ms/step - accuracy: 0.5178 - loss: 0.6925\n",
      "Epoch 5/10\n",
      "\u001b[1m11/11\u001b[0m \u001b[32m━━━━━━━━━━━━━━━━━━━━\u001b[0m\u001b[37m\u001b[0m \u001b[1m2s\u001b[0m 222ms/step - accuracy: 0.5285 - loss: 0.6928\n",
      "Epoch 6/10\n",
      "\u001b[1m11/11\u001b[0m \u001b[32m━━━━━━━━━━━━━━━━━━━━\u001b[0m\u001b[37m\u001b[0m \u001b[1m2s\u001b[0m 223ms/step - accuracy: 0.4756 - loss: 0.6928\n",
      "\u001b[1m6/6\u001b[0m \u001b[32m━━━━━━━━━━━━━━━━━━━━\u001b[0m\u001b[37m\u001b[0m \u001b[1m1s\u001b[0m 147ms/step\n",
      "kw {}\n",
      "create mod: d_rate 0.24825155805881133 d_rate2  0.06175973993702768 LSTM  64 dim  150 lr  6.286937250794002e-06\n",
      "Epoch 1/10\n"
     ]
    },
    {
     "name": "stderr",
     "output_type": "stream",
     "text": [
      "C:\\Users\\mrbvb\\AppData\\Local\\Temp\\ipykernel_26724\\2049930526.py:16: FutureWarning: suggest_uniform has been deprecated in v3.0.0. This feature will be removed in v6.0.0. See https://github.com/optuna/optuna/releases/tag/v3.0.0. Use suggest_float instead.\n",
      "  dropout_rate = trial.suggest_uniform('dropout_rate', 0.09, 0.3)\n",
      "c:\\Users\\mrbvb\\AppData\\Local\\Programs\\Python\\Python311\\Lib\\site-packages\\optuna\\trial\\_trial.py:676: RuntimeWarning: Inconsistent parameter values for distribution with name \"dropout_rate\"! This might be a configuration mistake. Optuna allows to call the same distribution with the same name more than once in a trial. When the parameter values are inconsistent optuna only uses the values of the first call and ignores all following. Using these values: {'step': None, 'low': 0.05, 'high': 0.3, 'log': False}\n",
      "  warnings.warn(\n",
      "C:\\Users\\mrbvb\\AppData\\Local\\Temp\\ipykernel_26724\\2049930526.py:17: FutureWarning: suggest_uniform has been deprecated in v3.0.0. This feature will be removed in v6.0.0. See https://github.com/optuna/optuna/releases/tag/v3.0.0. Use suggest_float instead.\n",
      "  dropout_rate2 = trial.suggest_uniform('dropout_rate2', 0.05, 0.2)\n",
      "c:\\Users\\mrbvb\\AppData\\Local\\Programs\\Python\\Python311\\Lib\\site-packages\\optuna\\trial\\_trial.py:676: RuntimeWarning: Inconsistent parameter values for distribution with name \"dropout_rate2\"! This might be a configuration mistake. Optuna allows to call the same distribution with the same name more than once in a trial. When the parameter values are inconsistent optuna only uses the values of the first call and ignores all following. Using these values: {'step': None, 'low': 0.05, 'high': 0.1, 'log': False}\n",
      "  warnings.warn(\n",
      "C:\\Users\\mrbvb\\AppData\\Local\\Temp\\ipykernel_26724\\2049930526.py:20: FutureWarning: suggest_loguniform has been deprecated in v3.0.0. This feature will be removed in v6.0.0. See https://github.com/optuna/optuna/releases/tag/v3.0.0. Use suggest_float(..., log=True) instead.\n",
      "  learning_rate = trial.suggest_loguniform('learning_rate', 1e-6, 1e-3)\n",
      "c:\\Users\\mrbvb\\AppData\\Local\\Programs\\Python\\Python311\\Lib\\site-packages\\keras\\src\\layers\\core\\embedding.py:86: UserWarning: Argument `input_length` is deprecated. Just remove it.\n",
      "  warnings.warn(\n"
     ]
    },
    {
     "name": "stdout",
     "output_type": "stream",
     "text": [
      "\u001b[1m11/11\u001b[0m \u001b[32m━━━━━━━━━━━━━━━━━━━━\u001b[0m\u001b[37m\u001b[0m \u001b[1m8s\u001b[0m 245ms/step - accuracy: 0.4938 - loss: 0.6940\n",
      "Epoch 2/10\n",
      "\u001b[1m11/11\u001b[0m \u001b[32m━━━━━━━━━━━━━━━━━━━━\u001b[0m\u001b[37m\u001b[0m \u001b[1m3s\u001b[0m 242ms/step - accuracy: 0.4706 - loss: 0.6935\n",
      "Epoch 3/10\n",
      "\u001b[1m11/11\u001b[0m \u001b[32m━━━━━━━━━━━━━━━━━━━━\u001b[0m\u001b[37m\u001b[0m \u001b[1m3s\u001b[0m 243ms/step - accuracy: 0.5009 - loss: 0.6931\n",
      "Epoch 4/10\n",
      "\u001b[1m11/11\u001b[0m \u001b[32m━━━━━━━━━━━━━━━━━━━━\u001b[0m\u001b[37m\u001b[0m \u001b[1m3s\u001b[0m 245ms/step - accuracy: 0.4899 - loss: 0.6919\n",
      "\u001b[1m6/6\u001b[0m \u001b[32m━━━━━━━━━━━━━━━━━━━━\u001b[0m\u001b[37m\u001b[0m \u001b[1m1s\u001b[0m 156ms/step\n",
      "result score f1 fuc -0.4221132075471698\n",
      "kw {}\n",
      "create mod: d_rate 0.24825155805881133 d_rate2  0.06175973993702768 LSTM  64 dim  150 lr  6.286937250794002e-06\n",
      "Epoch 1/10\n"
     ]
    },
    {
     "name": "stderr",
     "output_type": "stream",
     "text": [
      "C:\\Users\\mrbvb\\AppData\\Local\\Temp\\ipykernel_26724\\2049930526.py:16: FutureWarning: suggest_uniform has been deprecated in v3.0.0. This feature will be removed in v6.0.0. See https://github.com/optuna/optuna/releases/tag/v3.0.0. Use suggest_float instead.\n",
      "  dropout_rate = trial.suggest_uniform('dropout_rate', 0.09, 0.3)\n",
      "c:\\Users\\mrbvb\\AppData\\Local\\Programs\\Python\\Python311\\Lib\\site-packages\\optuna\\trial\\_trial.py:676: RuntimeWarning: Inconsistent parameter values for distribution with name \"dropout_rate\"! This might be a configuration mistake. Optuna allows to call the same distribution with the same name more than once in a trial. When the parameter values are inconsistent optuna only uses the values of the first call and ignores all following. Using these values: {'step': None, 'low': 0.05, 'high': 0.3, 'log': False}\n",
      "  warnings.warn(\n",
      "C:\\Users\\mrbvb\\AppData\\Local\\Temp\\ipykernel_26724\\2049930526.py:17: FutureWarning: suggest_uniform has been deprecated in v3.0.0. This feature will be removed in v6.0.0. See https://github.com/optuna/optuna/releases/tag/v3.0.0. Use suggest_float instead.\n",
      "  dropout_rate2 = trial.suggest_uniform('dropout_rate2', 0.05, 0.2)\n",
      "c:\\Users\\mrbvb\\AppData\\Local\\Programs\\Python\\Python311\\Lib\\site-packages\\optuna\\trial\\_trial.py:676: RuntimeWarning: Inconsistent parameter values for distribution with name \"dropout_rate2\"! This might be a configuration mistake. Optuna allows to call the same distribution with the same name more than once in a trial. When the parameter values are inconsistent optuna only uses the values of the first call and ignores all following. Using these values: {'step': None, 'low': 0.05, 'high': 0.1, 'log': False}\n",
      "  warnings.warn(\n",
      "C:\\Users\\mrbvb\\AppData\\Local\\Temp\\ipykernel_26724\\2049930526.py:20: FutureWarning: suggest_loguniform has been deprecated in v3.0.0. This feature will be removed in v6.0.0. See https://github.com/optuna/optuna/releases/tag/v3.0.0. Use suggest_float(..., log=True) instead.\n",
      "  learning_rate = trial.suggest_loguniform('learning_rate', 1e-6, 1e-3)\n",
      "c:\\Users\\mrbvb\\AppData\\Local\\Programs\\Python\\Python311\\Lib\\site-packages\\keras\\src\\layers\\core\\embedding.py:86: UserWarning: Argument `input_length` is deprecated. Just remove it.\n",
      "  warnings.warn(\n"
     ]
    },
    {
     "name": "stdout",
     "output_type": "stream",
     "text": [
      "\u001b[1m11/11\u001b[0m \u001b[32m━━━━━━━━━━━━━━━━━━━━\u001b[0m\u001b[37m\u001b[0m \u001b[1m7s\u001b[0m 233ms/step - accuracy: 0.5132 - loss: 0.6920\n",
      "Epoch 2/10\n",
      "\u001b[1m11/11\u001b[0m \u001b[32m━━━━━━━━━━━━━━━━━━━━\u001b[0m\u001b[37m\u001b[0m \u001b[1m3s\u001b[0m 232ms/step - accuracy: 0.5091 - loss: 0.6939\n",
      "Epoch 3/10\n",
      "\u001b[1m11/11\u001b[0m \u001b[32m━━━━━━━━━━━━━━━━━━━━\u001b[0m\u001b[37m\u001b[0m \u001b[1m3s\u001b[0m 232ms/step - accuracy: 0.5336 - loss: 0.6921\n",
      "Epoch 4/10\n",
      "\u001b[1m11/11\u001b[0m \u001b[32m━━━━━━━━━━━━━━━━━━━━\u001b[0m\u001b[37m\u001b[0m \u001b[1m3s\u001b[0m 232ms/step - accuracy: 0.5082 - loss: 0.6930\n",
      "\u001b[1m6/6\u001b[0m \u001b[32m━━━━━━━━━━━━━━━━━━━━\u001b[0m\u001b[37m\u001b[0m \u001b[1m1s\u001b[0m 150ms/step\n",
      "kw {}\n",
      "create mod: d_rate 0.24825155805881133 d_rate2  0.06175973993702768 LSTM  64 dim  150 lr  6.286937250794002e-06\n",
      "Epoch 1/10\n"
     ]
    },
    {
     "name": "stderr",
     "output_type": "stream",
     "text": [
      "C:\\Users\\mrbvb\\AppData\\Local\\Temp\\ipykernel_26724\\2049930526.py:16: FutureWarning: suggest_uniform has been deprecated in v3.0.0. This feature will be removed in v6.0.0. See https://github.com/optuna/optuna/releases/tag/v3.0.0. Use suggest_float instead.\n",
      "  dropout_rate = trial.suggest_uniform('dropout_rate', 0.09, 0.3)\n",
      "c:\\Users\\mrbvb\\AppData\\Local\\Programs\\Python\\Python311\\Lib\\site-packages\\optuna\\trial\\_trial.py:676: RuntimeWarning: Inconsistent parameter values for distribution with name \"dropout_rate\"! This might be a configuration mistake. Optuna allows to call the same distribution with the same name more than once in a trial. When the parameter values are inconsistent optuna only uses the values of the first call and ignores all following. Using these values: {'step': None, 'low': 0.05, 'high': 0.3, 'log': False}\n",
      "  warnings.warn(\n",
      "C:\\Users\\mrbvb\\AppData\\Local\\Temp\\ipykernel_26724\\2049930526.py:17: FutureWarning: suggest_uniform has been deprecated in v3.0.0. This feature will be removed in v6.0.0. See https://github.com/optuna/optuna/releases/tag/v3.0.0. Use suggest_float instead.\n",
      "  dropout_rate2 = trial.suggest_uniform('dropout_rate2', 0.05, 0.2)\n",
      "c:\\Users\\mrbvb\\AppData\\Local\\Programs\\Python\\Python311\\Lib\\site-packages\\optuna\\trial\\_trial.py:676: RuntimeWarning: Inconsistent parameter values for distribution with name \"dropout_rate2\"! This might be a configuration mistake. Optuna allows to call the same distribution with the same name more than once in a trial. When the parameter values are inconsistent optuna only uses the values of the first call and ignores all following. Using these values: {'step': None, 'low': 0.05, 'high': 0.1, 'log': False}\n",
      "  warnings.warn(\n",
      "C:\\Users\\mrbvb\\AppData\\Local\\Temp\\ipykernel_26724\\2049930526.py:20: FutureWarning: suggest_loguniform has been deprecated in v3.0.0. This feature will be removed in v6.0.0. See https://github.com/optuna/optuna/releases/tag/v3.0.0. Use suggest_float(..., log=True) instead.\n",
      "  learning_rate = trial.suggest_loguniform('learning_rate', 1e-6, 1e-3)\n",
      "c:\\Users\\mrbvb\\AppData\\Local\\Programs\\Python\\Python311\\Lib\\site-packages\\keras\\src\\layers\\core\\embedding.py:86: UserWarning: Argument `input_length` is deprecated. Just remove it.\n",
      "  warnings.warn(\n"
     ]
    },
    {
     "name": "stdout",
     "output_type": "stream",
     "text": [
      "\u001b[1m11/11\u001b[0m \u001b[32m━━━━━━━━━━━━━━━━━━━━\u001b[0m\u001b[37m\u001b[0m \u001b[1m7s\u001b[0m 225ms/step - accuracy: 0.5128 - loss: 0.6928\n",
      "Epoch 2/10\n",
      "\u001b[1m11/11\u001b[0m \u001b[32m━━━━━━━━━━━━━━━━━━━━\u001b[0m\u001b[37m\u001b[0m \u001b[1m2s\u001b[0m 223ms/step - accuracy: 0.4754 - loss: 0.6929\n",
      "Epoch 3/10\n",
      "\u001b[1m11/11\u001b[0m \u001b[32m━━━━━━━━━━━━━━━━━━━━\u001b[0m\u001b[37m\u001b[0m \u001b[1m2s\u001b[0m 225ms/step - accuracy: 0.5302 - loss: 0.6926\n",
      "Epoch 4/10\n",
      "\u001b[1m11/11\u001b[0m \u001b[32m━━━━━━━━━━━━━━━━━━━━\u001b[0m\u001b[37m\u001b[0m \u001b[1m2s\u001b[0m 222ms/step - accuracy: 0.5454 - loss: 0.6924\n",
      "Epoch 5/10\n",
      "\u001b[1m11/11\u001b[0m \u001b[32m━━━━━━━━━━━━━━━━━━━━\u001b[0m\u001b[37m\u001b[0m \u001b[1m2s\u001b[0m 224ms/step - accuracy: 0.4997 - loss: 0.6930\n",
      "Epoch 6/10\n",
      "\u001b[1m11/11\u001b[0m \u001b[32m━━━━━━━━━━━━━━━━━━━━\u001b[0m\u001b[37m\u001b[0m \u001b[1m2s\u001b[0m 224ms/step - accuracy: 0.4602 - loss: 0.6935\n",
      "Epoch 7/10\n",
      "\u001b[1m11/11\u001b[0m \u001b[32m━━━━━━━━━━━━━━━━━━━━\u001b[0m\u001b[37m\u001b[0m \u001b[1m2s\u001b[0m 225ms/step - accuracy: 0.5240 - loss: 0.6927\n",
      "\u001b[1m6/6\u001b[0m \u001b[32m━━━━━━━━━━━━━━━━━━━━\u001b[0m\u001b[37m\u001b[0m \u001b[1m1s\u001b[0m 147ms/step\n",
      "kw {}\n",
      "create mod: d_rate 0.24825155805881133 d_rate2  0.06175973993702768 LSTM  64 dim  150 lr  6.286937250794002e-06\n",
      "Epoch 1/10\n"
     ]
    },
    {
     "name": "stderr",
     "output_type": "stream",
     "text": [
      "C:\\Users\\mrbvb\\AppData\\Local\\Temp\\ipykernel_26724\\2049930526.py:16: FutureWarning: suggest_uniform has been deprecated in v3.0.0. This feature will be removed in v6.0.0. See https://github.com/optuna/optuna/releases/tag/v3.0.0. Use suggest_float instead.\n",
      "  dropout_rate = trial.suggest_uniform('dropout_rate', 0.09, 0.3)\n",
      "c:\\Users\\mrbvb\\AppData\\Local\\Programs\\Python\\Python311\\Lib\\site-packages\\optuna\\trial\\_trial.py:676: RuntimeWarning: Inconsistent parameter values for distribution with name \"dropout_rate\"! This might be a configuration mistake. Optuna allows to call the same distribution with the same name more than once in a trial. When the parameter values are inconsistent optuna only uses the values of the first call and ignores all following. Using these values: {'step': None, 'low': 0.05, 'high': 0.3, 'log': False}\n",
      "  warnings.warn(\n",
      "C:\\Users\\mrbvb\\AppData\\Local\\Temp\\ipykernel_26724\\2049930526.py:17: FutureWarning: suggest_uniform has been deprecated in v3.0.0. This feature will be removed in v6.0.0. See https://github.com/optuna/optuna/releases/tag/v3.0.0. Use suggest_float instead.\n",
      "  dropout_rate2 = trial.suggest_uniform('dropout_rate2', 0.05, 0.2)\n",
      "c:\\Users\\mrbvb\\AppData\\Local\\Programs\\Python\\Python311\\Lib\\site-packages\\optuna\\trial\\_trial.py:676: RuntimeWarning: Inconsistent parameter values for distribution with name \"dropout_rate2\"! This might be a configuration mistake. Optuna allows to call the same distribution with the same name more than once in a trial. When the parameter values are inconsistent optuna only uses the values of the first call and ignores all following. Using these values: {'step': None, 'low': 0.05, 'high': 0.1, 'log': False}\n",
      "  warnings.warn(\n",
      "C:\\Users\\mrbvb\\AppData\\Local\\Temp\\ipykernel_26724\\2049930526.py:20: FutureWarning: suggest_loguniform has been deprecated in v3.0.0. This feature will be removed in v6.0.0. See https://github.com/optuna/optuna/releases/tag/v3.0.0. Use suggest_float(..., log=True) instead.\n",
      "  learning_rate = trial.suggest_loguniform('learning_rate', 1e-6, 1e-3)\n",
      "c:\\Users\\mrbvb\\AppData\\Local\\Programs\\Python\\Python311\\Lib\\site-packages\\keras\\src\\layers\\core\\embedding.py:86: UserWarning: Argument `input_length` is deprecated. Just remove it.\n",
      "  warnings.warn(\n"
     ]
    },
    {
     "name": "stdout",
     "output_type": "stream",
     "text": [
      "\u001b[1m11/11\u001b[0m \u001b[32m━━━━━━━━━━━━━━━━━━━━\u001b[0m\u001b[37m\u001b[0m \u001b[1m7s\u001b[0m 222ms/step - accuracy: 0.4922 - loss: 0.6929\n",
      "Epoch 2/10\n",
      "\u001b[1m11/11\u001b[0m \u001b[32m━━━━━━━━━━━━━━━━━━━━\u001b[0m\u001b[37m\u001b[0m \u001b[1m2s\u001b[0m 226ms/step - accuracy: 0.5340 - loss: 0.6919\n",
      "Epoch 3/10\n",
      "\u001b[1m11/11\u001b[0m \u001b[32m━━━━━━━━━━━━━━━━━━━━\u001b[0m\u001b[37m\u001b[0m \u001b[1m2s\u001b[0m 218ms/step - accuracy: 0.5192 - loss: 0.6916\n",
      "Epoch 4/10\n",
      "\u001b[1m11/11\u001b[0m \u001b[32m━━━━━━━━━━━━━━━━━━━━\u001b[0m\u001b[37m\u001b[0m \u001b[1m2s\u001b[0m 218ms/step - accuracy: 0.5446 - loss: 0.6917\n",
      "Epoch 5/10\n",
      "\u001b[1m11/11\u001b[0m \u001b[32m━━━━━━━━━━━━━━━━━━━━\u001b[0m\u001b[37m\u001b[0m \u001b[1m2s\u001b[0m 218ms/step - accuracy: 0.5413 - loss: 0.6911\n",
      "Epoch 6/10\n",
      "\u001b[1m11/11\u001b[0m \u001b[32m━━━━━━━━━━━━━━━━━━━━\u001b[0m\u001b[37m\u001b[0m \u001b[1m2s\u001b[0m 223ms/step - accuracy: 0.5237 - loss: 0.6922\n",
      "\u001b[1m6/6\u001b[0m \u001b[32m━━━━━━━━━━━━━━━━━━━━\u001b[0m\u001b[37m\u001b[0m \u001b[1m1s\u001b[0m 148ms/step\n"
     ]
    },
    {
     "name": "stderr",
     "output_type": "stream",
     "text": [
      "[I 2024-04-30 17:22:18,366] Trial 7 finished with value: 0.1272264631043257 and parameters: {'dropout_rate': 0.24825155805881133, 'dropout_rate2': 0.06175973993702768, 'LSTM_units': 64, 'EMBEDDING_DIM': 150, 'learning_rate': 6.286937250794002e-06}. Best is trial 0 with value: 0.7263624737711227.\n"
     ]
    },
    {
     "name": "stdout",
     "output_type": "stream",
     "text": [
      "objectiving\n",
      "kw {}\n",
      "kw {}\n",
      "create mod: d_rate 0.24758771613316144 d_rate2  0.09271854882731012 LSTM  64 dim  200 lr  0.0002785373318654475\n",
      "Epoch 1/10\n"
     ]
    },
    {
     "name": "stderr",
     "output_type": "stream",
     "text": [
      "C:\\Users\\mrbvb\\AppData\\Local\\Temp\\ipykernel_26724\\2049930526.py:63: FutureWarning: suggest_uniform has been deprecated in v3.0.0. This feature will be removed in v6.0.0. See https://github.com/optuna/optuna/releases/tag/v3.0.0. Use suggest_float instead.\n",
      "  dropout_rate = trial.suggest_uniform('dropout_rate', 0.05, 0.3) #value should be from small to large only\n",
      "C:\\Users\\mrbvb\\AppData\\Local\\Temp\\ipykernel_26724\\2049930526.py:64: FutureWarning: suggest_uniform has been deprecated in v3.0.0. This feature will be removed in v6.0.0. See https://github.com/optuna/optuna/releases/tag/v3.0.0. Use suggest_float instead.\n",
      "  dropout_rate2 = trial.suggest_uniform('dropout_rate2', 0.05, 0.1)\n",
      "C:\\Users\\mrbvb\\AppData\\Local\\Temp\\ipykernel_26724\\2049930526.py:67: FutureWarning: suggest_loguniform has been deprecated in v3.0.0. This feature will be removed in v6.0.0. See https://github.com/optuna/optuna/releases/tag/v3.0.0. Use suggest_float(..., log=True) instead.\n",
      "  learning_rate = trial.suggest_loguniform('learning_rate', 1e-6, 1e-3)\n",
      "C:\\Users\\mrbvb\\AppData\\Local\\Temp\\ipykernel_26724\\2049930526.py:16: FutureWarning: suggest_uniform has been deprecated in v3.0.0. This feature will be removed in v6.0.0. See https://github.com/optuna/optuna/releases/tag/v3.0.0. Use suggest_float instead.\n",
      "  dropout_rate = trial.suggest_uniform('dropout_rate', 0.09, 0.3)\n",
      "c:\\Users\\mrbvb\\AppData\\Local\\Programs\\Python\\Python311\\Lib\\site-packages\\optuna\\trial\\_trial.py:676: RuntimeWarning: Inconsistent parameter values for distribution with name \"dropout_rate\"! This might be a configuration mistake. Optuna allows to call the same distribution with the same name more than once in a trial. When the parameter values are inconsistent optuna only uses the values of the first call and ignores all following. Using these values: {'step': None, 'low': 0.05, 'high': 0.3, 'log': False}\n",
      "  warnings.warn(\n",
      "C:\\Users\\mrbvb\\AppData\\Local\\Temp\\ipykernel_26724\\2049930526.py:17: FutureWarning: suggest_uniform has been deprecated in v3.0.0. This feature will be removed in v6.0.0. See https://github.com/optuna/optuna/releases/tag/v3.0.0. Use suggest_float instead.\n",
      "  dropout_rate2 = trial.suggest_uniform('dropout_rate2', 0.05, 0.2)\n",
      "c:\\Users\\mrbvb\\AppData\\Local\\Programs\\Python\\Python311\\Lib\\site-packages\\optuna\\trial\\_trial.py:676: RuntimeWarning: Inconsistent parameter values for distribution with name \"dropout_rate2\"! This might be a configuration mistake. Optuna allows to call the same distribution with the same name more than once in a trial. When the parameter values are inconsistent optuna only uses the values of the first call and ignores all following. Using these values: {'step': None, 'low': 0.05, 'high': 0.1, 'log': False}\n",
      "  warnings.warn(\n",
      "C:\\Users\\mrbvb\\AppData\\Local\\Temp\\ipykernel_26724\\2049930526.py:20: FutureWarning: suggest_loguniform has been deprecated in v3.0.0. This feature will be removed in v6.0.0. See https://github.com/optuna/optuna/releases/tag/v3.0.0. Use suggest_float(..., log=True) instead.\n",
      "  learning_rate = trial.suggest_loguniform('learning_rate', 1e-6, 1e-3)\n",
      "c:\\Users\\mrbvb\\AppData\\Local\\Programs\\Python\\Python311\\Lib\\site-packages\\keras\\src\\layers\\core\\embedding.py:86: UserWarning: Argument `input_length` is deprecated. Just remove it.\n",
      "  warnings.warn(\n"
     ]
    },
    {
     "name": "stdout",
     "output_type": "stream",
     "text": [
      "\u001b[1m11/11\u001b[0m \u001b[32m━━━━━━━━━━━━━━━━━━━━\u001b[0m\u001b[37m\u001b[0m \u001b[1m6s\u001b[0m 198ms/step - accuracy: 0.5124 - loss: 0.6921\n",
      "Epoch 2/10\n",
      "\u001b[1m11/11\u001b[0m \u001b[32m━━━━━━━━━━━━━━━━━━━━\u001b[0m\u001b[37m\u001b[0m \u001b[1m2s\u001b[0m 192ms/step - accuracy: 0.5298 - loss: 0.6887\n",
      "Epoch 3/10\n",
      "\u001b[1m11/11\u001b[0m \u001b[32m━━━━━━━━━━━━━━━━━━━━\u001b[0m\u001b[37m\u001b[0m \u001b[1m2s\u001b[0m 194ms/step - accuracy: 0.5039 - loss: 0.6864\n",
      "Epoch 4/10\n",
      "\u001b[1m11/11\u001b[0m \u001b[32m━━━━━━━━━━━━━━━━━━━━\u001b[0m\u001b[37m\u001b[0m \u001b[1m2s\u001b[0m 204ms/step - accuracy: 0.6050 - loss: 0.6654\n",
      "Epoch 5/10\n",
      "\u001b[1m11/11\u001b[0m \u001b[32m━━━━━━━━━━━━━━━━━━━━\u001b[0m\u001b[37m\u001b[0m \u001b[1m2s\u001b[0m 190ms/step - accuracy: 0.6899 - loss: 0.6335\n",
      "Epoch 6/10\n",
      "\u001b[1m11/11\u001b[0m \u001b[32m━━━━━━━━━━━━━━━━━━━━\u001b[0m\u001b[37m\u001b[0m \u001b[1m2s\u001b[0m 190ms/step - accuracy: 0.8495 - loss: 0.5582\n",
      "Epoch 7/10\n",
      "\u001b[1m11/11\u001b[0m \u001b[32m━━━━━━━━━━━━━━━━━━━━\u001b[0m\u001b[37m\u001b[0m \u001b[1m2s\u001b[0m 191ms/step - accuracy: 0.9173 - loss: 0.4108\n",
      "Epoch 8/10\n",
      "\u001b[1m11/11\u001b[0m \u001b[32m━━━━━━━━━━━━━━━━━━━━\u001b[0m\u001b[37m\u001b[0m \u001b[1m2s\u001b[0m 189ms/step - accuracy: 0.9058 - loss: 0.3144\n",
      "Epoch 9/10\n",
      "\u001b[1m11/11\u001b[0m \u001b[32m━━━━━━━━━━━━━━━━━━━━\u001b[0m\u001b[37m\u001b[0m \u001b[1m2s\u001b[0m 190ms/step - accuracy: 0.9721 - loss: 0.1909\n",
      "Epoch 10/10\n",
      "\u001b[1m11/11\u001b[0m \u001b[32m━━━━━━━━━━━━━━━━━━━━\u001b[0m\u001b[37m\u001b[0m \u001b[1m2s\u001b[0m 189ms/step - accuracy: 0.9804 - loss: 0.1291\n",
      "\u001b[1m6/6\u001b[0m \u001b[32m━━━━━━━━━━━━━━━━━━━━\u001b[0m\u001b[37m\u001b[0m \u001b[1m1s\u001b[0m 145ms/step\n",
      "kw {}\n",
      "create mod: d_rate 0.24758771613316144 d_rate2  0.09271854882731012 LSTM  64 dim  200 lr  0.0002785373318654475\n",
      "Epoch 1/10\n"
     ]
    },
    {
     "name": "stderr",
     "output_type": "stream",
     "text": [
      "C:\\Users\\mrbvb\\AppData\\Local\\Temp\\ipykernel_26724\\2049930526.py:16: FutureWarning: suggest_uniform has been deprecated in v3.0.0. This feature will be removed in v6.0.0. See https://github.com/optuna/optuna/releases/tag/v3.0.0. Use suggest_float instead.\n",
      "  dropout_rate = trial.suggest_uniform('dropout_rate', 0.09, 0.3)\n",
      "c:\\Users\\mrbvb\\AppData\\Local\\Programs\\Python\\Python311\\Lib\\site-packages\\optuna\\trial\\_trial.py:676: RuntimeWarning: Inconsistent parameter values for distribution with name \"dropout_rate\"! This might be a configuration mistake. Optuna allows to call the same distribution with the same name more than once in a trial. When the parameter values are inconsistent optuna only uses the values of the first call and ignores all following. Using these values: {'step': None, 'low': 0.05, 'high': 0.3, 'log': False}\n",
      "  warnings.warn(\n",
      "C:\\Users\\mrbvb\\AppData\\Local\\Temp\\ipykernel_26724\\2049930526.py:17: FutureWarning: suggest_uniform has been deprecated in v3.0.0. This feature will be removed in v6.0.0. See https://github.com/optuna/optuna/releases/tag/v3.0.0. Use suggest_float instead.\n",
      "  dropout_rate2 = trial.suggest_uniform('dropout_rate2', 0.05, 0.2)\n",
      "c:\\Users\\mrbvb\\AppData\\Local\\Programs\\Python\\Python311\\Lib\\site-packages\\optuna\\trial\\_trial.py:676: RuntimeWarning: Inconsistent parameter values for distribution with name \"dropout_rate2\"! This might be a configuration mistake. Optuna allows to call the same distribution with the same name more than once in a trial. When the parameter values are inconsistent optuna only uses the values of the first call and ignores all following. Using these values: {'step': None, 'low': 0.05, 'high': 0.1, 'log': False}\n",
      "  warnings.warn(\n",
      "C:\\Users\\mrbvb\\AppData\\Local\\Temp\\ipykernel_26724\\2049930526.py:20: FutureWarning: suggest_loguniform has been deprecated in v3.0.0. This feature will be removed in v6.0.0. See https://github.com/optuna/optuna/releases/tag/v3.0.0. Use suggest_float(..., log=True) instead.\n",
      "  learning_rate = trial.suggest_loguniform('learning_rate', 1e-6, 1e-3)\n",
      "c:\\Users\\mrbvb\\AppData\\Local\\Programs\\Python\\Python311\\Lib\\site-packages\\keras\\src\\layers\\core\\embedding.py:86: UserWarning: Argument `input_length` is deprecated. Just remove it.\n",
      "  warnings.warn(\n"
     ]
    },
    {
     "name": "stdout",
     "output_type": "stream",
     "text": [
      "\u001b[1m11/11\u001b[0m \u001b[32m━━━━━━━━━━━━━━━━━━━━\u001b[0m\u001b[37m\u001b[0m \u001b[1m8s\u001b[0m 253ms/step - accuracy: 0.4830 - loss: 0.6938\n",
      "Epoch 2/10\n",
      "\u001b[1m11/11\u001b[0m \u001b[32m━━━━━━━━━━━━━━━━━━━━\u001b[0m\u001b[37m\u001b[0m \u001b[1m3s\u001b[0m 254ms/step - accuracy: 0.5669 - loss: 0.6886\n",
      "Epoch 3/10\n",
      "\u001b[1m11/11\u001b[0m \u001b[32m━━━━━━━━━━━━━━━━━━━━\u001b[0m\u001b[37m\u001b[0m \u001b[1m3s\u001b[0m 255ms/step - accuracy: 0.7058 - loss: 0.6834\n",
      "Epoch 4/10\n",
      "\u001b[1m11/11\u001b[0m \u001b[32m━━━━━━━━━━━━━━━━━━━━\u001b[0m\u001b[37m\u001b[0m \u001b[1m3s\u001b[0m 256ms/step - accuracy: 0.8237 - loss: 0.6718\n",
      "Epoch 5/10\n",
      "\u001b[1m11/11\u001b[0m \u001b[32m━━━━━━━━━━━━━━━━━━━━\u001b[0m\u001b[37m\u001b[0m \u001b[1m3s\u001b[0m 251ms/step - accuracy: 0.8619 - loss: 0.6379\n",
      "Epoch 6/10\n",
      "\u001b[1m11/11\u001b[0m \u001b[32m━━━━━━━━━━━━━━━━━━━━\u001b[0m\u001b[37m\u001b[0m \u001b[1m3s\u001b[0m 256ms/step - accuracy: 0.8903 - loss: 0.5368\n",
      "Epoch 7/10\n",
      "\u001b[1m11/11\u001b[0m \u001b[32m━━━━━━━━━━━━━━━━━━━━\u001b[0m\u001b[37m\u001b[0m \u001b[1m3s\u001b[0m 253ms/step - accuracy: 0.8304 - loss: 0.4329\n",
      "Epoch 8/10\n",
      "\u001b[1m11/11\u001b[0m \u001b[32m━━━━━━━━━━━━━━━━━━━━\u001b[0m\u001b[37m\u001b[0m \u001b[1m3s\u001b[0m 254ms/step - accuracy: 0.9165 - loss: 0.3339\n",
      "Epoch 9/10\n",
      "\u001b[1m11/11\u001b[0m \u001b[32m━━━━━━━━━━━━━━━━━━━━\u001b[0m\u001b[37m\u001b[0m \u001b[1m3s\u001b[0m 252ms/step - accuracy: 0.9682 - loss: 0.2299\n",
      "Epoch 10/10\n",
      "\u001b[1m11/11\u001b[0m \u001b[32m━━━━━━━━━━━━━━━━━━━━\u001b[0m\u001b[37m\u001b[0m \u001b[1m3s\u001b[0m 251ms/step - accuracy: 0.9608 - loss: 0.1762\n",
      "\u001b[1m6/6\u001b[0m \u001b[32m━━━━━━━━━━━━━━━━━━━━\u001b[0m\u001b[37m\u001b[0m \u001b[1m1s\u001b[0m 159ms/step\n",
      "kw {}\n",
      "create mod: d_rate 0.24758771613316144 d_rate2  0.09271854882731012 LSTM  64 dim  200 lr  0.0002785373318654475\n",
      "Epoch 1/10\n"
     ]
    },
    {
     "name": "stderr",
     "output_type": "stream",
     "text": [
      "C:\\Users\\mrbvb\\AppData\\Local\\Temp\\ipykernel_26724\\2049930526.py:16: FutureWarning: suggest_uniform has been deprecated in v3.0.0. This feature will be removed in v6.0.0. See https://github.com/optuna/optuna/releases/tag/v3.0.0. Use suggest_float instead.\n",
      "  dropout_rate = trial.suggest_uniform('dropout_rate', 0.09, 0.3)\n",
      "c:\\Users\\mrbvb\\AppData\\Local\\Programs\\Python\\Python311\\Lib\\site-packages\\optuna\\trial\\_trial.py:676: RuntimeWarning: Inconsistent parameter values for distribution with name \"dropout_rate\"! This might be a configuration mistake. Optuna allows to call the same distribution with the same name more than once in a trial. When the parameter values are inconsistent optuna only uses the values of the first call and ignores all following. Using these values: {'step': None, 'low': 0.05, 'high': 0.3, 'log': False}\n",
      "  warnings.warn(\n",
      "C:\\Users\\mrbvb\\AppData\\Local\\Temp\\ipykernel_26724\\2049930526.py:17: FutureWarning: suggest_uniform has been deprecated in v3.0.0. This feature will be removed in v6.0.0. See https://github.com/optuna/optuna/releases/tag/v3.0.0. Use suggest_float instead.\n",
      "  dropout_rate2 = trial.suggest_uniform('dropout_rate2', 0.05, 0.2)\n",
      "c:\\Users\\mrbvb\\AppData\\Local\\Programs\\Python\\Python311\\Lib\\site-packages\\optuna\\trial\\_trial.py:676: RuntimeWarning: Inconsistent parameter values for distribution with name \"dropout_rate2\"! This might be a configuration mistake. Optuna allows to call the same distribution with the same name more than once in a trial. When the parameter values are inconsistent optuna only uses the values of the first call and ignores all following. Using these values: {'step': None, 'low': 0.05, 'high': 0.1, 'log': False}\n",
      "  warnings.warn(\n",
      "C:\\Users\\mrbvb\\AppData\\Local\\Temp\\ipykernel_26724\\2049930526.py:20: FutureWarning: suggest_loguniform has been deprecated in v3.0.0. This feature will be removed in v6.0.0. See https://github.com/optuna/optuna/releases/tag/v3.0.0. Use suggest_float(..., log=True) instead.\n",
      "  learning_rate = trial.suggest_loguniform('learning_rate', 1e-6, 1e-3)\n",
      "c:\\Users\\mrbvb\\AppData\\Local\\Programs\\Python\\Python311\\Lib\\site-packages\\keras\\src\\layers\\core\\embedding.py:86: UserWarning: Argument `input_length` is deprecated. Just remove it.\n",
      "  warnings.warn(\n"
     ]
    },
    {
     "name": "stdout",
     "output_type": "stream",
     "text": [
      "\u001b[1m11/11\u001b[0m \u001b[32m━━━━━━━━━━━━━━━━━━━━\u001b[0m\u001b[37m\u001b[0m \u001b[1m7s\u001b[0m 242ms/step - accuracy: 0.5433 - loss: 0.6920\n",
      "Epoch 2/10\n",
      "\u001b[1m11/11\u001b[0m \u001b[32m━━━━━━━━━━━━━━━━━━━━\u001b[0m\u001b[37m\u001b[0m \u001b[1m3s\u001b[0m 241ms/step - accuracy: 0.5395 - loss: 0.6877\n",
      "Epoch 3/10\n",
      "\u001b[1m11/11\u001b[0m \u001b[32m━━━━━━━━━━━━━━━━━━━━\u001b[0m\u001b[37m\u001b[0m \u001b[1m3s\u001b[0m 244ms/step - accuracy: 0.5431 - loss: 0.6803\n",
      "Epoch 4/10\n",
      "\u001b[1m11/11\u001b[0m \u001b[32m━━━━━━━━━━━━━━━━━━━━\u001b[0m\u001b[37m\u001b[0m \u001b[1m3s\u001b[0m 244ms/step - accuracy: 0.5057 - loss: 0.6735\n",
      "Epoch 5/10\n",
      "\u001b[1m11/11\u001b[0m \u001b[32m━━━━━━━━━━━━━━━━━━━━\u001b[0m\u001b[37m\u001b[0m \u001b[1m3s\u001b[0m 242ms/step - accuracy: 0.7505 - loss: 0.6360\n",
      "Epoch 6/10\n",
      "\u001b[1m11/11\u001b[0m \u001b[32m━━━━━━━━━━━━━━━━━━━━\u001b[0m\u001b[37m\u001b[0m \u001b[1m3s\u001b[0m 242ms/step - accuracy: 0.8886 - loss: 0.5295\n",
      "Epoch 7/10\n",
      "\u001b[1m11/11\u001b[0m \u001b[32m━━━━━━━━━━━━━━━━━━━━\u001b[0m\u001b[37m\u001b[0m \u001b[1m3s\u001b[0m 239ms/step - accuracy: 0.8685 - loss: 0.3977\n",
      "Epoch 8/10\n",
      "\u001b[1m11/11\u001b[0m \u001b[32m━━━━━━━━━━━━━━━━━━━━\u001b[0m\u001b[37m\u001b[0m \u001b[1m3s\u001b[0m 243ms/step - accuracy: 0.8871 - loss: 0.3485\n",
      "Epoch 9/10\n",
      "\u001b[1m11/11\u001b[0m \u001b[32m━━━━━━━━━━━━━━━━━━━━\u001b[0m\u001b[37m\u001b[0m \u001b[1m3s\u001b[0m 245ms/step - accuracy: 0.9811 - loss: 0.2038\n",
      "Epoch 10/10\n",
      "\u001b[1m11/11\u001b[0m \u001b[32m━━━━━━━━━━━━━━━━━━━━\u001b[0m\u001b[37m\u001b[0m \u001b[1m3s\u001b[0m 244ms/step - accuracy: 0.9805 - loss: 0.1478\n",
      "\u001b[1m6/6\u001b[0m \u001b[32m━━━━━━━━━━━━━━━━━━━━\u001b[0m\u001b[37m\u001b[0m \u001b[1m1s\u001b[0m 160ms/step\n",
      "result score f1 fuc -0.7512407070805035\n",
      "kw {}\n",
      "create mod: d_rate 0.24758771613316144 d_rate2  0.09271854882731012 LSTM  64 dim  200 lr  0.0002785373318654475\n",
      "Epoch 1/10\n"
     ]
    },
    {
     "name": "stderr",
     "output_type": "stream",
     "text": [
      "C:\\Users\\mrbvb\\AppData\\Local\\Temp\\ipykernel_26724\\2049930526.py:16: FutureWarning: suggest_uniform has been deprecated in v3.0.0. This feature will be removed in v6.0.0. See https://github.com/optuna/optuna/releases/tag/v3.0.0. Use suggest_float instead.\n",
      "  dropout_rate = trial.suggest_uniform('dropout_rate', 0.09, 0.3)\n",
      "c:\\Users\\mrbvb\\AppData\\Local\\Programs\\Python\\Python311\\Lib\\site-packages\\optuna\\trial\\_trial.py:676: RuntimeWarning: Inconsistent parameter values for distribution with name \"dropout_rate\"! This might be a configuration mistake. Optuna allows to call the same distribution with the same name more than once in a trial. When the parameter values are inconsistent optuna only uses the values of the first call and ignores all following. Using these values: {'step': None, 'low': 0.05, 'high': 0.3, 'log': False}\n",
      "  warnings.warn(\n",
      "C:\\Users\\mrbvb\\AppData\\Local\\Temp\\ipykernel_26724\\2049930526.py:17: FutureWarning: suggest_uniform has been deprecated in v3.0.0. This feature will be removed in v6.0.0. See https://github.com/optuna/optuna/releases/tag/v3.0.0. Use suggest_float instead.\n",
      "  dropout_rate2 = trial.suggest_uniform('dropout_rate2', 0.05, 0.2)\n",
      "c:\\Users\\mrbvb\\AppData\\Local\\Programs\\Python\\Python311\\Lib\\site-packages\\optuna\\trial\\_trial.py:676: RuntimeWarning: Inconsistent parameter values for distribution with name \"dropout_rate2\"! This might be a configuration mistake. Optuna allows to call the same distribution with the same name more than once in a trial. When the parameter values are inconsistent optuna only uses the values of the first call and ignores all following. Using these values: {'step': None, 'low': 0.05, 'high': 0.1, 'log': False}\n",
      "  warnings.warn(\n",
      "C:\\Users\\mrbvb\\AppData\\Local\\Temp\\ipykernel_26724\\2049930526.py:20: FutureWarning: suggest_loguniform has been deprecated in v3.0.0. This feature will be removed in v6.0.0. See https://github.com/optuna/optuna/releases/tag/v3.0.0. Use suggest_float(..., log=True) instead.\n",
      "  learning_rate = trial.suggest_loguniform('learning_rate', 1e-6, 1e-3)\n",
      "c:\\Users\\mrbvb\\AppData\\Local\\Programs\\Python\\Python311\\Lib\\site-packages\\keras\\src\\layers\\core\\embedding.py:86: UserWarning: Argument `input_length` is deprecated. Just remove it.\n",
      "  warnings.warn(\n"
     ]
    },
    {
     "name": "stdout",
     "output_type": "stream",
     "text": [
      "\u001b[1m11/11\u001b[0m \u001b[32m━━━━━━━━━━━━━━━━━━━━\u001b[0m\u001b[37m\u001b[0m \u001b[1m7s\u001b[0m 228ms/step - accuracy: 0.5029 - loss: 0.6934\n",
      "Epoch 2/10\n",
      "\u001b[1m11/11\u001b[0m \u001b[32m━━━━━━━━━━━━━━━━━━━━\u001b[0m\u001b[37m\u001b[0m \u001b[1m2s\u001b[0m 208ms/step - accuracy: 0.5568 - loss: 0.6880\n",
      "Epoch 3/10\n",
      "\u001b[1m11/11\u001b[0m \u001b[32m━━━━━━━━━━━━━━━━━━━━\u001b[0m\u001b[37m\u001b[0m \u001b[1m2s\u001b[0m 207ms/step - accuracy: 0.5073 - loss: 0.6846\n",
      "Epoch 4/10\n",
      "\u001b[1m11/11\u001b[0m \u001b[32m━━━━━━━━━━━━━━━━━━━━\u001b[0m\u001b[37m\u001b[0m \u001b[1m2s\u001b[0m 207ms/step - accuracy: 0.6200 - loss: 0.6699\n",
      "Epoch 5/10\n",
      "\u001b[1m11/11\u001b[0m \u001b[32m━━━━━━━━━━━━━━━━━━━━\u001b[0m\u001b[37m\u001b[0m \u001b[1m2s\u001b[0m 207ms/step - accuracy: 0.6781 - loss: 0.6314\n",
      "Epoch 6/10\n",
      "\u001b[1m11/11\u001b[0m \u001b[32m━━━━━━━━━━━━━━━━━━━━\u001b[0m\u001b[37m\u001b[0m \u001b[1m2s\u001b[0m 209ms/step - accuracy: 0.8655 - loss: 0.5579\n",
      "Epoch 7/10\n",
      "\u001b[1m11/11\u001b[0m \u001b[32m━━━━━━━━━━━━━━━━━━━━\u001b[0m\u001b[37m\u001b[0m \u001b[1m2s\u001b[0m 205ms/step - accuracy: 0.8825 - loss: 0.4293\n",
      "Epoch 8/10\n",
      "\u001b[1m11/11\u001b[0m \u001b[32m━━━━━━━━━━━━━━━━━━━━\u001b[0m\u001b[37m\u001b[0m \u001b[1m2s\u001b[0m 205ms/step - accuracy: 0.9191 - loss: 0.3351\n",
      "Epoch 9/10\n",
      "\u001b[1m11/11\u001b[0m \u001b[32m━━━━━━━━━━━━━━━━━━━━\u001b[0m\u001b[37m\u001b[0m \u001b[1m2s\u001b[0m 208ms/step - accuracy: 0.9605 - loss: 0.2472\n",
      "Epoch 10/10\n",
      "\u001b[1m11/11\u001b[0m \u001b[32m━━━━━━━━━━━━━━━━━━━━\u001b[0m\u001b[37m\u001b[0m \u001b[1m2s\u001b[0m 205ms/step - accuracy: 0.9820 - loss: 0.1723\n",
      "\u001b[1m6/6\u001b[0m \u001b[32m━━━━━━━━━━━━━━━━━━━━\u001b[0m\u001b[37m\u001b[0m \u001b[1m1s\u001b[0m 147ms/step\n",
      "kw {}\n",
      "create mod: d_rate 0.24758771613316144 d_rate2  0.09271854882731012 LSTM  64 dim  200 lr  0.0002785373318654475\n",
      "Epoch 1/10\n"
     ]
    },
    {
     "name": "stderr",
     "output_type": "stream",
     "text": [
      "C:\\Users\\mrbvb\\AppData\\Local\\Temp\\ipykernel_26724\\2049930526.py:16: FutureWarning: suggest_uniform has been deprecated in v3.0.0. This feature will be removed in v6.0.0. See https://github.com/optuna/optuna/releases/tag/v3.0.0. Use suggest_float instead.\n",
      "  dropout_rate = trial.suggest_uniform('dropout_rate', 0.09, 0.3)\n",
      "c:\\Users\\mrbvb\\AppData\\Local\\Programs\\Python\\Python311\\Lib\\site-packages\\optuna\\trial\\_trial.py:676: RuntimeWarning: Inconsistent parameter values for distribution with name \"dropout_rate\"! This might be a configuration mistake. Optuna allows to call the same distribution with the same name more than once in a trial. When the parameter values are inconsistent optuna only uses the values of the first call and ignores all following. Using these values: {'step': None, 'low': 0.05, 'high': 0.3, 'log': False}\n",
      "  warnings.warn(\n",
      "C:\\Users\\mrbvb\\AppData\\Local\\Temp\\ipykernel_26724\\2049930526.py:17: FutureWarning: suggest_uniform has been deprecated in v3.0.0. This feature will be removed in v6.0.0. See https://github.com/optuna/optuna/releases/tag/v3.0.0. Use suggest_float instead.\n",
      "  dropout_rate2 = trial.suggest_uniform('dropout_rate2', 0.05, 0.2)\n",
      "c:\\Users\\mrbvb\\AppData\\Local\\Programs\\Python\\Python311\\Lib\\site-packages\\optuna\\trial\\_trial.py:676: RuntimeWarning: Inconsistent parameter values for distribution with name \"dropout_rate2\"! This might be a configuration mistake. Optuna allows to call the same distribution with the same name more than once in a trial. When the parameter values are inconsistent optuna only uses the values of the first call and ignores all following. Using these values: {'step': None, 'low': 0.05, 'high': 0.1, 'log': False}\n",
      "  warnings.warn(\n",
      "C:\\Users\\mrbvb\\AppData\\Local\\Temp\\ipykernel_26724\\2049930526.py:20: FutureWarning: suggest_loguniform has been deprecated in v3.0.0. This feature will be removed in v6.0.0. See https://github.com/optuna/optuna/releases/tag/v3.0.0. Use suggest_float(..., log=True) instead.\n",
      "  learning_rate = trial.suggest_loguniform('learning_rate', 1e-6, 1e-3)\n",
      "c:\\Users\\mrbvb\\AppData\\Local\\Programs\\Python\\Python311\\Lib\\site-packages\\keras\\src\\layers\\core\\embedding.py:86: UserWarning: Argument `input_length` is deprecated. Just remove it.\n",
      "  warnings.warn(\n"
     ]
    },
    {
     "name": "stdout",
     "output_type": "stream",
     "text": [
      "\u001b[1m11/11\u001b[0m \u001b[32m━━━━━━━━━━━━━━━━━━━━\u001b[0m\u001b[37m\u001b[0m \u001b[1m6s\u001b[0m 196ms/step - accuracy: 0.4468 - loss: 0.6941\n",
      "Epoch 2/10\n",
      "\u001b[1m11/11\u001b[0m \u001b[32m━━━━━━━━━━━━━━━━━━━━\u001b[0m\u001b[37m\u001b[0m \u001b[1m2s\u001b[0m 193ms/step - accuracy: 0.6522 - loss: 0.6896\n",
      "Epoch 3/10\n",
      "\u001b[1m11/11\u001b[0m \u001b[32m━━━━━━━━━━━━━━━━━━━━\u001b[0m\u001b[37m\u001b[0m \u001b[1m2s\u001b[0m 193ms/step - accuracy: 0.7238 - loss: 0.6860\n",
      "Epoch 4/10\n",
      "\u001b[1m11/11\u001b[0m \u001b[32m━━━━━━━━━━━━━━━━━━━━\u001b[0m\u001b[37m\u001b[0m \u001b[1m2s\u001b[0m 193ms/step - accuracy: 0.7725 - loss: 0.6768\n",
      "Epoch 5/10\n",
      "\u001b[1m11/11\u001b[0m \u001b[32m━━━━━━━━━━━━━━━━━━━━\u001b[0m\u001b[37m\u001b[0m \u001b[1m2s\u001b[0m 194ms/step - accuracy: 0.9195 - loss: 0.6522\n",
      "Epoch 6/10\n",
      "\u001b[1m11/11\u001b[0m \u001b[32m━━━━━━━━━━━━━━━━━━━━\u001b[0m\u001b[37m\u001b[0m \u001b[1m2s\u001b[0m 192ms/step - accuracy: 0.9266 - loss: 0.5802\n",
      "Epoch 7/10\n",
      "\u001b[1m11/11\u001b[0m \u001b[32m━━━━━━━━━━━━━━━━━━━━\u001b[0m\u001b[37m\u001b[0m \u001b[1m2s\u001b[0m 194ms/step - accuracy: 0.8471 - loss: 0.4778\n",
      "Epoch 8/10\n",
      "\u001b[1m11/11\u001b[0m \u001b[32m━━━━━━━━━━━━━━━━━━━━\u001b[0m\u001b[37m\u001b[0m \u001b[1m2s\u001b[0m 194ms/step - accuracy: 0.9590 - loss: 0.3358\n",
      "Epoch 9/10\n",
      "\u001b[1m11/11\u001b[0m \u001b[32m━━━━━━━━━━━━━━━━━━━━\u001b[0m\u001b[37m\u001b[0m \u001b[1m2s\u001b[0m 194ms/step - accuracy: 0.9641 - loss: 0.2238\n",
      "Epoch 10/10\n",
      "\u001b[1m11/11\u001b[0m \u001b[32m━━━━━━━━━━━━━━━━━━━━\u001b[0m\u001b[37m\u001b[0m \u001b[1m2s\u001b[0m 194ms/step - accuracy: 0.9847 - loss: 0.1527\n",
      "\u001b[1m6/6\u001b[0m \u001b[32m━━━━━━━━━━━━━━━━━━━━\u001b[0m\u001b[37m\u001b[0m \u001b[1m1s\u001b[0m 146ms/step\n",
      "kw {}\n",
      "create mod: d_rate 0.24758771613316144 d_rate2  0.09271854882731012 LSTM  64 dim  200 lr  0.0002785373318654475\n",
      "Epoch 1/10\n"
     ]
    },
    {
     "name": "stderr",
     "output_type": "stream",
     "text": [
      "C:\\Users\\mrbvb\\AppData\\Local\\Temp\\ipykernel_26724\\2049930526.py:16: FutureWarning: suggest_uniform has been deprecated in v3.0.0. This feature will be removed in v6.0.0. See https://github.com/optuna/optuna/releases/tag/v3.0.0. Use suggest_float instead.\n",
      "  dropout_rate = trial.suggest_uniform('dropout_rate', 0.09, 0.3)\n",
      "c:\\Users\\mrbvb\\AppData\\Local\\Programs\\Python\\Python311\\Lib\\site-packages\\optuna\\trial\\_trial.py:676: RuntimeWarning: Inconsistent parameter values for distribution with name \"dropout_rate\"! This might be a configuration mistake. Optuna allows to call the same distribution with the same name more than once in a trial. When the parameter values are inconsistent optuna only uses the values of the first call and ignores all following. Using these values: {'step': None, 'low': 0.05, 'high': 0.3, 'log': False}\n",
      "  warnings.warn(\n",
      "C:\\Users\\mrbvb\\AppData\\Local\\Temp\\ipykernel_26724\\2049930526.py:17: FutureWarning: suggest_uniform has been deprecated in v3.0.0. This feature will be removed in v6.0.0. See https://github.com/optuna/optuna/releases/tag/v3.0.0. Use suggest_float instead.\n",
      "  dropout_rate2 = trial.suggest_uniform('dropout_rate2', 0.05, 0.2)\n",
      "c:\\Users\\mrbvb\\AppData\\Local\\Programs\\Python\\Python311\\Lib\\site-packages\\optuna\\trial\\_trial.py:676: RuntimeWarning: Inconsistent parameter values for distribution with name \"dropout_rate2\"! This might be a configuration mistake. Optuna allows to call the same distribution with the same name more than once in a trial. When the parameter values are inconsistent optuna only uses the values of the first call and ignores all following. Using these values: {'step': None, 'low': 0.05, 'high': 0.1, 'log': False}\n",
      "  warnings.warn(\n",
      "C:\\Users\\mrbvb\\AppData\\Local\\Temp\\ipykernel_26724\\2049930526.py:20: FutureWarning: suggest_loguniform has been deprecated in v3.0.0. This feature will be removed in v6.0.0. See https://github.com/optuna/optuna/releases/tag/v3.0.0. Use suggest_float(..., log=True) instead.\n",
      "  learning_rate = trial.suggest_loguniform('learning_rate', 1e-6, 1e-3)\n",
      "c:\\Users\\mrbvb\\AppData\\Local\\Programs\\Python\\Python311\\Lib\\site-packages\\keras\\src\\layers\\core\\embedding.py:86: UserWarning: Argument `input_length` is deprecated. Just remove it.\n",
      "  warnings.warn(\n"
     ]
    },
    {
     "name": "stdout",
     "output_type": "stream",
     "text": [
      "\u001b[1m11/11\u001b[0m \u001b[32m━━━━━━━━━━━━━━━━━━━━\u001b[0m\u001b[37m\u001b[0m \u001b[1m6s\u001b[0m 182ms/step - accuracy: 0.4625 - loss: 0.6939\n",
      "Epoch 2/10\n",
      "\u001b[1m11/11\u001b[0m \u001b[32m━━━━━━━━━━━━━━━━━━━━\u001b[0m\u001b[37m\u001b[0m \u001b[1m2s\u001b[0m 180ms/step - accuracy: 0.5019 - loss: 0.6909\n",
      "Epoch 3/10\n",
      "\u001b[1m11/11\u001b[0m \u001b[32m━━━━━━━━━━━━━━━━━━━━\u001b[0m\u001b[37m\u001b[0m \u001b[1m2s\u001b[0m 181ms/step - accuracy: 0.5379 - loss: 0.6812\n",
      "Epoch 4/10\n",
      "\u001b[1m11/11\u001b[0m \u001b[32m━━━━━━━━━━━━━━━━━━━━\u001b[0m\u001b[37m\u001b[0m \u001b[1m2s\u001b[0m 180ms/step - accuracy: 0.5837 - loss: 0.6678\n",
      "Epoch 5/10\n",
      "\u001b[1m11/11\u001b[0m \u001b[32m━━━━━━━━━━━━━━━━━━━━\u001b[0m\u001b[37m\u001b[0m \u001b[1m2s\u001b[0m 181ms/step - accuracy: 0.8417 - loss: 0.6346\n",
      "Epoch 6/10\n",
      "\u001b[1m11/11\u001b[0m \u001b[32m━━━━━━━━━━━━━━━━━━━━\u001b[0m\u001b[37m\u001b[0m \u001b[1m2s\u001b[0m 180ms/step - accuracy: 0.9086 - loss: 0.5330\n",
      "Epoch 7/10\n",
      "\u001b[1m11/11\u001b[0m \u001b[32m━━━━━━━━━━━━━━━━━━━━\u001b[0m\u001b[37m\u001b[0m \u001b[1m2s\u001b[0m 180ms/step - accuracy: 0.9150 - loss: 0.3666\n",
      "Epoch 8/10\n",
      "\u001b[1m11/11\u001b[0m \u001b[32m━━━━━━━━━━━━━━━━━━━━\u001b[0m\u001b[37m\u001b[0m \u001b[1m2s\u001b[0m 180ms/step - accuracy: 0.9498 - loss: 0.2598\n",
      "Epoch 9/10\n",
      "\u001b[1m11/11\u001b[0m \u001b[32m━━━━━━━━━━━━━━━━━━━━\u001b[0m\u001b[37m\u001b[0m \u001b[1m2s\u001b[0m 179ms/step - accuracy: 0.9928 - loss: 0.1621\n",
      "Epoch 10/10\n",
      "\u001b[1m11/11\u001b[0m \u001b[32m━━━━━━━━━━━━━━━━━━━━\u001b[0m\u001b[37m\u001b[0m \u001b[1m2s\u001b[0m 181ms/step - accuracy: 0.9811 - loss: 0.1214\n",
      "\u001b[1m6/6\u001b[0m \u001b[32m━━━━━━━━━━━━━━━━━━━━\u001b[0m\u001b[37m\u001b[0m \u001b[1m1s\u001b[0m 141ms/step\n"
     ]
    },
    {
     "name": "stderr",
     "output_type": "stream",
     "text": [
      "[I 2024-04-30 17:25:13,255] Trial 8 finished with value: 0.7580995336558741 and parameters: {'dropout_rate': 0.24758771613316144, 'dropout_rate2': 0.09271854882731012, 'LSTM_units': 64, 'EMBEDDING_DIM': 200, 'learning_rate': 0.0002785373318654475}. Best is trial 8 with value: 0.7580995336558741.\n"
     ]
    },
    {
     "name": "stdout",
     "output_type": "stream",
     "text": [
      "objectiving\n",
      "kw {}\n",
      "kw {}\n",
      "create mod: d_rate 0.18147259571764807 d_rate2  0.05214540856840225 LSTM  256 dim  200 lr  1.0132161537953078e-06\n",
      "Epoch 1/10\n"
     ]
    },
    {
     "name": "stderr",
     "output_type": "stream",
     "text": [
      "C:\\Users\\mrbvb\\AppData\\Local\\Temp\\ipykernel_26724\\2049930526.py:63: FutureWarning: suggest_uniform has been deprecated in v3.0.0. This feature will be removed in v6.0.0. See https://github.com/optuna/optuna/releases/tag/v3.0.0. Use suggest_float instead.\n",
      "  dropout_rate = trial.suggest_uniform('dropout_rate', 0.05, 0.3) #value should be from small to large only\n",
      "C:\\Users\\mrbvb\\AppData\\Local\\Temp\\ipykernel_26724\\2049930526.py:64: FutureWarning: suggest_uniform has been deprecated in v3.0.0. This feature will be removed in v6.0.0. See https://github.com/optuna/optuna/releases/tag/v3.0.0. Use suggest_float instead.\n",
      "  dropout_rate2 = trial.suggest_uniform('dropout_rate2', 0.05, 0.1)\n",
      "C:\\Users\\mrbvb\\AppData\\Local\\Temp\\ipykernel_26724\\2049930526.py:67: FutureWarning: suggest_loguniform has been deprecated in v3.0.0. This feature will be removed in v6.0.0. See https://github.com/optuna/optuna/releases/tag/v3.0.0. Use suggest_float(..., log=True) instead.\n",
      "  learning_rate = trial.suggest_loguniform('learning_rate', 1e-6, 1e-3)\n",
      "C:\\Users\\mrbvb\\AppData\\Local\\Temp\\ipykernel_26724\\2049930526.py:16: FutureWarning: suggest_uniform has been deprecated in v3.0.0. This feature will be removed in v6.0.0. See https://github.com/optuna/optuna/releases/tag/v3.0.0. Use suggest_float instead.\n",
      "  dropout_rate = trial.suggest_uniform('dropout_rate', 0.09, 0.3)\n",
      "c:\\Users\\mrbvb\\AppData\\Local\\Programs\\Python\\Python311\\Lib\\site-packages\\optuna\\trial\\_trial.py:676: RuntimeWarning: Inconsistent parameter values for distribution with name \"dropout_rate\"! This might be a configuration mistake. Optuna allows to call the same distribution with the same name more than once in a trial. When the parameter values are inconsistent optuna only uses the values of the first call and ignores all following. Using these values: {'step': None, 'low': 0.05, 'high': 0.3, 'log': False}\n",
      "  warnings.warn(\n",
      "C:\\Users\\mrbvb\\AppData\\Local\\Temp\\ipykernel_26724\\2049930526.py:17: FutureWarning: suggest_uniform has been deprecated in v3.0.0. This feature will be removed in v6.0.0. See https://github.com/optuna/optuna/releases/tag/v3.0.0. Use suggest_float instead.\n",
      "  dropout_rate2 = trial.suggest_uniform('dropout_rate2', 0.05, 0.2)\n",
      "c:\\Users\\mrbvb\\AppData\\Local\\Programs\\Python\\Python311\\Lib\\site-packages\\optuna\\trial\\_trial.py:676: RuntimeWarning: Inconsistent parameter values for distribution with name \"dropout_rate2\"! This might be a configuration mistake. Optuna allows to call the same distribution with the same name more than once in a trial. When the parameter values are inconsistent optuna only uses the values of the first call and ignores all following. Using these values: {'step': None, 'low': 0.05, 'high': 0.1, 'log': False}\n",
      "  warnings.warn(\n",
      "C:\\Users\\mrbvb\\AppData\\Local\\Temp\\ipykernel_26724\\2049930526.py:20: FutureWarning: suggest_loguniform has been deprecated in v3.0.0. This feature will be removed in v6.0.0. See https://github.com/optuna/optuna/releases/tag/v3.0.0. Use suggest_float(..., log=True) instead.\n",
      "  learning_rate = trial.suggest_loguniform('learning_rate', 1e-6, 1e-3)\n",
      "c:\\Users\\mrbvb\\AppData\\Local\\Programs\\Python\\Python311\\Lib\\site-packages\\keras\\src\\layers\\core\\embedding.py:86: UserWarning: Argument `input_length` is deprecated. Just remove it.\n",
      "  warnings.warn(\n"
     ]
    },
    {
     "name": "stdout",
     "output_type": "stream",
     "text": [
      "\u001b[1m11/11\u001b[0m \u001b[32m━━━━━━━━━━━━━━━━━━━━\u001b[0m\u001b[37m\u001b[0m \u001b[1m10s\u001b[0m 424ms/step - accuracy: 0.4559 - loss: 0.6942\n",
      "Epoch 2/10\n",
      "\u001b[1m11/11\u001b[0m \u001b[32m━━━━━━━━━━━━━━━━━━━━\u001b[0m\u001b[37m\u001b[0m \u001b[1m5s\u001b[0m 410ms/step - accuracy: 0.4839 - loss: 0.6938\n",
      "Epoch 3/10\n",
      "\u001b[1m11/11\u001b[0m \u001b[32m━━━━━━━━━━━━━━━━━━━━\u001b[0m\u001b[37m\u001b[0m \u001b[1m5s\u001b[0m 418ms/step - accuracy: 0.5009 - loss: 0.6929\n",
      "Epoch 4/10\n",
      "\u001b[1m11/11\u001b[0m \u001b[32m━━━━━━━━━━━━━━━━━━━━\u001b[0m\u001b[37m\u001b[0m \u001b[1m5s\u001b[0m 418ms/step - accuracy: 0.4811 - loss: 0.6932\n",
      "Epoch 5/10\n",
      "\u001b[1m11/11\u001b[0m \u001b[32m━━━━━━━━━━━━━━━━━━━━\u001b[0m\u001b[37m\u001b[0m \u001b[1m5s\u001b[0m 410ms/step - accuracy: 0.4295 - loss: 0.6949\n",
      "\u001b[1m6/6\u001b[0m \u001b[32m━━━━━━━━━━━━━━━━━━━━\u001b[0m\u001b[37m\u001b[0m \u001b[1m2s\u001b[0m 274ms/step\n",
      "kw {}\n",
      "create mod: d_rate 0.18147259571764807 d_rate2  0.05214540856840225 LSTM  256 dim  200 lr  1.0132161537953078e-06\n",
      "Epoch 1/10\n"
     ]
    },
    {
     "name": "stderr",
     "output_type": "stream",
     "text": [
      "C:\\Users\\mrbvb\\AppData\\Local\\Temp\\ipykernel_26724\\2049930526.py:16: FutureWarning: suggest_uniform has been deprecated in v3.0.0. This feature will be removed in v6.0.0. See https://github.com/optuna/optuna/releases/tag/v3.0.0. Use suggest_float instead.\n",
      "  dropout_rate = trial.suggest_uniform('dropout_rate', 0.09, 0.3)\n",
      "c:\\Users\\mrbvb\\AppData\\Local\\Programs\\Python\\Python311\\Lib\\site-packages\\optuna\\trial\\_trial.py:676: RuntimeWarning: Inconsistent parameter values for distribution with name \"dropout_rate\"! This might be a configuration mistake. Optuna allows to call the same distribution with the same name more than once in a trial. When the parameter values are inconsistent optuna only uses the values of the first call and ignores all following. Using these values: {'step': None, 'low': 0.05, 'high': 0.3, 'log': False}\n",
      "  warnings.warn(\n",
      "C:\\Users\\mrbvb\\AppData\\Local\\Temp\\ipykernel_26724\\2049930526.py:17: FutureWarning: suggest_uniform has been deprecated in v3.0.0. This feature will be removed in v6.0.0. See https://github.com/optuna/optuna/releases/tag/v3.0.0. Use suggest_float instead.\n",
      "  dropout_rate2 = trial.suggest_uniform('dropout_rate2', 0.05, 0.2)\n",
      "c:\\Users\\mrbvb\\AppData\\Local\\Programs\\Python\\Python311\\Lib\\site-packages\\optuna\\trial\\_trial.py:676: RuntimeWarning: Inconsistent parameter values for distribution with name \"dropout_rate2\"! This might be a configuration mistake. Optuna allows to call the same distribution with the same name more than once in a trial. When the parameter values are inconsistent optuna only uses the values of the first call and ignores all following. Using these values: {'step': None, 'low': 0.05, 'high': 0.1, 'log': False}\n",
      "  warnings.warn(\n",
      "C:\\Users\\mrbvb\\AppData\\Local\\Temp\\ipykernel_26724\\2049930526.py:20: FutureWarning: suggest_loguniform has been deprecated in v3.0.0. This feature will be removed in v6.0.0. See https://github.com/optuna/optuna/releases/tag/v3.0.0. Use suggest_float(..., log=True) instead.\n",
      "  learning_rate = trial.suggest_loguniform('learning_rate', 1e-6, 1e-3)\n",
      "c:\\Users\\mrbvb\\AppData\\Local\\Programs\\Python\\Python311\\Lib\\site-packages\\keras\\src\\layers\\core\\embedding.py:86: UserWarning: Argument `input_length` is deprecated. Just remove it.\n",
      "  warnings.warn(\n"
     ]
    },
    {
     "name": "stdout",
     "output_type": "stream",
     "text": [
      "\u001b[1m11/11\u001b[0m \u001b[32m━━━━━━━━━━━━━━━━━━━━\u001b[0m\u001b[37m\u001b[0m \u001b[1m9s\u001b[0m 408ms/step - accuracy: 0.4795 - loss: 0.6933\n",
      "Epoch 2/10\n",
      "\u001b[1m11/11\u001b[0m \u001b[32m━━━━━━━━━━━━━━━━━━━━\u001b[0m\u001b[37m\u001b[0m \u001b[1m4s\u001b[0m 407ms/step - accuracy: 0.5182 - loss: 0.6927\n",
      "Epoch 3/10\n",
      "\u001b[1m11/11\u001b[0m \u001b[32m━━━━━━━━━━━━━━━━━━━━\u001b[0m\u001b[37m\u001b[0m \u001b[1m4s\u001b[0m 398ms/step - accuracy: 0.4835 - loss: 0.6933\n",
      "Epoch 4/10\n",
      "\u001b[1m11/11\u001b[0m \u001b[32m━━━━━━━━━━━━━━━━━━━━\u001b[0m\u001b[37m\u001b[0m \u001b[1m4s\u001b[0m 401ms/step - accuracy: 0.4643 - loss: 0.6933\n",
      "Epoch 5/10\n",
      "\u001b[1m11/11\u001b[0m \u001b[32m━━━━━━━━━━━━━━━━━━━━\u001b[0m\u001b[37m\u001b[0m \u001b[1m4s\u001b[0m 397ms/step - accuracy: 0.4643 - loss: 0.6932\n",
      "\u001b[1m6/6\u001b[0m \u001b[32m━━━━━━━━━━━━━━━━━━━━\u001b[0m\u001b[37m\u001b[0m \u001b[1m2s\u001b[0m 268ms/step\n",
      "kw {}\n",
      "create mod: d_rate 0.18147259571764807 d_rate2  0.05214540856840225 LSTM  256 dim  200 lr  1.0132161537953078e-06\n",
      "Epoch 1/10\n"
     ]
    },
    {
     "name": "stderr",
     "output_type": "stream",
     "text": [
      "C:\\Users\\mrbvb\\AppData\\Local\\Temp\\ipykernel_26724\\2049930526.py:16: FutureWarning: suggest_uniform has been deprecated in v3.0.0. This feature will be removed in v6.0.0. See https://github.com/optuna/optuna/releases/tag/v3.0.0. Use suggest_float instead.\n",
      "  dropout_rate = trial.suggest_uniform('dropout_rate', 0.09, 0.3)\n",
      "c:\\Users\\mrbvb\\AppData\\Local\\Programs\\Python\\Python311\\Lib\\site-packages\\optuna\\trial\\_trial.py:676: RuntimeWarning: Inconsistent parameter values for distribution with name \"dropout_rate\"! This might be a configuration mistake. Optuna allows to call the same distribution with the same name more than once in a trial. When the parameter values are inconsistent optuna only uses the values of the first call and ignores all following. Using these values: {'step': None, 'low': 0.05, 'high': 0.3, 'log': False}\n",
      "  warnings.warn(\n",
      "C:\\Users\\mrbvb\\AppData\\Local\\Temp\\ipykernel_26724\\2049930526.py:17: FutureWarning: suggest_uniform has been deprecated in v3.0.0. This feature will be removed in v6.0.0. See https://github.com/optuna/optuna/releases/tag/v3.0.0. Use suggest_float instead.\n",
      "  dropout_rate2 = trial.suggest_uniform('dropout_rate2', 0.05, 0.2)\n",
      "c:\\Users\\mrbvb\\AppData\\Local\\Programs\\Python\\Python311\\Lib\\site-packages\\optuna\\trial\\_trial.py:676: RuntimeWarning: Inconsistent parameter values for distribution with name \"dropout_rate2\"! This might be a configuration mistake. Optuna allows to call the same distribution with the same name more than once in a trial. When the parameter values are inconsistent optuna only uses the values of the first call and ignores all following. Using these values: {'step': None, 'low': 0.05, 'high': 0.1, 'log': False}\n",
      "  warnings.warn(\n",
      "C:\\Users\\mrbvb\\AppData\\Local\\Temp\\ipykernel_26724\\2049930526.py:20: FutureWarning: suggest_loguniform has been deprecated in v3.0.0. This feature will be removed in v6.0.0. See https://github.com/optuna/optuna/releases/tag/v3.0.0. Use suggest_float(..., log=True) instead.\n",
      "  learning_rate = trial.suggest_loguniform('learning_rate', 1e-6, 1e-3)\n",
      "c:\\Users\\mrbvb\\AppData\\Local\\Programs\\Python\\Python311\\Lib\\site-packages\\keras\\src\\layers\\core\\embedding.py:86: UserWarning: Argument `input_length` is deprecated. Just remove it.\n",
      "  warnings.warn(\n"
     ]
    },
    {
     "name": "stdout",
     "output_type": "stream",
     "text": [
      "\u001b[1m11/11\u001b[0m \u001b[32m━━━━━━━━━━━━━━━━━━━━\u001b[0m\u001b[37m\u001b[0m \u001b[1m8s\u001b[0m 380ms/step - accuracy: 0.5062 - loss: 0.6927\n",
      "Epoch 2/10\n",
      "\u001b[1m11/11\u001b[0m \u001b[32m━━━━━━━━━━━━━━━━━━━━\u001b[0m\u001b[37m\u001b[0m \u001b[1m4s\u001b[0m 401ms/step - accuracy: 0.4677 - loss: 0.6934\n",
      "Epoch 3/10\n",
      "\u001b[1m11/11\u001b[0m \u001b[32m━━━━━━━━━━━━━━━━━━━━\u001b[0m\u001b[37m\u001b[0m \u001b[1m5s\u001b[0m 421ms/step - accuracy: 0.5024 - loss: 0.6928\n",
      "Epoch 4/10\n",
      "\u001b[1m11/11\u001b[0m \u001b[32m━━━━━━━━━━━━━━━━━━━━\u001b[0m\u001b[37m\u001b[0m \u001b[1m5s\u001b[0m 406ms/step - accuracy: 0.5437 - loss: 0.6927\n",
      "Epoch 5/10\n",
      "\u001b[1m11/11\u001b[0m \u001b[32m━━━━━━━━━━━━━━━━━━━━\u001b[0m\u001b[37m\u001b[0m \u001b[1m4s\u001b[0m 408ms/step - accuracy: 0.4795 - loss: 0.6932\n",
      "Epoch 6/10\n",
      "\u001b[1m11/11\u001b[0m \u001b[32m━━━━━━━━━━━━━━━━━━━━\u001b[0m\u001b[37m\u001b[0m \u001b[1m4s\u001b[0m 392ms/step - accuracy: 0.5369 - loss: 0.6930\n",
      "\u001b[1m6/6\u001b[0m \u001b[32m━━━━━━━━━━━━━━━━━━━━\u001b[0m\u001b[37m\u001b[0m \u001b[1m2s\u001b[0m 267ms/step\n",
      "result score f1 fuc -0.6400728008088978\n",
      "kw {}\n",
      "create mod: d_rate 0.18147259571764807 d_rate2  0.05214540856840225 LSTM  256 dim  200 lr  1.0132161537953078e-06\n",
      "Epoch 1/10\n"
     ]
    },
    {
     "name": "stderr",
     "output_type": "stream",
     "text": [
      "C:\\Users\\mrbvb\\AppData\\Local\\Temp\\ipykernel_26724\\2049930526.py:16: FutureWarning: suggest_uniform has been deprecated in v3.0.0. This feature will be removed in v6.0.0. See https://github.com/optuna/optuna/releases/tag/v3.0.0. Use suggest_float instead.\n",
      "  dropout_rate = trial.suggest_uniform('dropout_rate', 0.09, 0.3)\n",
      "c:\\Users\\mrbvb\\AppData\\Local\\Programs\\Python\\Python311\\Lib\\site-packages\\optuna\\trial\\_trial.py:676: RuntimeWarning: Inconsistent parameter values for distribution with name \"dropout_rate\"! This might be a configuration mistake. Optuna allows to call the same distribution with the same name more than once in a trial. When the parameter values are inconsistent optuna only uses the values of the first call and ignores all following. Using these values: {'step': None, 'low': 0.05, 'high': 0.3, 'log': False}\n",
      "  warnings.warn(\n",
      "C:\\Users\\mrbvb\\AppData\\Local\\Temp\\ipykernel_26724\\2049930526.py:17: FutureWarning: suggest_uniform has been deprecated in v3.0.0. This feature will be removed in v6.0.0. See https://github.com/optuna/optuna/releases/tag/v3.0.0. Use suggest_float instead.\n",
      "  dropout_rate2 = trial.suggest_uniform('dropout_rate2', 0.05, 0.2)\n",
      "c:\\Users\\mrbvb\\AppData\\Local\\Programs\\Python\\Python311\\Lib\\site-packages\\optuna\\trial\\_trial.py:676: RuntimeWarning: Inconsistent parameter values for distribution with name \"dropout_rate2\"! This might be a configuration mistake. Optuna allows to call the same distribution with the same name more than once in a trial. When the parameter values are inconsistent optuna only uses the values of the first call and ignores all following. Using these values: {'step': None, 'low': 0.05, 'high': 0.1, 'log': False}\n",
      "  warnings.warn(\n",
      "C:\\Users\\mrbvb\\AppData\\Local\\Temp\\ipykernel_26724\\2049930526.py:20: FutureWarning: suggest_loguniform has been deprecated in v3.0.0. This feature will be removed in v6.0.0. See https://github.com/optuna/optuna/releases/tag/v3.0.0. Use suggest_float(..., log=True) instead.\n",
      "  learning_rate = trial.suggest_loguniform('learning_rate', 1e-6, 1e-3)\n",
      "c:\\Users\\mrbvb\\AppData\\Local\\Programs\\Python\\Python311\\Lib\\site-packages\\keras\\src\\layers\\core\\embedding.py:86: UserWarning: Argument `input_length` is deprecated. Just remove it.\n",
      "  warnings.warn(\n"
     ]
    },
    {
     "name": "stdout",
     "output_type": "stream",
     "text": [
      "\u001b[1m11/11\u001b[0m \u001b[32m━━━━━━━━━━━━━━━━━━━━\u001b[0m\u001b[37m\u001b[0m \u001b[1m8s\u001b[0m 370ms/step - accuracy: 0.4933 - loss: 0.6925\n",
      "Epoch 2/10\n",
      "\u001b[1m11/11\u001b[0m \u001b[32m━━━━━━━━━━━━━━━━━━━━\u001b[0m\u001b[37m\u001b[0m \u001b[1m4s\u001b[0m 378ms/step - accuracy: 0.4827 - loss: 0.6939\n",
      "Epoch 3/10\n",
      "\u001b[1m11/11\u001b[0m \u001b[32m━━━━━━━━━━━━━━━━━━━━\u001b[0m\u001b[37m\u001b[0m \u001b[1m4s\u001b[0m 371ms/step - accuracy: 0.4656 - loss: 0.6938\n",
      "Epoch 4/10\n",
      "\u001b[1m11/11\u001b[0m \u001b[32m━━━━━━━━━━━━━━━━━━━━\u001b[0m\u001b[37m\u001b[0m \u001b[1m4s\u001b[0m 364ms/step - accuracy: 0.5069 - loss: 0.6932\n",
      "\u001b[1m6/6\u001b[0m \u001b[32m━━━━━━━━━━━━━━━━━━━━\u001b[0m\u001b[37m\u001b[0m \u001b[1m2s\u001b[0m 263ms/step\n",
      "kw {}\n",
      "create mod: d_rate 0.18147259571764807 d_rate2  0.05214540856840225 LSTM  256 dim  200 lr  1.0132161537953078e-06\n",
      "Epoch 1/10\n"
     ]
    },
    {
     "name": "stderr",
     "output_type": "stream",
     "text": [
      "C:\\Users\\mrbvb\\AppData\\Local\\Temp\\ipykernel_26724\\2049930526.py:16: FutureWarning: suggest_uniform has been deprecated in v3.0.0. This feature will be removed in v6.0.0. See https://github.com/optuna/optuna/releases/tag/v3.0.0. Use suggest_float instead.\n",
      "  dropout_rate = trial.suggest_uniform('dropout_rate', 0.09, 0.3)\n",
      "c:\\Users\\mrbvb\\AppData\\Local\\Programs\\Python\\Python311\\Lib\\site-packages\\optuna\\trial\\_trial.py:676: RuntimeWarning: Inconsistent parameter values for distribution with name \"dropout_rate\"! This might be a configuration mistake. Optuna allows to call the same distribution with the same name more than once in a trial. When the parameter values are inconsistent optuna only uses the values of the first call and ignores all following. Using these values: {'step': None, 'low': 0.05, 'high': 0.3, 'log': False}\n",
      "  warnings.warn(\n",
      "C:\\Users\\mrbvb\\AppData\\Local\\Temp\\ipykernel_26724\\2049930526.py:17: FutureWarning: suggest_uniform has been deprecated in v3.0.0. This feature will be removed in v6.0.0. See https://github.com/optuna/optuna/releases/tag/v3.0.0. Use suggest_float instead.\n",
      "  dropout_rate2 = trial.suggest_uniform('dropout_rate2', 0.05, 0.2)\n",
      "c:\\Users\\mrbvb\\AppData\\Local\\Programs\\Python\\Python311\\Lib\\site-packages\\optuna\\trial\\_trial.py:676: RuntimeWarning: Inconsistent parameter values for distribution with name \"dropout_rate2\"! This might be a configuration mistake. Optuna allows to call the same distribution with the same name more than once in a trial. When the parameter values are inconsistent optuna only uses the values of the first call and ignores all following. Using these values: {'step': None, 'low': 0.05, 'high': 0.1, 'log': False}\n",
      "  warnings.warn(\n",
      "C:\\Users\\mrbvb\\AppData\\Local\\Temp\\ipykernel_26724\\2049930526.py:20: FutureWarning: suggest_loguniform has been deprecated in v3.0.0. This feature will be removed in v6.0.0. See https://github.com/optuna/optuna/releases/tag/v3.0.0. Use suggest_float(..., log=True) instead.\n",
      "  learning_rate = trial.suggest_loguniform('learning_rate', 1e-6, 1e-3)\n",
      "c:\\Users\\mrbvb\\AppData\\Local\\Programs\\Python\\Python311\\Lib\\site-packages\\keras\\src\\layers\\core\\embedding.py:86: UserWarning: Argument `input_length` is deprecated. Just remove it.\n",
      "  warnings.warn(\n"
     ]
    },
    {
     "name": "stdout",
     "output_type": "stream",
     "text": [
      "\u001b[1m11/11\u001b[0m \u001b[32m━━━━━━━━━━━━━━━━━━━━\u001b[0m\u001b[37m\u001b[0m \u001b[1m8s\u001b[0m 359ms/step - accuracy: 0.4336 - loss: 0.6941\n",
      "Epoch 2/10\n",
      "\u001b[1m11/11\u001b[0m \u001b[32m━━━━━━━━━━━━━━━━━━━━\u001b[0m\u001b[37m\u001b[0m \u001b[1m4s\u001b[0m 356ms/step - accuracy: 0.4779 - loss: 0.6933\n",
      "Epoch 3/10\n",
      "\u001b[1m11/11\u001b[0m \u001b[32m━━━━━━━━━━━━━━━━━━━━\u001b[0m\u001b[37m\u001b[0m \u001b[1m4s\u001b[0m 352ms/step - accuracy: 0.5485 - loss: 0.6930\n",
      "Epoch 4/10\n",
      "\u001b[1m11/11\u001b[0m \u001b[32m━━━━━━━━━━━━━━━━━━━━\u001b[0m\u001b[37m\u001b[0m \u001b[1m4s\u001b[0m 360ms/step - accuracy: 0.4736 - loss: 0.6935\n",
      "Epoch 5/10\n",
      "\u001b[1m11/11\u001b[0m \u001b[32m━━━━━━━━━━━━━━━━━━━━\u001b[0m\u001b[37m\u001b[0m \u001b[1m4s\u001b[0m 357ms/step - accuracy: 0.4954 - loss: 0.6933\n",
      "Epoch 6/10\n",
      "\u001b[1m11/11\u001b[0m \u001b[32m━━━━━━━━━━━━━━━━━━━━\u001b[0m\u001b[37m\u001b[0m \u001b[1m4s\u001b[0m 353ms/step - accuracy: 0.5069 - loss: 0.6932\n",
      "Epoch 7/10\n",
      "\u001b[1m11/11\u001b[0m \u001b[32m━━━━━━━━━━━━━━━━━━━━\u001b[0m\u001b[37m\u001b[0m \u001b[1m4s\u001b[0m 361ms/step - accuracy: 0.4845 - loss: 0.6935\n",
      "Epoch 8/10\n",
      "\u001b[1m11/11\u001b[0m \u001b[32m━━━━━━━━━━━━━━━━━━━━\u001b[0m\u001b[37m\u001b[0m \u001b[1m4s\u001b[0m 360ms/step - accuracy: 0.5319 - loss: 0.6931\n",
      "Epoch 9/10\n",
      "\u001b[1m11/11\u001b[0m \u001b[32m━━━━━━━━━━━━━━━━━━━━\u001b[0m\u001b[37m\u001b[0m \u001b[1m4s\u001b[0m 354ms/step - accuracy: 0.4873 - loss: 0.6935\n",
      "Epoch 10/10\n",
      "\u001b[1m11/11\u001b[0m \u001b[32m━━━━━━━━━━━━━━━━━━━━\u001b[0m\u001b[37m\u001b[0m \u001b[1m4s\u001b[0m 358ms/step - accuracy: 0.4389 - loss: 0.6936\n",
      "\u001b[1m6/6\u001b[0m \u001b[32m━━━━━━━━━━━━━━━━━━━━\u001b[0m\u001b[37m\u001b[0m \u001b[1m2s\u001b[0m 258ms/step\n",
      "kw {}\n",
      "create mod: d_rate 0.18147259571764807 d_rate2  0.05214540856840225 LSTM  256 dim  200 lr  1.0132161537953078e-06\n",
      "Epoch 1/10\n"
     ]
    },
    {
     "name": "stderr",
     "output_type": "stream",
     "text": [
      "C:\\Users\\mrbvb\\AppData\\Local\\Temp\\ipykernel_26724\\2049930526.py:16: FutureWarning: suggest_uniform has been deprecated in v3.0.0. This feature will be removed in v6.0.0. See https://github.com/optuna/optuna/releases/tag/v3.0.0. Use suggest_float instead.\n",
      "  dropout_rate = trial.suggest_uniform('dropout_rate', 0.09, 0.3)\n",
      "c:\\Users\\mrbvb\\AppData\\Local\\Programs\\Python\\Python311\\Lib\\site-packages\\optuna\\trial\\_trial.py:676: RuntimeWarning: Inconsistent parameter values for distribution with name \"dropout_rate\"! This might be a configuration mistake. Optuna allows to call the same distribution with the same name more than once in a trial. When the parameter values are inconsistent optuna only uses the values of the first call and ignores all following. Using these values: {'step': None, 'low': 0.05, 'high': 0.3, 'log': False}\n",
      "  warnings.warn(\n",
      "C:\\Users\\mrbvb\\AppData\\Local\\Temp\\ipykernel_26724\\2049930526.py:17: FutureWarning: suggest_uniform has been deprecated in v3.0.0. This feature will be removed in v6.0.0. See https://github.com/optuna/optuna/releases/tag/v3.0.0. Use suggest_float instead.\n",
      "  dropout_rate2 = trial.suggest_uniform('dropout_rate2', 0.05, 0.2)\n",
      "c:\\Users\\mrbvb\\AppData\\Local\\Programs\\Python\\Python311\\Lib\\site-packages\\optuna\\trial\\_trial.py:676: RuntimeWarning: Inconsistent parameter values for distribution with name \"dropout_rate2\"! This might be a configuration mistake. Optuna allows to call the same distribution with the same name more than once in a trial. When the parameter values are inconsistent optuna only uses the values of the first call and ignores all following. Using these values: {'step': None, 'low': 0.05, 'high': 0.1, 'log': False}\n",
      "  warnings.warn(\n",
      "C:\\Users\\mrbvb\\AppData\\Local\\Temp\\ipykernel_26724\\2049930526.py:20: FutureWarning: suggest_loguniform has been deprecated in v3.0.0. This feature will be removed in v6.0.0. See https://github.com/optuna/optuna/releases/tag/v3.0.0. Use suggest_float(..., log=True) instead.\n",
      "  learning_rate = trial.suggest_loguniform('learning_rate', 1e-6, 1e-3)\n",
      "c:\\Users\\mrbvb\\AppData\\Local\\Programs\\Python\\Python311\\Lib\\site-packages\\keras\\src\\layers\\core\\embedding.py:86: UserWarning: Argument `input_length` is deprecated. Just remove it.\n",
      "  warnings.warn(\n"
     ]
    },
    {
     "name": "stdout",
     "output_type": "stream",
     "text": [
      "\u001b[1m11/11\u001b[0m \u001b[32m━━━━━━━━━━━━━━━━━━━━\u001b[0m\u001b[37m\u001b[0m \u001b[1m9s\u001b[0m 404ms/step - accuracy: 0.4703 - loss: 0.6935\n",
      "Epoch 2/10\n",
      "\u001b[1m11/11\u001b[0m \u001b[32m━━━━━━━━━━━━━━━━━━━━\u001b[0m\u001b[37m\u001b[0m \u001b[1m4s\u001b[0m 399ms/step - accuracy: 0.4353 - loss: 0.6936\n",
      "Epoch 3/10\n",
      "\u001b[1m11/11\u001b[0m \u001b[32m━━━━━━━━━━━━━━━━━━━━\u001b[0m\u001b[37m\u001b[0m \u001b[1m4s\u001b[0m 399ms/step - accuracy: 0.4657 - loss: 0.6933\n",
      "Epoch 4/10\n",
      "\u001b[1m11/11\u001b[0m \u001b[32m━━━━━━━━━━━━━━━━━━━━\u001b[0m\u001b[37m\u001b[0m \u001b[1m4s\u001b[0m 403ms/step - accuracy: 0.4910 - loss: 0.6934\n",
      "\u001b[1m6/6\u001b[0m \u001b[32m━━━━━━━━━━━━━━━━━━━━\u001b[0m\u001b[37m\u001b[0m \u001b[1m2s\u001b[0m 269ms/step\n"
     ]
    },
    {
     "name": "stderr",
     "output_type": "stream",
     "text": [
      "[I 2024-04-30 17:28:17,747] Trial 9 finished with value: 0.5662193958664546 and parameters: {'dropout_rate': 0.18147259571764807, 'dropout_rate2': 0.05214540856840225, 'LSTM_units': 256, 'EMBEDDING_DIM': 200, 'learning_rate': 1.0132161537953078e-06}. Best is trial 8 with value: 0.7580995336558741.\n"
     ]
    },
    {
     "name": "stdout",
     "output_type": "stream",
     "text": [
      "objectiving\n",
      "kw {}\n",
      "kw {}\n",
      "create mod: d_rate 0.15173513876939013 d_rate2  0.0999175155233371 LSTM  128 dim  200 lr  0.00015211229739829052\n",
      "Epoch 1/10\n"
     ]
    },
    {
     "name": "stderr",
     "output_type": "stream",
     "text": [
      "C:\\Users\\mrbvb\\AppData\\Local\\Temp\\ipykernel_26724\\2049930526.py:63: FutureWarning: suggest_uniform has been deprecated in v3.0.0. This feature will be removed in v6.0.0. See https://github.com/optuna/optuna/releases/tag/v3.0.0. Use suggest_float instead.\n",
      "  dropout_rate = trial.suggest_uniform('dropout_rate', 0.05, 0.3) #value should be from small to large only\n",
      "C:\\Users\\mrbvb\\AppData\\Local\\Temp\\ipykernel_26724\\2049930526.py:64: FutureWarning: suggest_uniform has been deprecated in v3.0.0. This feature will be removed in v6.0.0. See https://github.com/optuna/optuna/releases/tag/v3.0.0. Use suggest_float instead.\n",
      "  dropout_rate2 = trial.suggest_uniform('dropout_rate2', 0.05, 0.1)\n",
      "C:\\Users\\mrbvb\\AppData\\Local\\Temp\\ipykernel_26724\\2049930526.py:67: FutureWarning: suggest_loguniform has been deprecated in v3.0.0. This feature will be removed in v6.0.0. See https://github.com/optuna/optuna/releases/tag/v3.0.0. Use suggest_float(..., log=True) instead.\n",
      "  learning_rate = trial.suggest_loguniform('learning_rate', 1e-6, 1e-3)\n",
      "C:\\Users\\mrbvb\\AppData\\Local\\Temp\\ipykernel_26724\\2049930526.py:16: FutureWarning: suggest_uniform has been deprecated in v3.0.0. This feature will be removed in v6.0.0. See https://github.com/optuna/optuna/releases/tag/v3.0.0. Use suggest_float instead.\n",
      "  dropout_rate = trial.suggest_uniform('dropout_rate', 0.09, 0.3)\n",
      "c:\\Users\\mrbvb\\AppData\\Local\\Programs\\Python\\Python311\\Lib\\site-packages\\optuna\\trial\\_trial.py:676: RuntimeWarning: Inconsistent parameter values for distribution with name \"dropout_rate\"! This might be a configuration mistake. Optuna allows to call the same distribution with the same name more than once in a trial. When the parameter values are inconsistent optuna only uses the values of the first call and ignores all following. Using these values: {'step': None, 'low': 0.05, 'high': 0.3, 'log': False}\n",
      "  warnings.warn(\n",
      "C:\\Users\\mrbvb\\AppData\\Local\\Temp\\ipykernel_26724\\2049930526.py:17: FutureWarning: suggest_uniform has been deprecated in v3.0.0. This feature will be removed in v6.0.0. See https://github.com/optuna/optuna/releases/tag/v3.0.0. Use suggest_float instead.\n",
      "  dropout_rate2 = trial.suggest_uniform('dropout_rate2', 0.05, 0.2)\n",
      "c:\\Users\\mrbvb\\AppData\\Local\\Programs\\Python\\Python311\\Lib\\site-packages\\optuna\\trial\\_trial.py:676: RuntimeWarning: Inconsistent parameter values for distribution with name \"dropout_rate2\"! This might be a configuration mistake. Optuna allows to call the same distribution with the same name more than once in a trial. When the parameter values are inconsistent optuna only uses the values of the first call and ignores all following. Using these values: {'step': None, 'low': 0.05, 'high': 0.1, 'log': False}\n",
      "  warnings.warn(\n",
      "C:\\Users\\mrbvb\\AppData\\Local\\Temp\\ipykernel_26724\\2049930526.py:20: FutureWarning: suggest_loguniform has been deprecated in v3.0.0. This feature will be removed in v6.0.0. See https://github.com/optuna/optuna/releases/tag/v3.0.0. Use suggest_float(..., log=True) instead.\n",
      "  learning_rate = trial.suggest_loguniform('learning_rate', 1e-6, 1e-3)\n",
      "c:\\Users\\mrbvb\\AppData\\Local\\Programs\\Python\\Python311\\Lib\\site-packages\\keras\\src\\layers\\core\\embedding.py:86: UserWarning: Argument `input_length` is deprecated. Just remove it.\n",
      "  warnings.warn(\n"
     ]
    },
    {
     "name": "stdout",
     "output_type": "stream",
     "text": [
      "\u001b[1m11/11\u001b[0m \u001b[32m━━━━━━━━━━━━━━━━━━━━\u001b[0m\u001b[37m\u001b[0m \u001b[1m6s\u001b[0m 184ms/step - accuracy: 0.4909 - loss: 0.6941\n",
      "Epoch 2/10\n",
      "\u001b[1m11/11\u001b[0m \u001b[32m━━━━━━━━━━━━━━━━━━━━\u001b[0m\u001b[37m\u001b[0m \u001b[1m2s\u001b[0m 182ms/step - accuracy: 0.4931 - loss: 0.6903\n",
      "Epoch 3/10\n",
      "\u001b[1m11/11\u001b[0m \u001b[32m━━━━━━━━━━━━━━━━━━━━\u001b[0m\u001b[37m\u001b[0m \u001b[1m2s\u001b[0m 183ms/step - accuracy: 0.5069 - loss: 0.6865\n",
      "Epoch 4/10\n",
      "\u001b[1m11/11\u001b[0m \u001b[32m━━━━━━━━━━━━━━━━━━━━\u001b[0m\u001b[37m\u001b[0m \u001b[1m2s\u001b[0m 152ms/step - accuracy: 0.5205 - loss: 0.6785\n",
      "Epoch 5/10\n",
      "\u001b[1m11/11\u001b[0m \u001b[32m━━━━━━━━━━━━━━━━━━━━\u001b[0m\u001b[37m\u001b[0m \u001b[1m2s\u001b[0m 153ms/step - accuracy: 0.5476 - loss: 0.6686\n",
      "Epoch 6/10\n",
      "\u001b[1m11/11\u001b[0m \u001b[32m━━━━━━━━━━━━━━━━━━━━\u001b[0m\u001b[37m\u001b[0m \u001b[1m2s\u001b[0m 151ms/step - accuracy: 0.7233 - loss: 0.6299\n",
      "Epoch 7/10\n",
      "\u001b[1m11/11\u001b[0m \u001b[32m━━━━━━━━━━━━━━━━━━━━\u001b[0m\u001b[37m\u001b[0m \u001b[1m2s\u001b[0m 152ms/step - accuracy: 0.8380 - loss: 0.5513\n",
      "Epoch 8/10\n",
      "\u001b[1m11/11\u001b[0m \u001b[32m━━━━━━━━━━━━━━━━━━━━\u001b[0m\u001b[37m\u001b[0m \u001b[1m2s\u001b[0m 152ms/step - accuracy: 0.8733 - loss: 0.4568\n",
      "Epoch 9/10\n",
      "\u001b[1m11/11\u001b[0m \u001b[32m━━━━━━━━━━━━━━━━━━━━\u001b[0m\u001b[37m\u001b[0m \u001b[1m2s\u001b[0m 149ms/step - accuracy: 0.9141 - loss: 0.3090\n",
      "Epoch 10/10\n",
      "\u001b[1m11/11\u001b[0m \u001b[32m━━━━━━━━━━━━━━━━━━━━\u001b[0m\u001b[37m\u001b[0m \u001b[1m2s\u001b[0m 150ms/step - accuracy: 0.9590 - loss: 0.1891\n",
      "\u001b[1m6/6\u001b[0m \u001b[32m━━━━━━━━━━━━━━━━━━━━\u001b[0m\u001b[37m\u001b[0m \u001b[1m1s\u001b[0m 191ms/step\n",
      "kw {}\n",
      "create mod: d_rate 0.15173513876939013 d_rate2  0.0999175155233371 LSTM  128 dim  200 lr  0.00015211229739829052\n",
      "Epoch 1/10\n"
     ]
    },
    {
     "name": "stderr",
     "output_type": "stream",
     "text": [
      "C:\\Users\\mrbvb\\AppData\\Local\\Temp\\ipykernel_26724\\2049930526.py:16: FutureWarning: suggest_uniform has been deprecated in v3.0.0. This feature will be removed in v6.0.0. See https://github.com/optuna/optuna/releases/tag/v3.0.0. Use suggest_float instead.\n",
      "  dropout_rate = trial.suggest_uniform('dropout_rate', 0.09, 0.3)\n",
      "c:\\Users\\mrbvb\\AppData\\Local\\Programs\\Python\\Python311\\Lib\\site-packages\\optuna\\trial\\_trial.py:676: RuntimeWarning: Inconsistent parameter values for distribution with name \"dropout_rate\"! This might be a configuration mistake. Optuna allows to call the same distribution with the same name more than once in a trial. When the parameter values are inconsistent optuna only uses the values of the first call and ignores all following. Using these values: {'step': None, 'low': 0.05, 'high': 0.3, 'log': False}\n",
      "  warnings.warn(\n",
      "C:\\Users\\mrbvb\\AppData\\Local\\Temp\\ipykernel_26724\\2049930526.py:17: FutureWarning: suggest_uniform has been deprecated in v3.0.0. This feature will be removed in v6.0.0. See https://github.com/optuna/optuna/releases/tag/v3.0.0. Use suggest_float instead.\n",
      "  dropout_rate2 = trial.suggest_uniform('dropout_rate2', 0.05, 0.2)\n",
      "c:\\Users\\mrbvb\\AppData\\Local\\Programs\\Python\\Python311\\Lib\\site-packages\\optuna\\trial\\_trial.py:676: RuntimeWarning: Inconsistent parameter values for distribution with name \"dropout_rate2\"! This might be a configuration mistake. Optuna allows to call the same distribution with the same name more than once in a trial. When the parameter values are inconsistent optuna only uses the values of the first call and ignores all following. Using these values: {'step': None, 'low': 0.05, 'high': 0.1, 'log': False}\n",
      "  warnings.warn(\n",
      "C:\\Users\\mrbvb\\AppData\\Local\\Temp\\ipykernel_26724\\2049930526.py:20: FutureWarning: suggest_loguniform has been deprecated in v3.0.0. This feature will be removed in v6.0.0. See https://github.com/optuna/optuna/releases/tag/v3.0.0. Use suggest_float(..., log=True) instead.\n",
      "  learning_rate = trial.suggest_loguniform('learning_rate', 1e-6, 1e-3)\n",
      "c:\\Users\\mrbvb\\AppData\\Local\\Programs\\Python\\Python311\\Lib\\site-packages\\keras\\src\\layers\\core\\embedding.py:86: UserWarning: Argument `input_length` is deprecated. Just remove it.\n",
      "  warnings.warn(\n"
     ]
    },
    {
     "name": "stdout",
     "output_type": "stream",
     "text": [
      "\u001b[1m11/11\u001b[0m \u001b[32m━━━━━━━━━━━━━━━━━━━━\u001b[0m\u001b[37m\u001b[0m \u001b[1m6s\u001b[0m 182ms/step - accuracy: 0.5261 - loss: 0.6929\n",
      "Epoch 2/10\n",
      "\u001b[1m11/11\u001b[0m \u001b[32m━━━━━━━━━━━━━━━━━━━━\u001b[0m\u001b[37m\u001b[0m \u001b[1m2s\u001b[0m 148ms/step - accuracy: 0.5031 - loss: 0.6913\n",
      "Epoch 3/10\n",
      "\u001b[1m11/11\u001b[0m \u001b[32m━━━━━━━━━━━━━━━━━━━━\u001b[0m\u001b[37m\u001b[0m \u001b[1m2s\u001b[0m 145ms/step - accuracy: 0.5421 - loss: 0.6898\n",
      "Epoch 4/10\n",
      "\u001b[1m11/11\u001b[0m \u001b[32m━━━━━━━━━━━━━━━━━━━━\u001b[0m\u001b[37m\u001b[0m \u001b[1m2s\u001b[0m 147ms/step - accuracy: 0.6855 - loss: 0.6861\n",
      "Epoch 5/10\n",
      "\u001b[1m11/11\u001b[0m \u001b[32m━━━━━━━━━━━━━━━━━━━━\u001b[0m\u001b[37m\u001b[0m \u001b[1m2s\u001b[0m 146ms/step - accuracy: 0.7244 - loss: 0.6799\n",
      "Epoch 6/10\n",
      "\u001b[1m11/11\u001b[0m \u001b[32m━━━━━━━━━━━━━━━━━━━━\u001b[0m\u001b[37m\u001b[0m \u001b[1m2s\u001b[0m 147ms/step - accuracy: 0.8792 - loss: 0.6604\n",
      "Epoch 7/10\n",
      "\u001b[1m11/11\u001b[0m \u001b[32m━━━━━━━━━━━━━━━━━━━━\u001b[0m\u001b[37m\u001b[0m \u001b[1m2s\u001b[0m 147ms/step - accuracy: 0.8716 - loss: 0.6072\n",
      "Epoch 8/10\n",
      "\u001b[1m11/11\u001b[0m \u001b[32m━━━━━━━━━━━━━━━━━━━━\u001b[0m\u001b[37m\u001b[0m \u001b[1m2s\u001b[0m 146ms/step - accuracy: 0.8521 - loss: 0.4749\n",
      "Epoch 9/10\n",
      "\u001b[1m11/11\u001b[0m \u001b[32m━━━━━━━━━━━━━━━━━━━━\u001b[0m\u001b[37m\u001b[0m \u001b[1m2s\u001b[0m 149ms/step - accuracy: 0.9067 - loss: 0.3730\n",
      "Epoch 10/10\n",
      "\u001b[1m11/11\u001b[0m \u001b[32m━━━━━━━━━━━━━━━━━━━━\u001b[0m\u001b[37m\u001b[0m \u001b[1m2s\u001b[0m 149ms/step - accuracy: 0.9299 - loss: 0.2585\n",
      "\u001b[1m6/6\u001b[0m \u001b[32m━━━━━━━━━━━━━━━━━━━━\u001b[0m\u001b[37m\u001b[0m \u001b[1m1s\u001b[0m 184ms/step\n",
      "kw {}\n",
      "create mod: d_rate 0.15173513876939013 d_rate2  0.0999175155233371 LSTM  128 dim  200 lr  0.00015211229739829052\n",
      "Epoch 1/10\n"
     ]
    },
    {
     "name": "stderr",
     "output_type": "stream",
     "text": [
      "C:\\Users\\mrbvb\\AppData\\Local\\Temp\\ipykernel_26724\\2049930526.py:16: FutureWarning: suggest_uniform has been deprecated in v3.0.0. This feature will be removed in v6.0.0. See https://github.com/optuna/optuna/releases/tag/v3.0.0. Use suggest_float instead.\n",
      "  dropout_rate = trial.suggest_uniform('dropout_rate', 0.09, 0.3)\n",
      "c:\\Users\\mrbvb\\AppData\\Local\\Programs\\Python\\Python311\\Lib\\site-packages\\optuna\\trial\\_trial.py:676: RuntimeWarning: Inconsistent parameter values for distribution with name \"dropout_rate\"! This might be a configuration mistake. Optuna allows to call the same distribution with the same name more than once in a trial. When the parameter values are inconsistent optuna only uses the values of the first call and ignores all following. Using these values: {'step': None, 'low': 0.05, 'high': 0.3, 'log': False}\n",
      "  warnings.warn(\n",
      "C:\\Users\\mrbvb\\AppData\\Local\\Temp\\ipykernel_26724\\2049930526.py:17: FutureWarning: suggest_uniform has been deprecated in v3.0.0. This feature will be removed in v6.0.0. See https://github.com/optuna/optuna/releases/tag/v3.0.0. Use suggest_float instead.\n",
      "  dropout_rate2 = trial.suggest_uniform('dropout_rate2', 0.05, 0.2)\n",
      "c:\\Users\\mrbvb\\AppData\\Local\\Programs\\Python\\Python311\\Lib\\site-packages\\optuna\\trial\\_trial.py:676: RuntimeWarning: Inconsistent parameter values for distribution with name \"dropout_rate2\"! This might be a configuration mistake. Optuna allows to call the same distribution with the same name more than once in a trial. When the parameter values are inconsistent optuna only uses the values of the first call and ignores all following. Using these values: {'step': None, 'low': 0.05, 'high': 0.1, 'log': False}\n",
      "  warnings.warn(\n",
      "C:\\Users\\mrbvb\\AppData\\Local\\Temp\\ipykernel_26724\\2049930526.py:20: FutureWarning: suggest_loguniform has been deprecated in v3.0.0. This feature will be removed in v6.0.0. See https://github.com/optuna/optuna/releases/tag/v3.0.0. Use suggest_float(..., log=True) instead.\n",
      "  learning_rate = trial.suggest_loguniform('learning_rate', 1e-6, 1e-3)\n",
      "c:\\Users\\mrbvb\\AppData\\Local\\Programs\\Python\\Python311\\Lib\\site-packages\\keras\\src\\layers\\core\\embedding.py:86: UserWarning: Argument `input_length` is deprecated. Just remove it.\n",
      "  warnings.warn(\n"
     ]
    },
    {
     "name": "stdout",
     "output_type": "stream",
     "text": [
      "\u001b[1m11/11\u001b[0m \u001b[32m━━━━━━━━━━━━━━━━━━━━\u001b[0m\u001b[37m\u001b[0m \u001b[1m6s\u001b[0m 159ms/step - accuracy: 0.4460 - loss: 0.6951\n",
      "Epoch 2/10\n",
      "\u001b[1m11/11\u001b[0m \u001b[32m━━━━━━━━━━━━━━━━━━━━\u001b[0m\u001b[37m\u001b[0m \u001b[1m2s\u001b[0m 143ms/step - accuracy: 0.5206 - loss: 0.6917\n",
      "Epoch 3/10\n",
      "\u001b[1m11/11\u001b[0m \u001b[32m━━━━━━━━━━━━━━━━━━━━\u001b[0m\u001b[37m\u001b[0m \u001b[1m2s\u001b[0m 144ms/step - accuracy: 0.5541 - loss: 0.6863\n",
      "Epoch 4/10\n",
      "\u001b[1m11/11\u001b[0m \u001b[32m━━━━━━━━━━━━━━━━━━━━\u001b[0m\u001b[37m\u001b[0m \u001b[1m2s\u001b[0m 142ms/step - accuracy: 0.5319 - loss: 0.6837\n",
      "Epoch 5/10\n",
      "\u001b[1m11/11\u001b[0m \u001b[32m━━━━━━━━━━━━━━━━━━━━\u001b[0m\u001b[37m\u001b[0m \u001b[1m2s\u001b[0m 144ms/step - accuracy: 0.5133 - loss: 0.6821\n",
      "Epoch 6/10\n",
      "\u001b[1m11/11\u001b[0m \u001b[32m━━━━━━━━━━━━━━━━━━━━\u001b[0m\u001b[37m\u001b[0m \u001b[1m2s\u001b[0m 144ms/step - accuracy: 0.5819 - loss: 0.6623\n",
      "Epoch 7/10\n",
      "\u001b[1m11/11\u001b[0m \u001b[32m━━━━━━━━━━━━━━━━━━━━\u001b[0m\u001b[37m\u001b[0m \u001b[1m2s\u001b[0m 145ms/step - accuracy: 0.6680 - loss: 0.6166\n",
      "Epoch 8/10\n",
      "\u001b[1m11/11\u001b[0m \u001b[32m━━━━━━━━━━━━━━━━━━━━\u001b[0m\u001b[37m\u001b[0m \u001b[1m2s\u001b[0m 143ms/step - accuracy: 0.7807 - loss: 0.5345\n",
      "Epoch 9/10\n",
      "\u001b[1m11/11\u001b[0m \u001b[32m━━━━━━━━━━━━━━━━━━━━\u001b[0m\u001b[37m\u001b[0m \u001b[1m2s\u001b[0m 144ms/step - accuracy: 0.8414 - loss: 0.4020\n",
      "Epoch 10/10\n",
      "\u001b[1m11/11\u001b[0m \u001b[32m━━━━━━━━━━━━━━━━━━━━\u001b[0m\u001b[37m\u001b[0m \u001b[1m2s\u001b[0m 143ms/step - accuracy: 0.9698 - loss: 0.2280\n",
      "\u001b[1m6/6\u001b[0m \u001b[32m━━━━━━━━━━━━━━━━━━━━\u001b[0m\u001b[37m\u001b[0m \u001b[1m1s\u001b[0m 178ms/step\n",
      "result score f1 fuc -0.7686275947618961\n",
      "kw {}\n",
      "create mod: d_rate 0.15173513876939013 d_rate2  0.0999175155233371 LSTM  128 dim  200 lr  0.00015211229739829052\n",
      "Epoch 1/10\n"
     ]
    },
    {
     "name": "stderr",
     "output_type": "stream",
     "text": [
      "C:\\Users\\mrbvb\\AppData\\Local\\Temp\\ipykernel_26724\\2049930526.py:16: FutureWarning: suggest_uniform has been deprecated in v3.0.0. This feature will be removed in v6.0.0. See https://github.com/optuna/optuna/releases/tag/v3.0.0. Use suggest_float instead.\n",
      "  dropout_rate = trial.suggest_uniform('dropout_rate', 0.09, 0.3)\n",
      "c:\\Users\\mrbvb\\AppData\\Local\\Programs\\Python\\Python311\\Lib\\site-packages\\optuna\\trial\\_trial.py:676: RuntimeWarning: Inconsistent parameter values for distribution with name \"dropout_rate\"! This might be a configuration mistake. Optuna allows to call the same distribution with the same name more than once in a trial. When the parameter values are inconsistent optuna only uses the values of the first call and ignores all following. Using these values: {'step': None, 'low': 0.05, 'high': 0.3, 'log': False}\n",
      "  warnings.warn(\n",
      "C:\\Users\\mrbvb\\AppData\\Local\\Temp\\ipykernel_26724\\2049930526.py:17: FutureWarning: suggest_uniform has been deprecated in v3.0.0. This feature will be removed in v6.0.0. See https://github.com/optuna/optuna/releases/tag/v3.0.0. Use suggest_float instead.\n",
      "  dropout_rate2 = trial.suggest_uniform('dropout_rate2', 0.05, 0.2)\n",
      "c:\\Users\\mrbvb\\AppData\\Local\\Programs\\Python\\Python311\\Lib\\site-packages\\optuna\\trial\\_trial.py:676: RuntimeWarning: Inconsistent parameter values for distribution with name \"dropout_rate2\"! This might be a configuration mistake. Optuna allows to call the same distribution with the same name more than once in a trial. When the parameter values are inconsistent optuna only uses the values of the first call and ignores all following. Using these values: {'step': None, 'low': 0.05, 'high': 0.1, 'log': False}\n",
      "  warnings.warn(\n",
      "C:\\Users\\mrbvb\\AppData\\Local\\Temp\\ipykernel_26724\\2049930526.py:20: FutureWarning: suggest_loguniform has been deprecated in v3.0.0. This feature will be removed in v6.0.0. See https://github.com/optuna/optuna/releases/tag/v3.0.0. Use suggest_float(..., log=True) instead.\n",
      "  learning_rate = trial.suggest_loguniform('learning_rate', 1e-6, 1e-3)\n",
      "c:\\Users\\mrbvb\\AppData\\Local\\Programs\\Python\\Python311\\Lib\\site-packages\\keras\\src\\layers\\core\\embedding.py:86: UserWarning: Argument `input_length` is deprecated. Just remove it.\n",
      "  warnings.warn(\n"
     ]
    },
    {
     "name": "stdout",
     "output_type": "stream",
     "text": [
      "\u001b[1m11/11\u001b[0m \u001b[32m━━━━━━━━━━━━━━━━━━━━\u001b[0m\u001b[37m\u001b[0m \u001b[1m6s\u001b[0m 177ms/step - accuracy: 0.5015 - loss: 0.6928\n",
      "Epoch 2/10\n",
      "\u001b[1m11/11\u001b[0m \u001b[32m━━━━━━━━━━━━━━━━━━━━\u001b[0m\u001b[37m\u001b[0m \u001b[1m2s\u001b[0m 147ms/step - accuracy: 0.5587 - loss: 0.6908\n",
      "Epoch 3/10\n",
      "\u001b[1m11/11\u001b[0m \u001b[32m━━━━━━━━━━━━━━━━━━━━\u001b[0m\u001b[37m\u001b[0m \u001b[1m2s\u001b[0m 145ms/step - accuracy: 0.5429 - loss: 0.6867\n",
      "Epoch 4/10\n",
      "\u001b[1m11/11\u001b[0m \u001b[32m━━━━━━━━━━━━━━━━━━━━\u001b[0m\u001b[37m\u001b[0m \u001b[1m2s\u001b[0m 143ms/step - accuracy: 0.4714 - loss: 0.6905\n",
      "Epoch 5/10\n",
      "\u001b[1m11/11\u001b[0m \u001b[32m━━━━━━━━━━━━━━━━━━━━\u001b[0m\u001b[37m\u001b[0m \u001b[1m2s\u001b[0m 140ms/step - accuracy: 0.5180 - loss: 0.6750\n",
      "\u001b[1m6/6\u001b[0m \u001b[32m━━━━━━━━━━━━━━━━━━━━\u001b[0m\u001b[37m\u001b[0m \u001b[1m1s\u001b[0m 187ms/step\n",
      "kw {}\n",
      "create mod: d_rate 0.15173513876939013 d_rate2  0.0999175155233371 LSTM  128 dim  200 lr  0.00015211229739829052\n",
      "Epoch 1/10\n"
     ]
    },
    {
     "name": "stderr",
     "output_type": "stream",
     "text": [
      "C:\\Users\\mrbvb\\AppData\\Local\\Temp\\ipykernel_26724\\2049930526.py:16: FutureWarning: suggest_uniform has been deprecated in v3.0.0. This feature will be removed in v6.0.0. See https://github.com/optuna/optuna/releases/tag/v3.0.0. Use suggest_float instead.\n",
      "  dropout_rate = trial.suggest_uniform('dropout_rate', 0.09, 0.3)\n",
      "c:\\Users\\mrbvb\\AppData\\Local\\Programs\\Python\\Python311\\Lib\\site-packages\\optuna\\trial\\_trial.py:676: RuntimeWarning: Inconsistent parameter values for distribution with name \"dropout_rate\"! This might be a configuration mistake. Optuna allows to call the same distribution with the same name more than once in a trial. When the parameter values are inconsistent optuna only uses the values of the first call and ignores all following. Using these values: {'step': None, 'low': 0.05, 'high': 0.3, 'log': False}\n",
      "  warnings.warn(\n",
      "C:\\Users\\mrbvb\\AppData\\Local\\Temp\\ipykernel_26724\\2049930526.py:17: FutureWarning: suggest_uniform has been deprecated in v3.0.0. This feature will be removed in v6.0.0. See https://github.com/optuna/optuna/releases/tag/v3.0.0. Use suggest_float instead.\n",
      "  dropout_rate2 = trial.suggest_uniform('dropout_rate2', 0.05, 0.2)\n",
      "c:\\Users\\mrbvb\\AppData\\Local\\Programs\\Python\\Python311\\Lib\\site-packages\\optuna\\trial\\_trial.py:676: RuntimeWarning: Inconsistent parameter values for distribution with name \"dropout_rate2\"! This might be a configuration mistake. Optuna allows to call the same distribution with the same name more than once in a trial. When the parameter values are inconsistent optuna only uses the values of the first call and ignores all following. Using these values: {'step': None, 'low': 0.05, 'high': 0.1, 'log': False}\n",
      "  warnings.warn(\n",
      "C:\\Users\\mrbvb\\AppData\\Local\\Temp\\ipykernel_26724\\2049930526.py:20: FutureWarning: suggest_loguniform has been deprecated in v3.0.0. This feature will be removed in v6.0.0. See https://github.com/optuna/optuna/releases/tag/v3.0.0. Use suggest_float(..., log=True) instead.\n",
      "  learning_rate = trial.suggest_loguniform('learning_rate', 1e-6, 1e-3)\n",
      "c:\\Users\\mrbvb\\AppData\\Local\\Programs\\Python\\Python311\\Lib\\site-packages\\keras\\src\\layers\\core\\embedding.py:86: UserWarning: Argument `input_length` is deprecated. Just remove it.\n",
      "  warnings.warn(\n"
     ]
    },
    {
     "name": "stdout",
     "output_type": "stream",
     "text": [
      "\u001b[1m11/11\u001b[0m \u001b[32m━━━━━━━━━━━━━━━━━━━━\u001b[0m\u001b[37m\u001b[0m \u001b[1m7s\u001b[0m 194ms/step - accuracy: 0.4846 - loss: 0.6933\n",
      "Epoch 2/10\n",
      "\u001b[1m11/11\u001b[0m \u001b[32m━━━━━━━━━━━━━━━━━━━━\u001b[0m\u001b[37m\u001b[0m \u001b[1m2s\u001b[0m 192ms/step - accuracy: 0.5636 - loss: 0.6919\n",
      "Epoch 3/10\n",
      "\u001b[1m11/11\u001b[0m \u001b[32m━━━━━━━━━━━━━━━━━━━━\u001b[0m\u001b[37m\u001b[0m \u001b[1m2s\u001b[0m 192ms/step - accuracy: 0.6299 - loss: 0.6899\n",
      "Epoch 4/10\n",
      "\u001b[1m11/11\u001b[0m \u001b[32m━━━━━━━━━━━━━━━━━━━━\u001b[0m\u001b[37m\u001b[0m \u001b[1m2s\u001b[0m 192ms/step - accuracy: 0.7397 - loss: 0.6862\n",
      "Epoch 5/10\n",
      "\u001b[1m11/11\u001b[0m \u001b[32m━━━━━━━━━━━━━━━━━━━━\u001b[0m\u001b[37m\u001b[0m \u001b[1m2s\u001b[0m 192ms/step - accuracy: 0.8324 - loss: 0.6776\n",
      "Epoch 6/10\n",
      "\u001b[1m11/11\u001b[0m \u001b[32m━━━━━━━━━━━━━━━━━━━━\u001b[0m\u001b[37m\u001b[0m \u001b[1m2s\u001b[0m 192ms/step - accuracy: 0.8066 - loss: 0.6585\n",
      "Epoch 7/10\n",
      "\u001b[1m11/11\u001b[0m \u001b[32m━━━━━━━━━━━━━━━━━━━━\u001b[0m\u001b[37m\u001b[0m \u001b[1m2s\u001b[0m 192ms/step - accuracy: 0.8162 - loss: 0.5981\n",
      "Epoch 8/10\n",
      "\u001b[1m11/11\u001b[0m \u001b[32m━━━━━━━━━━━━━━━━━━━━\u001b[0m\u001b[37m\u001b[0m \u001b[1m2s\u001b[0m 195ms/step - accuracy: 0.8275 - loss: 0.4692\n",
      "Epoch 9/10\n",
      "\u001b[1m11/11\u001b[0m \u001b[32m━━━━━━━━━━━━━━━━━━━━\u001b[0m\u001b[37m\u001b[0m \u001b[1m2s\u001b[0m 192ms/step - accuracy: 0.9489 - loss: 0.3290\n",
      "Epoch 10/10\n",
      "\u001b[1m11/11\u001b[0m \u001b[32m━━━━━━━━━━━━━━━━━━━━\u001b[0m\u001b[37m\u001b[0m \u001b[1m2s\u001b[0m 191ms/step - accuracy: 0.9625 - loss: 0.1841\n",
      "\u001b[1m6/6\u001b[0m \u001b[32m━━━━━━━━━━━━━━━━━━━━\u001b[0m\u001b[37m\u001b[0m \u001b[1m2s\u001b[0m 202ms/step\n",
      "kw {}\n",
      "create mod: d_rate 0.15173513876939013 d_rate2  0.0999175155233371 LSTM  128 dim  200 lr  0.00015211229739829052\n",
      "Epoch 1/10\n"
     ]
    },
    {
     "name": "stderr",
     "output_type": "stream",
     "text": [
      "C:\\Users\\mrbvb\\AppData\\Local\\Temp\\ipykernel_26724\\2049930526.py:16: FutureWarning: suggest_uniform has been deprecated in v3.0.0. This feature will be removed in v6.0.0. See https://github.com/optuna/optuna/releases/tag/v3.0.0. Use suggest_float instead.\n",
      "  dropout_rate = trial.suggest_uniform('dropout_rate', 0.09, 0.3)\n",
      "c:\\Users\\mrbvb\\AppData\\Local\\Programs\\Python\\Python311\\Lib\\site-packages\\optuna\\trial\\_trial.py:676: RuntimeWarning: Inconsistent parameter values for distribution with name \"dropout_rate\"! This might be a configuration mistake. Optuna allows to call the same distribution with the same name more than once in a trial. When the parameter values are inconsistent optuna only uses the values of the first call and ignores all following. Using these values: {'step': None, 'low': 0.05, 'high': 0.3, 'log': False}\n",
      "  warnings.warn(\n",
      "C:\\Users\\mrbvb\\AppData\\Local\\Temp\\ipykernel_26724\\2049930526.py:17: FutureWarning: suggest_uniform has been deprecated in v3.0.0. This feature will be removed in v6.0.0. See https://github.com/optuna/optuna/releases/tag/v3.0.0. Use suggest_float instead.\n",
      "  dropout_rate2 = trial.suggest_uniform('dropout_rate2', 0.05, 0.2)\n",
      "c:\\Users\\mrbvb\\AppData\\Local\\Programs\\Python\\Python311\\Lib\\site-packages\\optuna\\trial\\_trial.py:676: RuntimeWarning: Inconsistent parameter values for distribution with name \"dropout_rate2\"! This might be a configuration mistake. Optuna allows to call the same distribution with the same name more than once in a trial. When the parameter values are inconsistent optuna only uses the values of the first call and ignores all following. Using these values: {'step': None, 'low': 0.05, 'high': 0.1, 'log': False}\n",
      "  warnings.warn(\n",
      "C:\\Users\\mrbvb\\AppData\\Local\\Temp\\ipykernel_26724\\2049930526.py:20: FutureWarning: suggest_loguniform has been deprecated in v3.0.0. This feature will be removed in v6.0.0. See https://github.com/optuna/optuna/releases/tag/v3.0.0. Use suggest_float(..., log=True) instead.\n",
      "  learning_rate = trial.suggest_loguniform('learning_rate', 1e-6, 1e-3)\n",
      "c:\\Users\\mrbvb\\AppData\\Local\\Programs\\Python\\Python311\\Lib\\site-packages\\keras\\src\\layers\\core\\embedding.py:86: UserWarning: Argument `input_length` is deprecated. Just remove it.\n",
      "  warnings.warn(\n"
     ]
    },
    {
     "name": "stdout",
     "output_type": "stream",
     "text": [
      "\u001b[1m11/11\u001b[0m \u001b[32m━━━━━━━━━━━━━━━━━━━━\u001b[0m\u001b[37m\u001b[0m \u001b[1m6s\u001b[0m 186ms/step - accuracy: 0.4871 - loss: 0.6928\n",
      "Epoch 2/10\n",
      "\u001b[1m11/11\u001b[0m \u001b[32m━━━━━━━━━━━━━━━━━━━━\u001b[0m\u001b[37m\u001b[0m \u001b[1m2s\u001b[0m 189ms/step - accuracy: 0.5209 - loss: 0.6904\n",
      "Epoch 3/10\n",
      "\u001b[1m11/11\u001b[0m \u001b[32m━━━━━━━━━━━━━━━━━━━━\u001b[0m\u001b[37m\u001b[0m \u001b[1m2s\u001b[0m 188ms/step - accuracy: 0.4951 - loss: 0.6902\n",
      "Epoch 4/10\n",
      "\u001b[1m11/11\u001b[0m \u001b[32m━━━━━━━━━━━━━━━━━━━━\u001b[0m\u001b[37m\u001b[0m \u001b[1m2s\u001b[0m 187ms/step - accuracy: 0.5348 - loss: 0.6824\n",
      "Epoch 5/10\n",
      "\u001b[1m11/11\u001b[0m \u001b[32m━━━━━━━━━━━━━━━━━━━━\u001b[0m\u001b[37m\u001b[0m \u001b[1m2s\u001b[0m 190ms/step - accuracy: 0.5493 - loss: 0.6716\n",
      "Epoch 6/10\n",
      "\u001b[1m11/11\u001b[0m \u001b[32m━━━━━━━━━━━━━━━━━━━━\u001b[0m\u001b[37m\u001b[0m \u001b[1m2s\u001b[0m 188ms/step - accuracy: 0.6453 - loss: 0.6353\n",
      "Epoch 7/10\n",
      "\u001b[1m11/11\u001b[0m \u001b[32m━━━━━━━━━━━━━━━━━━━━\u001b[0m\u001b[37m\u001b[0m \u001b[1m2s\u001b[0m 191ms/step - accuracy: 0.8479 - loss: 0.5901\n",
      "Epoch 8/10\n",
      "\u001b[1m11/11\u001b[0m \u001b[32m━━━━━━━━━━━━━━━━━━━━\u001b[0m\u001b[37m\u001b[0m \u001b[1m2s\u001b[0m 187ms/step - accuracy: 0.8820 - loss: 0.4767\n",
      "Epoch 9/10\n",
      "\u001b[1m11/11\u001b[0m \u001b[32m━━━━━━━━━━━━━━━━━━━━\u001b[0m\u001b[37m\u001b[0m \u001b[1m2s\u001b[0m 186ms/step - accuracy: 0.9513 - loss: 0.3306\n",
      "Epoch 10/10\n",
      "\u001b[1m11/11\u001b[0m \u001b[32m━━━━━━━━━━━━━━━━━━━━\u001b[0m\u001b[37m\u001b[0m \u001b[1m2s\u001b[0m 188ms/step - accuracy: 0.9668 - loss: 0.2110\n",
      "\u001b[1m6/6\u001b[0m \u001b[32m━━━━━━━━━━━━━━━━━━━━\u001b[0m\u001b[37m\u001b[0m \u001b[1m2s\u001b[0m 202ms/step\n"
     ]
    },
    {
     "name": "stderr",
     "output_type": "stream",
     "text": [
      "[I 2024-04-30 17:30:34,314] Trial 10 finished with value: 0.49994541277436017 and parameters: {'dropout_rate': 0.15173513876939013, 'dropout_rate2': 0.0999175155233371, 'LSTM_units': 128, 'EMBEDDING_DIM': 200, 'learning_rate': 0.00015211229739829052}. Best is trial 8 with value: 0.7580995336558741.\n"
     ]
    },
    {
     "name": "stdout",
     "output_type": "stream",
     "text": [
      "objectiving\n",
      "kw {}\n",
      "kw {}\n",
      "create mod: d_rate 0.20360712474809786 d_rate2  0.08535681372388043 LSTM  64 dim  100 lr  0.0009857532042034667\n",
      "Epoch 1/10\n"
     ]
    },
    {
     "name": "stderr",
     "output_type": "stream",
     "text": [
      "C:\\Users\\mrbvb\\AppData\\Local\\Temp\\ipykernel_26724\\2049930526.py:63: FutureWarning: suggest_uniform has been deprecated in v3.0.0. This feature will be removed in v6.0.0. See https://github.com/optuna/optuna/releases/tag/v3.0.0. Use suggest_float instead.\n",
      "  dropout_rate = trial.suggest_uniform('dropout_rate', 0.05, 0.3) #value should be from small to large only\n",
      "C:\\Users\\mrbvb\\AppData\\Local\\Temp\\ipykernel_26724\\2049930526.py:64: FutureWarning: suggest_uniform has been deprecated in v3.0.0. This feature will be removed in v6.0.0. See https://github.com/optuna/optuna/releases/tag/v3.0.0. Use suggest_float instead.\n",
      "  dropout_rate2 = trial.suggest_uniform('dropout_rate2', 0.05, 0.1)\n",
      "C:\\Users\\mrbvb\\AppData\\Local\\Temp\\ipykernel_26724\\2049930526.py:67: FutureWarning: suggest_loguniform has been deprecated in v3.0.0. This feature will be removed in v6.0.0. See https://github.com/optuna/optuna/releases/tag/v3.0.0. Use suggest_float(..., log=True) instead.\n",
      "  learning_rate = trial.suggest_loguniform('learning_rate', 1e-6, 1e-3)\n",
      "C:\\Users\\mrbvb\\AppData\\Local\\Temp\\ipykernel_26724\\2049930526.py:16: FutureWarning: suggest_uniform has been deprecated in v3.0.0. This feature will be removed in v6.0.0. See https://github.com/optuna/optuna/releases/tag/v3.0.0. Use suggest_float instead.\n",
      "  dropout_rate = trial.suggest_uniform('dropout_rate', 0.09, 0.3)\n",
      "c:\\Users\\mrbvb\\AppData\\Local\\Programs\\Python\\Python311\\Lib\\site-packages\\optuna\\trial\\_trial.py:676: RuntimeWarning: Inconsistent parameter values for distribution with name \"dropout_rate\"! This might be a configuration mistake. Optuna allows to call the same distribution with the same name more than once in a trial. When the parameter values are inconsistent optuna only uses the values of the first call and ignores all following. Using these values: {'step': None, 'low': 0.05, 'high': 0.3, 'log': False}\n",
      "  warnings.warn(\n",
      "C:\\Users\\mrbvb\\AppData\\Local\\Temp\\ipykernel_26724\\2049930526.py:17: FutureWarning: suggest_uniform has been deprecated in v3.0.0. This feature will be removed in v6.0.0. See https://github.com/optuna/optuna/releases/tag/v3.0.0. Use suggest_float instead.\n",
      "  dropout_rate2 = trial.suggest_uniform('dropout_rate2', 0.05, 0.2)\n",
      "c:\\Users\\mrbvb\\AppData\\Local\\Programs\\Python\\Python311\\Lib\\site-packages\\optuna\\trial\\_trial.py:676: RuntimeWarning: Inconsistent parameter values for distribution with name \"dropout_rate2\"! This might be a configuration mistake. Optuna allows to call the same distribution with the same name more than once in a trial. When the parameter values are inconsistent optuna only uses the values of the first call and ignores all following. Using these values: {'step': None, 'low': 0.05, 'high': 0.1, 'log': False}\n",
      "  warnings.warn(\n",
      "C:\\Users\\mrbvb\\AppData\\Local\\Temp\\ipykernel_26724\\2049930526.py:20: FutureWarning: suggest_loguniform has been deprecated in v3.0.0. This feature will be removed in v6.0.0. See https://github.com/optuna/optuna/releases/tag/v3.0.0. Use suggest_float(..., log=True) instead.\n",
      "  learning_rate = trial.suggest_loguniform('learning_rate', 1e-6, 1e-3)\n",
      "c:\\Users\\mrbvb\\AppData\\Local\\Programs\\Python\\Python311\\Lib\\site-packages\\keras\\src\\layers\\core\\embedding.py:86: UserWarning: Argument `input_length` is deprecated. Just remove it.\n",
      "  warnings.warn(\n"
     ]
    },
    {
     "name": "stdout",
     "output_type": "stream",
     "text": [
      "\u001b[1m11/11\u001b[0m \u001b[32m━━━━━━━━━━━━━━━━━━━━\u001b[0m\u001b[37m\u001b[0m \u001b[1m8s\u001b[0m 291ms/step - accuracy: 0.5484 - loss: 0.6921\n",
      "Epoch 2/10\n",
      "\u001b[1m11/11\u001b[0m \u001b[32m━━━━━━━━━━━━━━━━━━━━\u001b[0m\u001b[37m\u001b[0m \u001b[1m3s\u001b[0m 287ms/step - accuracy: 0.5581 - loss: 0.6792\n",
      "Epoch 3/10\n",
      "\u001b[1m11/11\u001b[0m \u001b[32m━━━━━━━━━━━━━━━━━━━━\u001b[0m\u001b[37m\u001b[0m \u001b[1m3s\u001b[0m 289ms/step - accuracy: 0.7087 - loss: 0.6145\n",
      "Epoch 4/10\n",
      "\u001b[1m11/11\u001b[0m \u001b[32m━━━━━━━━━━━━━━━━━━━━\u001b[0m\u001b[37m\u001b[0m \u001b[1m3s\u001b[0m 287ms/step - accuracy: 0.9346 - loss: 0.4021\n",
      "Epoch 5/10\n",
      "\u001b[1m11/11\u001b[0m \u001b[32m━━━━━━━━━━━━━━━━━━━━\u001b[0m\u001b[37m\u001b[0m \u001b[1m3s\u001b[0m 287ms/step - accuracy: 0.9683 - loss: 0.1859\n",
      "Epoch 6/10\n",
      "\u001b[1m11/11\u001b[0m \u001b[32m━━━━━━━━━━━━━━━━━━━━\u001b[0m\u001b[37m\u001b[0m \u001b[1m3s\u001b[0m 289ms/step - accuracy: 0.9835 - loss: 0.1198\n",
      "Epoch 7/10\n",
      "\u001b[1m11/11\u001b[0m \u001b[32m━━━━━━━━━━━━━━━━━━━━\u001b[0m\u001b[37m\u001b[0m \u001b[1m3s\u001b[0m 287ms/step - accuracy: 0.9958 - loss: 0.0689\n",
      "Epoch 8/10\n",
      "\u001b[1m11/11\u001b[0m \u001b[32m━━━━━━━━━━━━━━━━━━━━\u001b[0m\u001b[37m\u001b[0m \u001b[1m3s\u001b[0m 288ms/step - accuracy: 0.9919 - loss: 0.0513\n",
      "Epoch 9/10\n",
      "\u001b[1m11/11\u001b[0m \u001b[32m━━━━━━━━━━━━━━━━━━━━\u001b[0m\u001b[37m\u001b[0m \u001b[1m3s\u001b[0m 287ms/step - accuracy: 1.0000 - loss: 0.0296\n",
      "Epoch 10/10\n",
      "\u001b[1m11/11\u001b[0m \u001b[32m━━━━━━━━━━━━━━━━━━━━\u001b[0m\u001b[37m\u001b[0m \u001b[1m3s\u001b[0m 287ms/step - accuracy: 1.0000 - loss: 0.0236\n",
      "\u001b[1m6/6\u001b[0m \u001b[32m━━━━━━━━━━━━━━━━━━━━\u001b[0m\u001b[37m\u001b[0m \u001b[1m1s\u001b[0m 164ms/step\n",
      "kw {}\n",
      "create mod: d_rate 0.20360712474809786 d_rate2  0.08535681372388043 LSTM  64 dim  100 lr  0.0009857532042034667\n",
      "Epoch 1/10\n"
     ]
    },
    {
     "name": "stderr",
     "output_type": "stream",
     "text": [
      "C:\\Users\\mrbvb\\AppData\\Local\\Temp\\ipykernel_26724\\2049930526.py:16: FutureWarning: suggest_uniform has been deprecated in v3.0.0. This feature will be removed in v6.0.0. See https://github.com/optuna/optuna/releases/tag/v3.0.0. Use suggest_float instead.\n",
      "  dropout_rate = trial.suggest_uniform('dropout_rate', 0.09, 0.3)\n",
      "c:\\Users\\mrbvb\\AppData\\Local\\Programs\\Python\\Python311\\Lib\\site-packages\\optuna\\trial\\_trial.py:676: RuntimeWarning: Inconsistent parameter values for distribution with name \"dropout_rate\"! This might be a configuration mistake. Optuna allows to call the same distribution with the same name more than once in a trial. When the parameter values are inconsistent optuna only uses the values of the first call and ignores all following. Using these values: {'step': None, 'low': 0.05, 'high': 0.3, 'log': False}\n",
      "  warnings.warn(\n",
      "C:\\Users\\mrbvb\\AppData\\Local\\Temp\\ipykernel_26724\\2049930526.py:17: FutureWarning: suggest_uniform has been deprecated in v3.0.0. This feature will be removed in v6.0.0. See https://github.com/optuna/optuna/releases/tag/v3.0.0. Use suggest_float instead.\n",
      "  dropout_rate2 = trial.suggest_uniform('dropout_rate2', 0.05, 0.2)\n",
      "c:\\Users\\mrbvb\\AppData\\Local\\Programs\\Python\\Python311\\Lib\\site-packages\\optuna\\trial\\_trial.py:676: RuntimeWarning: Inconsistent parameter values for distribution with name \"dropout_rate2\"! This might be a configuration mistake. Optuna allows to call the same distribution with the same name more than once in a trial. When the parameter values are inconsistent optuna only uses the values of the first call and ignores all following. Using these values: {'step': None, 'low': 0.05, 'high': 0.1, 'log': False}\n",
      "  warnings.warn(\n",
      "C:\\Users\\mrbvb\\AppData\\Local\\Temp\\ipykernel_26724\\2049930526.py:20: FutureWarning: suggest_loguniform has been deprecated in v3.0.0. This feature will be removed in v6.0.0. See https://github.com/optuna/optuna/releases/tag/v3.0.0. Use suggest_float(..., log=True) instead.\n",
      "  learning_rate = trial.suggest_loguniform('learning_rate', 1e-6, 1e-3)\n",
      "c:\\Users\\mrbvb\\AppData\\Local\\Programs\\Python\\Python311\\Lib\\site-packages\\keras\\src\\layers\\core\\embedding.py:86: UserWarning: Argument `input_length` is deprecated. Just remove it.\n",
      "  warnings.warn(\n"
     ]
    },
    {
     "name": "stdout",
     "output_type": "stream",
     "text": [
      "\u001b[1m11/11\u001b[0m \u001b[32m━━━━━━━━━━━━━━━━━━━━\u001b[0m\u001b[37m\u001b[0m \u001b[1m7s\u001b[0m 279ms/step - accuracy: 0.4751 - loss: 0.6947\n",
      "Epoch 2/10\n",
      "\u001b[1m11/11\u001b[0m \u001b[32m━━━━━━━━━━━━━━━━━━━━\u001b[0m\u001b[37m\u001b[0m \u001b[1m3s\u001b[0m 278ms/step - accuracy: 0.5631 - loss: 0.6879\n",
      "Epoch 3/10\n",
      "\u001b[1m11/11\u001b[0m \u001b[32m━━━━━━━━━━━━━━━━━━━━\u001b[0m\u001b[37m\u001b[0m \u001b[1m3s\u001b[0m 276ms/step - accuracy: 0.8499 - loss: 0.6271\n",
      "Epoch 4/10\n",
      "\u001b[1m11/11\u001b[0m \u001b[32m━━━━━━━━━━━━━━━━━━━━\u001b[0m\u001b[37m\u001b[0m \u001b[1m3s\u001b[0m 277ms/step - accuracy: 0.7185 - loss: 0.5434\n",
      "Epoch 5/10\n",
      "\u001b[1m11/11\u001b[0m \u001b[32m━━━━━━━━━━━━━━━━━━━━\u001b[0m\u001b[37m\u001b[0m \u001b[1m3s\u001b[0m 275ms/step - accuracy: 0.9070 - loss: 0.3433\n",
      "Epoch 6/10\n",
      "\u001b[1m11/11\u001b[0m \u001b[32m━━━━━━━━━━━━━━━━━━━━\u001b[0m\u001b[37m\u001b[0m \u001b[1m3s\u001b[0m 277ms/step - accuracy: 0.9660 - loss: 0.1509\n",
      "Epoch 7/10\n",
      "\u001b[1m11/11\u001b[0m \u001b[32m━━━━━━━━━━━━━━━━━━━━\u001b[0m\u001b[37m\u001b[0m \u001b[1m3s\u001b[0m 276ms/step - accuracy: 0.9778 - loss: 0.0993\n",
      "Epoch 8/10\n",
      "\u001b[1m11/11\u001b[0m \u001b[32m━━━━━━━━━━━━━━━━━━━━\u001b[0m\u001b[37m\u001b[0m \u001b[1m3s\u001b[0m 276ms/step - accuracy: 0.9642 - loss: 0.1282\n",
      "Epoch 9/10\n",
      "\u001b[1m11/11\u001b[0m \u001b[32m━━━━━━━━━━━━━━━━━━━━\u001b[0m\u001b[37m\u001b[0m \u001b[1m3s\u001b[0m 277ms/step - accuracy: 0.9859 - loss: 0.0602\n",
      "Epoch 10/10\n",
      "\u001b[1m11/11\u001b[0m \u001b[32m━━━━━━━━━━━━━━━━━━━━\u001b[0m\u001b[37m\u001b[0m \u001b[1m3s\u001b[0m 277ms/step - accuracy: 0.9877 - loss: 0.0293\n",
      "\u001b[1m6/6\u001b[0m \u001b[32m━━━━━━━━━━━━━━━━━━━━\u001b[0m\u001b[37m\u001b[0m \u001b[1m1s\u001b[0m 157ms/step\n",
      "kw {}\n",
      "create mod: d_rate 0.20360712474809786 d_rate2  0.08535681372388043 LSTM  64 dim  100 lr  0.0009857532042034667\n",
      "Epoch 1/10\n"
     ]
    },
    {
     "name": "stderr",
     "output_type": "stream",
     "text": [
      "C:\\Users\\mrbvb\\AppData\\Local\\Temp\\ipykernel_26724\\2049930526.py:16: FutureWarning: suggest_uniform has been deprecated in v3.0.0. This feature will be removed in v6.0.0. See https://github.com/optuna/optuna/releases/tag/v3.0.0. Use suggest_float instead.\n",
      "  dropout_rate = trial.suggest_uniform('dropout_rate', 0.09, 0.3)\n",
      "c:\\Users\\mrbvb\\AppData\\Local\\Programs\\Python\\Python311\\Lib\\site-packages\\optuna\\trial\\_trial.py:676: RuntimeWarning: Inconsistent parameter values for distribution with name \"dropout_rate\"! This might be a configuration mistake. Optuna allows to call the same distribution with the same name more than once in a trial. When the parameter values are inconsistent optuna only uses the values of the first call and ignores all following. Using these values: {'step': None, 'low': 0.05, 'high': 0.3, 'log': False}\n",
      "  warnings.warn(\n",
      "C:\\Users\\mrbvb\\AppData\\Local\\Temp\\ipykernel_26724\\2049930526.py:17: FutureWarning: suggest_uniform has been deprecated in v3.0.0. This feature will be removed in v6.0.0. See https://github.com/optuna/optuna/releases/tag/v3.0.0. Use suggest_float instead.\n",
      "  dropout_rate2 = trial.suggest_uniform('dropout_rate2', 0.05, 0.2)\n",
      "c:\\Users\\mrbvb\\AppData\\Local\\Programs\\Python\\Python311\\Lib\\site-packages\\optuna\\trial\\_trial.py:676: RuntimeWarning: Inconsistent parameter values for distribution with name \"dropout_rate2\"! This might be a configuration mistake. Optuna allows to call the same distribution with the same name more than once in a trial. When the parameter values are inconsistent optuna only uses the values of the first call and ignores all following. Using these values: {'step': None, 'low': 0.05, 'high': 0.1, 'log': False}\n",
      "  warnings.warn(\n",
      "C:\\Users\\mrbvb\\AppData\\Local\\Temp\\ipykernel_26724\\2049930526.py:20: FutureWarning: suggest_loguniform has been deprecated in v3.0.0. This feature will be removed in v6.0.0. See https://github.com/optuna/optuna/releases/tag/v3.0.0. Use suggest_float(..., log=True) instead.\n",
      "  learning_rate = trial.suggest_loguniform('learning_rate', 1e-6, 1e-3)\n",
      "c:\\Users\\mrbvb\\AppData\\Local\\Programs\\Python\\Python311\\Lib\\site-packages\\keras\\src\\layers\\core\\embedding.py:86: UserWarning: Argument `input_length` is deprecated. Just remove it.\n",
      "  warnings.warn(\n"
     ]
    },
    {
     "name": "stdout",
     "output_type": "stream",
     "text": [
      "\u001b[1m11/11\u001b[0m \u001b[32m━━━━━━━━━━━━━━━━━━━━\u001b[0m\u001b[37m\u001b[0m \u001b[1m7s\u001b[0m 268ms/step - accuracy: 0.5557 - loss: 0.6934\n",
      "Epoch 2/10\n",
      "\u001b[1m11/11\u001b[0m \u001b[32m━━━━━━━━━━━━━━━━━━━━\u001b[0m\u001b[37m\u001b[0m \u001b[1m3s\u001b[0m 266ms/step - accuracy: 0.6352 - loss: 0.6854\n",
      "Epoch 3/10\n",
      "\u001b[1m11/11\u001b[0m \u001b[32m━━━━━━━━━━━━━━━━━━━━\u001b[0m\u001b[37m\u001b[0m \u001b[1m3s\u001b[0m 265ms/step - accuracy: 0.8829 - loss: 0.6279\n",
      "Epoch 4/10\n",
      "\u001b[1m11/11\u001b[0m \u001b[32m━━━━━━━━━━━━━━━━━━━━\u001b[0m\u001b[37m\u001b[0m \u001b[1m3s\u001b[0m 265ms/step - accuracy: 0.9358 - loss: 0.3616\n",
      "Epoch 5/10\n",
      "\u001b[1m11/11\u001b[0m \u001b[32m━━━━━━━━━━━━━━━━━━━━\u001b[0m\u001b[37m\u001b[0m \u001b[1m3s\u001b[0m 266ms/step - accuracy: 0.9818 - loss: 0.1503\n",
      "Epoch 6/10\n",
      "\u001b[1m11/11\u001b[0m \u001b[32m━━━━━━━━━━━━━━━━━━━━\u001b[0m\u001b[37m\u001b[0m \u001b[1m3s\u001b[0m 269ms/step - accuracy: 0.9492 - loss: 0.1949\n",
      "Epoch 7/10\n",
      "\u001b[1m11/11\u001b[0m \u001b[32m━━━━━━━━━━━━━━━━━━━━\u001b[0m\u001b[37m\u001b[0m \u001b[1m3s\u001b[0m 268ms/step - accuracy: 0.9685 - loss: 0.1558\n",
      "Epoch 8/10\n",
      "\u001b[1m11/11\u001b[0m \u001b[32m━━━━━━━━━━━━━━━━━━━━\u001b[0m\u001b[37m\u001b[0m \u001b[1m3s\u001b[0m 266ms/step - accuracy: 0.9678 - loss: 0.1223\n",
      "\u001b[1m6/6\u001b[0m \u001b[32m━━━━━━━━━━━━━━━━━━━━\u001b[0m\u001b[37m\u001b[0m \u001b[1m1s\u001b[0m 152ms/step\n",
      "result score f1 fuc -0.7277002671675282\n",
      "kw {}\n",
      "create mod: d_rate 0.20360712474809786 d_rate2  0.08535681372388043 LSTM  64 dim  100 lr  0.0009857532042034667\n",
      "Epoch 1/10\n"
     ]
    },
    {
     "name": "stderr",
     "output_type": "stream",
     "text": [
      "C:\\Users\\mrbvb\\AppData\\Local\\Temp\\ipykernel_26724\\2049930526.py:16: FutureWarning: suggest_uniform has been deprecated in v3.0.0. This feature will be removed in v6.0.0. See https://github.com/optuna/optuna/releases/tag/v3.0.0. Use suggest_float instead.\n",
      "  dropout_rate = trial.suggest_uniform('dropout_rate', 0.09, 0.3)\n",
      "c:\\Users\\mrbvb\\AppData\\Local\\Programs\\Python\\Python311\\Lib\\site-packages\\optuna\\trial\\_trial.py:676: RuntimeWarning: Inconsistent parameter values for distribution with name \"dropout_rate\"! This might be a configuration mistake. Optuna allows to call the same distribution with the same name more than once in a trial. When the parameter values are inconsistent optuna only uses the values of the first call and ignores all following. Using these values: {'step': None, 'low': 0.05, 'high': 0.3, 'log': False}\n",
      "  warnings.warn(\n",
      "C:\\Users\\mrbvb\\AppData\\Local\\Temp\\ipykernel_26724\\2049930526.py:17: FutureWarning: suggest_uniform has been deprecated in v3.0.0. This feature will be removed in v6.0.0. See https://github.com/optuna/optuna/releases/tag/v3.0.0. Use suggest_float instead.\n",
      "  dropout_rate2 = trial.suggest_uniform('dropout_rate2', 0.05, 0.2)\n",
      "c:\\Users\\mrbvb\\AppData\\Local\\Programs\\Python\\Python311\\Lib\\site-packages\\optuna\\trial\\_trial.py:676: RuntimeWarning: Inconsistent parameter values for distribution with name \"dropout_rate2\"! This might be a configuration mistake. Optuna allows to call the same distribution with the same name more than once in a trial. When the parameter values are inconsistent optuna only uses the values of the first call and ignores all following. Using these values: {'step': None, 'low': 0.05, 'high': 0.1, 'log': False}\n",
      "  warnings.warn(\n",
      "C:\\Users\\mrbvb\\AppData\\Local\\Temp\\ipykernel_26724\\2049930526.py:20: FutureWarning: suggest_loguniform has been deprecated in v3.0.0. This feature will be removed in v6.0.0. See https://github.com/optuna/optuna/releases/tag/v3.0.0. Use suggest_float(..., log=True) instead.\n",
      "  learning_rate = trial.suggest_loguniform('learning_rate', 1e-6, 1e-3)\n",
      "c:\\Users\\mrbvb\\AppData\\Local\\Programs\\Python\\Python311\\Lib\\site-packages\\keras\\src\\layers\\core\\embedding.py:86: UserWarning: Argument `input_length` is deprecated. Just remove it.\n",
      "  warnings.warn(\n"
     ]
    },
    {
     "name": "stdout",
     "output_type": "stream",
     "text": [
      "\u001b[1m11/11\u001b[0m \u001b[32m━━━━━━━━━━━━━━━━━━━━\u001b[0m\u001b[37m\u001b[0m \u001b[1m9s\u001b[0m 308ms/step - accuracy: 0.4819 - loss: 0.6929\n",
      "Epoch 2/10\n",
      "\u001b[1m11/11\u001b[0m \u001b[32m━━━━━━━━━━━━━━━━━━━━\u001b[0m\u001b[37m\u001b[0m \u001b[1m3s\u001b[0m 307ms/step - accuracy: 0.5318 - loss: 0.6851\n",
      "Epoch 3/10\n",
      "\u001b[1m11/11\u001b[0m \u001b[32m━━━━━━━━━━━━━━━━━━━━\u001b[0m\u001b[37m\u001b[0m \u001b[1m3s\u001b[0m 306ms/step - accuracy: 0.6881 - loss: 0.6171\n",
      "Epoch 4/10\n",
      "\u001b[1m11/11\u001b[0m \u001b[32m━━━━━━━━━━━━━━━━━━━━\u001b[0m\u001b[37m\u001b[0m \u001b[1m3s\u001b[0m 306ms/step - accuracy: 0.9032 - loss: 0.3870\n",
      "Epoch 5/10\n",
      "\u001b[1m11/11\u001b[0m \u001b[32m━━━━━━━━━━━━━━━━━━━━\u001b[0m\u001b[37m\u001b[0m \u001b[1m3s\u001b[0m 307ms/step - accuracy: 0.9806 - loss: 0.1927\n",
      "Epoch 6/10\n",
      "\u001b[1m11/11\u001b[0m \u001b[32m━━━━━━━━━━━━━━━━━━━━\u001b[0m\u001b[37m\u001b[0m \u001b[1m3s\u001b[0m 306ms/step - accuracy: 0.9833 - loss: 0.1140\n",
      "Epoch 7/10\n",
      "\u001b[1m11/11\u001b[0m \u001b[32m━━━━━━━━━━━━━━━━━━━━\u001b[0m\u001b[37m\u001b[0m \u001b[1m3s\u001b[0m 305ms/step - accuracy: 0.9958 - loss: 0.0585\n",
      "Epoch 8/10\n",
      "\u001b[1m11/11\u001b[0m \u001b[32m━━━━━━━━━━━━━━━━━━━━\u001b[0m\u001b[37m\u001b[0m \u001b[1m3s\u001b[0m 306ms/step - accuracy: 0.9889 - loss: 0.0445\n",
      "Epoch 9/10\n",
      "\u001b[1m11/11\u001b[0m \u001b[32m━━━━━━━━━━━━━━━━━━━━\u001b[0m\u001b[37m\u001b[0m \u001b[1m3s\u001b[0m 306ms/step - accuracy: 1.0000 - loss: 0.0186\n",
      "Epoch 10/10\n",
      "\u001b[1m11/11\u001b[0m \u001b[32m━━━━━━━━━━━━━━━━━━━━\u001b[0m\u001b[37m\u001b[0m \u001b[1m3s\u001b[0m 307ms/step - accuracy: 1.0000 - loss: 0.0124\n",
      "\u001b[1m6/6\u001b[0m \u001b[32m━━━━━━━━━━━━━━━━━━━━\u001b[0m\u001b[37m\u001b[0m \u001b[1m1s\u001b[0m 167ms/step\n",
      "kw {}\n",
      "create mod: d_rate 0.20360712474809786 d_rate2  0.08535681372388043 LSTM  64 dim  100 lr  0.0009857532042034667\n",
      "Epoch 1/10\n"
     ]
    },
    {
     "name": "stderr",
     "output_type": "stream",
     "text": [
      "C:\\Users\\mrbvb\\AppData\\Local\\Temp\\ipykernel_26724\\2049930526.py:16: FutureWarning: suggest_uniform has been deprecated in v3.0.0. This feature will be removed in v6.0.0. See https://github.com/optuna/optuna/releases/tag/v3.0.0. Use suggest_float instead.\n",
      "  dropout_rate = trial.suggest_uniform('dropout_rate', 0.09, 0.3)\n",
      "c:\\Users\\mrbvb\\AppData\\Local\\Programs\\Python\\Python311\\Lib\\site-packages\\optuna\\trial\\_trial.py:676: RuntimeWarning: Inconsistent parameter values for distribution with name \"dropout_rate\"! This might be a configuration mistake. Optuna allows to call the same distribution with the same name more than once in a trial. When the parameter values are inconsistent optuna only uses the values of the first call and ignores all following. Using these values: {'step': None, 'low': 0.05, 'high': 0.3, 'log': False}\n",
      "  warnings.warn(\n",
      "C:\\Users\\mrbvb\\AppData\\Local\\Temp\\ipykernel_26724\\2049930526.py:17: FutureWarning: suggest_uniform has been deprecated in v3.0.0. This feature will be removed in v6.0.0. See https://github.com/optuna/optuna/releases/tag/v3.0.0. Use suggest_float instead.\n",
      "  dropout_rate2 = trial.suggest_uniform('dropout_rate2', 0.05, 0.2)\n",
      "c:\\Users\\mrbvb\\AppData\\Local\\Programs\\Python\\Python311\\Lib\\site-packages\\optuna\\trial\\_trial.py:676: RuntimeWarning: Inconsistent parameter values for distribution with name \"dropout_rate2\"! This might be a configuration mistake. Optuna allows to call the same distribution with the same name more than once in a trial. When the parameter values are inconsistent optuna only uses the values of the first call and ignores all following. Using these values: {'step': None, 'low': 0.05, 'high': 0.1, 'log': False}\n",
      "  warnings.warn(\n",
      "C:\\Users\\mrbvb\\AppData\\Local\\Temp\\ipykernel_26724\\2049930526.py:20: FutureWarning: suggest_loguniform has been deprecated in v3.0.0. This feature will be removed in v6.0.0. See https://github.com/optuna/optuna/releases/tag/v3.0.0. Use suggest_float(..., log=True) instead.\n",
      "  learning_rate = trial.suggest_loguniform('learning_rate', 1e-6, 1e-3)\n",
      "c:\\Users\\mrbvb\\AppData\\Local\\Programs\\Python\\Python311\\Lib\\site-packages\\keras\\src\\layers\\core\\embedding.py:86: UserWarning: Argument `input_length` is deprecated. Just remove it.\n",
      "  warnings.warn(\n"
     ]
    },
    {
     "name": "stdout",
     "output_type": "stream",
     "text": [
      "\u001b[1m11/11\u001b[0m \u001b[32m━━━━━━━━━━━━━━━━━━━━\u001b[0m\u001b[37m\u001b[0m \u001b[1m8s\u001b[0m 296ms/step - accuracy: 0.4603 - loss: 0.6966\n",
      "Epoch 2/10\n",
      "\u001b[1m11/11\u001b[0m \u001b[32m━━━━━━━━━━━━━━━━━━━━\u001b[0m\u001b[37m\u001b[0m \u001b[1m3s\u001b[0m 293ms/step - accuracy: 0.7053 - loss: 0.6824\n",
      "Epoch 3/10\n",
      "\u001b[1m11/11\u001b[0m \u001b[32m━━━━━━━━━━━━━━━━━━━━\u001b[0m\u001b[37m\u001b[0m \u001b[1m3s\u001b[0m 293ms/step - accuracy: 0.8045 - loss: 0.5977\n",
      "Epoch 4/10\n",
      "\u001b[1m11/11\u001b[0m \u001b[32m━━━━━━━━━━━━━━━━━━━━\u001b[0m\u001b[37m\u001b[0m \u001b[1m3s\u001b[0m 294ms/step - accuracy: 0.8950 - loss: 0.3634\n",
      "Epoch 5/10\n",
      "\u001b[1m11/11\u001b[0m \u001b[32m━━━━━━━━━━━━━━━━━━━━\u001b[0m\u001b[37m\u001b[0m \u001b[1m3s\u001b[0m 294ms/step - accuracy: 0.9777 - loss: 0.1196\n",
      "Epoch 6/10\n",
      "\u001b[1m11/11\u001b[0m \u001b[32m━━━━━━━━━━━━━━━━━━━━\u001b[0m\u001b[37m\u001b[0m \u001b[1m3s\u001b[0m 294ms/step - accuracy: 0.9799 - loss: 0.0706\n",
      "Epoch 7/10\n",
      "\u001b[1m11/11\u001b[0m \u001b[32m━━━━━━━━━━━━━━━━━━━━\u001b[0m\u001b[37m\u001b[0m \u001b[1m3s\u001b[0m 295ms/step - accuracy: 0.9945 - loss: 0.0408\n",
      "Epoch 8/10\n",
      "\u001b[1m11/11\u001b[0m \u001b[32m━━━━━━━━━━━━━━━━━━━━\u001b[0m\u001b[37m\u001b[0m \u001b[1m3s\u001b[0m 296ms/step - accuracy: 1.0000 - loss: 0.0255\n",
      "Epoch 9/10\n",
      "\u001b[1m11/11\u001b[0m \u001b[32m━━━━━━━━━━━━━━━━━━━━\u001b[0m\u001b[37m\u001b[0m \u001b[1m3s\u001b[0m 294ms/step - accuracy: 1.0000 - loss: 0.0155\n",
      "Epoch 10/10\n",
      "\u001b[1m11/11\u001b[0m \u001b[32m━━━━━━━━━━━━━━━━━━━━\u001b[0m\u001b[37m\u001b[0m \u001b[1m3s\u001b[0m 294ms/step - accuracy: 0.9958 - loss: 0.0218\n",
      "\u001b[1m6/6\u001b[0m \u001b[32m━━━━━━━━━━━━━━━━━━━━\u001b[0m\u001b[37m\u001b[0m \u001b[1m1s\u001b[0m 167ms/step\n",
      "kw {}\n",
      "create mod: d_rate 0.20360712474809786 d_rate2  0.08535681372388043 LSTM  64 dim  100 lr  0.0009857532042034667\n",
      "Epoch 1/10\n"
     ]
    },
    {
     "name": "stderr",
     "output_type": "stream",
     "text": [
      "C:\\Users\\mrbvb\\AppData\\Local\\Temp\\ipykernel_26724\\2049930526.py:16: FutureWarning: suggest_uniform has been deprecated in v3.0.0. This feature will be removed in v6.0.0. See https://github.com/optuna/optuna/releases/tag/v3.0.0. Use suggest_float instead.\n",
      "  dropout_rate = trial.suggest_uniform('dropout_rate', 0.09, 0.3)\n",
      "c:\\Users\\mrbvb\\AppData\\Local\\Programs\\Python\\Python311\\Lib\\site-packages\\optuna\\trial\\_trial.py:676: RuntimeWarning: Inconsistent parameter values for distribution with name \"dropout_rate\"! This might be a configuration mistake. Optuna allows to call the same distribution with the same name more than once in a trial. When the parameter values are inconsistent optuna only uses the values of the first call and ignores all following. Using these values: {'step': None, 'low': 0.05, 'high': 0.3, 'log': False}\n",
      "  warnings.warn(\n",
      "C:\\Users\\mrbvb\\AppData\\Local\\Temp\\ipykernel_26724\\2049930526.py:17: FutureWarning: suggest_uniform has been deprecated in v3.0.0. This feature will be removed in v6.0.0. See https://github.com/optuna/optuna/releases/tag/v3.0.0. Use suggest_float instead.\n",
      "  dropout_rate2 = trial.suggest_uniform('dropout_rate2', 0.05, 0.2)\n",
      "c:\\Users\\mrbvb\\AppData\\Local\\Programs\\Python\\Python311\\Lib\\site-packages\\optuna\\trial\\_trial.py:676: RuntimeWarning: Inconsistent parameter values for distribution with name \"dropout_rate2\"! This might be a configuration mistake. Optuna allows to call the same distribution with the same name more than once in a trial. When the parameter values are inconsistent optuna only uses the values of the first call and ignores all following. Using these values: {'step': None, 'low': 0.05, 'high': 0.1, 'log': False}\n",
      "  warnings.warn(\n",
      "C:\\Users\\mrbvb\\AppData\\Local\\Temp\\ipykernel_26724\\2049930526.py:20: FutureWarning: suggest_loguniform has been deprecated in v3.0.0. This feature will be removed in v6.0.0. See https://github.com/optuna/optuna/releases/tag/v3.0.0. Use suggest_float(..., log=True) instead.\n",
      "  learning_rate = trial.suggest_loguniform('learning_rate', 1e-6, 1e-3)\n",
      "c:\\Users\\mrbvb\\AppData\\Local\\Programs\\Python\\Python311\\Lib\\site-packages\\keras\\src\\layers\\core\\embedding.py:86: UserWarning: Argument `input_length` is deprecated. Just remove it.\n",
      "  warnings.warn(\n"
     ]
    },
    {
     "name": "stdout",
     "output_type": "stream",
     "text": [
      "\u001b[1m11/11\u001b[0m \u001b[32m━━━━━━━━━━━━━━━━━━━━\u001b[0m\u001b[37m\u001b[0m \u001b[1m7s\u001b[0m 283ms/step - accuracy: 0.5231 - loss: 0.6935\n",
      "Epoch 2/10\n",
      "\u001b[1m11/11\u001b[0m \u001b[32m━━━━━━━━━━━━━━━━━━━━\u001b[0m\u001b[37m\u001b[0m \u001b[1m3s\u001b[0m 277ms/step - accuracy: 0.5266 - loss: 0.6865\n",
      "Epoch 3/10\n",
      "\u001b[1m11/11\u001b[0m \u001b[32m━━━━━━━━━━━━━━━━━━━━\u001b[0m\u001b[37m\u001b[0m \u001b[1m3s\u001b[0m 278ms/step - accuracy: 0.6177 - loss: 0.6311\n",
      "Epoch 4/10\n",
      "\u001b[1m11/11\u001b[0m \u001b[32m━━━━━━━━━━━━━━━━━━━━\u001b[0m\u001b[37m\u001b[0m \u001b[1m3s\u001b[0m 277ms/step - accuracy: 0.8647 - loss: 0.4632\n",
      "Epoch 5/10\n",
      "\u001b[1m11/11\u001b[0m \u001b[32m━━━━━━━━━━━━━━━━━━━━\u001b[0m\u001b[37m\u001b[0m \u001b[1m3s\u001b[0m 278ms/step - accuracy: 0.9509 - loss: 0.2464\n",
      "Epoch 6/10\n",
      "\u001b[1m11/11\u001b[0m \u001b[32m━━━━━━━━━━━━━━━━━━━━\u001b[0m\u001b[37m\u001b[0m \u001b[1m3s\u001b[0m 279ms/step - accuracy: 0.9712 - loss: 0.1494\n",
      "Epoch 7/10\n",
      "\u001b[1m11/11\u001b[0m \u001b[32m━━━━━━━━━━━━━━━━━━━━\u001b[0m\u001b[37m\u001b[0m \u001b[1m3s\u001b[0m 279ms/step - accuracy: 0.9920 - loss: 0.0571\n",
      "Epoch 8/10\n",
      "\u001b[1m11/11\u001b[0m \u001b[32m━━━━━━━━━━━━━━━━━━━━\u001b[0m\u001b[37m\u001b[0m \u001b[1m3s\u001b[0m 279ms/step - accuracy: 1.0000 - loss: 0.0139\n",
      "Epoch 9/10\n",
      "\u001b[1m11/11\u001b[0m \u001b[32m━━━━━━━━━━━━━━━━━━━━\u001b[0m\u001b[37m\u001b[0m \u001b[1m3s\u001b[0m 277ms/step - accuracy: 1.0000 - loss: 0.0068\n",
      "Epoch 10/10\n",
      "\u001b[1m11/11\u001b[0m \u001b[32m━━━━━━━━━━━━━━━━━━━━\u001b[0m\u001b[37m\u001b[0m \u001b[1m3s\u001b[0m 278ms/step - accuracy: 1.0000 - loss: 0.0035\n",
      "\u001b[1m6/6\u001b[0m \u001b[32m━━━━━━━━━━━━━━━━━━━━\u001b[0m\u001b[37m\u001b[0m \u001b[1m1s\u001b[0m 154ms/step\n"
     ]
    },
    {
     "name": "stderr",
     "output_type": "stream",
     "text": [
      "[I 2024-04-30 17:34:12,519] Trial 11 finished with value: 0.7345713110418993 and parameters: {'dropout_rate': 0.20360712474809786, 'dropout_rate2': 0.08535681372388043, 'LSTM_units': 64, 'EMBEDDING_DIM': 100, 'learning_rate': 0.0009857532042034667}. Best is trial 8 with value: 0.7580995336558741.\n"
     ]
    },
    {
     "name": "stdout",
     "output_type": "stream",
     "text": [
      "objectiving\n",
      "kw {}\n",
      "kw {}\n",
      "create mod: d_rate 0.21045711064165712 d_rate2  0.08513663678088837 LSTM  64 dim  100 lr  0.0008094968599047666\n",
      "Epoch 1/10\n"
     ]
    },
    {
     "name": "stderr",
     "output_type": "stream",
     "text": [
      "C:\\Users\\mrbvb\\AppData\\Local\\Temp\\ipykernel_26724\\2049930526.py:63: FutureWarning: suggest_uniform has been deprecated in v3.0.0. This feature will be removed in v6.0.0. See https://github.com/optuna/optuna/releases/tag/v3.0.0. Use suggest_float instead.\n",
      "  dropout_rate = trial.suggest_uniform('dropout_rate', 0.05, 0.3) #value should be from small to large only\n",
      "C:\\Users\\mrbvb\\AppData\\Local\\Temp\\ipykernel_26724\\2049930526.py:64: FutureWarning: suggest_uniform has been deprecated in v3.0.0. This feature will be removed in v6.0.0. See https://github.com/optuna/optuna/releases/tag/v3.0.0. Use suggest_float instead.\n",
      "  dropout_rate2 = trial.suggest_uniform('dropout_rate2', 0.05, 0.1)\n",
      "C:\\Users\\mrbvb\\AppData\\Local\\Temp\\ipykernel_26724\\2049930526.py:67: FutureWarning: suggest_loguniform has been deprecated in v3.0.0. This feature will be removed in v6.0.0. See https://github.com/optuna/optuna/releases/tag/v3.0.0. Use suggest_float(..., log=True) instead.\n",
      "  learning_rate = trial.suggest_loguniform('learning_rate', 1e-6, 1e-3)\n",
      "C:\\Users\\mrbvb\\AppData\\Local\\Temp\\ipykernel_26724\\2049930526.py:16: FutureWarning: suggest_uniform has been deprecated in v3.0.0. This feature will be removed in v6.0.0. See https://github.com/optuna/optuna/releases/tag/v3.0.0. Use suggest_float instead.\n",
      "  dropout_rate = trial.suggest_uniform('dropout_rate', 0.09, 0.3)\n",
      "c:\\Users\\mrbvb\\AppData\\Local\\Programs\\Python\\Python311\\Lib\\site-packages\\optuna\\trial\\_trial.py:676: RuntimeWarning: Inconsistent parameter values for distribution with name \"dropout_rate\"! This might be a configuration mistake. Optuna allows to call the same distribution with the same name more than once in a trial. When the parameter values are inconsistent optuna only uses the values of the first call and ignores all following. Using these values: {'step': None, 'low': 0.05, 'high': 0.3, 'log': False}\n",
      "  warnings.warn(\n",
      "C:\\Users\\mrbvb\\AppData\\Local\\Temp\\ipykernel_26724\\2049930526.py:17: FutureWarning: suggest_uniform has been deprecated in v3.0.0. This feature will be removed in v6.0.0. See https://github.com/optuna/optuna/releases/tag/v3.0.0. Use suggest_float instead.\n",
      "  dropout_rate2 = trial.suggest_uniform('dropout_rate2', 0.05, 0.2)\n",
      "c:\\Users\\mrbvb\\AppData\\Local\\Programs\\Python\\Python311\\Lib\\site-packages\\optuna\\trial\\_trial.py:676: RuntimeWarning: Inconsistent parameter values for distribution with name \"dropout_rate2\"! This might be a configuration mistake. Optuna allows to call the same distribution with the same name more than once in a trial. When the parameter values are inconsistent optuna only uses the values of the first call and ignores all following. Using these values: {'step': None, 'low': 0.05, 'high': 0.1, 'log': False}\n",
      "  warnings.warn(\n",
      "C:\\Users\\mrbvb\\AppData\\Local\\Temp\\ipykernel_26724\\2049930526.py:20: FutureWarning: suggest_loguniform has been deprecated in v3.0.0. This feature will be removed in v6.0.0. See https://github.com/optuna/optuna/releases/tag/v3.0.0. Use suggest_float(..., log=True) instead.\n",
      "  learning_rate = trial.suggest_loguniform('learning_rate', 1e-6, 1e-3)\n",
      "c:\\Users\\mrbvb\\AppData\\Local\\Programs\\Python\\Python311\\Lib\\site-packages\\keras\\src\\layers\\core\\embedding.py:86: UserWarning: Argument `input_length` is deprecated. Just remove it.\n",
      "  warnings.warn(\n"
     ]
    },
    {
     "name": "stdout",
     "output_type": "stream",
     "text": [
      "\u001b[1m11/11\u001b[0m \u001b[32m━━━━━━━━━━━━━━━━━━━━\u001b[0m\u001b[37m\u001b[0m \u001b[1m7s\u001b[0m 267ms/step - accuracy: 0.4812 - loss: 0.6934\n",
      "Epoch 2/10\n",
      "\u001b[1m11/11\u001b[0m \u001b[32m━━━━━━━━━━━━━━━━━━━━\u001b[0m\u001b[37m\u001b[0m \u001b[1m3s\u001b[0m 253ms/step - accuracy: 0.5138 - loss: 0.6807\n",
      "Epoch 3/10\n",
      "\u001b[1m11/11\u001b[0m \u001b[32m━━━━━━━━━━━━━━━━━━━━\u001b[0m\u001b[37m\u001b[0m \u001b[1m3s\u001b[0m 252ms/step - accuracy: 0.7083 - loss: 0.6060\n",
      "Epoch 4/10\n",
      "\u001b[1m11/11\u001b[0m \u001b[32m━━━━━━━━━━━━━━━━━━━━\u001b[0m\u001b[37m\u001b[0m \u001b[1m3s\u001b[0m 251ms/step - accuracy: 0.9036 - loss: 0.4077\n",
      "Epoch 5/10\n",
      "\u001b[1m11/11\u001b[0m \u001b[32m━━━━━━━━━━━━━━━━━━━━\u001b[0m\u001b[37m\u001b[0m \u001b[1m3s\u001b[0m 251ms/step - accuracy: 0.9764 - loss: 0.1922\n",
      "Epoch 6/10\n",
      "\u001b[1m11/11\u001b[0m \u001b[32m━━━━━━━━━━━━━━━━━━━━\u001b[0m\u001b[37m\u001b[0m \u001b[1m3s\u001b[0m 250ms/step - accuracy: 0.9713 - loss: 0.1132\n",
      "Epoch 7/10\n",
      "\u001b[1m11/11\u001b[0m \u001b[32m━━━━━━━━━━━━━━━━━━━━\u001b[0m\u001b[37m\u001b[0m \u001b[1m3s\u001b[0m 252ms/step - accuracy: 0.9964 - loss: 0.0354\n",
      "Epoch 8/10\n",
      "\u001b[1m11/11\u001b[0m \u001b[32m━━━━━━━━━━━━━━━━━━━━\u001b[0m\u001b[37m\u001b[0m \u001b[1m3s\u001b[0m 251ms/step - accuracy: 0.9908 - loss: 0.0318\n",
      "Epoch 9/10\n",
      "\u001b[1m11/11\u001b[0m \u001b[32m━━━━━━━━━━━━━━━━━━━━\u001b[0m\u001b[37m\u001b[0m \u001b[1m3s\u001b[0m 252ms/step - accuracy: 0.9929 - loss: 0.0226\n",
      "Epoch 10/10\n",
      "\u001b[1m11/11\u001b[0m \u001b[32m━━━━━━━━━━━━━━━━━━━━\u001b[0m\u001b[37m\u001b[0m \u001b[1m3s\u001b[0m 251ms/step - accuracy: 1.0000 - loss: 0.0083\n",
      "\u001b[1m6/6\u001b[0m \u001b[32m━━━━━━━━━━━━━━━━━━━━\u001b[0m\u001b[37m\u001b[0m \u001b[1m1s\u001b[0m 151ms/step\n",
      "kw {}\n",
      "create mod: d_rate 0.21045711064165712 d_rate2  0.08513663678088837 LSTM  64 dim  100 lr  0.0008094968599047666\n",
      "Epoch 1/10\n"
     ]
    },
    {
     "name": "stderr",
     "output_type": "stream",
     "text": [
      "C:\\Users\\mrbvb\\AppData\\Local\\Temp\\ipykernel_26724\\2049930526.py:16: FutureWarning: suggest_uniform has been deprecated in v3.0.0. This feature will be removed in v6.0.0. See https://github.com/optuna/optuna/releases/tag/v3.0.0. Use suggest_float instead.\n",
      "  dropout_rate = trial.suggest_uniform('dropout_rate', 0.09, 0.3)\n",
      "c:\\Users\\mrbvb\\AppData\\Local\\Programs\\Python\\Python311\\Lib\\site-packages\\optuna\\trial\\_trial.py:676: RuntimeWarning: Inconsistent parameter values for distribution with name \"dropout_rate\"! This might be a configuration mistake. Optuna allows to call the same distribution with the same name more than once in a trial. When the parameter values are inconsistent optuna only uses the values of the first call and ignores all following. Using these values: {'step': None, 'low': 0.05, 'high': 0.3, 'log': False}\n",
      "  warnings.warn(\n",
      "C:\\Users\\mrbvb\\AppData\\Local\\Temp\\ipykernel_26724\\2049930526.py:17: FutureWarning: suggest_uniform has been deprecated in v3.0.0. This feature will be removed in v6.0.0. See https://github.com/optuna/optuna/releases/tag/v3.0.0. Use suggest_float instead.\n",
      "  dropout_rate2 = trial.suggest_uniform('dropout_rate2', 0.05, 0.2)\n",
      "c:\\Users\\mrbvb\\AppData\\Local\\Programs\\Python\\Python311\\Lib\\site-packages\\optuna\\trial\\_trial.py:676: RuntimeWarning: Inconsistent parameter values for distribution with name \"dropout_rate2\"! This might be a configuration mistake. Optuna allows to call the same distribution with the same name more than once in a trial. When the parameter values are inconsistent optuna only uses the values of the first call and ignores all following. Using these values: {'step': None, 'low': 0.05, 'high': 0.1, 'log': False}\n",
      "  warnings.warn(\n",
      "C:\\Users\\mrbvb\\AppData\\Local\\Temp\\ipykernel_26724\\2049930526.py:20: FutureWarning: suggest_loguniform has been deprecated in v3.0.0. This feature will be removed in v6.0.0. See https://github.com/optuna/optuna/releases/tag/v3.0.0. Use suggest_float(..., log=True) instead.\n",
      "  learning_rate = trial.suggest_loguniform('learning_rate', 1e-6, 1e-3)\n",
      "c:\\Users\\mrbvb\\AppData\\Local\\Programs\\Python\\Python311\\Lib\\site-packages\\keras\\src\\layers\\core\\embedding.py:86: UserWarning: Argument `input_length` is deprecated. Just remove it.\n",
      "  warnings.warn(\n"
     ]
    },
    {
     "name": "stdout",
     "output_type": "stream",
     "text": [
      "\u001b[1m11/11\u001b[0m \u001b[32m━━━━━━━━━━━━━━━━━━━━\u001b[0m\u001b[37m\u001b[0m \u001b[1m7s\u001b[0m 238ms/step - accuracy: 0.4825 - loss: 0.6957\n",
      "Epoch 2/10\n",
      "\u001b[1m11/11\u001b[0m \u001b[32m━━━━━━━━━━━━━━━━━━━━\u001b[0m\u001b[37m\u001b[0m \u001b[1m2s\u001b[0m 202ms/step - accuracy: 0.6214 - loss: 0.6874\n",
      "Epoch 3/10\n",
      "\u001b[1m11/11\u001b[0m \u001b[32m━━━━━━━━━━━━━━━━━━━━\u001b[0m\u001b[37m\u001b[0m \u001b[1m2s\u001b[0m 203ms/step - accuracy: 0.6896 - loss: 0.6591\n",
      "Epoch 4/10\n",
      "\u001b[1m11/11\u001b[0m \u001b[32m━━━━━━━━━━━━━━━━━━━━\u001b[0m\u001b[37m\u001b[0m \u001b[1m2s\u001b[0m 200ms/step - accuracy: 0.8691 - loss: 0.4841\n",
      "Epoch 5/10\n",
      "\u001b[1m11/11\u001b[0m \u001b[32m━━━━━━━━━━━━━━━━━━━━\u001b[0m\u001b[37m\u001b[0m \u001b[1m2s\u001b[0m 200ms/step - accuracy: 0.9488 - loss: 0.2325\n",
      "Epoch 6/10\n",
      "\u001b[1m11/11\u001b[0m \u001b[32m━━━━━━━━━━━━━━━━━━━━\u001b[0m\u001b[37m\u001b[0m \u001b[1m2s\u001b[0m 199ms/step - accuracy: 0.9778 - loss: 0.0996\n",
      "Epoch 7/10\n",
      "\u001b[1m11/11\u001b[0m \u001b[32m━━━━━━━━━━━━━━━━━━━━\u001b[0m\u001b[37m\u001b[0m \u001b[1m2s\u001b[0m 199ms/step - accuracy: 0.9817 - loss: 0.0753\n",
      "Epoch 8/10\n",
      "\u001b[1m11/11\u001b[0m \u001b[32m━━━━━━━━━━━━━━━━━━━━\u001b[0m\u001b[37m\u001b[0m \u001b[1m2s\u001b[0m 199ms/step - accuracy: 1.0000 - loss: 0.0325\n",
      "Epoch 9/10\n",
      "\u001b[1m11/11\u001b[0m \u001b[32m━━━━━━━━━━━━━━━━━━━━\u001b[0m\u001b[37m\u001b[0m \u001b[1m2s\u001b[0m 198ms/step - accuracy: 1.0000 - loss: 0.0233\n",
      "Epoch 10/10\n",
      "\u001b[1m11/11\u001b[0m \u001b[32m━━━━━━━━━━━━━━━━━━━━\u001b[0m\u001b[37m\u001b[0m \u001b[1m2s\u001b[0m 201ms/step - accuracy: 1.0000 - loss: 0.0154\n",
      "\u001b[1m6/6\u001b[0m \u001b[32m━━━━━━━━━━━━━━━━━━━━\u001b[0m\u001b[37m\u001b[0m \u001b[1m1s\u001b[0m 135ms/step\n",
      "kw {}\n",
      "create mod: d_rate 0.21045711064165712 d_rate2  0.08513663678088837 LSTM  64 dim  100 lr  0.0008094968599047666\n",
      "Epoch 1/10\n"
     ]
    },
    {
     "name": "stderr",
     "output_type": "stream",
     "text": [
      "C:\\Users\\mrbvb\\AppData\\Local\\Temp\\ipykernel_26724\\2049930526.py:16: FutureWarning: suggest_uniform has been deprecated in v3.0.0. This feature will be removed in v6.0.0. See https://github.com/optuna/optuna/releases/tag/v3.0.0. Use suggest_float instead.\n",
      "  dropout_rate = trial.suggest_uniform('dropout_rate', 0.09, 0.3)\n",
      "c:\\Users\\mrbvb\\AppData\\Local\\Programs\\Python\\Python311\\Lib\\site-packages\\optuna\\trial\\_trial.py:676: RuntimeWarning: Inconsistent parameter values for distribution with name \"dropout_rate\"! This might be a configuration mistake. Optuna allows to call the same distribution with the same name more than once in a trial. When the parameter values are inconsistent optuna only uses the values of the first call and ignores all following. Using these values: {'step': None, 'low': 0.05, 'high': 0.3, 'log': False}\n",
      "  warnings.warn(\n",
      "C:\\Users\\mrbvb\\AppData\\Local\\Temp\\ipykernel_26724\\2049930526.py:17: FutureWarning: suggest_uniform has been deprecated in v3.0.0. This feature will be removed in v6.0.0. See https://github.com/optuna/optuna/releases/tag/v3.0.0. Use suggest_float instead.\n",
      "  dropout_rate2 = trial.suggest_uniform('dropout_rate2', 0.05, 0.2)\n",
      "c:\\Users\\mrbvb\\AppData\\Local\\Programs\\Python\\Python311\\Lib\\site-packages\\optuna\\trial\\_trial.py:676: RuntimeWarning: Inconsistent parameter values for distribution with name \"dropout_rate2\"! This might be a configuration mistake. Optuna allows to call the same distribution with the same name more than once in a trial. When the parameter values are inconsistent optuna only uses the values of the first call and ignores all following. Using these values: {'step': None, 'low': 0.05, 'high': 0.1, 'log': False}\n",
      "  warnings.warn(\n",
      "C:\\Users\\mrbvb\\AppData\\Local\\Temp\\ipykernel_26724\\2049930526.py:20: FutureWarning: suggest_loguniform has been deprecated in v3.0.0. This feature will be removed in v6.0.0. See https://github.com/optuna/optuna/releases/tag/v3.0.0. Use suggest_float(..., log=True) instead.\n",
      "  learning_rate = trial.suggest_loguniform('learning_rate', 1e-6, 1e-3)\n",
      "c:\\Users\\mrbvb\\AppData\\Local\\Programs\\Python\\Python311\\Lib\\site-packages\\keras\\src\\layers\\core\\embedding.py:86: UserWarning: Argument `input_length` is deprecated. Just remove it.\n",
      "  warnings.warn(\n"
     ]
    },
    {
     "name": "stdout",
     "output_type": "stream",
     "text": [
      "\u001b[1m11/11\u001b[0m \u001b[32m━━━━━━━━━━━━━━━━━━━━\u001b[0m\u001b[37m\u001b[0m \u001b[1m8s\u001b[0m 238ms/step - accuracy: 0.5108 - loss: 0.6930\n",
      "Epoch 2/10\n",
      "\u001b[1m11/11\u001b[0m \u001b[32m━━━━━━━━━━━━━━━━━━━━\u001b[0m\u001b[37m\u001b[0m \u001b[1m3s\u001b[0m 235ms/step - accuracy: 0.5269 - loss: 0.6883\n",
      "Epoch 3/10\n",
      "\u001b[1m11/11\u001b[0m \u001b[32m━━━━━━━━━━━━━━━━━━━━\u001b[0m\u001b[37m\u001b[0m \u001b[1m3s\u001b[0m 236ms/step - accuracy: 0.7774 - loss: 0.6556\n",
      "Epoch 4/10\n",
      "\u001b[1m11/11\u001b[0m \u001b[32m━━━━━━━━━━━━━━━━━━━━\u001b[0m\u001b[37m\u001b[0m \u001b[1m3s\u001b[0m 235ms/step - accuracy: 0.8319 - loss: 0.4949\n",
      "Epoch 5/10\n",
      "\u001b[1m11/11\u001b[0m \u001b[32m━━━━━━━━━━━━━━━━━━━━\u001b[0m\u001b[37m\u001b[0m \u001b[1m3s\u001b[0m 236ms/step - accuracy: 0.9778 - loss: 0.2120\n",
      "Epoch 6/10\n",
      "\u001b[1m11/11\u001b[0m \u001b[32m━━━━━━━━━━━━━━━━━━━━\u001b[0m\u001b[37m\u001b[0m \u001b[1m3s\u001b[0m 236ms/step - accuracy: 0.9960 - loss: 0.0689\n",
      "Epoch 7/10\n",
      "\u001b[1m11/11\u001b[0m \u001b[32m━━━━━━━━━━━━━━━━━━━━\u001b[0m\u001b[37m\u001b[0m \u001b[1m3s\u001b[0m 236ms/step - accuracy: 1.0000 - loss: 0.0163\n",
      "Epoch 8/10\n",
      "\u001b[1m11/11\u001b[0m \u001b[32m━━━━━━━━━━━━━━━━━━━━\u001b[0m\u001b[37m\u001b[0m \u001b[1m3s\u001b[0m 235ms/step - accuracy: 1.0000 - loss: 0.0082\n",
      "Epoch 9/10\n",
      "\u001b[1m11/11\u001b[0m \u001b[32m━━━━━━━━━━━━━━━━━━━━\u001b[0m\u001b[37m\u001b[0m \u001b[1m3s\u001b[0m 237ms/step - accuracy: 0.9966 - loss: 0.0239\n",
      "Epoch 10/10\n",
      "\u001b[1m11/11\u001b[0m \u001b[32m━━━━━━━━━━━━━━━━━━━━\u001b[0m\u001b[37m\u001b[0m \u001b[1m3s\u001b[0m 236ms/step - accuracy: 0.9942 - loss: 0.0306\n",
      "\u001b[1m6/6\u001b[0m \u001b[32m━━━━━━━━━━━━━━━━━━━━\u001b[0m\u001b[37m\u001b[0m \u001b[1m1s\u001b[0m 147ms/step\n",
      "result score f1 fuc -0.7313443478626972\n",
      "kw {}\n",
      "create mod: d_rate 0.21045711064165712 d_rate2  0.08513663678088837 LSTM  64 dim  100 lr  0.0008094968599047666\n",
      "Epoch 1/10\n"
     ]
    },
    {
     "name": "stderr",
     "output_type": "stream",
     "text": [
      "C:\\Users\\mrbvb\\AppData\\Local\\Temp\\ipykernel_26724\\2049930526.py:16: FutureWarning: suggest_uniform has been deprecated in v3.0.0. This feature will be removed in v6.0.0. See https://github.com/optuna/optuna/releases/tag/v3.0.0. Use suggest_float instead.\n",
      "  dropout_rate = trial.suggest_uniform('dropout_rate', 0.09, 0.3)\n",
      "c:\\Users\\mrbvb\\AppData\\Local\\Programs\\Python\\Python311\\Lib\\site-packages\\optuna\\trial\\_trial.py:676: RuntimeWarning: Inconsistent parameter values for distribution with name \"dropout_rate\"! This might be a configuration mistake. Optuna allows to call the same distribution with the same name more than once in a trial. When the parameter values are inconsistent optuna only uses the values of the first call and ignores all following. Using these values: {'step': None, 'low': 0.05, 'high': 0.3, 'log': False}\n",
      "  warnings.warn(\n",
      "C:\\Users\\mrbvb\\AppData\\Local\\Temp\\ipykernel_26724\\2049930526.py:17: FutureWarning: suggest_uniform has been deprecated in v3.0.0. This feature will be removed in v6.0.0. See https://github.com/optuna/optuna/releases/tag/v3.0.0. Use suggest_float instead.\n",
      "  dropout_rate2 = trial.suggest_uniform('dropout_rate2', 0.05, 0.2)\n",
      "c:\\Users\\mrbvb\\AppData\\Local\\Programs\\Python\\Python311\\Lib\\site-packages\\optuna\\trial\\_trial.py:676: RuntimeWarning: Inconsistent parameter values for distribution with name \"dropout_rate2\"! This might be a configuration mistake. Optuna allows to call the same distribution with the same name more than once in a trial. When the parameter values are inconsistent optuna only uses the values of the first call and ignores all following. Using these values: {'step': None, 'low': 0.05, 'high': 0.1, 'log': False}\n",
      "  warnings.warn(\n",
      "C:\\Users\\mrbvb\\AppData\\Local\\Temp\\ipykernel_26724\\2049930526.py:20: FutureWarning: suggest_loguniform has been deprecated in v3.0.0. This feature will be removed in v6.0.0. See https://github.com/optuna/optuna/releases/tag/v3.0.0. Use suggest_float(..., log=True) instead.\n",
      "  learning_rate = trial.suggest_loguniform('learning_rate', 1e-6, 1e-3)\n",
      "c:\\Users\\mrbvb\\AppData\\Local\\Programs\\Python\\Python311\\Lib\\site-packages\\keras\\src\\layers\\core\\embedding.py:86: UserWarning: Argument `input_length` is deprecated. Just remove it.\n",
      "  warnings.warn(\n"
     ]
    },
    {
     "name": "stdout",
     "output_type": "stream",
     "text": [
      "\u001b[1m11/11\u001b[0m \u001b[32m━━━━━━━━━━━━━━━━━━━━\u001b[0m\u001b[37m\u001b[0m \u001b[1m7s\u001b[0m 226ms/step - accuracy: 0.5599 - loss: 0.6930\n",
      "Epoch 2/10\n",
      "\u001b[1m11/11\u001b[0m \u001b[32m━━━━━━━━━━━━━━━━━━━━\u001b[0m\u001b[37m\u001b[0m \u001b[1m2s\u001b[0m 224ms/step - accuracy: 0.5578 - loss: 0.6833\n",
      "Epoch 3/10\n",
      "\u001b[1m11/11\u001b[0m \u001b[32m━━━━━━━━━━━━━━━━━━━━\u001b[0m\u001b[37m\u001b[0m \u001b[1m2s\u001b[0m 224ms/step - accuracy: 0.8086 - loss: 0.6225\n",
      "Epoch 4/10\n",
      "\u001b[1m11/11\u001b[0m \u001b[32m━━━━━━━━━━━━━━━━━━━━\u001b[0m\u001b[37m\u001b[0m \u001b[1m2s\u001b[0m 224ms/step - accuracy: 0.8420 - loss: 0.4959\n",
      "Epoch 5/10\n",
      "\u001b[1m11/11\u001b[0m \u001b[32m━━━━━━━━━━━━━━━━━━━━\u001b[0m\u001b[37m\u001b[0m \u001b[1m2s\u001b[0m 225ms/step - accuracy: 0.9578 - loss: 0.3012\n",
      "Epoch 6/10\n",
      "\u001b[1m11/11\u001b[0m \u001b[32m━━━━━━━━━━━━━━━━━━━━\u001b[0m\u001b[37m\u001b[0m \u001b[1m2s\u001b[0m 224ms/step - accuracy: 0.9420 - loss: 0.2308\n",
      "Epoch 7/10\n",
      "\u001b[1m11/11\u001b[0m \u001b[32m━━━━━━━━━━━━━━━━━━━━\u001b[0m\u001b[37m\u001b[0m \u001b[1m2s\u001b[0m 224ms/step - accuracy: 0.9671 - loss: 0.1756\n",
      "Epoch 8/10\n",
      "\u001b[1m11/11\u001b[0m \u001b[32m━━━━━━━━━━━━━━━━━━━━\u001b[0m\u001b[37m\u001b[0m \u001b[1m2s\u001b[0m 225ms/step - accuracy: 0.9696 - loss: 0.1456\n",
      "Epoch 9/10\n",
      "\u001b[1m11/11\u001b[0m \u001b[32m━━━━━━━━━━━━━━━━━━━━\u001b[0m\u001b[37m\u001b[0m \u001b[1m3s\u001b[0m 226ms/step - accuracy: 0.9783 - loss: 0.1104\n",
      "Epoch 10/10\n",
      "\u001b[1m11/11\u001b[0m \u001b[32m━━━━━━━━━━━━━━━━━━━━\u001b[0m\u001b[37m\u001b[0m \u001b[1m2s\u001b[0m 225ms/step - accuracy: 0.9850 - loss: 0.0909\n",
      "\u001b[1m6/6\u001b[0m \u001b[32m━━━━━━━━━━━━━━━━━━━━\u001b[0m\u001b[37m\u001b[0m \u001b[1m1s\u001b[0m 143ms/step\n",
      "kw {}\n",
      "create mod: d_rate 0.21045711064165712 d_rate2  0.08513663678088837 LSTM  64 dim  100 lr  0.0008094968599047666\n",
      "Epoch 1/10\n"
     ]
    },
    {
     "name": "stderr",
     "output_type": "stream",
     "text": [
      "C:\\Users\\mrbvb\\AppData\\Local\\Temp\\ipykernel_26724\\2049930526.py:16: FutureWarning: suggest_uniform has been deprecated in v3.0.0. This feature will be removed in v6.0.0. See https://github.com/optuna/optuna/releases/tag/v3.0.0. Use suggest_float instead.\n",
      "  dropout_rate = trial.suggest_uniform('dropout_rate', 0.09, 0.3)\n",
      "c:\\Users\\mrbvb\\AppData\\Local\\Programs\\Python\\Python311\\Lib\\site-packages\\optuna\\trial\\_trial.py:676: RuntimeWarning: Inconsistent parameter values for distribution with name \"dropout_rate\"! This might be a configuration mistake. Optuna allows to call the same distribution with the same name more than once in a trial. When the parameter values are inconsistent optuna only uses the values of the first call and ignores all following. Using these values: {'step': None, 'low': 0.05, 'high': 0.3, 'log': False}\n",
      "  warnings.warn(\n",
      "C:\\Users\\mrbvb\\AppData\\Local\\Temp\\ipykernel_26724\\2049930526.py:17: FutureWarning: suggest_uniform has been deprecated in v3.0.0. This feature will be removed in v6.0.0. See https://github.com/optuna/optuna/releases/tag/v3.0.0. Use suggest_float instead.\n",
      "  dropout_rate2 = trial.suggest_uniform('dropout_rate2', 0.05, 0.2)\n",
      "c:\\Users\\mrbvb\\AppData\\Local\\Programs\\Python\\Python311\\Lib\\site-packages\\optuna\\trial\\_trial.py:676: RuntimeWarning: Inconsistent parameter values for distribution with name \"dropout_rate2\"! This might be a configuration mistake. Optuna allows to call the same distribution with the same name more than once in a trial. When the parameter values are inconsistent optuna only uses the values of the first call and ignores all following. Using these values: {'step': None, 'low': 0.05, 'high': 0.1, 'log': False}\n",
      "  warnings.warn(\n",
      "C:\\Users\\mrbvb\\AppData\\Local\\Temp\\ipykernel_26724\\2049930526.py:20: FutureWarning: suggest_loguniform has been deprecated in v3.0.0. This feature will be removed in v6.0.0. See https://github.com/optuna/optuna/releases/tag/v3.0.0. Use suggest_float(..., log=True) instead.\n",
      "  learning_rate = trial.suggest_loguniform('learning_rate', 1e-6, 1e-3)\n",
      "c:\\Users\\mrbvb\\AppData\\Local\\Programs\\Python\\Python311\\Lib\\site-packages\\keras\\src\\layers\\core\\embedding.py:86: UserWarning: Argument `input_length` is deprecated. Just remove it.\n",
      "  warnings.warn(\n"
     ]
    },
    {
     "name": "stdout",
     "output_type": "stream",
     "text": [
      "\u001b[1m11/11\u001b[0m \u001b[32m━━━━━━━━━━━━━━━━━━━━\u001b[0m\u001b[37m\u001b[0m \u001b[1m7s\u001b[0m 216ms/step - accuracy: 0.4822 - loss: 0.6942\n",
      "Epoch 2/10\n",
      "\u001b[1m11/11\u001b[0m \u001b[32m━━━━━━━━━━━━━━━━━━━━\u001b[0m\u001b[37m\u001b[0m \u001b[1m2s\u001b[0m 212ms/step - accuracy: 0.7737 - loss: 0.6852\n",
      "Epoch 3/10\n",
      "\u001b[1m11/11\u001b[0m \u001b[32m━━━━━━━━━━━━━━━━━━━━\u001b[0m\u001b[37m\u001b[0m \u001b[1m2s\u001b[0m 212ms/step - accuracy: 0.8132 - loss: 0.6383\n",
      "Epoch 4/10\n",
      "\u001b[1m11/11\u001b[0m \u001b[32m━━━━━━━━━━━━━━━━━━━━\u001b[0m\u001b[37m\u001b[0m \u001b[1m2s\u001b[0m 211ms/step - accuracy: 0.8493 - loss: 0.4608\n",
      "Epoch 5/10\n",
      "\u001b[1m11/11\u001b[0m \u001b[32m━━━━━━━━━━━━━━━━━━━━\u001b[0m\u001b[37m\u001b[0m \u001b[1m2s\u001b[0m 213ms/step - accuracy: 0.9566 - loss: 0.2208\n",
      "Epoch 6/10\n",
      "\u001b[1m11/11\u001b[0m \u001b[32m━━━━━━━━━━━━━━━━━━━━\u001b[0m\u001b[37m\u001b[0m \u001b[1m2s\u001b[0m 212ms/step - accuracy: 0.9658 - loss: 0.1681\n",
      "Epoch 7/10\n",
      "\u001b[1m11/11\u001b[0m \u001b[32m━━━━━━━━━━━━━━━━━━━━\u001b[0m\u001b[37m\u001b[0m \u001b[1m2s\u001b[0m 212ms/step - accuracy: 0.9964 - loss: 0.0737\n",
      "Epoch 8/10\n",
      "\u001b[1m11/11\u001b[0m \u001b[32m━━━━━━━━━━━━━━━━━━━━\u001b[0m\u001b[37m\u001b[0m \u001b[1m2s\u001b[0m 212ms/step - accuracy: 0.9723 - loss: 0.1065\n",
      "Epoch 9/10\n",
      "\u001b[1m11/11\u001b[0m \u001b[32m━━━━━━━━━━━━━━━━━━━━\u001b[0m\u001b[37m\u001b[0m \u001b[1m2s\u001b[0m 212ms/step - accuracy: 0.9964 - loss: 0.0537\n",
      "Epoch 10/10\n",
      "\u001b[1m11/11\u001b[0m \u001b[32m━━━━━━━━━━━━━━━━━━━━\u001b[0m\u001b[37m\u001b[0m \u001b[1m2s\u001b[0m 212ms/step - accuracy: 1.0000 - loss: 0.0381\n",
      "\u001b[1m6/6\u001b[0m \u001b[32m━━━━━━━━━━━━━━━━━━━━\u001b[0m\u001b[37m\u001b[0m \u001b[1m1s\u001b[0m 141ms/step\n",
      "kw {}\n",
      "create mod: d_rate 0.21045711064165712 d_rate2  0.08513663678088837 LSTM  64 dim  100 lr  0.0008094968599047666\n",
      "Epoch 1/10\n"
     ]
    },
    {
     "name": "stderr",
     "output_type": "stream",
     "text": [
      "C:\\Users\\mrbvb\\AppData\\Local\\Temp\\ipykernel_26724\\2049930526.py:16: FutureWarning: suggest_uniform has been deprecated in v3.0.0. This feature will be removed in v6.0.0. See https://github.com/optuna/optuna/releases/tag/v3.0.0. Use suggest_float instead.\n",
      "  dropout_rate = trial.suggest_uniform('dropout_rate', 0.09, 0.3)\n",
      "c:\\Users\\mrbvb\\AppData\\Local\\Programs\\Python\\Python311\\Lib\\site-packages\\optuna\\trial\\_trial.py:676: RuntimeWarning: Inconsistent parameter values for distribution with name \"dropout_rate\"! This might be a configuration mistake. Optuna allows to call the same distribution with the same name more than once in a trial. When the parameter values are inconsistent optuna only uses the values of the first call and ignores all following. Using these values: {'step': None, 'low': 0.05, 'high': 0.3, 'log': False}\n",
      "  warnings.warn(\n",
      "C:\\Users\\mrbvb\\AppData\\Local\\Temp\\ipykernel_26724\\2049930526.py:17: FutureWarning: suggest_uniform has been deprecated in v3.0.0. This feature will be removed in v6.0.0. See https://github.com/optuna/optuna/releases/tag/v3.0.0. Use suggest_float instead.\n",
      "  dropout_rate2 = trial.suggest_uniform('dropout_rate2', 0.05, 0.2)\n",
      "c:\\Users\\mrbvb\\AppData\\Local\\Programs\\Python\\Python311\\Lib\\site-packages\\optuna\\trial\\_trial.py:676: RuntimeWarning: Inconsistent parameter values for distribution with name \"dropout_rate2\"! This might be a configuration mistake. Optuna allows to call the same distribution with the same name more than once in a trial. When the parameter values are inconsistent optuna only uses the values of the first call and ignores all following. Using these values: {'step': None, 'low': 0.05, 'high': 0.1, 'log': False}\n",
      "  warnings.warn(\n",
      "C:\\Users\\mrbvb\\AppData\\Local\\Temp\\ipykernel_26724\\2049930526.py:20: FutureWarning: suggest_loguniform has been deprecated in v3.0.0. This feature will be removed in v6.0.0. See https://github.com/optuna/optuna/releases/tag/v3.0.0. Use suggest_float(..., log=True) instead.\n",
      "  learning_rate = trial.suggest_loguniform('learning_rate', 1e-6, 1e-3)\n",
      "c:\\Users\\mrbvb\\AppData\\Local\\Programs\\Python\\Python311\\Lib\\site-packages\\keras\\src\\layers\\core\\embedding.py:86: UserWarning: Argument `input_length` is deprecated. Just remove it.\n",
      "  warnings.warn(\n"
     ]
    },
    {
     "name": "stdout",
     "output_type": "stream",
     "text": [
      "\u001b[1m11/11\u001b[0m \u001b[32m━━━━━━━━━━━━━━━━━━━━\u001b[0m\u001b[37m\u001b[0m \u001b[1m6s\u001b[0m 203ms/step - accuracy: 0.5038 - loss: 0.6919\n",
      "Epoch 2/10\n",
      "\u001b[1m11/11\u001b[0m \u001b[32m━━━━━━━━━━━━━━━━━━━━\u001b[0m\u001b[37m\u001b[0m \u001b[1m2s\u001b[0m 200ms/step - accuracy: 0.5130 - loss: 0.6853\n",
      "Epoch 3/10\n",
      "\u001b[1m11/11\u001b[0m \u001b[32m━━━━━━━━━━━━━━━━━━━━\u001b[0m\u001b[37m\u001b[0m \u001b[1m2s\u001b[0m 201ms/step - accuracy: 0.6357 - loss: 0.6268\n",
      "Epoch 4/10\n",
      "\u001b[1m11/11\u001b[0m \u001b[32m━━━━━━━━━━━━━━━━━━━━\u001b[0m\u001b[37m\u001b[0m \u001b[1m2s\u001b[0m 200ms/step - accuracy: 0.8834 - loss: 0.4096\n",
      "Epoch 5/10\n",
      "\u001b[1m11/11\u001b[0m \u001b[32m━━━━━━━━━━━━━━━━━━━━\u001b[0m\u001b[37m\u001b[0m \u001b[1m2s\u001b[0m 201ms/step - accuracy: 0.9829 - loss: 0.1639\n",
      "Epoch 6/10\n",
      "\u001b[1m11/11\u001b[0m \u001b[32m━━━━━━━━━━━━━━━━━━━━\u001b[0m\u001b[37m\u001b[0m \u001b[1m2s\u001b[0m 200ms/step - accuracy: 0.9787 - loss: 0.0760\n",
      "Epoch 7/10\n",
      "\u001b[1m11/11\u001b[0m \u001b[32m━━━━━━━━━━━━━━━━━━━━\u001b[0m\u001b[37m\u001b[0m \u001b[1m2s\u001b[0m 201ms/step - accuracy: 0.9902 - loss: 0.0426\n",
      "Epoch 8/10\n",
      "\u001b[1m11/11\u001b[0m \u001b[32m━━━━━━━━━━━━━━━━━━━━\u001b[0m\u001b[37m\u001b[0m \u001b[1m2s\u001b[0m 201ms/step - accuracy: 0.9683 - loss: 0.0582\n",
      "Epoch 9/10\n",
      "\u001b[1m11/11\u001b[0m \u001b[32m━━━━━━━━━━━━━━━━━━━━\u001b[0m\u001b[37m\u001b[0m \u001b[1m2s\u001b[0m 201ms/step - accuracy: 0.9892 - loss: 0.0272\n",
      "Epoch 10/10\n",
      "\u001b[1m11/11\u001b[0m \u001b[32m━━━━━━━━━━━━━━━━━━━━\u001b[0m\u001b[37m\u001b[0m \u001b[1m2s\u001b[0m 203ms/step - accuracy: 0.9919 - loss: 0.0223\n",
      "\u001b[1m6/6\u001b[0m \u001b[32m━━━━━━━━━━━━━━━━━━━━\u001b[0m\u001b[37m\u001b[0m \u001b[1m1s\u001b[0m 133ms/step\n"
     ]
    },
    {
     "name": "stderr",
     "output_type": "stream",
     "text": [
      "[I 2024-04-30 17:37:13,431] Trial 12 finished with value: 0.7257974541321132 and parameters: {'dropout_rate': 0.21045711064165712, 'dropout_rate2': 0.08513663678088837, 'LSTM_units': 64, 'EMBEDDING_DIM': 100, 'learning_rate': 0.0008094968599047666}. Best is trial 8 with value: 0.7580995336558741.\n"
     ]
    },
    {
     "name": "stdout",
     "output_type": "stream",
     "text": [
      "objectiving\n",
      "kw {}\n",
      "kw {}\n",
      "create mod: d_rate 0.1394688176384855 d_rate2  0.08652138168185775 LSTM  64 dim  200 lr  0.00017925688048517325\n",
      "Epoch 1/10\n"
     ]
    },
    {
     "name": "stderr",
     "output_type": "stream",
     "text": [
      "C:\\Users\\mrbvb\\AppData\\Local\\Temp\\ipykernel_26724\\2049930526.py:63: FutureWarning: suggest_uniform has been deprecated in v3.0.0. This feature will be removed in v6.0.0. See https://github.com/optuna/optuna/releases/tag/v3.0.0. Use suggest_float instead.\n",
      "  dropout_rate = trial.suggest_uniform('dropout_rate', 0.05, 0.3) #value should be from small to large only\n",
      "C:\\Users\\mrbvb\\AppData\\Local\\Temp\\ipykernel_26724\\2049930526.py:64: FutureWarning: suggest_uniform has been deprecated in v3.0.0. This feature will be removed in v6.0.0. See https://github.com/optuna/optuna/releases/tag/v3.0.0. Use suggest_float instead.\n",
      "  dropout_rate2 = trial.suggest_uniform('dropout_rate2', 0.05, 0.1)\n",
      "C:\\Users\\mrbvb\\AppData\\Local\\Temp\\ipykernel_26724\\2049930526.py:67: FutureWarning: suggest_loguniform has been deprecated in v3.0.0. This feature will be removed in v6.0.0. See https://github.com/optuna/optuna/releases/tag/v3.0.0. Use suggest_float(..., log=True) instead.\n",
      "  learning_rate = trial.suggest_loguniform('learning_rate', 1e-6, 1e-3)\n",
      "C:\\Users\\mrbvb\\AppData\\Local\\Temp\\ipykernel_26724\\2049930526.py:16: FutureWarning: suggest_uniform has been deprecated in v3.0.0. This feature will be removed in v6.0.0. See https://github.com/optuna/optuna/releases/tag/v3.0.0. Use suggest_float instead.\n",
      "  dropout_rate = trial.suggest_uniform('dropout_rate', 0.09, 0.3)\n",
      "c:\\Users\\mrbvb\\AppData\\Local\\Programs\\Python\\Python311\\Lib\\site-packages\\optuna\\trial\\_trial.py:676: RuntimeWarning: Inconsistent parameter values for distribution with name \"dropout_rate\"! This might be a configuration mistake. Optuna allows to call the same distribution with the same name more than once in a trial. When the parameter values are inconsistent optuna only uses the values of the first call and ignores all following. Using these values: {'step': None, 'low': 0.05, 'high': 0.3, 'log': False}\n",
      "  warnings.warn(\n",
      "C:\\Users\\mrbvb\\AppData\\Local\\Temp\\ipykernel_26724\\2049930526.py:17: FutureWarning: suggest_uniform has been deprecated in v3.0.0. This feature will be removed in v6.0.0. See https://github.com/optuna/optuna/releases/tag/v3.0.0. Use suggest_float instead.\n",
      "  dropout_rate2 = trial.suggest_uniform('dropout_rate2', 0.05, 0.2)\n",
      "c:\\Users\\mrbvb\\AppData\\Local\\Programs\\Python\\Python311\\Lib\\site-packages\\optuna\\trial\\_trial.py:676: RuntimeWarning: Inconsistent parameter values for distribution with name \"dropout_rate2\"! This might be a configuration mistake. Optuna allows to call the same distribution with the same name more than once in a trial. When the parameter values are inconsistent optuna only uses the values of the first call and ignores all following. Using these values: {'step': None, 'low': 0.05, 'high': 0.1, 'log': False}\n",
      "  warnings.warn(\n",
      "C:\\Users\\mrbvb\\AppData\\Local\\Temp\\ipykernel_26724\\2049930526.py:20: FutureWarning: suggest_loguniform has been deprecated in v3.0.0. This feature will be removed in v6.0.0. See https://github.com/optuna/optuna/releases/tag/v3.0.0. Use suggest_float(..., log=True) instead.\n",
      "  learning_rate = trial.suggest_loguniform('learning_rate', 1e-6, 1e-3)\n",
      "c:\\Users\\mrbvb\\AppData\\Local\\Programs\\Python\\Python311\\Lib\\site-packages\\keras\\src\\layers\\core\\embedding.py:86: UserWarning: Argument `input_length` is deprecated. Just remove it.\n",
      "  warnings.warn(\n"
     ]
    },
    {
     "name": "stdout",
     "output_type": "stream",
     "text": [
      "\u001b[1m11/11\u001b[0m \u001b[32m━━━━━━━━━━━━━━━━━━━━\u001b[0m\u001b[37m\u001b[0m \u001b[1m6s\u001b[0m 143ms/step - accuracy: 0.5172 - loss: 0.6920\n",
      "Epoch 2/10\n",
      "\u001b[1m11/11\u001b[0m \u001b[32m━━━━━━━━━━━━━━━━━━━━\u001b[0m\u001b[37m\u001b[0m \u001b[1m2s\u001b[0m 144ms/step - accuracy: 0.4995 - loss: 0.6906\n",
      "Epoch 3/10\n",
      "\u001b[1m11/11\u001b[0m \u001b[32m━━━━━━━━━━━━━━━━━━━━\u001b[0m\u001b[37m\u001b[0m \u001b[1m2s\u001b[0m 143ms/step - accuracy: 0.5375 - loss: 0.6856\n",
      "Epoch 4/10\n",
      "\u001b[1m11/11\u001b[0m \u001b[32m━━━━━━━━━━━━━━━━━━━━\u001b[0m\u001b[37m\u001b[0m \u001b[1m2s\u001b[0m 140ms/step - accuracy: 0.5206 - loss: 0.6823\n",
      "Epoch 5/10\n",
      "\u001b[1m11/11\u001b[0m \u001b[32m━━━━━━━━━━━━━━━━━━━━\u001b[0m\u001b[37m\u001b[0m \u001b[1m2s\u001b[0m 141ms/step - accuracy: 0.5755 - loss: 0.6694\n",
      "Epoch 6/10\n",
      "\u001b[1m11/11\u001b[0m \u001b[32m━━━━━━━━━━━━━━━━━━━━\u001b[0m\u001b[37m\u001b[0m \u001b[1m2s\u001b[0m 141ms/step - accuracy: 0.6614 - loss: 0.6501\n",
      "Epoch 7/10\n",
      "\u001b[1m11/11\u001b[0m \u001b[32m━━━━━━━━━━━━━━━━━━━━\u001b[0m\u001b[37m\u001b[0m \u001b[1m2s\u001b[0m 141ms/step - accuracy: 0.7852 - loss: 0.6117\n",
      "Epoch 8/10\n",
      "\u001b[1m11/11\u001b[0m \u001b[32m━━━━━━━━━━━━━━━━━━━━\u001b[0m\u001b[37m\u001b[0m \u001b[1m2s\u001b[0m 141ms/step - accuracy: 0.8611 - loss: 0.5383\n",
      "Epoch 9/10\n",
      "\u001b[1m11/11\u001b[0m \u001b[32m━━━━━━━━━━━━━━━━━━━━\u001b[0m\u001b[37m\u001b[0m \u001b[1m2s\u001b[0m 143ms/step - accuracy: 0.8612 - loss: 0.4554\n",
      "Epoch 10/10\n",
      "\u001b[1m11/11\u001b[0m \u001b[32m━━━━━━━━━━━━━━━━━━━━\u001b[0m\u001b[37m\u001b[0m \u001b[1m2s\u001b[0m 144ms/step - accuracy: 0.9530 - loss: 0.3236\n",
      "\u001b[1m6/6\u001b[0m \u001b[32m━━━━━━━━━━━━━━━━━━━━\u001b[0m\u001b[37m\u001b[0m \u001b[1m1s\u001b[0m 136ms/step\n",
      "kw {}\n",
      "create mod: d_rate 0.1394688176384855 d_rate2  0.08652138168185775 LSTM  64 dim  200 lr  0.00017925688048517325\n",
      "Epoch 1/10\n"
     ]
    },
    {
     "name": "stderr",
     "output_type": "stream",
     "text": [
      "C:\\Users\\mrbvb\\AppData\\Local\\Temp\\ipykernel_26724\\2049930526.py:16: FutureWarning: suggest_uniform has been deprecated in v3.0.0. This feature will be removed in v6.0.0. See https://github.com/optuna/optuna/releases/tag/v3.0.0. Use suggest_float instead.\n",
      "  dropout_rate = trial.suggest_uniform('dropout_rate', 0.09, 0.3)\n",
      "c:\\Users\\mrbvb\\AppData\\Local\\Programs\\Python\\Python311\\Lib\\site-packages\\optuna\\trial\\_trial.py:676: RuntimeWarning: Inconsistent parameter values for distribution with name \"dropout_rate\"! This might be a configuration mistake. Optuna allows to call the same distribution with the same name more than once in a trial. When the parameter values are inconsistent optuna only uses the values of the first call and ignores all following. Using these values: {'step': None, 'low': 0.05, 'high': 0.3, 'log': False}\n",
      "  warnings.warn(\n",
      "C:\\Users\\mrbvb\\AppData\\Local\\Temp\\ipykernel_26724\\2049930526.py:17: FutureWarning: suggest_uniform has been deprecated in v3.0.0. This feature will be removed in v6.0.0. See https://github.com/optuna/optuna/releases/tag/v3.0.0. Use suggest_float instead.\n",
      "  dropout_rate2 = trial.suggest_uniform('dropout_rate2', 0.05, 0.2)\n",
      "c:\\Users\\mrbvb\\AppData\\Local\\Programs\\Python\\Python311\\Lib\\site-packages\\optuna\\trial\\_trial.py:676: RuntimeWarning: Inconsistent parameter values for distribution with name \"dropout_rate2\"! This might be a configuration mistake. Optuna allows to call the same distribution with the same name more than once in a trial. When the parameter values are inconsistent optuna only uses the values of the first call and ignores all following. Using these values: {'step': None, 'low': 0.05, 'high': 0.1, 'log': False}\n",
      "  warnings.warn(\n",
      "C:\\Users\\mrbvb\\AppData\\Local\\Temp\\ipykernel_26724\\2049930526.py:20: FutureWarning: suggest_loguniform has been deprecated in v3.0.0. This feature will be removed in v6.0.0. See https://github.com/optuna/optuna/releases/tag/v3.0.0. Use suggest_float(..., log=True) instead.\n",
      "  learning_rate = trial.suggest_loguniform('learning_rate', 1e-6, 1e-3)\n",
      "c:\\Users\\mrbvb\\AppData\\Local\\Programs\\Python\\Python311\\Lib\\site-packages\\keras\\src\\layers\\core\\embedding.py:86: UserWarning: Argument `input_length` is deprecated. Just remove it.\n",
      "  warnings.warn(\n"
     ]
    },
    {
     "name": "stdout",
     "output_type": "stream",
     "text": [
      "\u001b[1m11/11\u001b[0m \u001b[32m━━━━━━━━━━━━━━━━━━━━\u001b[0m\u001b[37m\u001b[0m \u001b[1m8s\u001b[0m 235ms/step - accuracy: 0.5166 - loss: 0.6939\n",
      "Epoch 2/10\n",
      "\u001b[1m11/11\u001b[0m \u001b[32m━━━━━━━━━━━━━━━━━━━━\u001b[0m\u001b[37m\u001b[0m \u001b[1m3s\u001b[0m 237ms/step - accuracy: 0.5175 - loss: 0.6925\n",
      "Epoch 3/10\n",
      "\u001b[1m11/11\u001b[0m \u001b[32m━━━━━━━━━━━━━━━━━━━━\u001b[0m\u001b[37m\u001b[0m \u001b[1m3s\u001b[0m 238ms/step - accuracy: 0.6396 - loss: 0.6897\n",
      "Epoch 4/10\n",
      "\u001b[1m11/11\u001b[0m \u001b[32m━━━━━━━━━━━━━━━━━━━━\u001b[0m\u001b[37m\u001b[0m \u001b[1m3s\u001b[0m 238ms/step - accuracy: 0.7037 - loss: 0.6870\n",
      "Epoch 5/10\n",
      "\u001b[1m11/11\u001b[0m \u001b[32m━━━━━━━━━━━━━━━━━━━━\u001b[0m\u001b[37m\u001b[0m \u001b[1m3s\u001b[0m 238ms/step - accuracy: 0.6957 - loss: 0.6802\n",
      "Epoch 6/10\n",
      "\u001b[1m11/11\u001b[0m \u001b[32m━━━━━━━━━━━━━━━━━━━━\u001b[0m\u001b[37m\u001b[0m \u001b[1m3s\u001b[0m 237ms/step - accuracy: 0.8605 - loss: 0.6710\n",
      "Epoch 7/10\n",
      "\u001b[1m11/11\u001b[0m \u001b[32m━━━━━━━━━━━━━━━━━━━━\u001b[0m\u001b[37m\u001b[0m \u001b[1m3s\u001b[0m 238ms/step - accuracy: 0.9056 - loss: 0.6437\n",
      "Epoch 8/10\n",
      "\u001b[1m11/11\u001b[0m \u001b[32m━━━━━━━━━━━━━━━━━━━━\u001b[0m\u001b[37m\u001b[0m \u001b[1m3s\u001b[0m 238ms/step - accuracy: 0.8776 - loss: 0.5836\n",
      "Epoch 9/10\n",
      "\u001b[1m11/11\u001b[0m \u001b[32m━━━━━━━━━━━━━━━━━━━━\u001b[0m\u001b[37m\u001b[0m \u001b[1m3s\u001b[0m 238ms/step - accuracy: 0.8105 - loss: 0.5237\n",
      "Epoch 10/10\n",
      "\u001b[1m11/11\u001b[0m \u001b[32m━━━━━━━━━━━━━━━━━━━━\u001b[0m\u001b[37m\u001b[0m \u001b[1m3s\u001b[0m 237ms/step - accuracy: 0.9338 - loss: 0.4204\n",
      "\u001b[1m6/6\u001b[0m \u001b[32m━━━━━━━━━━━━━━━━━━━━\u001b[0m\u001b[37m\u001b[0m \u001b[1m1s\u001b[0m 158ms/step\n",
      "kw {}\n",
      "create mod: d_rate 0.1394688176384855 d_rate2  0.08652138168185775 LSTM  64 dim  200 lr  0.00017925688048517325\n",
      "Epoch 1/10\n"
     ]
    },
    {
     "name": "stderr",
     "output_type": "stream",
     "text": [
      "C:\\Users\\mrbvb\\AppData\\Local\\Temp\\ipykernel_26724\\2049930526.py:16: FutureWarning: suggest_uniform has been deprecated in v3.0.0. This feature will be removed in v6.0.0. See https://github.com/optuna/optuna/releases/tag/v3.0.0. Use suggest_float instead.\n",
      "  dropout_rate = trial.suggest_uniform('dropout_rate', 0.09, 0.3)\n",
      "c:\\Users\\mrbvb\\AppData\\Local\\Programs\\Python\\Python311\\Lib\\site-packages\\optuna\\trial\\_trial.py:676: RuntimeWarning: Inconsistent parameter values for distribution with name \"dropout_rate\"! This might be a configuration mistake. Optuna allows to call the same distribution with the same name more than once in a trial. When the parameter values are inconsistent optuna only uses the values of the first call and ignores all following. Using these values: {'step': None, 'low': 0.05, 'high': 0.3, 'log': False}\n",
      "  warnings.warn(\n",
      "C:\\Users\\mrbvb\\AppData\\Local\\Temp\\ipykernel_26724\\2049930526.py:17: FutureWarning: suggest_uniform has been deprecated in v3.0.0. This feature will be removed in v6.0.0. See https://github.com/optuna/optuna/releases/tag/v3.0.0. Use suggest_float instead.\n",
      "  dropout_rate2 = trial.suggest_uniform('dropout_rate2', 0.05, 0.2)\n",
      "c:\\Users\\mrbvb\\AppData\\Local\\Programs\\Python\\Python311\\Lib\\site-packages\\optuna\\trial\\_trial.py:676: RuntimeWarning: Inconsistent parameter values for distribution with name \"dropout_rate2\"! This might be a configuration mistake. Optuna allows to call the same distribution with the same name more than once in a trial. When the parameter values are inconsistent optuna only uses the values of the first call and ignores all following. Using these values: {'step': None, 'low': 0.05, 'high': 0.1, 'log': False}\n",
      "  warnings.warn(\n",
      "C:\\Users\\mrbvb\\AppData\\Local\\Temp\\ipykernel_26724\\2049930526.py:20: FutureWarning: suggest_loguniform has been deprecated in v3.0.0. This feature will be removed in v6.0.0. See https://github.com/optuna/optuna/releases/tag/v3.0.0. Use suggest_float(..., log=True) instead.\n",
      "  learning_rate = trial.suggest_loguniform('learning_rate', 1e-6, 1e-3)\n",
      "c:\\Users\\mrbvb\\AppData\\Local\\Programs\\Python\\Python311\\Lib\\site-packages\\keras\\src\\layers\\core\\embedding.py:86: UserWarning: Argument `input_length` is deprecated. Just remove it.\n",
      "  warnings.warn(\n"
     ]
    },
    {
     "name": "stdout",
     "output_type": "stream",
     "text": [
      "\u001b[1m11/11\u001b[0m \u001b[32m━━━━━━━━━━━━━━━━━━━━\u001b[0m\u001b[37m\u001b[0m \u001b[1m7s\u001b[0m 223ms/step - accuracy: 0.4776 - loss: 0.6938\n",
      "Epoch 2/10\n",
      "\u001b[1m11/11\u001b[0m \u001b[32m━━━━━━━━━━━━━━━━━━━━\u001b[0m\u001b[37m\u001b[0m \u001b[1m2s\u001b[0m 221ms/step - accuracy: 0.5675 - loss: 0.6902\n",
      "Epoch 3/10\n",
      "\u001b[1m11/11\u001b[0m \u001b[32m━━━━━━━━━━━━━━━━━━━━\u001b[0m\u001b[37m\u001b[0m \u001b[1m2s\u001b[0m 221ms/step - accuracy: 0.5315 - loss: 0.6874\n",
      "Epoch 4/10\n",
      "\u001b[1m11/11\u001b[0m \u001b[32m━━━━━━━━━━━━━━━━━━━━\u001b[0m\u001b[37m\u001b[0m \u001b[1m2s\u001b[0m 224ms/step - accuracy: 0.5322 - loss: 0.6830\n",
      "Epoch 5/10\n",
      "\u001b[1m11/11\u001b[0m \u001b[32m━━━━━━━━━━━━━━━━━━━━\u001b[0m\u001b[37m\u001b[0m \u001b[1m2s\u001b[0m 224ms/step - accuracy: 0.5401 - loss: 0.6770\n",
      "\u001b[1m6/6\u001b[0m \u001b[32m━━━━━━━━━━━━━━━━━━━━\u001b[0m\u001b[37m\u001b[0m \u001b[1m1s\u001b[0m 155ms/step\n",
      "result score f1 fuc -0.5172129457843743\n",
      "kw {}\n",
      "create mod: d_rate 0.1394688176384855 d_rate2  0.08652138168185775 LSTM  64 dim  200 lr  0.00017925688048517325\n",
      "Epoch 1/10\n"
     ]
    },
    {
     "name": "stderr",
     "output_type": "stream",
     "text": [
      "C:\\Users\\mrbvb\\AppData\\Local\\Temp\\ipykernel_26724\\2049930526.py:16: FutureWarning: suggest_uniform has been deprecated in v3.0.0. This feature will be removed in v6.0.0. See https://github.com/optuna/optuna/releases/tag/v3.0.0. Use suggest_float instead.\n",
      "  dropout_rate = trial.suggest_uniform('dropout_rate', 0.09, 0.3)\n",
      "c:\\Users\\mrbvb\\AppData\\Local\\Programs\\Python\\Python311\\Lib\\site-packages\\optuna\\trial\\_trial.py:676: RuntimeWarning: Inconsistent parameter values for distribution with name \"dropout_rate\"! This might be a configuration mistake. Optuna allows to call the same distribution with the same name more than once in a trial. When the parameter values are inconsistent optuna only uses the values of the first call and ignores all following. Using these values: {'step': None, 'low': 0.05, 'high': 0.3, 'log': False}\n",
      "  warnings.warn(\n",
      "C:\\Users\\mrbvb\\AppData\\Local\\Temp\\ipykernel_26724\\2049930526.py:17: FutureWarning: suggest_uniform has been deprecated in v3.0.0. This feature will be removed in v6.0.0. See https://github.com/optuna/optuna/releases/tag/v3.0.0. Use suggest_float instead.\n",
      "  dropout_rate2 = trial.suggest_uniform('dropout_rate2', 0.05, 0.2)\n",
      "c:\\Users\\mrbvb\\AppData\\Local\\Programs\\Python\\Python311\\Lib\\site-packages\\optuna\\trial\\_trial.py:676: RuntimeWarning: Inconsistent parameter values for distribution with name \"dropout_rate2\"! This might be a configuration mistake. Optuna allows to call the same distribution with the same name more than once in a trial. When the parameter values are inconsistent optuna only uses the values of the first call and ignores all following. Using these values: {'step': None, 'low': 0.05, 'high': 0.1, 'log': False}\n",
      "  warnings.warn(\n",
      "C:\\Users\\mrbvb\\AppData\\Local\\Temp\\ipykernel_26724\\2049930526.py:20: FutureWarning: suggest_loguniform has been deprecated in v3.0.0. This feature will be removed in v6.0.0. See https://github.com/optuna/optuna/releases/tag/v3.0.0. Use suggest_float(..., log=True) instead.\n",
      "  learning_rate = trial.suggest_loguniform('learning_rate', 1e-6, 1e-3)\n",
      "c:\\Users\\mrbvb\\AppData\\Local\\Programs\\Python\\Python311\\Lib\\site-packages\\keras\\src\\layers\\core\\embedding.py:86: UserWarning: Argument `input_length` is deprecated. Just remove it.\n",
      "  warnings.warn(\n"
     ]
    },
    {
     "name": "stdout",
     "output_type": "stream",
     "text": [
      "\u001b[1m11/11\u001b[0m \u001b[32m━━━━━━━━━━━━━━━━━━━━\u001b[0m\u001b[37m\u001b[0m \u001b[1m6s\u001b[0m 210ms/step - accuracy: 0.5089 - loss: 0.6934\n",
      "Epoch 2/10\n",
      "\u001b[1m11/11\u001b[0m \u001b[32m━━━━━━━━━━━━━━━━━━━━\u001b[0m\u001b[37m\u001b[0m \u001b[1m2s\u001b[0m 205ms/step - accuracy: 0.5004 - loss: 0.6919\n",
      "Epoch 3/10\n",
      "\u001b[1m11/11\u001b[0m \u001b[32m━━━━━━━━━━━━━━━━━━━━\u001b[0m\u001b[37m\u001b[0m \u001b[1m2s\u001b[0m 206ms/step - accuracy: 0.5386 - loss: 0.6860\n",
      "Epoch 4/10\n",
      "\u001b[1m11/11\u001b[0m \u001b[32m━━━━━━━━━━━━━━━━━━━━\u001b[0m\u001b[37m\u001b[0m \u001b[1m2s\u001b[0m 207ms/step - accuracy: 0.5094 - loss: 0.6819\n",
      "Epoch 5/10\n",
      "\u001b[1m11/11\u001b[0m \u001b[32m━━━━━━━━━━━━━━━━━━━━\u001b[0m\u001b[37m\u001b[0m \u001b[1m2s\u001b[0m 208ms/step - accuracy: 0.5558 - loss: 0.6710\n",
      "Epoch 6/10\n",
      "\u001b[1m11/11\u001b[0m \u001b[32m━━━━━━━━━━━━━━━━━━━━\u001b[0m\u001b[37m\u001b[0m \u001b[1m2s\u001b[0m 208ms/step - accuracy: 0.6705 - loss: 0.6448\n",
      "Epoch 7/10\n",
      "\u001b[1m11/11\u001b[0m \u001b[32m━━━━━━━━━━━━━━━━━━━━\u001b[0m\u001b[37m\u001b[0m \u001b[1m2s\u001b[0m 212ms/step - accuracy: 0.7879 - loss: 0.5876\n",
      "Epoch 8/10\n",
      "\u001b[1m11/11\u001b[0m \u001b[32m━━━━━━━━━━━━━━━━━━━━\u001b[0m\u001b[37m\u001b[0m \u001b[1m2s\u001b[0m 210ms/step - accuracy: 0.9253 - loss: 0.4996\n",
      "Epoch 9/10\n",
      "\u001b[1m11/11\u001b[0m \u001b[32m━━━━━━━━━━━━━━━━━━━━\u001b[0m\u001b[37m\u001b[0m \u001b[1m2s\u001b[0m 205ms/step - accuracy: 0.8685 - loss: 0.4236\n",
      "Epoch 10/10\n",
      "\u001b[1m11/11\u001b[0m \u001b[32m━━━━━━━━━━━━━━━━━━━━\u001b[0m\u001b[37m\u001b[0m \u001b[1m2s\u001b[0m 208ms/step - accuracy: 0.9341 - loss: 0.3092\n",
      "\u001b[1m6/6\u001b[0m \u001b[32m━━━━━━━━━━━━━━━━━━━━\u001b[0m\u001b[37m\u001b[0m \u001b[1m1s\u001b[0m 153ms/step\n",
      "kw {}\n",
      "create mod: d_rate 0.1394688176384855 d_rate2  0.08652138168185775 LSTM  64 dim  200 lr  0.00017925688048517325\n",
      "Epoch 1/10\n"
     ]
    },
    {
     "name": "stderr",
     "output_type": "stream",
     "text": [
      "C:\\Users\\mrbvb\\AppData\\Local\\Temp\\ipykernel_26724\\2049930526.py:16: FutureWarning: suggest_uniform has been deprecated in v3.0.0. This feature will be removed in v6.0.0. See https://github.com/optuna/optuna/releases/tag/v3.0.0. Use suggest_float instead.\n",
      "  dropout_rate = trial.suggest_uniform('dropout_rate', 0.09, 0.3)\n",
      "c:\\Users\\mrbvb\\AppData\\Local\\Programs\\Python\\Python311\\Lib\\site-packages\\optuna\\trial\\_trial.py:676: RuntimeWarning: Inconsistent parameter values for distribution with name \"dropout_rate\"! This might be a configuration mistake. Optuna allows to call the same distribution with the same name more than once in a trial. When the parameter values are inconsistent optuna only uses the values of the first call and ignores all following. Using these values: {'step': None, 'low': 0.05, 'high': 0.3, 'log': False}\n",
      "  warnings.warn(\n",
      "C:\\Users\\mrbvb\\AppData\\Local\\Temp\\ipykernel_26724\\2049930526.py:17: FutureWarning: suggest_uniform has been deprecated in v3.0.0. This feature will be removed in v6.0.0. See https://github.com/optuna/optuna/releases/tag/v3.0.0. Use suggest_float instead.\n",
      "  dropout_rate2 = trial.suggest_uniform('dropout_rate2', 0.05, 0.2)\n",
      "c:\\Users\\mrbvb\\AppData\\Local\\Programs\\Python\\Python311\\Lib\\site-packages\\optuna\\trial\\_trial.py:676: RuntimeWarning: Inconsistent parameter values for distribution with name \"dropout_rate2\"! This might be a configuration mistake. Optuna allows to call the same distribution with the same name more than once in a trial. When the parameter values are inconsistent optuna only uses the values of the first call and ignores all following. Using these values: {'step': None, 'low': 0.05, 'high': 0.1, 'log': False}\n",
      "  warnings.warn(\n",
      "C:\\Users\\mrbvb\\AppData\\Local\\Temp\\ipykernel_26724\\2049930526.py:20: FutureWarning: suggest_loguniform has been deprecated in v3.0.0. This feature will be removed in v6.0.0. See https://github.com/optuna/optuna/releases/tag/v3.0.0. Use suggest_float(..., log=True) instead.\n",
      "  learning_rate = trial.suggest_loguniform('learning_rate', 1e-6, 1e-3)\n",
      "c:\\Users\\mrbvb\\AppData\\Local\\Programs\\Python\\Python311\\Lib\\site-packages\\keras\\src\\layers\\core\\embedding.py:86: UserWarning: Argument `input_length` is deprecated. Just remove it.\n",
      "  warnings.warn(\n"
     ]
    },
    {
     "name": "stdout",
     "output_type": "stream",
     "text": [
      "\u001b[1m11/11\u001b[0m \u001b[32m━━━━━━━━━━━━━━━━━━━━\u001b[0m\u001b[37m\u001b[0m \u001b[1m6s\u001b[0m 192ms/step - accuracy: 0.4904 - loss: 0.6939\n",
      "Epoch 2/10\n",
      "\u001b[1m11/11\u001b[0m \u001b[32m━━━━━━━━━━━━━━━━━━━━\u001b[0m\u001b[37m\u001b[0m \u001b[1m2s\u001b[0m 193ms/step - accuracy: 0.5490 - loss: 0.6905\n",
      "Epoch 3/10\n",
      "\u001b[1m11/11\u001b[0m \u001b[32m━━━━━━━━━━━━━━━━━━━━\u001b[0m\u001b[37m\u001b[0m \u001b[1m2s\u001b[0m 191ms/step - accuracy: 0.6872 - loss: 0.6862\n",
      "Epoch 4/10\n",
      "\u001b[1m11/11\u001b[0m \u001b[32m━━━━━━━━━━━━━━━━━━━━\u001b[0m\u001b[37m\u001b[0m \u001b[1m2s\u001b[0m 192ms/step - accuracy: 0.8100 - loss: 0.6772\n",
      "Epoch 5/10\n",
      "\u001b[1m11/11\u001b[0m \u001b[32m━━━━━━━━━━━━━━━━━━━━\u001b[0m\u001b[37m\u001b[0m \u001b[1m2s\u001b[0m 191ms/step - accuracy: 0.7933 - loss: 0.6653\n",
      "Epoch 6/10\n",
      "\u001b[1m11/11\u001b[0m \u001b[32m━━━━━━━━━━━━━━━━━━━━\u001b[0m\u001b[37m\u001b[0m \u001b[1m2s\u001b[0m 192ms/step - accuracy: 0.8924 - loss: 0.6346\n",
      "Epoch 7/10\n",
      "\u001b[1m11/11\u001b[0m \u001b[32m━━━━━━━━━━━━━━━━━━━━\u001b[0m\u001b[37m\u001b[0m \u001b[1m2s\u001b[0m 192ms/step - accuracy: 0.8358 - loss: 0.5815\n",
      "Epoch 8/10\n",
      "\u001b[1m11/11\u001b[0m \u001b[32m━━━━━━━━━━━━━━━━━━━━\u001b[0m\u001b[37m\u001b[0m \u001b[1m2s\u001b[0m 192ms/step - accuracy: 0.9064 - loss: 0.4937\n",
      "Epoch 9/10\n",
      "\u001b[1m11/11\u001b[0m \u001b[32m━━━━━━━━━━━━━━━━━━━━\u001b[0m\u001b[37m\u001b[0m \u001b[1m2s\u001b[0m 192ms/step - accuracy: 0.9290 - loss: 0.3869\n",
      "Epoch 10/10\n",
      "\u001b[1m11/11\u001b[0m \u001b[32m━━━━━━━━━━━━━━━━━━━━\u001b[0m\u001b[37m\u001b[0m \u001b[1m2s\u001b[0m 192ms/step - accuracy: 0.8459 - loss: 0.3820\n",
      "\u001b[1m6/6\u001b[0m \u001b[32m━━━━━━━━━━━━━━━━━━━━\u001b[0m\u001b[37m\u001b[0m \u001b[1m1s\u001b[0m 148ms/step\n",
      "kw {}\n",
      "create mod: d_rate 0.1394688176384855 d_rate2  0.08652138168185775 LSTM  64 dim  200 lr  0.00017925688048517325\n",
      "Epoch 1/10\n"
     ]
    },
    {
     "name": "stderr",
     "output_type": "stream",
     "text": [
      "C:\\Users\\mrbvb\\AppData\\Local\\Temp\\ipykernel_26724\\2049930526.py:16: FutureWarning: suggest_uniform has been deprecated in v3.0.0. This feature will be removed in v6.0.0. See https://github.com/optuna/optuna/releases/tag/v3.0.0. Use suggest_float instead.\n",
      "  dropout_rate = trial.suggest_uniform('dropout_rate', 0.09, 0.3)\n",
      "c:\\Users\\mrbvb\\AppData\\Local\\Programs\\Python\\Python311\\Lib\\site-packages\\optuna\\trial\\_trial.py:676: RuntimeWarning: Inconsistent parameter values for distribution with name \"dropout_rate\"! This might be a configuration mistake. Optuna allows to call the same distribution with the same name more than once in a trial. When the parameter values are inconsistent optuna only uses the values of the first call and ignores all following. Using these values: {'step': None, 'low': 0.05, 'high': 0.3, 'log': False}\n",
      "  warnings.warn(\n",
      "C:\\Users\\mrbvb\\AppData\\Local\\Temp\\ipykernel_26724\\2049930526.py:17: FutureWarning: suggest_uniform has been deprecated in v3.0.0. This feature will be removed in v6.0.0. See https://github.com/optuna/optuna/releases/tag/v3.0.0. Use suggest_float instead.\n",
      "  dropout_rate2 = trial.suggest_uniform('dropout_rate2', 0.05, 0.2)\n",
      "c:\\Users\\mrbvb\\AppData\\Local\\Programs\\Python\\Python311\\Lib\\site-packages\\optuna\\trial\\_trial.py:676: RuntimeWarning: Inconsistent parameter values for distribution with name \"dropout_rate2\"! This might be a configuration mistake. Optuna allows to call the same distribution with the same name more than once in a trial. When the parameter values are inconsistent optuna only uses the values of the first call and ignores all following. Using these values: {'step': None, 'low': 0.05, 'high': 0.1, 'log': False}\n",
      "  warnings.warn(\n",
      "C:\\Users\\mrbvb\\AppData\\Local\\Temp\\ipykernel_26724\\2049930526.py:20: FutureWarning: suggest_loguniform has been deprecated in v3.0.0. This feature will be removed in v6.0.0. See https://github.com/optuna/optuna/releases/tag/v3.0.0. Use suggest_float(..., log=True) instead.\n",
      "  learning_rate = trial.suggest_loguniform('learning_rate', 1e-6, 1e-3)\n",
      "c:\\Users\\mrbvb\\AppData\\Local\\Programs\\Python\\Python311\\Lib\\site-packages\\keras\\src\\layers\\core\\embedding.py:86: UserWarning: Argument `input_length` is deprecated. Just remove it.\n",
      "  warnings.warn(\n"
     ]
    },
    {
     "name": "stdout",
     "output_type": "stream",
     "text": [
      "\u001b[1m11/11\u001b[0m \u001b[32m━━━━━━━━━━━━━━━━━━━━\u001b[0m\u001b[37m\u001b[0m \u001b[1m6s\u001b[0m 182ms/step - accuracy: 0.4749 - loss: 0.6936\n",
      "Epoch 2/10\n",
      "\u001b[1m11/11\u001b[0m \u001b[32m━━━━━━━━━━━━━━━━━━━━\u001b[0m\u001b[37m\u001b[0m \u001b[1m2s\u001b[0m 178ms/step - accuracy: 0.5138 - loss: 0.6912\n",
      "Epoch 3/10\n",
      "\u001b[1m11/11\u001b[0m \u001b[32m━━━━━━━━━━━━━━━━━━━━\u001b[0m\u001b[37m\u001b[0m \u001b[1m2s\u001b[0m 177ms/step - accuracy: 0.5253 - loss: 0.6867\n",
      "Epoch 4/10\n",
      "\u001b[1m11/11\u001b[0m \u001b[32m━━━━━━━━━━━━━━━━━━━━\u001b[0m\u001b[37m\u001b[0m \u001b[1m2s\u001b[0m 177ms/step - accuracy: 0.5307 - loss: 0.6799\n",
      "Epoch 5/10\n",
      "\u001b[1m11/11\u001b[0m \u001b[32m━━━━━━━━━━━━━━━━━━━━\u001b[0m\u001b[37m\u001b[0m \u001b[1m2s\u001b[0m 177ms/step - accuracy: 0.5162 - loss: 0.6727\n",
      "Epoch 6/10\n",
      "\u001b[1m11/11\u001b[0m \u001b[32m━━━━━━━━━━━━━━━━━━━━\u001b[0m\u001b[37m\u001b[0m \u001b[1m2s\u001b[0m 178ms/step - accuracy: 0.6246 - loss: 0.6477\n",
      "Epoch 7/10\n",
      "\u001b[1m11/11\u001b[0m \u001b[32m━━━━━━━━━━━━━━━━━━━━\u001b[0m\u001b[37m\u001b[0m \u001b[1m2s\u001b[0m 177ms/step - accuracy: 0.7803 - loss: 0.5927\n",
      "Epoch 8/10\n",
      "\u001b[1m11/11\u001b[0m \u001b[32m━━━━━━━━━━━━━━━━━━━━\u001b[0m\u001b[37m\u001b[0m \u001b[1m2s\u001b[0m 178ms/step - accuracy: 0.9061 - loss: 0.5003\n",
      "Epoch 9/10\n",
      "\u001b[1m11/11\u001b[0m \u001b[32m━━━━━━━━━━━━━━━━━━━━\u001b[0m\u001b[37m\u001b[0m \u001b[1m2s\u001b[0m 179ms/step - accuracy: 0.8642 - loss: 0.4274\n",
      "Epoch 10/10\n",
      "\u001b[1m11/11\u001b[0m \u001b[32m━━━━━━━━━━━━━━━━━━━━\u001b[0m\u001b[37m\u001b[0m \u001b[1m2s\u001b[0m 178ms/step - accuracy: 0.9799 - loss: 0.3112\n",
      "\u001b[1m6/6\u001b[0m \u001b[32m━━━━━━━━━━━━━━━━━━━━\u001b[0m\u001b[37m\u001b[0m \u001b[1m1s\u001b[0m 145ms/step\n"
     ]
    },
    {
     "name": "stderr",
     "output_type": "stream",
     "text": [
      "[I 2024-04-30 17:39:45,737] Trial 13 finished with value: 0.7172226969545917 and parameters: {'dropout_rate': 0.1394688176384855, 'dropout_rate2': 0.08652138168185775, 'LSTM_units': 64, 'EMBEDDING_DIM': 200, 'learning_rate': 0.00017925688048517325}. Best is trial 8 with value: 0.7580995336558741.\n"
     ]
    },
    {
     "name": "stdout",
     "output_type": "stream",
     "text": [
      "objectiving\n",
      "kw {}\n",
      "kw {}\n",
      "create mod: d_rate 0.22138547820691373 d_rate2  0.08528101759852784 LSTM  64 dim  150 lr  0.0003382481107410093\n",
      "Epoch 1/10\n"
     ]
    },
    {
     "name": "stderr",
     "output_type": "stream",
     "text": [
      "C:\\Users\\mrbvb\\AppData\\Local\\Temp\\ipykernel_26724\\2049930526.py:63: FutureWarning: suggest_uniform has been deprecated in v3.0.0. This feature will be removed in v6.0.0. See https://github.com/optuna/optuna/releases/tag/v3.0.0. Use suggest_float instead.\n",
      "  dropout_rate = trial.suggest_uniform('dropout_rate', 0.05, 0.3) #value should be from small to large only\n",
      "C:\\Users\\mrbvb\\AppData\\Local\\Temp\\ipykernel_26724\\2049930526.py:64: FutureWarning: suggest_uniform has been deprecated in v3.0.0. This feature will be removed in v6.0.0. See https://github.com/optuna/optuna/releases/tag/v3.0.0. Use suggest_float instead.\n",
      "  dropout_rate2 = trial.suggest_uniform('dropout_rate2', 0.05, 0.1)\n",
      "C:\\Users\\mrbvb\\AppData\\Local\\Temp\\ipykernel_26724\\2049930526.py:67: FutureWarning: suggest_loguniform has been deprecated in v3.0.0. This feature will be removed in v6.0.0. See https://github.com/optuna/optuna/releases/tag/v3.0.0. Use suggest_float(..., log=True) instead.\n",
      "  learning_rate = trial.suggest_loguniform('learning_rate', 1e-6, 1e-3)\n",
      "C:\\Users\\mrbvb\\AppData\\Local\\Temp\\ipykernel_26724\\2049930526.py:16: FutureWarning: suggest_uniform has been deprecated in v3.0.0. This feature will be removed in v6.0.0. See https://github.com/optuna/optuna/releases/tag/v3.0.0. Use suggest_float instead.\n",
      "  dropout_rate = trial.suggest_uniform('dropout_rate', 0.09, 0.3)\n",
      "c:\\Users\\mrbvb\\AppData\\Local\\Programs\\Python\\Python311\\Lib\\site-packages\\optuna\\trial\\_trial.py:676: RuntimeWarning: Inconsistent parameter values for distribution with name \"dropout_rate\"! This might be a configuration mistake. Optuna allows to call the same distribution with the same name more than once in a trial. When the parameter values are inconsistent optuna only uses the values of the first call and ignores all following. Using these values: {'step': None, 'low': 0.05, 'high': 0.3, 'log': False}\n",
      "  warnings.warn(\n",
      "C:\\Users\\mrbvb\\AppData\\Local\\Temp\\ipykernel_26724\\2049930526.py:17: FutureWarning: suggest_uniform has been deprecated in v3.0.0. This feature will be removed in v6.0.0. See https://github.com/optuna/optuna/releases/tag/v3.0.0. Use suggest_float instead.\n",
      "  dropout_rate2 = trial.suggest_uniform('dropout_rate2', 0.05, 0.2)\n",
      "c:\\Users\\mrbvb\\AppData\\Local\\Programs\\Python\\Python311\\Lib\\site-packages\\optuna\\trial\\_trial.py:676: RuntimeWarning: Inconsistent parameter values for distribution with name \"dropout_rate2\"! This might be a configuration mistake. Optuna allows to call the same distribution with the same name more than once in a trial. When the parameter values are inconsistent optuna only uses the values of the first call and ignores all following. Using these values: {'step': None, 'low': 0.05, 'high': 0.1, 'log': False}\n",
      "  warnings.warn(\n",
      "C:\\Users\\mrbvb\\AppData\\Local\\Temp\\ipykernel_26724\\2049930526.py:20: FutureWarning: suggest_loguniform has been deprecated in v3.0.0. This feature will be removed in v6.0.0. See https://github.com/optuna/optuna/releases/tag/v3.0.0. Use suggest_float(..., log=True) instead.\n",
      "  learning_rate = trial.suggest_loguniform('learning_rate', 1e-6, 1e-3)\n",
      "c:\\Users\\mrbvb\\AppData\\Local\\Programs\\Python\\Python311\\Lib\\site-packages\\keras\\src\\layers\\core\\embedding.py:86: UserWarning: Argument `input_length` is deprecated. Just remove it.\n",
      "  warnings.warn(\n"
     ]
    },
    {
     "name": "stdout",
     "output_type": "stream",
     "text": [
      "\u001b[1m11/11\u001b[0m \u001b[32m━━━━━━━━━━━━━━━━━━━━\u001b[0m\u001b[37m\u001b[0m \u001b[1m7s\u001b[0m 223ms/step - accuracy: 0.5170 - loss: 0.6926\n",
      "Epoch 2/10\n",
      "\u001b[1m11/11\u001b[0m \u001b[32m━━━━━━━━━━━━━━━━━━━━\u001b[0m\u001b[37m\u001b[0m \u001b[1m2s\u001b[0m 225ms/step - accuracy: 0.5535 - loss: 0.6856\n",
      "Epoch 3/10\n",
      "\u001b[1m11/11\u001b[0m \u001b[32m━━━━━━━━━━━━━━━━━━━━\u001b[0m\u001b[37m\u001b[0m \u001b[1m3s\u001b[0m 226ms/step - accuracy: 0.5578 - loss: 0.6735\n",
      "Epoch 4/10\n",
      "\u001b[1m11/11\u001b[0m \u001b[32m━━━━━━━━━━━━━━━━━━━━\u001b[0m\u001b[37m\u001b[0m \u001b[1m3s\u001b[0m 226ms/step - accuracy: 0.6655 - loss: 0.6510\n",
      "Epoch 5/10\n",
      "\u001b[1m11/11\u001b[0m \u001b[32m━━━━━━━━━━━━━━━━━━━━\u001b[0m\u001b[37m\u001b[0m \u001b[1m3s\u001b[0m 226ms/step - accuracy: 0.7818 - loss: 0.5549\n",
      "Epoch 6/10\n",
      "\u001b[1m11/11\u001b[0m \u001b[32m━━━━━━━━━━━━━━━━━━━━\u001b[0m\u001b[37m\u001b[0m \u001b[1m3s\u001b[0m 228ms/step - accuracy: 0.8834 - loss: 0.4485\n",
      "Epoch 7/10\n",
      "\u001b[1m11/11\u001b[0m \u001b[32m━━━━━━━━━━━━━━━━━━━━\u001b[0m\u001b[37m\u001b[0m \u001b[1m3s\u001b[0m 227ms/step - accuracy: 0.8973 - loss: 0.3314\n",
      "Epoch 8/10\n",
      "\u001b[1m11/11\u001b[0m \u001b[32m━━━━━━━━━━━━━━━━━━━━\u001b[0m\u001b[37m\u001b[0m \u001b[1m3s\u001b[0m 226ms/step - accuracy: 0.9720 - loss: 0.1790\n",
      "Epoch 9/10\n",
      "\u001b[1m11/11\u001b[0m \u001b[32m━━━━━━━━━━━━━━━━━━━━\u001b[0m\u001b[37m\u001b[0m \u001b[1m3s\u001b[0m 228ms/step - accuracy: 0.9955 - loss: 0.0659\n",
      "Epoch 10/10\n",
      "\u001b[1m11/11\u001b[0m \u001b[32m━━━━━━━━━━━━━━━━━━━━\u001b[0m\u001b[37m\u001b[0m \u001b[1m3s\u001b[0m 225ms/step - accuracy: 0.9992 - loss: 0.0266\n",
      "\u001b[1m6/6\u001b[0m \u001b[32m━━━━━━━━━━━━━━━━━━━━\u001b[0m\u001b[37m\u001b[0m \u001b[1m1s\u001b[0m 154ms/step\n",
      "kw {}\n",
      "create mod: d_rate 0.22138547820691373 d_rate2  0.08528101759852784 LSTM  64 dim  150 lr  0.0003382481107410093\n",
      "Epoch 1/10\n"
     ]
    },
    {
     "name": "stderr",
     "output_type": "stream",
     "text": [
      "C:\\Users\\mrbvb\\AppData\\Local\\Temp\\ipykernel_26724\\2049930526.py:16: FutureWarning: suggest_uniform has been deprecated in v3.0.0. This feature will be removed in v6.0.0. See https://github.com/optuna/optuna/releases/tag/v3.0.0. Use suggest_float instead.\n",
      "  dropout_rate = trial.suggest_uniform('dropout_rate', 0.09, 0.3)\n",
      "c:\\Users\\mrbvb\\AppData\\Local\\Programs\\Python\\Python311\\Lib\\site-packages\\optuna\\trial\\_trial.py:676: RuntimeWarning: Inconsistent parameter values for distribution with name \"dropout_rate\"! This might be a configuration mistake. Optuna allows to call the same distribution with the same name more than once in a trial. When the parameter values are inconsistent optuna only uses the values of the first call and ignores all following. Using these values: {'step': None, 'low': 0.05, 'high': 0.3, 'log': False}\n",
      "  warnings.warn(\n",
      "C:\\Users\\mrbvb\\AppData\\Local\\Temp\\ipykernel_26724\\2049930526.py:17: FutureWarning: suggest_uniform has been deprecated in v3.0.0. This feature will be removed in v6.0.0. See https://github.com/optuna/optuna/releases/tag/v3.0.0. Use suggest_float instead.\n",
      "  dropout_rate2 = trial.suggest_uniform('dropout_rate2', 0.05, 0.2)\n",
      "c:\\Users\\mrbvb\\AppData\\Local\\Programs\\Python\\Python311\\Lib\\site-packages\\optuna\\trial\\_trial.py:676: RuntimeWarning: Inconsistent parameter values for distribution with name \"dropout_rate2\"! This might be a configuration mistake. Optuna allows to call the same distribution with the same name more than once in a trial. When the parameter values are inconsistent optuna only uses the values of the first call and ignores all following. Using these values: {'step': None, 'low': 0.05, 'high': 0.1, 'log': False}\n",
      "  warnings.warn(\n",
      "C:\\Users\\mrbvb\\AppData\\Local\\Temp\\ipykernel_26724\\2049930526.py:20: FutureWarning: suggest_loguniform has been deprecated in v3.0.0. This feature will be removed in v6.0.0. See https://github.com/optuna/optuna/releases/tag/v3.0.0. Use suggest_float(..., log=True) instead.\n",
      "  learning_rate = trial.suggest_loguniform('learning_rate', 1e-6, 1e-3)\n",
      "c:\\Users\\mrbvb\\AppData\\Local\\Programs\\Python\\Python311\\Lib\\site-packages\\keras\\src\\layers\\core\\embedding.py:86: UserWarning: Argument `input_length` is deprecated. Just remove it.\n",
      "  warnings.warn(\n"
     ]
    },
    {
     "name": "stdout",
     "output_type": "stream",
     "text": [
      "\u001b[1m11/11\u001b[0m \u001b[32m━━━━━━━━━━━━━━━━━━━━\u001b[0m\u001b[37m\u001b[0m \u001b[1m7s\u001b[0m 219ms/step - accuracy: 0.4627 - loss: 0.6950\n",
      "Epoch 2/10\n",
      "\u001b[1m11/11\u001b[0m \u001b[32m━━━━━━━━━━━━━━━━━━━━\u001b[0m\u001b[37m\u001b[0m \u001b[1m2s\u001b[0m 216ms/step - accuracy: 0.5045 - loss: 0.6923\n",
      "Epoch 3/10\n",
      "\u001b[1m11/11\u001b[0m \u001b[32m━━━━━━━━━━━━━━━━━━━━\u001b[0m\u001b[37m\u001b[0m \u001b[1m2s\u001b[0m 218ms/step - accuracy: 0.6830 - loss: 0.6837\n",
      "Epoch 4/10\n",
      "\u001b[1m11/11\u001b[0m \u001b[32m━━━━━━━━━━━━━━━━━━━━\u001b[0m\u001b[37m\u001b[0m \u001b[1m2s\u001b[0m 217ms/step - accuracy: 0.8695 - loss: 0.6666\n",
      "Epoch 5/10\n",
      "\u001b[1m11/11\u001b[0m \u001b[32m━━━━━━━━━━━━━━━━━━━━\u001b[0m\u001b[37m\u001b[0m \u001b[1m2s\u001b[0m 217ms/step - accuracy: 0.8640 - loss: 0.6110\n",
      "Epoch 6/10\n",
      "\u001b[1m11/11\u001b[0m \u001b[32m━━━━━━━━━━━━━━━━━━━━\u001b[0m\u001b[37m\u001b[0m \u001b[1m2s\u001b[0m 218ms/step - accuracy: 0.7479 - loss: 0.5307\n",
      "Epoch 7/10\n",
      "\u001b[1m11/11\u001b[0m \u001b[32m━━━━━━━━━━━━━━━━━━━━\u001b[0m\u001b[37m\u001b[0m \u001b[1m2s\u001b[0m 218ms/step - accuracy: 0.9614 - loss: 0.3694\n",
      "Epoch 8/10\n",
      "\u001b[1m11/11\u001b[0m \u001b[32m━━━━━━━━━━━━━━━━━━━━\u001b[0m\u001b[37m\u001b[0m \u001b[1m2s\u001b[0m 219ms/step - accuracy: 0.9720 - loss: 0.2616\n",
      "Epoch 9/10\n",
      "\u001b[1m11/11\u001b[0m \u001b[32m━━━━━━━━━━━━━━━━━━━━\u001b[0m\u001b[37m\u001b[0m \u001b[1m2s\u001b[0m 219ms/step - accuracy: 0.9895 - loss: 0.1472\n",
      "Epoch 10/10\n",
      "\u001b[1m11/11\u001b[0m \u001b[32m━━━━━━━━━━━━━━━━━━━━\u001b[0m\u001b[37m\u001b[0m \u001b[1m2s\u001b[0m 216ms/step - accuracy: 0.9882 - loss: 0.0735\n",
      "\u001b[1m6/6\u001b[0m \u001b[32m━━━━━━━━━━━━━━━━━━━━\u001b[0m\u001b[37m\u001b[0m \u001b[1m1s\u001b[0m 150ms/step\n",
      "kw {}\n",
      "create mod: d_rate 0.22138547820691373 d_rate2  0.08528101759852784 LSTM  64 dim  150 lr  0.0003382481107410093\n",
      "Epoch 1/10\n"
     ]
    },
    {
     "name": "stderr",
     "output_type": "stream",
     "text": [
      "C:\\Users\\mrbvb\\AppData\\Local\\Temp\\ipykernel_26724\\2049930526.py:16: FutureWarning: suggest_uniform has been deprecated in v3.0.0. This feature will be removed in v6.0.0. See https://github.com/optuna/optuna/releases/tag/v3.0.0. Use suggest_float instead.\n",
      "  dropout_rate = trial.suggest_uniform('dropout_rate', 0.09, 0.3)\n",
      "c:\\Users\\mrbvb\\AppData\\Local\\Programs\\Python\\Python311\\Lib\\site-packages\\optuna\\trial\\_trial.py:676: RuntimeWarning: Inconsistent parameter values for distribution with name \"dropout_rate\"! This might be a configuration mistake. Optuna allows to call the same distribution with the same name more than once in a trial. When the parameter values are inconsistent optuna only uses the values of the first call and ignores all following. Using these values: {'step': None, 'low': 0.05, 'high': 0.3, 'log': False}\n",
      "  warnings.warn(\n",
      "C:\\Users\\mrbvb\\AppData\\Local\\Temp\\ipykernel_26724\\2049930526.py:17: FutureWarning: suggest_uniform has been deprecated in v3.0.0. This feature will be removed in v6.0.0. See https://github.com/optuna/optuna/releases/tag/v3.0.0. Use suggest_float instead.\n",
      "  dropout_rate2 = trial.suggest_uniform('dropout_rate2', 0.05, 0.2)\n",
      "c:\\Users\\mrbvb\\AppData\\Local\\Programs\\Python\\Python311\\Lib\\site-packages\\optuna\\trial\\_trial.py:676: RuntimeWarning: Inconsistent parameter values for distribution with name \"dropout_rate2\"! This might be a configuration mistake. Optuna allows to call the same distribution with the same name more than once in a trial. When the parameter values are inconsistent optuna only uses the values of the first call and ignores all following. Using these values: {'step': None, 'low': 0.05, 'high': 0.1, 'log': False}\n",
      "  warnings.warn(\n",
      "C:\\Users\\mrbvb\\AppData\\Local\\Temp\\ipykernel_26724\\2049930526.py:20: FutureWarning: suggest_loguniform has been deprecated in v3.0.0. This feature will be removed in v6.0.0. See https://github.com/optuna/optuna/releases/tag/v3.0.0. Use suggest_float(..., log=True) instead.\n",
      "  learning_rate = trial.suggest_loguniform('learning_rate', 1e-6, 1e-3)\n",
      "c:\\Users\\mrbvb\\AppData\\Local\\Programs\\Python\\Python311\\Lib\\site-packages\\keras\\src\\layers\\core\\embedding.py:86: UserWarning: Argument `input_length` is deprecated. Just remove it.\n",
      "  warnings.warn(\n"
     ]
    },
    {
     "name": "stdout",
     "output_type": "stream",
     "text": [
      "\u001b[1m11/11\u001b[0m \u001b[32m━━━━━━━━━━━━━━━━━━━━\u001b[0m\u001b[37m\u001b[0m \u001b[1m6s\u001b[0m 209ms/step - accuracy: 0.5064 - loss: 0.6943\n",
      "Epoch 2/10\n",
      "\u001b[1m11/11\u001b[0m \u001b[32m━━━━━━━━━━━━━━━━━━━━\u001b[0m\u001b[37m\u001b[0m \u001b[1m2s\u001b[0m 205ms/step - accuracy: 0.5333 - loss: 0.6886\n",
      "Epoch 3/10\n",
      "\u001b[1m11/11\u001b[0m \u001b[32m━━━━━━━━━━━━━━━━━━━━\u001b[0m\u001b[37m\u001b[0m \u001b[1m2s\u001b[0m 207ms/step - accuracy: 0.5003 - loss: 0.6837\n",
      "Epoch 4/10\n",
      "\u001b[1m11/11\u001b[0m \u001b[32m━━━━━━━━━━━━━━━━━━━━\u001b[0m\u001b[37m\u001b[0m \u001b[1m2s\u001b[0m 205ms/step - accuracy: 0.5654 - loss: 0.6617\n",
      "Epoch 5/10\n",
      "\u001b[1m11/11\u001b[0m \u001b[32m━━━━━━━━━━━━━━━━━━━━\u001b[0m\u001b[37m\u001b[0m \u001b[1m2s\u001b[0m 208ms/step - accuracy: 0.7715 - loss: 0.5848\n",
      "Epoch 6/10\n",
      "\u001b[1m11/11\u001b[0m \u001b[32m━━━━━━━━━━━━━━━━━━━━\u001b[0m\u001b[37m\u001b[0m \u001b[1m2s\u001b[0m 206ms/step - accuracy: 0.8457 - loss: 0.4832\n",
      "Epoch 7/10\n",
      "\u001b[1m11/11\u001b[0m \u001b[32m━━━━━━━━━━━━━━━━━━━━\u001b[0m\u001b[37m\u001b[0m \u001b[1m2s\u001b[0m 206ms/step - accuracy: 0.9246 - loss: 0.3518\n",
      "Epoch 8/10\n",
      "\u001b[1m11/11\u001b[0m \u001b[32m━━━━━━━━━━━━━━━━━━━━\u001b[0m\u001b[37m\u001b[0m \u001b[1m2s\u001b[0m 207ms/step - accuracy: 0.9850 - loss: 0.1854\n",
      "Epoch 9/10\n",
      "\u001b[1m11/11\u001b[0m \u001b[32m━━━━━━━━━━━━━━━━━━━━\u001b[0m\u001b[37m\u001b[0m \u001b[1m2s\u001b[0m 206ms/step - accuracy: 0.9920 - loss: 0.1075\n",
      "Epoch 10/10\n",
      "\u001b[1m11/11\u001b[0m \u001b[32m━━━━━━━━━━━━━━━━━━━━\u001b[0m\u001b[37m\u001b[0m \u001b[1m2s\u001b[0m 205ms/step - accuracy: 0.9899 - loss: 0.0595\n",
      "\u001b[1m6/6\u001b[0m \u001b[32m━━━━━━━━━━━━━━━━━━━━\u001b[0m\u001b[37m\u001b[0m \u001b[1m1s\u001b[0m 145ms/step\n",
      "result score f1 fuc -0.7304120610572223\n",
      "kw {}\n",
      "create mod: d_rate 0.22138547820691373 d_rate2  0.08528101759852784 LSTM  64 dim  150 lr  0.0003382481107410093\n",
      "Epoch 1/10\n"
     ]
    },
    {
     "name": "stderr",
     "output_type": "stream",
     "text": [
      "C:\\Users\\mrbvb\\AppData\\Local\\Temp\\ipykernel_26724\\2049930526.py:16: FutureWarning: suggest_uniform has been deprecated in v3.0.0. This feature will be removed in v6.0.0. See https://github.com/optuna/optuna/releases/tag/v3.0.0. Use suggest_float instead.\n",
      "  dropout_rate = trial.suggest_uniform('dropout_rate', 0.09, 0.3)\n",
      "c:\\Users\\mrbvb\\AppData\\Local\\Programs\\Python\\Python311\\Lib\\site-packages\\optuna\\trial\\_trial.py:676: RuntimeWarning: Inconsistent parameter values for distribution with name \"dropout_rate\"! This might be a configuration mistake. Optuna allows to call the same distribution with the same name more than once in a trial. When the parameter values are inconsistent optuna only uses the values of the first call and ignores all following. Using these values: {'step': None, 'low': 0.05, 'high': 0.3, 'log': False}\n",
      "  warnings.warn(\n",
      "C:\\Users\\mrbvb\\AppData\\Local\\Temp\\ipykernel_26724\\2049930526.py:17: FutureWarning: suggest_uniform has been deprecated in v3.0.0. This feature will be removed in v6.0.0. See https://github.com/optuna/optuna/releases/tag/v3.0.0. Use suggest_float instead.\n",
      "  dropout_rate2 = trial.suggest_uniform('dropout_rate2', 0.05, 0.2)\n",
      "c:\\Users\\mrbvb\\AppData\\Local\\Programs\\Python\\Python311\\Lib\\site-packages\\optuna\\trial\\_trial.py:676: RuntimeWarning: Inconsistent parameter values for distribution with name \"dropout_rate2\"! This might be a configuration mistake. Optuna allows to call the same distribution with the same name more than once in a trial. When the parameter values are inconsistent optuna only uses the values of the first call and ignores all following. Using these values: {'step': None, 'low': 0.05, 'high': 0.1, 'log': False}\n",
      "  warnings.warn(\n",
      "C:\\Users\\mrbvb\\AppData\\Local\\Temp\\ipykernel_26724\\2049930526.py:20: FutureWarning: suggest_loguniform has been deprecated in v3.0.0. This feature will be removed in v6.0.0. See https://github.com/optuna/optuna/releases/tag/v3.0.0. Use suggest_float(..., log=True) instead.\n",
      "  learning_rate = trial.suggest_loguniform('learning_rate', 1e-6, 1e-3)\n",
      "c:\\Users\\mrbvb\\AppData\\Local\\Programs\\Python\\Python311\\Lib\\site-packages\\keras\\src\\layers\\core\\embedding.py:86: UserWarning: Argument `input_length` is deprecated. Just remove it.\n",
      "  warnings.warn(\n"
     ]
    },
    {
     "name": "stdout",
     "output_type": "stream",
     "text": [
      "\u001b[1m11/11\u001b[0m \u001b[32m━━━━━━━━━━━━━━━━━━━━\u001b[0m\u001b[37m\u001b[0m \u001b[1m6s\u001b[0m 196ms/step - accuracy: 0.4996 - loss: 0.6941\n",
      "Epoch 2/10\n",
      "\u001b[1m11/11\u001b[0m \u001b[32m━━━━━━━━━━━━━━━━━━━━\u001b[0m\u001b[37m\u001b[0m \u001b[1m2s\u001b[0m 194ms/step - accuracy: 0.5194 - loss: 0.6886\n",
      "Epoch 3/10\n",
      "\u001b[1m11/11\u001b[0m \u001b[32m━━━━━━━━━━━━━━━━━━━━\u001b[0m\u001b[37m\u001b[0m \u001b[1m2s\u001b[0m 194ms/step - accuracy: 0.5115 - loss: 0.6826\n",
      "Epoch 4/10\n",
      "\u001b[1m11/11\u001b[0m \u001b[32m━━━━━━━━━━━━━━━━━━━━\u001b[0m\u001b[37m\u001b[0m \u001b[1m2s\u001b[0m 195ms/step - accuracy: 0.6332 - loss: 0.6576\n",
      "Epoch 5/10\n",
      "\u001b[1m11/11\u001b[0m \u001b[32m━━━━━━━━━━━━━━━━━━━━\u001b[0m\u001b[37m\u001b[0m \u001b[1m2s\u001b[0m 193ms/step - accuracy: 0.7340 - loss: 0.6053\n",
      "Epoch 6/10\n",
      "\u001b[1m11/11\u001b[0m \u001b[32m━━━━━━━━━━━━━━━━━━━━\u001b[0m\u001b[37m\u001b[0m \u001b[1m2s\u001b[0m 194ms/step - accuracy: 0.8916 - loss: 0.4703\n",
      "Epoch 7/10\n",
      "\u001b[1m11/11\u001b[0m \u001b[32m━━━━━━━━━━━━━━━━━━━━\u001b[0m\u001b[37m\u001b[0m \u001b[1m2s\u001b[0m 194ms/step - accuracy: 0.9021 - loss: 0.3403\n",
      "Epoch 8/10\n",
      "\u001b[1m11/11\u001b[0m \u001b[32m━━━━━━━━━━━━━━━━━━━━\u001b[0m\u001b[37m\u001b[0m \u001b[1m2s\u001b[0m 194ms/step - accuracy: 0.9489 - loss: 0.2099\n",
      "Epoch 9/10\n",
      "\u001b[1m11/11\u001b[0m \u001b[32m━━━━━━━━━━━━━━━━━━━━\u001b[0m\u001b[37m\u001b[0m \u001b[1m2s\u001b[0m 193ms/step - accuracy: 0.9812 - loss: 0.1087\n",
      "Epoch 10/10\n",
      "\u001b[1m11/11\u001b[0m \u001b[32m━━━━━━━━━━━━━━━━━━━━\u001b[0m\u001b[37m\u001b[0m \u001b[1m2s\u001b[0m 193ms/step - accuracy: 0.9920 - loss: 0.0524\n",
      "\u001b[1m6/6\u001b[0m \u001b[32m━━━━━━━━━━━━━━━━━━━━\u001b[0m\u001b[37m\u001b[0m \u001b[1m1s\u001b[0m 143ms/step\n",
      "kw {}\n",
      "create mod: d_rate 0.22138547820691373 d_rate2  0.08528101759852784 LSTM  64 dim  150 lr  0.0003382481107410093\n",
      "Epoch 1/10\n"
     ]
    },
    {
     "name": "stderr",
     "output_type": "stream",
     "text": [
      "C:\\Users\\mrbvb\\AppData\\Local\\Temp\\ipykernel_26724\\2049930526.py:16: FutureWarning: suggest_uniform has been deprecated in v3.0.0. This feature will be removed in v6.0.0. See https://github.com/optuna/optuna/releases/tag/v3.0.0. Use suggest_float instead.\n",
      "  dropout_rate = trial.suggest_uniform('dropout_rate', 0.09, 0.3)\n",
      "c:\\Users\\mrbvb\\AppData\\Local\\Programs\\Python\\Python311\\Lib\\site-packages\\optuna\\trial\\_trial.py:676: RuntimeWarning: Inconsistent parameter values for distribution with name \"dropout_rate\"! This might be a configuration mistake. Optuna allows to call the same distribution with the same name more than once in a trial. When the parameter values are inconsistent optuna only uses the values of the first call and ignores all following. Using these values: {'step': None, 'low': 0.05, 'high': 0.3, 'log': False}\n",
      "  warnings.warn(\n",
      "C:\\Users\\mrbvb\\AppData\\Local\\Temp\\ipykernel_26724\\2049930526.py:17: FutureWarning: suggest_uniform has been deprecated in v3.0.0. This feature will be removed in v6.0.0. See https://github.com/optuna/optuna/releases/tag/v3.0.0. Use suggest_float instead.\n",
      "  dropout_rate2 = trial.suggest_uniform('dropout_rate2', 0.05, 0.2)\n",
      "c:\\Users\\mrbvb\\AppData\\Local\\Programs\\Python\\Python311\\Lib\\site-packages\\optuna\\trial\\_trial.py:676: RuntimeWarning: Inconsistent parameter values for distribution with name \"dropout_rate2\"! This might be a configuration mistake. Optuna allows to call the same distribution with the same name more than once in a trial. When the parameter values are inconsistent optuna only uses the values of the first call and ignores all following. Using these values: {'step': None, 'low': 0.05, 'high': 0.1, 'log': False}\n",
      "  warnings.warn(\n",
      "C:\\Users\\mrbvb\\AppData\\Local\\Temp\\ipykernel_26724\\2049930526.py:20: FutureWarning: suggest_loguniform has been deprecated in v3.0.0. This feature will be removed in v6.0.0. See https://github.com/optuna/optuna/releases/tag/v3.0.0. Use suggest_float(..., log=True) instead.\n",
      "  learning_rate = trial.suggest_loguniform('learning_rate', 1e-6, 1e-3)\n",
      "c:\\Users\\mrbvb\\AppData\\Local\\Programs\\Python\\Python311\\Lib\\site-packages\\keras\\src\\layers\\core\\embedding.py:86: UserWarning: Argument `input_length` is deprecated. Just remove it.\n",
      "  warnings.warn(\n"
     ]
    },
    {
     "name": "stdout",
     "output_type": "stream",
     "text": [
      "\u001b[1m11/11\u001b[0m \u001b[32m━━━━━━━━━━━━━━━━━━━━\u001b[0m\u001b[37m\u001b[0m \u001b[1m6s\u001b[0m 185ms/step - accuracy: 0.4850 - loss: 0.6934\n",
      "Epoch 2/10\n",
      "\u001b[1m11/11\u001b[0m \u001b[32m━━━━━━━━━━━━━━━━━━━━\u001b[0m\u001b[37m\u001b[0m \u001b[1m2s\u001b[0m 183ms/step - accuracy: 0.6035 - loss: 0.6896\n",
      "Epoch 3/10\n",
      "\u001b[1m11/11\u001b[0m \u001b[32m━━━━━━━━━━━━━━━━━━━━\u001b[0m\u001b[37m\u001b[0m \u001b[1m2s\u001b[0m 185ms/step - accuracy: 0.7829 - loss: 0.6819\n",
      "Epoch 4/10\n",
      "\u001b[1m11/11\u001b[0m \u001b[32m━━━━━━━━━━━━━━━━━━━━\u001b[0m\u001b[37m\u001b[0m \u001b[1m2s\u001b[0m 185ms/step - accuracy: 0.8642 - loss: 0.6626\n",
      "Epoch 5/10\n",
      "\u001b[1m11/11\u001b[0m \u001b[32m━━━━━━━━━━━━━━━━━━━━\u001b[0m\u001b[37m\u001b[0m \u001b[1m2s\u001b[0m 184ms/step - accuracy: 0.8821 - loss: 0.5883\n",
      "Epoch 6/10\n",
      "\u001b[1m11/11\u001b[0m \u001b[32m━━━━━━━━━━━━━━━━━━━━\u001b[0m\u001b[37m\u001b[0m \u001b[1m2s\u001b[0m 184ms/step - accuracy: 0.8344 - loss: 0.4633\n",
      "Epoch 7/10\n",
      "\u001b[1m11/11\u001b[0m \u001b[32m━━━━━━━━━━━━━━━━━━━━\u001b[0m\u001b[37m\u001b[0m \u001b[1m2s\u001b[0m 184ms/step - accuracy: 0.8798 - loss: 0.3651\n",
      "Epoch 8/10\n",
      "\u001b[1m11/11\u001b[0m \u001b[32m━━━━━━━━━━━━━━━━━━━━\u001b[0m\u001b[37m\u001b[0m \u001b[1m2s\u001b[0m 185ms/step - accuracy: 0.9680 - loss: 0.2413\n",
      "Epoch 9/10\n",
      "\u001b[1m11/11\u001b[0m \u001b[32m━━━━━━━━━━━━━━━━━━━━\u001b[0m\u001b[37m\u001b[0m \u001b[1m2s\u001b[0m 185ms/step - accuracy: 0.9917 - loss: 0.1634\n",
      "Epoch 10/10\n",
      "\u001b[1m11/11\u001b[0m \u001b[32m━━━━━━━━━━━━━━━━━━━━\u001b[0m\u001b[37m\u001b[0m \u001b[1m2s\u001b[0m 186ms/step - accuracy: 0.9957 - loss: 0.1107\n",
      "\u001b[1m6/6\u001b[0m \u001b[32m━━━━━━━━━━━━━━━━━━━━\u001b[0m\u001b[37m\u001b[0m \u001b[1m1s\u001b[0m 143ms/step\n",
      "kw {}\n",
      "create mod: d_rate 0.22138547820691373 d_rate2  0.08528101759852784 LSTM  64 dim  150 lr  0.0003382481107410093\n",
      "Epoch 1/10\n"
     ]
    },
    {
     "name": "stderr",
     "output_type": "stream",
     "text": [
      "C:\\Users\\mrbvb\\AppData\\Local\\Temp\\ipykernel_26724\\2049930526.py:16: FutureWarning: suggest_uniform has been deprecated in v3.0.0. This feature will be removed in v6.0.0. See https://github.com/optuna/optuna/releases/tag/v3.0.0. Use suggest_float instead.\n",
      "  dropout_rate = trial.suggest_uniform('dropout_rate', 0.09, 0.3)\n",
      "c:\\Users\\mrbvb\\AppData\\Local\\Programs\\Python\\Python311\\Lib\\site-packages\\optuna\\trial\\_trial.py:676: RuntimeWarning: Inconsistent parameter values for distribution with name \"dropout_rate\"! This might be a configuration mistake. Optuna allows to call the same distribution with the same name more than once in a trial. When the parameter values are inconsistent optuna only uses the values of the first call and ignores all following. Using these values: {'step': None, 'low': 0.05, 'high': 0.3, 'log': False}\n",
      "  warnings.warn(\n",
      "C:\\Users\\mrbvb\\AppData\\Local\\Temp\\ipykernel_26724\\2049930526.py:17: FutureWarning: suggest_uniform has been deprecated in v3.0.0. This feature will be removed in v6.0.0. See https://github.com/optuna/optuna/releases/tag/v3.0.0. Use suggest_float instead.\n",
      "  dropout_rate2 = trial.suggest_uniform('dropout_rate2', 0.05, 0.2)\n",
      "c:\\Users\\mrbvb\\AppData\\Local\\Programs\\Python\\Python311\\Lib\\site-packages\\optuna\\trial\\_trial.py:676: RuntimeWarning: Inconsistent parameter values for distribution with name \"dropout_rate2\"! This might be a configuration mistake. Optuna allows to call the same distribution with the same name more than once in a trial. When the parameter values are inconsistent optuna only uses the values of the first call and ignores all following. Using these values: {'step': None, 'low': 0.05, 'high': 0.1, 'log': False}\n",
      "  warnings.warn(\n",
      "C:\\Users\\mrbvb\\AppData\\Local\\Temp\\ipykernel_26724\\2049930526.py:20: FutureWarning: suggest_loguniform has been deprecated in v3.0.0. This feature will be removed in v6.0.0. See https://github.com/optuna/optuna/releases/tag/v3.0.0. Use suggest_float(..., log=True) instead.\n",
      "  learning_rate = trial.suggest_loguniform('learning_rate', 1e-6, 1e-3)\n",
      "c:\\Users\\mrbvb\\AppData\\Local\\Programs\\Python\\Python311\\Lib\\site-packages\\keras\\src\\layers\\core\\embedding.py:86: UserWarning: Argument `input_length` is deprecated. Just remove it.\n",
      "  warnings.warn(\n"
     ]
    },
    {
     "name": "stdout",
     "output_type": "stream",
     "text": [
      "\u001b[1m11/11\u001b[0m \u001b[32m━━━━━━━━━━━━━━━━━━━━\u001b[0m\u001b[37m\u001b[0m \u001b[1m8s\u001b[0m 221ms/step - accuracy: 0.4699 - loss: 0.6932\n",
      "Epoch 2/10\n",
      "\u001b[1m11/11\u001b[0m \u001b[32m━━━━━━━━━━━━━━━━━━━━\u001b[0m\u001b[37m\u001b[0m \u001b[1m2s\u001b[0m 220ms/step - accuracy: 0.5294 - loss: 0.6881\n",
      "Epoch 3/10\n",
      "\u001b[1m11/11\u001b[0m \u001b[32m━━━━━━━━━━━━━━━━━━━━\u001b[0m\u001b[37m\u001b[0m \u001b[1m2s\u001b[0m 220ms/step - accuracy: 0.5185 - loss: 0.6811\n",
      "Epoch 4/10\n",
      "\u001b[1m11/11\u001b[0m \u001b[32m━━━━━━━━━━━━━━━━━━━━\u001b[0m\u001b[37m\u001b[0m \u001b[1m2s\u001b[0m 220ms/step - accuracy: 0.5795 - loss: 0.6554\n",
      "Epoch 5/10\n",
      "\u001b[1m11/11\u001b[0m \u001b[32m━━━━━━━━━━━━━━━━━━━━\u001b[0m\u001b[37m\u001b[0m \u001b[1m2s\u001b[0m 218ms/step - accuracy: 0.7762 - loss: 0.5985\n",
      "Epoch 6/10\n",
      "\u001b[1m11/11\u001b[0m \u001b[32m━━━━━━━━━━━━━━━━━━━━\u001b[0m\u001b[37m\u001b[0m \u001b[1m2s\u001b[0m 219ms/step - accuracy: 0.9045 - loss: 0.4241\n",
      "Epoch 7/10\n",
      "\u001b[1m11/11\u001b[0m \u001b[32m━━━━━━━━━━━━━━━━━━━━\u001b[0m\u001b[37m\u001b[0m \u001b[1m2s\u001b[0m 218ms/step - accuracy: 0.9347 - loss: 0.3050\n",
      "Epoch 8/10\n",
      "\u001b[1m11/11\u001b[0m \u001b[32m━━━━━━━━━━━━━━━━━━━━\u001b[0m\u001b[37m\u001b[0m \u001b[1m2s\u001b[0m 220ms/step - accuracy: 0.9804 - loss: 0.1956\n",
      "Epoch 9/10\n",
      "\u001b[1m11/11\u001b[0m \u001b[32m━━━━━━━━━━━━━━━━━━━━\u001b[0m\u001b[37m\u001b[0m \u001b[1m2s\u001b[0m 219ms/step - accuracy: 0.9876 - loss: 0.1206\n",
      "Epoch 10/10\n",
      "\u001b[1m11/11\u001b[0m \u001b[32m━━━━━━━━━━━━━━━━━━━━\u001b[0m\u001b[37m\u001b[0m \u001b[1m2s\u001b[0m 218ms/step - accuracy: 0.9947 - loss: 0.0805\n",
      "\u001b[1m6/6\u001b[0m \u001b[32m━━━━━━━━━━━━━━━━━━━━\u001b[0m\u001b[37m\u001b[0m \u001b[1m1s\u001b[0m 148ms/step\n"
     ]
    },
    {
     "name": "stderr",
     "output_type": "stream",
     "text": [
      "[I 2024-04-30 17:42:38,458] Trial 14 finished with value: 0.760381178097072 and parameters: {'dropout_rate': 0.22138547820691373, 'dropout_rate2': 0.08528101759852784, 'LSTM_units': 64, 'EMBEDDING_DIM': 150, 'learning_rate': 0.0003382481107410093}. Best is trial 14 with value: 0.760381178097072.\n"
     ]
    },
    {
     "name": "stdout",
     "output_type": "stream",
     "text": [
      "objectiving\n",
      "kw {}\n",
      "kw {}\n",
      "create mod: d_rate 0.2870471015052984 d_rate2  0.06781437803830749 LSTM  64 dim  150 lr  7.032462753944863e-05\n",
      "Epoch 1/10\n"
     ]
    },
    {
     "name": "stderr",
     "output_type": "stream",
     "text": [
      "C:\\Users\\mrbvb\\AppData\\Local\\Temp\\ipykernel_26724\\2049930526.py:63: FutureWarning: suggest_uniform has been deprecated in v3.0.0. This feature will be removed in v6.0.0. See https://github.com/optuna/optuna/releases/tag/v3.0.0. Use suggest_float instead.\n",
      "  dropout_rate = trial.suggest_uniform('dropout_rate', 0.05, 0.3) #value should be from small to large only\n",
      "C:\\Users\\mrbvb\\AppData\\Local\\Temp\\ipykernel_26724\\2049930526.py:64: FutureWarning: suggest_uniform has been deprecated in v3.0.0. This feature will be removed in v6.0.0. See https://github.com/optuna/optuna/releases/tag/v3.0.0. Use suggest_float instead.\n",
      "  dropout_rate2 = trial.suggest_uniform('dropout_rate2', 0.05, 0.1)\n",
      "C:\\Users\\mrbvb\\AppData\\Local\\Temp\\ipykernel_26724\\2049930526.py:67: FutureWarning: suggest_loguniform has been deprecated in v3.0.0. This feature will be removed in v6.0.0. See https://github.com/optuna/optuna/releases/tag/v3.0.0. Use suggest_float(..., log=True) instead.\n",
      "  learning_rate = trial.suggest_loguniform('learning_rate', 1e-6, 1e-3)\n",
      "C:\\Users\\mrbvb\\AppData\\Local\\Temp\\ipykernel_26724\\2049930526.py:16: FutureWarning: suggest_uniform has been deprecated in v3.0.0. This feature will be removed in v6.0.0. See https://github.com/optuna/optuna/releases/tag/v3.0.0. Use suggest_float instead.\n",
      "  dropout_rate = trial.suggest_uniform('dropout_rate', 0.09, 0.3)\n",
      "c:\\Users\\mrbvb\\AppData\\Local\\Programs\\Python\\Python311\\Lib\\site-packages\\optuna\\trial\\_trial.py:676: RuntimeWarning: Inconsistent parameter values for distribution with name \"dropout_rate\"! This might be a configuration mistake. Optuna allows to call the same distribution with the same name more than once in a trial. When the parameter values are inconsistent optuna only uses the values of the first call and ignores all following. Using these values: {'step': None, 'low': 0.05, 'high': 0.3, 'log': False}\n",
      "  warnings.warn(\n",
      "C:\\Users\\mrbvb\\AppData\\Local\\Temp\\ipykernel_26724\\2049930526.py:17: FutureWarning: suggest_uniform has been deprecated in v3.0.0. This feature will be removed in v6.0.0. See https://github.com/optuna/optuna/releases/tag/v3.0.0. Use suggest_float instead.\n",
      "  dropout_rate2 = trial.suggest_uniform('dropout_rate2', 0.05, 0.2)\n",
      "c:\\Users\\mrbvb\\AppData\\Local\\Programs\\Python\\Python311\\Lib\\site-packages\\optuna\\trial\\_trial.py:676: RuntimeWarning: Inconsistent parameter values for distribution with name \"dropout_rate2\"! This might be a configuration mistake. Optuna allows to call the same distribution with the same name more than once in a trial. When the parameter values are inconsistent optuna only uses the values of the first call and ignores all following. Using these values: {'step': None, 'low': 0.05, 'high': 0.1, 'log': False}\n",
      "  warnings.warn(\n",
      "C:\\Users\\mrbvb\\AppData\\Local\\Temp\\ipykernel_26724\\2049930526.py:20: FutureWarning: suggest_loguniform has been deprecated in v3.0.0. This feature will be removed in v6.0.0. See https://github.com/optuna/optuna/releases/tag/v3.0.0. Use suggest_float(..., log=True) instead.\n",
      "  learning_rate = trial.suggest_loguniform('learning_rate', 1e-6, 1e-3)\n",
      "c:\\Users\\mrbvb\\AppData\\Local\\Programs\\Python\\Python311\\Lib\\site-packages\\keras\\src\\layers\\core\\embedding.py:86: UserWarning: Argument `input_length` is deprecated. Just remove it.\n",
      "  warnings.warn(\n"
     ]
    },
    {
     "name": "stdout",
     "output_type": "stream",
     "text": [
      "\u001b[1m11/11\u001b[0m \u001b[32m━━━━━━━━━━━━━━━━━━━━\u001b[0m\u001b[37m\u001b[0m \u001b[1m7s\u001b[0m 209ms/step - accuracy: 0.5114 - loss: 0.6930\n",
      "Epoch 2/10\n",
      "\u001b[1m11/11\u001b[0m \u001b[32m━━━━━━━━━━━━━━━━━━━━\u001b[0m\u001b[37m\u001b[0m \u001b[1m2s\u001b[0m 207ms/step - accuracy: 0.5058 - loss: 0.6920\n",
      "Epoch 3/10\n",
      "\u001b[1m11/11\u001b[0m \u001b[32m━━━━━━━━━━━━━━━━━━━━\u001b[0m\u001b[37m\u001b[0m \u001b[1m2s\u001b[0m 208ms/step - accuracy: 0.5383 - loss: 0.6898\n",
      "Epoch 4/10\n",
      "\u001b[1m11/11\u001b[0m \u001b[32m━━━━━━━━━━━━━━━━━━━━\u001b[0m\u001b[37m\u001b[0m \u001b[1m2s\u001b[0m 210ms/step - accuracy: 0.5185 - loss: 0.6903\n",
      "Epoch 5/10\n",
      "\u001b[1m11/11\u001b[0m \u001b[32m━━━━━━━━━━━━━━━━━━━━\u001b[0m\u001b[37m\u001b[0m \u001b[1m2s\u001b[0m 206ms/step - accuracy: 0.5035 - loss: 0.6902\n",
      "Epoch 6/10\n",
      "\u001b[1m11/11\u001b[0m \u001b[32m━━━━━━━━━━━━━━━━━━━━\u001b[0m\u001b[37m\u001b[0m \u001b[1m2s\u001b[0m 208ms/step - accuracy: 0.5186 - loss: 0.6884\n",
      "\u001b[1m6/6\u001b[0m \u001b[32m━━━━━━━━━━━━━━━━━━━━\u001b[0m\u001b[37m\u001b[0m \u001b[1m1s\u001b[0m 145ms/step\n",
      "kw {}\n",
      "create mod: d_rate 0.2870471015052984 d_rate2  0.06781437803830749 LSTM  64 dim  150 lr  7.032462753944863e-05\n",
      "Epoch 1/10\n"
     ]
    },
    {
     "name": "stderr",
     "output_type": "stream",
     "text": [
      "C:\\Users\\mrbvb\\AppData\\Local\\Temp\\ipykernel_26724\\2049930526.py:16: FutureWarning: suggest_uniform has been deprecated in v3.0.0. This feature will be removed in v6.0.0. See https://github.com/optuna/optuna/releases/tag/v3.0.0. Use suggest_float instead.\n",
      "  dropout_rate = trial.suggest_uniform('dropout_rate', 0.09, 0.3)\n",
      "c:\\Users\\mrbvb\\AppData\\Local\\Programs\\Python\\Python311\\Lib\\site-packages\\optuna\\trial\\_trial.py:676: RuntimeWarning: Inconsistent parameter values for distribution with name \"dropout_rate\"! This might be a configuration mistake. Optuna allows to call the same distribution with the same name more than once in a trial. When the parameter values are inconsistent optuna only uses the values of the first call and ignores all following. Using these values: {'step': None, 'low': 0.05, 'high': 0.3, 'log': False}\n",
      "  warnings.warn(\n",
      "C:\\Users\\mrbvb\\AppData\\Local\\Temp\\ipykernel_26724\\2049930526.py:17: FutureWarning: suggest_uniform has been deprecated in v3.0.0. This feature will be removed in v6.0.0. See https://github.com/optuna/optuna/releases/tag/v3.0.0. Use suggest_float instead.\n",
      "  dropout_rate2 = trial.suggest_uniform('dropout_rate2', 0.05, 0.2)\n",
      "c:\\Users\\mrbvb\\AppData\\Local\\Programs\\Python\\Python311\\Lib\\site-packages\\optuna\\trial\\_trial.py:676: RuntimeWarning: Inconsistent parameter values for distribution with name \"dropout_rate2\"! This might be a configuration mistake. Optuna allows to call the same distribution with the same name more than once in a trial. When the parameter values are inconsistent optuna only uses the values of the first call and ignores all following. Using these values: {'step': None, 'low': 0.05, 'high': 0.1, 'log': False}\n",
      "  warnings.warn(\n",
      "C:\\Users\\mrbvb\\AppData\\Local\\Temp\\ipykernel_26724\\2049930526.py:20: FutureWarning: suggest_loguniform has been deprecated in v3.0.0. This feature will be removed in v6.0.0. See https://github.com/optuna/optuna/releases/tag/v3.0.0. Use suggest_float(..., log=True) instead.\n",
      "  learning_rate = trial.suggest_loguniform('learning_rate', 1e-6, 1e-3)\n",
      "c:\\Users\\mrbvb\\AppData\\Local\\Programs\\Python\\Python311\\Lib\\site-packages\\keras\\src\\layers\\core\\embedding.py:86: UserWarning: Argument `input_length` is deprecated. Just remove it.\n",
      "  warnings.warn(\n"
     ]
    },
    {
     "name": "stdout",
     "output_type": "stream",
     "text": [
      "\u001b[1m11/11\u001b[0m \u001b[32m━━━━━━━━━━━━━━━━━━━━\u001b[0m\u001b[37m\u001b[0m \u001b[1m6s\u001b[0m 199ms/step - accuracy: 0.5442 - loss: 0.6924\n",
      "Epoch 2/10\n",
      "\u001b[1m11/11\u001b[0m \u001b[32m━━━━━━━━━━━━━━━━━━━━\u001b[0m\u001b[37m\u001b[0m \u001b[1m2s\u001b[0m 196ms/step - accuracy: 0.5180 - loss: 0.6933\n",
      "Epoch 3/10\n",
      "\u001b[1m11/11\u001b[0m \u001b[32m━━━━━━━━━━━━━━━━━━━━\u001b[0m\u001b[37m\u001b[0m \u001b[1m2s\u001b[0m 196ms/step - accuracy: 0.6372 - loss: 0.6911\n",
      "Epoch 4/10\n",
      "\u001b[1m11/11\u001b[0m \u001b[32m━━━━━━━━━━━━━━━━━━━━\u001b[0m\u001b[37m\u001b[0m \u001b[1m2s\u001b[0m 197ms/step - accuracy: 0.6090 - loss: 0.6911\n",
      "Epoch 5/10\n",
      "\u001b[1m11/11\u001b[0m \u001b[32m━━━━━━━━━━━━━━━━━━━━\u001b[0m\u001b[37m\u001b[0m \u001b[1m2s\u001b[0m 197ms/step - accuracy: 0.6199 - loss: 0.6900\n",
      "Epoch 6/10\n",
      "\u001b[1m11/11\u001b[0m \u001b[32m━━━━━━━━━━━━━━━━━━━━\u001b[0m\u001b[37m\u001b[0m \u001b[1m2s\u001b[0m 196ms/step - accuracy: 0.6637 - loss: 0.6882\n",
      "Epoch 7/10\n",
      "\u001b[1m11/11\u001b[0m \u001b[32m━━━━━━━━━━━━━━━━━━━━\u001b[0m\u001b[37m\u001b[0m \u001b[1m2s\u001b[0m 198ms/step - accuracy: 0.7290 - loss: 0.6872\n",
      "Epoch 8/10\n",
      "\u001b[1m11/11\u001b[0m \u001b[32m━━━━━━━━━━━━━━━━━━━━\u001b[0m\u001b[37m\u001b[0m \u001b[1m2s\u001b[0m 196ms/step - accuracy: 0.7665 - loss: 0.6850\n",
      "Epoch 9/10\n",
      "\u001b[1m11/11\u001b[0m \u001b[32m━━━━━━━━━━━━━━━━━━━━\u001b[0m\u001b[37m\u001b[0m \u001b[1m2s\u001b[0m 201ms/step - accuracy: 0.7737 - loss: 0.6832\n",
      "Epoch 10/10\n",
      "\u001b[1m11/11\u001b[0m \u001b[32m━━━━━━━━━━━━━━━━━━━━\u001b[0m\u001b[37m\u001b[0m \u001b[1m2s\u001b[0m 198ms/step - accuracy: 0.8524 - loss: 0.6774\n",
      "\u001b[1m6/6\u001b[0m \u001b[32m━━━━━━━━━━━━━━━━━━━━\u001b[0m\u001b[37m\u001b[0m \u001b[1m1s\u001b[0m 144ms/step\n",
      "kw {}\n",
      "create mod: d_rate 0.2870471015052984 d_rate2  0.06781437803830749 LSTM  64 dim  150 lr  7.032462753944863e-05\n",
      "Epoch 1/10\n"
     ]
    },
    {
     "name": "stderr",
     "output_type": "stream",
     "text": [
      "C:\\Users\\mrbvb\\AppData\\Local\\Temp\\ipykernel_26724\\2049930526.py:16: FutureWarning: suggest_uniform has been deprecated in v3.0.0. This feature will be removed in v6.0.0. See https://github.com/optuna/optuna/releases/tag/v3.0.0. Use suggest_float instead.\n",
      "  dropout_rate = trial.suggest_uniform('dropout_rate', 0.09, 0.3)\n",
      "c:\\Users\\mrbvb\\AppData\\Local\\Programs\\Python\\Python311\\Lib\\site-packages\\optuna\\trial\\_trial.py:676: RuntimeWarning: Inconsistent parameter values for distribution with name \"dropout_rate\"! This might be a configuration mistake. Optuna allows to call the same distribution with the same name more than once in a trial. When the parameter values are inconsistent optuna only uses the values of the first call and ignores all following. Using these values: {'step': None, 'low': 0.05, 'high': 0.3, 'log': False}\n",
      "  warnings.warn(\n",
      "C:\\Users\\mrbvb\\AppData\\Local\\Temp\\ipykernel_26724\\2049930526.py:17: FutureWarning: suggest_uniform has been deprecated in v3.0.0. This feature will be removed in v6.0.0. See https://github.com/optuna/optuna/releases/tag/v3.0.0. Use suggest_float instead.\n",
      "  dropout_rate2 = trial.suggest_uniform('dropout_rate2', 0.05, 0.2)\n",
      "c:\\Users\\mrbvb\\AppData\\Local\\Programs\\Python\\Python311\\Lib\\site-packages\\optuna\\trial\\_trial.py:676: RuntimeWarning: Inconsistent parameter values for distribution with name \"dropout_rate2\"! This might be a configuration mistake. Optuna allows to call the same distribution with the same name more than once in a trial. When the parameter values are inconsistent optuna only uses the values of the first call and ignores all following. Using these values: {'step': None, 'low': 0.05, 'high': 0.1, 'log': False}\n",
      "  warnings.warn(\n",
      "C:\\Users\\mrbvb\\AppData\\Local\\Temp\\ipykernel_26724\\2049930526.py:20: FutureWarning: suggest_loguniform has been deprecated in v3.0.0. This feature will be removed in v6.0.0. See https://github.com/optuna/optuna/releases/tag/v3.0.0. Use suggest_float(..., log=True) instead.\n",
      "  learning_rate = trial.suggest_loguniform('learning_rate', 1e-6, 1e-3)\n",
      "c:\\Users\\mrbvb\\AppData\\Local\\Programs\\Python\\Python311\\Lib\\site-packages\\keras\\src\\layers\\core\\embedding.py:86: UserWarning: Argument `input_length` is deprecated. Just remove it.\n",
      "  warnings.warn(\n"
     ]
    },
    {
     "name": "stdout",
     "output_type": "stream",
     "text": [
      "\u001b[1m11/11\u001b[0m \u001b[32m━━━━━━━━━━━━━━━━━━━━\u001b[0m\u001b[37m\u001b[0m \u001b[1m6s\u001b[0m 188ms/step - accuracy: 0.4452 - loss: 0.6943\n",
      "Epoch 2/10\n",
      "\u001b[1m11/11\u001b[0m \u001b[32m━━━━━━━━━━━━━━━━━━━━\u001b[0m\u001b[37m\u001b[0m \u001b[1m2s\u001b[0m 186ms/step - accuracy: 0.5299 - loss: 0.6929\n",
      "Epoch 3/10\n",
      "\u001b[1m11/11\u001b[0m \u001b[32m━━━━━━━━━━━━━━━━━━━━\u001b[0m\u001b[37m\u001b[0m \u001b[1m2s\u001b[0m 186ms/step - accuracy: 0.5313 - loss: 0.6906\n",
      "Epoch 4/10\n",
      "\u001b[1m11/11\u001b[0m \u001b[32m━━━━━━━━━━━━━━━━━━━━\u001b[0m\u001b[37m\u001b[0m \u001b[1m2s\u001b[0m 187ms/step - accuracy: 0.5110 - loss: 0.6919\n",
      "Epoch 5/10\n",
      "\u001b[1m11/11\u001b[0m \u001b[32m━━━━━━━━━━━━━━━━━━━━\u001b[0m\u001b[37m\u001b[0m \u001b[1m2s\u001b[0m 187ms/step - accuracy: 0.5154 - loss: 0.6904\n",
      "\u001b[1m6/6\u001b[0m \u001b[32m━━━━━━━━━━━━━━━━━━━━\u001b[0m\u001b[37m\u001b[0m \u001b[1m1s\u001b[0m 142ms/step\n",
      "result score f1 fuc -0.21445221445221443\n",
      "kw {}\n",
      "create mod: d_rate 0.2870471015052984 d_rate2  0.06781437803830749 LSTM  64 dim  150 lr  7.032462753944863e-05\n",
      "Epoch 1/10\n"
     ]
    },
    {
     "name": "stderr",
     "output_type": "stream",
     "text": [
      "C:\\Users\\mrbvb\\AppData\\Local\\Temp\\ipykernel_26724\\2049930526.py:16: FutureWarning: suggest_uniform has been deprecated in v3.0.0. This feature will be removed in v6.0.0. See https://github.com/optuna/optuna/releases/tag/v3.0.0. Use suggest_float instead.\n",
      "  dropout_rate = trial.suggest_uniform('dropout_rate', 0.09, 0.3)\n",
      "c:\\Users\\mrbvb\\AppData\\Local\\Programs\\Python\\Python311\\Lib\\site-packages\\optuna\\trial\\_trial.py:676: RuntimeWarning: Inconsistent parameter values for distribution with name \"dropout_rate\"! This might be a configuration mistake. Optuna allows to call the same distribution with the same name more than once in a trial. When the parameter values are inconsistent optuna only uses the values of the first call and ignores all following. Using these values: {'step': None, 'low': 0.05, 'high': 0.3, 'log': False}\n",
      "  warnings.warn(\n",
      "C:\\Users\\mrbvb\\AppData\\Local\\Temp\\ipykernel_26724\\2049930526.py:17: FutureWarning: suggest_uniform has been deprecated in v3.0.0. This feature will be removed in v6.0.0. See https://github.com/optuna/optuna/releases/tag/v3.0.0. Use suggest_float instead.\n",
      "  dropout_rate2 = trial.suggest_uniform('dropout_rate2', 0.05, 0.2)\n",
      "c:\\Users\\mrbvb\\AppData\\Local\\Programs\\Python\\Python311\\Lib\\site-packages\\optuna\\trial\\_trial.py:676: RuntimeWarning: Inconsistent parameter values for distribution with name \"dropout_rate2\"! This might be a configuration mistake. Optuna allows to call the same distribution with the same name more than once in a trial. When the parameter values are inconsistent optuna only uses the values of the first call and ignores all following. Using these values: {'step': None, 'low': 0.05, 'high': 0.1, 'log': False}\n",
      "  warnings.warn(\n",
      "C:\\Users\\mrbvb\\AppData\\Local\\Temp\\ipykernel_26724\\2049930526.py:20: FutureWarning: suggest_loguniform has been deprecated in v3.0.0. This feature will be removed in v6.0.0. See https://github.com/optuna/optuna/releases/tag/v3.0.0. Use suggest_float(..., log=True) instead.\n",
      "  learning_rate = trial.suggest_loguniform('learning_rate', 1e-6, 1e-3)\n",
      "c:\\Users\\mrbvb\\AppData\\Local\\Programs\\Python\\Python311\\Lib\\site-packages\\keras\\src\\layers\\core\\embedding.py:86: UserWarning: Argument `input_length` is deprecated. Just remove it.\n",
      "  warnings.warn(\n"
     ]
    },
    {
     "name": "stdout",
     "output_type": "stream",
     "text": [
      "\u001b[1m11/11\u001b[0m \u001b[32m━━━━━━━━━━━━━━━━━━━━\u001b[0m\u001b[37m\u001b[0m \u001b[1m6s\u001b[0m 180ms/step - accuracy: 0.5237 - loss: 0.6926\n",
      "Epoch 2/10\n",
      "\u001b[1m11/11\u001b[0m \u001b[32m━━━━━━━━━━━━━━━━━━━━\u001b[0m\u001b[37m\u001b[0m \u001b[1m2s\u001b[0m 175ms/step - accuracy: 0.5056 - loss: 0.6938\n",
      "Epoch 3/10\n",
      "\u001b[1m11/11\u001b[0m \u001b[32m━━━━━━━━━━━━━━━━━━━━\u001b[0m\u001b[37m\u001b[0m \u001b[1m2s\u001b[0m 177ms/step - accuracy: 0.5426 - loss: 0.6905\n",
      "Epoch 4/10\n",
      "\u001b[1m11/11\u001b[0m \u001b[32m━━━━━━━━━━━━━━━━━━━━\u001b[0m\u001b[37m\u001b[0m \u001b[1m2s\u001b[0m 179ms/step - accuracy: 0.5523 - loss: 0.6896\n",
      "\u001b[1m6/6\u001b[0m \u001b[32m━━━━━━━━━━━━━━━━━━━━\u001b[0m\u001b[37m\u001b[0m \u001b[1m1s\u001b[0m 138ms/step\n",
      "kw {}\n",
      "create mod: d_rate 0.2870471015052984 d_rate2  0.06781437803830749 LSTM  64 dim  150 lr  7.032462753944863e-05\n",
      "Epoch 1/10\n"
     ]
    },
    {
     "name": "stderr",
     "output_type": "stream",
     "text": [
      "C:\\Users\\mrbvb\\AppData\\Local\\Temp\\ipykernel_26724\\2049930526.py:16: FutureWarning: suggest_uniform has been deprecated in v3.0.0. This feature will be removed in v6.0.0. See https://github.com/optuna/optuna/releases/tag/v3.0.0. Use suggest_float instead.\n",
      "  dropout_rate = trial.suggest_uniform('dropout_rate', 0.09, 0.3)\n",
      "c:\\Users\\mrbvb\\AppData\\Local\\Programs\\Python\\Python311\\Lib\\site-packages\\optuna\\trial\\_trial.py:676: RuntimeWarning: Inconsistent parameter values for distribution with name \"dropout_rate\"! This might be a configuration mistake. Optuna allows to call the same distribution with the same name more than once in a trial. When the parameter values are inconsistent optuna only uses the values of the first call and ignores all following. Using these values: {'step': None, 'low': 0.05, 'high': 0.3, 'log': False}\n",
      "  warnings.warn(\n",
      "C:\\Users\\mrbvb\\AppData\\Local\\Temp\\ipykernel_26724\\2049930526.py:17: FutureWarning: suggest_uniform has been deprecated in v3.0.0. This feature will be removed in v6.0.0. See https://github.com/optuna/optuna/releases/tag/v3.0.0. Use suggest_float instead.\n",
      "  dropout_rate2 = trial.suggest_uniform('dropout_rate2', 0.05, 0.2)\n",
      "c:\\Users\\mrbvb\\AppData\\Local\\Programs\\Python\\Python311\\Lib\\site-packages\\optuna\\trial\\_trial.py:676: RuntimeWarning: Inconsistent parameter values for distribution with name \"dropout_rate2\"! This might be a configuration mistake. Optuna allows to call the same distribution with the same name more than once in a trial. When the parameter values are inconsistent optuna only uses the values of the first call and ignores all following. Using these values: {'step': None, 'low': 0.05, 'high': 0.1, 'log': False}\n",
      "  warnings.warn(\n",
      "C:\\Users\\mrbvb\\AppData\\Local\\Temp\\ipykernel_26724\\2049930526.py:20: FutureWarning: suggest_loguniform has been deprecated in v3.0.0. This feature will be removed in v6.0.0. See https://github.com/optuna/optuna/releases/tag/v3.0.0. Use suggest_float(..., log=True) instead.\n",
      "  learning_rate = trial.suggest_loguniform('learning_rate', 1e-6, 1e-3)\n",
      "c:\\Users\\mrbvb\\AppData\\Local\\Programs\\Python\\Python311\\Lib\\site-packages\\keras\\src\\layers\\core\\embedding.py:86: UserWarning: Argument `input_length` is deprecated. Just remove it.\n",
      "  warnings.warn(\n"
     ]
    },
    {
     "name": "stdout",
     "output_type": "stream",
     "text": [
      "\u001b[1m11/11\u001b[0m \u001b[32m━━━━━━━━━━━━━━━━━━━━\u001b[0m\u001b[37m\u001b[0m \u001b[1m8s\u001b[0m 233ms/step - accuracy: 0.5250 - loss: 0.6928\n",
      "Epoch 2/10\n",
      "\u001b[1m11/11\u001b[0m \u001b[32m━━━━━━━━━━━━━━━━━━━━\u001b[0m\u001b[37m\u001b[0m \u001b[1m3s\u001b[0m 229ms/step - accuracy: 0.5675 - loss: 0.6924\n",
      "Epoch 3/10\n",
      "\u001b[1m11/11\u001b[0m \u001b[32m━━━━━━━━━━━━━━━━━━━━\u001b[0m\u001b[37m\u001b[0m \u001b[1m3s\u001b[0m 230ms/step - accuracy: 0.5105 - loss: 0.6924\n",
      "Epoch 4/10\n",
      "\u001b[1m11/11\u001b[0m \u001b[32m━━━━━━━━━━━━━━━━━━━━\u001b[0m\u001b[37m\u001b[0m \u001b[1m3s\u001b[0m 229ms/step - accuracy: 0.6270 - loss: 0.6898\n",
      "Epoch 5/10\n",
      "\u001b[1m11/11\u001b[0m \u001b[32m━━━━━━━━━━━━━━━━━━━━\u001b[0m\u001b[37m\u001b[0m \u001b[1m3s\u001b[0m 230ms/step - accuracy: 0.6340 - loss: 0.6899\n",
      "Epoch 6/10\n",
      "\u001b[1m11/11\u001b[0m \u001b[32m━━━━━━━━━━━━━━━━━━━━\u001b[0m\u001b[37m\u001b[0m \u001b[1m3s\u001b[0m 228ms/step - accuracy: 0.6870 - loss: 0.6882\n",
      "Epoch 7/10\n",
      "\u001b[1m11/11\u001b[0m \u001b[32m━━━━━━━━━━━━━━━━━━━━\u001b[0m\u001b[37m\u001b[0m \u001b[1m3s\u001b[0m 230ms/step - accuracy: 0.7325 - loss: 0.6860\n",
      "Epoch 8/10\n",
      "\u001b[1m11/11\u001b[0m \u001b[32m━━━━━━━━━━━━━━━━━━━━\u001b[0m\u001b[37m\u001b[0m \u001b[1m3s\u001b[0m 230ms/step - accuracy: 0.7599 - loss: 0.6839\n",
      "Epoch 9/10\n",
      "\u001b[1m11/11\u001b[0m \u001b[32m━━━━━━━━━━━━━━━━━━━━\u001b[0m\u001b[37m\u001b[0m \u001b[1m3s\u001b[0m 230ms/step - accuracy: 0.7771 - loss: 0.6830\n",
      "Epoch 10/10\n",
      "\u001b[1m11/11\u001b[0m \u001b[32m━━━━━━━━━━━━━━━━━━━━\u001b[0m\u001b[37m\u001b[0m \u001b[1m3s\u001b[0m 229ms/step - accuracy: 0.8070 - loss: 0.6775\n",
      "\u001b[1m6/6\u001b[0m \u001b[32m━━━━━━━━━━━━━━━━━━━━\u001b[0m\u001b[37m\u001b[0m \u001b[1m1s\u001b[0m 151ms/step\n",
      "kw {}\n",
      "create mod: d_rate 0.2870471015052984 d_rate2  0.06781437803830749 LSTM  64 dim  150 lr  7.032462753944863e-05\n",
      "Epoch 1/10\n"
     ]
    },
    {
     "name": "stderr",
     "output_type": "stream",
     "text": [
      "C:\\Users\\mrbvb\\AppData\\Local\\Temp\\ipykernel_26724\\2049930526.py:16: FutureWarning: suggest_uniform has been deprecated in v3.0.0. This feature will be removed in v6.0.0. See https://github.com/optuna/optuna/releases/tag/v3.0.0. Use suggest_float instead.\n",
      "  dropout_rate = trial.suggest_uniform('dropout_rate', 0.09, 0.3)\n",
      "c:\\Users\\mrbvb\\AppData\\Local\\Programs\\Python\\Python311\\Lib\\site-packages\\optuna\\trial\\_trial.py:676: RuntimeWarning: Inconsistent parameter values for distribution with name \"dropout_rate\"! This might be a configuration mistake. Optuna allows to call the same distribution with the same name more than once in a trial. When the parameter values are inconsistent optuna only uses the values of the first call and ignores all following. Using these values: {'step': None, 'low': 0.05, 'high': 0.3, 'log': False}\n",
      "  warnings.warn(\n",
      "C:\\Users\\mrbvb\\AppData\\Local\\Temp\\ipykernel_26724\\2049930526.py:17: FutureWarning: suggest_uniform has been deprecated in v3.0.0. This feature will be removed in v6.0.0. See https://github.com/optuna/optuna/releases/tag/v3.0.0. Use suggest_float instead.\n",
      "  dropout_rate2 = trial.suggest_uniform('dropout_rate2', 0.05, 0.2)\n",
      "c:\\Users\\mrbvb\\AppData\\Local\\Programs\\Python\\Python311\\Lib\\site-packages\\optuna\\trial\\_trial.py:676: RuntimeWarning: Inconsistent parameter values for distribution with name \"dropout_rate2\"! This might be a configuration mistake. Optuna allows to call the same distribution with the same name more than once in a trial. When the parameter values are inconsistent optuna only uses the values of the first call and ignores all following. Using these values: {'step': None, 'low': 0.05, 'high': 0.1, 'log': False}\n",
      "  warnings.warn(\n",
      "C:\\Users\\mrbvb\\AppData\\Local\\Temp\\ipykernel_26724\\2049930526.py:20: FutureWarning: suggest_loguniform has been deprecated in v3.0.0. This feature will be removed in v6.0.0. See https://github.com/optuna/optuna/releases/tag/v3.0.0. Use suggest_float(..., log=True) instead.\n",
      "  learning_rate = trial.suggest_loguniform('learning_rate', 1e-6, 1e-3)\n",
      "c:\\Users\\mrbvb\\AppData\\Local\\Programs\\Python\\Python311\\Lib\\site-packages\\keras\\src\\layers\\core\\embedding.py:86: UserWarning: Argument `input_length` is deprecated. Just remove it.\n",
      "  warnings.warn(\n"
     ]
    },
    {
     "name": "stdout",
     "output_type": "stream",
     "text": [
      "\u001b[1m11/11\u001b[0m \u001b[32m━━━━━━━━━━━━━━━━━━━━\u001b[0m\u001b[37m\u001b[0m \u001b[1m7s\u001b[0m 222ms/step - accuracy: 0.4881 - loss: 0.6930\n",
      "Epoch 2/10\n",
      "\u001b[1m11/11\u001b[0m \u001b[32m━━━━━━━━━━━━━━━━━━━━\u001b[0m\u001b[37m\u001b[0m \u001b[1m2s\u001b[0m 220ms/step - accuracy: 0.5240 - loss: 0.6914\n",
      "Epoch 3/10\n",
      "\u001b[1m11/11\u001b[0m \u001b[32m━━━━━━━━━━━━━━━━━━━━\u001b[0m\u001b[37m\u001b[0m \u001b[1m2s\u001b[0m 220ms/step - accuracy: 0.5320 - loss: 0.6916\n",
      "Epoch 4/10\n",
      "\u001b[1m11/11\u001b[0m \u001b[32m━━━━━━━━━━━━━━━━━━━━\u001b[0m\u001b[37m\u001b[0m \u001b[1m2s\u001b[0m 221ms/step - accuracy: 0.5004 - loss: 0.6925\n",
      "Epoch 5/10\n",
      "\u001b[1m11/11\u001b[0m \u001b[32m━━━━━━━━━━━━━━━━━━━━\u001b[0m\u001b[37m\u001b[0m \u001b[1m2s\u001b[0m 221ms/step - accuracy: 0.5036 - loss: 0.6897\n",
      "\u001b[1m6/6\u001b[0m \u001b[32m━━━━━━━━━━━━━━━━━━━━\u001b[0m\u001b[37m\u001b[0m \u001b[1m1s\u001b[0m 148ms/step\n"
     ]
    },
    {
     "name": "stderr",
     "output_type": "stream",
     "text": [
      "[I 2024-04-30 17:44:43,705] Trial 15 finished with value: 0.23274161735700197 and parameters: {'dropout_rate': 0.2870471015052984, 'dropout_rate2': 0.06781437803830749, 'LSTM_units': 64, 'EMBEDDING_DIM': 150, 'learning_rate': 7.032462753944863e-05}. Best is trial 14 with value: 0.760381178097072.\n"
     ]
    },
    {
     "name": "stdout",
     "output_type": "stream",
     "text": [
      "objectiving\n",
      "kw {}\n",
      "kw {}\n",
      "create mod: d_rate 0.23341642605722082 d_rate2  0.09227864249960342 LSTM  128 dim  150 lr  0.0002694854784253325\n",
      "Epoch 1/10\n"
     ]
    },
    {
     "name": "stderr",
     "output_type": "stream",
     "text": [
      "C:\\Users\\mrbvb\\AppData\\Local\\Temp\\ipykernel_26724\\2049930526.py:63: FutureWarning: suggest_uniform has been deprecated in v3.0.0. This feature will be removed in v6.0.0. See https://github.com/optuna/optuna/releases/tag/v3.0.0. Use suggest_float instead.\n",
      "  dropout_rate = trial.suggest_uniform('dropout_rate', 0.05, 0.3) #value should be from small to large only\n",
      "C:\\Users\\mrbvb\\AppData\\Local\\Temp\\ipykernel_26724\\2049930526.py:64: FutureWarning: suggest_uniform has been deprecated in v3.0.0. This feature will be removed in v6.0.0. See https://github.com/optuna/optuna/releases/tag/v3.0.0. Use suggest_float instead.\n",
      "  dropout_rate2 = trial.suggest_uniform('dropout_rate2', 0.05, 0.1)\n",
      "C:\\Users\\mrbvb\\AppData\\Local\\Temp\\ipykernel_26724\\2049930526.py:67: FutureWarning: suggest_loguniform has been deprecated in v3.0.0. This feature will be removed in v6.0.0. See https://github.com/optuna/optuna/releases/tag/v3.0.0. Use suggest_float(..., log=True) instead.\n",
      "  learning_rate = trial.suggest_loguniform('learning_rate', 1e-6, 1e-3)\n",
      "C:\\Users\\mrbvb\\AppData\\Local\\Temp\\ipykernel_26724\\2049930526.py:16: FutureWarning: suggest_uniform has been deprecated in v3.0.0. This feature will be removed in v6.0.0. See https://github.com/optuna/optuna/releases/tag/v3.0.0. Use suggest_float instead.\n",
      "  dropout_rate = trial.suggest_uniform('dropout_rate', 0.09, 0.3)\n",
      "c:\\Users\\mrbvb\\AppData\\Local\\Programs\\Python\\Python311\\Lib\\site-packages\\optuna\\trial\\_trial.py:676: RuntimeWarning: Inconsistent parameter values for distribution with name \"dropout_rate\"! This might be a configuration mistake. Optuna allows to call the same distribution with the same name more than once in a trial. When the parameter values are inconsistent optuna only uses the values of the first call and ignores all following. Using these values: {'step': None, 'low': 0.05, 'high': 0.3, 'log': False}\n",
      "  warnings.warn(\n",
      "C:\\Users\\mrbvb\\AppData\\Local\\Temp\\ipykernel_26724\\2049930526.py:17: FutureWarning: suggest_uniform has been deprecated in v3.0.0. This feature will be removed in v6.0.0. See https://github.com/optuna/optuna/releases/tag/v3.0.0. Use suggest_float instead.\n",
      "  dropout_rate2 = trial.suggest_uniform('dropout_rate2', 0.05, 0.2)\n",
      "c:\\Users\\mrbvb\\AppData\\Local\\Programs\\Python\\Python311\\Lib\\site-packages\\optuna\\trial\\_trial.py:676: RuntimeWarning: Inconsistent parameter values for distribution with name \"dropout_rate2\"! This might be a configuration mistake. Optuna allows to call the same distribution with the same name more than once in a trial. When the parameter values are inconsistent optuna only uses the values of the first call and ignores all following. Using these values: {'step': None, 'low': 0.05, 'high': 0.1, 'log': False}\n",
      "  warnings.warn(\n",
      "C:\\Users\\mrbvb\\AppData\\Local\\Temp\\ipykernel_26724\\2049930526.py:20: FutureWarning: suggest_loguniform has been deprecated in v3.0.0. This feature will be removed in v6.0.0. See https://github.com/optuna/optuna/releases/tag/v3.0.0. Use suggest_float(..., log=True) instead.\n",
      "  learning_rate = trial.suggest_loguniform('learning_rate', 1e-6, 1e-3)\n",
      "c:\\Users\\mrbvb\\AppData\\Local\\Programs\\Python\\Python311\\Lib\\site-packages\\keras\\src\\layers\\core\\embedding.py:86: UserWarning: Argument `input_length` is deprecated. Just remove it.\n",
      "  warnings.warn(\n"
     ]
    },
    {
     "name": "stdout",
     "output_type": "stream",
     "text": [
      "\u001b[1m11/11\u001b[0m \u001b[32m━━━━━━━━━━━━━━━━━━━━\u001b[0m\u001b[37m\u001b[0m \u001b[1m6s\u001b[0m 193ms/step - accuracy: 0.4768 - loss: 0.6951\n",
      "Epoch 2/10\n",
      "\u001b[1m11/11\u001b[0m \u001b[32m━━━━━━━━━━━━━━━━━━━━\u001b[0m\u001b[37m\u001b[0m \u001b[1m2s\u001b[0m 194ms/step - accuracy: 0.5024 - loss: 0.6908\n",
      "Epoch 3/10\n",
      "\u001b[1m11/11\u001b[0m \u001b[32m━━━━━━━━━━━━━━━━━━━━\u001b[0m\u001b[37m\u001b[0m \u001b[1m2s\u001b[0m 194ms/step - accuracy: 0.5197 - loss: 0.6840\n",
      "Epoch 4/10\n",
      "\u001b[1m11/11\u001b[0m \u001b[32m━━━━━━━━━━━━━━━━━━━━\u001b[0m\u001b[37m\u001b[0m \u001b[1m2s\u001b[0m 193ms/step - accuracy: 0.5314 - loss: 0.6656\n",
      "Epoch 5/10\n",
      "\u001b[1m11/11\u001b[0m \u001b[32m━━━━━━━━━━━━━━━━━━━━\u001b[0m\u001b[37m\u001b[0m \u001b[1m2s\u001b[0m 193ms/step - accuracy: 0.7508 - loss: 0.5984\n",
      "Epoch 6/10\n",
      "\u001b[1m11/11\u001b[0m \u001b[32m━━━━━━━━━━━━━━━━━━━━\u001b[0m\u001b[37m\u001b[0m \u001b[1m2s\u001b[0m 194ms/step - accuracy: 0.8891 - loss: 0.4602\n",
      "Epoch 7/10\n",
      "\u001b[1m11/11\u001b[0m \u001b[32m━━━━━━━━━━━━━━━━━━━━\u001b[0m\u001b[37m\u001b[0m \u001b[1m2s\u001b[0m 196ms/step - accuracy: 0.9616 - loss: 0.2492\n",
      "Epoch 8/10\n",
      "\u001b[1m11/11\u001b[0m \u001b[32m━━━━━━━━━━━━━━━━━━━━\u001b[0m\u001b[37m\u001b[0m \u001b[1m2s\u001b[0m 192ms/step - accuracy: 0.9668 - loss: 0.1048\n",
      "Epoch 9/10\n",
      "\u001b[1m11/11\u001b[0m \u001b[32m━━━━━━━━━━━━━━━━━━━━\u001b[0m\u001b[37m\u001b[0m \u001b[1m2s\u001b[0m 194ms/step - accuracy: 0.9807 - loss: 0.0625\n",
      "Epoch 10/10\n",
      "\u001b[1m11/11\u001b[0m \u001b[32m━━━━━━━━━━━━━━━━━━━━\u001b[0m\u001b[37m\u001b[0m \u001b[1m2s\u001b[0m 194ms/step - accuracy: 0.9863 - loss: 0.0504\n",
      "\u001b[1m6/6\u001b[0m \u001b[32m━━━━━━━━━━━━━━━━━━━━\u001b[0m\u001b[37m\u001b[0m \u001b[1m1s\u001b[0m 196ms/step\n",
      "kw {}\n",
      "create mod: d_rate 0.23341642605722082 d_rate2  0.09227864249960342 LSTM  128 dim  150 lr  0.0002694854784253325\n",
      "Epoch 1/10\n"
     ]
    },
    {
     "name": "stderr",
     "output_type": "stream",
     "text": [
      "C:\\Users\\mrbvb\\AppData\\Local\\Temp\\ipykernel_26724\\2049930526.py:16: FutureWarning: suggest_uniform has been deprecated in v3.0.0. This feature will be removed in v6.0.0. See https://github.com/optuna/optuna/releases/tag/v3.0.0. Use suggest_float instead.\n",
      "  dropout_rate = trial.suggest_uniform('dropout_rate', 0.09, 0.3)\n",
      "c:\\Users\\mrbvb\\AppData\\Local\\Programs\\Python\\Python311\\Lib\\site-packages\\optuna\\trial\\_trial.py:676: RuntimeWarning: Inconsistent parameter values for distribution with name \"dropout_rate\"! This might be a configuration mistake. Optuna allows to call the same distribution with the same name more than once in a trial. When the parameter values are inconsistent optuna only uses the values of the first call and ignores all following. Using these values: {'step': None, 'low': 0.05, 'high': 0.3, 'log': False}\n",
      "  warnings.warn(\n",
      "C:\\Users\\mrbvb\\AppData\\Local\\Temp\\ipykernel_26724\\2049930526.py:17: FutureWarning: suggest_uniform has been deprecated in v3.0.0. This feature will be removed in v6.0.0. See https://github.com/optuna/optuna/releases/tag/v3.0.0. Use suggest_float instead.\n",
      "  dropout_rate2 = trial.suggest_uniform('dropout_rate2', 0.05, 0.2)\n",
      "c:\\Users\\mrbvb\\AppData\\Local\\Programs\\Python\\Python311\\Lib\\site-packages\\optuna\\trial\\_trial.py:676: RuntimeWarning: Inconsistent parameter values for distribution with name \"dropout_rate2\"! This might be a configuration mistake. Optuna allows to call the same distribution with the same name more than once in a trial. When the parameter values are inconsistent optuna only uses the values of the first call and ignores all following. Using these values: {'step': None, 'low': 0.05, 'high': 0.1, 'log': False}\n",
      "  warnings.warn(\n",
      "C:\\Users\\mrbvb\\AppData\\Local\\Temp\\ipykernel_26724\\2049930526.py:20: FutureWarning: suggest_loguniform has been deprecated in v3.0.0. This feature will be removed in v6.0.0. See https://github.com/optuna/optuna/releases/tag/v3.0.0. Use suggest_float(..., log=True) instead.\n",
      "  learning_rate = trial.suggest_loguniform('learning_rate', 1e-6, 1e-3)\n",
      "c:\\Users\\mrbvb\\AppData\\Local\\Programs\\Python\\Python311\\Lib\\site-packages\\keras\\src\\layers\\core\\embedding.py:86: UserWarning: Argument `input_length` is deprecated. Just remove it.\n",
      "  warnings.warn(\n"
     ]
    },
    {
     "name": "stdout",
     "output_type": "stream",
     "text": [
      "\u001b[1m11/11\u001b[0m \u001b[32m━━━━━━━━━━━━━━━━━━━━\u001b[0m\u001b[37m\u001b[0m \u001b[1m6s\u001b[0m 191ms/step - accuracy: 0.5165 - loss: 0.6933\n",
      "Epoch 2/10\n",
      "\u001b[1m11/11\u001b[0m \u001b[32m━━━━━━━━━━━━━━━━━━━━\u001b[0m\u001b[37m\u001b[0m \u001b[1m2s\u001b[0m 189ms/step - accuracy: 0.6082 - loss: 0.6906\n",
      "Epoch 3/10\n",
      "\u001b[1m11/11\u001b[0m \u001b[32m━━━━━━━━━━━━━━━━━━━━\u001b[0m\u001b[37m\u001b[0m \u001b[1m2s\u001b[0m 191ms/step - accuracy: 0.6110 - loss: 0.6849\n",
      "Epoch 4/10\n",
      "\u001b[1m11/11\u001b[0m \u001b[32m━━━━━━━━━━━━━━━━━━━━\u001b[0m\u001b[37m\u001b[0m \u001b[1m2s\u001b[0m 189ms/step - accuracy: 0.8365 - loss: 0.6647\n",
      "Epoch 5/10\n",
      "\u001b[1m11/11\u001b[0m \u001b[32m━━━━━━━━━━━━━━━━━━━━\u001b[0m\u001b[37m\u001b[0m \u001b[1m2s\u001b[0m 190ms/step - accuracy: 0.8485 - loss: 0.5710\n",
      "Epoch 6/10\n",
      "\u001b[1m11/11\u001b[0m \u001b[32m━━━━━━━━━━━━━━━━━━━━\u001b[0m\u001b[37m\u001b[0m \u001b[1m2s\u001b[0m 189ms/step - accuracy: 0.7722 - loss: 0.4992\n",
      "Epoch 7/10\n",
      "\u001b[1m11/11\u001b[0m \u001b[32m━━━━━━━━━━━━━━━━━━━━\u001b[0m\u001b[37m\u001b[0m \u001b[1m2s\u001b[0m 190ms/step - accuracy: 0.9061 - loss: 0.3281\n",
      "Epoch 8/10\n",
      "\u001b[1m11/11\u001b[0m \u001b[32m━━━━━━━━━━━━━━━━━━━━\u001b[0m\u001b[37m\u001b[0m \u001b[1m2s\u001b[0m 190ms/step - accuracy: 0.9572 - loss: 0.1707\n",
      "Epoch 9/10\n",
      "\u001b[1m11/11\u001b[0m \u001b[32m━━━━━━━━━━━━━━━━━━━━\u001b[0m\u001b[37m\u001b[0m \u001b[1m2s\u001b[0m 190ms/step - accuracy: 0.9435 - loss: 0.1561\n",
      "Epoch 10/10\n",
      "\u001b[1m11/11\u001b[0m \u001b[32m━━━━━━━━━━━━━━━━━━━━\u001b[0m\u001b[37m\u001b[0m \u001b[1m2s\u001b[0m 190ms/step - accuracy: 0.9899 - loss: 0.0669\n",
      "\u001b[1m6/6\u001b[0m \u001b[32m━━━━━━━━━━━━━━━━━━━━\u001b[0m\u001b[37m\u001b[0m \u001b[1m1s\u001b[0m 192ms/step\n",
      "kw {}\n",
      "create mod: d_rate 0.23341642605722082 d_rate2  0.09227864249960342 LSTM  128 dim  150 lr  0.0002694854784253325\n",
      "Epoch 1/10\n"
     ]
    },
    {
     "name": "stderr",
     "output_type": "stream",
     "text": [
      "C:\\Users\\mrbvb\\AppData\\Local\\Temp\\ipykernel_26724\\2049930526.py:16: FutureWarning: suggest_uniform has been deprecated in v3.0.0. This feature will be removed in v6.0.0. See https://github.com/optuna/optuna/releases/tag/v3.0.0. Use suggest_float instead.\n",
      "  dropout_rate = trial.suggest_uniform('dropout_rate', 0.09, 0.3)\n",
      "c:\\Users\\mrbvb\\AppData\\Local\\Programs\\Python\\Python311\\Lib\\site-packages\\optuna\\trial\\_trial.py:676: RuntimeWarning: Inconsistent parameter values for distribution with name \"dropout_rate\"! This might be a configuration mistake. Optuna allows to call the same distribution with the same name more than once in a trial. When the parameter values are inconsistent optuna only uses the values of the first call and ignores all following. Using these values: {'step': None, 'low': 0.05, 'high': 0.3, 'log': False}\n",
      "  warnings.warn(\n",
      "C:\\Users\\mrbvb\\AppData\\Local\\Temp\\ipykernel_26724\\2049930526.py:17: FutureWarning: suggest_uniform has been deprecated in v3.0.0. This feature will be removed in v6.0.0. See https://github.com/optuna/optuna/releases/tag/v3.0.0. Use suggest_float instead.\n",
      "  dropout_rate2 = trial.suggest_uniform('dropout_rate2', 0.05, 0.2)\n",
      "c:\\Users\\mrbvb\\AppData\\Local\\Programs\\Python\\Python311\\Lib\\site-packages\\optuna\\trial\\_trial.py:676: RuntimeWarning: Inconsistent parameter values for distribution with name \"dropout_rate2\"! This might be a configuration mistake. Optuna allows to call the same distribution with the same name more than once in a trial. When the parameter values are inconsistent optuna only uses the values of the first call and ignores all following. Using these values: {'step': None, 'low': 0.05, 'high': 0.1, 'log': False}\n",
      "  warnings.warn(\n",
      "C:\\Users\\mrbvb\\AppData\\Local\\Temp\\ipykernel_26724\\2049930526.py:20: FutureWarning: suggest_loguniform has been deprecated in v3.0.0. This feature will be removed in v6.0.0. See https://github.com/optuna/optuna/releases/tag/v3.0.0. Use suggest_float(..., log=True) instead.\n",
      "  learning_rate = trial.suggest_loguniform('learning_rate', 1e-6, 1e-3)\n",
      "c:\\Users\\mrbvb\\AppData\\Local\\Programs\\Python\\Python311\\Lib\\site-packages\\keras\\src\\layers\\core\\embedding.py:86: UserWarning: Argument `input_length` is deprecated. Just remove it.\n",
      "  warnings.warn(\n"
     ]
    },
    {
     "name": "stdout",
     "output_type": "stream",
     "text": [
      "\u001b[1m11/11\u001b[0m \u001b[32m━━━━━━━━━━━━━━━━━━━━\u001b[0m\u001b[37m\u001b[0m \u001b[1m6s\u001b[0m 185ms/step - accuracy: 0.5466 - loss: 0.6926\n",
      "Epoch 2/10\n",
      "\u001b[1m11/11\u001b[0m \u001b[32m━━━━━━━━━━━━━━━━━━━━\u001b[0m\u001b[37m\u001b[0m \u001b[1m2s\u001b[0m 185ms/step - accuracy: 0.5172 - loss: 0.6902\n",
      "Epoch 3/10\n",
      "\u001b[1m11/11\u001b[0m \u001b[32m━━━━━━━━━━━━━━━━━━━━\u001b[0m\u001b[37m\u001b[0m \u001b[1m2s\u001b[0m 184ms/step - accuracy: 0.5050 - loss: 0.6868\n",
      "Epoch 4/10\n",
      "\u001b[1m11/11\u001b[0m \u001b[32m━━━━━━━━━━━━━━━━━━━━\u001b[0m\u001b[37m\u001b[0m \u001b[1m2s\u001b[0m 185ms/step - accuracy: 0.5335 - loss: 0.6679\n",
      "Epoch 5/10\n",
      "\u001b[1m11/11\u001b[0m \u001b[32m━━━━━━━━━━━━━━━━━━━━\u001b[0m\u001b[37m\u001b[0m \u001b[1m2s\u001b[0m 188ms/step - accuracy: 0.7325 - loss: 0.5892\n",
      "Epoch 6/10\n",
      "\u001b[1m11/11\u001b[0m \u001b[32m━━━━━━━━━━━━━━━━━━━━\u001b[0m\u001b[37m\u001b[0m \u001b[1m2s\u001b[0m 184ms/step - accuracy: 0.8583 - loss: 0.4232\n",
      "Epoch 7/10\n",
      "\u001b[1m11/11\u001b[0m \u001b[32m━━━━━━━━━━━━━━━━━━━━\u001b[0m\u001b[37m\u001b[0m \u001b[1m2s\u001b[0m 184ms/step - accuracy: 0.9674 - loss: 0.2415\n",
      "Epoch 8/10\n",
      "\u001b[1m11/11\u001b[0m \u001b[32m━━━━━━━━━━━━━━━━━━━━\u001b[0m\u001b[37m\u001b[0m \u001b[1m2s\u001b[0m 186ms/step - accuracy: 0.9708 - loss: 0.1384\n",
      "Epoch 9/10\n",
      "\u001b[1m11/11\u001b[0m \u001b[32m━━━━━━━━━━━━━━━━━━━━\u001b[0m\u001b[37m\u001b[0m \u001b[1m2s\u001b[0m 185ms/step - accuracy: 0.9800 - loss: 0.0643\n",
      "Epoch 10/10\n",
      "\u001b[1m11/11\u001b[0m \u001b[32m━━━━━━━━━━━━━━━━━━━━\u001b[0m\u001b[37m\u001b[0m \u001b[1m2s\u001b[0m 186ms/step - accuracy: 0.9784 - loss: 0.0857\n",
      "\u001b[1m6/6\u001b[0m \u001b[32m━━━━━━━━━━━━━━━━━━━━\u001b[0m\u001b[37m\u001b[0m \u001b[1m1s\u001b[0m 189ms/step\n",
      "result score f1 fuc -0.7440847280536373\n",
      "kw {}\n",
      "create mod: d_rate 0.23341642605722082 d_rate2  0.09227864249960342 LSTM  128 dim  150 lr  0.0002694854784253325\n",
      "Epoch 1/10\n"
     ]
    },
    {
     "name": "stderr",
     "output_type": "stream",
     "text": [
      "C:\\Users\\mrbvb\\AppData\\Local\\Temp\\ipykernel_26724\\2049930526.py:16: FutureWarning: suggest_uniform has been deprecated in v3.0.0. This feature will be removed in v6.0.0. See https://github.com/optuna/optuna/releases/tag/v3.0.0. Use suggest_float instead.\n",
      "  dropout_rate = trial.suggest_uniform('dropout_rate', 0.09, 0.3)\n",
      "c:\\Users\\mrbvb\\AppData\\Local\\Programs\\Python\\Python311\\Lib\\site-packages\\optuna\\trial\\_trial.py:676: RuntimeWarning: Inconsistent parameter values for distribution with name \"dropout_rate\"! This might be a configuration mistake. Optuna allows to call the same distribution with the same name more than once in a trial. When the parameter values are inconsistent optuna only uses the values of the first call and ignores all following. Using these values: {'step': None, 'low': 0.05, 'high': 0.3, 'log': False}\n",
      "  warnings.warn(\n",
      "C:\\Users\\mrbvb\\AppData\\Local\\Temp\\ipykernel_26724\\2049930526.py:17: FutureWarning: suggest_uniform has been deprecated in v3.0.0. This feature will be removed in v6.0.0. See https://github.com/optuna/optuna/releases/tag/v3.0.0. Use suggest_float instead.\n",
      "  dropout_rate2 = trial.suggest_uniform('dropout_rate2', 0.05, 0.2)\n",
      "c:\\Users\\mrbvb\\AppData\\Local\\Programs\\Python\\Python311\\Lib\\site-packages\\optuna\\trial\\_trial.py:676: RuntimeWarning: Inconsistent parameter values for distribution with name \"dropout_rate2\"! This might be a configuration mistake. Optuna allows to call the same distribution with the same name more than once in a trial. When the parameter values are inconsistent optuna only uses the values of the first call and ignores all following. Using these values: {'step': None, 'low': 0.05, 'high': 0.1, 'log': False}\n",
      "  warnings.warn(\n",
      "C:\\Users\\mrbvb\\AppData\\Local\\Temp\\ipykernel_26724\\2049930526.py:20: FutureWarning: suggest_loguniform has been deprecated in v3.0.0. This feature will be removed in v6.0.0. See https://github.com/optuna/optuna/releases/tag/v3.0.0. Use suggest_float(..., log=True) instead.\n",
      "  learning_rate = trial.suggest_loguniform('learning_rate', 1e-6, 1e-3)\n",
      "c:\\Users\\mrbvb\\AppData\\Local\\Programs\\Python\\Python311\\Lib\\site-packages\\keras\\src\\layers\\core\\embedding.py:86: UserWarning: Argument `input_length` is deprecated. Just remove it.\n",
      "  warnings.warn(\n"
     ]
    },
    {
     "name": "stdout",
     "output_type": "stream",
     "text": [
      "\u001b[1m11/11\u001b[0m \u001b[32m━━━━━━━━━━━━━━━━━━━━\u001b[0m\u001b[37m\u001b[0m \u001b[1m7s\u001b[0m 206ms/step - accuracy: 0.5019 - loss: 0.6952\n",
      "Epoch 2/10\n",
      "\u001b[1m11/11\u001b[0m \u001b[32m━━━━━━━━━━━━━━━━━━━━\u001b[0m\u001b[37m\u001b[0m \u001b[1m2s\u001b[0m 203ms/step - accuracy: 0.5152 - loss: 0.6893\n",
      "Epoch 3/10\n",
      "\u001b[1m11/11\u001b[0m \u001b[32m━━━━━━━━━━━━━━━━━━━━\u001b[0m\u001b[37m\u001b[0m \u001b[1m2s\u001b[0m 203ms/step - accuracy: 0.4999 - loss: 0.6857\n",
      "Epoch 4/10\n",
      "\u001b[1m11/11\u001b[0m \u001b[32m━━━━━━━━━━━━━━━━━━━━\u001b[0m\u001b[37m\u001b[0m \u001b[1m2s\u001b[0m 203ms/step - accuracy: 0.5692 - loss: 0.6636\n",
      "Epoch 5/10\n",
      "\u001b[1m11/11\u001b[0m \u001b[32m━━━━━━━━━━━━━━━━━━━━\u001b[0m\u001b[37m\u001b[0m \u001b[1m2s\u001b[0m 204ms/step - accuracy: 0.7346 - loss: 0.6226\n",
      "Epoch 6/10\n",
      "\u001b[1m11/11\u001b[0m \u001b[32m━━━━━━━━━━━━━━━━━━━━\u001b[0m\u001b[37m\u001b[0m \u001b[1m2s\u001b[0m 204ms/step - accuracy: 0.8403 - loss: 0.4957\n",
      "Epoch 7/10\n",
      "\u001b[1m11/11\u001b[0m \u001b[32m━━━━━━━━━━━━━━━━━━━━\u001b[0m\u001b[37m\u001b[0m \u001b[1m2s\u001b[0m 204ms/step - accuracy: 0.9444 - loss: 0.2996\n",
      "Epoch 8/10\n",
      "\u001b[1m11/11\u001b[0m \u001b[32m━━━━━━━━━━━━━━━━━━━━\u001b[0m\u001b[37m\u001b[0m \u001b[1m2s\u001b[0m 205ms/step - accuracy: 0.9690 - loss: 0.1257\n",
      "Epoch 9/10\n",
      "\u001b[1m11/11\u001b[0m \u001b[32m━━━━━━━━━━━━━━━━━━━━\u001b[0m\u001b[37m\u001b[0m \u001b[1m2s\u001b[0m 204ms/step - accuracy: 0.9872 - loss: 0.0579\n",
      "Epoch 10/10\n",
      "\u001b[1m11/11\u001b[0m \u001b[32m━━━━━━━━━━━━━━━━━━━━\u001b[0m\u001b[37m\u001b[0m \u001b[1m2s\u001b[0m 204ms/step - accuracy: 0.9951 - loss: 0.0285\n",
      "\u001b[1m6/6\u001b[0m \u001b[32m━━━━━━━━━━━━━━━━━━━━\u001b[0m\u001b[37m\u001b[0m \u001b[1m2s\u001b[0m 202ms/step\n",
      "kw {}\n",
      "create mod: d_rate 0.23341642605722082 d_rate2  0.09227864249960342 LSTM  128 dim  150 lr  0.0002694854784253325\n",
      "Epoch 1/10\n"
     ]
    },
    {
     "name": "stderr",
     "output_type": "stream",
     "text": [
      "C:\\Users\\mrbvb\\AppData\\Local\\Temp\\ipykernel_26724\\2049930526.py:16: FutureWarning: suggest_uniform has been deprecated in v3.0.0. This feature will be removed in v6.0.0. See https://github.com/optuna/optuna/releases/tag/v3.0.0. Use suggest_float instead.\n",
      "  dropout_rate = trial.suggest_uniform('dropout_rate', 0.09, 0.3)\n",
      "c:\\Users\\mrbvb\\AppData\\Local\\Programs\\Python\\Python311\\Lib\\site-packages\\optuna\\trial\\_trial.py:676: RuntimeWarning: Inconsistent parameter values for distribution with name \"dropout_rate\"! This might be a configuration mistake. Optuna allows to call the same distribution with the same name more than once in a trial. When the parameter values are inconsistent optuna only uses the values of the first call and ignores all following. Using these values: {'step': None, 'low': 0.05, 'high': 0.3, 'log': False}\n",
      "  warnings.warn(\n",
      "C:\\Users\\mrbvb\\AppData\\Local\\Temp\\ipykernel_26724\\2049930526.py:17: FutureWarning: suggest_uniform has been deprecated in v3.0.0. This feature will be removed in v6.0.0. See https://github.com/optuna/optuna/releases/tag/v3.0.0. Use suggest_float instead.\n",
      "  dropout_rate2 = trial.suggest_uniform('dropout_rate2', 0.05, 0.2)\n",
      "c:\\Users\\mrbvb\\AppData\\Local\\Programs\\Python\\Python311\\Lib\\site-packages\\optuna\\trial\\_trial.py:676: RuntimeWarning: Inconsistent parameter values for distribution with name \"dropout_rate2\"! This might be a configuration mistake. Optuna allows to call the same distribution with the same name more than once in a trial. When the parameter values are inconsistent optuna only uses the values of the first call and ignores all following. Using these values: {'step': None, 'low': 0.05, 'high': 0.1, 'log': False}\n",
      "  warnings.warn(\n",
      "C:\\Users\\mrbvb\\AppData\\Local\\Temp\\ipykernel_26724\\2049930526.py:20: FutureWarning: suggest_loguniform has been deprecated in v3.0.0. This feature will be removed in v6.0.0. See https://github.com/optuna/optuna/releases/tag/v3.0.0. Use suggest_float(..., log=True) instead.\n",
      "  learning_rate = trial.suggest_loguniform('learning_rate', 1e-6, 1e-3)\n",
      "c:\\Users\\mrbvb\\AppData\\Local\\Programs\\Python\\Python311\\Lib\\site-packages\\keras\\src\\layers\\core\\embedding.py:86: UserWarning: Argument `input_length` is deprecated. Just remove it.\n",
      "  warnings.warn(\n"
     ]
    },
    {
     "name": "stdout",
     "output_type": "stream",
     "text": [
      "\u001b[1m11/11\u001b[0m \u001b[32m━━━━━━━━━━━━━━━━━━━━\u001b[0m\u001b[37m\u001b[0m \u001b[1m6s\u001b[0m 199ms/step - accuracy: 0.4416 - loss: 0.6963\n",
      "Epoch 2/10\n",
      "\u001b[1m11/11\u001b[0m \u001b[32m━━━━━━━━━━━━━━━━━━━━\u001b[0m\u001b[37m\u001b[0m \u001b[1m2s\u001b[0m 200ms/step - accuracy: 0.5575 - loss: 0.6912\n",
      "Epoch 3/10\n",
      "\u001b[1m11/11\u001b[0m \u001b[32m━━━━━━━━━━━━━━━━━━━━\u001b[0m\u001b[37m\u001b[0m \u001b[1m2s\u001b[0m 199ms/step - accuracy: 0.7009 - loss: 0.6874\n",
      "Epoch 4/10\n",
      "\u001b[1m11/11\u001b[0m \u001b[32m━━━━━━━━━━━━━━━━━━━━\u001b[0m\u001b[37m\u001b[0m \u001b[1m2s\u001b[0m 200ms/step - accuracy: 0.7837 - loss: 0.6727\n",
      "Epoch 5/10\n",
      "\u001b[1m11/11\u001b[0m \u001b[32m━━━━━━━━━━━━━━━━━━━━\u001b[0m\u001b[37m\u001b[0m \u001b[1m2s\u001b[0m 199ms/step - accuracy: 0.8925 - loss: 0.6122\n",
      "Epoch 6/10\n",
      "\u001b[1m11/11\u001b[0m \u001b[32m━━━━━━━━━━━━━━━━━━━━\u001b[0m\u001b[37m\u001b[0m \u001b[1m2s\u001b[0m 200ms/step - accuracy: 0.8595 - loss: 0.4331\n",
      "Epoch 7/10\n",
      "\u001b[1m11/11\u001b[0m \u001b[32m━━━━━━━━━━━━━━━━━━━━\u001b[0m\u001b[37m\u001b[0m \u001b[1m2s\u001b[0m 201ms/step - accuracy: 0.9440 - loss: 0.2367\n",
      "Epoch 8/10\n",
      "\u001b[1m11/11\u001b[0m \u001b[32m━━━━━━━━━━━━━━━━━━━━\u001b[0m\u001b[37m\u001b[0m \u001b[1m2s\u001b[0m 199ms/step - accuracy: 0.9646 - loss: 0.1018\n",
      "Epoch 9/10\n",
      "\u001b[1m11/11\u001b[0m \u001b[32m━━━━━━━━━━━━━━━━━━━━\u001b[0m\u001b[37m\u001b[0m \u001b[1m2s\u001b[0m 200ms/step - accuracy: 0.9646 - loss: 0.1485\n",
      "Epoch 10/10\n",
      "\u001b[1m11/11\u001b[0m \u001b[32m━━━━━━━━━━━━━━━━━━━━\u001b[0m\u001b[37m\u001b[0m \u001b[1m2s\u001b[0m 199ms/step - accuracy: 0.9822 - loss: 0.0814\n",
      "\u001b[1m6/6\u001b[0m \u001b[32m━━━━━━━━━━━━━━━━━━━━\u001b[0m\u001b[37m\u001b[0m \u001b[1m1s\u001b[0m 199ms/step\n",
      "kw {}\n",
      "create mod: d_rate 0.23341642605722082 d_rate2  0.09227864249960342 LSTM  128 dim  150 lr  0.0002694854784253325\n",
      "Epoch 1/10\n"
     ]
    },
    {
     "name": "stderr",
     "output_type": "stream",
     "text": [
      "C:\\Users\\mrbvb\\AppData\\Local\\Temp\\ipykernel_26724\\2049930526.py:16: FutureWarning: suggest_uniform has been deprecated in v3.0.0. This feature will be removed in v6.0.0. See https://github.com/optuna/optuna/releases/tag/v3.0.0. Use suggest_float instead.\n",
      "  dropout_rate = trial.suggest_uniform('dropout_rate', 0.09, 0.3)\n",
      "c:\\Users\\mrbvb\\AppData\\Local\\Programs\\Python\\Python311\\Lib\\site-packages\\optuna\\trial\\_trial.py:676: RuntimeWarning: Inconsistent parameter values for distribution with name \"dropout_rate\"! This might be a configuration mistake. Optuna allows to call the same distribution with the same name more than once in a trial. When the parameter values are inconsistent optuna only uses the values of the first call and ignores all following. Using these values: {'step': None, 'low': 0.05, 'high': 0.3, 'log': False}\n",
      "  warnings.warn(\n",
      "C:\\Users\\mrbvb\\AppData\\Local\\Temp\\ipykernel_26724\\2049930526.py:17: FutureWarning: suggest_uniform has been deprecated in v3.0.0. This feature will be removed in v6.0.0. See https://github.com/optuna/optuna/releases/tag/v3.0.0. Use suggest_float instead.\n",
      "  dropout_rate2 = trial.suggest_uniform('dropout_rate2', 0.05, 0.2)\n",
      "c:\\Users\\mrbvb\\AppData\\Local\\Programs\\Python\\Python311\\Lib\\site-packages\\optuna\\trial\\_trial.py:676: RuntimeWarning: Inconsistent parameter values for distribution with name \"dropout_rate2\"! This might be a configuration mistake. Optuna allows to call the same distribution with the same name more than once in a trial. When the parameter values are inconsistent optuna only uses the values of the first call and ignores all following. Using these values: {'step': None, 'low': 0.05, 'high': 0.1, 'log': False}\n",
      "  warnings.warn(\n",
      "C:\\Users\\mrbvb\\AppData\\Local\\Temp\\ipykernel_26724\\2049930526.py:20: FutureWarning: suggest_loguniform has been deprecated in v3.0.0. This feature will be removed in v6.0.0. See https://github.com/optuna/optuna/releases/tag/v3.0.0. Use suggest_float(..., log=True) instead.\n",
      "  learning_rate = trial.suggest_loguniform('learning_rate', 1e-6, 1e-3)\n",
      "c:\\Users\\mrbvb\\AppData\\Local\\Programs\\Python\\Python311\\Lib\\site-packages\\keras\\src\\layers\\core\\embedding.py:86: UserWarning: Argument `input_length` is deprecated. Just remove it.\n",
      "  warnings.warn(\n"
     ]
    },
    {
     "name": "stdout",
     "output_type": "stream",
     "text": [
      "\u001b[1m11/11\u001b[0m \u001b[32m━━━━━━━━━━━━━━━━━━━━\u001b[0m\u001b[37m\u001b[0m \u001b[1m6s\u001b[0m 196ms/step - accuracy: 0.5254 - loss: 0.6919\n",
      "Epoch 2/10\n",
      "\u001b[1m11/11\u001b[0m \u001b[32m━━━━━━━━━━━━━━━━━━━━\u001b[0m\u001b[37m\u001b[0m \u001b[1m2s\u001b[0m 193ms/step - accuracy: 0.5457 - loss: 0.6866\n",
      "Epoch 3/10\n",
      "\u001b[1m11/11\u001b[0m \u001b[32m━━━━━━━━━━━━━━━━━━━━\u001b[0m\u001b[37m\u001b[0m \u001b[1m2s\u001b[0m 196ms/step - accuracy: 0.5326 - loss: 0.6851\n",
      "Epoch 4/10\n",
      "\u001b[1m11/11\u001b[0m \u001b[32m━━━━━━━━━━━━━━━━━━━━\u001b[0m\u001b[37m\u001b[0m \u001b[1m2s\u001b[0m 195ms/step - accuracy: 0.7176 - loss: 0.6502\n",
      "Epoch 5/10\n",
      "\u001b[1m11/11\u001b[0m \u001b[32m━━━━━━━━━━━━━━━━━━━━\u001b[0m\u001b[37m\u001b[0m \u001b[1m2s\u001b[0m 195ms/step - accuracy: 0.8241 - loss: 0.5446\n",
      "Epoch 6/10\n",
      "\u001b[1m11/11\u001b[0m \u001b[32m━━━━━━━━━━━━━━━━━━━━\u001b[0m\u001b[37m\u001b[0m \u001b[1m2s\u001b[0m 195ms/step - accuracy: 0.8919 - loss: 0.3545\n",
      "Epoch 7/10\n",
      "\u001b[1m11/11\u001b[0m \u001b[32m━━━━━━━━━━━━━━━━━━━━\u001b[0m\u001b[37m\u001b[0m \u001b[1m2s\u001b[0m 197ms/step - accuracy: 0.9546 - loss: 0.2149\n",
      "Epoch 8/10\n",
      "\u001b[1m11/11\u001b[0m \u001b[32m━━━━━━━━━━━━━━━━━━━━\u001b[0m\u001b[37m\u001b[0m \u001b[1m2s\u001b[0m 196ms/step - accuracy: 0.9661 - loss: 0.1175\n",
      "Epoch 9/10\n",
      "\u001b[1m11/11\u001b[0m \u001b[32m━━━━━━━━━━━━━━━━━━━━\u001b[0m\u001b[37m\u001b[0m \u001b[1m2s\u001b[0m 196ms/step - accuracy: 0.9749 - loss: 0.0776\n",
      "Epoch 10/10\n",
      "\u001b[1m11/11\u001b[0m \u001b[32m━━━━━━━━━━━━━━━━━━━━\u001b[0m\u001b[37m\u001b[0m \u001b[1m2s\u001b[0m 197ms/step - accuracy: 0.9812 - loss: 0.0540\n",
      "\u001b[1m6/6\u001b[0m \u001b[32m━━━━━━━━━━━━━━━━━━━━\u001b[0m\u001b[37m\u001b[0m \u001b[1m1s\u001b[0m 195ms/step\n"
     ]
    },
    {
     "name": "stderr",
     "output_type": "stream",
     "text": [
      "[I 2024-04-30 17:47:28,553] Trial 16 finished with value: 0.7622085430538056 and parameters: {'dropout_rate': 0.23341642605722082, 'dropout_rate2': 0.09227864249960342, 'LSTM_units': 128, 'EMBEDDING_DIM': 150, 'learning_rate': 0.0002694854784253325}. Best is trial 16 with value: 0.7622085430538056.\n"
     ]
    },
    {
     "name": "stdout",
     "output_type": "stream",
     "text": [
      "objectiving\n",
      "kw {}\n",
      "kw {}\n",
      "create mod: d_rate 0.15551391241085621 d_rate2  0.07886903268113984 LSTM  128 dim  150 lr  6.317509954584825e-05\n",
      "Epoch 1/10\n"
     ]
    },
    {
     "name": "stderr",
     "output_type": "stream",
     "text": [
      "C:\\Users\\mrbvb\\AppData\\Local\\Temp\\ipykernel_26724\\2049930526.py:63: FutureWarning: suggest_uniform has been deprecated in v3.0.0. This feature will be removed in v6.0.0. See https://github.com/optuna/optuna/releases/tag/v3.0.0. Use suggest_float instead.\n",
      "  dropout_rate = trial.suggest_uniform('dropout_rate', 0.05, 0.3) #value should be from small to large only\n",
      "C:\\Users\\mrbvb\\AppData\\Local\\Temp\\ipykernel_26724\\2049930526.py:64: FutureWarning: suggest_uniform has been deprecated in v3.0.0. This feature will be removed in v6.0.0. See https://github.com/optuna/optuna/releases/tag/v3.0.0. Use suggest_float instead.\n",
      "  dropout_rate2 = trial.suggest_uniform('dropout_rate2', 0.05, 0.1)\n",
      "C:\\Users\\mrbvb\\AppData\\Local\\Temp\\ipykernel_26724\\2049930526.py:67: FutureWarning: suggest_loguniform has been deprecated in v3.0.0. This feature will be removed in v6.0.0. See https://github.com/optuna/optuna/releases/tag/v3.0.0. Use suggest_float(..., log=True) instead.\n",
      "  learning_rate = trial.suggest_loguniform('learning_rate', 1e-6, 1e-3)\n",
      "C:\\Users\\mrbvb\\AppData\\Local\\Temp\\ipykernel_26724\\2049930526.py:16: FutureWarning: suggest_uniform has been deprecated in v3.0.0. This feature will be removed in v6.0.0. See https://github.com/optuna/optuna/releases/tag/v3.0.0. Use suggest_float instead.\n",
      "  dropout_rate = trial.suggest_uniform('dropout_rate', 0.09, 0.3)\n",
      "c:\\Users\\mrbvb\\AppData\\Local\\Programs\\Python\\Python311\\Lib\\site-packages\\optuna\\trial\\_trial.py:676: RuntimeWarning: Inconsistent parameter values for distribution with name \"dropout_rate\"! This might be a configuration mistake. Optuna allows to call the same distribution with the same name more than once in a trial. When the parameter values are inconsistent optuna only uses the values of the first call and ignores all following. Using these values: {'step': None, 'low': 0.05, 'high': 0.3, 'log': False}\n",
      "  warnings.warn(\n",
      "C:\\Users\\mrbvb\\AppData\\Local\\Temp\\ipykernel_26724\\2049930526.py:17: FutureWarning: suggest_uniform has been deprecated in v3.0.0. This feature will be removed in v6.0.0. See https://github.com/optuna/optuna/releases/tag/v3.0.0. Use suggest_float instead.\n",
      "  dropout_rate2 = trial.suggest_uniform('dropout_rate2', 0.05, 0.2)\n",
      "c:\\Users\\mrbvb\\AppData\\Local\\Programs\\Python\\Python311\\Lib\\site-packages\\optuna\\trial\\_trial.py:676: RuntimeWarning: Inconsistent parameter values for distribution with name \"dropout_rate2\"! This might be a configuration mistake. Optuna allows to call the same distribution with the same name more than once in a trial. When the parameter values are inconsistent optuna only uses the values of the first call and ignores all following. Using these values: {'step': None, 'low': 0.05, 'high': 0.1, 'log': False}\n",
      "  warnings.warn(\n",
      "C:\\Users\\mrbvb\\AppData\\Local\\Temp\\ipykernel_26724\\2049930526.py:20: FutureWarning: suggest_loguniform has been deprecated in v3.0.0. This feature will be removed in v6.0.0. See https://github.com/optuna/optuna/releases/tag/v3.0.0. Use suggest_float(..., log=True) instead.\n",
      "  learning_rate = trial.suggest_loguniform('learning_rate', 1e-6, 1e-3)\n",
      "c:\\Users\\mrbvb\\AppData\\Local\\Programs\\Python\\Python311\\Lib\\site-packages\\keras\\src\\layers\\core\\embedding.py:86: UserWarning: Argument `input_length` is deprecated. Just remove it.\n",
      "  warnings.warn(\n"
     ]
    },
    {
     "name": "stdout",
     "output_type": "stream",
     "text": [
      "\u001b[1m11/11\u001b[0m \u001b[32m━━━━━━━━━━━━━━━━━━━━\u001b[0m\u001b[37m\u001b[0m \u001b[1m6s\u001b[0m 195ms/step - accuracy: 0.4705 - loss: 0.6927\n",
      "Epoch 2/10\n",
      "\u001b[1m11/11\u001b[0m \u001b[32m━━━━━━━━━━━━━━━━━━━━\u001b[0m\u001b[37m\u001b[0m \u001b[1m2s\u001b[0m 191ms/step - accuracy: 0.5143 - loss: 0.6918\n",
      "Epoch 3/10\n",
      "\u001b[1m11/11\u001b[0m \u001b[32m━━━━━━━━━━━━━━━━━━━━\u001b[0m\u001b[37m\u001b[0m \u001b[1m2s\u001b[0m 189ms/step - accuracy: 0.5161 - loss: 0.6903\n",
      "Epoch 4/10\n",
      "\u001b[1m11/11\u001b[0m \u001b[32m━━━━━━━━━━━━━━━━━━━━\u001b[0m\u001b[37m\u001b[0m \u001b[1m2s\u001b[0m 191ms/step - accuracy: 0.5334 - loss: 0.6889\n",
      "Epoch 5/10\n",
      "\u001b[1m11/11\u001b[0m \u001b[32m━━━━━━━━━━━━━━━━━━━━\u001b[0m\u001b[37m\u001b[0m \u001b[1m2s\u001b[0m 191ms/step - accuracy: 0.5181 - loss: 0.6882\n",
      "\u001b[1m6/6\u001b[0m \u001b[32m━━━━━━━━━━━━━━━━━━━━\u001b[0m\u001b[37m\u001b[0m \u001b[1m1s\u001b[0m 192ms/step\n",
      "kw {}\n",
      "create mod: d_rate 0.15551391241085621 d_rate2  0.07886903268113984 LSTM  128 dim  150 lr  6.317509954584825e-05\n",
      "Epoch 1/10\n"
     ]
    },
    {
     "name": "stderr",
     "output_type": "stream",
     "text": [
      "C:\\Users\\mrbvb\\AppData\\Local\\Temp\\ipykernel_26724\\2049930526.py:16: FutureWarning: suggest_uniform has been deprecated in v3.0.0. This feature will be removed in v6.0.0. See https://github.com/optuna/optuna/releases/tag/v3.0.0. Use suggest_float instead.\n",
      "  dropout_rate = trial.suggest_uniform('dropout_rate', 0.09, 0.3)\n",
      "c:\\Users\\mrbvb\\AppData\\Local\\Programs\\Python\\Python311\\Lib\\site-packages\\optuna\\trial\\_trial.py:676: RuntimeWarning: Inconsistent parameter values for distribution with name \"dropout_rate\"! This might be a configuration mistake. Optuna allows to call the same distribution with the same name more than once in a trial. When the parameter values are inconsistent optuna only uses the values of the first call and ignores all following. Using these values: {'step': None, 'low': 0.05, 'high': 0.3, 'log': False}\n",
      "  warnings.warn(\n",
      "C:\\Users\\mrbvb\\AppData\\Local\\Temp\\ipykernel_26724\\2049930526.py:17: FutureWarning: suggest_uniform has been deprecated in v3.0.0. This feature will be removed in v6.0.0. See https://github.com/optuna/optuna/releases/tag/v3.0.0. Use suggest_float instead.\n",
      "  dropout_rate2 = trial.suggest_uniform('dropout_rate2', 0.05, 0.2)\n",
      "c:\\Users\\mrbvb\\AppData\\Local\\Programs\\Python\\Python311\\Lib\\site-packages\\optuna\\trial\\_trial.py:676: RuntimeWarning: Inconsistent parameter values for distribution with name \"dropout_rate2\"! This might be a configuration mistake. Optuna allows to call the same distribution with the same name more than once in a trial. When the parameter values are inconsistent optuna only uses the values of the first call and ignores all following. Using these values: {'step': None, 'low': 0.05, 'high': 0.1, 'log': False}\n",
      "  warnings.warn(\n",
      "C:\\Users\\mrbvb\\AppData\\Local\\Temp\\ipykernel_26724\\2049930526.py:20: FutureWarning: suggest_loguniform has been deprecated in v3.0.0. This feature will be removed in v6.0.0. See https://github.com/optuna/optuna/releases/tag/v3.0.0. Use suggest_float(..., log=True) instead.\n",
      "  learning_rate = trial.suggest_loguniform('learning_rate', 1e-6, 1e-3)\n",
      "c:\\Users\\mrbvb\\AppData\\Local\\Programs\\Python\\Python311\\Lib\\site-packages\\keras\\src\\layers\\core\\embedding.py:86: UserWarning: Argument `input_length` is deprecated. Just remove it.\n",
      "  warnings.warn(\n"
     ]
    },
    {
     "name": "stdout",
     "output_type": "stream",
     "text": [
      "\u001b[1m11/11\u001b[0m \u001b[32m━━━━━━━━━━━━━━━━━━━━\u001b[0m\u001b[37m\u001b[0m \u001b[1m6s\u001b[0m 185ms/step - accuracy: 0.5006 - loss: 0.6934\n",
      "Epoch 2/10\n",
      "\u001b[1m11/11\u001b[0m \u001b[32m━━━━━━━━━━━━━━━━━━━━\u001b[0m\u001b[37m\u001b[0m \u001b[1m2s\u001b[0m 185ms/step - accuracy: 0.5468 - loss: 0.6915\n",
      "Epoch 3/10\n",
      "\u001b[1m11/11\u001b[0m \u001b[32m━━━━━━━━━━━━━━━━━━━━\u001b[0m\u001b[37m\u001b[0m \u001b[1m2s\u001b[0m 185ms/step - accuracy: 0.5226 - loss: 0.6924\n",
      "Epoch 4/10\n",
      "\u001b[1m11/11\u001b[0m \u001b[32m━━━━━━━━━━━━━━━━━━━━\u001b[0m\u001b[37m\u001b[0m \u001b[1m2s\u001b[0m 186ms/step - accuracy: 0.5909 - loss: 0.6907\n",
      "Epoch 5/10\n",
      "\u001b[1m11/11\u001b[0m \u001b[32m━━━━━━━━━━━━━━━━━━━━\u001b[0m\u001b[37m\u001b[0m \u001b[1m2s\u001b[0m 184ms/step - accuracy: 0.6132 - loss: 0.6910\n",
      "Epoch 6/10\n",
      "\u001b[1m11/11\u001b[0m \u001b[32m━━━━━━━━━━━━━━━━━━━━\u001b[0m\u001b[37m\u001b[0m \u001b[1m2s\u001b[0m 187ms/step - accuracy: 0.6697 - loss: 0.6899\n",
      "Epoch 7/10\n",
      "\u001b[1m11/11\u001b[0m \u001b[32m━━━━━━━━━━━━━━━━━━━━\u001b[0m\u001b[37m\u001b[0m \u001b[1m2s\u001b[0m 186ms/step - accuracy: 0.6766 - loss: 0.6891\n",
      "Epoch 8/10\n",
      "\u001b[1m11/11\u001b[0m \u001b[32m━━━━━━━━━━━━━━━━━━━━\u001b[0m\u001b[37m\u001b[0m \u001b[1m2s\u001b[0m 185ms/step - accuracy: 0.7266 - loss: 0.6876\n",
      "Epoch 9/10\n",
      "\u001b[1m11/11\u001b[0m \u001b[32m━━━━━━━━━━━━━━━━━━━━\u001b[0m\u001b[37m\u001b[0m \u001b[1m2s\u001b[0m 187ms/step - accuracy: 0.7965 - loss: 0.6845\n",
      "Epoch 10/10\n",
      "\u001b[1m11/11\u001b[0m \u001b[32m━━━━━━━━━━━━━━━━━━━━\u001b[0m\u001b[37m\u001b[0m \u001b[1m2s\u001b[0m 185ms/step - accuracy: 0.8093 - loss: 0.6814\n",
      "\u001b[1m6/6\u001b[0m \u001b[32m━━━━━━━━━━━━━━━━━━━━\u001b[0m\u001b[37m\u001b[0m \u001b[1m1s\u001b[0m 188ms/step\n",
      "kw {}\n",
      "create mod: d_rate 0.15551391241085621 d_rate2  0.07886903268113984 LSTM  128 dim  150 lr  6.317509954584825e-05\n",
      "Epoch 1/10\n"
     ]
    },
    {
     "name": "stderr",
     "output_type": "stream",
     "text": [
      "C:\\Users\\mrbvb\\AppData\\Local\\Temp\\ipykernel_26724\\2049930526.py:16: FutureWarning: suggest_uniform has been deprecated in v3.0.0. This feature will be removed in v6.0.0. See https://github.com/optuna/optuna/releases/tag/v3.0.0. Use suggest_float instead.\n",
      "  dropout_rate = trial.suggest_uniform('dropout_rate', 0.09, 0.3)\n",
      "c:\\Users\\mrbvb\\AppData\\Local\\Programs\\Python\\Python311\\Lib\\site-packages\\optuna\\trial\\_trial.py:676: RuntimeWarning: Inconsistent parameter values for distribution with name \"dropout_rate\"! This might be a configuration mistake. Optuna allows to call the same distribution with the same name more than once in a trial. When the parameter values are inconsistent optuna only uses the values of the first call and ignores all following. Using these values: {'step': None, 'low': 0.05, 'high': 0.3, 'log': False}\n",
      "  warnings.warn(\n",
      "C:\\Users\\mrbvb\\AppData\\Local\\Temp\\ipykernel_26724\\2049930526.py:17: FutureWarning: suggest_uniform has been deprecated in v3.0.0. This feature will be removed in v6.0.0. See https://github.com/optuna/optuna/releases/tag/v3.0.0. Use suggest_float instead.\n",
      "  dropout_rate2 = trial.suggest_uniform('dropout_rate2', 0.05, 0.2)\n",
      "c:\\Users\\mrbvb\\AppData\\Local\\Programs\\Python\\Python311\\Lib\\site-packages\\optuna\\trial\\_trial.py:676: RuntimeWarning: Inconsistent parameter values for distribution with name \"dropout_rate2\"! This might be a configuration mistake. Optuna allows to call the same distribution with the same name more than once in a trial. When the parameter values are inconsistent optuna only uses the values of the first call and ignores all following. Using these values: {'step': None, 'low': 0.05, 'high': 0.1, 'log': False}\n",
      "  warnings.warn(\n",
      "C:\\Users\\mrbvb\\AppData\\Local\\Temp\\ipykernel_26724\\2049930526.py:20: FutureWarning: suggest_loguniform has been deprecated in v3.0.0. This feature will be removed in v6.0.0. See https://github.com/optuna/optuna/releases/tag/v3.0.0. Use suggest_float(..., log=True) instead.\n",
      "  learning_rate = trial.suggest_loguniform('learning_rate', 1e-6, 1e-3)\n",
      "c:\\Users\\mrbvb\\AppData\\Local\\Programs\\Python\\Python311\\Lib\\site-packages\\keras\\src\\layers\\core\\embedding.py:86: UserWarning: Argument `input_length` is deprecated. Just remove it.\n",
      "  warnings.warn(\n"
     ]
    },
    {
     "name": "stdout",
     "output_type": "stream",
     "text": [
      "\u001b[1m11/11\u001b[0m \u001b[32m━━━━━━━━━━━━━━━━━━━━\u001b[0m\u001b[37m\u001b[0m \u001b[1m7s\u001b[0m 201ms/step - accuracy: 0.5163 - loss: 0.6926\n",
      "Epoch 2/10\n",
      "\u001b[1m11/11\u001b[0m \u001b[32m━━━━━━━━━━━━━━━━━━━━\u001b[0m\u001b[37m\u001b[0m \u001b[1m2s\u001b[0m 199ms/step - accuracy: 0.5192 - loss: 0.6924\n",
      "Epoch 3/10\n",
      "\u001b[1m11/11\u001b[0m \u001b[32m━━━━━━━━━━━━━━━━━━━━\u001b[0m\u001b[37m\u001b[0m \u001b[1m2s\u001b[0m 200ms/step - accuracy: 0.5239 - loss: 0.6913\n",
      "Epoch 4/10\n",
      "\u001b[1m11/11\u001b[0m \u001b[32m━━━━━━━━━━━━━━━━━━━━\u001b[0m\u001b[37m\u001b[0m \u001b[1m2s\u001b[0m 200ms/step - accuracy: 0.4998 - loss: 0.6916\n",
      "\u001b[1m6/6\u001b[0m \u001b[32m━━━━━━━━━━━━━━━━━━━━\u001b[0m\u001b[37m\u001b[0m \u001b[1m2s\u001b[0m 201ms/step\n",
      "result score f1 fuc -0.1897810218978102\n",
      "kw {}\n",
      "create mod: d_rate 0.15551391241085621 d_rate2  0.07886903268113984 LSTM  128 dim  150 lr  6.317509954584825e-05\n",
      "Epoch 1/10\n"
     ]
    },
    {
     "name": "stderr",
     "output_type": "stream",
     "text": [
      "C:\\Users\\mrbvb\\AppData\\Local\\Temp\\ipykernel_26724\\2049930526.py:16: FutureWarning: suggest_uniform has been deprecated in v3.0.0. This feature will be removed in v6.0.0. See https://github.com/optuna/optuna/releases/tag/v3.0.0. Use suggest_float instead.\n",
      "  dropout_rate = trial.suggest_uniform('dropout_rate', 0.09, 0.3)\n",
      "c:\\Users\\mrbvb\\AppData\\Local\\Programs\\Python\\Python311\\Lib\\site-packages\\optuna\\trial\\_trial.py:676: RuntimeWarning: Inconsistent parameter values for distribution with name \"dropout_rate\"! This might be a configuration mistake. Optuna allows to call the same distribution with the same name more than once in a trial. When the parameter values are inconsistent optuna only uses the values of the first call and ignores all following. Using these values: {'step': None, 'low': 0.05, 'high': 0.3, 'log': False}\n",
      "  warnings.warn(\n",
      "C:\\Users\\mrbvb\\AppData\\Local\\Temp\\ipykernel_26724\\2049930526.py:17: FutureWarning: suggest_uniform has been deprecated in v3.0.0. This feature will be removed in v6.0.0. See https://github.com/optuna/optuna/releases/tag/v3.0.0. Use suggest_float instead.\n",
      "  dropout_rate2 = trial.suggest_uniform('dropout_rate2', 0.05, 0.2)\n",
      "c:\\Users\\mrbvb\\AppData\\Local\\Programs\\Python\\Python311\\Lib\\site-packages\\optuna\\trial\\_trial.py:676: RuntimeWarning: Inconsistent parameter values for distribution with name \"dropout_rate2\"! This might be a configuration mistake. Optuna allows to call the same distribution with the same name more than once in a trial. When the parameter values are inconsistent optuna only uses the values of the first call and ignores all following. Using these values: {'step': None, 'low': 0.05, 'high': 0.1, 'log': False}\n",
      "  warnings.warn(\n",
      "C:\\Users\\mrbvb\\AppData\\Local\\Temp\\ipykernel_26724\\2049930526.py:20: FutureWarning: suggest_loguniform has been deprecated in v3.0.0. This feature will be removed in v6.0.0. See https://github.com/optuna/optuna/releases/tag/v3.0.0. Use suggest_float(..., log=True) instead.\n",
      "  learning_rate = trial.suggest_loguniform('learning_rate', 1e-6, 1e-3)\n",
      "c:\\Users\\mrbvb\\AppData\\Local\\Programs\\Python\\Python311\\Lib\\site-packages\\keras\\src\\layers\\core\\embedding.py:86: UserWarning: Argument `input_length` is deprecated. Just remove it.\n",
      "  warnings.warn(\n"
     ]
    },
    {
     "name": "stdout",
     "output_type": "stream",
     "text": [
      "\u001b[1m11/11\u001b[0m \u001b[32m━━━━━━━━━━━━━━━━━━━━\u001b[0m\u001b[37m\u001b[0m \u001b[1m6s\u001b[0m 196ms/step - accuracy: 0.5142 - loss: 0.6933\n",
      "Epoch 2/10\n",
      "\u001b[1m11/11\u001b[0m \u001b[32m━━━━━━━━━━━━━━━━━━━━\u001b[0m\u001b[37m\u001b[0m \u001b[1m2s\u001b[0m 196ms/step - accuracy: 0.4956 - loss: 0.6933\n",
      "Epoch 3/10\n",
      "\u001b[1m11/11\u001b[0m \u001b[32m━━━━━━━━━━━━━━━━━━━━\u001b[0m\u001b[37m\u001b[0m \u001b[1m2s\u001b[0m 196ms/step - accuracy: 0.5461 - loss: 0.6924\n",
      "Epoch 4/10\n",
      "\u001b[1m11/11\u001b[0m \u001b[32m━━━━━━━━━━━━━━━━━━━━\u001b[0m\u001b[37m\u001b[0m \u001b[1m2s\u001b[0m 195ms/step - accuracy: 0.5646 - loss: 0.6907\n",
      "Epoch 5/10\n",
      "\u001b[1m11/11\u001b[0m \u001b[32m━━━━━━━━━━━━━━━━━━━━\u001b[0m\u001b[37m\u001b[0m \u001b[1m2s\u001b[0m 197ms/step - accuracy: 0.5681 - loss: 0.6881\n",
      "Epoch 6/10\n",
      "\u001b[1m11/11\u001b[0m \u001b[32m━━━━━━━━━━━━━━━━━━━━\u001b[0m\u001b[37m\u001b[0m \u001b[1m2s\u001b[0m 198ms/step - accuracy: 0.5588 - loss: 0.6870\n",
      "\u001b[1m6/6\u001b[0m \u001b[32m━━━━━━━━━━━━━━━━━━━━\u001b[0m\u001b[37m\u001b[0m \u001b[1m1s\u001b[0m 197ms/step\n",
      "kw {}\n",
      "create mod: d_rate 0.15551391241085621 d_rate2  0.07886903268113984 LSTM  128 dim  150 lr  6.317509954584825e-05\n",
      "Epoch 1/10\n"
     ]
    },
    {
     "name": "stderr",
     "output_type": "stream",
     "text": [
      "C:\\Users\\mrbvb\\AppData\\Local\\Temp\\ipykernel_26724\\2049930526.py:16: FutureWarning: suggest_uniform has been deprecated in v3.0.0. This feature will be removed in v6.0.0. See https://github.com/optuna/optuna/releases/tag/v3.0.0. Use suggest_float instead.\n",
      "  dropout_rate = trial.suggest_uniform('dropout_rate', 0.09, 0.3)\n",
      "c:\\Users\\mrbvb\\AppData\\Local\\Programs\\Python\\Python311\\Lib\\site-packages\\optuna\\trial\\_trial.py:676: RuntimeWarning: Inconsistent parameter values for distribution with name \"dropout_rate\"! This might be a configuration mistake. Optuna allows to call the same distribution with the same name more than once in a trial. When the parameter values are inconsistent optuna only uses the values of the first call and ignores all following. Using these values: {'step': None, 'low': 0.05, 'high': 0.3, 'log': False}\n",
      "  warnings.warn(\n",
      "C:\\Users\\mrbvb\\AppData\\Local\\Temp\\ipykernel_26724\\2049930526.py:17: FutureWarning: suggest_uniform has been deprecated in v3.0.0. This feature will be removed in v6.0.0. See https://github.com/optuna/optuna/releases/tag/v3.0.0. Use suggest_float instead.\n",
      "  dropout_rate2 = trial.suggest_uniform('dropout_rate2', 0.05, 0.2)\n",
      "c:\\Users\\mrbvb\\AppData\\Local\\Programs\\Python\\Python311\\Lib\\site-packages\\optuna\\trial\\_trial.py:676: RuntimeWarning: Inconsistent parameter values for distribution with name \"dropout_rate2\"! This might be a configuration mistake. Optuna allows to call the same distribution with the same name more than once in a trial. When the parameter values are inconsistent optuna only uses the values of the first call and ignores all following. Using these values: {'step': None, 'low': 0.05, 'high': 0.1, 'log': False}\n",
      "  warnings.warn(\n",
      "C:\\Users\\mrbvb\\AppData\\Local\\Temp\\ipykernel_26724\\2049930526.py:20: FutureWarning: suggest_loguniform has been deprecated in v3.0.0. This feature will be removed in v6.0.0. See https://github.com/optuna/optuna/releases/tag/v3.0.0. Use suggest_float(..., log=True) instead.\n",
      "  learning_rate = trial.suggest_loguniform('learning_rate', 1e-6, 1e-3)\n",
      "c:\\Users\\mrbvb\\AppData\\Local\\Programs\\Python\\Python311\\Lib\\site-packages\\keras\\src\\layers\\core\\embedding.py:86: UserWarning: Argument `input_length` is deprecated. Just remove it.\n",
      "  warnings.warn(\n"
     ]
    },
    {
     "name": "stdout",
     "output_type": "stream",
     "text": [
      "\u001b[1m11/11\u001b[0m \u001b[32m━━━━━━━━━━━━━━━━━━━━\u001b[0m\u001b[37m\u001b[0m \u001b[1m6s\u001b[0m 193ms/step - accuracy: 0.5010 - loss: 0.6933\n",
      "Epoch 2/10\n",
      "\u001b[1m11/11\u001b[0m \u001b[32m━━━━━━━━━━━━━━━━━━━━\u001b[0m\u001b[37m\u001b[0m \u001b[1m2s\u001b[0m 191ms/step - accuracy: 0.5215 - loss: 0.6930\n",
      "Epoch 3/10\n",
      "\u001b[1m11/11\u001b[0m \u001b[32m━━━━━━━━━━━━━━━━━━━━\u001b[0m\u001b[37m\u001b[0m \u001b[1m2s\u001b[0m 190ms/step - accuracy: 0.5112 - loss: 0.6924\n",
      "Epoch 4/10\n",
      "\u001b[1m11/11\u001b[0m \u001b[32m━━━━━━━━━━━━━━━━━━━━\u001b[0m\u001b[37m\u001b[0m \u001b[1m2s\u001b[0m 191ms/step - accuracy: 0.5870 - loss: 0.6915\n",
      "Epoch 5/10\n",
      "\u001b[1m11/11\u001b[0m \u001b[32m━━━━━━━━━━━━━━━━━━━━\u001b[0m\u001b[37m\u001b[0m \u001b[1m2s\u001b[0m 191ms/step - accuracy: 0.5692 - loss: 0.6909\n",
      "Epoch 6/10\n",
      "\u001b[1m11/11\u001b[0m \u001b[32m━━━━━━━━━━━━━━━━━━━━\u001b[0m\u001b[37m\u001b[0m \u001b[1m2s\u001b[0m 192ms/step - accuracy: 0.5667 - loss: 0.6911\n",
      "Epoch 7/10\n",
      "\u001b[1m11/11\u001b[0m \u001b[32m━━━━━━━━━━━━━━━━━━━━\u001b[0m\u001b[37m\u001b[0m \u001b[1m2s\u001b[0m 193ms/step - accuracy: 0.6928 - loss: 0.6891\n",
      "Epoch 8/10\n",
      "\u001b[1m11/11\u001b[0m \u001b[32m━━━━━━━━━━━━━━━━━━━━\u001b[0m\u001b[37m\u001b[0m \u001b[1m2s\u001b[0m 191ms/step - accuracy: 0.7306 - loss: 0.6871\n",
      "Epoch 9/10\n",
      "\u001b[1m11/11\u001b[0m \u001b[32m━━━━━━━━━━━━━━━━━━━━\u001b[0m\u001b[37m\u001b[0m \u001b[1m2s\u001b[0m 192ms/step - accuracy: 0.7061 - loss: 0.6854\n",
      "Epoch 10/10\n",
      "\u001b[1m11/11\u001b[0m \u001b[32m━━━━━━━━━━━━━━━━━━━━\u001b[0m\u001b[37m\u001b[0m \u001b[1m2s\u001b[0m 191ms/step - accuracy: 0.8093 - loss: 0.6811\n",
      "\u001b[1m6/6\u001b[0m \u001b[32m━━━━━━━━━━━━━━━━━━━━\u001b[0m\u001b[37m\u001b[0m \u001b[1m1s\u001b[0m 191ms/step\n",
      "kw {}\n",
      "create mod: d_rate 0.15551391241085621 d_rate2  0.07886903268113984 LSTM  128 dim  150 lr  6.317509954584825e-05\n",
      "Epoch 1/10\n"
     ]
    },
    {
     "name": "stderr",
     "output_type": "stream",
     "text": [
      "C:\\Users\\mrbvb\\AppData\\Local\\Temp\\ipykernel_26724\\2049930526.py:16: FutureWarning: suggest_uniform has been deprecated in v3.0.0. This feature will be removed in v6.0.0. See https://github.com/optuna/optuna/releases/tag/v3.0.0. Use suggest_float instead.\n",
      "  dropout_rate = trial.suggest_uniform('dropout_rate', 0.09, 0.3)\n",
      "c:\\Users\\mrbvb\\AppData\\Local\\Programs\\Python\\Python311\\Lib\\site-packages\\optuna\\trial\\_trial.py:676: RuntimeWarning: Inconsistent parameter values for distribution with name \"dropout_rate\"! This might be a configuration mistake. Optuna allows to call the same distribution with the same name more than once in a trial. When the parameter values are inconsistent optuna only uses the values of the first call and ignores all following. Using these values: {'step': None, 'low': 0.05, 'high': 0.3, 'log': False}\n",
      "  warnings.warn(\n",
      "C:\\Users\\mrbvb\\AppData\\Local\\Temp\\ipykernel_26724\\2049930526.py:17: FutureWarning: suggest_uniform has been deprecated in v3.0.0. This feature will be removed in v6.0.0. See https://github.com/optuna/optuna/releases/tag/v3.0.0. Use suggest_float instead.\n",
      "  dropout_rate2 = trial.suggest_uniform('dropout_rate2', 0.05, 0.2)\n",
      "c:\\Users\\mrbvb\\AppData\\Local\\Programs\\Python\\Python311\\Lib\\site-packages\\optuna\\trial\\_trial.py:676: RuntimeWarning: Inconsistent parameter values for distribution with name \"dropout_rate2\"! This might be a configuration mistake. Optuna allows to call the same distribution with the same name more than once in a trial. When the parameter values are inconsistent optuna only uses the values of the first call and ignores all following. Using these values: {'step': None, 'low': 0.05, 'high': 0.1, 'log': False}\n",
      "  warnings.warn(\n",
      "C:\\Users\\mrbvb\\AppData\\Local\\Temp\\ipykernel_26724\\2049930526.py:20: FutureWarning: suggest_loguniform has been deprecated in v3.0.0. This feature will be removed in v6.0.0. See https://github.com/optuna/optuna/releases/tag/v3.0.0. Use suggest_float(..., log=True) instead.\n",
      "  learning_rate = trial.suggest_loguniform('learning_rate', 1e-6, 1e-3)\n",
      "c:\\Users\\mrbvb\\AppData\\Local\\Programs\\Python\\Python311\\Lib\\site-packages\\keras\\src\\layers\\core\\embedding.py:86: UserWarning: Argument `input_length` is deprecated. Just remove it.\n",
      "  warnings.warn(\n"
     ]
    },
    {
     "name": "stdout",
     "output_type": "stream",
     "text": [
      "\u001b[1m11/11\u001b[0m \u001b[32m━━━━━━━━━━━━━━━━━━━━\u001b[0m\u001b[37m\u001b[0m \u001b[1m6s\u001b[0m 187ms/step - accuracy: 0.5594 - loss: 0.6922\n",
      "Epoch 2/10\n",
      "\u001b[1m11/11\u001b[0m \u001b[32m━━━━━━━━━━━━━━━━━━━━\u001b[0m\u001b[37m\u001b[0m \u001b[1m2s\u001b[0m 186ms/step - accuracy: 0.5296 - loss: 0.6916\n",
      "Epoch 3/10\n",
      "\u001b[1m11/11\u001b[0m \u001b[32m━━━━━━━━━━━━━━━━━━━━\u001b[0m\u001b[37m\u001b[0m \u001b[1m2s\u001b[0m 188ms/step - accuracy: 0.5333 - loss: 0.6900\n",
      "Epoch 4/10\n",
      "\u001b[1m11/11\u001b[0m \u001b[32m━━━━━━━━━━━━━━━━━━━━\u001b[0m\u001b[37m\u001b[0m \u001b[1m2s\u001b[0m 185ms/step - accuracy: 0.5146 - loss: 0.6913\n",
      "\u001b[1m6/6\u001b[0m \u001b[32m━━━━━━━━━━━━━━━━━━━━\u001b[0m\u001b[37m\u001b[0m \u001b[1m1s\u001b[0m 194ms/step\n"
     ]
    },
    {
     "name": "stderr",
     "output_type": "stream",
     "text": [
      "[I 2024-04-30 17:49:26,444] Trial 17 finished with value: 0.2064516129032258 and parameters: {'dropout_rate': 0.15551391241085621, 'dropout_rate2': 0.07886903268113984, 'LSTM_units': 128, 'EMBEDDING_DIM': 150, 'learning_rate': 6.317509954584825e-05}. Best is trial 16 with value: 0.7622085430538056.\n"
     ]
    },
    {
     "name": "stdout",
     "output_type": "stream",
     "text": [
      "objectiving\n",
      "kw {}\n",
      "kw {}\n",
      "create mod: d_rate 0.058795593243084476 d_rate2  0.09787324634987318 LSTM  128 dim  150 lr  0.0004042055830540087\n",
      "Epoch 1/10\n"
     ]
    },
    {
     "name": "stderr",
     "output_type": "stream",
     "text": [
      "C:\\Users\\mrbvb\\AppData\\Local\\Temp\\ipykernel_26724\\2049930526.py:63: FutureWarning: suggest_uniform has been deprecated in v3.0.0. This feature will be removed in v6.0.0. See https://github.com/optuna/optuna/releases/tag/v3.0.0. Use suggest_float instead.\n",
      "  dropout_rate = trial.suggest_uniform('dropout_rate', 0.05, 0.3) #value should be from small to large only\n",
      "C:\\Users\\mrbvb\\AppData\\Local\\Temp\\ipykernel_26724\\2049930526.py:64: FutureWarning: suggest_uniform has been deprecated in v3.0.0. This feature will be removed in v6.0.0. See https://github.com/optuna/optuna/releases/tag/v3.0.0. Use suggest_float instead.\n",
      "  dropout_rate2 = trial.suggest_uniform('dropout_rate2', 0.05, 0.1)\n",
      "C:\\Users\\mrbvb\\AppData\\Local\\Temp\\ipykernel_26724\\2049930526.py:67: FutureWarning: suggest_loguniform has been deprecated in v3.0.0. This feature will be removed in v6.0.0. See https://github.com/optuna/optuna/releases/tag/v3.0.0. Use suggest_float(..., log=True) instead.\n",
      "  learning_rate = trial.suggest_loguniform('learning_rate', 1e-6, 1e-3)\n",
      "C:\\Users\\mrbvb\\AppData\\Local\\Temp\\ipykernel_26724\\2049930526.py:16: FutureWarning: suggest_uniform has been deprecated in v3.0.0. This feature will be removed in v6.0.0. See https://github.com/optuna/optuna/releases/tag/v3.0.0. Use suggest_float instead.\n",
      "  dropout_rate = trial.suggest_uniform('dropout_rate', 0.09, 0.3)\n",
      "c:\\Users\\mrbvb\\AppData\\Local\\Programs\\Python\\Python311\\Lib\\site-packages\\optuna\\trial\\_trial.py:676: RuntimeWarning: Inconsistent parameter values for distribution with name \"dropout_rate\"! This might be a configuration mistake. Optuna allows to call the same distribution with the same name more than once in a trial. When the parameter values are inconsistent optuna only uses the values of the first call and ignores all following. Using these values: {'step': None, 'low': 0.05, 'high': 0.3, 'log': False}\n",
      "  warnings.warn(\n",
      "C:\\Users\\mrbvb\\AppData\\Local\\Temp\\ipykernel_26724\\2049930526.py:17: FutureWarning: suggest_uniform has been deprecated in v3.0.0. This feature will be removed in v6.0.0. See https://github.com/optuna/optuna/releases/tag/v3.0.0. Use suggest_float instead.\n",
      "  dropout_rate2 = trial.suggest_uniform('dropout_rate2', 0.05, 0.2)\n",
      "c:\\Users\\mrbvb\\AppData\\Local\\Programs\\Python\\Python311\\Lib\\site-packages\\optuna\\trial\\_trial.py:676: RuntimeWarning: Inconsistent parameter values for distribution with name \"dropout_rate2\"! This might be a configuration mistake. Optuna allows to call the same distribution with the same name more than once in a trial. When the parameter values are inconsistent optuna only uses the values of the first call and ignores all following. Using these values: {'step': None, 'low': 0.05, 'high': 0.1, 'log': False}\n",
      "  warnings.warn(\n",
      "C:\\Users\\mrbvb\\AppData\\Local\\Temp\\ipykernel_26724\\2049930526.py:20: FutureWarning: suggest_loguniform has been deprecated in v3.0.0. This feature will be removed in v6.0.0. See https://github.com/optuna/optuna/releases/tag/v3.0.0. Use suggest_float(..., log=True) instead.\n",
      "  learning_rate = trial.suggest_loguniform('learning_rate', 1e-6, 1e-3)\n",
      "c:\\Users\\mrbvb\\AppData\\Local\\Programs\\Python\\Python311\\Lib\\site-packages\\keras\\src\\layers\\core\\embedding.py:86: UserWarning: Argument `input_length` is deprecated. Just remove it.\n",
      "  warnings.warn(\n"
     ]
    },
    {
     "name": "stdout",
     "output_type": "stream",
     "text": [
      "\u001b[1m11/11\u001b[0m \u001b[32m━━━━━━━━━━━━━━━━━━━━\u001b[0m\u001b[37m\u001b[0m \u001b[1m6s\u001b[0m 195ms/step - accuracy: 0.4968 - loss: 0.6930\n",
      "Epoch 2/10\n",
      "\u001b[1m11/11\u001b[0m \u001b[32m━━━━━━━━━━━━━━━━━━━━\u001b[0m\u001b[37m\u001b[0m \u001b[1m2s\u001b[0m 189ms/step - accuracy: 0.5397 - loss: 0.6847\n",
      "Epoch 3/10\n",
      "\u001b[1m11/11\u001b[0m \u001b[32m━━━━━━━━━━━━━━━━━━━━\u001b[0m\u001b[37m\u001b[0m \u001b[1m2s\u001b[0m 190ms/step - accuracy: 0.5808 - loss: 0.6563\n",
      "Epoch 4/10\n",
      "\u001b[1m11/11\u001b[0m \u001b[32m━━━━━━━━━━━━━━━━━━━━\u001b[0m\u001b[37m\u001b[0m \u001b[1m2s\u001b[0m 188ms/step - accuracy: 0.8168 - loss: 0.5494\n",
      "Epoch 5/10\n",
      "\u001b[1m11/11\u001b[0m \u001b[32m━━━━━━━━━━━━━━━━━━━━\u001b[0m\u001b[37m\u001b[0m \u001b[1m2s\u001b[0m 188ms/step - accuracy: 0.8620 - loss: 0.3778\n",
      "Epoch 6/10\n",
      "\u001b[1m11/11\u001b[0m \u001b[32m━━━━━━━━━━━━━━━━━━━━\u001b[0m\u001b[37m\u001b[0m \u001b[1m2s\u001b[0m 188ms/step - accuracy: 0.9837 - loss: 0.1370\n",
      "Epoch 7/10\n",
      "\u001b[1m11/11\u001b[0m \u001b[32m━━━━━━━━━━━━━━━━━━━━\u001b[0m\u001b[37m\u001b[0m \u001b[1m2s\u001b[0m 189ms/step - accuracy: 0.9709 - loss: 0.1011\n",
      "Epoch 8/10\n",
      "\u001b[1m11/11\u001b[0m \u001b[32m━━━━━━━━━━━━━━━━━━━━\u001b[0m\u001b[37m\u001b[0m \u001b[1m2s\u001b[0m 190ms/step - accuracy: 1.0000 - loss: 0.0371\n",
      "Epoch 9/10\n",
      "\u001b[1m11/11\u001b[0m \u001b[32m━━━━━━━━━━━━━━━━━━━━\u001b[0m\u001b[37m\u001b[0m \u001b[1m2s\u001b[0m 191ms/step - accuracy: 1.0000 - loss: 0.0281\n",
      "Epoch 10/10\n",
      "\u001b[1m11/11\u001b[0m \u001b[32m━━━━━━━━━━━━━━━━━━━━\u001b[0m\u001b[37m\u001b[0m \u001b[1m2s\u001b[0m 192ms/step - accuracy: 1.0000 - loss: 0.0196\n",
      "\u001b[1m6/6\u001b[0m \u001b[32m━━━━━━━━━━━━━━━━━━━━\u001b[0m\u001b[37m\u001b[0m \u001b[1m1s\u001b[0m 191ms/step\n",
      "kw {}\n",
      "create mod: d_rate 0.058795593243084476 d_rate2  0.09787324634987318 LSTM  128 dim  150 lr  0.0004042055830540087\n",
      "Epoch 1/10\n"
     ]
    },
    {
     "name": "stderr",
     "output_type": "stream",
     "text": [
      "C:\\Users\\mrbvb\\AppData\\Local\\Temp\\ipykernel_26724\\2049930526.py:16: FutureWarning: suggest_uniform has been deprecated in v3.0.0. This feature will be removed in v6.0.0. See https://github.com/optuna/optuna/releases/tag/v3.0.0. Use suggest_float instead.\n",
      "  dropout_rate = trial.suggest_uniform('dropout_rate', 0.09, 0.3)\n",
      "c:\\Users\\mrbvb\\AppData\\Local\\Programs\\Python\\Python311\\Lib\\site-packages\\optuna\\trial\\_trial.py:676: RuntimeWarning: Inconsistent parameter values for distribution with name \"dropout_rate\"! This might be a configuration mistake. Optuna allows to call the same distribution with the same name more than once in a trial. When the parameter values are inconsistent optuna only uses the values of the first call and ignores all following. Using these values: {'step': None, 'low': 0.05, 'high': 0.3, 'log': False}\n",
      "  warnings.warn(\n",
      "C:\\Users\\mrbvb\\AppData\\Local\\Temp\\ipykernel_26724\\2049930526.py:17: FutureWarning: suggest_uniform has been deprecated in v3.0.0. This feature will be removed in v6.0.0. See https://github.com/optuna/optuna/releases/tag/v3.0.0. Use suggest_float instead.\n",
      "  dropout_rate2 = trial.suggest_uniform('dropout_rate2', 0.05, 0.2)\n",
      "c:\\Users\\mrbvb\\AppData\\Local\\Programs\\Python\\Python311\\Lib\\site-packages\\optuna\\trial\\_trial.py:676: RuntimeWarning: Inconsistent parameter values for distribution with name \"dropout_rate2\"! This might be a configuration mistake. Optuna allows to call the same distribution with the same name more than once in a trial. When the parameter values are inconsistent optuna only uses the values of the first call and ignores all following. Using these values: {'step': None, 'low': 0.05, 'high': 0.1, 'log': False}\n",
      "  warnings.warn(\n",
      "C:\\Users\\mrbvb\\AppData\\Local\\Temp\\ipykernel_26724\\2049930526.py:20: FutureWarning: suggest_loguniform has been deprecated in v3.0.0. This feature will be removed in v6.0.0. See https://github.com/optuna/optuna/releases/tag/v3.0.0. Use suggest_float(..., log=True) instead.\n",
      "  learning_rate = trial.suggest_loguniform('learning_rate', 1e-6, 1e-3)\n",
      "c:\\Users\\mrbvb\\AppData\\Local\\Programs\\Python\\Python311\\Lib\\site-packages\\keras\\src\\layers\\core\\embedding.py:86: UserWarning: Argument `input_length` is deprecated. Just remove it.\n",
      "  warnings.warn(\n"
     ]
    },
    {
     "name": "stdout",
     "output_type": "stream",
     "text": [
      "\u001b[1m11/11\u001b[0m \u001b[32m━━━━━━━━━━━━━━━━━━━━\u001b[0m\u001b[37m\u001b[0m \u001b[1m7s\u001b[0m 212ms/step - accuracy: 0.5149 - loss: 0.6946\n",
      "Epoch 2/10\n",
      "\u001b[1m11/11\u001b[0m \u001b[32m━━━━━━━━━━━━━━━━━━━━\u001b[0m\u001b[37m\u001b[0m \u001b[1m2s\u001b[0m 210ms/step - accuracy: 0.6501 - loss: 0.6875\n",
      "Epoch 3/10\n",
      "\u001b[1m11/11\u001b[0m \u001b[32m━━━━━━━━━━━━━━━━━━━━\u001b[0m\u001b[37m\u001b[0m \u001b[1m2s\u001b[0m 209ms/step - accuracy: 0.6339 - loss: 0.6654\n",
      "Epoch 4/10\n",
      "\u001b[1m11/11\u001b[0m \u001b[32m━━━━━━━━━━━━━━━━━━━━\u001b[0m\u001b[37m\u001b[0m \u001b[1m2s\u001b[0m 210ms/step - accuracy: 0.7955 - loss: 0.5643\n",
      "Epoch 5/10\n",
      "\u001b[1m11/11\u001b[0m \u001b[32m━━━━━━━━━━━━━━━━━━━━\u001b[0m\u001b[37m\u001b[0m \u001b[1m2s\u001b[0m 211ms/step - accuracy: 0.8871 - loss: 0.3184\n",
      "Epoch 6/10\n",
      "\u001b[1m11/11\u001b[0m \u001b[32m━━━━━━━━━━━━━━━━━━━━\u001b[0m\u001b[37m\u001b[0m \u001b[1m2s\u001b[0m 211ms/step - accuracy: 0.9785 - loss: 0.1362\n",
      "Epoch 7/10\n",
      "\u001b[1m11/11\u001b[0m \u001b[32m━━━━━━━━━━━━━━━━━━━━\u001b[0m\u001b[37m\u001b[0m \u001b[1m2s\u001b[0m 208ms/step - accuracy: 0.9777 - loss: 0.0720\n",
      "Epoch 8/10\n",
      "\u001b[1m11/11\u001b[0m \u001b[32m━━━━━━━━━━━━━━━━━━━━\u001b[0m\u001b[37m\u001b[0m \u001b[1m2s\u001b[0m 210ms/step - accuracy: 0.9919 - loss: 0.0379\n",
      "Epoch 9/10\n",
      "\u001b[1m11/11\u001b[0m \u001b[32m━━━━━━━━━━━━━━━━━━━━\u001b[0m\u001b[37m\u001b[0m \u001b[1m2s\u001b[0m 209ms/step - accuracy: 0.9919 - loss: 0.0300\n",
      "Epoch 10/10\n",
      "\u001b[1m11/11\u001b[0m \u001b[32m━━━━━━━━━━━━━━━━━━━━\u001b[0m\u001b[37m\u001b[0m \u001b[1m2s\u001b[0m 209ms/step - accuracy: 1.0000 - loss: 0.0097\n",
      "\u001b[1m6/6\u001b[0m \u001b[32m━━━━━━━━━━━━━━━━━━━━\u001b[0m\u001b[37m\u001b[0m \u001b[1m2s\u001b[0m 210ms/step\n",
      "kw {}\n",
      "create mod: d_rate 0.058795593243084476 d_rate2  0.09787324634987318 LSTM  128 dim  150 lr  0.0004042055830540087\n",
      "Epoch 1/10\n"
     ]
    },
    {
     "name": "stderr",
     "output_type": "stream",
     "text": [
      "C:\\Users\\mrbvb\\AppData\\Local\\Temp\\ipykernel_26724\\2049930526.py:16: FutureWarning: suggest_uniform has been deprecated in v3.0.0. This feature will be removed in v6.0.0. See https://github.com/optuna/optuna/releases/tag/v3.0.0. Use suggest_float instead.\n",
      "  dropout_rate = trial.suggest_uniform('dropout_rate', 0.09, 0.3)\n",
      "c:\\Users\\mrbvb\\AppData\\Local\\Programs\\Python\\Python311\\Lib\\site-packages\\optuna\\trial\\_trial.py:676: RuntimeWarning: Inconsistent parameter values for distribution with name \"dropout_rate\"! This might be a configuration mistake. Optuna allows to call the same distribution with the same name more than once in a trial. When the parameter values are inconsistent optuna only uses the values of the first call and ignores all following. Using these values: {'step': None, 'low': 0.05, 'high': 0.3, 'log': False}\n",
      "  warnings.warn(\n",
      "C:\\Users\\mrbvb\\AppData\\Local\\Temp\\ipykernel_26724\\2049930526.py:17: FutureWarning: suggest_uniform has been deprecated in v3.0.0. This feature will be removed in v6.0.0. See https://github.com/optuna/optuna/releases/tag/v3.0.0. Use suggest_float instead.\n",
      "  dropout_rate2 = trial.suggest_uniform('dropout_rate2', 0.05, 0.2)\n",
      "c:\\Users\\mrbvb\\AppData\\Local\\Programs\\Python\\Python311\\Lib\\site-packages\\optuna\\trial\\_trial.py:676: RuntimeWarning: Inconsistent parameter values for distribution with name \"dropout_rate2\"! This might be a configuration mistake. Optuna allows to call the same distribution with the same name more than once in a trial. When the parameter values are inconsistent optuna only uses the values of the first call and ignores all following. Using these values: {'step': None, 'low': 0.05, 'high': 0.1, 'log': False}\n",
      "  warnings.warn(\n",
      "C:\\Users\\mrbvb\\AppData\\Local\\Temp\\ipykernel_26724\\2049930526.py:20: FutureWarning: suggest_loguniform has been deprecated in v3.0.0. This feature will be removed in v6.0.0. See https://github.com/optuna/optuna/releases/tag/v3.0.0. Use suggest_float(..., log=True) instead.\n",
      "  learning_rate = trial.suggest_loguniform('learning_rate', 1e-6, 1e-3)\n",
      "c:\\Users\\mrbvb\\AppData\\Local\\Programs\\Python\\Python311\\Lib\\site-packages\\keras\\src\\layers\\core\\embedding.py:86: UserWarning: Argument `input_length` is deprecated. Just remove it.\n",
      "  warnings.warn(\n"
     ]
    },
    {
     "name": "stdout",
     "output_type": "stream",
     "text": [
      "\u001b[1m11/11\u001b[0m \u001b[32m━━━━━━━━━━━━━━━━━━━━\u001b[0m\u001b[37m\u001b[0m \u001b[1m6s\u001b[0m 206ms/step - accuracy: 0.4467 - loss: 0.6958\n",
      "Epoch 2/10\n",
      "\u001b[1m11/11\u001b[0m \u001b[32m━━━━━━━━━━━━━━━━━━━━\u001b[0m\u001b[37m\u001b[0m \u001b[1m2s\u001b[0m 206ms/step - accuracy: 0.5660 - loss: 0.6839\n",
      "Epoch 3/10\n",
      "\u001b[1m11/11\u001b[0m \u001b[32m━━━━━━━━━━━━━━━━━━━━\u001b[0m\u001b[37m\u001b[0m \u001b[1m2s\u001b[0m 204ms/step - accuracy: 0.5456 - loss: 0.6774\n",
      "Epoch 4/10\n",
      "\u001b[1m11/11\u001b[0m \u001b[32m━━━━━━━━━━━━━━━━━━━━\u001b[0m\u001b[37m\u001b[0m \u001b[1m2s\u001b[0m 208ms/step - accuracy: 0.8202 - loss: 0.5876\n",
      "Epoch 5/10\n",
      "\u001b[1m11/11\u001b[0m \u001b[32m━━━━━━━━━━━━━━━━━━━━\u001b[0m\u001b[37m\u001b[0m \u001b[1m2s\u001b[0m 206ms/step - accuracy: 0.9334 - loss: 0.3621\n",
      "Epoch 6/10\n",
      "\u001b[1m11/11\u001b[0m \u001b[32m━━━━━━━━━━━━━━━━━━━━\u001b[0m\u001b[37m\u001b[0m \u001b[1m2s\u001b[0m 204ms/step - accuracy: 0.9876 - loss: 0.1482\n",
      "Epoch 7/10\n",
      "\u001b[1m11/11\u001b[0m \u001b[32m━━━━━━━━━━━━━━━━━━━━\u001b[0m\u001b[37m\u001b[0m \u001b[1m2s\u001b[0m 207ms/step - accuracy: 0.9539 - loss: 0.1547\n",
      "Epoch 8/10\n",
      "\u001b[1m11/11\u001b[0m \u001b[32m━━━━━━━━━━━━━━━━━━━━\u001b[0m\u001b[37m\u001b[0m \u001b[1m2s\u001b[0m 206ms/step - accuracy: 0.9935 - loss: 0.0498\n",
      "Epoch 9/10\n",
      "\u001b[1m11/11\u001b[0m \u001b[32m━━━━━━━━━━━━━━━━━━━━\u001b[0m\u001b[37m\u001b[0m \u001b[1m2s\u001b[0m 206ms/step - accuracy: 0.9701 - loss: 0.0784\n",
      "Epoch 10/10\n",
      "\u001b[1m11/11\u001b[0m \u001b[32m━━━━━━━━━━━━━━━━━━━━\u001b[0m\u001b[37m\u001b[0m \u001b[1m2s\u001b[0m 204ms/step - accuracy: 0.9975 - loss: 0.0176\n",
      "\u001b[1m6/6\u001b[0m \u001b[32m━━━━━━━━━━━━━━━━━━━━\u001b[0m\u001b[37m\u001b[0m \u001b[1m2s\u001b[0m 209ms/step\n",
      "result score f1 fuc -0.7633957212497791\n",
      "kw {}\n",
      "create mod: d_rate 0.058795593243084476 d_rate2  0.09787324634987318 LSTM  128 dim  150 lr  0.0004042055830540087\n",
      "Epoch 1/10\n"
     ]
    },
    {
     "name": "stderr",
     "output_type": "stream",
     "text": [
      "C:\\Users\\mrbvb\\AppData\\Local\\Temp\\ipykernel_26724\\2049930526.py:16: FutureWarning: suggest_uniform has been deprecated in v3.0.0. This feature will be removed in v6.0.0. See https://github.com/optuna/optuna/releases/tag/v3.0.0. Use suggest_float instead.\n",
      "  dropout_rate = trial.suggest_uniform('dropout_rate', 0.09, 0.3)\n",
      "c:\\Users\\mrbvb\\AppData\\Local\\Programs\\Python\\Python311\\Lib\\site-packages\\optuna\\trial\\_trial.py:676: RuntimeWarning: Inconsistent parameter values for distribution with name \"dropout_rate\"! This might be a configuration mistake. Optuna allows to call the same distribution with the same name more than once in a trial. When the parameter values are inconsistent optuna only uses the values of the first call and ignores all following. Using these values: {'step': None, 'low': 0.05, 'high': 0.3, 'log': False}\n",
      "  warnings.warn(\n",
      "C:\\Users\\mrbvb\\AppData\\Local\\Temp\\ipykernel_26724\\2049930526.py:17: FutureWarning: suggest_uniform has been deprecated in v3.0.0. This feature will be removed in v6.0.0. See https://github.com/optuna/optuna/releases/tag/v3.0.0. Use suggest_float instead.\n",
      "  dropout_rate2 = trial.suggest_uniform('dropout_rate2', 0.05, 0.2)\n",
      "c:\\Users\\mrbvb\\AppData\\Local\\Programs\\Python\\Python311\\Lib\\site-packages\\optuna\\trial\\_trial.py:676: RuntimeWarning: Inconsistent parameter values for distribution with name \"dropout_rate2\"! This might be a configuration mistake. Optuna allows to call the same distribution with the same name more than once in a trial. When the parameter values are inconsistent optuna only uses the values of the first call and ignores all following. Using these values: {'step': None, 'low': 0.05, 'high': 0.1, 'log': False}\n",
      "  warnings.warn(\n",
      "C:\\Users\\mrbvb\\AppData\\Local\\Temp\\ipykernel_26724\\2049930526.py:20: FutureWarning: suggest_loguniform has been deprecated in v3.0.0. This feature will be removed in v6.0.0. See https://github.com/optuna/optuna/releases/tag/v3.0.0. Use suggest_float(..., log=True) instead.\n",
      "  learning_rate = trial.suggest_loguniform('learning_rate', 1e-6, 1e-3)\n",
      "c:\\Users\\mrbvb\\AppData\\Local\\Programs\\Python\\Python311\\Lib\\site-packages\\keras\\src\\layers\\core\\embedding.py:86: UserWarning: Argument `input_length` is deprecated. Just remove it.\n",
      "  warnings.warn(\n"
     ]
    },
    {
     "name": "stdout",
     "output_type": "stream",
     "text": [
      "\u001b[1m11/11\u001b[0m \u001b[32m━━━━━━━━━━━━━━━━━━━━\u001b[0m\u001b[37m\u001b[0m \u001b[1m6s\u001b[0m 198ms/step - accuracy: 0.4844 - loss: 0.6938\n",
      "Epoch 2/10\n",
      "\u001b[1m11/11\u001b[0m \u001b[32m━━━━━━━━━━━━━━━━━━━━\u001b[0m\u001b[37m\u001b[0m \u001b[1m2s\u001b[0m 201ms/step - accuracy: 0.5385 - loss: 0.6846\n",
      "Epoch 3/10\n",
      "\u001b[1m11/11\u001b[0m \u001b[32m━━━━━━━━━━━━━━━━━━━━\u001b[0m\u001b[37m\u001b[0m \u001b[1m2s\u001b[0m 202ms/step - accuracy: 0.5761 - loss: 0.6625\n",
      "Epoch 4/10\n",
      "\u001b[1m11/11\u001b[0m \u001b[32m━━━━━━━━━━━━━━━━━━━━\u001b[0m\u001b[37m\u001b[0m \u001b[1m2s\u001b[0m 201ms/step - accuracy: 0.7909 - loss: 0.5557\n",
      "Epoch 5/10\n",
      "\u001b[1m11/11\u001b[0m \u001b[32m━━━━━━━━━━━━━━━━━━━━\u001b[0m\u001b[37m\u001b[0m \u001b[1m2s\u001b[0m 201ms/step - accuracy: 0.9282 - loss: 0.2937\n",
      "Epoch 6/10\n",
      "\u001b[1m11/11\u001b[0m \u001b[32m━━━━━━━━━━━━━━━━━━━━\u001b[0m\u001b[37m\u001b[0m \u001b[1m2s\u001b[0m 199ms/step - accuracy: 0.9585 - loss: 0.1404\n",
      "Epoch 7/10\n",
      "\u001b[1m11/11\u001b[0m \u001b[32m━━━━━━━━━━━━━━━━━━━━\u001b[0m\u001b[37m\u001b[0m \u001b[1m2s\u001b[0m 201ms/step - accuracy: 0.9903 - loss: 0.0510\n",
      "Epoch 8/10\n",
      "\u001b[1m11/11\u001b[0m \u001b[32m━━━━━━━━━━━━━━━━━━━━\u001b[0m\u001b[37m\u001b[0m \u001b[1m2s\u001b[0m 201ms/step - accuracy: 0.9919 - loss: 0.0298\n",
      "Epoch 9/10\n",
      "\u001b[1m11/11\u001b[0m \u001b[32m━━━━━━━━━━━━━━━━━━━━\u001b[0m\u001b[37m\u001b[0m \u001b[1m2s\u001b[0m 201ms/step - accuracy: 1.0000 - loss: 0.0074\n",
      "Epoch 10/10\n",
      "\u001b[1m11/11\u001b[0m \u001b[32m━━━━━━━━━━━━━━━━━━━━\u001b[0m\u001b[37m\u001b[0m \u001b[1m2s\u001b[0m 200ms/step - accuracy: 1.0000 - loss: 0.0033\n",
      "\u001b[1m6/6\u001b[0m \u001b[32m━━━━━━━━━━━━━━━━━━━━\u001b[0m\u001b[37m\u001b[0m \u001b[1m2s\u001b[0m 202ms/step\n",
      "kw {}\n",
      "create mod: d_rate 0.058795593243084476 d_rate2  0.09787324634987318 LSTM  128 dim  150 lr  0.0004042055830540087\n",
      "Epoch 1/10\n"
     ]
    },
    {
     "name": "stderr",
     "output_type": "stream",
     "text": [
      "C:\\Users\\mrbvb\\AppData\\Local\\Temp\\ipykernel_26724\\2049930526.py:16: FutureWarning: suggest_uniform has been deprecated in v3.0.0. This feature will be removed in v6.0.0. See https://github.com/optuna/optuna/releases/tag/v3.0.0. Use suggest_float instead.\n",
      "  dropout_rate = trial.suggest_uniform('dropout_rate', 0.09, 0.3)\n",
      "c:\\Users\\mrbvb\\AppData\\Local\\Programs\\Python\\Python311\\Lib\\site-packages\\optuna\\trial\\_trial.py:676: RuntimeWarning: Inconsistent parameter values for distribution with name \"dropout_rate\"! This might be a configuration mistake. Optuna allows to call the same distribution with the same name more than once in a trial. When the parameter values are inconsistent optuna only uses the values of the first call and ignores all following. Using these values: {'step': None, 'low': 0.05, 'high': 0.3, 'log': False}\n",
      "  warnings.warn(\n",
      "C:\\Users\\mrbvb\\AppData\\Local\\Temp\\ipykernel_26724\\2049930526.py:17: FutureWarning: suggest_uniform has been deprecated in v3.0.0. This feature will be removed in v6.0.0. See https://github.com/optuna/optuna/releases/tag/v3.0.0. Use suggest_float instead.\n",
      "  dropout_rate2 = trial.suggest_uniform('dropout_rate2', 0.05, 0.2)\n",
      "c:\\Users\\mrbvb\\AppData\\Local\\Programs\\Python\\Python311\\Lib\\site-packages\\optuna\\trial\\_trial.py:676: RuntimeWarning: Inconsistent parameter values for distribution with name \"dropout_rate2\"! This might be a configuration mistake. Optuna allows to call the same distribution with the same name more than once in a trial. When the parameter values are inconsistent optuna only uses the values of the first call and ignores all following. Using these values: {'step': None, 'low': 0.05, 'high': 0.1, 'log': False}\n",
      "  warnings.warn(\n",
      "C:\\Users\\mrbvb\\AppData\\Local\\Temp\\ipykernel_26724\\2049930526.py:20: FutureWarning: suggest_loguniform has been deprecated in v3.0.0. This feature will be removed in v6.0.0. See https://github.com/optuna/optuna/releases/tag/v3.0.0. Use suggest_float(..., log=True) instead.\n",
      "  learning_rate = trial.suggest_loguniform('learning_rate', 1e-6, 1e-3)\n",
      "c:\\Users\\mrbvb\\AppData\\Local\\Programs\\Python\\Python311\\Lib\\site-packages\\keras\\src\\layers\\core\\embedding.py:86: UserWarning: Argument `input_length` is deprecated. Just remove it.\n",
      "  warnings.warn(\n"
     ]
    },
    {
     "name": "stdout",
     "output_type": "stream",
     "text": [
      "\u001b[1m11/11\u001b[0m \u001b[32m━━━━━━━━━━━━━━━━━━━━\u001b[0m\u001b[37m\u001b[0m \u001b[1m6s\u001b[0m 200ms/step - accuracy: 0.5095 - loss: 0.6932\n",
      "Epoch 2/10\n",
      "\u001b[1m11/11\u001b[0m \u001b[32m━━━━━━━━━━━━━━━━━━━━\u001b[0m\u001b[37m\u001b[0m \u001b[1m2s\u001b[0m 199ms/step - accuracy: 0.6707 - loss: 0.6868\n",
      "Epoch 3/10\n",
      "\u001b[1m11/11\u001b[0m \u001b[32m━━━━━━━━━━━━━━━━━━━━\u001b[0m\u001b[37m\u001b[0m \u001b[1m2s\u001b[0m 200ms/step - accuracy: 0.7947 - loss: 0.6517\n",
      "Epoch 4/10\n",
      "\u001b[1m11/11\u001b[0m \u001b[32m━━━━━━━━━━━━━━━━━━━━\u001b[0m\u001b[37m\u001b[0m \u001b[1m2s\u001b[0m 201ms/step - accuracy: 0.8124 - loss: 0.5250\n",
      "Epoch 5/10\n",
      "\u001b[1m11/11\u001b[0m \u001b[32m━━━━━━━━━━━━━━━━━━━━\u001b[0m\u001b[37m\u001b[0m \u001b[1m2s\u001b[0m 198ms/step - accuracy: 0.9402 - loss: 0.3146\n",
      "Epoch 6/10\n",
      "\u001b[1m11/11\u001b[0m \u001b[32m━━━━━━━━━━━━━━━━━━━━\u001b[0m\u001b[37m\u001b[0m \u001b[1m2s\u001b[0m 203ms/step - accuracy: 0.9429 - loss: 0.2018\n",
      "Epoch 7/10\n",
      "\u001b[1m11/11\u001b[0m \u001b[32m━━━━━━━━━━━━━━━━━━━━\u001b[0m\u001b[37m\u001b[0m \u001b[1m2s\u001b[0m 197ms/step - accuracy: 0.9763 - loss: 0.0743\n",
      "Epoch 8/10\n",
      "\u001b[1m11/11\u001b[0m \u001b[32m━━━━━━━━━━━━━━━━━━━━\u001b[0m\u001b[37m\u001b[0m \u001b[1m2s\u001b[0m 199ms/step - accuracy: 0.9902 - loss: 0.0364\n",
      "Epoch 9/10\n",
      "\u001b[1m11/11\u001b[0m \u001b[32m━━━━━━━━━━━━━━━━━━━━\u001b[0m\u001b[37m\u001b[0m \u001b[1m2s\u001b[0m 201ms/step - accuracy: 0.9873 - loss: 0.0427\n",
      "Epoch 10/10\n",
      "\u001b[1m11/11\u001b[0m \u001b[32m━━━━━━━━━━━━━━━━━━━━\u001b[0m\u001b[37m\u001b[0m \u001b[1m2s\u001b[0m 198ms/step - accuracy: 0.9992 - loss: 0.0194\n",
      "\u001b[1m6/6\u001b[0m \u001b[32m━━━━━━━━━━━━━━━━━━━━\u001b[0m\u001b[37m\u001b[0m \u001b[1m2s\u001b[0m 199ms/step\n",
      "kw {}\n",
      "create mod: d_rate 0.058795593243084476 d_rate2  0.09787324634987318 LSTM  128 dim  150 lr  0.0004042055830540087\n",
      "Epoch 1/10\n"
     ]
    },
    {
     "name": "stderr",
     "output_type": "stream",
     "text": [
      "C:\\Users\\mrbvb\\AppData\\Local\\Temp\\ipykernel_26724\\2049930526.py:16: FutureWarning: suggest_uniform has been deprecated in v3.0.0. This feature will be removed in v6.0.0. See https://github.com/optuna/optuna/releases/tag/v3.0.0. Use suggest_float instead.\n",
      "  dropout_rate = trial.suggest_uniform('dropout_rate', 0.09, 0.3)\n",
      "c:\\Users\\mrbvb\\AppData\\Local\\Programs\\Python\\Python311\\Lib\\site-packages\\optuna\\trial\\_trial.py:676: RuntimeWarning: Inconsistent parameter values for distribution with name \"dropout_rate\"! This might be a configuration mistake. Optuna allows to call the same distribution with the same name more than once in a trial. When the parameter values are inconsistent optuna only uses the values of the first call and ignores all following. Using these values: {'step': None, 'low': 0.05, 'high': 0.3, 'log': False}\n",
      "  warnings.warn(\n",
      "C:\\Users\\mrbvb\\AppData\\Local\\Temp\\ipykernel_26724\\2049930526.py:17: FutureWarning: suggest_uniform has been deprecated in v3.0.0. This feature will be removed in v6.0.0. See https://github.com/optuna/optuna/releases/tag/v3.0.0. Use suggest_float instead.\n",
      "  dropout_rate2 = trial.suggest_uniform('dropout_rate2', 0.05, 0.2)\n",
      "c:\\Users\\mrbvb\\AppData\\Local\\Programs\\Python\\Python311\\Lib\\site-packages\\optuna\\trial\\_trial.py:676: RuntimeWarning: Inconsistent parameter values for distribution with name \"dropout_rate2\"! This might be a configuration mistake. Optuna allows to call the same distribution with the same name more than once in a trial. When the parameter values are inconsistent optuna only uses the values of the first call and ignores all following. Using these values: {'step': None, 'low': 0.05, 'high': 0.1, 'log': False}\n",
      "  warnings.warn(\n",
      "C:\\Users\\mrbvb\\AppData\\Local\\Temp\\ipykernel_26724\\2049930526.py:20: FutureWarning: suggest_loguniform has been deprecated in v3.0.0. This feature will be removed in v6.0.0. See https://github.com/optuna/optuna/releases/tag/v3.0.0. Use suggest_float(..., log=True) instead.\n",
      "  learning_rate = trial.suggest_loguniform('learning_rate', 1e-6, 1e-3)\n",
      "c:\\Users\\mrbvb\\AppData\\Local\\Programs\\Python\\Python311\\Lib\\site-packages\\keras\\src\\layers\\core\\embedding.py:86: UserWarning: Argument `input_length` is deprecated. Just remove it.\n",
      "  warnings.warn(\n"
     ]
    },
    {
     "name": "stdout",
     "output_type": "stream",
     "text": [
      "\u001b[1m11/11\u001b[0m \u001b[32m━━━━━━━━━━━━━━━━━━━━\u001b[0m\u001b[37m\u001b[0m \u001b[1m6s\u001b[0m 196ms/step - accuracy: 0.4727 - loss: 0.6953\n",
      "Epoch 2/10\n",
      "\u001b[1m11/11\u001b[0m \u001b[32m━━━━━━━━━━━━━━━━━━━━\u001b[0m\u001b[37m\u001b[0m \u001b[1m2s\u001b[0m 195ms/step - accuracy: 0.5225 - loss: 0.6871\n",
      "Epoch 3/10\n",
      "\u001b[1m11/11\u001b[0m \u001b[32m━━━━━━━━━━━━━━━━━━━━\u001b[0m\u001b[37m\u001b[0m \u001b[1m2s\u001b[0m 195ms/step - accuracy: 0.5411 - loss: 0.6678\n",
      "Epoch 4/10\n",
      "\u001b[1m11/11\u001b[0m \u001b[32m━━━━━━━━━━━━━━━━━━━━\u001b[0m\u001b[37m\u001b[0m \u001b[1m2s\u001b[0m 196ms/step - accuracy: 0.7522 - loss: 0.5714\n",
      "Epoch 5/10\n",
      "\u001b[1m11/11\u001b[0m \u001b[32m━━━━━━━━━━━━━━━━━━━━\u001b[0m\u001b[37m\u001b[0m \u001b[1m2s\u001b[0m 195ms/step - accuracy: 0.9174 - loss: 0.3283\n",
      "Epoch 6/10\n",
      "\u001b[1m11/11\u001b[0m \u001b[32m━━━━━━━━━━━━━━━━━━━━\u001b[0m\u001b[37m\u001b[0m \u001b[1m2s\u001b[0m 194ms/step - accuracy: 0.9694 - loss: 0.1149\n",
      "Epoch 7/10\n",
      "\u001b[1m11/11\u001b[0m \u001b[32m━━━━━━━━━━━━━━━━━━━━\u001b[0m\u001b[37m\u001b[0m \u001b[1m2s\u001b[0m 195ms/step - accuracy: 0.9594 - loss: 0.0745\n",
      "Epoch 8/10\n",
      "\u001b[1m11/11\u001b[0m \u001b[32m━━━━━━━━━━━━━━━━━━━━\u001b[0m\u001b[37m\u001b[0m \u001b[1m2s\u001b[0m 195ms/step - accuracy: 0.9887 - loss: 0.0445\n",
      "Epoch 9/10\n",
      "\u001b[1m11/11\u001b[0m \u001b[32m━━━━━━━━━━━━━━━━━━━━\u001b[0m\u001b[37m\u001b[0m \u001b[1m2s\u001b[0m 195ms/step - accuracy: 0.9893 - loss: 0.0410\n",
      "Epoch 10/10\n",
      "\u001b[1m11/11\u001b[0m \u001b[32m━━━━━━━━━━━━━━━━━━━━\u001b[0m\u001b[37m\u001b[0m \u001b[1m2s\u001b[0m 200ms/step - accuracy: 0.9794 - loss: 0.0758\n",
      "\u001b[1m6/6\u001b[0m \u001b[32m━━━━━━━━━━━━━━━━━━━━\u001b[0m\u001b[37m\u001b[0m \u001b[1m2s\u001b[0m 329ms/step\n"
     ]
    },
    {
     "name": "stderr",
     "output_type": "stream",
     "text": [
      "[I 2024-04-30 17:52:15,940] Trial 18 finished with value: 0.7628665883382865 and parameters: {'dropout_rate': 0.058795593243084476, 'dropout_rate2': 0.09787324634987318, 'LSTM_units': 128, 'EMBEDDING_DIM': 150, 'learning_rate': 0.0004042055830540087}. Best is trial 18 with value: 0.7628665883382865.\n"
     ]
    },
    {
     "name": "stdout",
     "output_type": "stream",
     "text": [
      "objectiving\n",
      "kw {}\n",
      "kw {}\n",
      "create mod: d_rate 0.058363178633784187 d_rate2  0.09940833197231994 LSTM  128 dim  150 lr  0.00045080467614588696\n",
      "Epoch 1/10\n"
     ]
    },
    {
     "name": "stderr",
     "output_type": "stream",
     "text": [
      "C:\\Users\\mrbvb\\AppData\\Local\\Temp\\ipykernel_26724\\2049930526.py:63: FutureWarning: suggest_uniform has been deprecated in v3.0.0. This feature will be removed in v6.0.0. See https://github.com/optuna/optuna/releases/tag/v3.0.0. Use suggest_float instead.\n",
      "  dropout_rate = trial.suggest_uniform('dropout_rate', 0.05, 0.3) #value should be from small to large only\n",
      "C:\\Users\\mrbvb\\AppData\\Local\\Temp\\ipykernel_26724\\2049930526.py:64: FutureWarning: suggest_uniform has been deprecated in v3.0.0. This feature will be removed in v6.0.0. See https://github.com/optuna/optuna/releases/tag/v3.0.0. Use suggest_float instead.\n",
      "  dropout_rate2 = trial.suggest_uniform('dropout_rate2', 0.05, 0.1)\n",
      "C:\\Users\\mrbvb\\AppData\\Local\\Temp\\ipykernel_26724\\2049930526.py:67: FutureWarning: suggest_loguniform has been deprecated in v3.0.0. This feature will be removed in v6.0.0. See https://github.com/optuna/optuna/releases/tag/v3.0.0. Use suggest_float(..., log=True) instead.\n",
      "  learning_rate = trial.suggest_loguniform('learning_rate', 1e-6, 1e-3)\n",
      "C:\\Users\\mrbvb\\AppData\\Local\\Temp\\ipykernel_26724\\2049930526.py:16: FutureWarning: suggest_uniform has been deprecated in v3.0.0. This feature will be removed in v6.0.0. See https://github.com/optuna/optuna/releases/tag/v3.0.0. Use suggest_float instead.\n",
      "  dropout_rate = trial.suggest_uniform('dropout_rate', 0.09, 0.3)\n",
      "c:\\Users\\mrbvb\\AppData\\Local\\Programs\\Python\\Python311\\Lib\\site-packages\\optuna\\trial\\_trial.py:676: RuntimeWarning: Inconsistent parameter values for distribution with name \"dropout_rate\"! This might be a configuration mistake. Optuna allows to call the same distribution with the same name more than once in a trial. When the parameter values are inconsistent optuna only uses the values of the first call and ignores all following. Using these values: {'step': None, 'low': 0.05, 'high': 0.3, 'log': False}\n",
      "  warnings.warn(\n",
      "C:\\Users\\mrbvb\\AppData\\Local\\Temp\\ipykernel_26724\\2049930526.py:17: FutureWarning: suggest_uniform has been deprecated in v3.0.0. This feature will be removed in v6.0.0. See https://github.com/optuna/optuna/releases/tag/v3.0.0. Use suggest_float instead.\n",
      "  dropout_rate2 = trial.suggest_uniform('dropout_rate2', 0.05, 0.2)\n",
      "c:\\Users\\mrbvb\\AppData\\Local\\Programs\\Python\\Python311\\Lib\\site-packages\\optuna\\trial\\_trial.py:676: RuntimeWarning: Inconsistent parameter values for distribution with name \"dropout_rate2\"! This might be a configuration mistake. Optuna allows to call the same distribution with the same name more than once in a trial. When the parameter values are inconsistent optuna only uses the values of the first call and ignores all following. Using these values: {'step': None, 'low': 0.05, 'high': 0.1, 'log': False}\n",
      "  warnings.warn(\n",
      "C:\\Users\\mrbvb\\AppData\\Local\\Temp\\ipykernel_26724\\2049930526.py:20: FutureWarning: suggest_loguniform has been deprecated in v3.0.0. This feature will be removed in v6.0.0. See https://github.com/optuna/optuna/releases/tag/v3.0.0. Use suggest_float(..., log=True) instead.\n",
      "  learning_rate = trial.suggest_loguniform('learning_rate', 1e-6, 1e-3)\n",
      "c:\\Users\\mrbvb\\AppData\\Local\\Programs\\Python\\Python311\\Lib\\site-packages\\keras\\src\\layers\\core\\embedding.py:86: UserWarning: Argument `input_length` is deprecated. Just remove it.\n",
      "  warnings.warn(\n"
     ]
    },
    {
     "name": "stdout",
     "output_type": "stream",
     "text": [
      "\u001b[1m11/11\u001b[0m \u001b[32m━━━━━━━━━━━━━━━━━━━━\u001b[0m\u001b[37m\u001b[0m \u001b[1m7s\u001b[0m 210ms/step - accuracy: 0.5287 - loss: 0.6933\n",
      "Epoch 2/10\n",
      "\u001b[1m11/11\u001b[0m \u001b[32m━━━━━━━━━━━━━━━━━━━━\u001b[0m\u001b[37m\u001b[0m \u001b[1m2s\u001b[0m 201ms/step - accuracy: 0.5177 - loss: 0.6832\n",
      "Epoch 3/10\n",
      "\u001b[1m11/11\u001b[0m \u001b[32m━━━━━━━━━━━━━━━━━━━━\u001b[0m\u001b[37m\u001b[0m \u001b[1m2s\u001b[0m 202ms/step - accuracy: 0.6575 - loss: 0.6378\n",
      "Epoch 4/10\n",
      "\u001b[1m11/11\u001b[0m \u001b[32m━━━━━━━━━━━━━━━━━━━━\u001b[0m\u001b[37m\u001b[0m \u001b[1m2s\u001b[0m 201ms/step - accuracy: 0.8582 - loss: 0.5409\n",
      "Epoch 5/10\n",
      "\u001b[1m11/11\u001b[0m \u001b[32m━━━━━━━━━━━━━━━━━━━━\u001b[0m\u001b[37m\u001b[0m \u001b[1m2s\u001b[0m 202ms/step - accuracy: 0.8905 - loss: 0.3376\n",
      "Epoch 6/10\n",
      "\u001b[1m11/11\u001b[0m \u001b[32m━━━━━━━━━━━━━━━━━━━━\u001b[0m\u001b[37m\u001b[0m \u001b[1m2s\u001b[0m 201ms/step - accuracy: 0.9794 - loss: 0.1321\n",
      "Epoch 7/10\n",
      "\u001b[1m11/11\u001b[0m \u001b[32m━━━━━━━━━━━━━━━━━━━━\u001b[0m\u001b[37m\u001b[0m \u001b[1m2s\u001b[0m 204ms/step - accuracy: 0.9948 - loss: 0.0446\n",
      "Epoch 8/10\n",
      "\u001b[1m11/11\u001b[0m \u001b[32m━━━━━━━━━━━━━━━━━━━━\u001b[0m\u001b[37m\u001b[0m \u001b[1m2s\u001b[0m 202ms/step - accuracy: 0.9782 - loss: 0.0653\n",
      "Epoch 9/10\n",
      "\u001b[1m11/11\u001b[0m \u001b[32m━━━━━━━━━━━━━━━━━━━━\u001b[0m\u001b[37m\u001b[0m \u001b[1m2s\u001b[0m 202ms/step - accuracy: 0.9918 - loss: 0.0477\n",
      "Epoch 10/10\n",
      "\u001b[1m11/11\u001b[0m \u001b[32m━━━━━━━━━━━━━━━━━━━━\u001b[0m\u001b[37m\u001b[0m \u001b[1m2s\u001b[0m 203ms/step - accuracy: 1.0000 - loss: 0.0106\n",
      "\u001b[1m6/6\u001b[0m \u001b[32m━━━━━━━━━━━━━━━━━━━━\u001b[0m\u001b[37m\u001b[0m \u001b[1m2s\u001b[0m 202ms/step\n",
      "kw {}\n",
      "create mod: d_rate 0.058363178633784187 d_rate2  0.09940833197231994 LSTM  128 dim  150 lr  0.00045080467614588696\n",
      "Epoch 1/10\n"
     ]
    },
    {
     "name": "stderr",
     "output_type": "stream",
     "text": [
      "C:\\Users\\mrbvb\\AppData\\Local\\Temp\\ipykernel_26724\\2049930526.py:16: FutureWarning: suggest_uniform has been deprecated in v3.0.0. This feature will be removed in v6.0.0. See https://github.com/optuna/optuna/releases/tag/v3.0.0. Use suggest_float instead.\n",
      "  dropout_rate = trial.suggest_uniform('dropout_rate', 0.09, 0.3)\n",
      "c:\\Users\\mrbvb\\AppData\\Local\\Programs\\Python\\Python311\\Lib\\site-packages\\optuna\\trial\\_trial.py:676: RuntimeWarning: Inconsistent parameter values for distribution with name \"dropout_rate\"! This might be a configuration mistake. Optuna allows to call the same distribution with the same name more than once in a trial. When the parameter values are inconsistent optuna only uses the values of the first call and ignores all following. Using these values: {'step': None, 'low': 0.05, 'high': 0.3, 'log': False}\n",
      "  warnings.warn(\n",
      "C:\\Users\\mrbvb\\AppData\\Local\\Temp\\ipykernel_26724\\2049930526.py:17: FutureWarning: suggest_uniform has been deprecated in v3.0.0. This feature will be removed in v6.0.0. See https://github.com/optuna/optuna/releases/tag/v3.0.0. Use suggest_float instead.\n",
      "  dropout_rate2 = trial.suggest_uniform('dropout_rate2', 0.05, 0.2)\n",
      "c:\\Users\\mrbvb\\AppData\\Local\\Programs\\Python\\Python311\\Lib\\site-packages\\optuna\\trial\\_trial.py:676: RuntimeWarning: Inconsistent parameter values for distribution with name \"dropout_rate2\"! This might be a configuration mistake. Optuna allows to call the same distribution with the same name more than once in a trial. When the parameter values are inconsistent optuna only uses the values of the first call and ignores all following. Using these values: {'step': None, 'low': 0.05, 'high': 0.1, 'log': False}\n",
      "  warnings.warn(\n",
      "C:\\Users\\mrbvb\\AppData\\Local\\Temp\\ipykernel_26724\\2049930526.py:20: FutureWarning: suggest_loguniform has been deprecated in v3.0.0. This feature will be removed in v6.0.0. See https://github.com/optuna/optuna/releases/tag/v3.0.0. Use suggest_float(..., log=True) instead.\n",
      "  learning_rate = trial.suggest_loguniform('learning_rate', 1e-6, 1e-3)\n",
      "c:\\Users\\mrbvb\\AppData\\Local\\Programs\\Python\\Python311\\Lib\\site-packages\\keras\\src\\layers\\core\\embedding.py:86: UserWarning: Argument `input_length` is deprecated. Just remove it.\n",
      "  warnings.warn(\n"
     ]
    },
    {
     "name": "stdout",
     "output_type": "stream",
     "text": [
      "\u001b[1m11/11\u001b[0m \u001b[32m━━━━━━━━━━━━━━━━━━━━\u001b[0m\u001b[37m\u001b[0m \u001b[1m6s\u001b[0m 198ms/step - accuracy: 0.5303 - loss: 0.6931\n",
      "Epoch 2/10\n",
      "\u001b[1m11/11\u001b[0m \u001b[32m━━━━━━━━━━━━━━━━━━━━\u001b[0m\u001b[37m\u001b[0m \u001b[1m2s\u001b[0m 200ms/step - accuracy: 0.5933 - loss: 0.6864\n",
      "Epoch 3/10\n",
      "\u001b[1m11/11\u001b[0m \u001b[32m━━━━━━━━━━━━━━━━━━━━\u001b[0m\u001b[37m\u001b[0m \u001b[1m2s\u001b[0m 199ms/step - accuracy: 0.6059 - loss: 0.6691\n",
      "Epoch 4/10\n",
      "\u001b[1m11/11\u001b[0m \u001b[32m━━━━━━━━━━━━━━━━━━━━\u001b[0m\u001b[37m\u001b[0m \u001b[1m2s\u001b[0m 200ms/step - accuracy: 0.8233 - loss: 0.5452\n",
      "Epoch 5/10\n",
      "\u001b[1m11/11\u001b[0m \u001b[32m━━━━━━━━━━━━━━━━━━━━\u001b[0m\u001b[37m\u001b[0m \u001b[1m2s\u001b[0m 199ms/step - accuracy: 0.9189 - loss: 0.2899\n",
      "Epoch 6/10\n",
      "\u001b[1m11/11\u001b[0m \u001b[32m━━━━━━━━━━━━━━━━━━━━\u001b[0m\u001b[37m\u001b[0m \u001b[1m2s\u001b[0m 200ms/step - accuracy: 0.9615 - loss: 0.1427\n",
      "Epoch 7/10\n",
      "\u001b[1m11/11\u001b[0m \u001b[32m━━━━━━━━━━━━━━━━━━━━\u001b[0m\u001b[37m\u001b[0m \u001b[1m2s\u001b[0m 200ms/step - accuracy: 0.9806 - loss: 0.0710\n",
      "Epoch 8/10\n",
      "\u001b[1m11/11\u001b[0m \u001b[32m━━━━━━━━━━━━━━━━━━━━\u001b[0m\u001b[37m\u001b[0m \u001b[1m2s\u001b[0m 198ms/step - accuracy: 0.9854 - loss: 0.0490\n",
      "Epoch 9/10\n",
      "\u001b[1m11/11\u001b[0m \u001b[32m━━━━━━━━━━━━━━━━━━━━\u001b[0m\u001b[37m\u001b[0m \u001b[1m2s\u001b[0m 199ms/step - accuracy: 1.0000 - loss: 0.0099\n",
      "Epoch 10/10\n",
      "\u001b[1m11/11\u001b[0m \u001b[32m━━━━━━━━━━━━━━━━━━━━\u001b[0m\u001b[37m\u001b[0m \u001b[1m2s\u001b[0m 196ms/step - accuracy: 0.9858 - loss: 0.0406\n",
      "\u001b[1m6/6\u001b[0m \u001b[32m━━━━━━━━━━━━━━━━━━━━\u001b[0m\u001b[37m\u001b[0m \u001b[1m2s\u001b[0m 203ms/step\n",
      "kw {}\n",
      "create mod: d_rate 0.058363178633784187 d_rate2  0.09940833197231994 LSTM  128 dim  150 lr  0.00045080467614588696\n",
      "Epoch 1/10\n"
     ]
    },
    {
     "name": "stderr",
     "output_type": "stream",
     "text": [
      "C:\\Users\\mrbvb\\AppData\\Local\\Temp\\ipykernel_26724\\2049930526.py:16: FutureWarning: suggest_uniform has been deprecated in v3.0.0. This feature will be removed in v6.0.0. See https://github.com/optuna/optuna/releases/tag/v3.0.0. Use suggest_float instead.\n",
      "  dropout_rate = trial.suggest_uniform('dropout_rate', 0.09, 0.3)\n",
      "c:\\Users\\mrbvb\\AppData\\Local\\Programs\\Python\\Python311\\Lib\\site-packages\\optuna\\trial\\_trial.py:676: RuntimeWarning: Inconsistent parameter values for distribution with name \"dropout_rate\"! This might be a configuration mistake. Optuna allows to call the same distribution with the same name more than once in a trial. When the parameter values are inconsistent optuna only uses the values of the first call and ignores all following. Using these values: {'step': None, 'low': 0.05, 'high': 0.3, 'log': False}\n",
      "  warnings.warn(\n",
      "C:\\Users\\mrbvb\\AppData\\Local\\Temp\\ipykernel_26724\\2049930526.py:17: FutureWarning: suggest_uniform has been deprecated in v3.0.0. This feature will be removed in v6.0.0. See https://github.com/optuna/optuna/releases/tag/v3.0.0. Use suggest_float instead.\n",
      "  dropout_rate2 = trial.suggest_uniform('dropout_rate2', 0.05, 0.2)\n",
      "c:\\Users\\mrbvb\\AppData\\Local\\Programs\\Python\\Python311\\Lib\\site-packages\\optuna\\trial\\_trial.py:676: RuntimeWarning: Inconsistent parameter values for distribution with name \"dropout_rate2\"! This might be a configuration mistake. Optuna allows to call the same distribution with the same name more than once in a trial. When the parameter values are inconsistent optuna only uses the values of the first call and ignores all following. Using these values: {'step': None, 'low': 0.05, 'high': 0.1, 'log': False}\n",
      "  warnings.warn(\n",
      "C:\\Users\\mrbvb\\AppData\\Local\\Temp\\ipykernel_26724\\2049930526.py:20: FutureWarning: suggest_loguniform has been deprecated in v3.0.0. This feature will be removed in v6.0.0. See https://github.com/optuna/optuna/releases/tag/v3.0.0. Use suggest_float(..., log=True) instead.\n",
      "  learning_rate = trial.suggest_loguniform('learning_rate', 1e-6, 1e-3)\n",
      "c:\\Users\\mrbvb\\AppData\\Local\\Programs\\Python\\Python311\\Lib\\site-packages\\keras\\src\\layers\\core\\embedding.py:86: UserWarning: Argument `input_length` is deprecated. Just remove it.\n",
      "  warnings.warn(\n"
     ]
    },
    {
     "name": "stdout",
     "output_type": "stream",
     "text": [
      "\u001b[1m11/11\u001b[0m \u001b[32m━━━━━━━━━━━━━━━━━━━━\u001b[0m\u001b[37m\u001b[0m \u001b[1m6s\u001b[0m 195ms/step - accuracy: 0.5073 - loss: 0.6928\n",
      "Epoch 2/10\n",
      "\u001b[1m11/11\u001b[0m \u001b[32m━━━━━━━━━━━━━━━━━━━━\u001b[0m\u001b[37m\u001b[0m \u001b[1m2s\u001b[0m 195ms/step - accuracy: 0.4829 - loss: 0.6858\n",
      "Epoch 3/10\n",
      "\u001b[1m11/11\u001b[0m \u001b[32m━━━━━━━━━━━━━━━━━━━━\u001b[0m\u001b[37m\u001b[0m \u001b[1m2s\u001b[0m 196ms/step - accuracy: 0.5937 - loss: 0.6426\n",
      "Epoch 4/10\n",
      "\u001b[1m11/11\u001b[0m \u001b[32m━━━━━━━━━━━━━━━━━━━━\u001b[0m\u001b[37m\u001b[0m \u001b[1m2s\u001b[0m 196ms/step - accuracy: 0.8082 - loss: 0.4877\n",
      "Epoch 5/10\n",
      "\u001b[1m11/11\u001b[0m \u001b[32m━━━━━━━━━━━━━━━━━━━━\u001b[0m\u001b[37m\u001b[0m \u001b[1m2s\u001b[0m 194ms/step - accuracy: 0.9552 - loss: 0.2520\n",
      "Epoch 6/10\n",
      "\u001b[1m11/11\u001b[0m \u001b[32m━━━━━━━━━━━━━━━━━━━━\u001b[0m\u001b[37m\u001b[0m \u001b[1m2s\u001b[0m 196ms/step - accuracy: 0.9875 - loss: 0.0802\n",
      "Epoch 7/10\n",
      "\u001b[1m11/11\u001b[0m \u001b[32m━━━━━━━━━━━━━━━━━━━━\u001b[0m\u001b[37m\u001b[0m \u001b[1m2s\u001b[0m 196ms/step - accuracy: 0.9888 - loss: 0.0391\n",
      "Epoch 8/10\n",
      "\u001b[1m11/11\u001b[0m \u001b[32m━━━━━━━━━━━━━━━━━━━━\u001b[0m\u001b[37m\u001b[0m \u001b[1m2s\u001b[0m 194ms/step - accuracy: 0.9821 - loss: 0.0519\n",
      "Epoch 9/10\n",
      "\u001b[1m11/11\u001b[0m \u001b[32m━━━━━━━━━━━━━━━━━━━━\u001b[0m\u001b[37m\u001b[0m \u001b[1m2s\u001b[0m 197ms/step - accuracy: 0.9986 - loss: 0.0177\n",
      "Epoch 10/10\n",
      "\u001b[1m11/11\u001b[0m \u001b[32m━━━━━━━━━━━━━━━━━━━━\u001b[0m\u001b[37m\u001b[0m \u001b[1m2s\u001b[0m 196ms/step - accuracy: 0.9675 - loss: 0.0898\n",
      "\u001b[1m6/6\u001b[0m \u001b[32m━━━━━━━━━━━━━━━━━━━━\u001b[0m\u001b[37m\u001b[0m \u001b[1m2s\u001b[0m 199ms/step\n",
      "result score f1 fuc -0.7580588818247233\n",
      "kw {}\n",
      "create mod: d_rate 0.058363178633784187 d_rate2  0.09940833197231994 LSTM  128 dim  150 lr  0.00045080467614588696\n",
      "Epoch 1/10\n"
     ]
    },
    {
     "name": "stderr",
     "output_type": "stream",
     "text": [
      "C:\\Users\\mrbvb\\AppData\\Local\\Temp\\ipykernel_26724\\2049930526.py:16: FutureWarning: suggest_uniform has been deprecated in v3.0.0. This feature will be removed in v6.0.0. See https://github.com/optuna/optuna/releases/tag/v3.0.0. Use suggest_float instead.\n",
      "  dropout_rate = trial.suggest_uniform('dropout_rate', 0.09, 0.3)\n",
      "c:\\Users\\mrbvb\\AppData\\Local\\Programs\\Python\\Python311\\Lib\\site-packages\\optuna\\trial\\_trial.py:676: RuntimeWarning: Inconsistent parameter values for distribution with name \"dropout_rate\"! This might be a configuration mistake. Optuna allows to call the same distribution with the same name more than once in a trial. When the parameter values are inconsistent optuna only uses the values of the first call and ignores all following. Using these values: {'step': None, 'low': 0.05, 'high': 0.3, 'log': False}\n",
      "  warnings.warn(\n",
      "C:\\Users\\mrbvb\\AppData\\Local\\Temp\\ipykernel_26724\\2049930526.py:17: FutureWarning: suggest_uniform has been deprecated in v3.0.0. This feature will be removed in v6.0.0. See https://github.com/optuna/optuna/releases/tag/v3.0.0. Use suggest_float instead.\n",
      "  dropout_rate2 = trial.suggest_uniform('dropout_rate2', 0.05, 0.2)\n",
      "c:\\Users\\mrbvb\\AppData\\Local\\Programs\\Python\\Python311\\Lib\\site-packages\\optuna\\trial\\_trial.py:676: RuntimeWarning: Inconsistent parameter values for distribution with name \"dropout_rate2\"! This might be a configuration mistake. Optuna allows to call the same distribution with the same name more than once in a trial. When the parameter values are inconsistent optuna only uses the values of the first call and ignores all following. Using these values: {'step': None, 'low': 0.05, 'high': 0.1, 'log': False}\n",
      "  warnings.warn(\n",
      "C:\\Users\\mrbvb\\AppData\\Local\\Temp\\ipykernel_26724\\2049930526.py:20: FutureWarning: suggest_loguniform has been deprecated in v3.0.0. This feature will be removed in v6.0.0. See https://github.com/optuna/optuna/releases/tag/v3.0.0. Use suggest_float(..., log=True) instead.\n",
      "  learning_rate = trial.suggest_loguniform('learning_rate', 1e-6, 1e-3)\n",
      "c:\\Users\\mrbvb\\AppData\\Local\\Programs\\Python\\Python311\\Lib\\site-packages\\keras\\src\\layers\\core\\embedding.py:86: UserWarning: Argument `input_length` is deprecated. Just remove it.\n",
      "  warnings.warn(\n"
     ]
    },
    {
     "name": "stdout",
     "output_type": "stream",
     "text": [
      "\u001b[1m11/11\u001b[0m \u001b[32m━━━━━━━━━━━━━━━━━━━━\u001b[0m\u001b[37m\u001b[0m \u001b[1m6s\u001b[0m 192ms/step - accuracy: 0.4773 - loss: 0.6927\n",
      "Epoch 2/10\n",
      "\u001b[1m11/11\u001b[0m \u001b[32m━━━━━━━━━━━━━━━━━━━━\u001b[0m\u001b[37m\u001b[0m \u001b[1m2s\u001b[0m 190ms/step - accuracy: 0.5413 - loss: 0.6847\n",
      "Epoch 3/10\n",
      "\u001b[1m11/11\u001b[0m \u001b[32m━━━━━━━━━━━━━━━━━━━━\u001b[0m\u001b[37m\u001b[0m \u001b[1m2s\u001b[0m 192ms/step - accuracy: 0.6454 - loss: 0.6541\n",
      "Epoch 4/10\n",
      "\u001b[1m11/11\u001b[0m \u001b[32m━━━━━━━━━━━━━━━━━━━━\u001b[0m\u001b[37m\u001b[0m \u001b[1m2s\u001b[0m 192ms/step - accuracy: 0.8009 - loss: 0.5182\n",
      "Epoch 5/10\n",
      "\u001b[1m11/11\u001b[0m \u001b[32m━━━━━━━━━━━━━━━━━━━━\u001b[0m\u001b[37m\u001b[0m \u001b[1m2s\u001b[0m 191ms/step - accuracy: 0.8762 - loss: 0.3185\n",
      "Epoch 6/10\n",
      "\u001b[1m11/11\u001b[0m \u001b[32m━━━━━━━━━━━━━━━━━━━━\u001b[0m\u001b[37m\u001b[0m \u001b[1m2s\u001b[0m 191ms/step - accuracy: 0.9761 - loss: 0.1442\n",
      "Epoch 7/10\n",
      "\u001b[1m11/11\u001b[0m \u001b[32m━━━━━━━━━━━━━━━━━━━━\u001b[0m\u001b[37m\u001b[0m \u001b[1m2s\u001b[0m 190ms/step - accuracy: 0.9901 - loss: 0.0519\n",
      "Epoch 8/10\n",
      "\u001b[1m11/11\u001b[0m \u001b[32m━━━━━━━━━━━━━━━━━━━━\u001b[0m\u001b[37m\u001b[0m \u001b[1m2s\u001b[0m 191ms/step - accuracy: 0.9806 - loss: 0.0557\n",
      "Epoch 9/10\n",
      "\u001b[1m11/11\u001b[0m \u001b[32m━━━━━━━━━━━━━━━━━━━━\u001b[0m\u001b[37m\u001b[0m \u001b[1m2s\u001b[0m 193ms/step - accuracy: 0.9876 - loss: 0.0319\n",
      "Epoch 10/10\n",
      "\u001b[1m11/11\u001b[0m \u001b[32m━━━━━━━━━━━━━━━━━━━━\u001b[0m\u001b[37m\u001b[0m \u001b[1m2s\u001b[0m 194ms/step - accuracy: 1.0000 - loss: 0.0149\n",
      "\u001b[1m6/6\u001b[0m \u001b[32m━━━━━━━━━━━━━━━━━━━━\u001b[0m\u001b[37m\u001b[0m \u001b[1m1s\u001b[0m 197ms/step\n",
      "kw {}\n",
      "create mod: d_rate 0.058363178633784187 d_rate2  0.09940833197231994 LSTM  128 dim  150 lr  0.00045080467614588696\n",
      "Epoch 1/10\n"
     ]
    },
    {
     "name": "stderr",
     "output_type": "stream",
     "text": [
      "C:\\Users\\mrbvb\\AppData\\Local\\Temp\\ipykernel_26724\\2049930526.py:16: FutureWarning: suggest_uniform has been deprecated in v3.0.0. This feature will be removed in v6.0.0. See https://github.com/optuna/optuna/releases/tag/v3.0.0. Use suggest_float instead.\n",
      "  dropout_rate = trial.suggest_uniform('dropout_rate', 0.09, 0.3)\n",
      "c:\\Users\\mrbvb\\AppData\\Local\\Programs\\Python\\Python311\\Lib\\site-packages\\optuna\\trial\\_trial.py:676: RuntimeWarning: Inconsistent parameter values for distribution with name \"dropout_rate\"! This might be a configuration mistake. Optuna allows to call the same distribution with the same name more than once in a trial. When the parameter values are inconsistent optuna only uses the values of the first call and ignores all following. Using these values: {'step': None, 'low': 0.05, 'high': 0.3, 'log': False}\n",
      "  warnings.warn(\n",
      "C:\\Users\\mrbvb\\AppData\\Local\\Temp\\ipykernel_26724\\2049930526.py:17: FutureWarning: suggest_uniform has been deprecated in v3.0.0. This feature will be removed in v6.0.0. See https://github.com/optuna/optuna/releases/tag/v3.0.0. Use suggest_float instead.\n",
      "  dropout_rate2 = trial.suggest_uniform('dropout_rate2', 0.05, 0.2)\n",
      "c:\\Users\\mrbvb\\AppData\\Local\\Programs\\Python\\Python311\\Lib\\site-packages\\optuna\\trial\\_trial.py:676: RuntimeWarning: Inconsistent parameter values for distribution with name \"dropout_rate2\"! This might be a configuration mistake. Optuna allows to call the same distribution with the same name more than once in a trial. When the parameter values are inconsistent optuna only uses the values of the first call and ignores all following. Using these values: {'step': None, 'low': 0.05, 'high': 0.1, 'log': False}\n",
      "  warnings.warn(\n",
      "C:\\Users\\mrbvb\\AppData\\Local\\Temp\\ipykernel_26724\\2049930526.py:20: FutureWarning: suggest_loguniform has been deprecated in v3.0.0. This feature will be removed in v6.0.0. See https://github.com/optuna/optuna/releases/tag/v3.0.0. Use suggest_float(..., log=True) instead.\n",
      "  learning_rate = trial.suggest_loguniform('learning_rate', 1e-6, 1e-3)\n",
      "c:\\Users\\mrbvb\\AppData\\Local\\Programs\\Python\\Python311\\Lib\\site-packages\\keras\\src\\layers\\core\\embedding.py:86: UserWarning: Argument `input_length` is deprecated. Just remove it.\n",
      "  warnings.warn(\n"
     ]
    },
    {
     "name": "stdout",
     "output_type": "stream",
     "text": [
      "\u001b[1m11/11\u001b[0m \u001b[32m━━━━━━━━━━━━━━━━━━━━\u001b[0m\u001b[37m\u001b[0m \u001b[1m6s\u001b[0m 198ms/step - accuracy: 0.4268 - loss: 0.6949\n",
      "Epoch 2/10\n",
      "\u001b[1m11/11\u001b[0m \u001b[32m━━━━━━━━━━━━━━━━━━━━\u001b[0m\u001b[37m\u001b[0m \u001b[1m2s\u001b[0m 213ms/step - accuracy: 0.5539 - loss: 0.6871\n",
      "Epoch 3/10\n",
      "\u001b[1m11/11\u001b[0m \u001b[32m━━━━━━━━━━━━━━━━━━━━\u001b[0m\u001b[37m\u001b[0m \u001b[1m2s\u001b[0m 203ms/step - accuracy: 0.7717 - loss: 0.6613\n",
      "Epoch 4/10\n",
      "\u001b[1m11/11\u001b[0m \u001b[32m━━━━━━━━━━━━━━━━━━━━\u001b[0m\u001b[37m\u001b[0m \u001b[1m2s\u001b[0m 204ms/step - accuracy: 0.9140 - loss: 0.5023\n",
      "Epoch 5/10\n",
      "\u001b[1m11/11\u001b[0m \u001b[32m━━━━━━━━━━━━━━━━━━━━\u001b[0m\u001b[37m\u001b[0m \u001b[1m2s\u001b[0m 202ms/step - accuracy: 0.9063 - loss: 0.2187\n",
      "Epoch 6/10\n",
      "\u001b[1m11/11\u001b[0m \u001b[32m━━━━━━━━━━━━━━━━━━━━\u001b[0m\u001b[37m\u001b[0m \u001b[1m2s\u001b[0m 203ms/step - accuracy: 0.9925 - loss: 0.0474\n",
      "Epoch 7/10\n",
      "\u001b[1m11/11\u001b[0m \u001b[32m━━━━━━━━━━━━━━━━━━━━\u001b[0m\u001b[37m\u001b[0m \u001b[1m2s\u001b[0m 200ms/step - accuracy: 0.9800 - loss: 0.0897\n",
      "Epoch 8/10\n",
      "\u001b[1m11/11\u001b[0m \u001b[32m━━━━━━━━━━━━━━━━━━━━\u001b[0m\u001b[37m\u001b[0m \u001b[1m2s\u001b[0m 198ms/step - accuracy: 0.9909 - loss: 0.0477\n",
      "Epoch 9/10\n",
      "\u001b[1m11/11\u001b[0m \u001b[32m━━━━━━━━━━━━━━━━━━━━\u001b[0m\u001b[37m\u001b[0m \u001b[1m2s\u001b[0m 201ms/step - accuracy: 1.0000 - loss: 0.0122\n",
      "Epoch 10/10\n",
      "\u001b[1m11/11\u001b[0m \u001b[32m━━━━━━━━━━━━━━━━━━━━\u001b[0m\u001b[37m\u001b[0m \u001b[1m2s\u001b[0m 198ms/step - accuracy: 0.9951 - loss: 0.0214\n",
      "\u001b[1m6/6\u001b[0m \u001b[32m━━━━━━━━━━━━━━━━━━━━\u001b[0m\u001b[37m\u001b[0m \u001b[1m2s\u001b[0m 210ms/step\n",
      "kw {}\n",
      "create mod: d_rate 0.058363178633784187 d_rate2  0.09940833197231994 LSTM  128 dim  150 lr  0.00045080467614588696\n",
      "Epoch 1/10\n"
     ]
    },
    {
     "name": "stderr",
     "output_type": "stream",
     "text": [
      "C:\\Users\\mrbvb\\AppData\\Local\\Temp\\ipykernel_26724\\2049930526.py:16: FutureWarning: suggest_uniform has been deprecated in v3.0.0. This feature will be removed in v6.0.0. See https://github.com/optuna/optuna/releases/tag/v3.0.0. Use suggest_float instead.\n",
      "  dropout_rate = trial.suggest_uniform('dropout_rate', 0.09, 0.3)\n",
      "c:\\Users\\mrbvb\\AppData\\Local\\Programs\\Python\\Python311\\Lib\\site-packages\\optuna\\trial\\_trial.py:676: RuntimeWarning: Inconsistent parameter values for distribution with name \"dropout_rate\"! This might be a configuration mistake. Optuna allows to call the same distribution with the same name more than once in a trial. When the parameter values are inconsistent optuna only uses the values of the first call and ignores all following. Using these values: {'step': None, 'low': 0.05, 'high': 0.3, 'log': False}\n",
      "  warnings.warn(\n",
      "C:\\Users\\mrbvb\\AppData\\Local\\Temp\\ipykernel_26724\\2049930526.py:17: FutureWarning: suggest_uniform has been deprecated in v3.0.0. This feature will be removed in v6.0.0. See https://github.com/optuna/optuna/releases/tag/v3.0.0. Use suggest_float instead.\n",
      "  dropout_rate2 = trial.suggest_uniform('dropout_rate2', 0.05, 0.2)\n",
      "c:\\Users\\mrbvb\\AppData\\Local\\Programs\\Python\\Python311\\Lib\\site-packages\\optuna\\trial\\_trial.py:676: RuntimeWarning: Inconsistent parameter values for distribution with name \"dropout_rate2\"! This might be a configuration mistake. Optuna allows to call the same distribution with the same name more than once in a trial. When the parameter values are inconsistent optuna only uses the values of the first call and ignores all following. Using these values: {'step': None, 'low': 0.05, 'high': 0.1, 'log': False}\n",
      "  warnings.warn(\n",
      "C:\\Users\\mrbvb\\AppData\\Local\\Temp\\ipykernel_26724\\2049930526.py:20: FutureWarning: suggest_loguniform has been deprecated in v3.0.0. This feature will be removed in v6.0.0. See https://github.com/optuna/optuna/releases/tag/v3.0.0. Use suggest_float(..., log=True) instead.\n",
      "  learning_rate = trial.suggest_loguniform('learning_rate', 1e-6, 1e-3)\n",
      "c:\\Users\\mrbvb\\AppData\\Local\\Programs\\Python\\Python311\\Lib\\site-packages\\keras\\src\\layers\\core\\embedding.py:86: UserWarning: Argument `input_length` is deprecated. Just remove it.\n",
      "  warnings.warn(\n"
     ]
    },
    {
     "name": "stdout",
     "output_type": "stream",
     "text": [
      "\u001b[1m11/11\u001b[0m \u001b[32m━━━━━━━━━━━━━━━━━━━━\u001b[0m\u001b[37m\u001b[0m \u001b[1m8s\u001b[0m 217ms/step - accuracy: 0.4670 - loss: 0.6966\n",
      "Epoch 2/10\n",
      "\u001b[1m11/11\u001b[0m \u001b[32m━━━━━━━━━━━━━━━━━━━━\u001b[0m\u001b[37m\u001b[0m \u001b[1m2s\u001b[0m 226ms/step - accuracy: 0.5376 - loss: 0.6869\n",
      "Epoch 3/10\n",
      "\u001b[1m11/11\u001b[0m \u001b[32m━━━━━━━━━━━━━━━━━━━━\u001b[0m\u001b[37m\u001b[0m \u001b[1m2s\u001b[0m 215ms/step - accuracy: 0.5588 - loss: 0.6715\n",
      "Epoch 4/10\n",
      "\u001b[1m11/11\u001b[0m \u001b[32m━━━━━━━━━━━━━━━━━━━━\u001b[0m\u001b[37m\u001b[0m \u001b[1m2s\u001b[0m 212ms/step - accuracy: 0.7604 - loss: 0.5621\n",
      "Epoch 5/10\n",
      "\u001b[1m11/11\u001b[0m \u001b[32m━━━━━━━━━━━━━━━━━━━━\u001b[0m\u001b[37m\u001b[0m \u001b[1m2s\u001b[0m 213ms/step - accuracy: 0.9415 - loss: 0.3292\n",
      "Epoch 6/10\n",
      "\u001b[1m11/11\u001b[0m \u001b[32m━━━━━━━━━━━━━━━━━━━━\u001b[0m\u001b[37m\u001b[0m \u001b[1m2s\u001b[0m 211ms/step - accuracy: 0.9724 - loss: 0.1223\n",
      "Epoch 7/10\n",
      "\u001b[1m11/11\u001b[0m \u001b[32m━━━━━━━━━━━━━━━━━━━━\u001b[0m\u001b[37m\u001b[0m \u001b[1m2s\u001b[0m 213ms/step - accuracy: 0.9641 - loss: 0.1278\n",
      "Epoch 8/10\n",
      "\u001b[1m11/11\u001b[0m \u001b[32m━━━━━━━━━━━━━━━━━━━━\u001b[0m\u001b[37m\u001b[0m \u001b[1m2s\u001b[0m 211ms/step - accuracy: 0.9611 - loss: 0.1605\n",
      "Epoch 9/10\n",
      "\u001b[1m11/11\u001b[0m \u001b[32m━━━━━━━━━━━━━━━━━━━━\u001b[0m\u001b[37m\u001b[0m \u001b[1m2s\u001b[0m 213ms/step - accuracy: 0.9646 - loss: 0.1395\n",
      "\u001b[1m6/6\u001b[0m \u001b[32m━━━━━━━━━━━━━━━━━━━━\u001b[0m\u001b[37m\u001b[0m \u001b[1m2s\u001b[0m 224ms/step\n"
     ]
    },
    {
     "name": "stderr",
     "output_type": "stream",
     "text": [
      "[I 2024-04-30 17:55:03,610] Trial 19 finished with value: 0.7381129591655907 and parameters: {'dropout_rate': 0.058363178633784187, 'dropout_rate2': 0.09940833197231994, 'LSTM_units': 128, 'EMBEDDING_DIM': 150, 'learning_rate': 0.00045080467614588696}. Best is trial 18 with value: 0.7628665883382865.\n"
     ]
    },
    {
     "name": "stdout",
     "output_type": "stream",
     "text": [
      "Best trial:\n",
      "  Value:  0.7628665883382865\n",
      "  Params:  {'dropout_rate': 0.058795593243084476, 'dropout_rate2': 0.09787324634987318, 'LSTM_units': 128, 'EMBEDDING_DIM': 150, 'learning_rate': 0.0004042055830540087}\n"
     ]
    }
   ],
   "source": [
    "import optuna\n",
    "from sklearn.base import BaseEstimator\n",
    "from sklearn.model_selection import cross_val_score\n",
    "from keras.optimizers import Adam\n",
    "from keras.models import Sequential\n",
    "from sklearn.metrics import fbeta_score, make_scorer\n",
    "from keras.layers import Embedding, Dense, Dropout, Bidirectional, LSTM\n",
    "import numpy as np\n",
    "import tensorflow.keras.backend as K\n",
    "\n",
    "# Define your data-specific constants\n",
    "MAX_WORDS = 3500\n",
    "MAX_SEQUENCE_LENGTH = 134\n",
    "\n",
    "def create_model(trial):\n",
    "    dropout_rate = trial.suggest_uniform('dropout_rate', 0.09, 0.3)\n",
    "    dropout_rate2 = trial.suggest_uniform('dropout_rate2', 0.05, 0.2) \n",
    "    LSTM_units = trial.suggest_categorical('LSTM_units', [64, 128, 256])\n",
    "    EMBEDDING_DIM = trial.suggest_categorical('EMBEDDING_DIM', [100, 150, 200])\n",
    "    learning_rate = trial.suggest_loguniform('learning_rate', 1e-6, 1e-3)\n",
    "    print('create mod: d_rate', dropout_rate, 'd_rate2 ', dropout_rate2, 'LSTM ', LSTM_units, 'dim ', EMBEDDING_DIM, 'lr ', learning_rate)\n",
    "\n",
    "    model = Sequential()\n",
    "    model.add(Embedding(MAX_WORDS, EMBEDDING_DIM, input_length=MAX_SEQUENCE_LENGTH))\n",
    "    model.add(Bidirectional(LSTM(LSTM_units, dropout=dropout_rate ,return_sequences=True)))\n",
    "    model.add(Dropout(dropout_rate2)) \n",
    "    model.add(Bidirectional(LSTM(int(LSTM_units / 2))))\n",
    "    model.add(Dropout(dropout_rate2))\n",
    "    model.add(Dense(1, activation='sigmoid'))\n",
    "    model.compile(loss='binary_crossentropy', optimizer=Adam(learning_rate), metrics=['accuracy'])\n",
    "    return model\n",
    "\n",
    "class CustomKerasClassifier(BaseEstimator):\n",
    "    def __init__(self, trial=None, **kwargs):\n",
    "        self.trial = trial\n",
    "        self.kwargs = kwargs\n",
    "        print('kw', kwargs)\n",
    "\n",
    "    def fit(self, X, Y):\n",
    "        \n",
    "        model = create_model(self.trial)\n",
    "        #model.fit(X, Y, **self.kwargs)\n",
    "        batch_size = self.kwargs.get(\"batch_size\", 32)\n",
    "        epochs = self.kwargs.get(\"epochs\", 10)\n",
    "        verbose = self.kwargs.get(\"verbose\", 1)\n",
    "        \n",
    "        early_stop1 = EarlyStopping(monitor='accuracy',patience=3,restore_best_weights=True)\n",
    "        early_stop2 = EarlyStopping(monitor='loss',patience=3,restore_best_weights=True)\n",
    "        # Fit the model with the specified batch size and other parameters\n",
    "        model.fit(X, Y, epochs=epochs, batch_size=batch_size, verbose=verbose,callbacks=[early_stop1,early_stop2])\n",
    "        \n",
    "        self.model = model\n",
    "        \n",
    "        return self\n",
    "\n",
    "    def predict(self, X):\n",
    "        predictions = self.model.predict(X)\n",
    "        binary_predictions = [[1 if value[0] > 0.5 else 0] for value in predictions]\n",
    "        return binary_predictions\n",
    "\n",
    "# Objective function for Optuna\n",
    "def objective(trial):\n",
    "    dropout_rate = trial.suggest_uniform('dropout_rate', 0.05, 0.3) #value should be from small to large only\n",
    "    dropout_rate2 = trial.suggest_uniform('dropout_rate2', 0.05, 0.1) \n",
    "    LSTM_units = trial.suggest_categorical('LSTM_units', [64, 128, 256])\n",
    "    EMBEDDING_DIM = trial.suggest_categorical('EMBEDDING_DIM', [100, 150, 200])\n",
    "    learning_rate = trial.suggest_loguniform('learning_rate', 1e-6, 1e-3)\n",
    "    print('objectiving')\n",
    "\n",
    "    model = CustomKerasClassifier(trial=trial)\n",
    "    f1 = make_scorer(fbeta_score, beta=1)\n",
    "    print('result score f1 fuc', -np.mean(cross_val_score(model, X_train, Y_train, cv=3, scoring=f1)))\n",
    "    return np.mean(cross_val_score(model, X_train, Y_train, cv=3, scoring=f1))\n",
    "\n",
    "\n",
    "# Study configuration\n",
    "study = optuna.create_study(direction='maximize')\n",
    "study.optimize(objective, n_trials=20) #edit the running here to 50 or so\n",
    "\n",
    "# Print results\n",
    "print(\"Best trial:\")\n",
    "best_trial = study.best_trial\n",
    "print(\"  Value: \", best_trial.value)\n",
    "print(\"  Params: \", study.best_params)\n"
   ]
  },
  {
   "cell_type": "markdown",
   "metadata": {},
   "source": [
    "Stop runnin optuna here"
   ]
  },
  {
   "cell_type": "markdown",
   "metadata": {},
   "source": [
    "# visualization"
   ]
  },
  {
   "cell_type": "code",
   "execution_count": 17,
   "metadata": {},
   "outputs": [
    {
     "data": {
      "application/vnd.plotly.v1+json": {
       "config": {
        "plotlyServerURL": "https://plot.ly"
       },
       "data": [
        {
         "type": "scatter",
         "xaxis": "x",
         "yaxis": "y"
        },
        {
         "colorbar": {
          "title": {
           "text": "Objective Value"
          }
         },
         "colorscale": [
          [
           0,
           "rgb(247,251,255)"
          ],
          [
           0.125,
           "rgb(222,235,247)"
          ],
          [
           0.25,
           "rgb(198,219,239)"
          ],
          [
           0.375,
           "rgb(158,202,225)"
          ],
          [
           0.5,
           "rgb(107,174,214)"
          ],
          [
           0.625,
           "rgb(66,146,198)"
          ],
          [
           0.75,
           "rgb(33,113,181)"
          ],
          [
           0.875,
           "rgb(8,81,156)"
          ],
          [
           1,
           "rgb(8,48,107)"
          ]
         ],
         "connectgaps": true,
         "contours": {
          "coloring": "heatmap"
         },
         "hoverinfo": "none",
         "line": {
          "smoothing": 1.3
         },
         "reversescale": false,
         "showscale": true,
         "type": "contour",
         "x": [
          95,
          100,
          150,
          200,
          205
         ],
         "xaxis": "x6",
         "y": [
          54.4,
          64,
          128,
          256,
          265.6
         ],
         "yaxis": "y6",
         "z": [
          [
           null,
           null,
           null,
           null,
           null
          ],
          [
           null,
           0.7855914977109401,
           0.6400521595821494,
           0.3072322322322322,
           null
          ],
          [
           null,
           0.4781813290287867,
           0.5908786732719995,
           0.7976810923640342,
           null
          ],
          [
           null,
           0.5829778488148188,
           0.6616189922641535,
           0.4426665229962466,
           null
          ],
          [
           null,
           null,
           null,
           null,
           null
          ]
         ]
        },
        {
         "marker": {
          "color": "black",
          "line": {
           "color": "Gray",
           "width": 2
          }
         },
         "mode": "markers",
         "name": "Feasible Trial",
         "showlegend": false,
         "type": "scatter",
         "x": [
          100,
          100,
          150,
          200,
          150,
          100,
          150,
          100,
          200,
          200,
          200,
          100,
          200,
          100,
          200,
          100,
          200,
          200,
          100,
          150
         ],
         "xaxis": "x6",
         "y": [
          64,
          64,
          128,
          128,
          256,
          256,
          64,
          128,
          256,
          128,
          128,
          64,
          64,
          64,
          128,
          64,
          128,
          128,
          64,
          256
         ],
         "yaxis": "y6"
        },
        {
         "colorbar": {
          "title": {
           "text": "Objective Value"
          }
         },
         "colorscale": [
          [
           0,
           "rgb(247,251,255)"
          ],
          [
           0.125,
           "rgb(222,235,247)"
          ],
          [
           0.25,
           "rgb(198,219,239)"
          ],
          [
           0.375,
           "rgb(158,202,225)"
          ],
          [
           0.5,
           "rgb(107,174,214)"
          ],
          [
           0.625,
           "rgb(66,146,198)"
          ],
          [
           0.75,
           "rgb(33,113,181)"
          ],
          [
           0.875,
           "rgb(8,81,156)"
          ],
          [
           1,
           "rgb(8,48,107)"
          ]
         ],
         "connectgaps": true,
         "contours": {
          "coloring": "heatmap"
         },
         "hoverinfo": "none",
         "line": {
          "smoothing": 1.3
         },
         "reversescale": false,
         "showscale": false,
         "type": "contour",
         "x": [
          95,
          100,
          150,
          200,
          205
         ],
         "xaxis": "x11",
         "y": [
          0.03865521017238384,
          0.050755622265699935,
          0.08963814947961331,
          0.09148718543413979,
          0.09804165155249696,
          0.10388313765805358,
          0.11755246954630673,
          0.14974658544576408,
          0.17517482941220974,
          0.1772853762415156,
          0.19678209670798874,
          0.21169390681405537,
          0.220255873090827,
          0.22630535159633947,
          0.2309662767710378,
          0.24251344539756334,
          0.2492227370461793,
          0.25341910597495737,
          0.2540321220743112,
          0.2787294167226164,
          0.2927638641320219,
          0.30486427622533796
         ],
         "yaxis": "y11",
         "z": [
          [
           null,
           null,
           null,
           null,
           null
          ],
          [
           null,
           null,
           null,
           0.3072322322322322,
           null
          ],
          [
           null,
           0.7778445776266433,
           null,
           null,
           null
          ],
          [
           null,
           null,
           0.5908786732719995,
           null,
           null
          ],
          [
           null,
           null,
           0.6400521595821494,
           null,
           null
          ],
          [
           null,
           0.5829778488148188,
           null,
           null,
           null
          ],
          [
           null,
           null,
           0.6616189922641535,
           null,
           null
          ],
          [
           null,
           null,
           null,
           0.5523949920950306,
           null
          ],
          [
           null,
           null,
           null,
           0.7508266848516744,
           null
          ],
          [
           null,
           0.7189615633680706,
           null,
           null,
           null
          ],
          [
           null,
           0.731321938031893,
           null,
           null,
           null
          ],
          [
           null,
           null,
           null,
           0.7301990406699969,
           null
          ],
          [
           null,
           null,
           null,
           0.4426665229962466,
           null
          ],
          [
           null,
           null,
           null,
           0.7976810923640342,
           null
          ],
          [
           null,
           null,
           0.44863813229571986,
           null,
           null
          ],
          [
           null,
           null,
           null,
           0.4566934909104294,
           null
          ],
          [
           null,
           null,
           null,
           0.76403390490347,
           null
          ],
          [
           null,
           0.7855914977109401,
           null,
           null,
           null
          ],
          [
           null,
           0.7560985975519419,
           null,
           null,
           null
          ],
          [
           null,
           0.4781813290287867,
           null,
           null,
           null
          ],
          [
           null,
           0.6319669345188804,
           null,
           null,
           null
          ],
          [
           null,
           null,
           null,
           null,
           null
          ]
         ]
        },
        {
         "marker": {
          "color": "black",
          "line": {
           "color": "Gray",
           "width": 2
          }
         },
         "mode": "markers",
         "name": "Feasible Trial",
         "showlegend": false,
         "type": "scatter",
         "x": [
          100,
          100,
          150,
          200,
          150,
          100,
          150,
          100,
          200,
          200,
          200,
          100,
          200,
          100,
          200,
          100,
          200,
          200,
          100,
          150
         ],
         "xaxis": "x11",
         "y": [
          0.08963814947961331,
          0.2927638641320219,
          0.09148718543413979,
          0.14974658544576408,
          0.11755246954630673,
          0.10388313765805358,
          0.09804165155249696,
          0.2787294167226164,
          0.220255873090827,
          0.22630535159633947,
          0.21169390681405537,
          0.19678209670798874,
          0.050755622265699935,
          0.25341910597495737,
          0.2492227370461793,
          0.2540321220743112,
          0.17517482941220974,
          0.24251344539756334,
          0.1772853762415156,
          0.2309662767710378
         ],
         "yaxis": "y11"
        },
        {
         "colorbar": {
          "title": {
           "text": "Objective Value"
          }
         },
         "colorscale": [
          [
           0,
           "rgb(247,251,255)"
          ],
          [
           0.125,
           "rgb(222,235,247)"
          ],
          [
           0.25,
           "rgb(198,219,239)"
          ],
          [
           0.375,
           "rgb(158,202,225)"
          ],
          [
           0.5,
           "rgb(107,174,214)"
          ],
          [
           0.625,
           "rgb(66,146,198)"
          ],
          [
           0.75,
           "rgb(33,113,181)"
          ],
          [
           0.875,
           "rgb(8,81,156)"
          ],
          [
           1,
           "rgb(8,48,107)"
          ]
         ],
         "connectgaps": true,
         "contours": {
          "coloring": "heatmap"
         },
         "hoverinfo": "none",
         "line": {
          "smoothing": 1.3
         },
         "reversescale": false,
         "showscale": false,
         "type": "contour",
         "x": [
          95,
          100,
          150,
          200,
          205
         ],
         "xaxis": "x16",
         "y": [
          0.05120130877405578,
          0.053511034650761236,
          0.05428027794037116,
          0.05455369330540957,
          0.058301256812667845,
          0.060730735710048764,
          0.06805993621388766,
          0.06862720951718332,
          0.07579990917816096,
          0.07626297851511167,
          0.081282726146676,
          0.08251486591627316,
          0.0827941610789718,
          0.08579022507374316,
          0.08632749664947043,
          0.08750719392883521,
          0.08941007051363555,
          0.09156173925125795,
          0.09413052181331964,
          0.0959038509695697,
          0.09970555218487034,
          0.1020152780615758
         ],
         "yaxis": "y16",
         "z": [
          [
           null,
           null,
           null,
           null,
           null
          ],
          [
           null,
           null,
           0.6400521595821494,
           null,
           null
          ],
          [
           null,
           0.6319669345188804,
           null,
           null,
           null
          ],
          [
           null,
           0.5829778488148188,
           null,
           null,
           null
          ],
          [
           null,
           null,
           null,
           0.4426665229962466,
           null
          ],
          [
           null,
           0.4781813290287867,
           null,
           null,
           null
          ],
          [
           null,
           0.731321938031893,
           null,
           null,
           null
          ],
          [
           null,
           null,
           null,
           0.7508266848516744,
           null
          ],
          [
           null,
           null,
           null,
           0.3072322322322322,
           null
          ],
          [
           null,
           0.7778445776266433,
           null,
           null,
           null
          ],
          [
           null,
           null,
           0.5908786732719995,
           null,
           null
          ],
          [
           null,
           null,
           0.6616189922641535,
           null,
           null
          ],
          [
           null,
           null,
           null,
           0.7976810923640342,
           null
          ],
          [
           null,
           0.7560985975519419,
           null,
           null,
           null
          ],
          [
           null,
           null,
           0.44863813229571986,
           null,
           null
          ],
          [
           null,
           0.7855914977109401,
           null,
           null,
           null
          ],
          [
           null,
           null,
           null,
           0.76403390490347,
           null
          ],
          [
           null,
           null,
           null,
           0.4566934909104294,
           null
          ],
          [
           null,
           null,
           null,
           0.5523949920950306,
           null
          ],
          [
           null,
           0.7189615633680706,
           null,
           null,
           null
          ],
          [
           null,
           null,
           null,
           0.7301990406699969,
           null
          ],
          [
           null,
           null,
           null,
           null,
           null
          ]
         ]
        },
        {
         "marker": {
          "color": "black",
          "line": {
           "color": "Gray",
           "width": 2
          }
         },
         "mode": "markers",
         "name": "Feasible Trial",
         "showlegend": false,
         "type": "scatter",
         "x": [
          100,
          100,
          150,
          200,
          150,
          100,
          150,
          100,
          200,
          200,
          200,
          100,
          200,
          100,
          200,
          100,
          200,
          200,
          100,
          150
         ],
         "xaxis": "x16",
         "y": [
          0.07626297851511167,
          0.05428027794037116,
          0.081282726146676,
          0.09413052181331964,
          0.08251486591627316,
          0.05455369330540957,
          0.053511034650761236,
          0.060730735710048764,
          0.058301256812667845,
          0.0827941610789718,
          0.09970555218487034,
          0.06805993621388766,
          0.07579990917816096,
          0.08750719392883521,
          0.08941007051363555,
          0.08579022507374316,
          0.06862720951718332,
          0.09156173925125795,
          0.0959038509695697,
          0.08632749664947043
         ],
         "yaxis": "y16"
        },
        {
         "colorbar": {
          "title": {
           "text": "Objective Value"
          }
         },
         "colorscale": [
          [
           0,
           "rgb(247,251,255)"
          ],
          [
           0.125,
           "rgb(222,235,247)"
          ],
          [
           0.25,
           "rgb(198,219,239)"
          ],
          [
           0.375,
           "rgb(158,202,225)"
          ],
          [
           0.5,
           "rgb(107,174,214)"
          ],
          [
           0.625,
           "rgb(66,146,198)"
          ],
          [
           0.75,
           "rgb(33,113,181)"
          ],
          [
           0.875,
           "rgb(8,81,156)"
          ],
          [
           1,
           "rgb(8,48,107)"
          ]
         ],
         "connectgaps": true,
         "contours": {
          "coloring": "heatmap"
         },
         "hoverinfo": "none",
         "line": {
          "smoothing": 1.3
         },
         "reversescale": false,
         "showscale": false,
         "type": "contour",
         "x": [
          95,
          100,
          150,
          200,
          205
         ],
         "xaxis": "x21",
         "y": [
          9.384686279724846e-7,
          0.0000013058749679087969,
          0.000001736042667795536,
          0.000008007142110060202,
          0.000008211124436680537,
          0.000013847033101007686,
          0.0000205263024294648,
          0.000043969682567101044,
          0.00004422737553392048,
          0.00007410146874557456,
          0.0000927780379725184,
          0.00013990924775188863,
          0.00014234565307267818,
          0.00022582660202986294,
          0.0002481774075836331,
          0.00027398936815162185,
          0.00030160888447486973,
          0.00032201484653916404,
          0.0005904439778803607,
          0.000750727133825155,
          0.0009672491441006483,
          0.0013459229295081756
         ],
         "yaxis": "y21",
         "z": [
          [
           null,
           null,
           null,
           null,
           null
          ],
          [
           null,
           null,
           0.44863813229571986,
           null,
           null
          ],
          [
           null,
           null,
           null,
           0.3072322322322322,
           null
          ],
          [
           null,
           null,
           null,
           0.4426665229962466,
           null
          ],
          [
           null,
           0.4781813290287867,
           null,
           null,
           null
          ],
          [
           null,
           null,
           null,
           0.5523949920950306,
           null
          ],
          [
           null,
           null,
           null,
           0.4566934909104294,
           null
          ],
          [
           null,
           0.5829778488148188,
           null,
           null,
           null
          ],
          [
           null,
           null,
           0.6400521595821494,
           null,
           null
          ],
          [
           null,
           0.6319669345188804,
           null,
           null,
           null
          ],
          [
           null,
           null,
           0.5908786732719995,
           null,
           null
          ],
          [
           null,
           null,
           0.6616189922641535,
           null,
           null
          ],
          [
           null,
           0.7189615633680706,
           null,
           null,
           null
          ],
          [
           null,
           null,
           null,
           0.76403390490347,
           null
          ],
          [
           null,
           null,
           null,
           0.7976810923640342,
           null
          ],
          [
           null,
           0.7855914977109401,
           null,
           null,
           null
          ],
          [
           null,
           0.7778445776266433,
           null,
           null,
           null
          ],
          [
           null,
           0.7560985975519419,
           null,
           null,
           null
          ],
          [
           null,
           0.731321938031893,
           null,
           null,
           null
          ],
          [
           null,
           null,
           null,
           0.7301990406699969,
           null
          ],
          [
           null,
           null,
           null,
           0.7508266848516744,
           null
          ],
          [
           null,
           null,
           null,
           null,
           null
          ]
         ]
        },
        {
         "marker": {
          "color": "black",
          "line": {
           "color": "Gray",
           "width": 2
          }
         },
         "mode": "markers",
         "name": "Feasible Trial",
         "showlegend": false,
         "type": "scatter",
         "x": [
          100,
          100,
          150,
          200,
          150,
          100,
          150,
          100,
          200,
          200,
          200,
          100,
          200,
          100,
          200,
          100,
          200,
          200,
          100,
          150
         ],
         "xaxis": "x21",
         "y": [
          0.00030160888447486973,
          0.00007410146874557456,
          0.0000927780379725184,
          0.000013847033101007686,
          0.00013990924775188863,
          0.000043969682567101044,
          0.00004422737553392048,
          0.000008211124436680537,
          0.000008007142110060202,
          0.0002481774075836331,
          0.000750727133825155,
          0.0005904439778803607,
          0.000001736042667795536,
          0.00027398936815162185,
          0.00022582660202986294,
          0.00032201484653916404,
          0.0009672491441006483,
          0.0000205263024294648,
          0.00014234565307267818,
          0.0000013058749679087969
         ],
         "yaxis": "y21"
        },
        {
         "colorbar": {
          "title": {
           "text": "Objective Value"
          }
         },
         "colorscale": [
          [
           0,
           "rgb(247,251,255)"
          ],
          [
           0.125,
           "rgb(222,235,247)"
          ],
          [
           0.25,
           "rgb(198,219,239)"
          ],
          [
           0.375,
           "rgb(158,202,225)"
          ],
          [
           0.5,
           "rgb(107,174,214)"
          ],
          [
           0.625,
           "rgb(66,146,198)"
          ],
          [
           0.75,
           "rgb(33,113,181)"
          ],
          [
           0.875,
           "rgb(8,81,156)"
          ],
          [
           1,
           "rgb(8,48,107)"
          ]
         ],
         "connectgaps": true,
         "contours": {
          "coloring": "heatmap"
         },
         "hoverinfo": "none",
         "line": {
          "smoothing": 1.3
         },
         "reversescale": false,
         "showscale": false,
         "type": "contour",
         "x": [
          54.4,
          64,
          128,
          256,
          265.6
         ],
         "xaxis": "x2",
         "y": [
          95,
          100,
          150,
          200,
          205
         ],
         "yaxis": "y2",
         "z": [
          [
           null,
           null,
           null,
           null,
           null
          ],
          [
           null,
           0.7855914977109401,
           0.4781813290287867,
           0.5829778488148188,
           null
          ],
          [
           null,
           0.6400521595821494,
           0.5908786732719995,
           0.6616189922641535,
           null
          ],
          [
           null,
           0.3072322322322322,
           0.7976810923640342,
           0.4426665229962466,
           null
          ],
          [
           null,
           null,
           null,
           null,
           null
          ]
         ]
        },
        {
         "marker": {
          "color": "black",
          "line": {
           "color": "Gray",
           "width": 2
          }
         },
         "mode": "markers",
         "name": "Feasible Trial",
         "showlegend": false,
         "type": "scatter",
         "x": [
          64,
          64,
          128,
          128,
          256,
          256,
          64,
          128,
          256,
          128,
          128,
          64,
          64,
          64,
          128,
          64,
          128,
          128,
          64,
          256
         ],
         "xaxis": "x2",
         "y": [
          100,
          100,
          150,
          200,
          150,
          100,
          150,
          100,
          200,
          200,
          200,
          100,
          200,
          100,
          200,
          100,
          200,
          200,
          100,
          150
         ],
         "yaxis": "y2"
        },
        {
         "type": "scatter",
         "xaxis": "x7",
         "yaxis": "y7"
        },
        {
         "colorbar": {
          "title": {
           "text": "Objective Value"
          }
         },
         "colorscale": [
          [
           0,
           "rgb(247,251,255)"
          ],
          [
           0.125,
           "rgb(222,235,247)"
          ],
          [
           0.25,
           "rgb(198,219,239)"
          ],
          [
           0.375,
           "rgb(158,202,225)"
          ],
          [
           0.5,
           "rgb(107,174,214)"
          ],
          [
           0.625,
           "rgb(66,146,198)"
          ],
          [
           0.75,
           "rgb(33,113,181)"
          ],
          [
           0.875,
           "rgb(8,81,156)"
          ],
          [
           1,
           "rgb(8,48,107)"
          ]
         ],
         "connectgaps": true,
         "contours": {
          "coloring": "heatmap"
         },
         "hoverinfo": "none",
         "line": {
          "smoothing": 1.3
         },
         "reversescale": false,
         "showscale": false,
         "type": "contour",
         "x": [
          54.4,
          64,
          128,
          256,
          265.6
         ],
         "xaxis": "x12",
         "y": [
          0.03865521017238384,
          0.050755622265699935,
          0.08963814947961331,
          0.09148718543413979,
          0.09804165155249696,
          0.10388313765805358,
          0.11755246954630673,
          0.14974658544576408,
          0.17517482941220974,
          0.1772853762415156,
          0.19678209670798874,
          0.21169390681405537,
          0.220255873090827,
          0.22630535159633947,
          0.2309662767710378,
          0.24251344539756334,
          0.2492227370461793,
          0.25341910597495737,
          0.2540321220743112,
          0.2787294167226164,
          0.2927638641320219,
          0.30486427622533796
         ],
         "yaxis": "y12",
         "z": [
          [
           null,
           null,
           null,
           null,
           null
          ],
          [
           null,
           0.3072322322322322,
           null,
           null,
           null
          ],
          [
           null,
           0.7778445776266433,
           null,
           null,
           null
          ],
          [
           null,
           null,
           0.5908786732719995,
           null,
           null
          ],
          [
           null,
           0.6400521595821494,
           null,
           null,
           null
          ],
          [
           null,
           null,
           null,
           0.5829778488148188,
           null
          ],
          [
           null,
           null,
           null,
           0.6616189922641535,
           null
          ],
          [
           null,
           null,
           0.5523949920950306,
           null,
           null
          ],
          [
           null,
           null,
           0.7508266848516744,
           null,
           null
          ],
          [
           null,
           0.7189615633680706,
           null,
           null,
           null
          ],
          [
           null,
           0.731321938031893,
           null,
           null,
           null
          ],
          [
           null,
           null,
           0.7301990406699969,
           null,
           null
          ],
          [
           null,
           null,
           null,
           0.4426665229962466,
           null
          ],
          [
           null,
           null,
           0.7976810923640342,
           null,
           null
          ],
          [
           null,
           null,
           null,
           0.44863813229571986,
           null
          ],
          [
           null,
           null,
           0.4566934909104294,
           null,
           null
          ],
          [
           null,
           null,
           0.76403390490347,
           null,
           null
          ],
          [
           null,
           0.7855914977109401,
           null,
           null,
           null
          ],
          [
           null,
           0.7560985975519419,
           null,
           null,
           null
          ],
          [
           null,
           null,
           0.4781813290287867,
           null,
           null
          ],
          [
           null,
           0.6319669345188804,
           null,
           null,
           null
          ],
          [
           null,
           null,
           null,
           null,
           null
          ]
         ]
        },
        {
         "marker": {
          "color": "black",
          "line": {
           "color": "Gray",
           "width": 2
          }
         },
         "mode": "markers",
         "name": "Feasible Trial",
         "showlegend": false,
         "type": "scatter",
         "x": [
          64,
          64,
          128,
          128,
          256,
          256,
          64,
          128,
          256,
          128,
          128,
          64,
          64,
          64,
          128,
          64,
          128,
          128,
          64,
          256
         ],
         "xaxis": "x12",
         "y": [
          0.08963814947961331,
          0.2927638641320219,
          0.09148718543413979,
          0.14974658544576408,
          0.11755246954630673,
          0.10388313765805358,
          0.09804165155249696,
          0.2787294167226164,
          0.220255873090827,
          0.22630535159633947,
          0.21169390681405537,
          0.19678209670798874,
          0.050755622265699935,
          0.25341910597495737,
          0.2492227370461793,
          0.2540321220743112,
          0.17517482941220974,
          0.24251344539756334,
          0.1772853762415156,
          0.2309662767710378
         ],
         "yaxis": "y12"
        },
        {
         "colorbar": {
          "title": {
           "text": "Objective Value"
          }
         },
         "colorscale": [
          [
           0,
           "rgb(247,251,255)"
          ],
          [
           0.125,
           "rgb(222,235,247)"
          ],
          [
           0.25,
           "rgb(198,219,239)"
          ],
          [
           0.375,
           "rgb(158,202,225)"
          ],
          [
           0.5,
           "rgb(107,174,214)"
          ],
          [
           0.625,
           "rgb(66,146,198)"
          ],
          [
           0.75,
           "rgb(33,113,181)"
          ],
          [
           0.875,
           "rgb(8,81,156)"
          ],
          [
           1,
           "rgb(8,48,107)"
          ]
         ],
         "connectgaps": true,
         "contours": {
          "coloring": "heatmap"
         },
         "hoverinfo": "none",
         "line": {
          "smoothing": 1.3
         },
         "reversescale": false,
         "showscale": false,
         "type": "contour",
         "x": [
          54.4,
          64,
          128,
          256,
          265.6
         ],
         "xaxis": "x17",
         "y": [
          0.05120130877405578,
          0.053511034650761236,
          0.05428027794037116,
          0.05455369330540957,
          0.058301256812667845,
          0.060730735710048764,
          0.06805993621388766,
          0.06862720951718332,
          0.07579990917816096,
          0.07626297851511167,
          0.081282726146676,
          0.08251486591627316,
          0.0827941610789718,
          0.08579022507374316,
          0.08632749664947043,
          0.08750719392883521,
          0.08941007051363555,
          0.09156173925125795,
          0.09413052181331964,
          0.0959038509695697,
          0.09970555218487034,
          0.1020152780615758
         ],
         "yaxis": "y17",
         "z": [
          [
           null,
           null,
           null,
           null,
           null
          ],
          [
           null,
           0.6400521595821494,
           null,
           null,
           null
          ],
          [
           null,
           0.6319669345188804,
           null,
           null,
           null
          ],
          [
           null,
           null,
           null,
           0.5829778488148188,
           null
          ],
          [
           null,
           null,
           null,
           0.4426665229962466,
           null
          ],
          [
           null,
           null,
           0.4781813290287867,
           null,
           null
          ],
          [
           null,
           0.731321938031893,
           null,
           null,
           null
          ],
          [
           null,
           null,
           0.7508266848516744,
           null,
           null
          ],
          [
           null,
           0.3072322322322322,
           null,
           null,
           null
          ],
          [
           null,
           0.7778445776266433,
           null,
           null,
           null
          ],
          [
           null,
           null,
           0.5908786732719995,
           null,
           null
          ],
          [
           null,
           null,
           null,
           0.6616189922641535,
           null
          ],
          [
           null,
           null,
           0.7976810923640342,
           null,
           null
          ],
          [
           null,
           0.7560985975519419,
           null,
           null,
           null
          ],
          [
           null,
           null,
           null,
           0.44863813229571986,
           null
          ],
          [
           null,
           0.7855914977109401,
           null,
           null,
           null
          ],
          [
           null,
           null,
           0.76403390490347,
           null,
           null
          ],
          [
           null,
           null,
           0.4566934909104294,
           null,
           null
          ],
          [
           null,
           null,
           0.5523949920950306,
           null,
           null
          ],
          [
           null,
           0.7189615633680706,
           null,
           null,
           null
          ],
          [
           null,
           null,
           0.7301990406699969,
           null,
           null
          ],
          [
           null,
           null,
           null,
           null,
           null
          ]
         ]
        },
        {
         "marker": {
          "color": "black",
          "line": {
           "color": "Gray",
           "width": 2
          }
         },
         "mode": "markers",
         "name": "Feasible Trial",
         "showlegend": false,
         "type": "scatter",
         "x": [
          64,
          64,
          128,
          128,
          256,
          256,
          64,
          128,
          256,
          128,
          128,
          64,
          64,
          64,
          128,
          64,
          128,
          128,
          64,
          256
         ],
         "xaxis": "x17",
         "y": [
          0.07626297851511167,
          0.05428027794037116,
          0.081282726146676,
          0.09413052181331964,
          0.08251486591627316,
          0.05455369330540957,
          0.053511034650761236,
          0.060730735710048764,
          0.058301256812667845,
          0.0827941610789718,
          0.09970555218487034,
          0.06805993621388766,
          0.07579990917816096,
          0.08750719392883521,
          0.08941007051363555,
          0.08579022507374316,
          0.06862720951718332,
          0.09156173925125795,
          0.0959038509695697,
          0.08632749664947043
         ],
         "yaxis": "y17"
        },
        {
         "colorbar": {
          "title": {
           "text": "Objective Value"
          }
         },
         "colorscale": [
          [
           0,
           "rgb(247,251,255)"
          ],
          [
           0.125,
           "rgb(222,235,247)"
          ],
          [
           0.25,
           "rgb(198,219,239)"
          ],
          [
           0.375,
           "rgb(158,202,225)"
          ],
          [
           0.5,
           "rgb(107,174,214)"
          ],
          [
           0.625,
           "rgb(66,146,198)"
          ],
          [
           0.75,
           "rgb(33,113,181)"
          ],
          [
           0.875,
           "rgb(8,81,156)"
          ],
          [
           1,
           "rgb(8,48,107)"
          ]
         ],
         "connectgaps": true,
         "contours": {
          "coloring": "heatmap"
         },
         "hoverinfo": "none",
         "line": {
          "smoothing": 1.3
         },
         "reversescale": false,
         "showscale": false,
         "type": "contour",
         "x": [
          54.4,
          64,
          128,
          256,
          265.6
         ],
         "xaxis": "x22",
         "y": [
          9.384686279724846e-7,
          0.0000013058749679087969,
          0.000001736042667795536,
          0.000008007142110060202,
          0.000008211124436680537,
          0.000013847033101007686,
          0.0000205263024294648,
          0.000043969682567101044,
          0.00004422737553392048,
          0.00007410146874557456,
          0.0000927780379725184,
          0.00013990924775188863,
          0.00014234565307267818,
          0.00022582660202986294,
          0.0002481774075836331,
          0.00027398936815162185,
          0.00030160888447486973,
          0.00032201484653916404,
          0.0005904439778803607,
          0.000750727133825155,
          0.0009672491441006483,
          0.0013459229295081756
         ],
         "yaxis": "y22",
         "z": [
          [
           null,
           null,
           null,
           null,
           null
          ],
          [
           null,
           null,
           null,
           0.44863813229571986,
           null
          ],
          [
           null,
           0.3072322322322322,
           null,
           null,
           null
          ],
          [
           null,
           null,
           null,
           0.4426665229962466,
           null
          ],
          [
           null,
           null,
           0.4781813290287867,
           null,
           null
          ],
          [
           null,
           null,
           0.5523949920950306,
           null,
           null
          ],
          [
           null,
           null,
           0.4566934909104294,
           null,
           null
          ],
          [
           null,
           null,
           null,
           0.5829778488148188,
           null
          ],
          [
           null,
           0.6400521595821494,
           null,
           null,
           null
          ],
          [
           null,
           0.6319669345188804,
           null,
           null,
           null
          ],
          [
           null,
           null,
           0.5908786732719995,
           null,
           null
          ],
          [
           null,
           null,
           null,
           0.6616189922641535,
           null
          ],
          [
           null,
           0.7189615633680706,
           null,
           null,
           null
          ],
          [
           null,
           null,
           0.76403390490347,
           null,
           null
          ],
          [
           null,
           null,
           0.7976810923640342,
           null,
           null
          ],
          [
           null,
           0.7855914977109401,
           null,
           null,
           null
          ],
          [
           null,
           0.7778445776266433,
           null,
           null,
           null
          ],
          [
           null,
           0.7560985975519419,
           null,
           null,
           null
          ],
          [
           null,
           0.731321938031893,
           null,
           null,
           null
          ],
          [
           null,
           null,
           0.7301990406699969,
           null,
           null
          ],
          [
           null,
           null,
           0.7508266848516744,
           null,
           null
          ],
          [
           null,
           null,
           null,
           null,
           null
          ]
         ]
        },
        {
         "marker": {
          "color": "black",
          "line": {
           "color": "Gray",
           "width": 2
          }
         },
         "mode": "markers",
         "name": "Feasible Trial",
         "showlegend": false,
         "type": "scatter",
         "x": [
          64,
          64,
          128,
          128,
          256,
          256,
          64,
          128,
          256,
          128,
          128,
          64,
          64,
          64,
          128,
          64,
          128,
          128,
          64,
          256
         ],
         "xaxis": "x22",
         "y": [
          0.00030160888447486973,
          0.00007410146874557456,
          0.0000927780379725184,
          0.000013847033101007686,
          0.00013990924775188863,
          0.000043969682567101044,
          0.00004422737553392048,
          0.000008211124436680537,
          0.000008007142110060202,
          0.0002481774075836331,
          0.000750727133825155,
          0.0005904439778803607,
          0.000001736042667795536,
          0.00027398936815162185,
          0.00022582660202986294,
          0.00032201484653916404,
          0.0009672491441006483,
          0.0000205263024294648,
          0.00014234565307267818,
          0.0000013058749679087969
         ],
         "yaxis": "y22"
        },
        {
         "colorbar": {
          "title": {
           "text": "Objective Value"
          }
         },
         "colorscale": [
          [
           0,
           "rgb(247,251,255)"
          ],
          [
           0.125,
           "rgb(222,235,247)"
          ],
          [
           0.25,
           "rgb(198,219,239)"
          ],
          [
           0.375,
           "rgb(158,202,225)"
          ],
          [
           0.5,
           "rgb(107,174,214)"
          ],
          [
           0.625,
           "rgb(66,146,198)"
          ],
          [
           0.75,
           "rgb(33,113,181)"
          ],
          [
           0.875,
           "rgb(8,81,156)"
          ],
          [
           1,
           "rgb(8,48,107)"
          ]
         ],
         "connectgaps": true,
         "contours": {
          "coloring": "heatmap"
         },
         "hoverinfo": "none",
         "line": {
          "smoothing": 1.3
         },
         "reversescale": false,
         "showscale": false,
         "type": "contour",
         "x": [
          0.03865521017238384,
          0.050755622265699935,
          0.08963814947961331,
          0.09148718543413979,
          0.09804165155249696,
          0.10388313765805358,
          0.11755246954630673,
          0.14974658544576408,
          0.17517482941220974,
          0.1772853762415156,
          0.19678209670798874,
          0.21169390681405537,
          0.220255873090827,
          0.22630535159633947,
          0.2309662767710378,
          0.24251344539756334,
          0.2492227370461793,
          0.25341910597495737,
          0.2540321220743112,
          0.2787294167226164,
          0.2927638641320219,
          0.30486427622533796
         ],
         "xaxis": "x3",
         "y": [
          95,
          100,
          150,
          200,
          205
         ],
         "yaxis": "y3",
         "z": [
          [
           null,
           null,
           null,
           null,
           null,
           null,
           null,
           null,
           null,
           null,
           null,
           null,
           null,
           null,
           null,
           null,
           null,
           null,
           null,
           null,
           null,
           null
          ],
          [
           null,
           null,
           0.7778445776266433,
           null,
           null,
           0.5829778488148188,
           null,
           null,
           null,
           0.7189615633680706,
           0.731321938031893,
           null,
           null,
           null,
           null,
           null,
           null,
           0.7855914977109401,
           0.7560985975519419,
           0.4781813290287867,
           0.6319669345188804,
           null
          ],
          [
           null,
           null,
           null,
           0.5908786732719995,
           0.6400521595821494,
           null,
           0.6616189922641535,
           null,
           null,
           null,
           null,
           null,
           null,
           null,
           0.44863813229571986,
           null,
           null,
           null,
           null,
           null,
           null,
           null
          ],
          [
           null,
           0.3072322322322322,
           null,
           null,
           null,
           null,
           null,
           0.5523949920950306,
           0.7508266848516744,
           null,
           null,
           0.7301990406699969,
           0.4426665229962466,
           0.7976810923640342,
           null,
           0.4566934909104294,
           0.76403390490347,
           null,
           null,
           null,
           null,
           null
          ],
          [
           null,
           null,
           null,
           null,
           null,
           null,
           null,
           null,
           null,
           null,
           null,
           null,
           null,
           null,
           null,
           null,
           null,
           null,
           null,
           null,
           null,
           null
          ]
         ]
        },
        {
         "marker": {
          "color": "black",
          "line": {
           "color": "Gray",
           "width": 2
          }
         },
         "mode": "markers",
         "name": "Feasible Trial",
         "showlegend": false,
         "type": "scatter",
         "x": [
          0.08963814947961331,
          0.2927638641320219,
          0.09148718543413979,
          0.14974658544576408,
          0.11755246954630673,
          0.10388313765805358,
          0.09804165155249696,
          0.2787294167226164,
          0.220255873090827,
          0.22630535159633947,
          0.21169390681405537,
          0.19678209670798874,
          0.050755622265699935,
          0.25341910597495737,
          0.2492227370461793,
          0.2540321220743112,
          0.17517482941220974,
          0.24251344539756334,
          0.1772853762415156,
          0.2309662767710378
         ],
         "xaxis": "x3",
         "y": [
          100,
          100,
          150,
          200,
          150,
          100,
          150,
          100,
          200,
          200,
          200,
          100,
          200,
          100,
          200,
          100,
          200,
          200,
          100,
          150
         ],
         "yaxis": "y3"
        },
        {
         "colorbar": {
          "title": {
           "text": "Objective Value"
          }
         },
         "colorscale": [
          [
           0,
           "rgb(247,251,255)"
          ],
          [
           0.125,
           "rgb(222,235,247)"
          ],
          [
           0.25,
           "rgb(198,219,239)"
          ],
          [
           0.375,
           "rgb(158,202,225)"
          ],
          [
           0.5,
           "rgb(107,174,214)"
          ],
          [
           0.625,
           "rgb(66,146,198)"
          ],
          [
           0.75,
           "rgb(33,113,181)"
          ],
          [
           0.875,
           "rgb(8,81,156)"
          ],
          [
           1,
           "rgb(8,48,107)"
          ]
         ],
         "connectgaps": true,
         "contours": {
          "coloring": "heatmap"
         },
         "hoverinfo": "none",
         "line": {
          "smoothing": 1.3
         },
         "reversescale": false,
         "showscale": false,
         "type": "contour",
         "x": [
          0.03865521017238384,
          0.050755622265699935,
          0.08963814947961331,
          0.09148718543413979,
          0.09804165155249696,
          0.10388313765805358,
          0.11755246954630673,
          0.14974658544576408,
          0.17517482941220974,
          0.1772853762415156,
          0.19678209670798874,
          0.21169390681405537,
          0.220255873090827,
          0.22630535159633947,
          0.2309662767710378,
          0.24251344539756334,
          0.2492227370461793,
          0.25341910597495737,
          0.2540321220743112,
          0.2787294167226164,
          0.2927638641320219,
          0.30486427622533796
         ],
         "xaxis": "x8",
         "y": [
          54.4,
          64,
          128,
          256,
          265.6
         ],
         "yaxis": "y8",
         "z": [
          [
           null,
           null,
           null,
           null,
           null,
           null,
           null,
           null,
           null,
           null,
           null,
           null,
           null,
           null,
           null,
           null,
           null,
           null,
           null,
           null,
           null,
           null
          ],
          [
           null,
           0.3072322322322322,
           0.7778445776266433,
           null,
           0.6400521595821494,
           null,
           null,
           null,
           null,
           0.7189615633680706,
           0.731321938031893,
           null,
           null,
           null,
           null,
           null,
           null,
           0.7855914977109401,
           0.7560985975519419,
           null,
           0.6319669345188804,
           null
          ],
          [
           null,
           null,
           null,
           0.5908786732719995,
           null,
           null,
           null,
           0.5523949920950306,
           0.7508266848516744,
           null,
           null,
           0.7301990406699969,
           null,
           0.7976810923640342,
           null,
           0.4566934909104294,
           0.76403390490347,
           null,
           null,
           0.4781813290287867,
           null,
           null
          ],
          [
           null,
           null,
           null,
           null,
           null,
           0.5829778488148188,
           0.6616189922641535,
           null,
           null,
           null,
           null,
           null,
           0.4426665229962466,
           null,
           0.44863813229571986,
           null,
           null,
           null,
           null,
           null,
           null,
           null
          ],
          [
           null,
           null,
           null,
           null,
           null,
           null,
           null,
           null,
           null,
           null,
           null,
           null,
           null,
           null,
           null,
           null,
           null,
           null,
           null,
           null,
           null,
           null
          ]
         ]
        },
        {
         "marker": {
          "color": "black",
          "line": {
           "color": "Gray",
           "width": 2
          }
         },
         "mode": "markers",
         "name": "Feasible Trial",
         "showlegend": false,
         "type": "scatter",
         "x": [
          0.08963814947961331,
          0.2927638641320219,
          0.09148718543413979,
          0.14974658544576408,
          0.11755246954630673,
          0.10388313765805358,
          0.09804165155249696,
          0.2787294167226164,
          0.220255873090827,
          0.22630535159633947,
          0.21169390681405537,
          0.19678209670798874,
          0.050755622265699935,
          0.25341910597495737,
          0.2492227370461793,
          0.2540321220743112,
          0.17517482941220974,
          0.24251344539756334,
          0.1772853762415156,
          0.2309662767710378
         ],
         "xaxis": "x8",
         "y": [
          64,
          64,
          128,
          128,
          256,
          256,
          64,
          128,
          256,
          128,
          128,
          64,
          64,
          64,
          128,
          64,
          128,
          128,
          64,
          256
         ],
         "yaxis": "y8"
        },
        {
         "type": "scatter",
         "xaxis": "x13",
         "yaxis": "y13"
        },
        {
         "colorbar": {
          "title": {
           "text": "Objective Value"
          }
         },
         "colorscale": [
          [
           0,
           "rgb(247,251,255)"
          ],
          [
           0.125,
           "rgb(222,235,247)"
          ],
          [
           0.25,
           "rgb(198,219,239)"
          ],
          [
           0.375,
           "rgb(158,202,225)"
          ],
          [
           0.5,
           "rgb(107,174,214)"
          ],
          [
           0.625,
           "rgb(66,146,198)"
          ],
          [
           0.75,
           "rgb(33,113,181)"
          ],
          [
           0.875,
           "rgb(8,81,156)"
          ],
          [
           1,
           "rgb(8,48,107)"
          ]
         ],
         "connectgaps": true,
         "contours": {
          "coloring": "heatmap"
         },
         "hoverinfo": "none",
         "line": {
          "smoothing": 1.3
         },
         "reversescale": false,
         "showscale": false,
         "type": "contour",
         "x": [
          0.03865521017238384,
          0.050755622265699935,
          0.08963814947961331,
          0.09148718543413979,
          0.09804165155249696,
          0.10388313765805358,
          0.11755246954630673,
          0.14974658544576408,
          0.17517482941220974,
          0.1772853762415156,
          0.19678209670798874,
          0.21169390681405537,
          0.220255873090827,
          0.22630535159633947,
          0.2309662767710378,
          0.24251344539756334,
          0.2492227370461793,
          0.25341910597495737,
          0.2540321220743112,
          0.2787294167226164,
          0.2927638641320219,
          0.30486427622533796
         ],
         "xaxis": "x18",
         "y": [
          0.05120130877405578,
          0.053511034650761236,
          0.05428027794037116,
          0.05455369330540957,
          0.058301256812667845,
          0.060730735710048764,
          0.06805993621388766,
          0.06862720951718332,
          0.07579990917816096,
          0.07626297851511167,
          0.081282726146676,
          0.08251486591627316,
          0.0827941610789718,
          0.08579022507374316,
          0.08632749664947043,
          0.08750719392883521,
          0.08941007051363555,
          0.09156173925125795,
          0.09413052181331964,
          0.0959038509695697,
          0.09970555218487034,
          0.1020152780615758
         ],
         "yaxis": "y18",
         "z": [
          [
           null,
           null,
           null,
           null,
           null,
           null,
           null,
           null,
           null,
           null,
           null,
           null,
           null,
           null,
           null,
           null,
           null,
           null,
           null,
           null,
           null,
           null
          ],
          [
           null,
           null,
           null,
           null,
           0.6400521595821494,
           null,
           null,
           null,
           null,
           null,
           null,
           null,
           null,
           null,
           null,
           null,
           null,
           null,
           null,
           null,
           null,
           null
          ],
          [
           null,
           null,
           null,
           null,
           null,
           null,
           null,
           null,
           null,
           null,
           null,
           null,
           null,
           null,
           null,
           null,
           null,
           null,
           null,
           null,
           0.6319669345188804,
           null
          ],
          [
           null,
           null,
           null,
           null,
           null,
           0.5829778488148188,
           null,
           null,
           null,
           null,
           null,
           null,
           null,
           null,
           null,
           null,
           null,
           null,
           null,
           null,
           null,
           null
          ],
          [
           null,
           null,
           null,
           null,
           null,
           null,
           null,
           null,
           null,
           null,
           null,
           null,
           0.4426665229962466,
           null,
           null,
           null,
           null,
           null,
           null,
           null,
           null,
           null
          ],
          [
           null,
           null,
           null,
           null,
           null,
           null,
           null,
           null,
           null,
           null,
           null,
           null,
           null,
           null,
           null,
           null,
           null,
           null,
           null,
           0.4781813290287867,
           null,
           null
          ],
          [
           null,
           null,
           null,
           null,
           null,
           null,
           null,
           null,
           null,
           null,
           0.731321938031893,
           null,
           null,
           null,
           null,
           null,
           null,
           null,
           null,
           null,
           null,
           null
          ],
          [
           null,
           null,
           null,
           null,
           null,
           null,
           null,
           null,
           0.7508266848516744,
           null,
           null,
           null,
           null,
           null,
           null,
           null,
           null,
           null,
           null,
           null,
           null,
           null
          ],
          [
           null,
           0.3072322322322322,
           null,
           null,
           null,
           null,
           null,
           null,
           null,
           null,
           null,
           null,
           null,
           null,
           null,
           null,
           null,
           null,
           null,
           null,
           null,
           null
          ],
          [
           null,
           null,
           0.7778445776266433,
           null,
           null,
           null,
           null,
           null,
           null,
           null,
           null,
           null,
           null,
           null,
           null,
           null,
           null,
           null,
           null,
           null,
           null,
           null
          ],
          [
           null,
           null,
           null,
           0.5908786732719995,
           null,
           null,
           null,
           null,
           null,
           null,
           null,
           null,
           null,
           null,
           null,
           null,
           null,
           null,
           null,
           null,
           null,
           null
          ],
          [
           null,
           null,
           null,
           null,
           null,
           null,
           0.6616189922641535,
           null,
           null,
           null,
           null,
           null,
           null,
           null,
           null,
           null,
           null,
           null,
           null,
           null,
           null,
           null
          ],
          [
           null,
           null,
           null,
           null,
           null,
           null,
           null,
           null,
           null,
           null,
           null,
           null,
           null,
           0.7976810923640342,
           null,
           null,
           null,
           null,
           null,
           null,
           null,
           null
          ],
          [
           null,
           null,
           null,
           null,
           null,
           null,
           null,
           null,
           null,
           null,
           null,
           null,
           null,
           null,
           null,
           null,
           null,
           null,
           0.7560985975519419,
           null,
           null,
           null
          ],
          [
           null,
           null,
           null,
           null,
           null,
           null,
           null,
           null,
           null,
           null,
           null,
           null,
           null,
           null,
           0.44863813229571986,
           null,
           null,
           null,
           null,
           null,
           null,
           null
          ],
          [
           null,
           null,
           null,
           null,
           null,
           null,
           null,
           null,
           null,
           null,
           null,
           null,
           null,
           null,
           null,
           null,
           null,
           0.7855914977109401,
           null,
           null,
           null,
           null
          ],
          [
           null,
           null,
           null,
           null,
           null,
           null,
           null,
           null,
           null,
           null,
           null,
           null,
           null,
           null,
           null,
           null,
           0.76403390490347,
           null,
           null,
           null,
           null,
           null
          ],
          [
           null,
           null,
           null,
           null,
           null,
           null,
           null,
           null,
           null,
           null,
           null,
           null,
           null,
           null,
           null,
           0.4566934909104294,
           null,
           null,
           null,
           null,
           null,
           null
          ],
          [
           null,
           null,
           null,
           null,
           null,
           null,
           null,
           0.5523949920950306,
           null,
           null,
           null,
           null,
           null,
           null,
           null,
           null,
           null,
           null,
           null,
           null,
           null,
           null
          ],
          [
           null,
           null,
           null,
           null,
           null,
           null,
           null,
           null,
           null,
           0.7189615633680706,
           null,
           null,
           null,
           null,
           null,
           null,
           null,
           null,
           null,
           null,
           null,
           null
          ],
          [
           null,
           null,
           null,
           null,
           null,
           null,
           null,
           null,
           null,
           null,
           null,
           0.7301990406699969,
           null,
           null,
           null,
           null,
           null,
           null,
           null,
           null,
           null,
           null
          ],
          [
           null,
           null,
           null,
           null,
           null,
           null,
           null,
           null,
           null,
           null,
           null,
           null,
           null,
           null,
           null,
           null,
           null,
           null,
           null,
           null,
           null,
           null
          ]
         ]
        },
        {
         "marker": {
          "color": "black",
          "line": {
           "color": "Gray",
           "width": 2
          }
         },
         "mode": "markers",
         "name": "Feasible Trial",
         "showlegend": false,
         "type": "scatter",
         "x": [
          0.08963814947961331,
          0.2927638641320219,
          0.09148718543413979,
          0.14974658544576408,
          0.11755246954630673,
          0.10388313765805358,
          0.09804165155249696,
          0.2787294167226164,
          0.220255873090827,
          0.22630535159633947,
          0.21169390681405537,
          0.19678209670798874,
          0.050755622265699935,
          0.25341910597495737,
          0.2492227370461793,
          0.2540321220743112,
          0.17517482941220974,
          0.24251344539756334,
          0.1772853762415156,
          0.2309662767710378
         ],
         "xaxis": "x18",
         "y": [
          0.07626297851511167,
          0.05428027794037116,
          0.081282726146676,
          0.09413052181331964,
          0.08251486591627316,
          0.05455369330540957,
          0.053511034650761236,
          0.060730735710048764,
          0.058301256812667845,
          0.0827941610789718,
          0.09970555218487034,
          0.06805993621388766,
          0.07579990917816096,
          0.08750719392883521,
          0.08941007051363555,
          0.08579022507374316,
          0.06862720951718332,
          0.09156173925125795,
          0.0959038509695697,
          0.08632749664947043
         ],
         "yaxis": "y18"
        },
        {
         "colorbar": {
          "title": {
           "text": "Objective Value"
          }
         },
         "colorscale": [
          [
           0,
           "rgb(247,251,255)"
          ],
          [
           0.125,
           "rgb(222,235,247)"
          ],
          [
           0.25,
           "rgb(198,219,239)"
          ],
          [
           0.375,
           "rgb(158,202,225)"
          ],
          [
           0.5,
           "rgb(107,174,214)"
          ],
          [
           0.625,
           "rgb(66,146,198)"
          ],
          [
           0.75,
           "rgb(33,113,181)"
          ],
          [
           0.875,
           "rgb(8,81,156)"
          ],
          [
           1,
           "rgb(8,48,107)"
          ]
         ],
         "connectgaps": true,
         "contours": {
          "coloring": "heatmap"
         },
         "hoverinfo": "none",
         "line": {
          "smoothing": 1.3
         },
         "reversescale": false,
         "showscale": false,
         "type": "contour",
         "x": [
          0.03865521017238384,
          0.050755622265699935,
          0.08963814947961331,
          0.09148718543413979,
          0.09804165155249696,
          0.10388313765805358,
          0.11755246954630673,
          0.14974658544576408,
          0.17517482941220974,
          0.1772853762415156,
          0.19678209670798874,
          0.21169390681405537,
          0.220255873090827,
          0.22630535159633947,
          0.2309662767710378,
          0.24251344539756334,
          0.2492227370461793,
          0.25341910597495737,
          0.2540321220743112,
          0.2787294167226164,
          0.2927638641320219,
          0.30486427622533796
         ],
         "xaxis": "x23",
         "y": [
          9.384686279724846e-7,
          0.0000013058749679087969,
          0.000001736042667795536,
          0.000008007142110060202,
          0.000008211124436680537,
          0.000013847033101007686,
          0.0000205263024294648,
          0.000043969682567101044,
          0.00004422737553392048,
          0.00007410146874557456,
          0.0000927780379725184,
          0.00013990924775188863,
          0.00014234565307267818,
          0.00022582660202986294,
          0.0002481774075836331,
          0.00027398936815162185,
          0.00030160888447486973,
          0.00032201484653916404,
          0.0005904439778803607,
          0.000750727133825155,
          0.0009672491441006483,
          0.0013459229295081756
         ],
         "yaxis": "y23",
         "z": [
          [
           null,
           null,
           null,
           null,
           null,
           null,
           null,
           null,
           null,
           null,
           null,
           null,
           null,
           null,
           null,
           null,
           null,
           null,
           null,
           null,
           null,
           null
          ],
          [
           null,
           null,
           null,
           null,
           null,
           null,
           null,
           null,
           null,
           null,
           null,
           null,
           null,
           null,
           0.44863813229571986,
           null,
           null,
           null,
           null,
           null,
           null,
           null
          ],
          [
           null,
           0.3072322322322322,
           null,
           null,
           null,
           null,
           null,
           null,
           null,
           null,
           null,
           null,
           null,
           null,
           null,
           null,
           null,
           null,
           null,
           null,
           null,
           null
          ],
          [
           null,
           null,
           null,
           null,
           null,
           null,
           null,
           null,
           null,
           null,
           null,
           null,
           0.4426665229962466,
           null,
           null,
           null,
           null,
           null,
           null,
           null,
           null,
           null
          ],
          [
           null,
           null,
           null,
           null,
           null,
           null,
           null,
           null,
           null,
           null,
           null,
           null,
           null,
           null,
           null,
           null,
           null,
           null,
           null,
           0.4781813290287867,
           null,
           null
          ],
          [
           null,
           null,
           null,
           null,
           null,
           null,
           null,
           0.5523949920950306,
           null,
           null,
           null,
           null,
           null,
           null,
           null,
           null,
           null,
           null,
           null,
           null,
           null,
           null
          ],
          [
           null,
           null,
           null,
           null,
           null,
           null,
           null,
           null,
           null,
           null,
           null,
           null,
           null,
           null,
           null,
           0.4566934909104294,
           null,
           null,
           null,
           null,
           null,
           null
          ],
          [
           null,
           null,
           null,
           null,
           null,
           0.5829778488148188,
           null,
           null,
           null,
           null,
           null,
           null,
           null,
           null,
           null,
           null,
           null,
           null,
           null,
           null,
           null,
           null
          ],
          [
           null,
           null,
           null,
           null,
           0.6400521595821494,
           null,
           null,
           null,
           null,
           null,
           null,
           null,
           null,
           null,
           null,
           null,
           null,
           null,
           null,
           null,
           null,
           null
          ],
          [
           null,
           null,
           null,
           null,
           null,
           null,
           null,
           null,
           null,
           null,
           null,
           null,
           null,
           null,
           null,
           null,
           null,
           null,
           null,
           null,
           0.6319669345188804,
           null
          ],
          [
           null,
           null,
           null,
           0.5908786732719995,
           null,
           null,
           null,
           null,
           null,
           null,
           null,
           null,
           null,
           null,
           null,
           null,
           null,
           null,
           null,
           null,
           null,
           null
          ],
          [
           null,
           null,
           null,
           null,
           null,
           null,
           0.6616189922641535,
           null,
           null,
           null,
           null,
           null,
           null,
           null,
           null,
           null,
           null,
           null,
           null,
           null,
           null,
           null
          ],
          [
           null,
           null,
           null,
           null,
           null,
           null,
           null,
           null,
           null,
           0.7189615633680706,
           null,
           null,
           null,
           null,
           null,
           null,
           null,
           null,
           null,
           null,
           null,
           null
          ],
          [
           null,
           null,
           null,
           null,
           null,
           null,
           null,
           null,
           null,
           null,
           null,
           null,
           null,
           null,
           null,
           null,
           0.76403390490347,
           null,
           null,
           null,
           null,
           null
          ],
          [
           null,
           null,
           null,
           null,
           null,
           null,
           null,
           null,
           null,
           null,
           null,
           null,
           null,
           0.7976810923640342,
           null,
           null,
           null,
           null,
           null,
           null,
           null,
           null
          ],
          [
           null,
           null,
           null,
           null,
           null,
           null,
           null,
           null,
           null,
           null,
           null,
           null,
           null,
           null,
           null,
           null,
           null,
           0.7855914977109401,
           null,
           null,
           null,
           null
          ],
          [
           null,
           null,
           0.7778445776266433,
           null,
           null,
           null,
           null,
           null,
           null,
           null,
           null,
           null,
           null,
           null,
           null,
           null,
           null,
           null,
           null,
           null,
           null,
           null
          ],
          [
           null,
           null,
           null,
           null,
           null,
           null,
           null,
           null,
           null,
           null,
           null,
           null,
           null,
           null,
           null,
           null,
           null,
           null,
           0.7560985975519419,
           null,
           null,
           null
          ],
          [
           null,
           null,
           null,
           null,
           null,
           null,
           null,
           null,
           null,
           null,
           0.731321938031893,
           null,
           null,
           null,
           null,
           null,
           null,
           null,
           null,
           null,
           null,
           null
          ],
          [
           null,
           null,
           null,
           null,
           null,
           null,
           null,
           null,
           null,
           null,
           null,
           0.7301990406699969,
           null,
           null,
           null,
           null,
           null,
           null,
           null,
           null,
           null,
           null
          ],
          [
           null,
           null,
           null,
           null,
           null,
           null,
           null,
           null,
           0.7508266848516744,
           null,
           null,
           null,
           null,
           null,
           null,
           null,
           null,
           null,
           null,
           null,
           null,
           null
          ],
          [
           null,
           null,
           null,
           null,
           null,
           null,
           null,
           null,
           null,
           null,
           null,
           null,
           null,
           null,
           null,
           null,
           null,
           null,
           null,
           null,
           null,
           null
          ]
         ]
        },
        {
         "marker": {
          "color": "black",
          "line": {
           "color": "Gray",
           "width": 2
          }
         },
         "mode": "markers",
         "name": "Feasible Trial",
         "showlegend": false,
         "type": "scatter",
         "x": [
          0.08963814947961331,
          0.2927638641320219,
          0.09148718543413979,
          0.14974658544576408,
          0.11755246954630673,
          0.10388313765805358,
          0.09804165155249696,
          0.2787294167226164,
          0.220255873090827,
          0.22630535159633947,
          0.21169390681405537,
          0.19678209670798874,
          0.050755622265699935,
          0.25341910597495737,
          0.2492227370461793,
          0.2540321220743112,
          0.17517482941220974,
          0.24251344539756334,
          0.1772853762415156,
          0.2309662767710378
         ],
         "xaxis": "x23",
         "y": [
          0.00030160888447486973,
          0.00007410146874557456,
          0.0000927780379725184,
          0.000013847033101007686,
          0.00013990924775188863,
          0.000043969682567101044,
          0.00004422737553392048,
          0.000008211124436680537,
          0.000008007142110060202,
          0.0002481774075836331,
          0.000750727133825155,
          0.0005904439778803607,
          0.000001736042667795536,
          0.00027398936815162185,
          0.00022582660202986294,
          0.00032201484653916404,
          0.0009672491441006483,
          0.0000205263024294648,
          0.00014234565307267818,
          0.0000013058749679087969
         ],
         "yaxis": "y23"
        },
        {
         "colorbar": {
          "title": {
           "text": "Objective Value"
          }
         },
         "colorscale": [
          [
           0,
           "rgb(247,251,255)"
          ],
          [
           0.125,
           "rgb(222,235,247)"
          ],
          [
           0.25,
           "rgb(198,219,239)"
          ],
          [
           0.375,
           "rgb(158,202,225)"
          ],
          [
           0.5,
           "rgb(107,174,214)"
          ],
          [
           0.625,
           "rgb(66,146,198)"
          ],
          [
           0.75,
           "rgb(33,113,181)"
          ],
          [
           0.875,
           "rgb(8,81,156)"
          ],
          [
           1,
           "rgb(8,48,107)"
          ]
         ],
         "connectgaps": true,
         "contours": {
          "coloring": "heatmap"
         },
         "hoverinfo": "none",
         "line": {
          "smoothing": 1.3
         },
         "reversescale": false,
         "showscale": false,
         "type": "contour",
         "x": [
          0.05120130877405578,
          0.053511034650761236,
          0.05428027794037116,
          0.05455369330540957,
          0.058301256812667845,
          0.060730735710048764,
          0.06805993621388766,
          0.06862720951718332,
          0.07579990917816096,
          0.07626297851511167,
          0.081282726146676,
          0.08251486591627316,
          0.0827941610789718,
          0.08579022507374316,
          0.08632749664947043,
          0.08750719392883521,
          0.08941007051363555,
          0.09156173925125795,
          0.09413052181331964,
          0.0959038509695697,
          0.09970555218487034,
          0.1020152780615758
         ],
         "xaxis": "x4",
         "y": [
          95,
          100,
          150,
          200,
          205
         ],
         "yaxis": "y4",
         "z": [
          [
           null,
           null,
           null,
           null,
           null,
           null,
           null,
           null,
           null,
           null,
           null,
           null,
           null,
           null,
           null,
           null,
           null,
           null,
           null,
           null,
           null,
           null
          ],
          [
           null,
           null,
           0.6319669345188804,
           0.5829778488148188,
           null,
           0.4781813290287867,
           0.731321938031893,
           null,
           null,
           0.7778445776266433,
           null,
           null,
           null,
           0.7560985975519419,
           null,
           0.7855914977109401,
           null,
           null,
           null,
           0.7189615633680706,
           null,
           null
          ],
          [
           null,
           0.6400521595821494,
           null,
           null,
           null,
           null,
           null,
           null,
           null,
           null,
           0.5908786732719995,
           0.6616189922641535,
           null,
           null,
           0.44863813229571986,
           null,
           null,
           null,
           null,
           null,
           null,
           null
          ],
          [
           null,
           null,
           null,
           null,
           0.4426665229962466,
           null,
           null,
           0.7508266848516744,
           0.3072322322322322,
           null,
           null,
           null,
           0.7976810923640342,
           null,
           null,
           null,
           0.76403390490347,
           0.4566934909104294,
           0.5523949920950306,
           null,
           0.7301990406699969,
           null
          ],
          [
           null,
           null,
           null,
           null,
           null,
           null,
           null,
           null,
           null,
           null,
           null,
           null,
           null,
           null,
           null,
           null,
           null,
           null,
           null,
           null,
           null,
           null
          ]
         ]
        },
        {
         "marker": {
          "color": "black",
          "line": {
           "color": "Gray",
           "width": 2
          }
         },
         "mode": "markers",
         "name": "Feasible Trial",
         "showlegend": false,
         "type": "scatter",
         "x": [
          0.07626297851511167,
          0.05428027794037116,
          0.081282726146676,
          0.09413052181331964,
          0.08251486591627316,
          0.05455369330540957,
          0.053511034650761236,
          0.060730735710048764,
          0.058301256812667845,
          0.0827941610789718,
          0.09970555218487034,
          0.06805993621388766,
          0.07579990917816096,
          0.08750719392883521,
          0.08941007051363555,
          0.08579022507374316,
          0.06862720951718332,
          0.09156173925125795,
          0.0959038509695697,
          0.08632749664947043
         ],
         "xaxis": "x4",
         "y": [
          100,
          100,
          150,
          200,
          150,
          100,
          150,
          100,
          200,
          200,
          200,
          100,
          200,
          100,
          200,
          100,
          200,
          200,
          100,
          150
         ],
         "yaxis": "y4"
        },
        {
         "colorbar": {
          "title": {
           "text": "Objective Value"
          }
         },
         "colorscale": [
          [
           0,
           "rgb(247,251,255)"
          ],
          [
           0.125,
           "rgb(222,235,247)"
          ],
          [
           0.25,
           "rgb(198,219,239)"
          ],
          [
           0.375,
           "rgb(158,202,225)"
          ],
          [
           0.5,
           "rgb(107,174,214)"
          ],
          [
           0.625,
           "rgb(66,146,198)"
          ],
          [
           0.75,
           "rgb(33,113,181)"
          ],
          [
           0.875,
           "rgb(8,81,156)"
          ],
          [
           1,
           "rgb(8,48,107)"
          ]
         ],
         "connectgaps": true,
         "contours": {
          "coloring": "heatmap"
         },
         "hoverinfo": "none",
         "line": {
          "smoothing": 1.3
         },
         "reversescale": false,
         "showscale": false,
         "type": "contour",
         "x": [
          0.05120130877405578,
          0.053511034650761236,
          0.05428027794037116,
          0.05455369330540957,
          0.058301256812667845,
          0.060730735710048764,
          0.06805993621388766,
          0.06862720951718332,
          0.07579990917816096,
          0.07626297851511167,
          0.081282726146676,
          0.08251486591627316,
          0.0827941610789718,
          0.08579022507374316,
          0.08632749664947043,
          0.08750719392883521,
          0.08941007051363555,
          0.09156173925125795,
          0.09413052181331964,
          0.0959038509695697,
          0.09970555218487034,
          0.1020152780615758
         ],
         "xaxis": "x9",
         "y": [
          54.4,
          64,
          128,
          256,
          265.6
         ],
         "yaxis": "y9",
         "z": [
          [
           null,
           null,
           null,
           null,
           null,
           null,
           null,
           null,
           null,
           null,
           null,
           null,
           null,
           null,
           null,
           null,
           null,
           null,
           null,
           null,
           null,
           null
          ],
          [
           null,
           0.6400521595821494,
           0.6319669345188804,
           null,
           null,
           null,
           0.731321938031893,
           null,
           0.3072322322322322,
           0.7778445776266433,
           null,
           null,
           null,
           0.7560985975519419,
           null,
           0.7855914977109401,
           null,
           null,
           null,
           0.7189615633680706,
           null,
           null
          ],
          [
           null,
           null,
           null,
           null,
           null,
           0.4781813290287867,
           null,
           0.7508266848516744,
           null,
           null,
           0.5908786732719995,
           null,
           0.7976810923640342,
           null,
           null,
           null,
           0.76403390490347,
           0.4566934909104294,
           0.5523949920950306,
           null,
           0.7301990406699969,
           null
          ],
          [
           null,
           null,
           null,
           0.5829778488148188,
           0.4426665229962466,
           null,
           null,
           null,
           null,
           null,
           null,
           0.6616189922641535,
           null,
           null,
           0.44863813229571986,
           null,
           null,
           null,
           null,
           null,
           null,
           null
          ],
          [
           null,
           null,
           null,
           null,
           null,
           null,
           null,
           null,
           null,
           null,
           null,
           null,
           null,
           null,
           null,
           null,
           null,
           null,
           null,
           null,
           null,
           null
          ]
         ]
        },
        {
         "marker": {
          "color": "black",
          "line": {
           "color": "Gray",
           "width": 2
          }
         },
         "mode": "markers",
         "name": "Feasible Trial",
         "showlegend": false,
         "type": "scatter",
         "x": [
          0.07626297851511167,
          0.05428027794037116,
          0.081282726146676,
          0.09413052181331964,
          0.08251486591627316,
          0.05455369330540957,
          0.053511034650761236,
          0.060730735710048764,
          0.058301256812667845,
          0.0827941610789718,
          0.09970555218487034,
          0.06805993621388766,
          0.07579990917816096,
          0.08750719392883521,
          0.08941007051363555,
          0.08579022507374316,
          0.06862720951718332,
          0.09156173925125795,
          0.0959038509695697,
          0.08632749664947043
         ],
         "xaxis": "x9",
         "y": [
          64,
          64,
          128,
          128,
          256,
          256,
          64,
          128,
          256,
          128,
          128,
          64,
          64,
          64,
          128,
          64,
          128,
          128,
          64,
          256
         ],
         "yaxis": "y9"
        },
        {
         "colorbar": {
          "title": {
           "text": "Objective Value"
          }
         },
         "colorscale": [
          [
           0,
           "rgb(247,251,255)"
          ],
          [
           0.125,
           "rgb(222,235,247)"
          ],
          [
           0.25,
           "rgb(198,219,239)"
          ],
          [
           0.375,
           "rgb(158,202,225)"
          ],
          [
           0.5,
           "rgb(107,174,214)"
          ],
          [
           0.625,
           "rgb(66,146,198)"
          ],
          [
           0.75,
           "rgb(33,113,181)"
          ],
          [
           0.875,
           "rgb(8,81,156)"
          ],
          [
           1,
           "rgb(8,48,107)"
          ]
         ],
         "connectgaps": true,
         "contours": {
          "coloring": "heatmap"
         },
         "hoverinfo": "none",
         "line": {
          "smoothing": 1.3
         },
         "reversescale": false,
         "showscale": false,
         "type": "contour",
         "x": [
          0.05120130877405578,
          0.053511034650761236,
          0.05428027794037116,
          0.05455369330540957,
          0.058301256812667845,
          0.060730735710048764,
          0.06805993621388766,
          0.06862720951718332,
          0.07579990917816096,
          0.07626297851511167,
          0.081282726146676,
          0.08251486591627316,
          0.0827941610789718,
          0.08579022507374316,
          0.08632749664947043,
          0.08750719392883521,
          0.08941007051363555,
          0.09156173925125795,
          0.09413052181331964,
          0.0959038509695697,
          0.09970555218487034,
          0.1020152780615758
         ],
         "xaxis": "x14",
         "y": [
          0.03865521017238384,
          0.050755622265699935,
          0.08963814947961331,
          0.09148718543413979,
          0.09804165155249696,
          0.10388313765805358,
          0.11755246954630673,
          0.14974658544576408,
          0.17517482941220974,
          0.1772853762415156,
          0.19678209670798874,
          0.21169390681405537,
          0.220255873090827,
          0.22630535159633947,
          0.2309662767710378,
          0.24251344539756334,
          0.2492227370461793,
          0.25341910597495737,
          0.2540321220743112,
          0.2787294167226164,
          0.2927638641320219,
          0.30486427622533796
         ],
         "yaxis": "y14",
         "z": [
          [
           null,
           null,
           null,
           null,
           null,
           null,
           null,
           null,
           null,
           null,
           null,
           null,
           null,
           null,
           null,
           null,
           null,
           null,
           null,
           null,
           null,
           null
          ],
          [
           null,
           null,
           null,
           null,
           null,
           null,
           null,
           null,
           0.3072322322322322,
           null,
           null,
           null,
           null,
           null,
           null,
           null,
           null,
           null,
           null,
           null,
           null,
           null
          ],
          [
           null,
           null,
           null,
           null,
           null,
           null,
           null,
           null,
           null,
           0.7778445776266433,
           null,
           null,
           null,
           null,
           null,
           null,
           null,
           null,
           null,
           null,
           null,
           null
          ],
          [
           null,
           null,
           null,
           null,
           null,
           null,
           null,
           null,
           null,
           null,
           0.5908786732719995,
           null,
           null,
           null,
           null,
           null,
           null,
           null,
           null,
           null,
           null,
           null
          ],
          [
           null,
           0.6400521595821494,
           null,
           null,
           null,
           null,
           null,
           null,
           null,
           null,
           null,
           null,
           null,
           null,
           null,
           null,
           null,
           null,
           null,
           null,
           null,
           null
          ],
          [
           null,
           null,
           null,
           0.5829778488148188,
           null,
           null,
           null,
           null,
           null,
           null,
           null,
           null,
           null,
           null,
           null,
           null,
           null,
           null,
           null,
           null,
           null,
           null
          ],
          [
           null,
           null,
           null,
           null,
           null,
           null,
           null,
           null,
           null,
           null,
           null,
           0.6616189922641535,
           null,
           null,
           null,
           null,
           null,
           null,
           null,
           null,
           null,
           null
          ],
          [
           null,
           null,
           null,
           null,
           null,
           null,
           null,
           null,
           null,
           null,
           null,
           null,
           null,
           null,
           null,
           null,
           null,
           null,
           0.5523949920950306,
           null,
           null,
           null
          ],
          [
           null,
           null,
           null,
           null,
           null,
           null,
           null,
           0.7508266848516744,
           null,
           null,
           null,
           null,
           null,
           null,
           null,
           null,
           null,
           null,
           null,
           null,
           null,
           null
          ],
          [
           null,
           null,
           null,
           null,
           null,
           null,
           null,
           null,
           null,
           null,
           null,
           null,
           null,
           null,
           null,
           null,
           null,
           null,
           null,
           0.7189615633680706,
           null,
           null
          ],
          [
           null,
           null,
           null,
           null,
           null,
           null,
           0.731321938031893,
           null,
           null,
           null,
           null,
           null,
           null,
           null,
           null,
           null,
           null,
           null,
           null,
           null,
           null,
           null
          ],
          [
           null,
           null,
           null,
           null,
           null,
           null,
           null,
           null,
           null,
           null,
           null,
           null,
           null,
           null,
           null,
           null,
           null,
           null,
           null,
           null,
           0.7301990406699969,
           null
          ],
          [
           null,
           null,
           null,
           null,
           0.4426665229962466,
           null,
           null,
           null,
           null,
           null,
           null,
           null,
           null,
           null,
           null,
           null,
           null,
           null,
           null,
           null,
           null,
           null
          ],
          [
           null,
           null,
           null,
           null,
           null,
           null,
           null,
           null,
           null,
           null,
           null,
           null,
           0.7976810923640342,
           null,
           null,
           null,
           null,
           null,
           null,
           null,
           null,
           null
          ],
          [
           null,
           null,
           null,
           null,
           null,
           null,
           null,
           null,
           null,
           null,
           null,
           null,
           null,
           null,
           0.44863813229571986,
           null,
           null,
           null,
           null,
           null,
           null,
           null
          ],
          [
           null,
           null,
           null,
           null,
           null,
           null,
           null,
           null,
           null,
           null,
           null,
           null,
           null,
           null,
           null,
           null,
           null,
           0.4566934909104294,
           null,
           null,
           null,
           null
          ],
          [
           null,
           null,
           null,
           null,
           null,
           null,
           null,
           null,
           null,
           null,
           null,
           null,
           null,
           null,
           null,
           null,
           0.76403390490347,
           null,
           null,
           null,
           null,
           null
          ],
          [
           null,
           null,
           null,
           null,
           null,
           null,
           null,
           null,
           null,
           null,
           null,
           null,
           null,
           null,
           null,
           0.7855914977109401,
           null,
           null,
           null,
           null,
           null,
           null
          ],
          [
           null,
           null,
           null,
           null,
           null,
           null,
           null,
           null,
           null,
           null,
           null,
           null,
           null,
           0.7560985975519419,
           null,
           null,
           null,
           null,
           null,
           null,
           null,
           null
          ],
          [
           null,
           null,
           null,
           null,
           null,
           0.4781813290287867,
           null,
           null,
           null,
           null,
           null,
           null,
           null,
           null,
           null,
           null,
           null,
           null,
           null,
           null,
           null,
           null
          ],
          [
           null,
           null,
           0.6319669345188804,
           null,
           null,
           null,
           null,
           null,
           null,
           null,
           null,
           null,
           null,
           null,
           null,
           null,
           null,
           null,
           null,
           null,
           null,
           null
          ],
          [
           null,
           null,
           null,
           null,
           null,
           null,
           null,
           null,
           null,
           null,
           null,
           null,
           null,
           null,
           null,
           null,
           null,
           null,
           null,
           null,
           null,
           null
          ]
         ]
        },
        {
         "marker": {
          "color": "black",
          "line": {
           "color": "Gray",
           "width": 2
          }
         },
         "mode": "markers",
         "name": "Feasible Trial",
         "showlegend": false,
         "type": "scatter",
         "x": [
          0.07626297851511167,
          0.05428027794037116,
          0.081282726146676,
          0.09413052181331964,
          0.08251486591627316,
          0.05455369330540957,
          0.053511034650761236,
          0.060730735710048764,
          0.058301256812667845,
          0.0827941610789718,
          0.09970555218487034,
          0.06805993621388766,
          0.07579990917816096,
          0.08750719392883521,
          0.08941007051363555,
          0.08579022507374316,
          0.06862720951718332,
          0.09156173925125795,
          0.0959038509695697,
          0.08632749664947043
         ],
         "xaxis": "x14",
         "y": [
          0.08963814947961331,
          0.2927638641320219,
          0.09148718543413979,
          0.14974658544576408,
          0.11755246954630673,
          0.10388313765805358,
          0.09804165155249696,
          0.2787294167226164,
          0.220255873090827,
          0.22630535159633947,
          0.21169390681405537,
          0.19678209670798874,
          0.050755622265699935,
          0.25341910597495737,
          0.2492227370461793,
          0.2540321220743112,
          0.17517482941220974,
          0.24251344539756334,
          0.1772853762415156,
          0.2309662767710378
         ],
         "yaxis": "y14"
        },
        {
         "type": "scatter",
         "xaxis": "x19",
         "yaxis": "y19"
        },
        {
         "colorbar": {
          "title": {
           "text": "Objective Value"
          }
         },
         "colorscale": [
          [
           0,
           "rgb(247,251,255)"
          ],
          [
           0.125,
           "rgb(222,235,247)"
          ],
          [
           0.25,
           "rgb(198,219,239)"
          ],
          [
           0.375,
           "rgb(158,202,225)"
          ],
          [
           0.5,
           "rgb(107,174,214)"
          ],
          [
           0.625,
           "rgb(66,146,198)"
          ],
          [
           0.75,
           "rgb(33,113,181)"
          ],
          [
           0.875,
           "rgb(8,81,156)"
          ],
          [
           1,
           "rgb(8,48,107)"
          ]
         ],
         "connectgaps": true,
         "contours": {
          "coloring": "heatmap"
         },
         "hoverinfo": "none",
         "line": {
          "smoothing": 1.3
         },
         "reversescale": false,
         "showscale": false,
         "type": "contour",
         "x": [
          0.05120130877405578,
          0.053511034650761236,
          0.05428027794037116,
          0.05455369330540957,
          0.058301256812667845,
          0.060730735710048764,
          0.06805993621388766,
          0.06862720951718332,
          0.07579990917816096,
          0.07626297851511167,
          0.081282726146676,
          0.08251486591627316,
          0.0827941610789718,
          0.08579022507374316,
          0.08632749664947043,
          0.08750719392883521,
          0.08941007051363555,
          0.09156173925125795,
          0.09413052181331964,
          0.0959038509695697,
          0.09970555218487034,
          0.1020152780615758
         ],
         "xaxis": "x24",
         "y": [
          9.384686279724846e-7,
          0.0000013058749679087969,
          0.000001736042667795536,
          0.000008007142110060202,
          0.000008211124436680537,
          0.000013847033101007686,
          0.0000205263024294648,
          0.000043969682567101044,
          0.00004422737553392048,
          0.00007410146874557456,
          0.0000927780379725184,
          0.00013990924775188863,
          0.00014234565307267818,
          0.00022582660202986294,
          0.0002481774075836331,
          0.00027398936815162185,
          0.00030160888447486973,
          0.00032201484653916404,
          0.0005904439778803607,
          0.000750727133825155,
          0.0009672491441006483,
          0.0013459229295081756
         ],
         "yaxis": "y24",
         "z": [
          [
           null,
           null,
           null,
           null,
           null,
           null,
           null,
           null,
           null,
           null,
           null,
           null,
           null,
           null,
           null,
           null,
           null,
           null,
           null,
           null,
           null,
           null
          ],
          [
           null,
           null,
           null,
           null,
           null,
           null,
           null,
           null,
           null,
           null,
           null,
           null,
           null,
           null,
           0.44863813229571986,
           null,
           null,
           null,
           null,
           null,
           null,
           null
          ],
          [
           null,
           null,
           null,
           null,
           null,
           null,
           null,
           null,
           0.3072322322322322,
           null,
           null,
           null,
           null,
           null,
           null,
           null,
           null,
           null,
           null,
           null,
           null,
           null
          ],
          [
           null,
           null,
           null,
           null,
           0.4426665229962466,
           null,
           null,
           null,
           null,
           null,
           null,
           null,
           null,
           null,
           null,
           null,
           null,
           null,
           null,
           null,
           null,
           null
          ],
          [
           null,
           null,
           null,
           null,
           null,
           0.4781813290287867,
           null,
           null,
           null,
           null,
           null,
           null,
           null,
           null,
           null,
           null,
           null,
           null,
           null,
           null,
           null,
           null
          ],
          [
           null,
           null,
           null,
           null,
           null,
           null,
           null,
           null,
           null,
           null,
           null,
           null,
           null,
           null,
           null,
           null,
           null,
           null,
           0.5523949920950306,
           null,
           null,
           null
          ],
          [
           null,
           null,
           null,
           null,
           null,
           null,
           null,
           null,
           null,
           null,
           null,
           null,
           null,
           null,
           null,
           null,
           null,
           0.4566934909104294,
           null,
           null,
           null,
           null
          ],
          [
           null,
           null,
           null,
           0.5829778488148188,
           null,
           null,
           null,
           null,
           null,
           null,
           null,
           null,
           null,
           null,
           null,
           null,
           null,
           null,
           null,
           null,
           null,
           null
          ],
          [
           null,
           0.6400521595821494,
           null,
           null,
           null,
           null,
           null,
           null,
           null,
           null,
           null,
           null,
           null,
           null,
           null,
           null,
           null,
           null,
           null,
           null,
           null,
           null
          ],
          [
           null,
           null,
           0.6319669345188804,
           null,
           null,
           null,
           null,
           null,
           null,
           null,
           null,
           null,
           null,
           null,
           null,
           null,
           null,
           null,
           null,
           null,
           null,
           null
          ],
          [
           null,
           null,
           null,
           null,
           null,
           null,
           null,
           null,
           null,
           null,
           0.5908786732719995,
           null,
           null,
           null,
           null,
           null,
           null,
           null,
           null,
           null,
           null,
           null
          ],
          [
           null,
           null,
           null,
           null,
           null,
           null,
           null,
           null,
           null,
           null,
           null,
           0.6616189922641535,
           null,
           null,
           null,
           null,
           null,
           null,
           null,
           null,
           null,
           null
          ],
          [
           null,
           null,
           null,
           null,
           null,
           null,
           null,
           null,
           null,
           null,
           null,
           null,
           null,
           null,
           null,
           null,
           null,
           null,
           null,
           0.7189615633680706,
           null,
           null
          ],
          [
           null,
           null,
           null,
           null,
           null,
           null,
           null,
           null,
           null,
           null,
           null,
           null,
           null,
           null,
           null,
           null,
           0.76403390490347,
           null,
           null,
           null,
           null,
           null
          ],
          [
           null,
           null,
           null,
           null,
           null,
           null,
           null,
           null,
           null,
           null,
           null,
           null,
           0.7976810923640342,
           null,
           null,
           null,
           null,
           null,
           null,
           null,
           null,
           null
          ],
          [
           null,
           null,
           null,
           null,
           null,
           null,
           null,
           null,
           null,
           null,
           null,
           null,
           null,
           null,
           null,
           0.7855914977109401,
           null,
           null,
           null,
           null,
           null,
           null
          ],
          [
           null,
           null,
           null,
           null,
           null,
           null,
           null,
           null,
           null,
           0.7778445776266433,
           null,
           null,
           null,
           null,
           null,
           null,
           null,
           null,
           null,
           null,
           null,
           null
          ],
          [
           null,
           null,
           null,
           null,
           null,
           null,
           null,
           null,
           null,
           null,
           null,
           null,
           null,
           0.7560985975519419,
           null,
           null,
           null,
           null,
           null,
           null,
           null,
           null
          ],
          [
           null,
           null,
           null,
           null,
           null,
           null,
           0.731321938031893,
           null,
           null,
           null,
           null,
           null,
           null,
           null,
           null,
           null,
           null,
           null,
           null,
           null,
           null,
           null
          ],
          [
           null,
           null,
           null,
           null,
           null,
           null,
           null,
           null,
           null,
           null,
           null,
           null,
           null,
           null,
           null,
           null,
           null,
           null,
           null,
           null,
           0.7301990406699969,
           null
          ],
          [
           null,
           null,
           null,
           null,
           null,
           null,
           null,
           0.7508266848516744,
           null,
           null,
           null,
           null,
           null,
           null,
           null,
           null,
           null,
           null,
           null,
           null,
           null,
           null
          ],
          [
           null,
           null,
           null,
           null,
           null,
           null,
           null,
           null,
           null,
           null,
           null,
           null,
           null,
           null,
           null,
           null,
           null,
           null,
           null,
           null,
           null,
           null
          ]
         ]
        },
        {
         "marker": {
          "color": "black",
          "line": {
           "color": "Gray",
           "width": 2
          }
         },
         "mode": "markers",
         "name": "Feasible Trial",
         "showlegend": false,
         "type": "scatter",
         "x": [
          0.07626297851511167,
          0.05428027794037116,
          0.081282726146676,
          0.09413052181331964,
          0.08251486591627316,
          0.05455369330540957,
          0.053511034650761236,
          0.060730735710048764,
          0.058301256812667845,
          0.0827941610789718,
          0.09970555218487034,
          0.06805993621388766,
          0.07579990917816096,
          0.08750719392883521,
          0.08941007051363555,
          0.08579022507374316,
          0.06862720951718332,
          0.09156173925125795,
          0.0959038509695697,
          0.08632749664947043
         ],
         "xaxis": "x24",
         "y": [
          0.00030160888447486973,
          0.00007410146874557456,
          0.0000927780379725184,
          0.000013847033101007686,
          0.00013990924775188863,
          0.000043969682567101044,
          0.00004422737553392048,
          0.000008211124436680537,
          0.000008007142110060202,
          0.0002481774075836331,
          0.000750727133825155,
          0.0005904439778803607,
          0.000001736042667795536,
          0.00027398936815162185,
          0.00022582660202986294,
          0.00032201484653916404,
          0.0009672491441006483,
          0.0000205263024294648,
          0.00014234565307267818,
          0.0000013058749679087969
         ],
         "yaxis": "y24"
        },
        {
         "colorbar": {
          "title": {
           "text": "Objective Value"
          }
         },
         "colorscale": [
          [
           0,
           "rgb(247,251,255)"
          ],
          [
           0.125,
           "rgb(222,235,247)"
          ],
          [
           0.25,
           "rgb(198,219,239)"
          ],
          [
           0.375,
           "rgb(158,202,225)"
          ],
          [
           0.5,
           "rgb(107,174,214)"
          ],
          [
           0.625,
           "rgb(66,146,198)"
          ],
          [
           0.75,
           "rgb(33,113,181)"
          ],
          [
           0.875,
           "rgb(8,81,156)"
          ],
          [
           1,
           "rgb(8,48,107)"
          ]
         ],
         "connectgaps": true,
         "contours": {
          "coloring": "heatmap"
         },
         "hoverinfo": "none",
         "line": {
          "smoothing": 1.3
         },
         "reversescale": false,
         "showscale": false,
         "type": "contour",
         "x": [
          9.384686279724846e-7,
          0.0000013058749679087969,
          0.000001736042667795536,
          0.000008007142110060202,
          0.000008211124436680537,
          0.000013847033101007686,
          0.0000205263024294648,
          0.000043969682567101044,
          0.00004422737553392048,
          0.00007410146874557456,
          0.0000927780379725184,
          0.00013990924775188863,
          0.00014234565307267818,
          0.00022582660202986294,
          0.0002481774075836331,
          0.00027398936815162185,
          0.00030160888447486973,
          0.00032201484653916404,
          0.0005904439778803607,
          0.000750727133825155,
          0.0009672491441006483,
          0.0013459229295081756
         ],
         "xaxis": "x5",
         "y": [
          95,
          100,
          150,
          200,
          205
         ],
         "yaxis": "y5",
         "z": [
          [
           null,
           null,
           null,
           null,
           null,
           null,
           null,
           null,
           null,
           null,
           null,
           null,
           null,
           null,
           null,
           null,
           null,
           null,
           null,
           null,
           null,
           null
          ],
          [
           null,
           null,
           null,
           null,
           0.4781813290287867,
           null,
           null,
           0.5829778488148188,
           null,
           0.6319669345188804,
           null,
           null,
           0.7189615633680706,
           null,
           null,
           0.7855914977109401,
           0.7778445776266433,
           0.7560985975519419,
           0.731321938031893,
           null,
           null,
           null
          ],
          [
           null,
           0.44863813229571986,
           null,
           null,
           null,
           null,
           null,
           null,
           0.6400521595821494,
           null,
           0.5908786732719995,
           0.6616189922641535,
           null,
           null,
           null,
           null,
           null,
           null,
           null,
           null,
           null,
           null
          ],
          [
           null,
           null,
           0.3072322322322322,
           0.4426665229962466,
           null,
           0.5523949920950306,
           0.4566934909104294,
           null,
           null,
           null,
           null,
           null,
           null,
           0.76403390490347,
           0.7976810923640342,
           null,
           null,
           null,
           null,
           0.7301990406699969,
           0.7508266848516744,
           null
          ],
          [
           null,
           null,
           null,
           null,
           null,
           null,
           null,
           null,
           null,
           null,
           null,
           null,
           null,
           null,
           null,
           null,
           null,
           null,
           null,
           null,
           null,
           null
          ]
         ]
        },
        {
         "marker": {
          "color": "black",
          "line": {
           "color": "Gray",
           "width": 2
          }
         },
         "mode": "markers",
         "name": "Feasible Trial",
         "showlegend": false,
         "type": "scatter",
         "x": [
          0.00030160888447486973,
          0.00007410146874557456,
          0.0000927780379725184,
          0.000013847033101007686,
          0.00013990924775188863,
          0.000043969682567101044,
          0.00004422737553392048,
          0.000008211124436680537,
          0.000008007142110060202,
          0.0002481774075836331,
          0.000750727133825155,
          0.0005904439778803607,
          0.000001736042667795536,
          0.00027398936815162185,
          0.00022582660202986294,
          0.00032201484653916404,
          0.0009672491441006483,
          0.0000205263024294648,
          0.00014234565307267818,
          0.0000013058749679087969
         ],
         "xaxis": "x5",
         "y": [
          100,
          100,
          150,
          200,
          150,
          100,
          150,
          100,
          200,
          200,
          200,
          100,
          200,
          100,
          200,
          100,
          200,
          200,
          100,
          150
         ],
         "yaxis": "y5"
        },
        {
         "colorbar": {
          "title": {
           "text": "Objective Value"
          }
         },
         "colorscale": [
          [
           0,
           "rgb(247,251,255)"
          ],
          [
           0.125,
           "rgb(222,235,247)"
          ],
          [
           0.25,
           "rgb(198,219,239)"
          ],
          [
           0.375,
           "rgb(158,202,225)"
          ],
          [
           0.5,
           "rgb(107,174,214)"
          ],
          [
           0.625,
           "rgb(66,146,198)"
          ],
          [
           0.75,
           "rgb(33,113,181)"
          ],
          [
           0.875,
           "rgb(8,81,156)"
          ],
          [
           1,
           "rgb(8,48,107)"
          ]
         ],
         "connectgaps": true,
         "contours": {
          "coloring": "heatmap"
         },
         "hoverinfo": "none",
         "line": {
          "smoothing": 1.3
         },
         "reversescale": false,
         "showscale": false,
         "type": "contour",
         "x": [
          9.384686279724846e-7,
          0.0000013058749679087969,
          0.000001736042667795536,
          0.000008007142110060202,
          0.000008211124436680537,
          0.000013847033101007686,
          0.0000205263024294648,
          0.000043969682567101044,
          0.00004422737553392048,
          0.00007410146874557456,
          0.0000927780379725184,
          0.00013990924775188863,
          0.00014234565307267818,
          0.00022582660202986294,
          0.0002481774075836331,
          0.00027398936815162185,
          0.00030160888447486973,
          0.00032201484653916404,
          0.0005904439778803607,
          0.000750727133825155,
          0.0009672491441006483,
          0.0013459229295081756
         ],
         "xaxis": "x10",
         "y": [
          54.4,
          64,
          128,
          256,
          265.6
         ],
         "yaxis": "y10",
         "z": [
          [
           null,
           null,
           null,
           null,
           null,
           null,
           null,
           null,
           null,
           null,
           null,
           null,
           null,
           null,
           null,
           null,
           null,
           null,
           null,
           null,
           null,
           null
          ],
          [
           null,
           null,
           0.3072322322322322,
           null,
           null,
           null,
           null,
           null,
           0.6400521595821494,
           0.6319669345188804,
           null,
           null,
           0.7189615633680706,
           null,
           null,
           0.7855914977109401,
           0.7778445776266433,
           0.7560985975519419,
           0.731321938031893,
           null,
           null,
           null
          ],
          [
           null,
           null,
           null,
           null,
           0.4781813290287867,
           0.5523949920950306,
           0.4566934909104294,
           null,
           null,
           null,
           0.5908786732719995,
           null,
           null,
           0.76403390490347,
           0.7976810923640342,
           null,
           null,
           null,
           null,
           0.7301990406699969,
           0.7508266848516744,
           null
          ],
          [
           null,
           0.44863813229571986,
           null,
           0.4426665229962466,
           null,
           null,
           null,
           0.5829778488148188,
           null,
           null,
           null,
           0.6616189922641535,
           null,
           null,
           null,
           null,
           null,
           null,
           null,
           null,
           null,
           null
          ],
          [
           null,
           null,
           null,
           null,
           null,
           null,
           null,
           null,
           null,
           null,
           null,
           null,
           null,
           null,
           null,
           null,
           null,
           null,
           null,
           null,
           null,
           null
          ]
         ]
        },
        {
         "marker": {
          "color": "black",
          "line": {
           "color": "Gray",
           "width": 2
          }
         },
         "mode": "markers",
         "name": "Feasible Trial",
         "showlegend": false,
         "type": "scatter",
         "x": [
          0.00030160888447486973,
          0.00007410146874557456,
          0.0000927780379725184,
          0.000013847033101007686,
          0.00013990924775188863,
          0.000043969682567101044,
          0.00004422737553392048,
          0.000008211124436680537,
          0.000008007142110060202,
          0.0002481774075836331,
          0.000750727133825155,
          0.0005904439778803607,
          0.000001736042667795536,
          0.00027398936815162185,
          0.00022582660202986294,
          0.00032201484653916404,
          0.0009672491441006483,
          0.0000205263024294648,
          0.00014234565307267818,
          0.0000013058749679087969
         ],
         "xaxis": "x10",
         "y": [
          64,
          64,
          128,
          128,
          256,
          256,
          64,
          128,
          256,
          128,
          128,
          64,
          64,
          64,
          128,
          64,
          128,
          128,
          64,
          256
         ],
         "yaxis": "y10"
        },
        {
         "colorbar": {
          "title": {
           "text": "Objective Value"
          }
         },
         "colorscale": [
          [
           0,
           "rgb(247,251,255)"
          ],
          [
           0.125,
           "rgb(222,235,247)"
          ],
          [
           0.25,
           "rgb(198,219,239)"
          ],
          [
           0.375,
           "rgb(158,202,225)"
          ],
          [
           0.5,
           "rgb(107,174,214)"
          ],
          [
           0.625,
           "rgb(66,146,198)"
          ],
          [
           0.75,
           "rgb(33,113,181)"
          ],
          [
           0.875,
           "rgb(8,81,156)"
          ],
          [
           1,
           "rgb(8,48,107)"
          ]
         ],
         "connectgaps": true,
         "contours": {
          "coloring": "heatmap"
         },
         "hoverinfo": "none",
         "line": {
          "smoothing": 1.3
         },
         "reversescale": false,
         "showscale": false,
         "type": "contour",
         "x": [
          9.384686279724846e-7,
          0.0000013058749679087969,
          0.000001736042667795536,
          0.000008007142110060202,
          0.000008211124436680537,
          0.000013847033101007686,
          0.0000205263024294648,
          0.000043969682567101044,
          0.00004422737553392048,
          0.00007410146874557456,
          0.0000927780379725184,
          0.00013990924775188863,
          0.00014234565307267818,
          0.00022582660202986294,
          0.0002481774075836331,
          0.00027398936815162185,
          0.00030160888447486973,
          0.00032201484653916404,
          0.0005904439778803607,
          0.000750727133825155,
          0.0009672491441006483,
          0.0013459229295081756
         ],
         "xaxis": "x15",
         "y": [
          0.03865521017238384,
          0.050755622265699935,
          0.08963814947961331,
          0.09148718543413979,
          0.09804165155249696,
          0.10388313765805358,
          0.11755246954630673,
          0.14974658544576408,
          0.17517482941220974,
          0.1772853762415156,
          0.19678209670798874,
          0.21169390681405537,
          0.220255873090827,
          0.22630535159633947,
          0.2309662767710378,
          0.24251344539756334,
          0.2492227370461793,
          0.25341910597495737,
          0.2540321220743112,
          0.2787294167226164,
          0.2927638641320219,
          0.30486427622533796
         ],
         "yaxis": "y15",
         "z": [
          [
           null,
           null,
           null,
           null,
           null,
           null,
           null,
           null,
           null,
           null,
           null,
           null,
           null,
           null,
           null,
           null,
           null,
           null,
           null,
           null,
           null,
           null
          ],
          [
           null,
           null,
           0.3072322322322322,
           null,
           null,
           null,
           null,
           null,
           null,
           null,
           null,
           null,
           null,
           null,
           null,
           null,
           null,
           null,
           null,
           null,
           null,
           null
          ],
          [
           null,
           null,
           null,
           null,
           null,
           null,
           null,
           null,
           null,
           null,
           null,
           null,
           null,
           null,
           null,
           null,
           0.7778445776266433,
           null,
           null,
           null,
           null,
           null
          ],
          [
           null,
           null,
           null,
           null,
           null,
           null,
           null,
           null,
           null,
           null,
           0.5908786732719995,
           null,
           null,
           null,
           null,
           null,
           null,
           null,
           null,
           null,
           null,
           null
          ],
          [
           null,
           null,
           null,
           null,
           null,
           null,
           null,
           null,
           0.6400521595821494,
           null,
           null,
           null,
           null,
           null,
           null,
           null,
           null,
           null,
           null,
           null,
           null,
           null
          ],
          [
           null,
           null,
           null,
           null,
           null,
           null,
           null,
           0.5829778488148188,
           null,
           null,
           null,
           null,
           null,
           null,
           null,
           null,
           null,
           null,
           null,
           null,
           null,
           null
          ],
          [
           null,
           null,
           null,
           null,
           null,
           null,
           null,
           null,
           null,
           null,
           null,
           0.6616189922641535,
           null,
           null,
           null,
           null,
           null,
           null,
           null,
           null,
           null,
           null
          ],
          [
           null,
           null,
           null,
           null,
           null,
           0.5523949920950306,
           null,
           null,
           null,
           null,
           null,
           null,
           null,
           null,
           null,
           null,
           null,
           null,
           null,
           null,
           null,
           null
          ],
          [
           null,
           null,
           null,
           null,
           null,
           null,
           null,
           null,
           null,
           null,
           null,
           null,
           null,
           null,
           null,
           null,
           null,
           null,
           null,
           null,
           0.7508266848516744,
           null
          ],
          [
           null,
           null,
           null,
           null,
           null,
           null,
           null,
           null,
           null,
           null,
           null,
           null,
           0.7189615633680706,
           null,
           null,
           null,
           null,
           null,
           null,
           null,
           null,
           null
          ],
          [
           null,
           null,
           null,
           null,
           null,
           null,
           null,
           null,
           null,
           null,
           null,
           null,
           null,
           null,
           null,
           null,
           null,
           null,
           0.731321938031893,
           null,
           null,
           null
          ],
          [
           null,
           null,
           null,
           null,
           null,
           null,
           null,
           null,
           null,
           null,
           null,
           null,
           null,
           null,
           null,
           null,
           null,
           null,
           null,
           0.7301990406699969,
           null,
           null
          ],
          [
           null,
           null,
           null,
           0.4426665229962466,
           null,
           null,
           null,
           null,
           null,
           null,
           null,
           null,
           null,
           null,
           null,
           null,
           null,
           null,
           null,
           null,
           null,
           null
          ],
          [
           null,
           null,
           null,
           null,
           null,
           null,
           null,
           null,
           null,
           null,
           null,
           null,
           null,
           null,
           0.7976810923640342,
           null,
           null,
           null,
           null,
           null,
           null,
           null
          ],
          [
           null,
           0.44863813229571986,
           null,
           null,
           null,
           null,
           null,
           null,
           null,
           null,
           null,
           null,
           null,
           null,
           null,
           null,
           null,
           null,
           null,
           null,
           null,
           null
          ],
          [
           null,
           null,
           null,
           null,
           null,
           null,
           0.4566934909104294,
           null,
           null,
           null,
           null,
           null,
           null,
           null,
           null,
           null,
           null,
           null,
           null,
           null,
           null,
           null
          ],
          [
           null,
           null,
           null,
           null,
           null,
           null,
           null,
           null,
           null,
           null,
           null,
           null,
           null,
           0.76403390490347,
           null,
           null,
           null,
           null,
           null,
           null,
           null,
           null
          ],
          [
           null,
           null,
           null,
           null,
           null,
           null,
           null,
           null,
           null,
           null,
           null,
           null,
           null,
           null,
           null,
           0.7855914977109401,
           null,
           null,
           null,
           null,
           null,
           null
          ],
          [
           null,
           null,
           null,
           null,
           null,
           null,
           null,
           null,
           null,
           null,
           null,
           null,
           null,
           null,
           null,
           null,
           null,
           0.7560985975519419,
           null,
           null,
           null,
           null
          ],
          [
           null,
           null,
           null,
           null,
           0.4781813290287867,
           null,
           null,
           null,
           null,
           null,
           null,
           null,
           null,
           null,
           null,
           null,
           null,
           null,
           null,
           null,
           null,
           null
          ],
          [
           null,
           null,
           null,
           null,
           null,
           null,
           null,
           null,
           null,
           0.6319669345188804,
           null,
           null,
           null,
           null,
           null,
           null,
           null,
           null,
           null,
           null,
           null,
           null
          ],
          [
           null,
           null,
           null,
           null,
           null,
           null,
           null,
           null,
           null,
           null,
           null,
           null,
           null,
           null,
           null,
           null,
           null,
           null,
           null,
           null,
           null,
           null
          ]
         ]
        },
        {
         "marker": {
          "color": "black",
          "line": {
           "color": "Gray",
           "width": 2
          }
         },
         "mode": "markers",
         "name": "Feasible Trial",
         "showlegend": false,
         "type": "scatter",
         "x": [
          0.00030160888447486973,
          0.00007410146874557456,
          0.0000927780379725184,
          0.000013847033101007686,
          0.00013990924775188863,
          0.000043969682567101044,
          0.00004422737553392048,
          0.000008211124436680537,
          0.000008007142110060202,
          0.0002481774075836331,
          0.000750727133825155,
          0.0005904439778803607,
          0.000001736042667795536,
          0.00027398936815162185,
          0.00022582660202986294,
          0.00032201484653916404,
          0.0009672491441006483,
          0.0000205263024294648,
          0.00014234565307267818,
          0.0000013058749679087969
         ],
         "xaxis": "x15",
         "y": [
          0.08963814947961331,
          0.2927638641320219,
          0.09148718543413979,
          0.14974658544576408,
          0.11755246954630673,
          0.10388313765805358,
          0.09804165155249696,
          0.2787294167226164,
          0.220255873090827,
          0.22630535159633947,
          0.21169390681405537,
          0.19678209670798874,
          0.050755622265699935,
          0.25341910597495737,
          0.2492227370461793,
          0.2540321220743112,
          0.17517482941220974,
          0.24251344539756334,
          0.1772853762415156,
          0.2309662767710378
         ],
         "yaxis": "y15"
        },
        {
         "colorbar": {
          "title": {
           "text": "Objective Value"
          }
         },
         "colorscale": [
          [
           0,
           "rgb(247,251,255)"
          ],
          [
           0.125,
           "rgb(222,235,247)"
          ],
          [
           0.25,
           "rgb(198,219,239)"
          ],
          [
           0.375,
           "rgb(158,202,225)"
          ],
          [
           0.5,
           "rgb(107,174,214)"
          ],
          [
           0.625,
           "rgb(66,146,198)"
          ],
          [
           0.75,
           "rgb(33,113,181)"
          ],
          [
           0.875,
           "rgb(8,81,156)"
          ],
          [
           1,
           "rgb(8,48,107)"
          ]
         ],
         "connectgaps": true,
         "contours": {
          "coloring": "heatmap"
         },
         "hoverinfo": "none",
         "line": {
          "smoothing": 1.3
         },
         "reversescale": false,
         "showscale": false,
         "type": "contour",
         "x": [
          9.384686279724846e-7,
          0.0000013058749679087969,
          0.000001736042667795536,
          0.000008007142110060202,
          0.000008211124436680537,
          0.000013847033101007686,
          0.0000205263024294648,
          0.000043969682567101044,
          0.00004422737553392048,
          0.00007410146874557456,
          0.0000927780379725184,
          0.00013990924775188863,
          0.00014234565307267818,
          0.00022582660202986294,
          0.0002481774075836331,
          0.00027398936815162185,
          0.00030160888447486973,
          0.00032201484653916404,
          0.0005904439778803607,
          0.000750727133825155,
          0.0009672491441006483,
          0.0013459229295081756
         ],
         "xaxis": "x20",
         "y": [
          0.05120130877405578,
          0.053511034650761236,
          0.05428027794037116,
          0.05455369330540957,
          0.058301256812667845,
          0.060730735710048764,
          0.06805993621388766,
          0.06862720951718332,
          0.07579990917816096,
          0.07626297851511167,
          0.081282726146676,
          0.08251486591627316,
          0.0827941610789718,
          0.08579022507374316,
          0.08632749664947043,
          0.08750719392883521,
          0.08941007051363555,
          0.09156173925125795,
          0.09413052181331964,
          0.0959038509695697,
          0.09970555218487034,
          0.1020152780615758
         ],
         "yaxis": "y20",
         "z": [
          [
           null,
           null,
           null,
           null,
           null,
           null,
           null,
           null,
           null,
           null,
           null,
           null,
           null,
           null,
           null,
           null,
           null,
           null,
           null,
           null,
           null,
           null
          ],
          [
           null,
           null,
           null,
           null,
           null,
           null,
           null,
           null,
           0.6400521595821494,
           null,
           null,
           null,
           null,
           null,
           null,
           null,
           null,
           null,
           null,
           null,
           null,
           null
          ],
          [
           null,
           null,
           null,
           null,
           null,
           null,
           null,
           null,
           null,
           0.6319669345188804,
           null,
           null,
           null,
           null,
           null,
           null,
           null,
           null,
           null,
           null,
           null,
           null
          ],
          [
           null,
           null,
           null,
           null,
           null,
           null,
           null,
           0.5829778488148188,
           null,
           null,
           null,
           null,
           null,
           null,
           null,
           null,
           null,
           null,
           null,
           null,
           null,
           null
          ],
          [
           null,
           null,
           null,
           0.4426665229962466,
           null,
           null,
           null,
           null,
           null,
           null,
           null,
           null,
           null,
           null,
           null,
           null,
           null,
           null,
           null,
           null,
           null,
           null
          ],
          [
           null,
           null,
           null,
           null,
           0.4781813290287867,
           null,
           null,
           null,
           null,
           null,
           null,
           null,
           null,
           null,
           null,
           null,
           null,
           null,
           null,
           null,
           null,
           null
          ],
          [
           null,
           null,
           null,
           null,
           null,
           null,
           null,
           null,
           null,
           null,
           null,
           null,
           null,
           null,
           null,
           null,
           null,
           null,
           0.731321938031893,
           null,
           null,
           null
          ],
          [
           null,
           null,
           null,
           null,
           null,
           null,
           null,
           null,
           null,
           null,
           null,
           null,
           null,
           null,
           null,
           null,
           null,
           null,
           null,
           null,
           0.7508266848516744,
           null
          ],
          [
           null,
           null,
           0.3072322322322322,
           null,
           null,
           null,
           null,
           null,
           null,
           null,
           null,
           null,
           null,
           null,
           null,
           null,
           null,
           null,
           null,
           null,
           null,
           null
          ],
          [
           null,
           null,
           null,
           null,
           null,
           null,
           null,
           null,
           null,
           null,
           null,
           null,
           null,
           null,
           null,
           null,
           0.7778445776266433,
           null,
           null,
           null,
           null,
           null
          ],
          [
           null,
           null,
           null,
           null,
           null,
           null,
           null,
           null,
           null,
           null,
           0.5908786732719995,
           null,
           null,
           null,
           null,
           null,
           null,
           null,
           null,
           null,
           null,
           null
          ],
          [
           null,
           null,
           null,
           null,
           null,
           null,
           null,
           null,
           null,
           null,
           null,
           0.6616189922641535,
           null,
           null,
           null,
           null,
           null,
           null,
           null,
           null,
           null,
           null
          ],
          [
           null,
           null,
           null,
           null,
           null,
           null,
           null,
           null,
           null,
           null,
           null,
           null,
           null,
           null,
           0.7976810923640342,
           null,
           null,
           null,
           null,
           null,
           null,
           null
          ],
          [
           null,
           null,
           null,
           null,
           null,
           null,
           null,
           null,
           null,
           null,
           null,
           null,
           null,
           null,
           null,
           null,
           null,
           0.7560985975519419,
           null,
           null,
           null,
           null
          ],
          [
           null,
           0.44863813229571986,
           null,
           null,
           null,
           null,
           null,
           null,
           null,
           null,
           null,
           null,
           null,
           null,
           null,
           null,
           null,
           null,
           null,
           null,
           null,
           null
          ],
          [
           null,
           null,
           null,
           null,
           null,
           null,
           null,
           null,
           null,
           null,
           null,
           null,
           null,
           null,
           null,
           0.7855914977109401,
           null,
           null,
           null,
           null,
           null,
           null
          ],
          [
           null,
           null,
           null,
           null,
           null,
           null,
           null,
           null,
           null,
           null,
           null,
           null,
           null,
           0.76403390490347,
           null,
           null,
           null,
           null,
           null,
           null,
           null,
           null
          ],
          [
           null,
           null,
           null,
           null,
           null,
           null,
           0.4566934909104294,
           null,
           null,
           null,
           null,
           null,
           null,
           null,
           null,
           null,
           null,
           null,
           null,
           null,
           null,
           null
          ],
          [
           null,
           null,
           null,
           null,
           null,
           0.5523949920950306,
           null,
           null,
           null,
           null,
           null,
           null,
           null,
           null,
           null,
           null,
           null,
           null,
           null,
           null,
           null,
           null
          ],
          [
           null,
           null,
           null,
           null,
           null,
           null,
           null,
           null,
           null,
           null,
           null,
           null,
           0.7189615633680706,
           null,
           null,
           null,
           null,
           null,
           null,
           null,
           null,
           null
          ],
          [
           null,
           null,
           null,
           null,
           null,
           null,
           null,
           null,
           null,
           null,
           null,
           null,
           null,
           null,
           null,
           null,
           null,
           null,
           null,
           0.7301990406699969,
           null,
           null
          ],
          [
           null,
           null,
           null,
           null,
           null,
           null,
           null,
           null,
           null,
           null,
           null,
           null,
           null,
           null,
           null,
           null,
           null,
           null,
           null,
           null,
           null,
           null
          ]
         ]
        },
        {
         "marker": {
          "color": "black",
          "line": {
           "color": "Gray",
           "width": 2
          }
         },
         "mode": "markers",
         "name": "Feasible Trial",
         "showlegend": false,
         "type": "scatter",
         "x": [
          0.00030160888447486973,
          0.00007410146874557456,
          0.0000927780379725184,
          0.000013847033101007686,
          0.00013990924775188863,
          0.000043969682567101044,
          0.00004422737553392048,
          0.000008211124436680537,
          0.000008007142110060202,
          0.0002481774075836331,
          0.000750727133825155,
          0.0005904439778803607,
          0.000001736042667795536,
          0.00027398936815162185,
          0.00022582660202986294,
          0.00032201484653916404,
          0.0009672491441006483,
          0.0000205263024294648,
          0.00014234565307267818,
          0.0000013058749679087969
         ],
         "xaxis": "x20",
         "y": [
          0.07626297851511167,
          0.05428027794037116,
          0.081282726146676,
          0.09413052181331964,
          0.08251486591627316,
          0.05455369330540957,
          0.053511034650761236,
          0.060730735710048764,
          0.058301256812667845,
          0.0827941610789718,
          0.09970555218487034,
          0.06805993621388766,
          0.07579990917816096,
          0.08750719392883521,
          0.08941007051363555,
          0.08579022507374316,
          0.06862720951718332,
          0.09156173925125795,
          0.0959038509695697,
          0.08632749664947043
         ],
         "yaxis": "y20"
        },
        {
         "type": "scatter",
         "xaxis": "x25",
         "yaxis": "y25"
        }
       ],
       "layout": {
        "template": {
         "data": {
          "bar": [
           {
            "error_x": {
             "color": "#2a3f5f"
            },
            "error_y": {
             "color": "#2a3f5f"
            },
            "marker": {
             "line": {
              "color": "#E5ECF6",
              "width": 0.5
             },
             "pattern": {
              "fillmode": "overlay",
              "size": 10,
              "solidity": 0.2
             }
            },
            "type": "bar"
           }
          ],
          "barpolar": [
           {
            "marker": {
             "line": {
              "color": "#E5ECF6",
              "width": 0.5
             },
             "pattern": {
              "fillmode": "overlay",
              "size": 10,
              "solidity": 0.2
             }
            },
            "type": "barpolar"
           }
          ],
          "carpet": [
           {
            "aaxis": {
             "endlinecolor": "#2a3f5f",
             "gridcolor": "white",
             "linecolor": "white",
             "minorgridcolor": "white",
             "startlinecolor": "#2a3f5f"
            },
            "baxis": {
             "endlinecolor": "#2a3f5f",
             "gridcolor": "white",
             "linecolor": "white",
             "minorgridcolor": "white",
             "startlinecolor": "#2a3f5f"
            },
            "type": "carpet"
           }
          ],
          "choropleth": [
           {
            "colorbar": {
             "outlinewidth": 0,
             "ticks": ""
            },
            "type": "choropleth"
           }
          ],
          "contour": [
           {
            "colorbar": {
             "outlinewidth": 0,
             "ticks": ""
            },
            "colorscale": [
             [
              0,
              "#0d0887"
             ],
             [
              0.1111111111111111,
              "#46039f"
             ],
             [
              0.2222222222222222,
              "#7201a8"
             ],
             [
              0.3333333333333333,
              "#9c179e"
             ],
             [
              0.4444444444444444,
              "#bd3786"
             ],
             [
              0.5555555555555556,
              "#d8576b"
             ],
             [
              0.6666666666666666,
              "#ed7953"
             ],
             [
              0.7777777777777778,
              "#fb9f3a"
             ],
             [
              0.8888888888888888,
              "#fdca26"
             ],
             [
              1,
              "#f0f921"
             ]
            ],
            "type": "contour"
           }
          ],
          "contourcarpet": [
           {
            "colorbar": {
             "outlinewidth": 0,
             "ticks": ""
            },
            "type": "contourcarpet"
           }
          ],
          "heatmap": [
           {
            "colorbar": {
             "outlinewidth": 0,
             "ticks": ""
            },
            "colorscale": [
             [
              0,
              "#0d0887"
             ],
             [
              0.1111111111111111,
              "#46039f"
             ],
             [
              0.2222222222222222,
              "#7201a8"
             ],
             [
              0.3333333333333333,
              "#9c179e"
             ],
             [
              0.4444444444444444,
              "#bd3786"
             ],
             [
              0.5555555555555556,
              "#d8576b"
             ],
             [
              0.6666666666666666,
              "#ed7953"
             ],
             [
              0.7777777777777778,
              "#fb9f3a"
             ],
             [
              0.8888888888888888,
              "#fdca26"
             ],
             [
              1,
              "#f0f921"
             ]
            ],
            "type": "heatmap"
           }
          ],
          "heatmapgl": [
           {
            "colorbar": {
             "outlinewidth": 0,
             "ticks": ""
            },
            "colorscale": [
             [
              0,
              "#0d0887"
             ],
             [
              0.1111111111111111,
              "#46039f"
             ],
             [
              0.2222222222222222,
              "#7201a8"
             ],
             [
              0.3333333333333333,
              "#9c179e"
             ],
             [
              0.4444444444444444,
              "#bd3786"
             ],
             [
              0.5555555555555556,
              "#d8576b"
             ],
             [
              0.6666666666666666,
              "#ed7953"
             ],
             [
              0.7777777777777778,
              "#fb9f3a"
             ],
             [
              0.8888888888888888,
              "#fdca26"
             ],
             [
              1,
              "#f0f921"
             ]
            ],
            "type": "heatmapgl"
           }
          ],
          "histogram": [
           {
            "marker": {
             "pattern": {
              "fillmode": "overlay",
              "size": 10,
              "solidity": 0.2
             }
            },
            "type": "histogram"
           }
          ],
          "histogram2d": [
           {
            "colorbar": {
             "outlinewidth": 0,
             "ticks": ""
            },
            "colorscale": [
             [
              0,
              "#0d0887"
             ],
             [
              0.1111111111111111,
              "#46039f"
             ],
             [
              0.2222222222222222,
              "#7201a8"
             ],
             [
              0.3333333333333333,
              "#9c179e"
             ],
             [
              0.4444444444444444,
              "#bd3786"
             ],
             [
              0.5555555555555556,
              "#d8576b"
             ],
             [
              0.6666666666666666,
              "#ed7953"
             ],
             [
              0.7777777777777778,
              "#fb9f3a"
             ],
             [
              0.8888888888888888,
              "#fdca26"
             ],
             [
              1,
              "#f0f921"
             ]
            ],
            "type": "histogram2d"
           }
          ],
          "histogram2dcontour": [
           {
            "colorbar": {
             "outlinewidth": 0,
             "ticks": ""
            },
            "colorscale": [
             [
              0,
              "#0d0887"
             ],
             [
              0.1111111111111111,
              "#46039f"
             ],
             [
              0.2222222222222222,
              "#7201a8"
             ],
             [
              0.3333333333333333,
              "#9c179e"
             ],
             [
              0.4444444444444444,
              "#bd3786"
             ],
             [
              0.5555555555555556,
              "#d8576b"
             ],
             [
              0.6666666666666666,
              "#ed7953"
             ],
             [
              0.7777777777777778,
              "#fb9f3a"
             ],
             [
              0.8888888888888888,
              "#fdca26"
             ],
             [
              1,
              "#f0f921"
             ]
            ],
            "type": "histogram2dcontour"
           }
          ],
          "mesh3d": [
           {
            "colorbar": {
             "outlinewidth": 0,
             "ticks": ""
            },
            "type": "mesh3d"
           }
          ],
          "parcoords": [
           {
            "line": {
             "colorbar": {
              "outlinewidth": 0,
              "ticks": ""
             }
            },
            "type": "parcoords"
           }
          ],
          "pie": [
           {
            "automargin": true,
            "type": "pie"
           }
          ],
          "scatter": [
           {
            "fillpattern": {
             "fillmode": "overlay",
             "size": 10,
             "solidity": 0.2
            },
            "type": "scatter"
           }
          ],
          "scatter3d": [
           {
            "line": {
             "colorbar": {
              "outlinewidth": 0,
              "ticks": ""
             }
            },
            "marker": {
             "colorbar": {
              "outlinewidth": 0,
              "ticks": ""
             }
            },
            "type": "scatter3d"
           }
          ],
          "scattercarpet": [
           {
            "marker": {
             "colorbar": {
              "outlinewidth": 0,
              "ticks": ""
             }
            },
            "type": "scattercarpet"
           }
          ],
          "scattergeo": [
           {
            "marker": {
             "colorbar": {
              "outlinewidth": 0,
              "ticks": ""
             }
            },
            "type": "scattergeo"
           }
          ],
          "scattergl": [
           {
            "marker": {
             "colorbar": {
              "outlinewidth": 0,
              "ticks": ""
             }
            },
            "type": "scattergl"
           }
          ],
          "scattermapbox": [
           {
            "marker": {
             "colorbar": {
              "outlinewidth": 0,
              "ticks": ""
             }
            },
            "type": "scattermapbox"
           }
          ],
          "scatterpolar": [
           {
            "marker": {
             "colorbar": {
              "outlinewidth": 0,
              "ticks": ""
             }
            },
            "type": "scatterpolar"
           }
          ],
          "scatterpolargl": [
           {
            "marker": {
             "colorbar": {
              "outlinewidth": 0,
              "ticks": ""
             }
            },
            "type": "scatterpolargl"
           }
          ],
          "scatterternary": [
           {
            "marker": {
             "colorbar": {
              "outlinewidth": 0,
              "ticks": ""
             }
            },
            "type": "scatterternary"
           }
          ],
          "surface": [
           {
            "colorbar": {
             "outlinewidth": 0,
             "ticks": ""
            },
            "colorscale": [
             [
              0,
              "#0d0887"
             ],
             [
              0.1111111111111111,
              "#46039f"
             ],
             [
              0.2222222222222222,
              "#7201a8"
             ],
             [
              0.3333333333333333,
              "#9c179e"
             ],
             [
              0.4444444444444444,
              "#bd3786"
             ],
             [
              0.5555555555555556,
              "#d8576b"
             ],
             [
              0.6666666666666666,
              "#ed7953"
             ],
             [
              0.7777777777777778,
              "#fb9f3a"
             ],
             [
              0.8888888888888888,
              "#fdca26"
             ],
             [
              1,
              "#f0f921"
             ]
            ],
            "type": "surface"
           }
          ],
          "table": [
           {
            "cells": {
             "fill": {
              "color": "#EBF0F8"
             },
             "line": {
              "color": "white"
             }
            },
            "header": {
             "fill": {
              "color": "#C8D4E3"
             },
             "line": {
              "color": "white"
             }
            },
            "type": "table"
           }
          ]
         },
         "layout": {
          "annotationdefaults": {
           "arrowcolor": "#2a3f5f",
           "arrowhead": 0,
           "arrowwidth": 1
          },
          "autotypenumbers": "strict",
          "coloraxis": {
           "colorbar": {
            "outlinewidth": 0,
            "ticks": ""
           }
          },
          "colorscale": {
           "diverging": [
            [
             0,
             "#8e0152"
            ],
            [
             0.1,
             "#c51b7d"
            ],
            [
             0.2,
             "#de77ae"
            ],
            [
             0.3,
             "#f1b6da"
            ],
            [
             0.4,
             "#fde0ef"
            ],
            [
             0.5,
             "#f7f7f7"
            ],
            [
             0.6,
             "#e6f5d0"
            ],
            [
             0.7,
             "#b8e186"
            ],
            [
             0.8,
             "#7fbc41"
            ],
            [
             0.9,
             "#4d9221"
            ],
            [
             1,
             "#276419"
            ]
           ],
           "sequential": [
            [
             0,
             "#0d0887"
            ],
            [
             0.1111111111111111,
             "#46039f"
            ],
            [
             0.2222222222222222,
             "#7201a8"
            ],
            [
             0.3333333333333333,
             "#9c179e"
            ],
            [
             0.4444444444444444,
             "#bd3786"
            ],
            [
             0.5555555555555556,
             "#d8576b"
            ],
            [
             0.6666666666666666,
             "#ed7953"
            ],
            [
             0.7777777777777778,
             "#fb9f3a"
            ],
            [
             0.8888888888888888,
             "#fdca26"
            ],
            [
             1,
             "#f0f921"
            ]
           ],
           "sequentialminus": [
            [
             0,
             "#0d0887"
            ],
            [
             0.1111111111111111,
             "#46039f"
            ],
            [
             0.2222222222222222,
             "#7201a8"
            ],
            [
             0.3333333333333333,
             "#9c179e"
            ],
            [
             0.4444444444444444,
             "#bd3786"
            ],
            [
             0.5555555555555556,
             "#d8576b"
            ],
            [
             0.6666666666666666,
             "#ed7953"
            ],
            [
             0.7777777777777778,
             "#fb9f3a"
            ],
            [
             0.8888888888888888,
             "#fdca26"
            ],
            [
             1,
             "#f0f921"
            ]
           ]
          },
          "colorway": [
           "#636efa",
           "#EF553B",
           "#00cc96",
           "#ab63fa",
           "#FFA15A",
           "#19d3f3",
           "#FF6692",
           "#B6E880",
           "#FF97FF",
           "#FECB52"
          ],
          "font": {
           "color": "#2a3f5f"
          },
          "geo": {
           "bgcolor": "white",
           "lakecolor": "white",
           "landcolor": "#E5ECF6",
           "showlakes": true,
           "showland": true,
           "subunitcolor": "white"
          },
          "hoverlabel": {
           "align": "left"
          },
          "hovermode": "closest",
          "mapbox": {
           "style": "light"
          },
          "paper_bgcolor": "white",
          "plot_bgcolor": "#E5ECF6",
          "polar": {
           "angularaxis": {
            "gridcolor": "white",
            "linecolor": "white",
            "ticks": ""
           },
           "bgcolor": "#E5ECF6",
           "radialaxis": {
            "gridcolor": "white",
            "linecolor": "white",
            "ticks": ""
           }
          },
          "scene": {
           "xaxis": {
            "backgroundcolor": "#E5ECF6",
            "gridcolor": "white",
            "gridwidth": 2,
            "linecolor": "white",
            "showbackground": true,
            "ticks": "",
            "zerolinecolor": "white"
           },
           "yaxis": {
            "backgroundcolor": "#E5ECF6",
            "gridcolor": "white",
            "gridwidth": 2,
            "linecolor": "white",
            "showbackground": true,
            "ticks": "",
            "zerolinecolor": "white"
           },
           "zaxis": {
            "backgroundcolor": "#E5ECF6",
            "gridcolor": "white",
            "gridwidth": 2,
            "linecolor": "white",
            "showbackground": true,
            "ticks": "",
            "zerolinecolor": "white"
           }
          },
          "shapedefaults": {
           "line": {
            "color": "#2a3f5f"
           }
          },
          "ternary": {
           "aaxis": {
            "gridcolor": "white",
            "linecolor": "white",
            "ticks": ""
           },
           "baxis": {
            "gridcolor": "white",
            "linecolor": "white",
            "ticks": ""
           },
           "bgcolor": "#E5ECF6",
           "caxis": {
            "gridcolor": "white",
            "linecolor": "white",
            "ticks": ""
           }
          },
          "title": {
           "x": 0.05
          },
          "xaxis": {
           "automargin": true,
           "gridcolor": "white",
           "linecolor": "white",
           "ticks": "",
           "title": {
            "standoff": 15
           },
           "zerolinecolor": "white",
           "zerolinewidth": 2
          },
          "yaxis": {
           "automargin": true,
           "gridcolor": "white",
           "linecolor": "white",
           "ticks": "",
           "title": {
            "standoff": 15
           },
           "zerolinecolor": "white",
           "zerolinewidth": 2
          }
         }
        },
        "title": {
         "text": "Contour Plot"
        },
        "xaxis": {
         "anchor": "y",
         "domain": [
          0,
          0.16799999999999998
         ],
         "matches": "x21",
         "range": [
          95,
          205
         ],
         "showticklabels": false
        },
        "xaxis10": {
         "anchor": "y10",
         "domain": [
          0.832,
          1
         ],
         "matches": "x25",
         "range": [
          -6.027580240811589,
          -2.870979808052323
         ],
         "showticklabels": false,
         "type": "log"
        },
        "xaxis11": {
         "anchor": "y11",
         "domain": [
          0,
          0.16799999999999998
         ],
         "matches": "x21",
         "range": [
          95,
          205
         ],
         "showticklabels": false
        },
        "xaxis12": {
         "anchor": "y12",
         "domain": [
          0.208,
          0.376
         ],
         "matches": "x22",
         "range": [
          54.4,
          265.6
         ],
         "showticklabels": false
        },
        "xaxis13": {
         "anchor": "y13",
         "domain": [
          0.416,
          0.584
         ],
         "matches": "x23",
         "range": [
          0.03865521017238384,
          0.30486427622533796
         ],
         "showticklabels": false
        },
        "xaxis14": {
         "anchor": "y14",
         "domain": [
          0.624,
          0.792
         ],
         "matches": "x24",
         "range": [
          0.05120130877405578,
          0.1020152780615758
         ],
         "showticklabels": false
        },
        "xaxis15": {
         "anchor": "y15",
         "domain": [
          0.832,
          1
         ],
         "matches": "x25",
         "range": [
          -6.027580240811589,
          -2.870979808052323
         ],
         "showticklabels": false,
         "type": "log"
        },
        "xaxis16": {
         "anchor": "y16",
         "domain": [
          0,
          0.16799999999999998
         ],
         "matches": "x21",
         "range": [
          95,
          205
         ],
         "showticklabels": false
        },
        "xaxis17": {
         "anchor": "y17",
         "domain": [
          0.208,
          0.376
         ],
         "matches": "x22",
         "range": [
          54.4,
          265.6
         ],
         "showticklabels": false
        },
        "xaxis18": {
         "anchor": "y18",
         "domain": [
          0.416,
          0.584
         ],
         "matches": "x23",
         "range": [
          0.03865521017238384,
          0.30486427622533796
         ],
         "showticklabels": false
        },
        "xaxis19": {
         "anchor": "y19",
         "domain": [
          0.624,
          0.792
         ],
         "matches": "x24",
         "range": [
          0.05120130877405578,
          0.1020152780615758
         ],
         "showticklabels": false
        },
        "xaxis2": {
         "anchor": "y2",
         "domain": [
          0.208,
          0.376
         ],
         "matches": "x22",
         "range": [
          54.4,
          265.6
         ],
         "showticklabels": false
        },
        "xaxis20": {
         "anchor": "y20",
         "domain": [
          0.832,
          1
         ],
         "matches": "x25",
         "range": [
          -6.027580240811589,
          -2.870979808052323
         ],
         "showticklabels": false,
         "type": "log"
        },
        "xaxis21": {
         "anchor": "y21",
         "domain": [
          0,
          0.16799999999999998
         ],
         "range": [
          95,
          205
         ],
         "title": {
          "text": "EMBEDDING_DIM"
         }
        },
        "xaxis22": {
         "anchor": "y22",
         "domain": [
          0.208,
          0.376
         ],
         "range": [
          54.4,
          265.6
         ],
         "title": {
          "text": "LSTM_units"
         }
        },
        "xaxis23": {
         "anchor": "y23",
         "domain": [
          0.416,
          0.584
         ],
         "range": [
          0.03865521017238384,
          0.30486427622533796
         ],
         "title": {
          "text": "dropout_rate"
         }
        },
        "xaxis24": {
         "anchor": "y24",
         "domain": [
          0.624,
          0.792
         ],
         "range": [
          0.05120130877405578,
          0.1020152780615758
         ],
         "title": {
          "text": "dropout_rate2"
         }
        },
        "xaxis25": {
         "anchor": "y25",
         "domain": [
          0.832,
          1
         ],
         "range": [
          -6.027580240811589,
          -2.870979808052323
         ],
         "title": {
          "text": "learning_rate"
         },
         "type": "log"
        },
        "xaxis3": {
         "anchor": "y3",
         "domain": [
          0.416,
          0.584
         ],
         "matches": "x23",
         "range": [
          0.03865521017238384,
          0.30486427622533796
         ],
         "showticklabels": false
        },
        "xaxis4": {
         "anchor": "y4",
         "domain": [
          0.624,
          0.792
         ],
         "matches": "x24",
         "range": [
          0.05120130877405578,
          0.1020152780615758
         ],
         "showticklabels": false
        },
        "xaxis5": {
         "anchor": "y5",
         "domain": [
          0.832,
          1
         ],
         "matches": "x25",
         "range": [
          -6.027580240811589,
          -2.870979808052323
         ],
         "showticklabels": false,
         "type": "log"
        },
        "xaxis6": {
         "anchor": "y6",
         "domain": [
          0,
          0.16799999999999998
         ],
         "matches": "x21",
         "range": [
          95,
          205
         ],
         "showticklabels": false
        },
        "xaxis7": {
         "anchor": "y7",
         "domain": [
          0.208,
          0.376
         ],
         "matches": "x22",
         "range": [
          54.4,
          265.6
         ],
         "showticklabels": false
        },
        "xaxis8": {
         "anchor": "y8",
         "domain": [
          0.416,
          0.584
         ],
         "matches": "x23",
         "range": [
          0.03865521017238384,
          0.30486427622533796
         ],
         "showticklabels": false
        },
        "xaxis9": {
         "anchor": "y9",
         "domain": [
          0.624,
          0.792
         ],
         "matches": "x24",
         "range": [
          0.05120130877405578,
          0.1020152780615758
         ],
         "showticklabels": false
        },
        "yaxis": {
         "anchor": "x",
         "domain": [
          0.848,
          1
         ],
         "range": [
          95,
          205
         ],
         "title": {
          "text": "EMBEDDING_DIM"
         }
        },
        "yaxis10": {
         "anchor": "x10",
         "domain": [
          0.6359999999999999,
          0.7879999999999999
         ],
         "matches": "y6",
         "range": [
          54.4,
          265.6
         ],
         "showticklabels": false
        },
        "yaxis11": {
         "anchor": "x11",
         "domain": [
          0.424,
          0.576
         ],
         "range": [
          0.03865521017238384,
          0.30486427622533796
         ],
         "title": {
          "text": "dropout_rate"
         }
        },
        "yaxis12": {
         "anchor": "x12",
         "domain": [
          0.424,
          0.576
         ],
         "matches": "y11",
         "range": [
          0.03865521017238384,
          0.30486427622533796
         ],
         "showticklabels": false
        },
        "yaxis13": {
         "anchor": "x13",
         "domain": [
          0.424,
          0.576
         ],
         "matches": "y11",
         "range": [
          0.03865521017238384,
          0.30486427622533796
         ],
         "showticklabels": false
        },
        "yaxis14": {
         "anchor": "x14",
         "domain": [
          0.424,
          0.576
         ],
         "matches": "y11",
         "range": [
          0.03865521017238384,
          0.30486427622533796
         ],
         "showticklabels": false
        },
        "yaxis15": {
         "anchor": "x15",
         "domain": [
          0.424,
          0.576
         ],
         "matches": "y11",
         "range": [
          0.03865521017238384,
          0.30486427622533796
         ],
         "showticklabels": false
        },
        "yaxis16": {
         "anchor": "x16",
         "domain": [
          0.212,
          0.364
         ],
         "range": [
          0.05120130877405578,
          0.1020152780615758
         ],
         "title": {
          "text": "dropout_rate2"
         }
        },
        "yaxis17": {
         "anchor": "x17",
         "domain": [
          0.212,
          0.364
         ],
         "matches": "y16",
         "range": [
          0.05120130877405578,
          0.1020152780615758
         ],
         "showticklabels": false
        },
        "yaxis18": {
         "anchor": "x18",
         "domain": [
          0.212,
          0.364
         ],
         "matches": "y16",
         "range": [
          0.05120130877405578,
          0.1020152780615758
         ],
         "showticklabels": false
        },
        "yaxis19": {
         "anchor": "x19",
         "domain": [
          0.212,
          0.364
         ],
         "matches": "y16",
         "range": [
          0.05120130877405578,
          0.1020152780615758
         ],
         "showticklabels": false
        },
        "yaxis2": {
         "anchor": "x2",
         "domain": [
          0.848,
          1
         ],
         "matches": "y",
         "range": [
          95,
          205
         ],
         "showticklabels": false
        },
        "yaxis20": {
         "anchor": "x20",
         "domain": [
          0.212,
          0.364
         ],
         "matches": "y16",
         "range": [
          0.05120130877405578,
          0.1020152780615758
         ],
         "showticklabels": false
        },
        "yaxis21": {
         "anchor": "x21",
         "domain": [
          0,
          0.152
         ],
         "range": [
          -6.027580240811589,
          -2.870979808052323
         ],
         "title": {
          "text": "learning_rate"
         },
         "type": "log"
        },
        "yaxis22": {
         "anchor": "x22",
         "domain": [
          0,
          0.152
         ],
         "matches": "y21",
         "range": [
          -6.027580240811589,
          -2.870979808052323
         ],
         "showticklabels": false,
         "type": "log"
        },
        "yaxis23": {
         "anchor": "x23",
         "domain": [
          0,
          0.152
         ],
         "matches": "y21",
         "range": [
          -6.027580240811589,
          -2.870979808052323
         ],
         "showticklabels": false,
         "type": "log"
        },
        "yaxis24": {
         "anchor": "x24",
         "domain": [
          0,
          0.152
         ],
         "matches": "y21",
         "range": [
          -6.027580240811589,
          -2.870979808052323
         ],
         "showticklabels": false,
         "type": "log"
        },
        "yaxis25": {
         "anchor": "x25",
         "domain": [
          0,
          0.152
         ],
         "matches": "y21",
         "range": [
          -6.027580240811589,
          -2.870979808052323
         ],
         "showticklabels": false,
         "type": "log"
        },
        "yaxis3": {
         "anchor": "x3",
         "domain": [
          0.848,
          1
         ],
         "matches": "y",
         "range": [
          95,
          205
         ],
         "showticklabels": false
        },
        "yaxis4": {
         "anchor": "x4",
         "domain": [
          0.848,
          1
         ],
         "matches": "y",
         "range": [
          95,
          205
         ],
         "showticklabels": false
        },
        "yaxis5": {
         "anchor": "x5",
         "domain": [
          0.848,
          1
         ],
         "matches": "y",
         "range": [
          95,
          205
         ],
         "showticklabels": false
        },
        "yaxis6": {
         "anchor": "x6",
         "domain": [
          0.6359999999999999,
          0.7879999999999999
         ],
         "range": [
          54.4,
          265.6
         ],
         "title": {
          "text": "LSTM_units"
         }
        },
        "yaxis7": {
         "anchor": "x7",
         "domain": [
          0.6359999999999999,
          0.7879999999999999
         ],
         "matches": "y6",
         "range": [
          54.4,
          265.6
         ],
         "showticklabels": false
        },
        "yaxis8": {
         "anchor": "x8",
         "domain": [
          0.6359999999999999,
          0.7879999999999999
         ],
         "matches": "y6",
         "range": [
          54.4,
          265.6
         ],
         "showticklabels": false
        },
        "yaxis9": {
         "anchor": "x9",
         "domain": [
          0.6359999999999999,
          0.7879999999999999
         ],
         "matches": "y6",
         "range": [
          54.4,
          265.6
         ],
         "showticklabels": false
        }
       }
      }
     },
     "metadata": {},
     "output_type": "display_data"
    }
   ],
   "source": [
    "optuna.visualization.plot_optimization_history(study)\n",
    "optuna.visualization.plot_slice(study)\n",
    "optuna.visualization.plot_contour(study, params=['dropout_rate','dropout_rate2','LSTM_units','EMBEDDING_DIM','learning_rate'])"
   ]
  },
  {
   "cell_type": "code",
   "execution_count": 18,
   "metadata": {},
   "outputs": [],
   "source": [
    "best_param = study.best_params"
   ]
  },
  {
   "cell_type": "code",
   "execution_count": 19,
   "metadata": {},
   "outputs": [
    {
     "data": {
      "application/vnd.plotly.v1+json": {
       "config": {
        "plotlyServerURL": "https://plot.ly"
       },
       "data": [
        {
         "mode": "markers",
         "name": "Objective Value",
         "type": "scatter",
         "x": [
          0,
          1,
          2,
          3,
          4,
          5,
          6,
          7,
          8,
          9,
          10,
          11,
          12,
          13,
          14,
          15,
          16,
          17,
          18,
          19
         ],
         "y": [
          0.7778445776266433,
          0.6319669345188804,
          0.5908786732719995,
          0.5523949920950306,
          0.6616189922641535,
          0.5829778488148188,
          0.6400521595821494,
          0.4781813290287867,
          0.4426665229962466,
          0.7976810923640342,
          0.7301990406699969,
          0.731321938031893,
          0.3072322322322322,
          0.7855914977109401,
          0.76403390490347,
          0.7560985975519419,
          0.7508266848516744,
          0.4566934909104294,
          0.7189615633680706,
          0.44863813229571986
         ]
        },
        {
         "mode": "lines",
         "name": "Best Value",
         "type": "scatter",
         "x": [
          0,
          1,
          2,
          3,
          4,
          5,
          6,
          7,
          8,
          9,
          10,
          11,
          12,
          13,
          14,
          15,
          16,
          17,
          18,
          19
         ],
         "y": [
          0.7778445776266433,
          0.7778445776266433,
          0.7778445776266433,
          0.7778445776266433,
          0.7778445776266433,
          0.7778445776266433,
          0.7778445776266433,
          0.7778445776266433,
          0.7778445776266433,
          0.7976810923640342,
          0.7976810923640342,
          0.7976810923640342,
          0.7976810923640342,
          0.7976810923640342,
          0.7976810923640342,
          0.7976810923640342,
          0.7976810923640342,
          0.7976810923640342,
          0.7976810923640342,
          0.7976810923640342
         ]
        },
        {
         "marker": {
          "color": "#cccccc"
         },
         "mode": "markers",
         "name": "Infeasible Trial",
         "showlegend": false,
         "type": "scatter",
         "x": [],
         "y": []
        }
       ],
       "layout": {
        "template": {
         "data": {
          "bar": [
           {
            "error_x": {
             "color": "#2a3f5f"
            },
            "error_y": {
             "color": "#2a3f5f"
            },
            "marker": {
             "line": {
              "color": "#E5ECF6",
              "width": 0.5
             },
             "pattern": {
              "fillmode": "overlay",
              "size": 10,
              "solidity": 0.2
             }
            },
            "type": "bar"
           }
          ],
          "barpolar": [
           {
            "marker": {
             "line": {
              "color": "#E5ECF6",
              "width": 0.5
             },
             "pattern": {
              "fillmode": "overlay",
              "size": 10,
              "solidity": 0.2
             }
            },
            "type": "barpolar"
           }
          ],
          "carpet": [
           {
            "aaxis": {
             "endlinecolor": "#2a3f5f",
             "gridcolor": "white",
             "linecolor": "white",
             "minorgridcolor": "white",
             "startlinecolor": "#2a3f5f"
            },
            "baxis": {
             "endlinecolor": "#2a3f5f",
             "gridcolor": "white",
             "linecolor": "white",
             "minorgridcolor": "white",
             "startlinecolor": "#2a3f5f"
            },
            "type": "carpet"
           }
          ],
          "choropleth": [
           {
            "colorbar": {
             "outlinewidth": 0,
             "ticks": ""
            },
            "type": "choropleth"
           }
          ],
          "contour": [
           {
            "colorbar": {
             "outlinewidth": 0,
             "ticks": ""
            },
            "colorscale": [
             [
              0,
              "#0d0887"
             ],
             [
              0.1111111111111111,
              "#46039f"
             ],
             [
              0.2222222222222222,
              "#7201a8"
             ],
             [
              0.3333333333333333,
              "#9c179e"
             ],
             [
              0.4444444444444444,
              "#bd3786"
             ],
             [
              0.5555555555555556,
              "#d8576b"
             ],
             [
              0.6666666666666666,
              "#ed7953"
             ],
             [
              0.7777777777777778,
              "#fb9f3a"
             ],
             [
              0.8888888888888888,
              "#fdca26"
             ],
             [
              1,
              "#f0f921"
             ]
            ],
            "type": "contour"
           }
          ],
          "contourcarpet": [
           {
            "colorbar": {
             "outlinewidth": 0,
             "ticks": ""
            },
            "type": "contourcarpet"
           }
          ],
          "heatmap": [
           {
            "colorbar": {
             "outlinewidth": 0,
             "ticks": ""
            },
            "colorscale": [
             [
              0,
              "#0d0887"
             ],
             [
              0.1111111111111111,
              "#46039f"
             ],
             [
              0.2222222222222222,
              "#7201a8"
             ],
             [
              0.3333333333333333,
              "#9c179e"
             ],
             [
              0.4444444444444444,
              "#bd3786"
             ],
             [
              0.5555555555555556,
              "#d8576b"
             ],
             [
              0.6666666666666666,
              "#ed7953"
             ],
             [
              0.7777777777777778,
              "#fb9f3a"
             ],
             [
              0.8888888888888888,
              "#fdca26"
             ],
             [
              1,
              "#f0f921"
             ]
            ],
            "type": "heatmap"
           }
          ],
          "heatmapgl": [
           {
            "colorbar": {
             "outlinewidth": 0,
             "ticks": ""
            },
            "colorscale": [
             [
              0,
              "#0d0887"
             ],
             [
              0.1111111111111111,
              "#46039f"
             ],
             [
              0.2222222222222222,
              "#7201a8"
             ],
             [
              0.3333333333333333,
              "#9c179e"
             ],
             [
              0.4444444444444444,
              "#bd3786"
             ],
             [
              0.5555555555555556,
              "#d8576b"
             ],
             [
              0.6666666666666666,
              "#ed7953"
             ],
             [
              0.7777777777777778,
              "#fb9f3a"
             ],
             [
              0.8888888888888888,
              "#fdca26"
             ],
             [
              1,
              "#f0f921"
             ]
            ],
            "type": "heatmapgl"
           }
          ],
          "histogram": [
           {
            "marker": {
             "pattern": {
              "fillmode": "overlay",
              "size": 10,
              "solidity": 0.2
             }
            },
            "type": "histogram"
           }
          ],
          "histogram2d": [
           {
            "colorbar": {
             "outlinewidth": 0,
             "ticks": ""
            },
            "colorscale": [
             [
              0,
              "#0d0887"
             ],
             [
              0.1111111111111111,
              "#46039f"
             ],
             [
              0.2222222222222222,
              "#7201a8"
             ],
             [
              0.3333333333333333,
              "#9c179e"
             ],
             [
              0.4444444444444444,
              "#bd3786"
             ],
             [
              0.5555555555555556,
              "#d8576b"
             ],
             [
              0.6666666666666666,
              "#ed7953"
             ],
             [
              0.7777777777777778,
              "#fb9f3a"
             ],
             [
              0.8888888888888888,
              "#fdca26"
             ],
             [
              1,
              "#f0f921"
             ]
            ],
            "type": "histogram2d"
           }
          ],
          "histogram2dcontour": [
           {
            "colorbar": {
             "outlinewidth": 0,
             "ticks": ""
            },
            "colorscale": [
             [
              0,
              "#0d0887"
             ],
             [
              0.1111111111111111,
              "#46039f"
             ],
             [
              0.2222222222222222,
              "#7201a8"
             ],
             [
              0.3333333333333333,
              "#9c179e"
             ],
             [
              0.4444444444444444,
              "#bd3786"
             ],
             [
              0.5555555555555556,
              "#d8576b"
             ],
             [
              0.6666666666666666,
              "#ed7953"
             ],
             [
              0.7777777777777778,
              "#fb9f3a"
             ],
             [
              0.8888888888888888,
              "#fdca26"
             ],
             [
              1,
              "#f0f921"
             ]
            ],
            "type": "histogram2dcontour"
           }
          ],
          "mesh3d": [
           {
            "colorbar": {
             "outlinewidth": 0,
             "ticks": ""
            },
            "type": "mesh3d"
           }
          ],
          "parcoords": [
           {
            "line": {
             "colorbar": {
              "outlinewidth": 0,
              "ticks": ""
             }
            },
            "type": "parcoords"
           }
          ],
          "pie": [
           {
            "automargin": true,
            "type": "pie"
           }
          ],
          "scatter": [
           {
            "fillpattern": {
             "fillmode": "overlay",
             "size": 10,
             "solidity": 0.2
            },
            "type": "scatter"
           }
          ],
          "scatter3d": [
           {
            "line": {
             "colorbar": {
              "outlinewidth": 0,
              "ticks": ""
             }
            },
            "marker": {
             "colorbar": {
              "outlinewidth": 0,
              "ticks": ""
             }
            },
            "type": "scatter3d"
           }
          ],
          "scattercarpet": [
           {
            "marker": {
             "colorbar": {
              "outlinewidth": 0,
              "ticks": ""
             }
            },
            "type": "scattercarpet"
           }
          ],
          "scattergeo": [
           {
            "marker": {
             "colorbar": {
              "outlinewidth": 0,
              "ticks": ""
             }
            },
            "type": "scattergeo"
           }
          ],
          "scattergl": [
           {
            "marker": {
             "colorbar": {
              "outlinewidth": 0,
              "ticks": ""
             }
            },
            "type": "scattergl"
           }
          ],
          "scattermapbox": [
           {
            "marker": {
             "colorbar": {
              "outlinewidth": 0,
              "ticks": ""
             }
            },
            "type": "scattermapbox"
           }
          ],
          "scatterpolar": [
           {
            "marker": {
             "colorbar": {
              "outlinewidth": 0,
              "ticks": ""
             }
            },
            "type": "scatterpolar"
           }
          ],
          "scatterpolargl": [
           {
            "marker": {
             "colorbar": {
              "outlinewidth": 0,
              "ticks": ""
             }
            },
            "type": "scatterpolargl"
           }
          ],
          "scatterternary": [
           {
            "marker": {
             "colorbar": {
              "outlinewidth": 0,
              "ticks": ""
             }
            },
            "type": "scatterternary"
           }
          ],
          "surface": [
           {
            "colorbar": {
             "outlinewidth": 0,
             "ticks": ""
            },
            "colorscale": [
             [
              0,
              "#0d0887"
             ],
             [
              0.1111111111111111,
              "#46039f"
             ],
             [
              0.2222222222222222,
              "#7201a8"
             ],
             [
              0.3333333333333333,
              "#9c179e"
             ],
             [
              0.4444444444444444,
              "#bd3786"
             ],
             [
              0.5555555555555556,
              "#d8576b"
             ],
             [
              0.6666666666666666,
              "#ed7953"
             ],
             [
              0.7777777777777778,
              "#fb9f3a"
             ],
             [
              0.8888888888888888,
              "#fdca26"
             ],
             [
              1,
              "#f0f921"
             ]
            ],
            "type": "surface"
           }
          ],
          "table": [
           {
            "cells": {
             "fill": {
              "color": "#EBF0F8"
             },
             "line": {
              "color": "white"
             }
            },
            "header": {
             "fill": {
              "color": "#C8D4E3"
             },
             "line": {
              "color": "white"
             }
            },
            "type": "table"
           }
          ]
         },
         "layout": {
          "annotationdefaults": {
           "arrowcolor": "#2a3f5f",
           "arrowhead": 0,
           "arrowwidth": 1
          },
          "autotypenumbers": "strict",
          "coloraxis": {
           "colorbar": {
            "outlinewidth": 0,
            "ticks": ""
           }
          },
          "colorscale": {
           "diverging": [
            [
             0,
             "#8e0152"
            ],
            [
             0.1,
             "#c51b7d"
            ],
            [
             0.2,
             "#de77ae"
            ],
            [
             0.3,
             "#f1b6da"
            ],
            [
             0.4,
             "#fde0ef"
            ],
            [
             0.5,
             "#f7f7f7"
            ],
            [
             0.6,
             "#e6f5d0"
            ],
            [
             0.7,
             "#b8e186"
            ],
            [
             0.8,
             "#7fbc41"
            ],
            [
             0.9,
             "#4d9221"
            ],
            [
             1,
             "#276419"
            ]
           ],
           "sequential": [
            [
             0,
             "#0d0887"
            ],
            [
             0.1111111111111111,
             "#46039f"
            ],
            [
             0.2222222222222222,
             "#7201a8"
            ],
            [
             0.3333333333333333,
             "#9c179e"
            ],
            [
             0.4444444444444444,
             "#bd3786"
            ],
            [
             0.5555555555555556,
             "#d8576b"
            ],
            [
             0.6666666666666666,
             "#ed7953"
            ],
            [
             0.7777777777777778,
             "#fb9f3a"
            ],
            [
             0.8888888888888888,
             "#fdca26"
            ],
            [
             1,
             "#f0f921"
            ]
           ],
           "sequentialminus": [
            [
             0,
             "#0d0887"
            ],
            [
             0.1111111111111111,
             "#46039f"
            ],
            [
             0.2222222222222222,
             "#7201a8"
            ],
            [
             0.3333333333333333,
             "#9c179e"
            ],
            [
             0.4444444444444444,
             "#bd3786"
            ],
            [
             0.5555555555555556,
             "#d8576b"
            ],
            [
             0.6666666666666666,
             "#ed7953"
            ],
            [
             0.7777777777777778,
             "#fb9f3a"
            ],
            [
             0.8888888888888888,
             "#fdca26"
            ],
            [
             1,
             "#f0f921"
            ]
           ]
          },
          "colorway": [
           "#636efa",
           "#EF553B",
           "#00cc96",
           "#ab63fa",
           "#FFA15A",
           "#19d3f3",
           "#FF6692",
           "#B6E880",
           "#FF97FF",
           "#FECB52"
          ],
          "font": {
           "color": "#2a3f5f"
          },
          "geo": {
           "bgcolor": "white",
           "lakecolor": "white",
           "landcolor": "#E5ECF6",
           "showlakes": true,
           "showland": true,
           "subunitcolor": "white"
          },
          "hoverlabel": {
           "align": "left"
          },
          "hovermode": "closest",
          "mapbox": {
           "style": "light"
          },
          "paper_bgcolor": "white",
          "plot_bgcolor": "#E5ECF6",
          "polar": {
           "angularaxis": {
            "gridcolor": "white",
            "linecolor": "white",
            "ticks": ""
           },
           "bgcolor": "#E5ECF6",
           "radialaxis": {
            "gridcolor": "white",
            "linecolor": "white",
            "ticks": ""
           }
          },
          "scene": {
           "xaxis": {
            "backgroundcolor": "#E5ECF6",
            "gridcolor": "white",
            "gridwidth": 2,
            "linecolor": "white",
            "showbackground": true,
            "ticks": "",
            "zerolinecolor": "white"
           },
           "yaxis": {
            "backgroundcolor": "#E5ECF6",
            "gridcolor": "white",
            "gridwidth": 2,
            "linecolor": "white",
            "showbackground": true,
            "ticks": "",
            "zerolinecolor": "white"
           },
           "zaxis": {
            "backgroundcolor": "#E5ECF6",
            "gridcolor": "white",
            "gridwidth": 2,
            "linecolor": "white",
            "showbackground": true,
            "ticks": "",
            "zerolinecolor": "white"
           }
          },
          "shapedefaults": {
           "line": {
            "color": "#2a3f5f"
           }
          },
          "ternary": {
           "aaxis": {
            "gridcolor": "white",
            "linecolor": "white",
            "ticks": ""
           },
           "baxis": {
            "gridcolor": "white",
            "linecolor": "white",
            "ticks": ""
           },
           "bgcolor": "#E5ECF6",
           "caxis": {
            "gridcolor": "white",
            "linecolor": "white",
            "ticks": ""
           }
          },
          "title": {
           "x": 0.05
          },
          "xaxis": {
           "automargin": true,
           "gridcolor": "white",
           "linecolor": "white",
           "ticks": "",
           "title": {
            "standoff": 15
           },
           "zerolinecolor": "white",
           "zerolinewidth": 2
          },
          "yaxis": {
           "automargin": true,
           "gridcolor": "white",
           "linecolor": "white",
           "ticks": "",
           "title": {
            "standoff": 15
           },
           "zerolinecolor": "white",
           "zerolinewidth": 2
          }
         }
        },
        "title": {
         "text": "Optimization History Plot"
        },
        "xaxis": {
         "title": {
          "text": "Trial"
         }
        },
        "yaxis": {
         "title": {
          "text": "Objective Value"
         }
        }
       }
      }
     },
     "metadata": {},
     "output_type": "display_data"
    }
   ],
   "source": [
    "import matplotlib.pyplot as plt\n",
    "\n",
    "optuna.visualization.plot_optimization_history(study)"
   ]
  },
  {
   "cell_type": "code",
   "execution_count": 20,
   "metadata": {},
   "outputs": [
    {
     "data": {
      "application/vnd.plotly.v1+json": {
       "config": {
        "plotlyServerURL": "https://plot.ly"
       },
       "data": [
        {
         "dimensions": [
          {
           "label": "Objective Value",
           "range": [
            0.3072322322322322,
            0.7976810923640342
           ],
           "values": [
            0.7778445776266433,
            0.6319669345188804,
            0.731321938031893,
            0.7855914977109401,
            0.7560985975519419,
            0.7189615633680706,
            0.4781813290287867,
            0.5829778488148188,
            0.6400521595821494,
            0.5908786732719995,
            0.6616189922641535,
            0.44863813229571986,
            0.3072322322322322,
            0.5523949920950306,
            0.7976810923640342,
            0.7301990406699969,
            0.76403390490347,
            0.7508266848516744,
            0.4566934909104294,
            0.4426665229962466
           ]
          },
          {
           "label": "EMBEDDING_DIM",
           "range": [
            0,
            2
           ],
           "ticktext": [
            "100",
            "150",
            "200"
           ],
           "tickvals": [
            0,
            1,
            2
           ],
           "values": [
            0,
            0,
            0,
            0,
            0,
            0,
            0,
            0,
            1,
            1,
            1,
            1,
            2,
            2,
            2,
            2,
            2,
            2,
            2,
            2
           ]
          },
          {
           "label": "LSTM_units",
           "range": [
            0,
            2
           ],
           "ticktext": [
            "64",
            "128",
            "256"
           ],
           "tickvals": [
            0,
            1,
            2
           ],
           "values": [
            0,
            0,
            0,
            0,
            0,
            0,
            1,
            2,
            0,
            1,
            2,
            2,
            0,
            1,
            1,
            1,
            1,
            1,
            1,
            2
           ]
          },
          {
           "label": "dropout_rate",
           "range": [
            0.050755622265699935,
            0.2927638641320219
           ],
           "values": [
            0.08963814947961331,
            0.2927638641320219,
            0.19678209670798874,
            0.25341910597495737,
            0.2540321220743112,
            0.1772853762415156,
            0.2787294167226164,
            0.10388313765805358,
            0.09804165155249696,
            0.09148718543413979,
            0.11755246954630673,
            0.2309662767710378,
            0.050755622265699935,
            0.14974658544576408,
            0.22630535159633947,
            0.21169390681405537,
            0.2492227370461793,
            0.17517482941220974,
            0.24251344539756334,
            0.220255873090827
           ]
          },
          {
           "label": "dropout_rate2",
           "range": [
            0.053511034650761236,
            0.09970555218487034
           ],
           "values": [
            0.07626297851511167,
            0.05428027794037116,
            0.06805993621388766,
            0.08750719392883521,
            0.08579022507374316,
            0.0959038509695697,
            0.060730735710048764,
            0.05455369330540957,
            0.053511034650761236,
            0.081282726146676,
            0.08251486591627316,
            0.08632749664947043,
            0.07579990917816096,
            0.09413052181331964,
            0.0827941610789718,
            0.09970555218487034,
            0.08941007051363555,
            0.06862720951718332,
            0.09156173925125795,
            0.058301256812667845
           ]
          },
          {
           "label": "learning_rate",
           "range": [
            -5.8840984029588945,
            -3.014461645905017
           ],
           "ticktext": [
            "1.31e-06",
            "1e-05",
            "0.0001",
            "0.000967"
           ],
           "tickvals": [
            -5.8840984029588945,
            -5,
            -4,
            -3.014461645905017
           ],
           "values": [
            -3.520555869627262,
            -4.130173183899528,
            -3.228821302540938,
            -3.56226628916015,
            -3.4921241046352427,
            -3.8466557907254852,
            -5.085597366241398,
            -4.35684666969651,
            -4.354308831034045,
            -4.0325548159810705,
            -3.8541535784682943,
            -5.8840984029588945,
            -5.760439605103975,
            -4.8586432696241015,
            -3.605237756311689,
            -3.1245178869741936,
            -3.6462249001688876,
            -3.014461645905017,
            -4.687689276596639,
            -5.096522463603822
           ]
          }
         ],
         "labelangle": 30,
         "labelside": "bottom",
         "line": {
          "color": [
           0.7778445776266433,
           0.6319669345188804,
           0.731321938031893,
           0.7855914977109401,
           0.7560985975519419,
           0.7189615633680706,
           0.4781813290287867,
           0.5829778488148188,
           0.6400521595821494,
           0.5908786732719995,
           0.6616189922641535,
           0.44863813229571986,
           0.3072322322322322,
           0.5523949920950306,
           0.7976810923640342,
           0.7301990406699969,
           0.76403390490347,
           0.7508266848516744,
           0.4566934909104294,
           0.4426665229962466
          ],
          "colorbar": {
           "title": {
            "text": "Objective Value"
           }
          },
          "colorscale": [
           [
            0,
            "rgb(247,251,255)"
           ],
           [
            0.125,
            "rgb(222,235,247)"
           ],
           [
            0.25,
            "rgb(198,219,239)"
           ],
           [
            0.375,
            "rgb(158,202,225)"
           ],
           [
            0.5,
            "rgb(107,174,214)"
           ],
           [
            0.625,
            "rgb(66,146,198)"
           ],
           [
            0.75,
            "rgb(33,113,181)"
           ],
           [
            0.875,
            "rgb(8,81,156)"
           ],
           [
            1,
            "rgb(8,48,107)"
           ]
          ],
          "reversescale": false,
          "showscale": true
         },
         "type": "parcoords"
        }
       ],
       "layout": {
        "template": {
         "data": {
          "bar": [
           {
            "error_x": {
             "color": "#2a3f5f"
            },
            "error_y": {
             "color": "#2a3f5f"
            },
            "marker": {
             "line": {
              "color": "#E5ECF6",
              "width": 0.5
             },
             "pattern": {
              "fillmode": "overlay",
              "size": 10,
              "solidity": 0.2
             }
            },
            "type": "bar"
           }
          ],
          "barpolar": [
           {
            "marker": {
             "line": {
              "color": "#E5ECF6",
              "width": 0.5
             },
             "pattern": {
              "fillmode": "overlay",
              "size": 10,
              "solidity": 0.2
             }
            },
            "type": "barpolar"
           }
          ],
          "carpet": [
           {
            "aaxis": {
             "endlinecolor": "#2a3f5f",
             "gridcolor": "white",
             "linecolor": "white",
             "minorgridcolor": "white",
             "startlinecolor": "#2a3f5f"
            },
            "baxis": {
             "endlinecolor": "#2a3f5f",
             "gridcolor": "white",
             "linecolor": "white",
             "minorgridcolor": "white",
             "startlinecolor": "#2a3f5f"
            },
            "type": "carpet"
           }
          ],
          "choropleth": [
           {
            "colorbar": {
             "outlinewidth": 0,
             "ticks": ""
            },
            "type": "choropleth"
           }
          ],
          "contour": [
           {
            "colorbar": {
             "outlinewidth": 0,
             "ticks": ""
            },
            "colorscale": [
             [
              0,
              "#0d0887"
             ],
             [
              0.1111111111111111,
              "#46039f"
             ],
             [
              0.2222222222222222,
              "#7201a8"
             ],
             [
              0.3333333333333333,
              "#9c179e"
             ],
             [
              0.4444444444444444,
              "#bd3786"
             ],
             [
              0.5555555555555556,
              "#d8576b"
             ],
             [
              0.6666666666666666,
              "#ed7953"
             ],
             [
              0.7777777777777778,
              "#fb9f3a"
             ],
             [
              0.8888888888888888,
              "#fdca26"
             ],
             [
              1,
              "#f0f921"
             ]
            ],
            "type": "contour"
           }
          ],
          "contourcarpet": [
           {
            "colorbar": {
             "outlinewidth": 0,
             "ticks": ""
            },
            "type": "contourcarpet"
           }
          ],
          "heatmap": [
           {
            "colorbar": {
             "outlinewidth": 0,
             "ticks": ""
            },
            "colorscale": [
             [
              0,
              "#0d0887"
             ],
             [
              0.1111111111111111,
              "#46039f"
             ],
             [
              0.2222222222222222,
              "#7201a8"
             ],
             [
              0.3333333333333333,
              "#9c179e"
             ],
             [
              0.4444444444444444,
              "#bd3786"
             ],
             [
              0.5555555555555556,
              "#d8576b"
             ],
             [
              0.6666666666666666,
              "#ed7953"
             ],
             [
              0.7777777777777778,
              "#fb9f3a"
             ],
             [
              0.8888888888888888,
              "#fdca26"
             ],
             [
              1,
              "#f0f921"
             ]
            ],
            "type": "heatmap"
           }
          ],
          "heatmapgl": [
           {
            "colorbar": {
             "outlinewidth": 0,
             "ticks": ""
            },
            "colorscale": [
             [
              0,
              "#0d0887"
             ],
             [
              0.1111111111111111,
              "#46039f"
             ],
             [
              0.2222222222222222,
              "#7201a8"
             ],
             [
              0.3333333333333333,
              "#9c179e"
             ],
             [
              0.4444444444444444,
              "#bd3786"
             ],
             [
              0.5555555555555556,
              "#d8576b"
             ],
             [
              0.6666666666666666,
              "#ed7953"
             ],
             [
              0.7777777777777778,
              "#fb9f3a"
             ],
             [
              0.8888888888888888,
              "#fdca26"
             ],
             [
              1,
              "#f0f921"
             ]
            ],
            "type": "heatmapgl"
           }
          ],
          "histogram": [
           {
            "marker": {
             "pattern": {
              "fillmode": "overlay",
              "size": 10,
              "solidity": 0.2
             }
            },
            "type": "histogram"
           }
          ],
          "histogram2d": [
           {
            "colorbar": {
             "outlinewidth": 0,
             "ticks": ""
            },
            "colorscale": [
             [
              0,
              "#0d0887"
             ],
             [
              0.1111111111111111,
              "#46039f"
             ],
             [
              0.2222222222222222,
              "#7201a8"
             ],
             [
              0.3333333333333333,
              "#9c179e"
             ],
             [
              0.4444444444444444,
              "#bd3786"
             ],
             [
              0.5555555555555556,
              "#d8576b"
             ],
             [
              0.6666666666666666,
              "#ed7953"
             ],
             [
              0.7777777777777778,
              "#fb9f3a"
             ],
             [
              0.8888888888888888,
              "#fdca26"
             ],
             [
              1,
              "#f0f921"
             ]
            ],
            "type": "histogram2d"
           }
          ],
          "histogram2dcontour": [
           {
            "colorbar": {
             "outlinewidth": 0,
             "ticks": ""
            },
            "colorscale": [
             [
              0,
              "#0d0887"
             ],
             [
              0.1111111111111111,
              "#46039f"
             ],
             [
              0.2222222222222222,
              "#7201a8"
             ],
             [
              0.3333333333333333,
              "#9c179e"
             ],
             [
              0.4444444444444444,
              "#bd3786"
             ],
             [
              0.5555555555555556,
              "#d8576b"
             ],
             [
              0.6666666666666666,
              "#ed7953"
             ],
             [
              0.7777777777777778,
              "#fb9f3a"
             ],
             [
              0.8888888888888888,
              "#fdca26"
             ],
             [
              1,
              "#f0f921"
             ]
            ],
            "type": "histogram2dcontour"
           }
          ],
          "mesh3d": [
           {
            "colorbar": {
             "outlinewidth": 0,
             "ticks": ""
            },
            "type": "mesh3d"
           }
          ],
          "parcoords": [
           {
            "line": {
             "colorbar": {
              "outlinewidth": 0,
              "ticks": ""
             }
            },
            "type": "parcoords"
           }
          ],
          "pie": [
           {
            "automargin": true,
            "type": "pie"
           }
          ],
          "scatter": [
           {
            "fillpattern": {
             "fillmode": "overlay",
             "size": 10,
             "solidity": 0.2
            },
            "type": "scatter"
           }
          ],
          "scatter3d": [
           {
            "line": {
             "colorbar": {
              "outlinewidth": 0,
              "ticks": ""
             }
            },
            "marker": {
             "colorbar": {
              "outlinewidth": 0,
              "ticks": ""
             }
            },
            "type": "scatter3d"
           }
          ],
          "scattercarpet": [
           {
            "marker": {
             "colorbar": {
              "outlinewidth": 0,
              "ticks": ""
             }
            },
            "type": "scattercarpet"
           }
          ],
          "scattergeo": [
           {
            "marker": {
             "colorbar": {
              "outlinewidth": 0,
              "ticks": ""
             }
            },
            "type": "scattergeo"
           }
          ],
          "scattergl": [
           {
            "marker": {
             "colorbar": {
              "outlinewidth": 0,
              "ticks": ""
             }
            },
            "type": "scattergl"
           }
          ],
          "scattermapbox": [
           {
            "marker": {
             "colorbar": {
              "outlinewidth": 0,
              "ticks": ""
             }
            },
            "type": "scattermapbox"
           }
          ],
          "scatterpolar": [
           {
            "marker": {
             "colorbar": {
              "outlinewidth": 0,
              "ticks": ""
             }
            },
            "type": "scatterpolar"
           }
          ],
          "scatterpolargl": [
           {
            "marker": {
             "colorbar": {
              "outlinewidth": 0,
              "ticks": ""
             }
            },
            "type": "scatterpolargl"
           }
          ],
          "scatterternary": [
           {
            "marker": {
             "colorbar": {
              "outlinewidth": 0,
              "ticks": ""
             }
            },
            "type": "scatterternary"
           }
          ],
          "surface": [
           {
            "colorbar": {
             "outlinewidth": 0,
             "ticks": ""
            },
            "colorscale": [
             [
              0,
              "#0d0887"
             ],
             [
              0.1111111111111111,
              "#46039f"
             ],
             [
              0.2222222222222222,
              "#7201a8"
             ],
             [
              0.3333333333333333,
              "#9c179e"
             ],
             [
              0.4444444444444444,
              "#bd3786"
             ],
             [
              0.5555555555555556,
              "#d8576b"
             ],
             [
              0.6666666666666666,
              "#ed7953"
             ],
             [
              0.7777777777777778,
              "#fb9f3a"
             ],
             [
              0.8888888888888888,
              "#fdca26"
             ],
             [
              1,
              "#f0f921"
             ]
            ],
            "type": "surface"
           }
          ],
          "table": [
           {
            "cells": {
             "fill": {
              "color": "#EBF0F8"
             },
             "line": {
              "color": "white"
             }
            },
            "header": {
             "fill": {
              "color": "#C8D4E3"
             },
             "line": {
              "color": "white"
             }
            },
            "type": "table"
           }
          ]
         },
         "layout": {
          "annotationdefaults": {
           "arrowcolor": "#2a3f5f",
           "arrowhead": 0,
           "arrowwidth": 1
          },
          "autotypenumbers": "strict",
          "coloraxis": {
           "colorbar": {
            "outlinewidth": 0,
            "ticks": ""
           }
          },
          "colorscale": {
           "diverging": [
            [
             0,
             "#8e0152"
            ],
            [
             0.1,
             "#c51b7d"
            ],
            [
             0.2,
             "#de77ae"
            ],
            [
             0.3,
             "#f1b6da"
            ],
            [
             0.4,
             "#fde0ef"
            ],
            [
             0.5,
             "#f7f7f7"
            ],
            [
             0.6,
             "#e6f5d0"
            ],
            [
             0.7,
             "#b8e186"
            ],
            [
             0.8,
             "#7fbc41"
            ],
            [
             0.9,
             "#4d9221"
            ],
            [
             1,
             "#276419"
            ]
           ],
           "sequential": [
            [
             0,
             "#0d0887"
            ],
            [
             0.1111111111111111,
             "#46039f"
            ],
            [
             0.2222222222222222,
             "#7201a8"
            ],
            [
             0.3333333333333333,
             "#9c179e"
            ],
            [
             0.4444444444444444,
             "#bd3786"
            ],
            [
             0.5555555555555556,
             "#d8576b"
            ],
            [
             0.6666666666666666,
             "#ed7953"
            ],
            [
             0.7777777777777778,
             "#fb9f3a"
            ],
            [
             0.8888888888888888,
             "#fdca26"
            ],
            [
             1,
             "#f0f921"
            ]
           ],
           "sequentialminus": [
            [
             0,
             "#0d0887"
            ],
            [
             0.1111111111111111,
             "#46039f"
            ],
            [
             0.2222222222222222,
             "#7201a8"
            ],
            [
             0.3333333333333333,
             "#9c179e"
            ],
            [
             0.4444444444444444,
             "#bd3786"
            ],
            [
             0.5555555555555556,
             "#d8576b"
            ],
            [
             0.6666666666666666,
             "#ed7953"
            ],
            [
             0.7777777777777778,
             "#fb9f3a"
            ],
            [
             0.8888888888888888,
             "#fdca26"
            ],
            [
             1,
             "#f0f921"
            ]
           ]
          },
          "colorway": [
           "#636efa",
           "#EF553B",
           "#00cc96",
           "#ab63fa",
           "#FFA15A",
           "#19d3f3",
           "#FF6692",
           "#B6E880",
           "#FF97FF",
           "#FECB52"
          ],
          "font": {
           "color": "#2a3f5f"
          },
          "geo": {
           "bgcolor": "white",
           "lakecolor": "white",
           "landcolor": "#E5ECF6",
           "showlakes": true,
           "showland": true,
           "subunitcolor": "white"
          },
          "hoverlabel": {
           "align": "left"
          },
          "hovermode": "closest",
          "mapbox": {
           "style": "light"
          },
          "paper_bgcolor": "white",
          "plot_bgcolor": "#E5ECF6",
          "polar": {
           "angularaxis": {
            "gridcolor": "white",
            "linecolor": "white",
            "ticks": ""
           },
           "bgcolor": "#E5ECF6",
           "radialaxis": {
            "gridcolor": "white",
            "linecolor": "white",
            "ticks": ""
           }
          },
          "scene": {
           "xaxis": {
            "backgroundcolor": "#E5ECF6",
            "gridcolor": "white",
            "gridwidth": 2,
            "linecolor": "white",
            "showbackground": true,
            "ticks": "",
            "zerolinecolor": "white"
           },
           "yaxis": {
            "backgroundcolor": "#E5ECF6",
            "gridcolor": "white",
            "gridwidth": 2,
            "linecolor": "white",
            "showbackground": true,
            "ticks": "",
            "zerolinecolor": "white"
           },
           "zaxis": {
            "backgroundcolor": "#E5ECF6",
            "gridcolor": "white",
            "gridwidth": 2,
            "linecolor": "white",
            "showbackground": true,
            "ticks": "",
            "zerolinecolor": "white"
           }
          },
          "shapedefaults": {
           "line": {
            "color": "#2a3f5f"
           }
          },
          "ternary": {
           "aaxis": {
            "gridcolor": "white",
            "linecolor": "white",
            "ticks": ""
           },
           "baxis": {
            "gridcolor": "white",
            "linecolor": "white",
            "ticks": ""
           },
           "bgcolor": "#E5ECF6",
           "caxis": {
            "gridcolor": "white",
            "linecolor": "white",
            "ticks": ""
           }
          },
          "title": {
           "x": 0.05
          },
          "xaxis": {
           "automargin": true,
           "gridcolor": "white",
           "linecolor": "white",
           "ticks": "",
           "title": {
            "standoff": 15
           },
           "zerolinecolor": "white",
           "zerolinewidth": 2
          },
          "yaxis": {
           "automargin": true,
           "gridcolor": "white",
           "linecolor": "white",
           "ticks": "",
           "title": {
            "standoff": 15
           },
           "zerolinecolor": "white",
           "zerolinewidth": 2
          }
         }
        },
        "title": {
         "text": "Parallel Coordinate Plot"
        }
       }
      }
     },
     "metadata": {},
     "output_type": "display_data"
    }
   ],
   "source": [
    "optuna.visualization.plot_parallel_coordinate(study)"
   ]
  },
  {
   "cell_type": "code",
   "execution_count": 21,
   "metadata": {},
   "outputs": [
    {
     "data": {
      "application/vnd.plotly.v1+json": {
       "config": {
        "plotlyServerURL": "https://plot.ly"
       },
       "data": [
        {
         "marker": {
          "color": [
           0,
           1,
           2,
           3,
           4,
           5,
           6,
           7,
           8,
           9,
           10,
           11,
           12,
           13,
           14,
           15,
           16,
           17,
           18,
           19
          ],
          "colorbar": {
           "title": {
            "text": "Trial"
           },
           "x": 1,
           "xpad": 40
          },
          "colorscale": [
           [
            0,
            "rgb(247,251,255)"
           ],
           [
            0.125,
            "rgb(222,235,247)"
           ],
           [
            0.25,
            "rgb(198,219,239)"
           ],
           [
            0.375,
            "rgb(158,202,225)"
           ],
           [
            0.5,
            "rgb(107,174,214)"
           ],
           [
            0.625,
            "rgb(66,146,198)"
           ],
           [
            0.75,
            "rgb(33,113,181)"
           ],
           [
            0.875,
            "rgb(8,81,156)"
           ],
           [
            1,
            "rgb(8,48,107)"
           ]
          ],
          "line": {
           "color": "Grey",
           "width": 0.5
          },
          "showscale": true
         },
         "mode": "markers",
         "name": "Feasible Trial",
         "showlegend": false,
         "type": "scatter",
         "x": [
          100,
          100,
          150,
          200,
          150,
          100,
          150,
          100,
          200,
          200,
          200,
          100,
          200,
          100,
          200,
          100,
          200,
          200,
          100,
          150
         ],
         "xaxis": "x",
         "y": [
          0.7778445776266433,
          0.6319669345188804,
          0.5908786732719995,
          0.5523949920950306,
          0.6616189922641535,
          0.5829778488148188,
          0.6400521595821494,
          0.4781813290287867,
          0.4426665229962466,
          0.7976810923640342,
          0.7301990406699969,
          0.731321938031893,
          0.3072322322322322,
          0.7855914977109401,
          0.76403390490347,
          0.7560985975519419,
          0.7508266848516744,
          0.4566934909104294,
          0.7189615633680706,
          0.44863813229571986
         ],
         "yaxis": "y"
        },
        {
         "marker": {
          "color": [
           0,
           1,
           2,
           3,
           4,
           5,
           6,
           7,
           8,
           9,
           10,
           11,
           12,
           13,
           14,
           15,
           16,
           17,
           18,
           19
          ],
          "colorbar": {
           "title": {
            "text": "Trial"
           },
           "x": 1,
           "xpad": 40
          },
          "colorscale": [
           [
            0,
            "rgb(247,251,255)"
           ],
           [
            0.125,
            "rgb(222,235,247)"
           ],
           [
            0.25,
            "rgb(198,219,239)"
           ],
           [
            0.375,
            "rgb(158,202,225)"
           ],
           [
            0.5,
            "rgb(107,174,214)"
           ],
           [
            0.625,
            "rgb(66,146,198)"
           ],
           [
            0.75,
            "rgb(33,113,181)"
           ],
           [
            0.875,
            "rgb(8,81,156)"
           ],
           [
            1,
            "rgb(8,48,107)"
           ]
          ],
          "line": {
           "color": "Grey",
           "width": 0.5
          },
          "showscale": false
         },
         "mode": "markers",
         "name": "Feasible Trial",
         "showlegend": false,
         "type": "scatter",
         "x": [
          64,
          64,
          128,
          128,
          256,
          256,
          64,
          128,
          256,
          128,
          128,
          64,
          64,
          64,
          128,
          64,
          128,
          128,
          64,
          256
         ],
         "xaxis": "x2",
         "y": [
          0.7778445776266433,
          0.6319669345188804,
          0.5908786732719995,
          0.5523949920950306,
          0.6616189922641535,
          0.5829778488148188,
          0.6400521595821494,
          0.4781813290287867,
          0.4426665229962466,
          0.7976810923640342,
          0.7301990406699969,
          0.731321938031893,
          0.3072322322322322,
          0.7855914977109401,
          0.76403390490347,
          0.7560985975519419,
          0.7508266848516744,
          0.4566934909104294,
          0.7189615633680706,
          0.44863813229571986
         ],
         "yaxis": "y2"
        },
        {
         "marker": {
          "color": [
           0,
           1,
           2,
           3,
           4,
           5,
           6,
           7,
           8,
           9,
           10,
           11,
           12,
           13,
           14,
           15,
           16,
           17,
           18,
           19
          ],
          "colorbar": {
           "title": {
            "text": "Trial"
           },
           "x": 1,
           "xpad": 40
          },
          "colorscale": [
           [
            0,
            "rgb(247,251,255)"
           ],
           [
            0.125,
            "rgb(222,235,247)"
           ],
           [
            0.25,
            "rgb(198,219,239)"
           ],
           [
            0.375,
            "rgb(158,202,225)"
           ],
           [
            0.5,
            "rgb(107,174,214)"
           ],
           [
            0.625,
            "rgb(66,146,198)"
           ],
           [
            0.75,
            "rgb(33,113,181)"
           ],
           [
            0.875,
            "rgb(8,81,156)"
           ],
           [
            1,
            "rgb(8,48,107)"
           ]
          ],
          "line": {
           "color": "Grey",
           "width": 0.5
          },
          "showscale": false
         },
         "mode": "markers",
         "name": "Feasible Trial",
         "showlegend": false,
         "type": "scatter",
         "x": [
          0.08963814947961331,
          0.2927638641320219,
          0.09148718543413979,
          0.14974658544576408,
          0.11755246954630673,
          0.10388313765805358,
          0.09804165155249696,
          0.2787294167226164,
          0.220255873090827,
          0.22630535159633947,
          0.21169390681405537,
          0.19678209670798874,
          0.050755622265699935,
          0.25341910597495737,
          0.2492227370461793,
          0.2540321220743112,
          0.17517482941220974,
          0.24251344539756334,
          0.1772853762415156,
          0.2309662767710378
         ],
         "xaxis": "x3",
         "y": [
          0.7778445776266433,
          0.6319669345188804,
          0.5908786732719995,
          0.5523949920950306,
          0.6616189922641535,
          0.5829778488148188,
          0.6400521595821494,
          0.4781813290287867,
          0.4426665229962466,
          0.7976810923640342,
          0.7301990406699969,
          0.731321938031893,
          0.3072322322322322,
          0.7855914977109401,
          0.76403390490347,
          0.7560985975519419,
          0.7508266848516744,
          0.4566934909104294,
          0.7189615633680706,
          0.44863813229571986
         ],
         "yaxis": "y3"
        },
        {
         "marker": {
          "color": [
           0,
           1,
           2,
           3,
           4,
           5,
           6,
           7,
           8,
           9,
           10,
           11,
           12,
           13,
           14,
           15,
           16,
           17,
           18,
           19
          ],
          "colorbar": {
           "title": {
            "text": "Trial"
           },
           "x": 1,
           "xpad": 40
          },
          "colorscale": [
           [
            0,
            "rgb(247,251,255)"
           ],
           [
            0.125,
            "rgb(222,235,247)"
           ],
           [
            0.25,
            "rgb(198,219,239)"
           ],
           [
            0.375,
            "rgb(158,202,225)"
           ],
           [
            0.5,
            "rgb(107,174,214)"
           ],
           [
            0.625,
            "rgb(66,146,198)"
           ],
           [
            0.75,
            "rgb(33,113,181)"
           ],
           [
            0.875,
            "rgb(8,81,156)"
           ],
           [
            1,
            "rgb(8,48,107)"
           ]
          ],
          "line": {
           "color": "Grey",
           "width": 0.5
          },
          "showscale": false
         },
         "mode": "markers",
         "name": "Feasible Trial",
         "showlegend": false,
         "type": "scatter",
         "x": [
          0.07626297851511167,
          0.05428027794037116,
          0.081282726146676,
          0.09413052181331964,
          0.08251486591627316,
          0.05455369330540957,
          0.053511034650761236,
          0.060730735710048764,
          0.058301256812667845,
          0.0827941610789718,
          0.09970555218487034,
          0.06805993621388766,
          0.07579990917816096,
          0.08750719392883521,
          0.08941007051363555,
          0.08579022507374316,
          0.06862720951718332,
          0.09156173925125795,
          0.0959038509695697,
          0.08632749664947043
         ],
         "xaxis": "x4",
         "y": [
          0.7778445776266433,
          0.6319669345188804,
          0.5908786732719995,
          0.5523949920950306,
          0.6616189922641535,
          0.5829778488148188,
          0.6400521595821494,
          0.4781813290287867,
          0.4426665229962466,
          0.7976810923640342,
          0.7301990406699969,
          0.731321938031893,
          0.3072322322322322,
          0.7855914977109401,
          0.76403390490347,
          0.7560985975519419,
          0.7508266848516744,
          0.4566934909104294,
          0.7189615633680706,
          0.44863813229571986
         ],
         "yaxis": "y4"
        },
        {
         "marker": {
          "color": [
           0,
           1,
           2,
           3,
           4,
           5,
           6,
           7,
           8,
           9,
           10,
           11,
           12,
           13,
           14,
           15,
           16,
           17,
           18,
           19
          ],
          "colorbar": {
           "title": {
            "text": "Trial"
           },
           "x": 1,
           "xpad": 40
          },
          "colorscale": [
           [
            0,
            "rgb(247,251,255)"
           ],
           [
            0.125,
            "rgb(222,235,247)"
           ],
           [
            0.25,
            "rgb(198,219,239)"
           ],
           [
            0.375,
            "rgb(158,202,225)"
           ],
           [
            0.5,
            "rgb(107,174,214)"
           ],
           [
            0.625,
            "rgb(66,146,198)"
           ],
           [
            0.75,
            "rgb(33,113,181)"
           ],
           [
            0.875,
            "rgb(8,81,156)"
           ],
           [
            1,
            "rgb(8,48,107)"
           ]
          ],
          "line": {
           "color": "Grey",
           "width": 0.5
          },
          "showscale": false
         },
         "mode": "markers",
         "name": "Feasible Trial",
         "showlegend": false,
         "type": "scatter",
         "x": [
          0.00030160888447486973,
          0.00007410146874557456,
          0.0000927780379725184,
          0.000013847033101007686,
          0.00013990924775188863,
          0.000043969682567101044,
          0.00004422737553392048,
          0.000008211124436680537,
          0.000008007142110060202,
          0.0002481774075836331,
          0.000750727133825155,
          0.0005904439778803607,
          0.000001736042667795536,
          0.00027398936815162185,
          0.00022582660202986294,
          0.00032201484653916404,
          0.0009672491441006483,
          0.0000205263024294648,
          0.00014234565307267818,
          0.0000013058749679087969
         ],
         "xaxis": "x5",
         "y": [
          0.7778445776266433,
          0.6319669345188804,
          0.5908786732719995,
          0.5523949920950306,
          0.6616189922641535,
          0.5829778488148188,
          0.6400521595821494,
          0.4781813290287867,
          0.4426665229962466,
          0.7976810923640342,
          0.7301990406699969,
          0.731321938031893,
          0.3072322322322322,
          0.7855914977109401,
          0.76403390490347,
          0.7560985975519419,
          0.7508266848516744,
          0.4566934909104294,
          0.7189615633680706,
          0.44863813229571986
         ],
         "yaxis": "y5"
        }
       ],
       "layout": {
        "template": {
         "data": {
          "bar": [
           {
            "error_x": {
             "color": "#2a3f5f"
            },
            "error_y": {
             "color": "#2a3f5f"
            },
            "marker": {
             "line": {
              "color": "#E5ECF6",
              "width": 0.5
             },
             "pattern": {
              "fillmode": "overlay",
              "size": 10,
              "solidity": 0.2
             }
            },
            "type": "bar"
           }
          ],
          "barpolar": [
           {
            "marker": {
             "line": {
              "color": "#E5ECF6",
              "width": 0.5
             },
             "pattern": {
              "fillmode": "overlay",
              "size": 10,
              "solidity": 0.2
             }
            },
            "type": "barpolar"
           }
          ],
          "carpet": [
           {
            "aaxis": {
             "endlinecolor": "#2a3f5f",
             "gridcolor": "white",
             "linecolor": "white",
             "minorgridcolor": "white",
             "startlinecolor": "#2a3f5f"
            },
            "baxis": {
             "endlinecolor": "#2a3f5f",
             "gridcolor": "white",
             "linecolor": "white",
             "minorgridcolor": "white",
             "startlinecolor": "#2a3f5f"
            },
            "type": "carpet"
           }
          ],
          "choropleth": [
           {
            "colorbar": {
             "outlinewidth": 0,
             "ticks": ""
            },
            "type": "choropleth"
           }
          ],
          "contour": [
           {
            "colorbar": {
             "outlinewidth": 0,
             "ticks": ""
            },
            "colorscale": [
             [
              0,
              "#0d0887"
             ],
             [
              0.1111111111111111,
              "#46039f"
             ],
             [
              0.2222222222222222,
              "#7201a8"
             ],
             [
              0.3333333333333333,
              "#9c179e"
             ],
             [
              0.4444444444444444,
              "#bd3786"
             ],
             [
              0.5555555555555556,
              "#d8576b"
             ],
             [
              0.6666666666666666,
              "#ed7953"
             ],
             [
              0.7777777777777778,
              "#fb9f3a"
             ],
             [
              0.8888888888888888,
              "#fdca26"
             ],
             [
              1,
              "#f0f921"
             ]
            ],
            "type": "contour"
           }
          ],
          "contourcarpet": [
           {
            "colorbar": {
             "outlinewidth": 0,
             "ticks": ""
            },
            "type": "contourcarpet"
           }
          ],
          "heatmap": [
           {
            "colorbar": {
             "outlinewidth": 0,
             "ticks": ""
            },
            "colorscale": [
             [
              0,
              "#0d0887"
             ],
             [
              0.1111111111111111,
              "#46039f"
             ],
             [
              0.2222222222222222,
              "#7201a8"
             ],
             [
              0.3333333333333333,
              "#9c179e"
             ],
             [
              0.4444444444444444,
              "#bd3786"
             ],
             [
              0.5555555555555556,
              "#d8576b"
             ],
             [
              0.6666666666666666,
              "#ed7953"
             ],
             [
              0.7777777777777778,
              "#fb9f3a"
             ],
             [
              0.8888888888888888,
              "#fdca26"
             ],
             [
              1,
              "#f0f921"
             ]
            ],
            "type": "heatmap"
           }
          ],
          "heatmapgl": [
           {
            "colorbar": {
             "outlinewidth": 0,
             "ticks": ""
            },
            "colorscale": [
             [
              0,
              "#0d0887"
             ],
             [
              0.1111111111111111,
              "#46039f"
             ],
             [
              0.2222222222222222,
              "#7201a8"
             ],
             [
              0.3333333333333333,
              "#9c179e"
             ],
             [
              0.4444444444444444,
              "#bd3786"
             ],
             [
              0.5555555555555556,
              "#d8576b"
             ],
             [
              0.6666666666666666,
              "#ed7953"
             ],
             [
              0.7777777777777778,
              "#fb9f3a"
             ],
             [
              0.8888888888888888,
              "#fdca26"
             ],
             [
              1,
              "#f0f921"
             ]
            ],
            "type": "heatmapgl"
           }
          ],
          "histogram": [
           {
            "marker": {
             "pattern": {
              "fillmode": "overlay",
              "size": 10,
              "solidity": 0.2
             }
            },
            "type": "histogram"
           }
          ],
          "histogram2d": [
           {
            "colorbar": {
             "outlinewidth": 0,
             "ticks": ""
            },
            "colorscale": [
             [
              0,
              "#0d0887"
             ],
             [
              0.1111111111111111,
              "#46039f"
             ],
             [
              0.2222222222222222,
              "#7201a8"
             ],
             [
              0.3333333333333333,
              "#9c179e"
             ],
             [
              0.4444444444444444,
              "#bd3786"
             ],
             [
              0.5555555555555556,
              "#d8576b"
             ],
             [
              0.6666666666666666,
              "#ed7953"
             ],
             [
              0.7777777777777778,
              "#fb9f3a"
             ],
             [
              0.8888888888888888,
              "#fdca26"
             ],
             [
              1,
              "#f0f921"
             ]
            ],
            "type": "histogram2d"
           }
          ],
          "histogram2dcontour": [
           {
            "colorbar": {
             "outlinewidth": 0,
             "ticks": ""
            },
            "colorscale": [
             [
              0,
              "#0d0887"
             ],
             [
              0.1111111111111111,
              "#46039f"
             ],
             [
              0.2222222222222222,
              "#7201a8"
             ],
             [
              0.3333333333333333,
              "#9c179e"
             ],
             [
              0.4444444444444444,
              "#bd3786"
             ],
             [
              0.5555555555555556,
              "#d8576b"
             ],
             [
              0.6666666666666666,
              "#ed7953"
             ],
             [
              0.7777777777777778,
              "#fb9f3a"
             ],
             [
              0.8888888888888888,
              "#fdca26"
             ],
             [
              1,
              "#f0f921"
             ]
            ],
            "type": "histogram2dcontour"
           }
          ],
          "mesh3d": [
           {
            "colorbar": {
             "outlinewidth": 0,
             "ticks": ""
            },
            "type": "mesh3d"
           }
          ],
          "parcoords": [
           {
            "line": {
             "colorbar": {
              "outlinewidth": 0,
              "ticks": ""
             }
            },
            "type": "parcoords"
           }
          ],
          "pie": [
           {
            "automargin": true,
            "type": "pie"
           }
          ],
          "scatter": [
           {
            "fillpattern": {
             "fillmode": "overlay",
             "size": 10,
             "solidity": 0.2
            },
            "type": "scatter"
           }
          ],
          "scatter3d": [
           {
            "line": {
             "colorbar": {
              "outlinewidth": 0,
              "ticks": ""
             }
            },
            "marker": {
             "colorbar": {
              "outlinewidth": 0,
              "ticks": ""
             }
            },
            "type": "scatter3d"
           }
          ],
          "scattercarpet": [
           {
            "marker": {
             "colorbar": {
              "outlinewidth": 0,
              "ticks": ""
             }
            },
            "type": "scattercarpet"
           }
          ],
          "scattergeo": [
           {
            "marker": {
             "colorbar": {
              "outlinewidth": 0,
              "ticks": ""
             }
            },
            "type": "scattergeo"
           }
          ],
          "scattergl": [
           {
            "marker": {
             "colorbar": {
              "outlinewidth": 0,
              "ticks": ""
             }
            },
            "type": "scattergl"
           }
          ],
          "scattermapbox": [
           {
            "marker": {
             "colorbar": {
              "outlinewidth": 0,
              "ticks": ""
             }
            },
            "type": "scattermapbox"
           }
          ],
          "scatterpolar": [
           {
            "marker": {
             "colorbar": {
              "outlinewidth": 0,
              "ticks": ""
             }
            },
            "type": "scatterpolar"
           }
          ],
          "scatterpolargl": [
           {
            "marker": {
             "colorbar": {
              "outlinewidth": 0,
              "ticks": ""
             }
            },
            "type": "scatterpolargl"
           }
          ],
          "scatterternary": [
           {
            "marker": {
             "colorbar": {
              "outlinewidth": 0,
              "ticks": ""
             }
            },
            "type": "scatterternary"
           }
          ],
          "surface": [
           {
            "colorbar": {
             "outlinewidth": 0,
             "ticks": ""
            },
            "colorscale": [
             [
              0,
              "#0d0887"
             ],
             [
              0.1111111111111111,
              "#46039f"
             ],
             [
              0.2222222222222222,
              "#7201a8"
             ],
             [
              0.3333333333333333,
              "#9c179e"
             ],
             [
              0.4444444444444444,
              "#bd3786"
             ],
             [
              0.5555555555555556,
              "#d8576b"
             ],
             [
              0.6666666666666666,
              "#ed7953"
             ],
             [
              0.7777777777777778,
              "#fb9f3a"
             ],
             [
              0.8888888888888888,
              "#fdca26"
             ],
             [
              1,
              "#f0f921"
             ]
            ],
            "type": "surface"
           }
          ],
          "table": [
           {
            "cells": {
             "fill": {
              "color": "#EBF0F8"
             },
             "line": {
              "color": "white"
             }
            },
            "header": {
             "fill": {
              "color": "#C8D4E3"
             },
             "line": {
              "color": "white"
             }
            },
            "type": "table"
           }
          ]
         },
         "layout": {
          "annotationdefaults": {
           "arrowcolor": "#2a3f5f",
           "arrowhead": 0,
           "arrowwidth": 1
          },
          "autotypenumbers": "strict",
          "coloraxis": {
           "colorbar": {
            "outlinewidth": 0,
            "ticks": ""
           }
          },
          "colorscale": {
           "diverging": [
            [
             0,
             "#8e0152"
            ],
            [
             0.1,
             "#c51b7d"
            ],
            [
             0.2,
             "#de77ae"
            ],
            [
             0.3,
             "#f1b6da"
            ],
            [
             0.4,
             "#fde0ef"
            ],
            [
             0.5,
             "#f7f7f7"
            ],
            [
             0.6,
             "#e6f5d0"
            ],
            [
             0.7,
             "#b8e186"
            ],
            [
             0.8,
             "#7fbc41"
            ],
            [
             0.9,
             "#4d9221"
            ],
            [
             1,
             "#276419"
            ]
           ],
           "sequential": [
            [
             0,
             "#0d0887"
            ],
            [
             0.1111111111111111,
             "#46039f"
            ],
            [
             0.2222222222222222,
             "#7201a8"
            ],
            [
             0.3333333333333333,
             "#9c179e"
            ],
            [
             0.4444444444444444,
             "#bd3786"
            ],
            [
             0.5555555555555556,
             "#d8576b"
            ],
            [
             0.6666666666666666,
             "#ed7953"
            ],
            [
             0.7777777777777778,
             "#fb9f3a"
            ],
            [
             0.8888888888888888,
             "#fdca26"
            ],
            [
             1,
             "#f0f921"
            ]
           ],
           "sequentialminus": [
            [
             0,
             "#0d0887"
            ],
            [
             0.1111111111111111,
             "#46039f"
            ],
            [
             0.2222222222222222,
             "#7201a8"
            ],
            [
             0.3333333333333333,
             "#9c179e"
            ],
            [
             0.4444444444444444,
             "#bd3786"
            ],
            [
             0.5555555555555556,
             "#d8576b"
            ],
            [
             0.6666666666666666,
             "#ed7953"
            ],
            [
             0.7777777777777778,
             "#fb9f3a"
            ],
            [
             0.8888888888888888,
             "#fdca26"
            ],
            [
             1,
             "#f0f921"
            ]
           ]
          },
          "colorway": [
           "#636efa",
           "#EF553B",
           "#00cc96",
           "#ab63fa",
           "#FFA15A",
           "#19d3f3",
           "#FF6692",
           "#B6E880",
           "#FF97FF",
           "#FECB52"
          ],
          "font": {
           "color": "#2a3f5f"
          },
          "geo": {
           "bgcolor": "white",
           "lakecolor": "white",
           "landcolor": "#E5ECF6",
           "showlakes": true,
           "showland": true,
           "subunitcolor": "white"
          },
          "hoverlabel": {
           "align": "left"
          },
          "hovermode": "closest",
          "mapbox": {
           "style": "light"
          },
          "paper_bgcolor": "white",
          "plot_bgcolor": "#E5ECF6",
          "polar": {
           "angularaxis": {
            "gridcolor": "white",
            "linecolor": "white",
            "ticks": ""
           },
           "bgcolor": "#E5ECF6",
           "radialaxis": {
            "gridcolor": "white",
            "linecolor": "white",
            "ticks": ""
           }
          },
          "scene": {
           "xaxis": {
            "backgroundcolor": "#E5ECF6",
            "gridcolor": "white",
            "gridwidth": 2,
            "linecolor": "white",
            "showbackground": true,
            "ticks": "",
            "zerolinecolor": "white"
           },
           "yaxis": {
            "backgroundcolor": "#E5ECF6",
            "gridcolor": "white",
            "gridwidth": 2,
            "linecolor": "white",
            "showbackground": true,
            "ticks": "",
            "zerolinecolor": "white"
           },
           "zaxis": {
            "backgroundcolor": "#E5ECF6",
            "gridcolor": "white",
            "gridwidth": 2,
            "linecolor": "white",
            "showbackground": true,
            "ticks": "",
            "zerolinecolor": "white"
           }
          },
          "shapedefaults": {
           "line": {
            "color": "#2a3f5f"
           }
          },
          "ternary": {
           "aaxis": {
            "gridcolor": "white",
            "linecolor": "white",
            "ticks": ""
           },
           "baxis": {
            "gridcolor": "white",
            "linecolor": "white",
            "ticks": ""
           },
           "bgcolor": "#E5ECF6",
           "caxis": {
            "gridcolor": "white",
            "linecolor": "white",
            "ticks": ""
           }
          },
          "title": {
           "x": 0.05
          },
          "xaxis": {
           "automargin": true,
           "gridcolor": "white",
           "linecolor": "white",
           "ticks": "",
           "title": {
            "standoff": 15
           },
           "zerolinecolor": "white",
           "zerolinewidth": 2
          },
          "yaxis": {
           "automargin": true,
           "gridcolor": "white",
           "linecolor": "white",
           "ticks": "",
           "title": {
            "standoff": 15
           },
           "zerolinecolor": "white",
           "zerolinewidth": 2
          }
         }
        },
        "title": {
         "text": "Slice Plot"
        },
        "width": 1500,
        "xaxis": {
         "anchor": "y",
         "categoryarray": [
          100,
          150,
          200
         ],
         "categoryorder": "array",
         "domain": [
          0,
          0.16799999999999998
         ],
         "title": {
          "text": "EMBEDDING_DIM"
         },
         "type": "category"
        },
        "xaxis2": {
         "anchor": "y2",
         "categoryarray": [
          64,
          128,
          256
         ],
         "categoryorder": "array",
         "domain": [
          0.208,
          0.376
         ],
         "title": {
          "text": "LSTM_units"
         },
         "type": "category"
        },
        "xaxis3": {
         "anchor": "y3",
         "domain": [
          0.416,
          0.584
         ],
         "title": {
          "text": "dropout_rate"
         }
        },
        "xaxis4": {
         "anchor": "y4",
         "domain": [
          0.624,
          0.792
         ],
         "title": {
          "text": "dropout_rate2"
         }
        },
        "xaxis5": {
         "anchor": "y5",
         "domain": [
          0.832,
          1
         ],
         "title": {
          "text": "learning_rate"
         },
         "type": "log"
        },
        "yaxis": {
         "anchor": "x",
         "domain": [
          0,
          1
         ],
         "title": {
          "text": "Objective Value"
         }
        },
        "yaxis2": {
         "anchor": "x2",
         "domain": [
          0,
          1
         ],
         "matches": "y",
         "showticklabels": false
        },
        "yaxis3": {
         "anchor": "x3",
         "domain": [
          0,
          1
         ],
         "matches": "y",
         "showticklabels": false
        },
        "yaxis4": {
         "anchor": "x4",
         "domain": [
          0,
          1
         ],
         "matches": "y",
         "showticklabels": false
        },
        "yaxis5": {
         "anchor": "x5",
         "domain": [
          0,
          1
         ],
         "matches": "y",
         "showticklabels": false
        }
       }
      }
     },
     "metadata": {},
     "output_type": "display_data"
    }
   ],
   "source": [
    "optuna.visualization.plot_slice(study,params=['dropout_rate','dropout_rate2','LSTM_units','EMBEDDING_DIM','learning_rate'])"
   ]
  },
  {
   "cell_type": "code",
   "execution_count": 22,
   "metadata": {},
   "outputs": [
    {
     "data": {
      "application/vnd.plotly.v1+json": {
       "config": {
        "plotlyServerURL": "https://plot.ly"
       },
       "data": [
        {
         "cliponaxis": false,
         "hovertemplate": [
          "LSTM_units (CategoricalDistribution): 0.00409780756354669<extra></extra>",
          "dropout_rate (FloatDistribution): 0.04763075242592227<extra></extra>",
          "EMBEDDING_DIM (CategoricalDistribution): 0.04911210052747723<extra></extra>",
          "dropout_rate2 (FloatDistribution): 0.04947827507186123<extra></extra>",
          "learning_rate (FloatDistribution): 0.8496810644111926<extra></extra>"
         ],
         "name": "Objective Value",
         "orientation": "h",
         "text": [
          "<0.01",
          "0.05",
          "0.05",
          "0.05",
          "0.85"
         ],
         "textposition": "outside",
         "type": "bar",
         "x": [
          0.00409780756354669,
          0.04763075242592227,
          0.04911210052747723,
          0.04947827507186123,
          0.8496810644111926
         ],
         "y": [
          "LSTM_units",
          "dropout_rate",
          "EMBEDDING_DIM",
          "dropout_rate2",
          "learning_rate"
         ]
        }
       ],
       "layout": {
        "template": {
         "data": {
          "bar": [
           {
            "error_x": {
             "color": "#2a3f5f"
            },
            "error_y": {
             "color": "#2a3f5f"
            },
            "marker": {
             "line": {
              "color": "#E5ECF6",
              "width": 0.5
             },
             "pattern": {
              "fillmode": "overlay",
              "size": 10,
              "solidity": 0.2
             }
            },
            "type": "bar"
           }
          ],
          "barpolar": [
           {
            "marker": {
             "line": {
              "color": "#E5ECF6",
              "width": 0.5
             },
             "pattern": {
              "fillmode": "overlay",
              "size": 10,
              "solidity": 0.2
             }
            },
            "type": "barpolar"
           }
          ],
          "carpet": [
           {
            "aaxis": {
             "endlinecolor": "#2a3f5f",
             "gridcolor": "white",
             "linecolor": "white",
             "minorgridcolor": "white",
             "startlinecolor": "#2a3f5f"
            },
            "baxis": {
             "endlinecolor": "#2a3f5f",
             "gridcolor": "white",
             "linecolor": "white",
             "minorgridcolor": "white",
             "startlinecolor": "#2a3f5f"
            },
            "type": "carpet"
           }
          ],
          "choropleth": [
           {
            "colorbar": {
             "outlinewidth": 0,
             "ticks": ""
            },
            "type": "choropleth"
           }
          ],
          "contour": [
           {
            "colorbar": {
             "outlinewidth": 0,
             "ticks": ""
            },
            "colorscale": [
             [
              0,
              "#0d0887"
             ],
             [
              0.1111111111111111,
              "#46039f"
             ],
             [
              0.2222222222222222,
              "#7201a8"
             ],
             [
              0.3333333333333333,
              "#9c179e"
             ],
             [
              0.4444444444444444,
              "#bd3786"
             ],
             [
              0.5555555555555556,
              "#d8576b"
             ],
             [
              0.6666666666666666,
              "#ed7953"
             ],
             [
              0.7777777777777778,
              "#fb9f3a"
             ],
             [
              0.8888888888888888,
              "#fdca26"
             ],
             [
              1,
              "#f0f921"
             ]
            ],
            "type": "contour"
           }
          ],
          "contourcarpet": [
           {
            "colorbar": {
             "outlinewidth": 0,
             "ticks": ""
            },
            "type": "contourcarpet"
           }
          ],
          "heatmap": [
           {
            "colorbar": {
             "outlinewidth": 0,
             "ticks": ""
            },
            "colorscale": [
             [
              0,
              "#0d0887"
             ],
             [
              0.1111111111111111,
              "#46039f"
             ],
             [
              0.2222222222222222,
              "#7201a8"
             ],
             [
              0.3333333333333333,
              "#9c179e"
             ],
             [
              0.4444444444444444,
              "#bd3786"
             ],
             [
              0.5555555555555556,
              "#d8576b"
             ],
             [
              0.6666666666666666,
              "#ed7953"
             ],
             [
              0.7777777777777778,
              "#fb9f3a"
             ],
             [
              0.8888888888888888,
              "#fdca26"
             ],
             [
              1,
              "#f0f921"
             ]
            ],
            "type": "heatmap"
           }
          ],
          "heatmapgl": [
           {
            "colorbar": {
             "outlinewidth": 0,
             "ticks": ""
            },
            "colorscale": [
             [
              0,
              "#0d0887"
             ],
             [
              0.1111111111111111,
              "#46039f"
             ],
             [
              0.2222222222222222,
              "#7201a8"
             ],
             [
              0.3333333333333333,
              "#9c179e"
             ],
             [
              0.4444444444444444,
              "#bd3786"
             ],
             [
              0.5555555555555556,
              "#d8576b"
             ],
             [
              0.6666666666666666,
              "#ed7953"
             ],
             [
              0.7777777777777778,
              "#fb9f3a"
             ],
             [
              0.8888888888888888,
              "#fdca26"
             ],
             [
              1,
              "#f0f921"
             ]
            ],
            "type": "heatmapgl"
           }
          ],
          "histogram": [
           {
            "marker": {
             "pattern": {
              "fillmode": "overlay",
              "size": 10,
              "solidity": 0.2
             }
            },
            "type": "histogram"
           }
          ],
          "histogram2d": [
           {
            "colorbar": {
             "outlinewidth": 0,
             "ticks": ""
            },
            "colorscale": [
             [
              0,
              "#0d0887"
             ],
             [
              0.1111111111111111,
              "#46039f"
             ],
             [
              0.2222222222222222,
              "#7201a8"
             ],
             [
              0.3333333333333333,
              "#9c179e"
             ],
             [
              0.4444444444444444,
              "#bd3786"
             ],
             [
              0.5555555555555556,
              "#d8576b"
             ],
             [
              0.6666666666666666,
              "#ed7953"
             ],
             [
              0.7777777777777778,
              "#fb9f3a"
             ],
             [
              0.8888888888888888,
              "#fdca26"
             ],
             [
              1,
              "#f0f921"
             ]
            ],
            "type": "histogram2d"
           }
          ],
          "histogram2dcontour": [
           {
            "colorbar": {
             "outlinewidth": 0,
             "ticks": ""
            },
            "colorscale": [
             [
              0,
              "#0d0887"
             ],
             [
              0.1111111111111111,
              "#46039f"
             ],
             [
              0.2222222222222222,
              "#7201a8"
             ],
             [
              0.3333333333333333,
              "#9c179e"
             ],
             [
              0.4444444444444444,
              "#bd3786"
             ],
             [
              0.5555555555555556,
              "#d8576b"
             ],
             [
              0.6666666666666666,
              "#ed7953"
             ],
             [
              0.7777777777777778,
              "#fb9f3a"
             ],
             [
              0.8888888888888888,
              "#fdca26"
             ],
             [
              1,
              "#f0f921"
             ]
            ],
            "type": "histogram2dcontour"
           }
          ],
          "mesh3d": [
           {
            "colorbar": {
             "outlinewidth": 0,
             "ticks": ""
            },
            "type": "mesh3d"
           }
          ],
          "parcoords": [
           {
            "line": {
             "colorbar": {
              "outlinewidth": 0,
              "ticks": ""
             }
            },
            "type": "parcoords"
           }
          ],
          "pie": [
           {
            "automargin": true,
            "type": "pie"
           }
          ],
          "scatter": [
           {
            "fillpattern": {
             "fillmode": "overlay",
             "size": 10,
             "solidity": 0.2
            },
            "type": "scatter"
           }
          ],
          "scatter3d": [
           {
            "line": {
             "colorbar": {
              "outlinewidth": 0,
              "ticks": ""
             }
            },
            "marker": {
             "colorbar": {
              "outlinewidth": 0,
              "ticks": ""
             }
            },
            "type": "scatter3d"
           }
          ],
          "scattercarpet": [
           {
            "marker": {
             "colorbar": {
              "outlinewidth": 0,
              "ticks": ""
             }
            },
            "type": "scattercarpet"
           }
          ],
          "scattergeo": [
           {
            "marker": {
             "colorbar": {
              "outlinewidth": 0,
              "ticks": ""
             }
            },
            "type": "scattergeo"
           }
          ],
          "scattergl": [
           {
            "marker": {
             "colorbar": {
              "outlinewidth": 0,
              "ticks": ""
             }
            },
            "type": "scattergl"
           }
          ],
          "scattermapbox": [
           {
            "marker": {
             "colorbar": {
              "outlinewidth": 0,
              "ticks": ""
             }
            },
            "type": "scattermapbox"
           }
          ],
          "scatterpolar": [
           {
            "marker": {
             "colorbar": {
              "outlinewidth": 0,
              "ticks": ""
             }
            },
            "type": "scatterpolar"
           }
          ],
          "scatterpolargl": [
           {
            "marker": {
             "colorbar": {
              "outlinewidth": 0,
              "ticks": ""
             }
            },
            "type": "scatterpolargl"
           }
          ],
          "scatterternary": [
           {
            "marker": {
             "colorbar": {
              "outlinewidth": 0,
              "ticks": ""
             }
            },
            "type": "scatterternary"
           }
          ],
          "surface": [
           {
            "colorbar": {
             "outlinewidth": 0,
             "ticks": ""
            },
            "colorscale": [
             [
              0,
              "#0d0887"
             ],
             [
              0.1111111111111111,
              "#46039f"
             ],
             [
              0.2222222222222222,
              "#7201a8"
             ],
             [
              0.3333333333333333,
              "#9c179e"
             ],
             [
              0.4444444444444444,
              "#bd3786"
             ],
             [
              0.5555555555555556,
              "#d8576b"
             ],
             [
              0.6666666666666666,
              "#ed7953"
             ],
             [
              0.7777777777777778,
              "#fb9f3a"
             ],
             [
              0.8888888888888888,
              "#fdca26"
             ],
             [
              1,
              "#f0f921"
             ]
            ],
            "type": "surface"
           }
          ],
          "table": [
           {
            "cells": {
             "fill": {
              "color": "#EBF0F8"
             },
             "line": {
              "color": "white"
             }
            },
            "header": {
             "fill": {
              "color": "#C8D4E3"
             },
             "line": {
              "color": "white"
             }
            },
            "type": "table"
           }
          ]
         },
         "layout": {
          "annotationdefaults": {
           "arrowcolor": "#2a3f5f",
           "arrowhead": 0,
           "arrowwidth": 1
          },
          "autotypenumbers": "strict",
          "coloraxis": {
           "colorbar": {
            "outlinewidth": 0,
            "ticks": ""
           }
          },
          "colorscale": {
           "diverging": [
            [
             0,
             "#8e0152"
            ],
            [
             0.1,
             "#c51b7d"
            ],
            [
             0.2,
             "#de77ae"
            ],
            [
             0.3,
             "#f1b6da"
            ],
            [
             0.4,
             "#fde0ef"
            ],
            [
             0.5,
             "#f7f7f7"
            ],
            [
             0.6,
             "#e6f5d0"
            ],
            [
             0.7,
             "#b8e186"
            ],
            [
             0.8,
             "#7fbc41"
            ],
            [
             0.9,
             "#4d9221"
            ],
            [
             1,
             "#276419"
            ]
           ],
           "sequential": [
            [
             0,
             "#0d0887"
            ],
            [
             0.1111111111111111,
             "#46039f"
            ],
            [
             0.2222222222222222,
             "#7201a8"
            ],
            [
             0.3333333333333333,
             "#9c179e"
            ],
            [
             0.4444444444444444,
             "#bd3786"
            ],
            [
             0.5555555555555556,
             "#d8576b"
            ],
            [
             0.6666666666666666,
             "#ed7953"
            ],
            [
             0.7777777777777778,
             "#fb9f3a"
            ],
            [
             0.8888888888888888,
             "#fdca26"
            ],
            [
             1,
             "#f0f921"
            ]
           ],
           "sequentialminus": [
            [
             0,
             "#0d0887"
            ],
            [
             0.1111111111111111,
             "#46039f"
            ],
            [
             0.2222222222222222,
             "#7201a8"
            ],
            [
             0.3333333333333333,
             "#9c179e"
            ],
            [
             0.4444444444444444,
             "#bd3786"
            ],
            [
             0.5555555555555556,
             "#d8576b"
            ],
            [
             0.6666666666666666,
             "#ed7953"
            ],
            [
             0.7777777777777778,
             "#fb9f3a"
            ],
            [
             0.8888888888888888,
             "#fdca26"
            ],
            [
             1,
             "#f0f921"
            ]
           ]
          },
          "colorway": [
           "#636efa",
           "#EF553B",
           "#00cc96",
           "#ab63fa",
           "#FFA15A",
           "#19d3f3",
           "#FF6692",
           "#B6E880",
           "#FF97FF",
           "#FECB52"
          ],
          "font": {
           "color": "#2a3f5f"
          },
          "geo": {
           "bgcolor": "white",
           "lakecolor": "white",
           "landcolor": "#E5ECF6",
           "showlakes": true,
           "showland": true,
           "subunitcolor": "white"
          },
          "hoverlabel": {
           "align": "left"
          },
          "hovermode": "closest",
          "mapbox": {
           "style": "light"
          },
          "paper_bgcolor": "white",
          "plot_bgcolor": "#E5ECF6",
          "polar": {
           "angularaxis": {
            "gridcolor": "white",
            "linecolor": "white",
            "ticks": ""
           },
           "bgcolor": "#E5ECF6",
           "radialaxis": {
            "gridcolor": "white",
            "linecolor": "white",
            "ticks": ""
           }
          },
          "scene": {
           "xaxis": {
            "backgroundcolor": "#E5ECF6",
            "gridcolor": "white",
            "gridwidth": 2,
            "linecolor": "white",
            "showbackground": true,
            "ticks": "",
            "zerolinecolor": "white"
           },
           "yaxis": {
            "backgroundcolor": "#E5ECF6",
            "gridcolor": "white",
            "gridwidth": 2,
            "linecolor": "white",
            "showbackground": true,
            "ticks": "",
            "zerolinecolor": "white"
           },
           "zaxis": {
            "backgroundcolor": "#E5ECF6",
            "gridcolor": "white",
            "gridwidth": 2,
            "linecolor": "white",
            "showbackground": true,
            "ticks": "",
            "zerolinecolor": "white"
           }
          },
          "shapedefaults": {
           "line": {
            "color": "#2a3f5f"
           }
          },
          "ternary": {
           "aaxis": {
            "gridcolor": "white",
            "linecolor": "white",
            "ticks": ""
           },
           "baxis": {
            "gridcolor": "white",
            "linecolor": "white",
            "ticks": ""
           },
           "bgcolor": "#E5ECF6",
           "caxis": {
            "gridcolor": "white",
            "linecolor": "white",
            "ticks": ""
           }
          },
          "title": {
           "x": 0.05
          },
          "xaxis": {
           "automargin": true,
           "gridcolor": "white",
           "linecolor": "white",
           "ticks": "",
           "title": {
            "standoff": 15
           },
           "zerolinecolor": "white",
           "zerolinewidth": 2
          },
          "yaxis": {
           "automargin": true,
           "gridcolor": "white",
           "linecolor": "white",
           "ticks": "",
           "title": {
            "standoff": 15
           },
           "zerolinecolor": "white",
           "zerolinewidth": 2
          }
         }
        },
        "title": {
         "text": "Hyperparameter Importances"
        },
        "xaxis": {
         "title": {
          "text": "Hyperparameter Importance"
         }
        },
        "yaxis": {
         "title": {
          "text": "Hyperparameter"
         }
        }
       }
      }
     },
     "metadata": {},
     "output_type": "display_data"
    }
   ],
   "source": [
    "optuna.visualization.plot_param_importances(study)"
   ]
  },
  {
   "cell_type": "code",
   "execution_count": 23,
   "metadata": {},
   "outputs": [
    {
     "name": "stderr",
     "output_type": "stream",
     "text": [
      "C:\\Users\\mrbvb\\AppData\\Local\\Temp\\ipykernel_37228\\2497081126.py:1: ExperimentalWarning:\n",
      "\n",
      "plot_timeline is experimental (supported from v3.2.0). The interface can change in the future.\n",
      "\n"
     ]
    },
    {
     "data": {
      "application/vnd.plotly.v1+json": {
       "config": {
        "plotlyServerURL": "https://plot.ly"
       },
       "data": [
        {
         "base": [
          "2024-04-30T07:10:48.388272",
          "2024-04-30T07:11:58.937420",
          "2024-04-30T07:13:25.333961",
          "2024-04-30T07:15:25.432103",
          "2024-04-30T07:17:29.847991",
          "2024-04-30T07:22:29.629345",
          "2024-04-30T07:27:46.620916",
          "2024-04-30T07:30:43.220073",
          "2024-04-30T07:33:02.016421",
          "2024-04-30T07:36:46.574622",
          "2024-04-30T07:40:00.603673",
          "2024-04-30T07:43:14.196149",
          "2024-04-30T07:47:18.710110",
          "2024-04-30T07:49:30.701906",
          "2024-04-30T07:53:44.300572",
          "2024-04-30T07:56:54.888715",
          "2024-04-30T08:01:19.629432",
          "2024-04-30T08:04:21.390988",
          "2024-04-30T08:06:59.943695",
          "2024-04-30T08:10:47.170904"
         ],
         "hovertemplate": "%{text}<extra>COMPLETE</extra>",
         "marker": {
          "color": "blue"
         },
         "name": "COMPLETE",
         "orientation": "h",
         "text": [
          "{<br>  \"number\": 0,<br>  \"values\": [<br>    0.7778445776266433<br>  ],<br>  \"params\": {<br>    \"dropout_rate\": 0.08963814947961331,<br>    \"dropout_rate2\": 0.07626297851511167,<br>    \"LSTM_units\": 64,<br>    \"EMBEDDING_DIM\": 100,<br>    \"learning_rate\": 0.00030160888447486973<br>  }<br>}",
          "{<br>  \"number\": 1,<br>  \"values\": [<br>    0.6319669345188804<br>  ],<br>  \"params\": {<br>    \"dropout_rate\": 0.2927638641320219,<br>    \"dropout_rate2\": 0.05428027794037116,<br>    \"LSTM_units\": 64,<br>    \"EMBEDDING_DIM\": 100,<br>    \"learning_rate\": 7.410146874557456e-05<br>  }<br>}",
          "{<br>  \"number\": 2,<br>  \"values\": [<br>    0.5908786732719995<br>  ],<br>  \"params\": {<br>    \"dropout_rate\": 0.09148718543413979,<br>    \"dropout_rate2\": 0.081282726146676,<br>    \"LSTM_units\": 128,<br>    \"EMBEDDING_DIM\": 150,<br>    \"learning_rate\": 9.27780379725184e-05<br>  }<br>}",
          "{<br>  \"number\": 3,<br>  \"values\": [<br>    0.5523949920950306<br>  ],<br>  \"params\": {<br>    \"dropout_rate\": 0.14974658544576408,<br>    \"dropout_rate2\": 0.09413052181331964,<br>    \"LSTM_units\": 128,<br>    \"EMBEDDING_DIM\": 200,<br>    \"learning_rate\": 1.3847033101007686e-05<br>  }<br>}",
          "{<br>  \"number\": 4,<br>  \"values\": [<br>    0.6616189922641535<br>  ],<br>  \"params\": {<br>    \"dropout_rate\": 0.11755246954630673,<br>    \"dropout_rate2\": 0.08251486591627316,<br>    \"LSTM_units\": 256,<br>    \"EMBEDDING_DIM\": 150,<br>    \"learning_rate\": 0.00013990924775188863<br>  }<br>}",
          "{<br>  \"number\": 5,<br>  \"values\": [<br>    0.5829778488148188<br>  ],<br>  \"params\": {<br>    \"dropout_rate\": 0.10388313765805358,<br>    \"dropout_rate2\": 0.05455369330540957,<br>    \"LSTM_units\": 256,<br>    \"EMBEDDING_DIM\": 100,<br>    \"learning_rate\": 4.3969682567101044e-05<br>  }<br>}",
          "{<br>  \"number\": 6,<br>  \"values\": [<br>    0.6400521595821494<br>  ],<br>  \"params\": {<br>    \"dropout_rate\": 0.09804165155249696,<br>    \"dropout_rate2\": 0.053511034650761236,<br>    \"LSTM_units\": 64,<br>    \"EMBEDDING_DIM\": 150,<br>    \"learning_rate\": 4.422737553392048e-05<br>  }<br>}",
          "{<br>  \"number\": 7,<br>  \"values\": [<br>    0.4781813290287867<br>  ],<br>  \"params\": {<br>    \"dropout_rate\": 0.2787294167226164,<br>    \"dropout_rate2\": 0.060730735710048764,<br>    \"LSTM_units\": 128,<br>    \"EMBEDDING_DIM\": 100,<br>    \"learning_rate\": 8.211124436680537e-06<br>  }<br>}",
          "{<br>  \"number\": 8,<br>  \"values\": [<br>    0.4426665229962466<br>  ],<br>  \"params\": {<br>    \"dropout_rate\": 0.220255873090827,<br>    \"dropout_rate2\": 0.058301256812667845,<br>    \"LSTM_units\": 256,<br>    \"EMBEDDING_DIM\": 200,<br>    \"learning_rate\": 8.007142110060202e-06<br>  }<br>}",
          "{<br>  \"number\": 9,<br>  \"values\": [<br>    0.7976810923640342<br>  ],<br>  \"params\": {<br>    \"dropout_rate\": 0.22630535159633947,<br>    \"dropout_rate2\": 0.0827941610789718,<br>    \"LSTM_units\": 128,<br>    \"EMBEDDING_DIM\": 200,<br>    \"learning_rate\": 0.0002481774075836331<br>  }<br>}",
          "{<br>  \"number\": 10,<br>  \"values\": [<br>    0.7301990406699969<br>  ],<br>  \"params\": {<br>    \"dropout_rate\": 0.21169390681405537,<br>    \"dropout_rate2\": 0.09970555218487034,<br>    \"LSTM_units\": 128,<br>    \"EMBEDDING_DIM\": 200,<br>    \"learning_rate\": 0.000750727133825155<br>  }<br>}",
          "{<br>  \"number\": 11,<br>  \"values\": [<br>    0.731321938031893<br>  ],<br>  \"params\": {<br>    \"dropout_rate\": 0.19678209670798874,<br>    \"dropout_rate2\": 0.06805993621388766,<br>    \"LSTM_units\": 64,<br>    \"EMBEDDING_DIM\": 100,<br>    \"learning_rate\": 0.0005904439778803607<br>  }<br>}",
          "{<br>  \"number\": 12,<br>  \"values\": [<br>    0.3072322322322322<br>  ],<br>  \"params\": {<br>    \"dropout_rate\": 0.050755622265699935,<br>    \"dropout_rate2\": 0.07579990917816096,<br>    \"LSTM_units\": 64,<br>    \"EMBEDDING_DIM\": 200,<br>    \"learning_rate\": 1.736042667795536e-06<br>  }<br>}",
          "{<br>  \"number\": 13,<br>  \"values\": [<br>    0.7855914977109401<br>  ],<br>  \"params\": {<br>    \"dropout_rate\": 0.25341910597495737,<br>    \"dropout_rate2\": 0.08750719392883521,<br>    \"LSTM_units\": 64,<br>    \"EMBEDDING_DIM\": 100,<br>    \"learning_rate\": 0.00027398936815162185<br>  }<br>}",
          "{<br>  \"number\": 14,<br>  \"values\": [<br>    0.76403390490347<br>  ],<br>  \"params\": {<br>    \"dropout_rate\": 0.2492227370461793,<br>    \"dropout_rate2\": 0.08941007051363555,<br>    \"LSTM_units\": 128,<br>    \"EMBEDDING_DIM\": 200,<br>    \"learning_rate\": 0.00022582660202986294<br>  }<br>}",
          "{<br>  \"number\": 15,<br>  \"values\": [<br>    0.7560985975519419<br>  ],<br>  \"params\": {<br>    \"dropout_rate\": 0.2540321220743112,<br>    \"dropout_rate2\": 0.08579022507374316,<br>    \"LSTM_units\": 64,<br>    \"EMBEDDING_DIM\": 100,<br>    \"learning_rate\": 0.00032201484653916404<br>  }<br>}",
          "{<br>  \"number\": 16,<br>  \"values\": [<br>    0.7508266848516744<br>  ],<br>  \"params\": {<br>    \"dropout_rate\": 0.17517482941220974,<br>    \"dropout_rate2\": 0.06862720951718332,<br>    \"LSTM_units\": 128,<br>    \"EMBEDDING_DIM\": 200,<br>    \"learning_rate\": 0.0009672491441006483<br>  }<br>}",
          "{<br>  \"number\": 17,<br>  \"values\": [<br>    0.4566934909104294<br>  ],<br>  \"params\": {<br>    \"dropout_rate\": 0.24251344539756334,<br>    \"dropout_rate2\": 0.09156173925125795,<br>    \"LSTM_units\": 128,<br>    \"EMBEDDING_DIM\": 200,<br>    \"learning_rate\": 2.05263024294648e-05<br>  }<br>}",
          "{<br>  \"number\": 18,<br>  \"values\": [<br>    0.7189615633680706<br>  ],<br>  \"params\": {<br>    \"dropout_rate\": 0.1772853762415156,<br>    \"dropout_rate2\": 0.0959038509695697,<br>    \"LSTM_units\": 64,<br>    \"EMBEDDING_DIM\": 100,<br>    \"learning_rate\": 0.00014234565307267818<br>  }<br>}",
          "{<br>  \"number\": 19,<br>  \"values\": [<br>    0.44863813229571986<br>  ],<br>  \"params\": {<br>    \"dropout_rate\": 0.2309662767710378,<br>    \"dropout_rate2\": 0.08632749664947043,<br>    \"LSTM_units\": 256,<br>    \"EMBEDDING_DIM\": 150,<br>    \"learning_rate\": 1.3058749679087969e-06<br>  }<br>}"
         ],
         "textposition": "none",
         "type": "bar",
         "x": [
          70548.14,
          86395.543,
          120097.142,
          124415.88799999999,
          299781.35400000005,
          316990.571,
          176598.147,
          138795.35,
          224557.20500000002,
          194029.051,
          193591.467,
          244512.96099999998,
          131990.804,
          253597.668,
          190588.143,
          264739.719,
          181760.559,
          158551.70799999998,
          227226.209,
          186505.629
         ],
         "y": [
          0,
          1,
          2,
          3,
          4,
          5,
          6,
          7,
          8,
          9,
          10,
          11,
          12,
          13,
          14,
          15,
          16,
          17,
          18,
          19
         ]
        }
       ],
       "layout": {
        "showlegend": true,
        "template": {
         "data": {
          "bar": [
           {
            "error_x": {
             "color": "#2a3f5f"
            },
            "error_y": {
             "color": "#2a3f5f"
            },
            "marker": {
             "line": {
              "color": "#E5ECF6",
              "width": 0.5
             },
             "pattern": {
              "fillmode": "overlay",
              "size": 10,
              "solidity": 0.2
             }
            },
            "type": "bar"
           }
          ],
          "barpolar": [
           {
            "marker": {
             "line": {
              "color": "#E5ECF6",
              "width": 0.5
             },
             "pattern": {
              "fillmode": "overlay",
              "size": 10,
              "solidity": 0.2
             }
            },
            "type": "barpolar"
           }
          ],
          "carpet": [
           {
            "aaxis": {
             "endlinecolor": "#2a3f5f",
             "gridcolor": "white",
             "linecolor": "white",
             "minorgridcolor": "white",
             "startlinecolor": "#2a3f5f"
            },
            "baxis": {
             "endlinecolor": "#2a3f5f",
             "gridcolor": "white",
             "linecolor": "white",
             "minorgridcolor": "white",
             "startlinecolor": "#2a3f5f"
            },
            "type": "carpet"
           }
          ],
          "choropleth": [
           {
            "colorbar": {
             "outlinewidth": 0,
             "ticks": ""
            },
            "type": "choropleth"
           }
          ],
          "contour": [
           {
            "colorbar": {
             "outlinewidth": 0,
             "ticks": ""
            },
            "colorscale": [
             [
              0,
              "#0d0887"
             ],
             [
              0.1111111111111111,
              "#46039f"
             ],
             [
              0.2222222222222222,
              "#7201a8"
             ],
             [
              0.3333333333333333,
              "#9c179e"
             ],
             [
              0.4444444444444444,
              "#bd3786"
             ],
             [
              0.5555555555555556,
              "#d8576b"
             ],
             [
              0.6666666666666666,
              "#ed7953"
             ],
             [
              0.7777777777777778,
              "#fb9f3a"
             ],
             [
              0.8888888888888888,
              "#fdca26"
             ],
             [
              1,
              "#f0f921"
             ]
            ],
            "type": "contour"
           }
          ],
          "contourcarpet": [
           {
            "colorbar": {
             "outlinewidth": 0,
             "ticks": ""
            },
            "type": "contourcarpet"
           }
          ],
          "heatmap": [
           {
            "colorbar": {
             "outlinewidth": 0,
             "ticks": ""
            },
            "colorscale": [
             [
              0,
              "#0d0887"
             ],
             [
              0.1111111111111111,
              "#46039f"
             ],
             [
              0.2222222222222222,
              "#7201a8"
             ],
             [
              0.3333333333333333,
              "#9c179e"
             ],
             [
              0.4444444444444444,
              "#bd3786"
             ],
             [
              0.5555555555555556,
              "#d8576b"
             ],
             [
              0.6666666666666666,
              "#ed7953"
             ],
             [
              0.7777777777777778,
              "#fb9f3a"
             ],
             [
              0.8888888888888888,
              "#fdca26"
             ],
             [
              1,
              "#f0f921"
             ]
            ],
            "type": "heatmap"
           }
          ],
          "heatmapgl": [
           {
            "colorbar": {
             "outlinewidth": 0,
             "ticks": ""
            },
            "colorscale": [
             [
              0,
              "#0d0887"
             ],
             [
              0.1111111111111111,
              "#46039f"
             ],
             [
              0.2222222222222222,
              "#7201a8"
             ],
             [
              0.3333333333333333,
              "#9c179e"
             ],
             [
              0.4444444444444444,
              "#bd3786"
             ],
             [
              0.5555555555555556,
              "#d8576b"
             ],
             [
              0.6666666666666666,
              "#ed7953"
             ],
             [
              0.7777777777777778,
              "#fb9f3a"
             ],
             [
              0.8888888888888888,
              "#fdca26"
             ],
             [
              1,
              "#f0f921"
             ]
            ],
            "type": "heatmapgl"
           }
          ],
          "histogram": [
           {
            "marker": {
             "pattern": {
              "fillmode": "overlay",
              "size": 10,
              "solidity": 0.2
             }
            },
            "type": "histogram"
           }
          ],
          "histogram2d": [
           {
            "colorbar": {
             "outlinewidth": 0,
             "ticks": ""
            },
            "colorscale": [
             [
              0,
              "#0d0887"
             ],
             [
              0.1111111111111111,
              "#46039f"
             ],
             [
              0.2222222222222222,
              "#7201a8"
             ],
             [
              0.3333333333333333,
              "#9c179e"
             ],
             [
              0.4444444444444444,
              "#bd3786"
             ],
             [
              0.5555555555555556,
              "#d8576b"
             ],
             [
              0.6666666666666666,
              "#ed7953"
             ],
             [
              0.7777777777777778,
              "#fb9f3a"
             ],
             [
              0.8888888888888888,
              "#fdca26"
             ],
             [
              1,
              "#f0f921"
             ]
            ],
            "type": "histogram2d"
           }
          ],
          "histogram2dcontour": [
           {
            "colorbar": {
             "outlinewidth": 0,
             "ticks": ""
            },
            "colorscale": [
             [
              0,
              "#0d0887"
             ],
             [
              0.1111111111111111,
              "#46039f"
             ],
             [
              0.2222222222222222,
              "#7201a8"
             ],
             [
              0.3333333333333333,
              "#9c179e"
             ],
             [
              0.4444444444444444,
              "#bd3786"
             ],
             [
              0.5555555555555556,
              "#d8576b"
             ],
             [
              0.6666666666666666,
              "#ed7953"
             ],
             [
              0.7777777777777778,
              "#fb9f3a"
             ],
             [
              0.8888888888888888,
              "#fdca26"
             ],
             [
              1,
              "#f0f921"
             ]
            ],
            "type": "histogram2dcontour"
           }
          ],
          "mesh3d": [
           {
            "colorbar": {
             "outlinewidth": 0,
             "ticks": ""
            },
            "type": "mesh3d"
           }
          ],
          "parcoords": [
           {
            "line": {
             "colorbar": {
              "outlinewidth": 0,
              "ticks": ""
             }
            },
            "type": "parcoords"
           }
          ],
          "pie": [
           {
            "automargin": true,
            "type": "pie"
           }
          ],
          "scatter": [
           {
            "fillpattern": {
             "fillmode": "overlay",
             "size": 10,
             "solidity": 0.2
            },
            "type": "scatter"
           }
          ],
          "scatter3d": [
           {
            "line": {
             "colorbar": {
              "outlinewidth": 0,
              "ticks": ""
             }
            },
            "marker": {
             "colorbar": {
              "outlinewidth": 0,
              "ticks": ""
             }
            },
            "type": "scatter3d"
           }
          ],
          "scattercarpet": [
           {
            "marker": {
             "colorbar": {
              "outlinewidth": 0,
              "ticks": ""
             }
            },
            "type": "scattercarpet"
           }
          ],
          "scattergeo": [
           {
            "marker": {
             "colorbar": {
              "outlinewidth": 0,
              "ticks": ""
             }
            },
            "type": "scattergeo"
           }
          ],
          "scattergl": [
           {
            "marker": {
             "colorbar": {
              "outlinewidth": 0,
              "ticks": ""
             }
            },
            "type": "scattergl"
           }
          ],
          "scattermapbox": [
           {
            "marker": {
             "colorbar": {
              "outlinewidth": 0,
              "ticks": ""
             }
            },
            "type": "scattermapbox"
           }
          ],
          "scatterpolar": [
           {
            "marker": {
             "colorbar": {
              "outlinewidth": 0,
              "ticks": ""
             }
            },
            "type": "scatterpolar"
           }
          ],
          "scatterpolargl": [
           {
            "marker": {
             "colorbar": {
              "outlinewidth": 0,
              "ticks": ""
             }
            },
            "type": "scatterpolargl"
           }
          ],
          "scatterternary": [
           {
            "marker": {
             "colorbar": {
              "outlinewidth": 0,
              "ticks": ""
             }
            },
            "type": "scatterternary"
           }
          ],
          "surface": [
           {
            "colorbar": {
             "outlinewidth": 0,
             "ticks": ""
            },
            "colorscale": [
             [
              0,
              "#0d0887"
             ],
             [
              0.1111111111111111,
              "#46039f"
             ],
             [
              0.2222222222222222,
              "#7201a8"
             ],
             [
              0.3333333333333333,
              "#9c179e"
             ],
             [
              0.4444444444444444,
              "#bd3786"
             ],
             [
              0.5555555555555556,
              "#d8576b"
             ],
             [
              0.6666666666666666,
              "#ed7953"
             ],
             [
              0.7777777777777778,
              "#fb9f3a"
             ],
             [
              0.8888888888888888,
              "#fdca26"
             ],
             [
              1,
              "#f0f921"
             ]
            ],
            "type": "surface"
           }
          ],
          "table": [
           {
            "cells": {
             "fill": {
              "color": "#EBF0F8"
             },
             "line": {
              "color": "white"
             }
            },
            "header": {
             "fill": {
              "color": "#C8D4E3"
             },
             "line": {
              "color": "white"
             }
            },
            "type": "table"
           }
          ]
         },
         "layout": {
          "annotationdefaults": {
           "arrowcolor": "#2a3f5f",
           "arrowhead": 0,
           "arrowwidth": 1
          },
          "autotypenumbers": "strict",
          "coloraxis": {
           "colorbar": {
            "outlinewidth": 0,
            "ticks": ""
           }
          },
          "colorscale": {
           "diverging": [
            [
             0,
             "#8e0152"
            ],
            [
             0.1,
             "#c51b7d"
            ],
            [
             0.2,
             "#de77ae"
            ],
            [
             0.3,
             "#f1b6da"
            ],
            [
             0.4,
             "#fde0ef"
            ],
            [
             0.5,
             "#f7f7f7"
            ],
            [
             0.6,
             "#e6f5d0"
            ],
            [
             0.7,
             "#b8e186"
            ],
            [
             0.8,
             "#7fbc41"
            ],
            [
             0.9,
             "#4d9221"
            ],
            [
             1,
             "#276419"
            ]
           ],
           "sequential": [
            [
             0,
             "#0d0887"
            ],
            [
             0.1111111111111111,
             "#46039f"
            ],
            [
             0.2222222222222222,
             "#7201a8"
            ],
            [
             0.3333333333333333,
             "#9c179e"
            ],
            [
             0.4444444444444444,
             "#bd3786"
            ],
            [
             0.5555555555555556,
             "#d8576b"
            ],
            [
             0.6666666666666666,
             "#ed7953"
            ],
            [
             0.7777777777777778,
             "#fb9f3a"
            ],
            [
             0.8888888888888888,
             "#fdca26"
            ],
            [
             1,
             "#f0f921"
            ]
           ],
           "sequentialminus": [
            [
             0,
             "#0d0887"
            ],
            [
             0.1111111111111111,
             "#46039f"
            ],
            [
             0.2222222222222222,
             "#7201a8"
            ],
            [
             0.3333333333333333,
             "#9c179e"
            ],
            [
             0.4444444444444444,
             "#bd3786"
            ],
            [
             0.5555555555555556,
             "#d8576b"
            ],
            [
             0.6666666666666666,
             "#ed7953"
            ],
            [
             0.7777777777777778,
             "#fb9f3a"
            ],
            [
             0.8888888888888888,
             "#fdca26"
            ],
            [
             1,
             "#f0f921"
            ]
           ]
          },
          "colorway": [
           "#636efa",
           "#EF553B",
           "#00cc96",
           "#ab63fa",
           "#FFA15A",
           "#19d3f3",
           "#FF6692",
           "#B6E880",
           "#FF97FF",
           "#FECB52"
          ],
          "font": {
           "color": "#2a3f5f"
          },
          "geo": {
           "bgcolor": "white",
           "lakecolor": "white",
           "landcolor": "#E5ECF6",
           "showlakes": true,
           "showland": true,
           "subunitcolor": "white"
          },
          "hoverlabel": {
           "align": "left"
          },
          "hovermode": "closest",
          "mapbox": {
           "style": "light"
          },
          "paper_bgcolor": "white",
          "plot_bgcolor": "#E5ECF6",
          "polar": {
           "angularaxis": {
            "gridcolor": "white",
            "linecolor": "white",
            "ticks": ""
           },
           "bgcolor": "#E5ECF6",
           "radialaxis": {
            "gridcolor": "white",
            "linecolor": "white",
            "ticks": ""
           }
          },
          "scene": {
           "xaxis": {
            "backgroundcolor": "#E5ECF6",
            "gridcolor": "white",
            "gridwidth": 2,
            "linecolor": "white",
            "showbackground": true,
            "ticks": "",
            "zerolinecolor": "white"
           },
           "yaxis": {
            "backgroundcolor": "#E5ECF6",
            "gridcolor": "white",
            "gridwidth": 2,
            "linecolor": "white",
            "showbackground": true,
            "ticks": "",
            "zerolinecolor": "white"
           },
           "zaxis": {
            "backgroundcolor": "#E5ECF6",
            "gridcolor": "white",
            "gridwidth": 2,
            "linecolor": "white",
            "showbackground": true,
            "ticks": "",
            "zerolinecolor": "white"
           }
          },
          "shapedefaults": {
           "line": {
            "color": "#2a3f5f"
           }
          },
          "ternary": {
           "aaxis": {
            "gridcolor": "white",
            "linecolor": "white",
            "ticks": ""
           },
           "baxis": {
            "gridcolor": "white",
            "linecolor": "white",
            "ticks": ""
           },
           "bgcolor": "#E5ECF6",
           "caxis": {
            "gridcolor": "white",
            "linecolor": "white",
            "ticks": ""
           }
          },
          "title": {
           "x": 0.05
          },
          "xaxis": {
           "automargin": true,
           "gridcolor": "white",
           "linecolor": "white",
           "ticks": "",
           "title": {
            "standoff": 15
           },
           "zerolinecolor": "white",
           "zerolinewidth": 2
          },
          "yaxis": {
           "automargin": true,
           "gridcolor": "white",
           "linecolor": "white",
           "ticks": "",
           "title": {
            "standoff": 15
           },
           "zerolinecolor": "white",
           "zerolinewidth": 2
          }
         }
        },
        "title": {
         "text": "Timeline Plot"
        },
        "xaxis": {
         "title": {
          "text": "Datetime"
         },
         "type": "date"
        },
        "yaxis": {
         "title": {
          "text": "Trial"
         }
        }
       }
      }
     },
     "metadata": {},
     "output_type": "display_data"
    }
   ],
   "source": [
    "optuna.visualization.plot_timeline(study)"
   ]
  },
  {
   "cell_type": "markdown",
   "metadata": {},
   "source": [
    "# End of the Walkway"
   ]
  },
  {
   "cell_type": "markdown",
   "metadata": {},
   "source": [
    "# real training"
   ]
  },
  {
   "cell_type": "code",
   "execution_count": null,
   "metadata": {},
   "outputs": [],
   "source": [
    "def create_model(dropout_rate, dropout_rate2, LSTM_units, EMBEDDING_DIM, learning_rate):  \n",
    "    model = Sequential()\n",
    "    model.add(Embedding(MAX_WORDS, EMBEDDING_DIM, input_length=MAX_SEQUENCE_LENGTH))\n",
    "    model.add(Bidirectional(LSTM(LSTM_units, dropout = dropout_rate ,return_sequences=True)))\n",
    "    model.add(Dropout(dropout_rate2)) \n",
    "    model.add(Bidirectional(LSTM(int(LSTM_units / 2))))\n",
    "    model.add(Dropout(dropout_rate2))\n",
    "    model.add(Dense(1, activation='sigmoid'))\n",
    "    #model.add(KerasClassifier(build_fn=create_svc_model, verbose=0))\n",
    "    model.compile(loss='binary_crossentropy', optimizer=Adam(learning_rate), metrics=['accuracy'])\n",
    "    return model"
   ]
  },
  {
   "cell_type": "code",
   "execution_count": null,
   "metadata": {},
   "outputs": [],
   "source": [
    "model = create_model(00.1836937368228891,0.09850857359174835,256,150,0.00012597950524043458)\n",
    "model.fit()"
   ]
  },
  {
   "cell_type": "markdown",
   "metadata": {},
   "source": [
    "# dont bother"
   ]
  },
  {
   "cell_type": "code",
   "execution_count": null,
   "metadata": {},
   "outputs": [],
   "source": [
    "'''def recall_m(y_true, y_pred):\n",
    "    true_positives = K.sum(K.round(K.clip(y_true * y_pred, 0, 1)))\n",
    "    possible_positives = K.sum(K.round(K.clip(y_true, 0, 1)))\n",
    "    recall = true_positives / (possible_positives + K.epsilon())\n",
    "    return recall\n",
    "\n",
    "def precision_m(y_true, y_pred):\n",
    "    true_positives = K.sum(K.round(K.clip(y_true * y_pred, 0, 1)))\n",
    "    predicted_positives = K.sum(K.round(K.clip(y_pred, 0, 1)))\n",
    "    precision = true_positives / (predicted_positives + K.epsilon())\n",
    "    return precision\n",
    "\n",
    "def f1_m(y_true, y_pred):\n",
    "    precision = precision_m(y_true, y_pred)\n",
    "    recall = recall_m(y_true, y_pred)\n",
    "    return 2*((precision*recall)/(precision+recall+K.epsilon()))'''"
   ]
  },
  {
   "cell_type": "code",
   "execution_count": null,
   "metadata": {},
   "outputs": [],
   "source": [
    "'''def create_model(hp):\n",
    "    model = Sequential()\n",
    "    #model.add(Embedding(input_dim=X_train.shape[0], output_dim=input_dim, input_length=X_train.shape[1]))\n",
    "    model.add(Embedding(MAX_WORDS, EMBEDDING_DIM, input_length=MAX_SEQUENCE_LENGTH)) #keras embedding\n",
    "    model.add(Bidirectional(LSTM(128, return_sequences=True)))\n",
    "    model.add(Dropout(0.1)) \n",
    "    model.add(Bidirectional(LSTM(64)))\n",
    "    model.add(Dropout(0.1)) \n",
    "    model.add(Dense(1, activation='sigmoid'))  # linear for svm\n",
    "    model.compile(loss='binary_crossentropy', optimizer='adam', metrics=['accuracy']) #binary_crossentropy, hinge for svm [f1_m]\n",
    "    model.summary()\n",
    "    return model '''"
   ]
  },
  {
   "cell_type": "code",
   "execution_count": null,
   "metadata": {},
   "outputs": [],
   "source": [
    "import tensorflow as tf\n",
    "from tf.keras import ops\n",
    "\n",
    "\n",
    "class CustomMetric(keras.metrics.Metric):\n",
    "    def __init__(self, **kwargs):\n",
    "        # Specify the name of the metric as \"custom_metric\".\n",
    "        super().__init__(name=\"custom_metric\", **kwargs)\n",
    "        self.sum = self.add_weight(name=\"sum\", initializer=\"zeros\")\n",
    "        self.count = self.add_weight(name=\"count\", dtype=\"int32\", initializer=\"zeros\")\n",
    "\n",
    "    def update_state(self, y_true, y_pred, sample_weight=None):\n",
    "        values = ops.square(y_true - y_pred)\n",
    "        count = ops.shape(y_true)[0]\n",
    "        if sample_weight is not None:\n",
    "            sample_weight = ops.cast(sample_weight, self.dtype)\n",
    "            values *= sample_weight\n",
    "            count *= sample_weight\n",
    "        self.sum.assign_add(ops.sum(values))\n",
    "        self.count.assign_add(count)\n",
    "\n",
    "    def result(self):\n",
    "        return self.sum / ops.cast(self.count, \"float32\")\n",
    "\n",
    "    def reset_states(self):\n",
    "        self.sum.assign(0)\n",
    "        self.count.assign(0)"
   ]
  },
  {
   "cell_type": "code",
   "execution_count": null,
   "metadata": {},
   "outputs": [],
   "source": [
    "Y_train.shape"
   ]
  },
  {
   "cell_type": "code",
   "execution_count": null,
   "metadata": {},
   "outputs": [],
   "source": [
    "X_train.shape"
   ]
  },
  {
   "cell_type": "markdown",
   "metadata": {},
   "source": [
    "custom metric"
   ]
  },
  {
   "cell_type": "code",
   "execution_count": null,
   "metadata": {},
   "outputs": [],
   "source": [
    "#from keras import ops\n",
    "from keras import backend as K\n",
    "from keras.metrics import Metric\n",
    "class CustomMetric(keras.metrics.Metric):\n",
    "#class F1Score(Metric):\n",
    "    def __init__(self, name='custom_metric', **kwargs):\n",
    "        super(F1Score, self).__init__(name=name, **kwargs)\n",
    "        self.true_positives = self.add_weight(name='true_positives', initializer='zeros')\n",
    "        self.false_positives = self.add_weight(name='false_positives', initializer='zeros')\n",
    "        self.false_negatives = self.add_weight(name='false_negatives', initializer='zeros')\n",
    "\n",
    "    def update_state(self, y_true, y_pred, sample_weight=None):\n",
    "        y_true = K.cast(y_true, 'float32')\n",
    "        y_pred = K.cast(K.round(y_pred), 'float32')\n",
    "\n",
    "        true_positives = K.sum(K.cast(y_true * y_pred, 'float32'))\n",
    "        false_positives = K.sum(K.cast((1 - y_true) * y_pred, 'float32'))\n",
    "        false_negatives = K.sum(K.cast(y_true * (1 - y_pred), 'float32'))\n",
    "\n",
    "        self.true_positives.assign_add(true_positives)\n",
    "        self.false_positives.assign_add(false_positives)\n",
    "        self.false_negatives.assign_add(false_negatives)\n",
    "\n",
    "    def result(self):\n",
    "        precision = self.true_positives / (self.true_positives + self.false_positives + K.epsilon())\n",
    "        recall = self.true_positives / (self.true_positives + self.false_negatives + K.epsilon())\n",
    "\n",
    "        f1_score = 2 * (precision * recall) / (precision + recall + K.epsilon())\n",
    "        return f1_score\n",
    "\n",
    "    def reset_states(self):\n",
    "        K.batch_set_value([(v, 0) for v in self.variables])\n",
    "\n",
    "\n"
   ]
  },
  {
   "cell_type": "code",
   "execution_count": null,
   "metadata": {},
   "outputs": [],
   "source": [
    "import numpy as np\n",
    "from tensorflow import keras\n",
    "from tensorflow.keras import layers\n",
    "from kerastuner.tuners import RandomSearch\n",
    "import keras_tuner as kt \n",
    "\n",
    "\n",
    "# Define the model building function\n",
    "def build_model(hp):\n",
    "    model = keras.Sequential()\n",
    "    model.add(layers.Bidirectional(layers.LSTM(units=hp.Int('units', min_value=32, max_value=512, step=32),\n",
    "                                               input_shape=(X_train.shape[1], X_train.shape[2]))))\n",
    "    model.add(layers.Dense(1, activation='sigmoid'))\n",
    "    model.compile(optimizer=keras.optimizers.Adam(hp.Choice('learning_rate', 1e-2, 1e-3, 1e-4)),\n",
    "                  loss='binary_crossentropy',\n",
    "                  metrics=[CustomMetric()])\n",
    "    return model\n",
    "\n",
    "# Define the Keras Tuner RandomSearch tuner\n",
    "tuner = RandomSearch(\n",
    "    hypermodel=build_model,\n",
    "    # Specify the name and direction of the objective.\n",
    "    objective=kt.Objective(\"val_custom_metric\", direction=\"max\"),\n",
    "    max_trials=3,\n",
    "    overwrite=True,\n",
    "    directory=\"my_dir\",\n",
    "    project_name=\"custom_metrics\",\n",
    ")\n",
    "\n",
    "\n",
    "# Perform the hyperparameter search\n",
    "tuner.search(X_train, Y_train,\n",
    "             epochs=10,            # Number of epochs for each training run\n",
    "             validation_data=(X_test, Y_test))\n",
    "\n",
    "# Get the best hyperparameters\n",
    "best_hps = tuner.get_best_hyperparameters(num_trials=1)[0]\n",
    "\n",
    "# Build the model with the best hyperparameters\n",
    "model = tuner.hypermodel.build(best_hps)"
   ]
  },
  {
   "cell_type": "code",
   "execution_count": null,
   "metadata": {},
   "outputs": [],
   "source": [
    "# Get the best hyperparameters\n",
    "best_hps = tuner.get_best_hyperparameters(num_trials=1)[0]\n",
    "\n",
    "# Build the model with the best hyperparameters\n",
    "model = tuner.hypermodel.build(best_hps)\n",
    "model.summary()"
   ]
  },
  {
   "cell_type": "code",
   "execution_count": null,
   "metadata": {},
   "outputs": [],
   "source": [
    "from keras.models import Sequential\n",
    "from keras.layers import Embedding, Bidirectional, LSTM, Dense\n",
    "from kerastuner.tuners import RandomSearch\n",
    "from kerastuner.engine.hyperparameters import HyperParameters\n",
    "\n",
    "def f1_m(y_true, y_pred):\n",
    "    precision = precision_m(y_true, y_pred)  # Assuming precision_m and recall_m are defined elsewhere\n",
    "    recall = recall_m(y_true, y_pred)\n",
    "    return 2 * ((precision * recall) / (precision + recall + K.epsilon()))\n",
    "\n",
    "def build_model(hp):\n",
    "    model = Sequential()\n",
    "    model.add(Embedding(input_dim=vocab_size, output_dim=embedding_dim, input_length=max_sequence_length))\n",
    "    model.add(Bidirectional(LSTM(units=LSTM_units, dropout=dropout_rate, recurrent_dropout=0.1)))\n",
    "    model.add(Dense(units=num_classes, activation='softmax'))\n",
    "    model.compile(loss='binary_crossentropy', optimizer='adam', metrics=[f1_m])\n",
    "    return model\n",
    "\n",
    "# Instantiate the tuner\n",
    "tuner = RandomSearch(\n",
    "    build_model,\n",
    "    objective='val_accuracy',  # or other metric you want to optimize\n",
    "    max_trials=5,  # adjust as needed\n",
    "    executions_per_trial=3,  # adjust as needed\n",
    "    directory='./',\n",
    "    project_name='bi_lstm_hyperparameter_tuning'\n",
    ")\n",
    "\n",
    "# Perform the hyperparameter search\n",
    "tuner.search(x_train, y_train, epochs=10, validation_data=(x_val, y_val))\n",
    "\n",
    "# Get the best hyperparameters\n",
    "best_hps = tuner.get_best_hyperparameters(num_trials=1)[0]\n",
    "\n",
    "# Build the model with the best hyperparameters\n",
    "model = tuner.hypermodel.build(best_hps)\n",
    "model.summary()\n"
   ]
  },
  {
   "cell_type": "markdown",
   "metadata": {},
   "source": [
    "Idiot grid"
   ]
  },
  {
   "cell_type": "code",
   "execution_count": null,
   "metadata": {},
   "outputs": [],
   "source": [
    "# Define your data-specific constants\n",
    "MAX_WORDS = 3500\n",
    "EMBEDDING_DIM = 100\n",
    "MAX_SEQUENCE_LENGTH = 134\n",
    "\n",
    "# Function to create model\n",
    "def create_model(dropout_rate=0.1, LSTM_units=100, learning_rate=0.001):\n",
    "    model = Sequential()\n",
    "    model.add(Embedding(MAX_WORDS, EMBEDDING_DIM, input_length=MAX_SEQUENCE_LENGTH))\n",
    "    model.add(Dense(64, activation='relu'))\n",
    "    model.add(Bidirectional(LSTM(units=LSTM_units, dropout=dropout_rate, recurrent_dropout=0.1)))\n",
    "    model.add(Dense(1, activation='sigmoid'))\n",
    "    optimizer = Adam(learning_rate)\n",
    "    model.compile(optimizer=optimizer, loss='binary_crossentropy', metrics=['f1_macro'])  \n",
    "    return model\n",
    "\n",
    "class CustomKerasClassifier(BaseEstimator):\n",
    "    def __init__(self, dropout_rate=0.1, LSTM_units=100, learning_rate=0.001, **kwargs):\n",
    "        self.dropout_rate = dropout_rate\n",
    "        self.LSTM_units = LSTM_units\n",
    "        self.learning_rate = learning_rate\n",
    "        self.kwargs = kwargs\n",
    "\n",
    "    def fit(self, X, Y):\n",
    "        self.model = create_model(dropout_rate=self.dropout_rate, LSTM_units=self.LSTM_units,\n",
    "                                  learning_rate=self.learning_rate, **self.kwargs)\n",
    "        self.model.fit(X, Y, **self.kwargs)\n",
    "        return self\n",
    "\n",
    "    def predict(self, X):\n",
    "        return self.model.predict(X)\n",
    "\n",
    "# Create CustomKerasClassifier instance\n",
    "model = CustomKerasClassifier()\n",
    "\n",
    "# Define the grid search parameters\n",
    "param_grid = {\n",
    "    'dropout_rate': [0.1, 0.08, 0.09],\n",
    "    'LSTM_units': [50, 100, 150],  # Uncomment if you want to search over LSTM_units\n",
    "    'learning_rate': [0.001, 0.0009, 0.0008]  # Uncomment if you want to search over learning_rate\n",
    "}\n",
    "\n",
    "f1 = make_scorer(fbeta_score, beta = 1)\n",
    "# Perform grid search\n",
    "grid_search = GridSearchCV(estimator=model, param_grid=param_grid, cv=3, scoring=f1, verbose=1)  # Change scoring to 'accuracy'\n",
    "grid_result = grid_search.fit(X_train, Y_train)\n",
    "\n",
    "# Print results\n",
    "print(\"Best: %f using %s\" % (grid_result.best_score_, grid_result.best_params_))\n",
    "means = grid_result.cv_results_['mean_test_score']\n",
    "stds = grid_result.cv_results_['std_test_score']\n",
    "params = grid_result.cv_results_['params']\n",
    "for mean, stdev, param in zip(means, stds, params):\n",
    "    print(\"%f (%f) with: %r\" % (mean, stdev, param))\n"
   ]
  },
  {
   "cell_type": "markdown",
   "metadata": {},
   "source": [
    "Save model"
   ]
  },
  {
   "cell_type": "code",
   "execution_count": null,
   "metadata": {},
   "outputs": [],
   "source": [
    "# Save the best model\n",
    "best_model = grid_result.best_estimator_.model\n",
    "best_model.save('best_model.h5')\n"
   ]
  },
  {
   "cell_type": "markdown",
   "metadata": {},
   "source": [
    "Ending the new gridsearch"
   ]
  },
  {
   "cell_type": "code",
   "execution_count": null,
   "metadata": {},
   "outputs": [],
   "source": [
    "#from gpt\n",
    "from sklearn.metrics import confusion_matrix, precision_score, recall_score, f1_score\n",
    "import seaborn as sns\n",
    "import matplotlib.pyplot as plt\n",
    "\n",
    "# Predict classes for test data\n",
    "Y_pred = best_model.predict_classes(X_test)\n",
    "\n",
    "# Calculate precision, recall, and F1-score\n",
    "precision = precision_score(Y_test, Y_pred)\n",
    "recall = recall_score(Y_test, Y_pred)\n",
    "f1 = f1_score(Y_test, Y_pred)\n",
    "\n",
    "# Calculate confusion matrix\n",
    "conf_matrix = confusion_matrix(Y_test, Y_pred)\n",
    "\n",
    "# Plot confusion matrix\n",
    "sns.heatmap(conf_matrix, annot=True, fmt='d', cmap='Blues')\n",
    "plt.xlabel('Predicted Label')\n",
    "plt.ylabel('True Label')\n",
    "plt.title('Confusion Matrix')\n",
    "plt.show()"
   ]
  },
  {
   "cell_type": "markdown",
   "metadata": {},
   "source": [
    "evaluation and matrix"
   ]
  },
  {
   "cell_type": "code",
   "execution_count": null,
   "metadata": {},
   "outputs": [],
   "source": [
    "from sklearn.metrics import precision_score, recall_score, f1_score\n",
    "\n",
    "# Evaluate the model on the test set\n",
    "evaluation = model.evaluate(X_test, Y_test)\n",
    "\n",
    "loss = evaluation[0]\n",
    "f1_score = evaluation[1]\n",
    "\n",
    "# Print evaluation metrics\n",
    "print('Test set evaluate\\n  Loss: {:0.3f}\\n  F1 Score: {:0.3f}'.format(loss, f1_score))\n",
    "\n",
    "y_pred = model.predict(X_test)\n",
    "y_pred_binary = (y_pred > 0.5).astype(int)\n",
    "\n",
    "# Calculate precision, recall, and F1 score for the test set\n",
    "precision = precision_score(Y_test, y_pred_binary, average='weighted')\n",
    "recall = recall_score(Y_test, y_pred_binary, average='weighted')\n",
    "f1_metric = (2 * precision * recall)/(precision + recall)\n",
    "\n",
    "# Print precision, recall, and F1 score\n",
    "print('Precision: {:0.3f}\\nRecall: {:0.3f}\\nF1 Score: {:0.3f}\\n'.format(precision, recall, f1_metric))"
   ]
  },
  {
   "cell_type": "code",
   "execution_count": null,
   "metadata": {},
   "outputs": [],
   "source": [
    "from sklearn.metrics import confusion_matrix, ConfusionMatrixDisplay\n",
    "import matplotlib.pyplot as plt\n",
    "\n",
    "# Calculate confusion matrix\n",
    "cm = confusion_matrix(Y_test, y_pred_binary)\n",
    "\n",
    "# Plot confusion matrix\n",
    "disp = ConfusionMatrixDisplay(confusion_matrix=cm, display_labels=label_encoder.classes_)\n",
    "disp.plot(cmap=plt.cm.Blues, colorbar=False)\n",
    "plt.title('Confusion Matrix') #put title before to avoid cropping\n",
    "plt.gcf().set_size_inches(4, 3) \n",
    "\n",
    "# Prevent cropping\n",
    "plt.tight_layout()\n",
    "\n",
    "plt.savefig('./img/confusion_relevant_ori_trafbal_pau.png') # Save the figure before showing\n",
    "plt.show()"
   ]
  },
  {
   "cell_type": "markdown",
   "metadata": {},
   "source": [
    "save model"
   ]
  },
  {
   "cell_type": "code",
   "execution_count": null,
   "metadata": {},
   "outputs": [],
   "source": [
    "model_json = model.to_json()\n",
    "with open(\"./model/relevant_arch_ori_n_trafbal.json\", \"w\") as json_file:\n",
    "    json_file.write(model_json)\n",
    "    \n",
    "model.save_weights('./model/relevant_w_ori_n_trafbal.h5')"
   ]
  },
  {
   "cell_type": "code",
   "execution_count": null,
   "metadata": {},
   "outputs": [],
   "source": [
    "from sklearn.metrics import confusion_matrix, ConfusionMatrixDisplay\n",
    "import matplotlib.pyplot as plt\n",
    "\n",
    "# Calculate confusion matrix\n",
    "cm = confusion_matrix(Y_test, y_pred_binary)\n",
    "\n",
    "# Plot confusion matrix\n",
    "disp = ConfusionMatrixDisplay(confusion_matrix=cm, display_labels=label_encoder.classes_)\n",
    "disp.plot(cmap=plt.cm.Blues, colorbar=False)\n",
    "\n",
    "# Get current axis and adjust figure size to fit the matrix\n",
    "plt.gca().set_aspect('equal', adjustable='box')\n",
    "plt.gcf().set_size_inches(cm.shape[1], cm.shape[0])  # Set figure size based on matrix dimensions\n",
    "\n",
    "plt.title('Confusion Matrix')\n",
    "\n",
    "# Save the figure before showing\n",
    "plt.savefig('./img/confusion_relevant_ori_trafbal') #_ori_trafbal'\n",
    "\n",
    "plt.show()\n"
   ]
  },
  {
   "cell_type": "code",
   "execution_count": null,
   "metadata": {},
   "outputs": [],
   "source": [
    "accr = model.evaluate(X_test, Y_test)\n",
    "print('Test set\\n  Loss: {:0.3f}\\n  Accuracy: {:0.3f}'.format(accr[0], accr[1]))\n",
    "\n",
    "\n",
    "# Get predictions for the test set\n",
    "y_pred = np.argmax(model.predict(X_test), axis=1)\n"
   ]
  },
  {
   "cell_type": "code",
   "execution_count": null,
   "metadata": {},
   "outputs": [],
   "source": [
    "from sklearn.metrics import roc_auc_score\n",
    "score = roc_auc_score(Y_test, y_pred)\n",
    "print('ROC AUC: %.3f' % score)\n",
    "cm = confusion_matrix(Y_test, y_pred)\n",
    "\n",
    "# Plot confusion matrix\n",
    "plt.figure(figsize=(4, 3))\n",
    "sns.heatmap(cm, annot=True, fmt='d', cmap='Blues', xticklabels=label_encoder.classes_, yticklabels=label_encoder.classes_)\n",
    "plt.xlabel('Predicted')\n",
    "plt.ylabel('True')\n",
    "plt.title('Confusion Matrix')\n",
    "plt.show()"
   ]
  }
 ],
 "metadata": {
  "kernelspec": {
   "display_name": "gpt-twitter",
   "language": "python",
   "name": "python3"
  },
  "language_info": {
   "codemirror_mode": {
    "name": "ipython",
    "version": 3
   },
   "file_extension": ".py",
   "mimetype": "text/x-python",
   "name": "python",
   "nbconvert_exporter": "python",
   "pygments_lexer": "ipython3",
   "version": "3.11.1"
  }
 },
 "nbformat": 4,
 "nbformat_minor": 2
}
