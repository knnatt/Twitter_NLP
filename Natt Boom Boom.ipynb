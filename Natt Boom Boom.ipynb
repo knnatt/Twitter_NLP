{
 "cells": [
  {
   "cell_type": "markdown",
   "metadata": {},
   "source": [
    "NLP_df_labeled \n",
    "ggl sheet: NLP_df_unlimit_final_more_for_upload     \n"
   ]
  },
  {
   "cell_type": "code",
   "execution_count": null,
   "metadata": {},
   "outputs": [],
   "source": [
    "'''git remote add origin https://github.com/knnatt/Twitter_NLP\n",
    "git add twitter-gpt.ipynb        \n",
    "git commit -m \"testing first repository\"      \n",
    "'''"
   ]
  },
  {
   "cell_type": "code",
   "execution_count": null,
   "metadata": {},
   "outputs": [],
   "source": [
    "'''! pip install pandas\n",
    "! pip install keras\n",
    "! pip install pythainlp\n",
    "! pip install scikit-learn\n",
    "! pip install numpy\n",
    "! pip install matplotlib\n",
    "! pip install seaborn'''\n"
   ]
  },
  {
   "cell_type": "code",
   "execution_count": 1,
   "metadata": {},
   "outputs": [],
   "source": [
    "import os\n",
    "import re\n",
    "import time\n",
    "import pandas as pd\n",
    "import numpy as np\n",
    "import matplotlib.pyplot as plt\n",
    "import seaborn as sns\n",
    "\n",
    "from keras.models import load_model\n",
    "from pythainlp.tokenize import word_tokenize\n",
    "#from sklearn.metrics import confusion_matrix\n",
    "from pythainlp.corpus import thai_stopwords\n",
    "from pythainlp.util import normalize"
   ]
  },
  {
   "cell_type": "markdown",
   "metadata": {},
   "source": []
  },
  {
   "cell_type": "code",
   "execution_count": 2,
   "metadata": {},
   "outputs": [],
   "source": [
    "def stopwords_rm(text):\n",
    "    stopwords = set(thai_stopwords())\n",
    "    stopwords.update([\"nan\", \"-\", \"_\", \"\", \" \", \"฿\" ,\"ค่ะ\", \"ครับ\", \"จ้า\"])  # Add more stopwords as needed\n",
    "\n",
    "    # Remove stopwords from the text\n",
    "    cleaned_text = ' '.join(word for word in text.split() if word not in stopwords)\n",
    "    return cleaned_text\n",
    "\n",
    "\n",
    "def deEmojify(text):\n",
    "    regrex_pattern = re.compile(pattern = \"[\"\n",
    "        u\"\\U0001F600-\\U0001F64F\"  # emoticons\n",
    "        u\"\\U0001F300-\\U0001F5FF\"  # symbols & pictographs\n",
    "        u\"\\U0001F680-\\U0001F6FF\"  # transport & map symbols\n",
    "        u\"\\U0001F1E0-\\U0001F1FF\"  # flags (iOS)\n",
    "        u\"\\U00002500-\\U00002BEF\"  # chinese char\n",
    "        u\"\\U00002702-\\U000027B0\"\n",
    "        u\"\\U00002702-\\U000027B0\"\n",
    "        u\"\\U000024C2-\\U0001F251\"\n",
    "        u\"\\U0001f926-\\U0001f937\"\n",
    "        u\"\\U00010000-\\U0010ffff\"\n",
    "        u\"\\u2640-\\u2642\"\n",
    "        u\"\\u2600-\\u2B55\"\n",
    "        u\"\\u200d\"\n",
    "        u\"\\u23cf\"\n",
    "        u\"\\u23e9\"\n",
    "        u\"\\u231a\"\n",
    "        u\"\\ufe0f\"  # dingbats\n",
    "        u\"\\u3030\"\n",
    "                           \"]+\", flags = re.UNICODE)\n",
    "    return regrex_pattern.sub(r'',text)\n",
    "\n",
    "def normie(df):\n",
    "    print('cleaning . . .')\n",
    "    i = 0 #row number\n",
    "    df['cleaned1'] = ''\n",
    "    for row in df['cleaned']:\n",
    "        clean = ''\n",
    "        j = row.split(' ') #j is array of string\n",
    "        for word in j:\n",
    "            clean = clean + ' ' + normalize(word) #spell(word)[0] #correct(word)\n",
    "        df['cleaned1'].iloc[i] = clean\n",
    "        i += 1\n",
    "    print('done cleaning by normalization')\n",
    "    return df['cleaned1']\n",
    "def alone(df):\n",
    "    print('Are you alone?')\n",
    "    i = 0 #row number\n",
    "    df['cleaned1'] = ''\n",
    "    for row in df['cleaned']:\n",
    "        words = row.split() #j is array of string\n",
    "        cleaned = [word for word in words if len(word) > 1]\n",
    "        cleaned_string = \" \".join(cleaned)\n",
    "        df['cleaned1'].iloc[i] = cleaned_string\n",
    "        i += 1\n",
    "    print('done cleaning alone')\n",
    "    return df['cleaned1']\n"
   ]
  },
  {
   "cell_type": "code",
   "execution_count": 3,
   "metadata": {},
   "outputs": [],
   "source": [
    "df_1 = pd.read_csv(\"./df_y4s2_final_new.csv\")\n",
    "# df_1 = df_1.dropna(subset='mentioned_location')"
   ]
  },
  {
   "cell_type": "code",
   "execution_count": 4,
   "metadata": {},
   "outputs": [
    {
     "data": {
      "text/plain": [
       "False    3327\n",
       "True      271\n",
       "Name: relevant, dtype: int64"
      ]
     },
     "execution_count": 4,
     "metadata": {},
     "output_type": "execute_result"
    }
   ],
   "source": [
    "df_1['relevant'].value_counts() "
   ]
  },
  {
   "cell_type": "code",
   "execution_count": 5,
   "metadata": {},
   "outputs": [],
   "source": [
    "df_all = pd.read_csv(\"./df_y4s2_v1_Natt48.csv\") #have chad chat 48 true entries\n",
    "df_all1 = pd.concat([df_1,df_all])\n",
    "df_all1['Chadchad'] = df_all1['Chadchad'].fillna('no')\n",
    "df_all1 = df_all1.drop_duplicates(subset='tweet_text', keep='last')\n",
    "df_a = df_all1\n"
   ]
  },
  {
   "cell_type": "code",
   "execution_count": 6,
   "metadata": {},
   "outputs": [
    {
     "data": {
      "text/plain": [
       "False    4192\n",
       "True      371\n",
       "Name: relevant, dtype: int64"
      ]
     },
     "execution_count": 6,
     "metadata": {},
     "output_type": "execute_result"
    }
   ],
   "source": [
    "df_a['relevant'].value_counts() "
   ]
  },
  {
   "cell_type": "markdown",
   "metadata": {},
   "source": [
    "random drop false num_drop(3008 data entries) for resolve imbalance data"
   ]
  },
  {
   "cell_type": "code",
   "execution_count": 7,
   "metadata": {},
   "outputs": [
    {
     "data": {
      "text/plain": [
       "True     371\n",
       "False    312\n",
       "Name: relevant, dtype: int64"
      ]
     },
     "execution_count": 7,
     "metadata": {},
     "output_type": "execute_result"
    }
   ],
   "source": [
    "num_drop = int(df_a[df_a['relevant'] == False].shape[0]) - int(df_a[df_a['relevant'] == True].shape[0])\n",
    "np.random.seed(int(time.time()))\n",
    "false_rows = df_a[df_a['relevant'] == False]\n",
    "rows_to_keep = false_rows.sample(n=312, random_state=42) \n",
    "\n",
    "df_dropped = df_a[df_a['relevant'] != False]\n",
    "df_a = pd.concat([df_dropped,rows_to_keep])\n",
    "df_a['relevant'].value_counts() #balanced "
   ]
  },
  {
   "cell_type": "code",
   "execution_count": 8,
   "metadata": {},
   "outputs": [
    {
     "name": "stdout",
     "output_type": "stream",
     "text": [
      "Are you alone?\n",
      "done cleaning alone\n"
     ]
    },
    {
     "name": "stderr",
     "output_type": "stream",
     "text": [
      "C:\\Users\\mrbvb\\AppData\\Local\\Temp\\ipykernel_28284\\415578056.py:54: SettingWithCopyWarning: \n",
      "A value is trying to be set on a copy of a slice from a DataFrame\n",
      "\n",
      "See the caveats in the documentation: https://pandas.pydata.org/pandas-docs/stable/user_guide/indexing.html#returning-a-view-versus-a-copy\n",
      "  df['cleaned1'].iloc[i] = cleaned_string\n"
     ]
    }
   ],
   "source": [
    "df_a['split_text'] = df_a.apply(lambda row: word_tokenize(row['tweet_text'],engine=\"newmm\",keep_whitespace=False), axis=1) #use this\n",
    "df_a['combined'] = [' '.join(lst) for lst in df_a['split_text']]\n",
    "df_a['cleaned'] = df_a['combined'].apply(deEmojify)\n",
    "df_a['cleaned'] = df_a['cleaned'].apply(stopwords_rm) #use in X\n",
    "#df_a['cleaned'] = normie(df_a)\n",
    "df_a['cleaned'] = alone(df_a)\n",
    "df_a['split_cleaned'] = df_a.apply(lambda row: word_tokenize(row['cleaned'],engine=\"newmm\",keep_whitespace=False), axis=1) #use in counting words\n",
    "\n",
    "#newmm cuts better than nemm-safe ศร, ีฯ ค่,ะ #attacut is virus\n",
    "#try other engine or break larger, add space in between  \n",
    "#df_a['split_text2'] = df_a.apply(lambda row: word_tokenize(row['tweet_text'],engine=\"newmm-safe\",keep_whitespace=False), axis=1)'''\n"
   ]
  },
  {
   "cell_type": "markdown",
   "metadata": {},
   "source": [
    "https://pythainlp.github.io/dev-docs/api/tokenize.html"
   ]
  },
  {
   "cell_type": "code",
   "execution_count": 9,
   "metadata": {},
   "outputs": [
    {
     "name": "stderr",
     "output_type": "stream",
     "text": [
      "C:\\Users\\mrbvb\\AppData\\Local\\Temp\\ipykernel_28284\\3348223842.py:8: SettingWithCopyWarning: \n",
      "A value is trying to be set on a copy of a slice from a DataFrame\n",
      "\n",
      "See the caveats in the documentation: https://pandas.pydata.org/pandas-docs/stable/user_guide/indexing.html#returning-a-view-versus-a-copy\n",
      "  df_a['contain_good'].iloc[i] = '0'\n",
      "C:\\Users\\mrbvb\\AppData\\Local\\Temp\\ipykernel_28284\\3348223842.py:6: SettingWithCopyWarning: \n",
      "A value is trying to be set on a copy of a slice from a DataFrame\n",
      "\n",
      "See the caveats in the documentation: https://pandas.pydata.org/pandas-docs/stable/user_guide/indexing.html#returning-a-view-versus-a-copy\n",
      "  df_a['contain_good'].iloc[i] = '1'\n",
      "C:\\Users\\mrbvb\\AppData\\Local\\Temp\\ipykernel_28284\\3348223842.py:14: SettingWithCopyWarning: \n",
      "A value is trying to be set on a copy of a slice from a DataFrame\n",
      "\n",
      "See the caveats in the documentation: https://pandas.pydata.org/pandas-docs/stable/user_guide/indexing.html#returning-a-view-versus-a-copy\n",
      "  df_a['contain_area'].iloc[i] = '0'\n",
      "C:\\Users\\mrbvb\\AppData\\Local\\Temp\\ipykernel_28284\\3348223842.py:12: SettingWithCopyWarning: \n",
      "A value is trying to be set on a copy of a slice from a DataFrame\n",
      "\n",
      "See the caveats in the documentation: https://pandas.pydata.org/pandas-docs/stable/user_guide/indexing.html#returning-a-view-versus-a-copy\n",
      "  df_a['contain_area'].iloc[i] = '1'\n"
     ]
    }
   ],
   "source": [
    "df_a['relevance_nlp'] = df_a['relevant'].apply(lambda x: 'relevant' if x else 'not relevant')\n",
    "df_a = df_a.dropna(subset=['tweet_text'])\n",
    "df_a['contain_area'],df_a['contain_good'] = '2','2'\n",
    "for i in range(df_a['split_cleaned'].shape[0]):\n",
    "    if 'ดี' in df_a['split_cleaned'].iloc[i]:\n",
    "        df_a['contain_good'].iloc[i] = '1'\n",
    "    else:\n",
    "        df_a['contain_good'].iloc[i] = '0'\n",
    "\n",
    "for i in range(df_a['split_cleaned'].shape[0]):\n",
    "    if 'พื้นที่' in df_a['split_cleaned'].iloc[i]:\n",
    "        df_a['contain_area'].iloc[i] = '1'\n",
    "    else:\n",
    "        df_a['contain_area'].iloc[i] = '0'\n",
    "df_a = df_a.dropna(subset=['tweet_text'])"
   ]
  },
  {
   "cell_type": "code",
   "execution_count": 10,
   "metadata": {},
   "outputs": [],
   "source": [
    "df_a['word_length'] = df_a['split_cleaned'].str.len()"
   ]
  },
  {
   "cell_type": "code",
   "execution_count": 11,
   "metadata": {},
   "outputs": [
    {
     "data": {
      "text/plain": [
       "2768    132\n",
       "2770     94\n",
       "2783     79\n",
       "2797     76\n",
       "2771     76\n",
       "       ... \n",
       "2524      4\n",
       "562       4\n",
       "2765      4\n",
       "2112      2\n",
       "2758      2\n",
       "Name: word_length, Length: 683, dtype: int64"
      ]
     },
     "execution_count": 11,
     "metadata": {},
     "output_type": "execute_result"
    }
   ],
   "source": [
    "df_a['word_length'].sort_values(ascending=False) "
   ]
  },
  {
   "cell_type": "code",
   "execution_count": 12,
   "metadata": {},
   "outputs": [
    {
     "data": {
      "text/html": [
       "<div>\n",
       "<style scoped>\n",
       "    .dataframe tbody tr th:only-of-type {\n",
       "        vertical-align: middle;\n",
       "    }\n",
       "\n",
       "    .dataframe tbody tr th {\n",
       "        vertical-align: top;\n",
       "    }\n",
       "\n",
       "    .dataframe thead th {\n",
       "        text-align: right;\n",
       "    }\n",
       "</style>\n",
       "<table border=\"1\" class=\"dataframe\">\n",
       "  <thead>\n",
       "    <tr style=\"text-align: right;\">\n",
       "      <th></th>\n",
       "      <th>index</th>\n",
       "      <th>username</th>\n",
       "      <th>tweet_id</th>\n",
       "      <th>tweet_text</th>\n",
       "      <th>translated_text</th>\n",
       "      <th>org_step_1</th>\n",
       "      <th>org_step_2</th>\n",
       "      <th>relevant</th>\n",
       "      <th>category</th>\n",
       "      <th>query</th>\n",
       "      <th>...</th>\n",
       "      <th>Chadchad</th>\n",
       "      <th>split_text</th>\n",
       "      <th>combined</th>\n",
       "      <th>cleaned</th>\n",
       "      <th>cleaned1</th>\n",
       "      <th>split_cleaned</th>\n",
       "      <th>relevance_nlp</th>\n",
       "      <th>contain_area</th>\n",
       "      <th>contain_good</th>\n",
       "      <th>word_length</th>\n",
       "    </tr>\n",
       "  </thead>\n",
       "  <tbody>\n",
       "    <tr>\n",
       "      <th>4</th>\n",
       "      <td>68</td>\n",
       "      <td>ssssxsaii</td>\n",
       "      <td>1.723592e+18</td>\n",
       "      <td>บรรทัดทองจะน่าเดินกว่านี้ถ้า\\r\\n-ทำทางเดินใหม่...</td>\n",
       "      <td>Banthat Thong would be more worth walking arou...</td>\n",
       "      <td>สนง.เทศกิจ</td>\n",
       "      <td>สนง.เทศกิจ</td>\n",
       "      <td>True</td>\n",
       "      <td>ทางเท้า</td>\n",
       "      <td>(\"ทางเท้า\" OR \"ทางเดิน\" OR \"ฟุตบาท\") AND (\"นคร...</td>\n",
       "      <td>...</td>\n",
       "      <td>no</td>\n",
       "      <td>[บรรทัด, ทอง, จะ, น่า, เดิน, กว่า, นี้, ถ้า, \\...</td>\n",
       "      <td>บรรทัด ทอง จะ น่า เดิน กว่า นี้ ถ้า \\r\\n - ทำ ...</td>\n",
       "      <td>บรรทัด ทอง เดิน ทำ ทางเดิน แผ่น พื้น กระดก ท่อ...</td>\n",
       "      <td>บรรทัด ทอง เดิน ทำ ทางเดิน แผ่น พื้น กระดก ท่อ...</td>\n",
       "      <td>[บรรทัด, ทอง, เดิน, ทำ, ทางเดิน, แผ่น, พื้น, ก...</td>\n",
       "      <td>relevant</td>\n",
       "      <td>0</td>\n",
       "      <td>0</td>\n",
       "      <td>30</td>\n",
       "    </tr>\n",
       "    <tr>\n",
       "      <th>5</th>\n",
       "      <td>79</td>\n",
       "      <td>Catter65422769</td>\n",
       "      <td>1.723250e+18</td>\n",
       "      <td>ความปลอดภัยของแทร่\\r\\n\\r\\nงานปรับปรุงทางเท้าให...</td>\n",
       "      <td>Tractor safety\\r\\n\\r\\nNew sidewalk improvement...</td>\n",
       "      <td>สนง.โยธา</td>\n",
       "      <td>สนง.โยธา</td>\n",
       "      <td>True</td>\n",
       "      <td>ทางเท้า</td>\n",
       "      <td>(\"ทางเท้า\" OR \"ทางเดิน\" OR \"ฟุตบาท\") AND (\"กรุ...</td>\n",
       "      <td>...</td>\n",
       "      <td>no</td>\n",
       "      <td>[ความปลอดภัย, ของ, แทร่, \\r\\n, \\r\\n, งาน, ปรับ...</td>\n",
       "      <td>ความปลอดภัย ของ แทร่ \\r\\n \\r\\n งาน ปรับปรุง ทา...</td>\n",
       "      <td>ความปลอดภัย แทร่ งาน ปรับปรุง ทางเท้า ถนน สุทธ...</td>\n",
       "      <td>ความปลอดภัย แทร่ งาน ปรับปรุง ทางเท้า ถนน สุทธ...</td>\n",
       "      <td>[ความปลอดภัย, แทร่, งาน, ปรับปรุง, ทางเท้า, ถน...</td>\n",
       "      <td>relevant</td>\n",
       "      <td>0</td>\n",
       "      <td>0</td>\n",
       "      <td>37</td>\n",
       "    </tr>\n",
       "    <tr>\n",
       "      <th>6</th>\n",
       "      <td>80</td>\n",
       "      <td>yakult_cool</td>\n",
       "      <td>1.723223e+18</td>\n",
       "      <td>เส้นสุขุมวิทเป็นอะไรที่WTF มาก เมื่อเช้าต้นสุข...</td>\n",
       "      <td>The Sukhumvit line is very WTF. This morning, ...</td>\n",
       "      <td>สนง.ตำรวจแห่งชาติ</td>\n",
       "      <td>สนง.ตำรวจแห่งชาติ</td>\n",
       "      <td>True</td>\n",
       "      <td>ทางเท้า</td>\n",
       "      <td>(\"ทางเท้า\" OR \"ทางเดิน\" OR \"ฟุตบาท\") AND (\"สาท...</td>\n",
       "      <td>...</td>\n",
       "      <td>no</td>\n",
       "      <td>[เส้น, สุขุมวิท, เป็น, อะไร, ที่, WTF, มาก, เม...</td>\n",
       "      <td>เส้น สุขุมวิท เป็น อะไร ที่ WTF มาก เมื่อเช้า ...</td>\n",
       "      <td>เส้น สุขุมวิท WTF ต้น สุขุมวิท เจอ เลน ซ้าย จอ...</td>\n",
       "      <td>เส้น สุขุมวิท WTF ต้น สุขุมวิท เจอ เลน ซ้าย จอ...</td>\n",
       "      <td>[เส้น, สุขุมวิท, WTF, ต้น, สุขุมวิท, เจอ, เลน,...</td>\n",
       "      <td>relevant</td>\n",
       "      <td>0</td>\n",
       "      <td>0</td>\n",
       "      <td>40</td>\n",
       "    </tr>\n",
       "    <tr>\n",
       "      <th>7</th>\n",
       "      <td>93</td>\n",
       "      <td>akdmaum</td>\n",
       "      <td>1.722924e+18</td>\n",
       "      <td>ฝนลงทุกวันในอาทิตย์ที่ฉันไม่มีรถแล้วต้องลงรถเม...</td>\n",
       "      <td>It rained every day of the week when I didn't ...</td>\n",
       "      <td>สนง.โยธา</td>\n",
       "      <td>สนง.โยธา</td>\n",
       "      <td>True</td>\n",
       "      <td>ทางเท้า</td>\n",
       "      <td>(\"ทางเท้า\" OR \"ทางเดิน\" OR \"ฟุตบาท\") AND (\"อนุ...</td>\n",
       "      <td>...</td>\n",
       "      <td>no</td>\n",
       "      <td>[ฝน, ลง, ทุกวัน, ใน, อาทิตย์, ที่, ฉัน, ไม่, ม...</td>\n",
       "      <td>ฝน ลง ทุกวัน ใน อาทิตย์ ที่ ฉัน ไม่ มี รถ แล้ว...</td>\n",
       "      <td>ฝน อาทิตย์ รถ ลงรถ เม เดิน ร้าน ทางเดิน อุดม ส...</td>\n",
       "      <td>ฝน อาทิตย์ รถ ลงรถ เม เดิน ร้าน ทางเดิน อุดม ส...</td>\n",
       "      <td>[ฝน, อาทิตย์, รถ, ลงรถ, เม, เดิน, ร้าน, ทางเดิ...</td>\n",
       "      <td>relevant</td>\n",
       "      <td>0</td>\n",
       "      <td>0</td>\n",
       "      <td>13</td>\n",
       "    </tr>\n",
       "    <tr>\n",
       "      <th>8</th>\n",
       "      <td>98</td>\n",
       "      <td>Sirilapas_mfp</td>\n",
       "      <td>1.722825e+18</td>\n",
       "      <td>ประสานงานแก้ไขสำเร็จ\\r\\n\\r\\nหลังจากได้รับแจ้งจ...</td>\n",
       "      <td>Successfully coordinated corrections\\r\\n\\r\\nAf...</td>\n",
       "      <td>สนง.โยธา</td>\n",
       "      <td>สนง.โยธา</td>\n",
       "      <td>True</td>\n",
       "      <td>ทางเท้า</td>\n",
       "      <td>(\"ทางเท้า\" OR \"ทางเดิน\" OR \"ฟุตบาท\") AND (\"ราช...</td>\n",
       "      <td>...</td>\n",
       "      <td>no</td>\n",
       "      <td>[ประสานงาน, แก้ไข, สำเร็จ, \\r\\n, \\r\\n, หลังจาก...</td>\n",
       "      <td>ประสานงาน แก้ไข สำเร็จ \\r\\n \\r\\n หลังจาก ได้รั...</td>\n",
       "      <td>ประสานงาน สำเร็จ แจ้ง ประชาชน พื้น สิ่งของ ล้ำ...</td>\n",
       "      <td>ประสานงาน สำเร็จ แจ้ง ประชาชน พื้น สิ่งของ ล้ำ...</td>\n",
       "      <td>[ประสานงาน, สำเร็จ, แจ้ง, ประชาชน, พื้น, สิ่งข...</td>\n",
       "      <td>relevant</td>\n",
       "      <td>0</td>\n",
       "      <td>0</td>\n",
       "      <td>20</td>\n",
       "    </tr>\n",
       "    <tr>\n",
       "      <th>...</th>\n",
       "      <td>...</td>\n",
       "      <td>...</td>\n",
       "      <td>...</td>\n",
       "      <td>...</td>\n",
       "      <td>...</td>\n",
       "      <td>...</td>\n",
       "      <td>...</td>\n",
       "      <td>...</td>\n",
       "      <td>...</td>\n",
       "      <td>...</td>\n",
       "      <td>...</td>\n",
       "      <td>...</td>\n",
       "      <td>...</td>\n",
       "      <td>...</td>\n",
       "      <td>...</td>\n",
       "      <td>...</td>\n",
       "      <td>...</td>\n",
       "      <td>...</td>\n",
       "      <td>...</td>\n",
       "      <td>...</td>\n",
       "      <td>...</td>\n",
       "    </tr>\n",
       "    <tr>\n",
       "      <th>199</th>\n",
       "      <td>0245</td>\n",
       "      <td>Aekvarunyoo</td>\n",
       "      <td>1.717790e+18</td>\n",
       "      <td>#กรุงเทพ จับมือภาคีรื้อสายสื่อสารกลางเมือง  เร...</td>\n",
       "      <td>#Bangkok joins hands with partners to dismantl...</td>\n",
       "      <td>NaN</td>\n",
       "      <td>NaN</td>\n",
       "      <td>False</td>\n",
       "      <td>ทางเท้า</td>\n",
       "      <td>(\"ทางเท้า\" OR \"ทางเดิน\" OR \"ฟุตบาท\") AND (\"กรุ...</td>\n",
       "      <td>...</td>\n",
       "      <td>no</td>\n",
       "      <td>[#, กรุงเทพ, จับมือ, ภาคี, รื้อ, สาย, สื่อสาร,...</td>\n",
       "      <td># กรุงเทพ จับมือ ภาคี รื้อ สาย สื่อสาร กลางเมื...</td>\n",
       "      <td>กรุงเทพ จับมือ ภาคี รื้อ สาย สื่อสาร กลางเมือง...</td>\n",
       "      <td>กรุงเทพ จับมือ ภาคี รื้อ สาย สื่อสาร กลางเมือง...</td>\n",
       "      <td>[กรุงเทพ, จับมือ, ภาคี, รื้อ, สาย, สื่อสาร, กล...</td>\n",
       "      <td>not relevant</td>\n",
       "      <td>0</td>\n",
       "      <td>0</td>\n",
       "      <td>34</td>\n",
       "    </tr>\n",
       "    <tr>\n",
       "      <th>2015</th>\n",
       "      <td>1760</td>\n",
       "      <td>kitxti_xix</td>\n",
       "      <td>1.690000e+18</td>\n",
       "      <td>กทม.LIVE โชว์ผลงานปรับปรุงทางเดินบริเวณโดยรอบศ...</td>\n",
       "      <td>Bangkok LIVE showcases work on improving the w...</td>\n",
       "      <td>NaN</td>\n",
       "      <td>NaN</td>\n",
       "      <td>False</td>\n",
       "      <td>ทางเท้า</td>\n",
       "      <td>(\"ทางเท้า\" OR \"ทางเดิน\" OR \"ฟุตบาท\") AND (\"กรุ...</td>\n",
       "      <td>...</td>\n",
       "      <td>no</td>\n",
       "      <td>[กทม., LIVE, โชว์, ผลงาน, ปรับปรุง, ทางเดิน, บ...</td>\n",
       "      <td>กทม. LIVE โชว์ ผลงาน ปรับปรุง ทางเดิน บริเวณ โ...</td>\n",
       "      <td>กทม. LIVE โชว์ ผลงาน ปรับปรุง ทางเดิน บริเวณ โ...</td>\n",
       "      <td>กทม. LIVE โชว์ ผลงาน ปรับปรุง ทางเดิน บริเวณ โ...</td>\n",
       "      <td>[กทม., LIVE, โชว์, ผลงาน, ปรับปรุง, ทางเดิน, บ...</td>\n",
       "      <td>not relevant</td>\n",
       "      <td>0</td>\n",
       "      <td>0</td>\n",
       "      <td>34</td>\n",
       "    </tr>\n",
       "    <tr>\n",
       "      <th>590</th>\n",
       "      <td>62</td>\n",
       "      <td>NiannianY</td>\n",
       "      <td>1.760000e+18</td>\n",
       "      <td>15.2.24 \\r\\n1955 ถนนรัชดา ตลาดนัด\\r\\n2007 แยกอ...</td>\n",
       "      <td>15.2.24\\r\\n1955 Ratchada Road Talat\\r\\n2007 As...</td>\n",
       "      <td>NaN</td>\n",
       "      <td>NaN</td>\n",
       "      <td>False</td>\n",
       "      <td>ทางเท้า</td>\n",
       "      <td>(\"ทางเท้า\" OR \"ทางเดิน\" OR \"ฟุตบาท\") AND (\"นคร...</td>\n",
       "      <td>...</td>\n",
       "      <td>no</td>\n",
       "      <td>[15.2.24, \\r\\n, 1955, ถนน, รัชดา, ตลาดนัด, \\r\\...</td>\n",
       "      <td>15.2.24 \\r\\n 1955 ถนน รัชดา ตลาดนัด \\r\\n 2007 ...</td>\n",
       "      <td>15.2.24 1955 ถนน รัชดา ตลาดนัด 2007 แยก อโศก ค...</td>\n",
       "      <td>15.2.24 1955 ถนน รัชดา ตลาดนัด 2007 แยก อโศก ค...</td>\n",
       "      <td>[15.2.24, 1955, ถนน, รัชดา, ตลาดนัด, 2007, แยก...</td>\n",
       "      <td>not relevant</td>\n",
       "      <td>0</td>\n",
       "      <td>0</td>\n",
       "      <td>32</td>\n",
       "    </tr>\n",
       "    <tr>\n",
       "      <th>643</th>\n",
       "      <td>115</td>\n",
       "      <td>IcePrapapan</td>\n",
       "      <td>1.760000e+18</td>\n",
       "      <td>พวกเรามันคนแกร่ง 55555 สภาพแบบหย่อนรองเท้าลงฟุ...</td>\n",
       "      <td>We are strong people. Haha. The situation of d...</td>\n",
       "      <td>NaN</td>\n",
       "      <td>NaN</td>\n",
       "      <td>False</td>\n",
       "      <td>ทางเท้า</td>\n",
       "      <td>(\"ทางเท้า\" OR \"ทางเดิน\" OR \"ฟุตบาท\") AND (\"กรุ...</td>\n",
       "      <td>...</td>\n",
       "      <td>no</td>\n",
       "      <td>[พวกเรา, มัน, คน, แกร่ง, 55555, สภาพ, แบบ, หย่...</td>\n",
       "      <td>พวกเรา มัน คน แกร่ง 55555 สภาพ แบบ หย่อน รองเท...</td>\n",
       "      <td>พวกเรา คน แกร่ง 55555 สภาพ หย่อน รองเท้า ฟุตบา...</td>\n",
       "      <td>พวกเรา คน แกร่ง 55555 สภาพ หย่อน รองเท้า ฟุตบา...</td>\n",
       "      <td>[พวกเรา, คน, แกร่ง, 55555, สภาพ, หย่อน, รองเท้...</td>\n",
       "      <td>not relevant</td>\n",
       "      <td>0</td>\n",
       "      <td>0</td>\n",
       "      <td>25</td>\n",
       "    </tr>\n",
       "    <tr>\n",
       "      <th>2949</th>\n",
       "      <td>2701</td>\n",
       "      <td>yournitenight</td>\n",
       "      <td>1.670000e+18</td>\n",
       "      <td>ประเด็นหลักที่หลายคนรู้แล้วโกรธก็คือตอนทุกคนวิ...</td>\n",
       "      <td>The main point that many people were angry abo...</td>\n",
       "      <td>NaN</td>\n",
       "      <td>NaN</td>\n",
       "      <td>False</td>\n",
       "      <td>ทางเท้า</td>\n",
       "      <td>(\"ทางเท้า\" OR \"ทางเดิน\" OR \"ฟุตบาท\") AND (\"กรุ...</td>\n",
       "      <td>...</td>\n",
       "      <td>no</td>\n",
       "      <td>[ประเด็นหลัก, ที่, หลาย, คน, รู้, แล้ว, โกรธ, ...</td>\n",
       "      <td>ประเด็นหลัก ที่ หลาย คน รู้ แล้ว โกรธ ก็ คือ ต...</td>\n",
       "      <td>ประเด็นหลัก คน รู้ โกรธ ตอน วิ่งหนี สะดุด หิน ...</td>\n",
       "      <td>ประเด็นหลัก คน รู้ โกรธ ตอน วิ่งหนี สะดุด หิน ...</td>\n",
       "      <td>[ประเด็นหลัก, คน, รู้, โกรธ, ตอน, วิ่งหนี, สะด...</td>\n",
       "      <td>not relevant</td>\n",
       "      <td>0</td>\n",
       "      <td>1</td>\n",
       "      <td>26</td>\n",
       "    </tr>\n",
       "  </tbody>\n",
       "</table>\n",
       "<p>683 rows × 26 columns</p>\n",
       "</div>"
      ],
      "text/plain": [
       "     index        username      tweet_id  \\\n",
       "4       68       ssssxsaii  1.723592e+18   \n",
       "5       79  Catter65422769  1.723250e+18   \n",
       "6       80     yakult_cool  1.723223e+18   \n",
       "7       93         akdmaum  1.722924e+18   \n",
       "8       98   Sirilapas_mfp  1.722825e+18   \n",
       "...    ...             ...           ...   \n",
       "199   0245     Aekvarunyoo  1.717790e+18   \n",
       "2015  1760      kitxti_xix  1.690000e+18   \n",
       "590     62       NiannianY  1.760000e+18   \n",
       "643    115     IcePrapapan  1.760000e+18   \n",
       "2949  2701   yournitenight  1.670000e+18   \n",
       "\n",
       "                                             tweet_text  \\\n",
       "4     บรรทัดทองจะน่าเดินกว่านี้ถ้า\\r\\n-ทำทางเดินใหม่...   \n",
       "5     ความปลอดภัยของแทร่\\r\\n\\r\\nงานปรับปรุงทางเท้าให...   \n",
       "6     เส้นสุขุมวิทเป็นอะไรที่WTF มาก เมื่อเช้าต้นสุข...   \n",
       "7     ฝนลงทุกวันในอาทิตย์ที่ฉันไม่มีรถแล้วต้องลงรถเม...   \n",
       "8     ประสานงานแก้ไขสำเร็จ\\r\\n\\r\\nหลังจากได้รับแจ้งจ...   \n",
       "...                                                 ...   \n",
       "199   #กรุงเทพ จับมือภาคีรื้อสายสื่อสารกลางเมือง  เร...   \n",
       "2015  กทม.LIVE โชว์ผลงานปรับปรุงทางเดินบริเวณโดยรอบศ...   \n",
       "590   15.2.24 \\r\\n1955 ถนนรัชดา ตลาดนัด\\r\\n2007 แยกอ...   \n",
       "643   พวกเรามันคนแกร่ง 55555 สภาพแบบหย่อนรองเท้าลงฟุ...   \n",
       "2949  ประเด็นหลักที่หลายคนรู้แล้วโกรธก็คือตอนทุกคนวิ...   \n",
       "\n",
       "                                        translated_text         org_step_1  \\\n",
       "4     Banthat Thong would be more worth walking arou...         สนง.เทศกิจ   \n",
       "5     Tractor safety\\r\\n\\r\\nNew sidewalk improvement...           สนง.โยธา   \n",
       "6     The Sukhumvit line is very WTF. This morning, ...  สนง.ตำรวจแห่งชาติ   \n",
       "7     It rained every day of the week when I didn't ...           สนง.โยธา   \n",
       "8     Successfully coordinated corrections\\r\\n\\r\\nAf...           สนง.โยธา   \n",
       "...                                                 ...                ...   \n",
       "199   #Bangkok joins hands with partners to dismantl...                NaN   \n",
       "2015  Bangkok LIVE showcases work on improving the w...                NaN   \n",
       "590   15.2.24\\r\\n1955 Ratchada Road Talat\\r\\n2007 As...                NaN   \n",
       "643   We are strong people. Haha. The situation of d...                NaN   \n",
       "2949  The main point that many people were angry abo...                NaN   \n",
       "\n",
       "             org_step_2  relevant category  \\\n",
       "4            สนง.เทศกิจ      True  ทางเท้า   \n",
       "5              สนง.โยธา      True  ทางเท้า   \n",
       "6     สนง.ตำรวจแห่งชาติ      True  ทางเท้า   \n",
       "7              สนง.โยธา      True  ทางเท้า   \n",
       "8              สนง.โยธา      True  ทางเท้า   \n",
       "...                 ...       ...      ...   \n",
       "199                 NaN     False  ทางเท้า   \n",
       "2015                NaN     False  ทางเท้า   \n",
       "590                 NaN     False  ทางเท้า   \n",
       "643                 NaN     False  ทางเท้า   \n",
       "2949                NaN     False  ทางเท้า   \n",
       "\n",
       "                                                  query  ... Chadchad  \\\n",
       "4     (\"ทางเท้า\" OR \"ทางเดิน\" OR \"ฟุตบาท\") AND (\"นคร...  ...       no   \n",
       "5     (\"ทางเท้า\" OR \"ทางเดิน\" OR \"ฟุตบาท\") AND (\"กรุ...  ...       no   \n",
       "6     (\"ทางเท้า\" OR \"ทางเดิน\" OR \"ฟุตบาท\") AND (\"สาท...  ...       no   \n",
       "7     (\"ทางเท้า\" OR \"ทางเดิน\" OR \"ฟุตบาท\") AND (\"อนุ...  ...       no   \n",
       "8     (\"ทางเท้า\" OR \"ทางเดิน\" OR \"ฟุตบาท\") AND (\"ราช...  ...       no   \n",
       "...                                                 ...  ...      ...   \n",
       "199   (\"ทางเท้า\" OR \"ทางเดิน\" OR \"ฟุตบาท\") AND (\"กรุ...  ...       no   \n",
       "2015  (\"ทางเท้า\" OR \"ทางเดิน\" OR \"ฟุตบาท\") AND (\"กรุ...  ...       no   \n",
       "590   (\"ทางเท้า\" OR \"ทางเดิน\" OR \"ฟุตบาท\") AND (\"นคร...  ...       no   \n",
       "643   (\"ทางเท้า\" OR \"ทางเดิน\" OR \"ฟุตบาท\") AND (\"กรุ...  ...       no   \n",
       "2949  (\"ทางเท้า\" OR \"ทางเดิน\" OR \"ฟุตบาท\") AND (\"กรุ...  ...       no   \n",
       "\n",
       "                                             split_text  \\\n",
       "4     [บรรทัด, ทอง, จะ, น่า, เดิน, กว่า, นี้, ถ้า, \\...   \n",
       "5     [ความปลอดภัย, ของ, แทร่, \\r\\n, \\r\\n, งาน, ปรับ...   \n",
       "6     [เส้น, สุขุมวิท, เป็น, อะไร, ที่, WTF, มาก, เม...   \n",
       "7     [ฝน, ลง, ทุกวัน, ใน, อาทิตย์, ที่, ฉัน, ไม่, ม...   \n",
       "8     [ประสานงาน, แก้ไข, สำเร็จ, \\r\\n, \\r\\n, หลังจาก...   \n",
       "...                                                 ...   \n",
       "199   [#, กรุงเทพ, จับมือ, ภาคี, รื้อ, สาย, สื่อสาร,...   \n",
       "2015  [กทม., LIVE, โชว์, ผลงาน, ปรับปรุง, ทางเดิน, บ...   \n",
       "590   [15.2.24, \\r\\n, 1955, ถนน, รัชดา, ตลาดนัด, \\r\\...   \n",
       "643   [พวกเรา, มัน, คน, แกร่ง, 55555, สภาพ, แบบ, หย่...   \n",
       "2949  [ประเด็นหลัก, ที่, หลาย, คน, รู้, แล้ว, โกรธ, ...   \n",
       "\n",
       "                                               combined  \\\n",
       "4     บรรทัด ทอง จะ น่า เดิน กว่า นี้ ถ้า \\r\\n - ทำ ...   \n",
       "5     ความปลอดภัย ของ แทร่ \\r\\n \\r\\n งาน ปรับปรุง ทา...   \n",
       "6     เส้น สุขุมวิท เป็น อะไร ที่ WTF มาก เมื่อเช้า ...   \n",
       "7     ฝน ลง ทุกวัน ใน อาทิตย์ ที่ ฉัน ไม่ มี รถ แล้ว...   \n",
       "8     ประสานงาน แก้ไข สำเร็จ \\r\\n \\r\\n หลังจาก ได้รั...   \n",
       "...                                                 ...   \n",
       "199   # กรุงเทพ จับมือ ภาคี รื้อ สาย สื่อสาร กลางเมื...   \n",
       "2015  กทม. LIVE โชว์ ผลงาน ปรับปรุง ทางเดิน บริเวณ โ...   \n",
       "590   15.2.24 \\r\\n 1955 ถนน รัชดา ตลาดนัด \\r\\n 2007 ...   \n",
       "643   พวกเรา มัน คน แกร่ง 55555 สภาพ แบบ หย่อน รองเท...   \n",
       "2949  ประเด็นหลัก ที่ หลาย คน รู้ แล้ว โกรธ ก็ คือ ต...   \n",
       "\n",
       "                                                cleaned  \\\n",
       "4     บรรทัด ทอง เดิน ทำ ทางเดิน แผ่น พื้น กระดก ท่อ...   \n",
       "5     ความปลอดภัย แทร่ งาน ปรับปรุง ทางเท้า ถนน สุทธ...   \n",
       "6     เส้น สุขุมวิท WTF ต้น สุขุมวิท เจอ เลน ซ้าย จอ...   \n",
       "7     ฝน อาทิตย์ รถ ลงรถ เม เดิน ร้าน ทางเดิน อุดม ส...   \n",
       "8     ประสานงาน สำเร็จ แจ้ง ประชาชน พื้น สิ่งของ ล้ำ...   \n",
       "...                                                 ...   \n",
       "199   กรุงเทพ จับมือ ภาคี รื้อ สาย สื่อสาร กลางเมือง...   \n",
       "2015  กทม. LIVE โชว์ ผลงาน ปรับปรุง ทางเดิน บริเวณ โ...   \n",
       "590   15.2.24 1955 ถนน รัชดา ตลาดนัด 2007 แยก อโศก ค...   \n",
       "643   พวกเรา คน แกร่ง 55555 สภาพ หย่อน รองเท้า ฟุตบา...   \n",
       "2949  ประเด็นหลัก คน รู้ โกรธ ตอน วิ่งหนี สะดุด หิน ...   \n",
       "\n",
       "                                               cleaned1  \\\n",
       "4     บรรทัด ทอง เดิน ทำ ทางเดิน แผ่น พื้น กระดก ท่อ...   \n",
       "5     ความปลอดภัย แทร่ งาน ปรับปรุง ทางเท้า ถนน สุทธ...   \n",
       "6     เส้น สุขุมวิท WTF ต้น สุขุมวิท เจอ เลน ซ้าย จอ...   \n",
       "7     ฝน อาทิตย์ รถ ลงรถ เม เดิน ร้าน ทางเดิน อุดม ส...   \n",
       "8     ประสานงาน สำเร็จ แจ้ง ประชาชน พื้น สิ่งของ ล้ำ...   \n",
       "...                                                 ...   \n",
       "199   กรุงเทพ จับมือ ภาคี รื้อ สาย สื่อสาร กลางเมือง...   \n",
       "2015  กทม. LIVE โชว์ ผลงาน ปรับปรุง ทางเดิน บริเวณ โ...   \n",
       "590   15.2.24 1955 ถนน รัชดา ตลาดนัด 2007 แยก อโศก ค...   \n",
       "643   พวกเรา คน แกร่ง 55555 สภาพ หย่อน รองเท้า ฟุตบา...   \n",
       "2949  ประเด็นหลัก คน รู้ โกรธ ตอน วิ่งหนี สะดุด หิน ...   \n",
       "\n",
       "                                          split_cleaned relevance_nlp  \\\n",
       "4     [บรรทัด, ทอง, เดิน, ทำ, ทางเดิน, แผ่น, พื้น, ก...      relevant   \n",
       "5     [ความปลอดภัย, แทร่, งาน, ปรับปรุง, ทางเท้า, ถน...      relevant   \n",
       "6     [เส้น, สุขุมวิท, WTF, ต้น, สุขุมวิท, เจอ, เลน,...      relevant   \n",
       "7     [ฝน, อาทิตย์, รถ, ลงรถ, เม, เดิน, ร้าน, ทางเดิ...      relevant   \n",
       "8     [ประสานงาน, สำเร็จ, แจ้ง, ประชาชน, พื้น, สิ่งข...      relevant   \n",
       "...                                                 ...           ...   \n",
       "199   [กรุงเทพ, จับมือ, ภาคี, รื้อ, สาย, สื่อสาร, กล...  not relevant   \n",
       "2015  [กทม., LIVE, โชว์, ผลงาน, ปรับปรุง, ทางเดิน, บ...  not relevant   \n",
       "590   [15.2.24, 1955, ถนน, รัชดา, ตลาดนัด, 2007, แยก...  not relevant   \n",
       "643   [พวกเรา, คน, แกร่ง, 55555, สภาพ, หย่อน, รองเท้...  not relevant   \n",
       "2949  [ประเด็นหลัก, คน, รู้, โกรธ, ตอน, วิ่งหนี, สะด...  not relevant   \n",
       "\n",
       "     contain_area contain_good word_length  \n",
       "4               0            0          30  \n",
       "5               0            0          37  \n",
       "6               0            0          40  \n",
       "7               0            0          13  \n",
       "8               0            0          20  \n",
       "...           ...          ...         ...  \n",
       "199             0            0          34  \n",
       "2015            0            0          34  \n",
       "590             0            0          32  \n",
       "643             0            0          25  \n",
       "2949            0            1          26  \n",
       "\n",
       "[683 rows x 26 columns]"
      ]
     },
     "execution_count": 12,
     "metadata": {},
     "output_type": "execute_result"
    }
   ],
   "source": [
    "df_a\n"
   ]
  },
  {
   "cell_type": "markdown",
   "metadata": {},
   "source": [
    "Optuna"
   ]
  },
  {
   "cell_type": "code",
   "execution_count": 13,
   "metadata": {},
   "outputs": [],
   "source": [
    "import numpy as np\n",
    "from sklearn.model_selection import GridSearchCV, train_test_split\n",
    "from sklearn.preprocessing import LabelEncoder\n",
    "#from scikeras.wrappers.scikit_learn import KerasClassifier #comes with GridSearch\n",
    "from scikeras.wrappers import KerasClassifier\n",
    "from sklearn.base import BaseEstimator\n",
    "from keras import backend as K\n",
    "from keras.models import Sequential\n",
    "from tensorflow.keras.preprocessing.text import Tokenizer\n",
    "from keras.preprocessing.sequence import pad_sequences\n",
    "from keras.layers import Embedding, SpatialDropout1D, Dense, Bidirectional, LSTM\n",
    "from keras.callbacks import EarlyStopping\n",
    "from keras.optimizers import Adam\n",
    "\n",
    "\n",
    "MAX_WORDS = 3500  # Memorized words\n",
    "MAX_SEQUENCE_LENGTH = 132 \n",
    "#EMBEDDING_DIM = 100\n",
    "#epochs = 50\n",
    "#batch_size = 32\n",
    "\n",
    "tokenizer = Tokenizer(num_words=MAX_WORDS, filters='!\"#$%&()*+,-./:;<=>?@[\\]^_`{|}~')\n",
    "tokenizer.fit_on_texts(df_a.cleaned.values)\n",
    "word_index = tokenizer.word_index\n",
    "X = tokenizer.texts_to_sequences(df_a.cleaned.values)\n",
    "X = pad_sequences(X, maxlen=MAX_SEQUENCE_LENGTH)\n",
    "\n",
    "# Addding Pau anal---------\n",
    "\n",
    "contain_good = df_a['contain_good'].to_numpy()\n",
    "good_reshaped = np.reshape(contain_good, (contain_good.shape[0], 1))\n",
    "good_reshaped = [int(x) for n in range(int(df_a.shape[0]))for x in good_reshaped[n][0]] #list in int \n",
    "np_good = np.array(good_reshaped)\n",
    "good_reshaped = np.reshape(np_good, (np_good.shape[0], 1))\n",
    "\n",
    "contain_area = df_a['contain_area'].to_numpy()\n",
    "area_reshaped = np.reshape(contain_area, (contain_area.shape[0], 1))\n",
    "area_reshaped = [int(x) for n in range(int(df_a.shape[0]))for x in area_reshaped[n][0]] #list in int \n",
    "np_area = np.array(area_reshaped)\n",
    "area_reshaped = np.reshape(np_good, (np_good.shape[0], 1))\n",
    "\n",
    "# Use np.hstack to append new column to the right\n",
    "X = np.hstack((X, good_reshaped))\n",
    "X = np.hstack((X, area_reshaped))\n",
    "\n",
    "# Ending Pau anal------\n",
    "\n",
    "label_encoder = LabelEncoder()\n",
    "Y = label_encoder.fit_transform(df_a['relevance_nlp'].values)\n",
    "X_train, X_test, Y_train, Y_test = train_test_split(X,Y, test_size = 0.20, random_state = 42)\n"
   ]
  },
  {
   "cell_type": "code",
   "execution_count": 14,
   "metadata": {},
   "outputs": [],
   "source": [
    "def recall_m(y_true, y_pred):\n",
    "    true_positives = K.sum(K.round(K.clip(y_true * y_pred, 0, 1)))\n",
    "    possible_positives = K.sum(K.round(K.clip(y_true, 0, 1)))\n",
    "    recall = true_positives / (possible_positives + K.epsilon())\n",
    "    return recall\n",
    "\n",
    "def precision_m(y_true, y_pred):\n",
    "    true_positives = K.sum(K.round(K.clip(y_true * y_pred, 0, 1)))\n",
    "    predicted_positives = K.sum(K.round(K.clip(y_pred, 0, 1)))\n",
    "    precision = true_positives / (predicted_positives + K.epsilon())\n",
    "    return precision\n",
    "\n",
    "def f1_m(y_true, y_pred):\n",
    "    precision = precision_m(y_true, y_pred)\n",
    "    recall = recall_m(y_true, y_pred)\n",
    "    return 2*((precision*recall)/(precision+recall+K.epsilon()))"
   ]
  },
  {
   "cell_type": "code",
   "execution_count": 16,
   "metadata": {},
   "outputs": [
    {
     "name": "stderr",
     "output_type": "stream",
     "text": [
      "[I 2024-04-26 18:04:11,163] A new study created in memory with name: no-name-627a8692-962c-40dd-9565-7d9f0e834e78\n"
     ]
    },
    {
     "name": "stdout",
     "output_type": "stream",
     "text": [
      "objectiving\n",
      "kw {}\n",
      "kw {}\n",
      "create mod: d_rate 0.22852763894289968 d_rate2  0.07428180843857365 LSTM  128 dim  150 lr  2.663698864611628e-06\n",
      "Epoch 1/10\n"
     ]
    },
    {
     "name": "stderr",
     "output_type": "stream",
     "text": [
      "C:\\Users\\mrbvb\\AppData\\Local\\Temp\\ipykernel_28284\\903665738.py:63: FutureWarning: suggest_uniform has been deprecated in v3.0.0. This feature will be removed in v6.0.0. See https://github.com/optuna/optuna/releases/tag/v3.0.0. Use suggest_float instead.\n",
      "  dropout_rate = trial.suggest_uniform('dropout_rate', 0.05, 0.3) #value should be from small to large only\n",
      "C:\\Users\\mrbvb\\AppData\\Local\\Temp\\ipykernel_28284\\903665738.py:64: FutureWarning: suggest_uniform has been deprecated in v3.0.0. This feature will be removed in v6.0.0. See https://github.com/optuna/optuna/releases/tag/v3.0.0. Use suggest_float instead.\n",
      "  dropout_rate2 = trial.suggest_uniform('dropout_rate2', 0.05, 0.1)\n",
      "C:\\Users\\mrbvb\\AppData\\Local\\Temp\\ipykernel_28284\\903665738.py:67: FutureWarning: suggest_loguniform has been deprecated in v3.0.0. This feature will be removed in v6.0.0. See https://github.com/optuna/optuna/releases/tag/v3.0.0. Use suggest_float(..., log=True) instead.\n",
      "  learning_rate = trial.suggest_loguniform('learning_rate', 1e-6, 1e-3)\n",
      "C:\\Users\\mrbvb\\AppData\\Local\\Temp\\ipykernel_28284\\903665738.py:16: FutureWarning: suggest_uniform has been deprecated in v3.0.0. This feature will be removed in v6.0.0. See https://github.com/optuna/optuna/releases/tag/v3.0.0. Use suggest_float instead.\n",
      "  dropout_rate = trial.suggest_uniform('dropout_rate', 0.05, 0.3)\n",
      "C:\\Users\\mrbvb\\AppData\\Local\\Temp\\ipykernel_28284\\903665738.py:17: FutureWarning: suggest_uniform has been deprecated in v3.0.0. This feature will be removed in v6.0.0. See https://github.com/optuna/optuna/releases/tag/v3.0.0. Use suggest_float instead.\n",
      "  dropout_rate2 = trial.suggest_uniform('dropout_rate2', 0.05, 0.1)\n",
      "C:\\Users\\mrbvb\\AppData\\Local\\Temp\\ipykernel_28284\\903665738.py:20: FutureWarning: suggest_loguniform has been deprecated in v3.0.0. This feature will be removed in v6.0.0. See https://github.com/optuna/optuna/releases/tag/v3.0.0. Use suggest_float(..., log=True) instead.\n",
      "  learning_rate = trial.suggest_loguniform('learning_rate', 1e-6, 1e-3)\n",
      "c:\\Users\\mrbvb\\AppData\\Local\\Programs\\Python\\Python311\\Lib\\site-packages\\keras\\src\\layers\\core\\embedding.py:86: UserWarning: Argument `input_length` is deprecated. Just remove it.\n",
      "  warnings.warn(\n"
     ]
    },
    {
     "name": "stdout",
     "output_type": "stream",
     "text": [
      "\u001b[1m12/12\u001b[0m \u001b[32m━━━━━━━━━━━━━━━━━━━━\u001b[0m\u001b[37m\u001b[0m \u001b[1m6s\u001b[0m 94ms/step - accuracy: 0.4612 - loss: 0.6938\n",
      "Epoch 2/10\n",
      "\u001b[1m12/12\u001b[0m \u001b[32m━━━━━━━━━━━━━━━━━━━━\u001b[0m\u001b[37m\u001b[0m \u001b[1m1s\u001b[0m 89ms/step - accuracy: 0.5016 - loss: 0.6931\n",
      "Epoch 3/10\n",
      "\u001b[1m12/12\u001b[0m \u001b[32m━━━━━━━━━━━━━━━━━━━━\u001b[0m\u001b[37m\u001b[0m \u001b[1m1s\u001b[0m 92ms/step - accuracy: 0.5371 - loss: 0.6923\n",
      "Epoch 4/10\n",
      "\u001b[1m12/12\u001b[0m \u001b[32m━━━━━━━━━━━━━━━━━━━━\u001b[0m\u001b[37m\u001b[0m \u001b[1m1s\u001b[0m 88ms/step - accuracy: 0.5716 - loss: 0.6926\n",
      "Epoch 5/10\n",
      "\u001b[1m12/12\u001b[0m \u001b[32m━━━━━━━━━━━━━━━━━━━━\u001b[0m\u001b[37m\u001b[0m \u001b[1m1s\u001b[0m 88ms/step - accuracy: 0.5799 - loss: 0.6923\n",
      "Epoch 6/10\n",
      "\u001b[1m12/12\u001b[0m \u001b[32m━━━━━━━━━━━━━━━━━━━━\u001b[0m\u001b[37m\u001b[0m \u001b[1m1s\u001b[0m 90ms/step - accuracy: 0.5291 - loss: 0.6925\n",
      "Epoch 7/10\n",
      "\u001b[1m12/12\u001b[0m \u001b[32m━━━━━━━━━━━━━━━━━━━━\u001b[0m\u001b[37m\u001b[0m \u001b[1m1s\u001b[0m 93ms/step - accuracy: 0.5420 - loss: 0.6922\n",
      "\u001b[1m6/6\u001b[0m \u001b[32m━━━━━━━━━━━━━━━━━━━━\u001b[0m\u001b[37m\u001b[0m \u001b[1m1s\u001b[0m 103ms/step\n",
      "kw {}\n",
      "create mod: d_rate 0.22852763894289968 d_rate2  0.07428180843857365 LSTM  128 dim  150 lr  2.663698864611628e-06\n",
      "Epoch 1/10\n"
     ]
    },
    {
     "name": "stderr",
     "output_type": "stream",
     "text": [
      "C:\\Users\\mrbvb\\AppData\\Local\\Temp\\ipykernel_28284\\903665738.py:16: FutureWarning: suggest_uniform has been deprecated in v3.0.0. This feature will be removed in v6.0.0. See https://github.com/optuna/optuna/releases/tag/v3.0.0. Use suggest_float instead.\n",
      "  dropout_rate = trial.suggest_uniform('dropout_rate', 0.05, 0.3)\n",
      "C:\\Users\\mrbvb\\AppData\\Local\\Temp\\ipykernel_28284\\903665738.py:17: FutureWarning: suggest_uniform has been deprecated in v3.0.0. This feature will be removed in v6.0.0. See https://github.com/optuna/optuna/releases/tag/v3.0.0. Use suggest_float instead.\n",
      "  dropout_rate2 = trial.suggest_uniform('dropout_rate2', 0.05, 0.1)\n",
      "C:\\Users\\mrbvb\\AppData\\Local\\Temp\\ipykernel_28284\\903665738.py:20: FutureWarning: suggest_loguniform has been deprecated in v3.0.0. This feature will be removed in v6.0.0. See https://github.com/optuna/optuna/releases/tag/v3.0.0. Use suggest_float(..., log=True) instead.\n",
      "  learning_rate = trial.suggest_loguniform('learning_rate', 1e-6, 1e-3)\n",
      "c:\\Users\\mrbvb\\AppData\\Local\\Programs\\Python\\Python311\\Lib\\site-packages\\keras\\src\\layers\\core\\embedding.py:86: UserWarning: Argument `input_length` is deprecated. Just remove it.\n",
      "  warnings.warn(\n"
     ]
    },
    {
     "name": "stdout",
     "output_type": "stream",
     "text": [
      "\u001b[1m12/12\u001b[0m \u001b[32m━━━━━━━━━━━━━━━━━━━━\u001b[0m\u001b[37m\u001b[0m \u001b[1m6s\u001b[0m 93ms/step - accuracy: 0.4908 - loss: 0.6937\n",
      "Epoch 2/10\n",
      "\u001b[1m12/12\u001b[0m \u001b[32m━━━━━━━━━━━━━━━━━━━━\u001b[0m\u001b[37m\u001b[0m \u001b[1m1s\u001b[0m 92ms/step - accuracy: 0.5123 - loss: 0.6937\n",
      "Epoch 3/10\n",
      "\u001b[1m12/12\u001b[0m \u001b[32m━━━━━━━━━━━━━━━━━━━━\u001b[0m\u001b[37m\u001b[0m \u001b[1m1s\u001b[0m 88ms/step - accuracy: 0.4730 - loss: 0.6938\n",
      "Epoch 4/10\n",
      "\u001b[1m12/12\u001b[0m \u001b[32m━━━━━━━━━━━━━━━━━━━━\u001b[0m\u001b[37m\u001b[0m \u001b[1m1s\u001b[0m 90ms/step - accuracy: 0.4957 - loss: 0.6934\n",
      "Epoch 5/10\n",
      "\u001b[1m12/12\u001b[0m \u001b[32m━━━━━━━━━━━━━━━━━━━━\u001b[0m\u001b[37m\u001b[0m \u001b[1m1s\u001b[0m 89ms/step - accuracy: 0.5428 - loss: 0.6927\n",
      "\u001b[1m6/6\u001b[0m \u001b[32m━━━━━━━━━━━━━━━━━━━━\u001b[0m\u001b[37m\u001b[0m \u001b[1m1s\u001b[0m 101ms/step\n",
      "kw {}\n",
      "create mod: d_rate 0.22852763894289968 d_rate2  0.07428180843857365 LSTM  128 dim  150 lr  2.663698864611628e-06\n",
      "Epoch 1/10\n"
     ]
    },
    {
     "name": "stderr",
     "output_type": "stream",
     "text": [
      "C:\\Users\\mrbvb\\AppData\\Local\\Temp\\ipykernel_28284\\903665738.py:16: FutureWarning: suggest_uniform has been deprecated in v3.0.0. This feature will be removed in v6.0.0. See https://github.com/optuna/optuna/releases/tag/v3.0.0. Use suggest_float instead.\n",
      "  dropout_rate = trial.suggest_uniform('dropout_rate', 0.05, 0.3)\n",
      "C:\\Users\\mrbvb\\AppData\\Local\\Temp\\ipykernel_28284\\903665738.py:17: FutureWarning: suggest_uniform has been deprecated in v3.0.0. This feature will be removed in v6.0.0. See https://github.com/optuna/optuna/releases/tag/v3.0.0. Use suggest_float instead.\n",
      "  dropout_rate2 = trial.suggest_uniform('dropout_rate2', 0.05, 0.1)\n",
      "C:\\Users\\mrbvb\\AppData\\Local\\Temp\\ipykernel_28284\\903665738.py:20: FutureWarning: suggest_loguniform has been deprecated in v3.0.0. This feature will be removed in v6.0.0. See https://github.com/optuna/optuna/releases/tag/v3.0.0. Use suggest_float(..., log=True) instead.\n",
      "  learning_rate = trial.suggest_loguniform('learning_rate', 1e-6, 1e-3)\n",
      "c:\\Users\\mrbvb\\AppData\\Local\\Programs\\Python\\Python311\\Lib\\site-packages\\keras\\src\\layers\\core\\embedding.py:86: UserWarning: Argument `input_length` is deprecated. Just remove it.\n",
      "  warnings.warn(\n"
     ]
    },
    {
     "name": "stdout",
     "output_type": "stream",
     "text": [
      "\u001b[1m12/12\u001b[0m \u001b[32m━━━━━━━━━━━━━━━━━━━━\u001b[0m\u001b[37m\u001b[0m \u001b[1m5s\u001b[0m 89ms/step - accuracy: 0.4840 - loss: 0.6934\n",
      "Epoch 2/10\n",
      "\u001b[1m12/12\u001b[0m \u001b[32m━━━━━━━━━━━━━━━━━━━━\u001b[0m\u001b[37m\u001b[0m \u001b[1m1s\u001b[0m 89ms/step - accuracy: 0.4522 - loss: 0.6945\n",
      "Epoch 3/10\n",
      "\u001b[1m12/12\u001b[0m \u001b[32m━━━━━━━━━━━━━━━━━━━━\u001b[0m\u001b[37m\u001b[0m \u001b[1m1s\u001b[0m 90ms/step - accuracy: 0.5070 - loss: 0.6929\n",
      "Epoch 4/10\n",
      "\u001b[1m12/12\u001b[0m \u001b[32m━━━━━━━━━━━━━━━━━━━━\u001b[0m\u001b[37m\u001b[0m \u001b[1m1s\u001b[0m 89ms/step - accuracy: 0.5227 - loss: 0.6926\n",
      "Epoch 5/10\n",
      "\u001b[1m12/12\u001b[0m \u001b[32m━━━━━━━━━━━━━━━━━━━━\u001b[0m\u001b[37m\u001b[0m \u001b[1m1s\u001b[0m 93ms/step - accuracy: 0.4480 - loss: 0.6931\n",
      "Epoch 6/10\n",
      "\u001b[1m12/12\u001b[0m \u001b[32m━━━━━━━━━━━━━━━━━━━━\u001b[0m\u001b[37m\u001b[0m \u001b[1m1s\u001b[0m 93ms/step - accuracy: 0.4832 - loss: 0.6933\n",
      "Epoch 7/10\n",
      "\u001b[1m12/12\u001b[0m \u001b[32m━━━━━━━━━━━━━━━━━━━━\u001b[0m\u001b[37m\u001b[0m \u001b[1m1s\u001b[0m 103ms/step - accuracy: 0.5332 - loss: 0.6930\n",
      "Epoch 8/10\n",
      "\u001b[1m12/12\u001b[0m \u001b[32m━━━━━━━━━━━━━━━━━━━━\u001b[0m\u001b[37m\u001b[0m \u001b[1m1s\u001b[0m 113ms/step - accuracy: 0.4812 - loss: 0.6935\n",
      "Epoch 9/10\n",
      "\u001b[1m12/12\u001b[0m \u001b[32m━━━━━━━━━━━━━━━━━━━━\u001b[0m\u001b[37m\u001b[0m \u001b[1m1s\u001b[0m 112ms/step - accuracy: 0.4988 - loss: 0.6933\n",
      "WARNING:tensorflow:5 out of the last 13 calls to <function TensorFlowTrainer.make_predict_function.<locals>.one_step_on_data_distributed at 0x00000240099763E0> triggered tf.function retracing. Tracing is expensive and the excessive number of tracings could be due to (1) creating @tf.function repeatedly in a loop, (2) passing tensors with different shapes, (3) passing Python objects instead of tensors. For (1), please define your @tf.function outside of the loop. For (2), @tf.function has reduce_retracing=True option that can avoid unnecessary retracing. For (3), please refer to https://www.tensorflow.org/guide/function#controlling_retracing and https://www.tensorflow.org/api_docs/python/tf/function for  more details.\n",
      "\u001b[1m6/6\u001b[0m \u001b[32m━━━━━━━━━━━━━━━━━━━━\u001b[0m\u001b[37m\u001b[0m \u001b[1m1s\u001b[0m 121ms/step\n",
      "result score f1 fuc -0.3872850241545894\n",
      "kw {}\n",
      "create mod: d_rate 0.22852763894289968 d_rate2  0.07428180843857365 LSTM  128 dim  150 lr  2.663698864611628e-06\n",
      "Epoch 1/10\n"
     ]
    },
    {
     "name": "stderr",
     "output_type": "stream",
     "text": [
      "C:\\Users\\mrbvb\\AppData\\Local\\Temp\\ipykernel_28284\\903665738.py:16: FutureWarning: suggest_uniform has been deprecated in v3.0.0. This feature will be removed in v6.0.0. See https://github.com/optuna/optuna/releases/tag/v3.0.0. Use suggest_float instead.\n",
      "  dropout_rate = trial.suggest_uniform('dropout_rate', 0.05, 0.3)\n",
      "C:\\Users\\mrbvb\\AppData\\Local\\Temp\\ipykernel_28284\\903665738.py:17: FutureWarning: suggest_uniform has been deprecated in v3.0.0. This feature will be removed in v6.0.0. See https://github.com/optuna/optuna/releases/tag/v3.0.0. Use suggest_float instead.\n",
      "  dropout_rate2 = trial.suggest_uniform('dropout_rate2', 0.05, 0.1)\n",
      "C:\\Users\\mrbvb\\AppData\\Local\\Temp\\ipykernel_28284\\903665738.py:20: FutureWarning: suggest_loguniform has been deprecated in v3.0.0. This feature will be removed in v6.0.0. See https://github.com/optuna/optuna/releases/tag/v3.0.0. Use suggest_float(..., log=True) instead.\n",
      "  learning_rate = trial.suggest_loguniform('learning_rate', 1e-6, 1e-3)\n",
      "c:\\Users\\mrbvb\\AppData\\Local\\Programs\\Python\\Python311\\Lib\\site-packages\\keras\\src\\layers\\core\\embedding.py:86: UserWarning: Argument `input_length` is deprecated. Just remove it.\n",
      "  warnings.warn(\n"
     ]
    },
    {
     "name": "stdout",
     "output_type": "stream",
     "text": [
      "\u001b[1m12/12\u001b[0m \u001b[32m━━━━━━━━━━━━━━━━━━━━\u001b[0m\u001b[37m\u001b[0m \u001b[1m6s\u001b[0m 107ms/step - accuracy: 0.5147 - loss: 0.6932\n",
      "Epoch 2/10\n",
      "\u001b[1m12/12\u001b[0m \u001b[32m━━━━━━━━━━━━━━━━━━━━\u001b[0m\u001b[37m\u001b[0m \u001b[1m1s\u001b[0m 104ms/step - accuracy: 0.5162 - loss: 0.6934\n",
      "Epoch 3/10\n",
      "\u001b[1m12/12\u001b[0m \u001b[32m━━━━━━━━━━━━━━━━━━━━\u001b[0m\u001b[37m\u001b[0m \u001b[1m1s\u001b[0m 102ms/step - accuracy: 0.4868 - loss: 0.6934\n",
      "Epoch 4/10\n",
      "\u001b[1m12/12\u001b[0m \u001b[32m━━━━━━━━━━━━━━━━━━━━\u001b[0m\u001b[37m\u001b[0m \u001b[1m1s\u001b[0m 101ms/step - accuracy: 0.5235 - loss: 0.6930\n",
      "Epoch 5/10\n",
      "\u001b[1m12/12\u001b[0m \u001b[32m━━━━━━━━━━━━━━━━━━━━\u001b[0m\u001b[37m\u001b[0m \u001b[1m1s\u001b[0m 104ms/step - accuracy: 0.5236 - loss: 0.6927\n",
      "WARNING:tensorflow:5 out of the last 13 calls to <function TensorFlowTrainer.make_predict_function.<locals>.one_step_on_data_distributed at 0x000002400C0554E0> triggered tf.function retracing. Tracing is expensive and the excessive number of tracings could be due to (1) creating @tf.function repeatedly in a loop, (2) passing tensors with different shapes, (3) passing Python objects instead of tensors. For (1), please define your @tf.function outside of the loop. For (2), @tf.function has reduce_retracing=True option that can avoid unnecessary retracing. For (3), please refer to https://www.tensorflow.org/guide/function#controlling_retracing and https://www.tensorflow.org/api_docs/python/tf/function for  more details.\n",
      "\u001b[1m6/6\u001b[0m \u001b[32m━━━━━━━━━━━━━━━━━━━━\u001b[0m\u001b[37m\u001b[0m \u001b[1m1s\u001b[0m 111ms/step\n",
      "kw {}\n",
      "create mod: d_rate 0.22852763894289968 d_rate2  0.07428180843857365 LSTM  128 dim  150 lr  2.663698864611628e-06\n",
      "Epoch 1/10\n"
     ]
    },
    {
     "name": "stderr",
     "output_type": "stream",
     "text": [
      "C:\\Users\\mrbvb\\AppData\\Local\\Temp\\ipykernel_28284\\903665738.py:16: FutureWarning: suggest_uniform has been deprecated in v3.0.0. This feature will be removed in v6.0.0. See https://github.com/optuna/optuna/releases/tag/v3.0.0. Use suggest_float instead.\n",
      "  dropout_rate = trial.suggest_uniform('dropout_rate', 0.05, 0.3)\n",
      "C:\\Users\\mrbvb\\AppData\\Local\\Temp\\ipykernel_28284\\903665738.py:17: FutureWarning: suggest_uniform has been deprecated in v3.0.0. This feature will be removed in v6.0.0. See https://github.com/optuna/optuna/releases/tag/v3.0.0. Use suggest_float instead.\n",
      "  dropout_rate2 = trial.suggest_uniform('dropout_rate2', 0.05, 0.1)\n",
      "C:\\Users\\mrbvb\\AppData\\Local\\Temp\\ipykernel_28284\\903665738.py:20: FutureWarning: suggest_loguniform has been deprecated in v3.0.0. This feature will be removed in v6.0.0. See https://github.com/optuna/optuna/releases/tag/v3.0.0. Use suggest_float(..., log=True) instead.\n",
      "  learning_rate = trial.suggest_loguniform('learning_rate', 1e-6, 1e-3)\n",
      "c:\\Users\\mrbvb\\AppData\\Local\\Programs\\Python\\Python311\\Lib\\site-packages\\keras\\src\\layers\\core\\embedding.py:86: UserWarning: Argument `input_length` is deprecated. Just remove it.\n",
      "  warnings.warn(\n"
     ]
    },
    {
     "name": "stdout",
     "output_type": "stream",
     "text": [
      "\u001b[1m12/12\u001b[0m \u001b[32m━━━━━━━━━━━━━━━━━━━━\u001b[0m\u001b[37m\u001b[0m \u001b[1m6s\u001b[0m 98ms/step - accuracy: 0.5022 - loss: 0.6926\n",
      "Epoch 2/10\n",
      "\u001b[1m12/12\u001b[0m \u001b[32m━━━━━━━━━━━━━━━━━━━━\u001b[0m\u001b[37m\u001b[0m \u001b[1m1s\u001b[0m 93ms/step - accuracy: 0.5110 - loss: 0.6935\n",
      "Epoch 3/10\n",
      "\u001b[1m12/12\u001b[0m \u001b[32m━━━━━━━━━━━━━━━━━━━━\u001b[0m\u001b[37m\u001b[0m \u001b[1m1s\u001b[0m 90ms/step - accuracy: 0.4995 - loss: 0.6935\n",
      "Epoch 4/10\n",
      "\u001b[1m12/12\u001b[0m \u001b[32m━━━━━━━━━━━━━━━━━━━━\u001b[0m\u001b[37m\u001b[0m \u001b[1m1s\u001b[0m 92ms/step - accuracy: 0.4978 - loss: 0.6931\n",
      "\u001b[1m6/6\u001b[0m \u001b[32m━━━━━━━━━━━━━━━━━━━━\u001b[0m\u001b[37m\u001b[0m \u001b[1m1s\u001b[0m 107ms/step\n",
      "kw {}\n",
      "create mod: d_rate 0.22852763894289968 d_rate2  0.07428180843857365 LSTM  128 dim  150 lr  2.663698864611628e-06\n",
      "Epoch 1/10\n"
     ]
    },
    {
     "name": "stderr",
     "output_type": "stream",
     "text": [
      "C:\\Users\\mrbvb\\AppData\\Local\\Temp\\ipykernel_28284\\903665738.py:16: FutureWarning: suggest_uniform has been deprecated in v3.0.0. This feature will be removed in v6.0.0. See https://github.com/optuna/optuna/releases/tag/v3.0.0. Use suggest_float instead.\n",
      "  dropout_rate = trial.suggest_uniform('dropout_rate', 0.05, 0.3)\n",
      "C:\\Users\\mrbvb\\AppData\\Local\\Temp\\ipykernel_28284\\903665738.py:17: FutureWarning: suggest_uniform has been deprecated in v3.0.0. This feature will be removed in v6.0.0. See https://github.com/optuna/optuna/releases/tag/v3.0.0. Use suggest_float instead.\n",
      "  dropout_rate2 = trial.suggest_uniform('dropout_rate2', 0.05, 0.1)\n",
      "C:\\Users\\mrbvb\\AppData\\Local\\Temp\\ipykernel_28284\\903665738.py:20: FutureWarning: suggest_loguniform has been deprecated in v3.0.0. This feature will be removed in v6.0.0. See https://github.com/optuna/optuna/releases/tag/v3.0.0. Use suggest_float(..., log=True) instead.\n",
      "  learning_rate = trial.suggest_loguniform('learning_rate', 1e-6, 1e-3)\n",
      "c:\\Users\\mrbvb\\AppData\\Local\\Programs\\Python\\Python311\\Lib\\site-packages\\keras\\src\\layers\\core\\embedding.py:86: UserWarning: Argument `input_length` is deprecated. Just remove it.\n",
      "  warnings.warn(\n"
     ]
    },
    {
     "name": "stdout",
     "output_type": "stream",
     "text": [
      "\u001b[1m12/12\u001b[0m \u001b[32m━━━━━━━━━━━━━━━━━━━━\u001b[0m\u001b[37m\u001b[0m \u001b[1m6s\u001b[0m 110ms/step - accuracy: 0.5006 - loss: 0.6930\n",
      "Epoch 2/10\n",
      "\u001b[1m12/12\u001b[0m \u001b[32m━━━━━━━━━━━━━━━━━━━━\u001b[0m\u001b[37m\u001b[0m \u001b[1m1s\u001b[0m 109ms/step - accuracy: 0.5510 - loss: 0.6928\n",
      "Epoch 3/10\n",
      "\u001b[1m12/12\u001b[0m \u001b[32m━━━━━━━━━━━━━━━━━━━━\u001b[0m\u001b[37m\u001b[0m \u001b[1m1s\u001b[0m 101ms/step - accuracy: 0.5264 - loss: 0.6931\n",
      "Epoch 4/10\n",
      "\u001b[1m12/12\u001b[0m \u001b[32m━━━━━━━━━━━━━━━━━━━━\u001b[0m\u001b[37m\u001b[0m \u001b[1m1s\u001b[0m 98ms/step - accuracy: 0.5047 - loss: 0.6922\n",
      "\u001b[1m6/6\u001b[0m \u001b[32m━━━━━━━━━━━━━━━━━━━━\u001b[0m\u001b[37m\u001b[0m \u001b[1m1s\u001b[0m 110ms/step\n"
     ]
    },
    {
     "name": "stderr",
     "output_type": "stream",
     "text": [
      "[I 2024-04-26 18:05:24,971] Trial 0 finished with value: 0.45845194962042796 and parameters: {'dropout_rate': 0.22852763894289968, 'dropout_rate2': 0.07428180843857365, 'LSTM_units': 128, 'EMBEDDING_DIM': 150, 'learning_rate': 2.663698864611628e-06}. Best is trial 0 with value: 0.45845194962042796.\n"
     ]
    },
    {
     "name": "stdout",
     "output_type": "stream",
     "text": [
      "objectiving\n",
      "kw {}\n",
      "kw {}\n",
      "create mod: d_rate 0.10282719044196202 d_rate2  0.09379170038400271 LSTM  64 dim  150 lr  2.4084312016297993e-05\n",
      "Epoch 1/10\n"
     ]
    },
    {
     "name": "stderr",
     "output_type": "stream",
     "text": [
      "C:\\Users\\mrbvb\\AppData\\Local\\Temp\\ipykernel_28284\\903665738.py:63: FutureWarning: suggest_uniform has been deprecated in v3.0.0. This feature will be removed in v6.0.0. See https://github.com/optuna/optuna/releases/tag/v3.0.0. Use suggest_float instead.\n",
      "  dropout_rate = trial.suggest_uniform('dropout_rate', 0.05, 0.3) #value should be from small to large only\n",
      "C:\\Users\\mrbvb\\AppData\\Local\\Temp\\ipykernel_28284\\903665738.py:64: FutureWarning: suggest_uniform has been deprecated in v3.0.0. This feature will be removed in v6.0.0. See https://github.com/optuna/optuna/releases/tag/v3.0.0. Use suggest_float instead.\n",
      "  dropout_rate2 = trial.suggest_uniform('dropout_rate2', 0.05, 0.1)\n",
      "C:\\Users\\mrbvb\\AppData\\Local\\Temp\\ipykernel_28284\\903665738.py:67: FutureWarning: suggest_loguniform has been deprecated in v3.0.0. This feature will be removed in v6.0.0. See https://github.com/optuna/optuna/releases/tag/v3.0.0. Use suggest_float(..., log=True) instead.\n",
      "  learning_rate = trial.suggest_loguniform('learning_rate', 1e-6, 1e-3)\n",
      "C:\\Users\\mrbvb\\AppData\\Local\\Temp\\ipykernel_28284\\903665738.py:16: FutureWarning: suggest_uniform has been deprecated in v3.0.0. This feature will be removed in v6.0.0. See https://github.com/optuna/optuna/releases/tag/v3.0.0. Use suggest_float instead.\n",
      "  dropout_rate = trial.suggest_uniform('dropout_rate', 0.05, 0.3)\n",
      "C:\\Users\\mrbvb\\AppData\\Local\\Temp\\ipykernel_28284\\903665738.py:17: FutureWarning: suggest_uniform has been deprecated in v3.0.0. This feature will be removed in v6.0.0. See https://github.com/optuna/optuna/releases/tag/v3.0.0. Use suggest_float instead.\n",
      "  dropout_rate2 = trial.suggest_uniform('dropout_rate2', 0.05, 0.1)\n",
      "C:\\Users\\mrbvb\\AppData\\Local\\Temp\\ipykernel_28284\\903665738.py:20: FutureWarning: suggest_loguniform has been deprecated in v3.0.0. This feature will be removed in v6.0.0. See https://github.com/optuna/optuna/releases/tag/v3.0.0. Use suggest_float(..., log=True) instead.\n",
      "  learning_rate = trial.suggest_loguniform('learning_rate', 1e-6, 1e-3)\n",
      "c:\\Users\\mrbvb\\AppData\\Local\\Programs\\Python\\Python311\\Lib\\site-packages\\keras\\src\\layers\\core\\embedding.py:86: UserWarning: Argument `input_length` is deprecated. Just remove it.\n",
      "  warnings.warn(\n"
     ]
    },
    {
     "name": "stdout",
     "output_type": "stream",
     "text": [
      "\u001b[1m12/12\u001b[0m \u001b[32m━━━━━━━━━━━━━━━━━━━━\u001b[0m\u001b[37m\u001b[0m \u001b[1m5s\u001b[0m 56ms/step - accuracy: 0.5084 - loss: 0.6937\n",
      "Epoch 2/10\n",
      "\u001b[1m12/12\u001b[0m \u001b[32m━━━━━━━━━━━━━━━━━━━━\u001b[0m\u001b[37m\u001b[0m \u001b[1m1s\u001b[0m 56ms/step - accuracy: 0.4784 - loss: 0.6935\n",
      "Epoch 3/10\n",
      "\u001b[1m12/12\u001b[0m \u001b[32m━━━━━━━━━━━━━━━━━━━━\u001b[0m\u001b[37m\u001b[0m \u001b[1m1s\u001b[0m 55ms/step - accuracy: 0.5206 - loss: 0.6930\n",
      "Epoch 4/10\n",
      "\u001b[1m12/12\u001b[0m \u001b[32m━━━━━━━━━━━━━━━━━━━━\u001b[0m\u001b[37m\u001b[0m \u001b[1m1s\u001b[0m 56ms/step - accuracy: 0.5204 - loss: 0.6934\n",
      "Epoch 5/10\n",
      "\u001b[1m12/12\u001b[0m \u001b[32m━━━━━━━━━━━━━━━━━━━━\u001b[0m\u001b[37m\u001b[0m \u001b[1m1s\u001b[0m 55ms/step - accuracy: 0.5257 - loss: 0.6926\n",
      "Epoch 6/10\n",
      "\u001b[1m12/12\u001b[0m \u001b[32m━━━━━━━━━━━━━━━━━━━━\u001b[0m\u001b[37m\u001b[0m \u001b[1m1s\u001b[0m 57ms/step - accuracy: 0.5641 - loss: 0.6920\n",
      "Epoch 7/10\n",
      "\u001b[1m12/12\u001b[0m \u001b[32m━━━━━━━━━━━━━━━━━━━━\u001b[0m\u001b[37m\u001b[0m \u001b[1m1s\u001b[0m 55ms/step - accuracy: 0.5247 - loss: 0.6928\n",
      "Epoch 8/10\n",
      "\u001b[1m12/12\u001b[0m \u001b[32m━━━━━━━━━━━━━━━━━━━━\u001b[0m\u001b[37m\u001b[0m \u001b[1m1s\u001b[0m 56ms/step - accuracy: 0.5711 - loss: 0.6919\n",
      "Epoch 9/10\n",
      "\u001b[1m12/12\u001b[0m \u001b[32m━━━━━━━━━━━━━━━━━━━━\u001b[0m\u001b[37m\u001b[0m \u001b[1m1s\u001b[0m 56ms/step - accuracy: 0.6031 - loss: 0.6914\n",
      "Epoch 10/10\n",
      "\u001b[1m12/12\u001b[0m \u001b[32m━━━━━━━━━━━━━━━━━━━━\u001b[0m\u001b[37m\u001b[0m \u001b[1m1s\u001b[0m 56ms/step - accuracy: 0.5532 - loss: 0.6924\n",
      "\u001b[1m6/6\u001b[0m \u001b[32m━━━━━━━━━━━━━━━━━━━━\u001b[0m\u001b[37m\u001b[0m \u001b[1m1s\u001b[0m 89ms/step\n",
      "kw {}\n",
      "create mod: d_rate 0.10282719044196202 d_rate2  0.09379170038400271 LSTM  64 dim  150 lr  2.4084312016297993e-05\n",
      "Epoch 1/10\n"
     ]
    },
    {
     "name": "stderr",
     "output_type": "stream",
     "text": [
      "C:\\Users\\mrbvb\\AppData\\Local\\Temp\\ipykernel_28284\\903665738.py:16: FutureWarning: suggest_uniform has been deprecated in v3.0.0. This feature will be removed in v6.0.0. See https://github.com/optuna/optuna/releases/tag/v3.0.0. Use suggest_float instead.\n",
      "  dropout_rate = trial.suggest_uniform('dropout_rate', 0.05, 0.3)\n",
      "C:\\Users\\mrbvb\\AppData\\Local\\Temp\\ipykernel_28284\\903665738.py:17: FutureWarning: suggest_uniform has been deprecated in v3.0.0. This feature will be removed in v6.0.0. See https://github.com/optuna/optuna/releases/tag/v3.0.0. Use suggest_float instead.\n",
      "  dropout_rate2 = trial.suggest_uniform('dropout_rate2', 0.05, 0.1)\n",
      "C:\\Users\\mrbvb\\AppData\\Local\\Temp\\ipykernel_28284\\903665738.py:20: FutureWarning: suggest_loguniform has been deprecated in v3.0.0. This feature will be removed in v6.0.0. See https://github.com/optuna/optuna/releases/tag/v3.0.0. Use suggest_float(..., log=True) instead.\n",
      "  learning_rate = trial.suggest_loguniform('learning_rate', 1e-6, 1e-3)\n",
      "c:\\Users\\mrbvb\\AppData\\Local\\Programs\\Python\\Python311\\Lib\\site-packages\\keras\\src\\layers\\core\\embedding.py:86: UserWarning: Argument `input_length` is deprecated. Just remove it.\n",
      "  warnings.warn(\n"
     ]
    },
    {
     "name": "stdout",
     "output_type": "stream",
     "text": [
      "\u001b[1m12/12\u001b[0m \u001b[32m━━━━━━━━━━━━━━━━━━━━\u001b[0m\u001b[37m\u001b[0m \u001b[1m5s\u001b[0m 59ms/step - accuracy: 0.4940 - loss: 0.6935\n",
      "Epoch 2/10\n",
      "\u001b[1m12/12\u001b[0m \u001b[32m━━━━━━━━━━━━━━━━━━━━\u001b[0m\u001b[37m\u001b[0m \u001b[1m1s\u001b[0m 62ms/step - accuracy: 0.5551 - loss: 0.6921\n",
      "Epoch 3/10\n",
      "\u001b[1m12/12\u001b[0m \u001b[32m━━━━━━━━━━━━━━━━━━━━\u001b[0m\u001b[37m\u001b[0m \u001b[1m1s\u001b[0m 61ms/step - accuracy: 0.5203 - loss: 0.6923\n",
      "Epoch 4/10\n",
      "\u001b[1m12/12\u001b[0m \u001b[32m━━━━━━━━━━━━━━━━━━━━\u001b[0m\u001b[37m\u001b[0m \u001b[1m1s\u001b[0m 64ms/step - accuracy: 0.5162 - loss: 0.6925\n",
      "Epoch 5/10\n",
      "\u001b[1m12/12\u001b[0m \u001b[32m━━━━━━━━━━━━━━━━━━━━\u001b[0m\u001b[37m\u001b[0m \u001b[1m1s\u001b[0m 59ms/step - accuracy: 0.5102 - loss: 0.6922\n",
      "Epoch 6/10\n",
      "\u001b[1m12/12\u001b[0m \u001b[32m━━━━━━━━━━━━━━━━━━━━\u001b[0m\u001b[37m\u001b[0m \u001b[1m1s\u001b[0m 54ms/step - accuracy: 0.4785 - loss: 0.6924\n",
      "\u001b[1m6/6\u001b[0m \u001b[32m━━━━━━━━━━━━━━━━━━━━\u001b[0m\u001b[37m\u001b[0m \u001b[1m1s\u001b[0m 89ms/step\n",
      "kw {}\n",
      "create mod: d_rate 0.10282719044196202 d_rate2  0.09379170038400271 LSTM  64 dim  150 lr  2.4084312016297993e-05\n",
      "Epoch 1/10\n"
     ]
    },
    {
     "name": "stderr",
     "output_type": "stream",
     "text": [
      "C:\\Users\\mrbvb\\AppData\\Local\\Temp\\ipykernel_28284\\903665738.py:16: FutureWarning: suggest_uniform has been deprecated in v3.0.0. This feature will be removed in v6.0.0. See https://github.com/optuna/optuna/releases/tag/v3.0.0. Use suggest_float instead.\n",
      "  dropout_rate = trial.suggest_uniform('dropout_rate', 0.05, 0.3)\n",
      "C:\\Users\\mrbvb\\AppData\\Local\\Temp\\ipykernel_28284\\903665738.py:17: FutureWarning: suggest_uniform has been deprecated in v3.0.0. This feature will be removed in v6.0.0. See https://github.com/optuna/optuna/releases/tag/v3.0.0. Use suggest_float instead.\n",
      "  dropout_rate2 = trial.suggest_uniform('dropout_rate2', 0.05, 0.1)\n",
      "C:\\Users\\mrbvb\\AppData\\Local\\Temp\\ipykernel_28284\\903665738.py:20: FutureWarning: suggest_loguniform has been deprecated in v3.0.0. This feature will be removed in v6.0.0. See https://github.com/optuna/optuna/releases/tag/v3.0.0. Use suggest_float(..., log=True) instead.\n",
      "  learning_rate = trial.suggest_loguniform('learning_rate', 1e-6, 1e-3)\n",
      "c:\\Users\\mrbvb\\AppData\\Local\\Programs\\Python\\Python311\\Lib\\site-packages\\keras\\src\\layers\\core\\embedding.py:86: UserWarning: Argument `input_length` is deprecated. Just remove it.\n",
      "  warnings.warn(\n"
     ]
    },
    {
     "name": "stdout",
     "output_type": "stream",
     "text": [
      "\u001b[1m12/12\u001b[0m \u001b[32m━━━━━━━━━━━━━━━━━━━━\u001b[0m\u001b[37m\u001b[0m \u001b[1m6s\u001b[0m 84ms/step - accuracy: 0.4797 - loss: 0.6939\n",
      "Epoch 2/10\n",
      "\u001b[1m12/12\u001b[0m \u001b[32m━━━━━━━━━━━━━━━━━━━━\u001b[0m\u001b[37m\u001b[0m \u001b[1m1s\u001b[0m 82ms/step - accuracy: 0.5431 - loss: 0.6926\n",
      "Epoch 3/10\n",
      "\u001b[1m12/12\u001b[0m \u001b[32m━━━━━━━━━━━━━━━━━━━━\u001b[0m\u001b[37m\u001b[0m \u001b[1m1s\u001b[0m 81ms/step - accuracy: 0.5996 - loss: 0.6914\n",
      "Epoch 4/10\n",
      "\u001b[1m12/12\u001b[0m \u001b[32m━━━━━━━━━━━━━━━━━━━━\u001b[0m\u001b[37m\u001b[0m \u001b[1m1s\u001b[0m 80ms/step - accuracy: 0.5579 - loss: 0.6916\n",
      "Epoch 5/10\n",
      "\u001b[1m12/12\u001b[0m \u001b[32m━━━━━━━━━━━━━━━━━━━━\u001b[0m\u001b[37m\u001b[0m \u001b[1m1s\u001b[0m 80ms/step - accuracy: 0.5540 - loss: 0.6914\n",
      "Epoch 6/10\n",
      "\u001b[1m12/12\u001b[0m \u001b[32m━━━━━━━━━━━━━━━━━━━━\u001b[0m\u001b[37m\u001b[0m \u001b[1m1s\u001b[0m 84ms/step - accuracy: 0.5696 - loss: 0.6911\n",
      "\u001b[1m6/6\u001b[0m \u001b[32m━━━━━━━━━━━━━━━━━━━━\u001b[0m\u001b[37m\u001b[0m \u001b[1m1s\u001b[0m 99ms/step\n",
      "result score f1 fuc -0.6573252283125974\n",
      "kw {}\n",
      "create mod: d_rate 0.10282719044196202 d_rate2  0.09379170038400271 LSTM  64 dim  150 lr  2.4084312016297993e-05\n",
      "Epoch 1/10\n"
     ]
    },
    {
     "name": "stderr",
     "output_type": "stream",
     "text": [
      "C:\\Users\\mrbvb\\AppData\\Local\\Temp\\ipykernel_28284\\903665738.py:16: FutureWarning: suggest_uniform has been deprecated in v3.0.0. This feature will be removed in v6.0.0. See https://github.com/optuna/optuna/releases/tag/v3.0.0. Use suggest_float instead.\n",
      "  dropout_rate = trial.suggest_uniform('dropout_rate', 0.05, 0.3)\n",
      "C:\\Users\\mrbvb\\AppData\\Local\\Temp\\ipykernel_28284\\903665738.py:17: FutureWarning: suggest_uniform has been deprecated in v3.0.0. This feature will be removed in v6.0.0. See https://github.com/optuna/optuna/releases/tag/v3.0.0. Use suggest_float instead.\n",
      "  dropout_rate2 = trial.suggest_uniform('dropout_rate2', 0.05, 0.1)\n",
      "C:\\Users\\mrbvb\\AppData\\Local\\Temp\\ipykernel_28284\\903665738.py:20: FutureWarning: suggest_loguniform has been deprecated in v3.0.0. This feature will be removed in v6.0.0. See https://github.com/optuna/optuna/releases/tag/v3.0.0. Use suggest_float(..., log=True) instead.\n",
      "  learning_rate = trial.suggest_loguniform('learning_rate', 1e-6, 1e-3)\n",
      "c:\\Users\\mrbvb\\AppData\\Local\\Programs\\Python\\Python311\\Lib\\site-packages\\keras\\src\\layers\\core\\embedding.py:86: UserWarning: Argument `input_length` is deprecated. Just remove it.\n",
      "  warnings.warn(\n"
     ]
    },
    {
     "name": "stdout",
     "output_type": "stream",
     "text": [
      "\u001b[1m12/12\u001b[0m \u001b[32m━━━━━━━━━━━━━━━━━━━━\u001b[0m\u001b[37m\u001b[0m \u001b[1m5s\u001b[0m 74ms/step - accuracy: 0.5091 - loss: 0.6933\n",
      "Epoch 2/10\n",
      "\u001b[1m12/12\u001b[0m \u001b[32m━━━━━━━━━━━━━━━━━━━━\u001b[0m\u001b[37m\u001b[0m \u001b[1m1s\u001b[0m 75ms/step - accuracy: 0.5571 - loss: 0.6926\n",
      "Epoch 3/10\n",
      "\u001b[1m12/12\u001b[0m \u001b[32m━━━━━━━━━━━━━━━━━━━━\u001b[0m\u001b[37m\u001b[0m \u001b[1m1s\u001b[0m 73ms/step - accuracy: 0.5820 - loss: 0.6921\n",
      "Epoch 4/10\n",
      "\u001b[1m12/12\u001b[0m \u001b[32m━━━━━━━━━━━━━━━━━━━━\u001b[0m\u001b[37m\u001b[0m \u001b[1m1s\u001b[0m 73ms/step - accuracy: 0.5168 - loss: 0.6929\n",
      "Epoch 5/10\n",
      "\u001b[1m12/12\u001b[0m \u001b[32m━━━━━━━━━━━━━━━━━━━━\u001b[0m\u001b[37m\u001b[0m \u001b[1m1s\u001b[0m 71ms/step - accuracy: 0.6321 - loss: 0.6912\n",
      "Epoch 6/10\n",
      "\u001b[1m12/12\u001b[0m \u001b[32m━━━━━━━━━━━━━━━━━━━━\u001b[0m\u001b[37m\u001b[0m \u001b[1m1s\u001b[0m 73ms/step - accuracy: 0.5752 - loss: 0.6922\n",
      "\u001b[1m6/6\u001b[0m \u001b[32m━━━━━━━━━━━━━━━━━━━━\u001b[0m\u001b[37m\u001b[0m \u001b[1m1s\u001b[0m 96ms/step\n",
      "kw {}\n",
      "create mod: d_rate 0.10282719044196202 d_rate2  0.09379170038400271 LSTM  64 dim  150 lr  2.4084312016297993e-05\n",
      "Epoch 1/10\n"
     ]
    },
    {
     "name": "stderr",
     "output_type": "stream",
     "text": [
      "C:\\Users\\mrbvb\\AppData\\Local\\Temp\\ipykernel_28284\\903665738.py:16: FutureWarning: suggest_uniform has been deprecated in v3.0.0. This feature will be removed in v6.0.0. See https://github.com/optuna/optuna/releases/tag/v3.0.0. Use suggest_float instead.\n",
      "  dropout_rate = trial.suggest_uniform('dropout_rate', 0.05, 0.3)\n",
      "C:\\Users\\mrbvb\\AppData\\Local\\Temp\\ipykernel_28284\\903665738.py:17: FutureWarning: suggest_uniform has been deprecated in v3.0.0. This feature will be removed in v6.0.0. See https://github.com/optuna/optuna/releases/tag/v3.0.0. Use suggest_float instead.\n",
      "  dropout_rate2 = trial.suggest_uniform('dropout_rate2', 0.05, 0.1)\n",
      "C:\\Users\\mrbvb\\AppData\\Local\\Temp\\ipykernel_28284\\903665738.py:20: FutureWarning: suggest_loguniform has been deprecated in v3.0.0. This feature will be removed in v6.0.0. See https://github.com/optuna/optuna/releases/tag/v3.0.0. Use suggest_float(..., log=True) instead.\n",
      "  learning_rate = trial.suggest_loguniform('learning_rate', 1e-6, 1e-3)\n",
      "c:\\Users\\mrbvb\\AppData\\Local\\Programs\\Python\\Python311\\Lib\\site-packages\\keras\\src\\layers\\core\\embedding.py:86: UserWarning: Argument `input_length` is deprecated. Just remove it.\n",
      "  warnings.warn(\n"
     ]
    },
    {
     "name": "stdout",
     "output_type": "stream",
     "text": [
      "\u001b[1m12/12\u001b[0m \u001b[32m━━━━━━━━━━━━━━━━━━━━\u001b[0m\u001b[37m\u001b[0m \u001b[1m5s\u001b[0m 67ms/step - accuracy: 0.4649 - loss: 0.6940\n",
      "Epoch 2/10\n",
      "\u001b[1m12/12\u001b[0m \u001b[32m━━━━━━━━━━━━━━━━━━━━\u001b[0m\u001b[37m\u001b[0m \u001b[1m1s\u001b[0m 59ms/step - accuracy: 0.4970 - loss: 0.6930\n",
      "Epoch 3/10\n",
      "\u001b[1m12/12\u001b[0m \u001b[32m━━━━━━━━━━━━━━━━━━━━\u001b[0m\u001b[37m\u001b[0m \u001b[1m1s\u001b[0m 59ms/step - accuracy: 0.4875 - loss: 0.6933\n",
      "Epoch 4/10\n",
      "\u001b[1m12/12\u001b[0m \u001b[32m━━━━━━━━━━━━━━━━━━━━\u001b[0m\u001b[37m\u001b[0m \u001b[1m1s\u001b[0m 60ms/step - accuracy: 0.5543 - loss: 0.6919\n",
      "Epoch 5/10\n",
      "\u001b[1m12/12\u001b[0m \u001b[32m━━━━━━━━━━━━━━━━━━━━\u001b[0m\u001b[37m\u001b[0m \u001b[1m1s\u001b[0m 59ms/step - accuracy: 0.4722 - loss: 0.6937\n",
      "Epoch 6/10\n",
      "\u001b[1m12/12\u001b[0m \u001b[32m━━━━━━━━━━━━━━━━━━━━\u001b[0m\u001b[37m\u001b[0m \u001b[1m1s\u001b[0m 61ms/step - accuracy: 0.5705 - loss: 0.6913\n",
      "Epoch 7/10\n",
      "\u001b[1m12/12\u001b[0m \u001b[32m━━━━━━━━━━━━━━━━━━━━\u001b[0m\u001b[37m\u001b[0m \u001b[1m1s\u001b[0m 59ms/step - accuracy: 0.4957 - loss: 0.6914\n",
      "\u001b[1m6/6\u001b[0m \u001b[32m━━━━━━━━━━━━━━━━━━━━\u001b[0m\u001b[37m\u001b[0m \u001b[1m1s\u001b[0m 92ms/step\n",
      "kw {}\n",
      "create mod: d_rate 0.10282719044196202 d_rate2  0.09379170038400271 LSTM  64 dim  150 lr  2.4084312016297993e-05\n",
      "Epoch 1/10\n"
     ]
    },
    {
     "name": "stderr",
     "output_type": "stream",
     "text": [
      "C:\\Users\\mrbvb\\AppData\\Local\\Temp\\ipykernel_28284\\903665738.py:16: FutureWarning: suggest_uniform has been deprecated in v3.0.0. This feature will be removed in v6.0.0. See https://github.com/optuna/optuna/releases/tag/v3.0.0. Use suggest_float instead.\n",
      "  dropout_rate = trial.suggest_uniform('dropout_rate', 0.05, 0.3)\n",
      "C:\\Users\\mrbvb\\AppData\\Local\\Temp\\ipykernel_28284\\903665738.py:17: FutureWarning: suggest_uniform has been deprecated in v3.0.0. This feature will be removed in v6.0.0. See https://github.com/optuna/optuna/releases/tag/v3.0.0. Use suggest_float instead.\n",
      "  dropout_rate2 = trial.suggest_uniform('dropout_rate2', 0.05, 0.1)\n",
      "C:\\Users\\mrbvb\\AppData\\Local\\Temp\\ipykernel_28284\\903665738.py:20: FutureWarning: suggest_loguniform has been deprecated in v3.0.0. This feature will be removed in v6.0.0. See https://github.com/optuna/optuna/releases/tag/v3.0.0. Use suggest_float(..., log=True) instead.\n",
      "  learning_rate = trial.suggest_loguniform('learning_rate', 1e-6, 1e-3)\n",
      "c:\\Users\\mrbvb\\AppData\\Local\\Programs\\Python\\Python311\\Lib\\site-packages\\keras\\src\\layers\\core\\embedding.py:86: UserWarning: Argument `input_length` is deprecated. Just remove it.\n",
      "  warnings.warn(\n"
     ]
    },
    {
     "name": "stdout",
     "output_type": "stream",
     "text": [
      "\u001b[1m12/12\u001b[0m \u001b[32m━━━━━━━━━━━━━━━━━━━━\u001b[0m\u001b[37m\u001b[0m \u001b[1m5s\u001b[0m 62ms/step - accuracy: 0.4624 - loss: 0.6933\n",
      "Epoch 2/10\n",
      "\u001b[1m12/12\u001b[0m \u001b[32m━━━━━━━━━━━━━━━━━━━━\u001b[0m\u001b[37m\u001b[0m \u001b[1m1s\u001b[0m 60ms/step - accuracy: 0.4643 - loss: 0.6930\n",
      "Epoch 3/10\n",
      "\u001b[1m12/12\u001b[0m \u001b[32m━━━━━━━━━━━━━━━━━━━━\u001b[0m\u001b[37m\u001b[0m \u001b[1m1s\u001b[0m 59ms/step - accuracy: 0.4784 - loss: 0.6928\n",
      "Epoch 4/10\n",
      "\u001b[1m12/12\u001b[0m \u001b[32m━━━━━━━━━━━━━━━━━━━━\u001b[0m\u001b[37m\u001b[0m \u001b[1m1s\u001b[0m 58ms/step - accuracy: 0.5929 - loss: 0.6915\n",
      "Epoch 5/10\n",
      "\u001b[1m12/12\u001b[0m \u001b[32m━━━━━━━━━━━━━━━━━━━━\u001b[0m\u001b[37m\u001b[0m \u001b[1m1s\u001b[0m 54ms/step - accuracy: 0.5397 - loss: 0.6922\n",
      "Epoch 6/10\n",
      "\u001b[1m12/12\u001b[0m \u001b[32m━━━━━━━━━━━━━━━━━━━━\u001b[0m\u001b[37m\u001b[0m \u001b[1m1s\u001b[0m 57ms/step - accuracy: 0.5536 - loss: 0.6911\n",
      "Epoch 7/10\n",
      "\u001b[1m12/12\u001b[0m \u001b[32m━━━━━━━━━━━━━━━━━━━━\u001b[0m\u001b[37m\u001b[0m \u001b[1m1s\u001b[0m 56ms/step - accuracy: 0.4806 - loss: 0.6926\n",
      "\u001b[1m6/6\u001b[0m \u001b[32m━━━━━━━━━━━━━━━━━━━━\u001b[0m\u001b[37m\u001b[0m \u001b[1m1s\u001b[0m 93ms/step\n"
     ]
    },
    {
     "name": "stderr",
     "output_type": "stream",
     "text": [
      "[I 2024-04-26 18:06:30,196] Trial 1 finished with value: 0.531646440750868 and parameters: {'dropout_rate': 0.10282719044196202, 'dropout_rate2': 0.09379170038400271, 'LSTM_units': 64, 'EMBEDDING_DIM': 150, 'learning_rate': 2.4084312016297993e-05}. Best is trial 1 with value: 0.531646440750868.\n"
     ]
    },
    {
     "name": "stdout",
     "output_type": "stream",
     "text": [
      "Best trial:\n",
      "  Value:  0.531646440750868\n",
      "  Params:  {'dropout_rate': 0.10282719044196202, 'dropout_rate2': 0.09379170038400271, 'LSTM_units': 64, 'EMBEDDING_DIM': 150, 'learning_rate': 2.4084312016297993e-05}\n"
     ]
    }
   ],
   "source": [
    "import optuna\n",
    "from sklearn.base import BaseEstimator\n",
    "from sklearn.model_selection import cross_val_score\n",
    "from keras.optimizers import Adam\n",
    "from keras.models import Sequential\n",
    "from sklearn.metrics import fbeta_score, make_scorer\n",
    "from keras.layers import Embedding, Dense, Dropout, Bidirectional, LSTM\n",
    "import numpy as np\n",
    "import tensorflow.keras.backend as K\n",
    "\n",
    "# Define your data-specific constants\n",
    "MAX_WORDS = 3500\n",
    "MAX_SEQUENCE_LENGTH = 134\n",
    "\n",
    "def create_model(trial):\n",
    "    dropout_rate = trial.suggest_uniform('dropout_rate', 0.05, 0.3)\n",
    "    dropout_rate2 = trial.suggest_uniform('dropout_rate2', 0.05, 0.1) \n",
    "    LSTM_units = trial.suggest_categorical('LSTM_units', [64, 128, 256])\n",
    "    EMBEDDING_DIM = trial.suggest_categorical('EMBEDDING_DIM', [100, 150, 200])\n",
    "    learning_rate = trial.suggest_loguniform('learning_rate', 1e-6, 1e-3)\n",
    "    print('create mod: d_rate', dropout_rate, 'd_rate2 ', dropout_rate2, 'LSTM ', LSTM_units, 'dim ', EMBEDDING_DIM, 'lr ', learning_rate)\n",
    "\n",
    "    model = Sequential()\n",
    "    model.add(Embedding(MAX_WORDS, EMBEDDING_DIM, input_length=MAX_SEQUENCE_LENGTH))\n",
    "    model.add(Bidirectional(LSTM(LSTM_units, dropout=dropout_rate ,return_sequences=True)))\n",
    "    model.add(Dropout(dropout_rate2)) \n",
    "    model.add(Bidirectional(LSTM(int(LSTM_units / 2))))\n",
    "    model.add(Dropout(dropout_rate2))\n",
    "    model.add(Dense(1, activation='sigmoid'))\n",
    "    model.compile(loss='binary_crossentropy', optimizer=Adam(learning_rate), metrics=['accuracy'])\n",
    "    return model\n",
    "\n",
    "class CustomKerasClassifier(BaseEstimator):\n",
    "    def __init__(self, trial=None, **kwargs):\n",
    "        self.trial = trial\n",
    "        self.kwargs = kwargs\n",
    "        print('kw', kwargs)\n",
    "\n",
    "    def fit(self, X, Y):\n",
    "        \n",
    "        model = create_model(self.trial)\n",
    "        #model.fit(X, Y, **self.kwargs)\n",
    "        batch_size = self.kwargs.get(\"batch_size\", 32)\n",
    "        epochs = self.kwargs.get(\"epochs\", 10)\n",
    "        verbose = self.kwargs.get(\"verbose\", 1)\n",
    "        \n",
    "        early_stop1 = EarlyStopping(monitor='accuracy',patience=3,restore_best_weights=True)\n",
    "        early_stop2 = EarlyStopping(monitor='loss',patience=3,restore_best_weights=True)\n",
    "        # Fit the model with the specified batch size and other parameters\n",
    "        model.fit(X, Y, epochs=epochs, batch_size=batch_size, verbose=verbose,callbacks=[early_stop1,early_stop2])\n",
    "        \n",
    "        self.model = model\n",
    "        \n",
    "        return self\n",
    "\n",
    "    def predict(self, X):\n",
    "        predictions = self.model.predict(X)\n",
    "        binary_predictions = [[1 if value[0] > 0.5 else 0] for value in predictions]\n",
    "        return binary_predictions\n",
    "\n",
    "# Objective function for Optuna\n",
    "def objective(trial):\n",
    "    dropout_rate = trial.suggest_uniform('dropout_rate', 0.05, 0.3) #value should be from small to large only\n",
    "    dropout_rate2 = trial.suggest_uniform('dropout_rate2', 0.05, 0.1) \n",
    "    LSTM_units = trial.suggest_categorical('LSTM_units', [64, 128, 256])\n",
    "    EMBEDDING_DIM = trial.suggest_categorical('EMBEDDING_DIM', [100, 150, 200])\n",
    "    learning_rate = trial.suggest_loguniform('learning_rate', 1e-6, 1e-3)\n",
    "    print('objectiving')\n",
    "\n",
    "    model = CustomKerasClassifier(trial=trial)\n",
    "    f1 = make_scorer(fbeta_score, beta=1)\n",
    "    print('result score f1 fuc', -np.mean(cross_val_score(model, X_train, Y_train, cv=3, scoring=f1)))\n",
    "    return np.mean(cross_val_score(model, X_train, Y_train, cv=3, scoring=f1))\n",
    "\n",
    "\n",
    "# Study configuration\n",
    "study = optuna.create_study(direction='maximize')\n",
    "study.optimize(objective, n_trials=2) #edit the running here to 50 or so\n",
    "\n",
    "# Print results\n",
    "print(\"Best trial:\")\n",
    "best_trial = study.best_trial\n",
    "print(\"  Value: \", best_trial.value)\n",
    "print(\"  Params: \", study.best_params)\n"
   ]
  },
  {
   "cell_type": "markdown",
   "metadata": {},
   "source": [
    "Stop runnin optuna here"
   ]
  },
  {
   "cell_type": "markdown",
   "metadata": {},
   "source": [
    "# visualization"
   ]
  },
  {
   "cell_type": "code",
   "execution_count": 22,
   "metadata": {},
   "outputs": [
    {
     "data": {
      "application/vnd.plotly.v1+json": {
       "config": {
        "plotlyServerURL": "https://plot.ly"
       },
       "data": [
        {
         "type": "scatter",
         "xaxis": "x",
         "yaxis": "y"
        },
        {
         "colorbar": {
          "title": {
           "text": "Objective Value"
          }
         },
         "colorscale": [
          [
           0,
           "rgb(247,251,255)"
          ],
          [
           0.125,
           "rgb(222,235,247)"
          ],
          [
           0.25,
           "rgb(198,219,239)"
          ],
          [
           0.375,
           "rgb(158,202,225)"
          ],
          [
           0.5,
           "rgb(107,174,214)"
          ],
          [
           0.625,
           "rgb(66,146,198)"
          ],
          [
           0.75,
           "rgb(33,113,181)"
          ],
          [
           0.875,
           "rgb(8,81,156)"
          ],
          [
           1,
           "rgb(8,48,107)"
          ]
         ],
         "connectgaps": true,
         "contours": {
          "coloring": "heatmap"
         },
         "hoverinfo": "none",
         "line": {
          "smoothing": 1.3
         },
         "reversescale": false,
         "showscale": true,
         "type": "contour",
         "x": [
          95,
          100,
          150,
          200,
          205
         ],
         "xaxis": "x6",
         "y": [
          54.4,
          64,
          128,
          256,
          265.6
         ],
         "yaxis": "y6",
         "z": [
          [
           null,
           null,
           null,
           null,
           null
          ],
          [
           null,
           0.7410560850537378,
           0.7178831099783266,
           0.7397243107769423,
           null
          ],
          [
           null,
           0.7303230111071862,
           0.7251014997100008,
           0.7075079433569998,
           null
          ],
          [
           null,
           0.7247416953493858,
           0.743672415096469,
           0.6437047346296103,
           null
          ],
          [
           null,
           null,
           null,
           null,
           null
          ]
         ]
        },
        {
         "marker": {
          "color": "black",
          "line": {
           "color": "Gray",
           "width": 2
          }
         },
         "mode": "markers",
         "name": "Feasible Trial",
         "showlegend": false,
         "type": "scatter",
         "x": [
          200,
          200,
          200,
          100,
          200,
          150,
          200,
          150,
          150,
          200,
          100,
          100,
          100,
          100,
          100,
          200,
          100,
          200,
          100,
          150,
          200,
          150,
          150,
          150,
          150,
          150,
          100,
          200,
          150,
          100,
          200,
          150,
          150,
          150,
          150
         ],
         "xaxis": "x6",
         "y": [
          128,
          64,
          256,
          64,
          64,
          64,
          128,
          64,
          256,
          256,
          64,
          64,
          64,
          64,
          64,
          128,
          64,
          64,
          128,
          256,
          64,
          256,
          256,
          256,
          256,
          256,
          64,
          64,
          128,
          256,
          128,
          256,
          256,
          256,
          256
         ],
         "yaxis": "y6"
        },
        {
         "colorbar": {
          "title": {
           "text": "Objective Value"
          }
         },
         "colorscale": [
          [
           0,
           "rgb(247,251,255)"
          ],
          [
           0.125,
           "rgb(222,235,247)"
          ],
          [
           0.25,
           "rgb(198,219,239)"
          ],
          [
           0.375,
           "rgb(158,202,225)"
          ],
          [
           0.5,
           "rgb(107,174,214)"
          ],
          [
           0.625,
           "rgb(66,146,198)"
          ],
          [
           0.75,
           "rgb(33,113,181)"
          ],
          [
           0.875,
           "rgb(8,81,156)"
          ],
          [
           1,
           "rgb(8,48,107)"
          ]
         ],
         "connectgaps": true,
         "contours": {
          "coloring": "heatmap"
         },
         "hoverinfo": "none",
         "line": {
          "smoothing": 1.3
         },
         "reversescale": false,
         "showscale": false,
         "type": "contour",
         "x": [
          95,
          100,
          150,
          200,
          205
         ],
         "xaxis": "x11",
         "y": [
          0.043466152670791985,
          0.05554937256711111,
          0.06385206243116642,
          0.0651886095045491,
          0.09183897870762982,
          0.09250840338104498,
          0.0986729597160335,
          0.11174956415258834,
          0.11465077494664683,
          0.1156713724500694,
          0.12046325878870909,
          0.12800229872034904,
          0.13387570402654014,
          0.1378090102336979,
          0.1453264456086812,
          0.1478180141067793,
          0.15064557057690897,
          0.15349679728788918,
          0.15590285977199148,
          0.16134343558461572,
          0.16238731348221075,
          0.1731643507450079,
          0.1731740948385147,
          0.1877705161672686,
          0.18833485064608974,
          0.19866896646462542,
          0.20498071047682687,
          0.22251626560325732,
          0.2291435960126414,
          0.23417605472778696,
          0.25114280027181346,
          0.26062489815836487,
          0.28061157532406417,
          0.2818320666291123,
          0.2945510490437179,
          0.2972137704934936,
          0.30929699038981273
         ],
         "yaxis": "y11",
         "z": [
          [
           null,
           null,
           null,
           null,
           null
          ],
          [
           null,
           null,
           null,
           0.2582566916083945,
           null
          ],
          [
           null,
           0.7247416953493858,
           null,
           null,
           null
          ],
          [
           null,
           0.6182821118991332,
           null,
           null,
           null
          ],
          [
           null,
           null,
           null,
           0.2048780487804878,
           null
          ],
          [
           null,
           null,
           0.7178831099783266,
           null,
           null
          ],
          [
           null,
           null,
           null,
           0.7075079433569998,
           null
          ],
          [
           null,
           null,
           null,
           0.19865319865319866,
           null
          ],
          [
           null,
           null,
           0.736661712964727,
           null,
           null
          ],
          [
           null,
           null,
           null,
           0.03487253487253487,
           null
          ],
          [
           null,
           null,
           0.743672415096469,
           null,
           null
          ],
          [
           null,
           null,
           0.7288287315009699,
           null,
           null
          ],
          [
           null,
           null,
           0.7069358178053831,
           null,
           null
          ],
          [
           null,
           null,
           null,
           0.20952380952380953,
           null
          ],
          [
           null,
           null,
           0.736955681025112,
           null,
           null
          ],
          [
           null,
           null,
           0.7330559549961694,
           null,
           null
          ],
          [
           null,
           null,
           0.7355501340321076,
           null,
           null
          ],
          [
           null,
           null,
           null,
           0.7221044711714647,
           null
          ],
          [
           null,
           null,
           0.7354094453087331,
           null,
           null
          ],
          [
           null,
           null,
           0.7187736469303957,
           null,
           null
          ],
          [
           null,
           null,
           null,
           0.7397243107769423,
           null
          ],
          [
           null,
           null,
           0.4104813315339631,
           null,
           null
          ],
          [
           null,
           0.4927765330677952,
           null,
           null,
           null
          ],
          [
           null,
           null,
           0.7251014997100008,
           null,
           null
          ],
          [
           null,
           null,
           0.7005870672537338,
           null,
           null
          ],
          [
           null,
           0.7303230111071862,
           null,
           null,
           null
          ],
          [
           null,
           0.7083551689200992,
           null,
           null,
           null
          ],
          [
           null,
           0.7251143410414643,
           null,
           null,
           null
          ],
          [
           null,
           null,
           null,
           0.6437047346296103,
           null
          ],
          [
           null,
           0.7338085274891545,
           null,
           null,
           null
          ],
          [
           null,
           null,
           null,
           0.20555555555555557,
           null
          ],
          [
           null,
           null,
           null,
           0.6891311575135104,
           null
          ],
          [
           null,
           0.7004367588713172,
           null,
           null,
           null
          ],
          [
           null,
           0.7187234404215536,
           null,
           null,
           null
          ],
          [
           null,
           null,
           0.1993127147766323,
           null,
           null
          ],
          [
           null,
           0.7410560850537378,
           null,
           null,
           null
          ],
          [
           null,
           null,
           null,
           null,
           null
          ]
         ]
        },
        {
         "marker": {
          "color": "black",
          "line": {
           "color": "Gray",
           "width": 2
          }
         },
         "mode": "markers",
         "name": "Feasible Trial",
         "showlegend": false,
         "type": "scatter",
         "x": [
          200,
          200,
          200,
          100,
          200,
          150,
          200,
          150,
          150,
          200,
          100,
          100,
          100,
          100,
          100,
          200,
          100,
          200,
          100,
          150,
          200,
          150,
          150,
          150,
          150,
          150,
          100,
          200,
          150,
          100,
          200,
          150,
          150,
          150,
          150
         ],
         "xaxis": "x11",
         "y": [
          0.05554937256711111,
          0.16238731348221075,
          0.1156713724500694,
          0.1731740948385147,
          0.09183897870762982,
          0.09250840338104498,
          0.0986729597160335,
          0.1731643507450079,
          0.16134343558461572,
          0.2291435960126414,
          0.2972137704934936,
          0.28061157532406417,
          0.23417605472778696,
          0.2818320666291123,
          0.22251626560325732,
          0.1378090102336979,
          0.20498071047682687,
          0.26062489815836487,
          0.19866896646462542,
          0.15064557057690897,
          0.25114280027181346,
          0.1453264456086812,
          0.13387570402654014,
          0.18833485064608974,
          0.12800229872034904,
          0.2945510490437179,
          0.0651886095045491,
          0.15349679728788918,
          0.1877705161672686,
          0.06385206243116642,
          0.11174956415258834,
          0.1478180141067793,
          0.15590285977199148,
          0.11465077494664683,
          0.12046325878870909
         ],
         "yaxis": "y11"
        },
        {
         "colorbar": {
          "title": {
           "text": "Objective Value"
          }
         },
         "colorscale": [
          [
           0,
           "rgb(247,251,255)"
          ],
          [
           0.125,
           "rgb(222,235,247)"
          ],
          [
           0.25,
           "rgb(198,219,239)"
          ],
          [
           0.375,
           "rgb(158,202,225)"
          ],
          [
           0.5,
           "rgb(107,174,214)"
          ],
          [
           0.625,
           "rgb(66,146,198)"
          ],
          [
           0.75,
           "rgb(33,113,181)"
          ],
          [
           0.875,
           "rgb(8,81,156)"
          ],
          [
           1,
           "rgb(8,48,107)"
          ]
         ],
         "connectgaps": true,
         "contours": {
          "coloring": "heatmap"
         },
         "hoverinfo": "none",
         "line": {
          "smoothing": 1.3
         },
         "reversescale": false,
         "showscale": false,
         "type": "contour",
         "x": [
          95,
          100,
          150,
          200,
          205
         ],
         "xaxis": "x16",
         "y": [
          0.047570682927376505,
          0.050039131186963744,
          0.052401396449164334,
          0.05672700459303386,
          0.057854034295215365,
          0.05851597962389249,
          0.06330557333773223,
          0.06389674553083408,
          0.06711093143267129,
          0.06766958994432284,
          0.0710547738303259,
          0.0735411454485706,
          0.07398456754725026,
          0.07555304134674155,
          0.07821175835909654,
          0.07990923174589054,
          0.08170980573983573,
          0.08221136191243872,
          0.0826595204037524,
          0.083088237668143,
          0.08537928994950458,
          0.08537947874638763,
          0.08600847328552844,
          0.08643159140122408,
          0.08791295233242938,
          0.08820431595805273,
          0.08949453778337746,
          0.08988517994586956,
          0.09206698211614449,
          0.09349698775914125,
          0.09349754729562262,
          0.09366006862483765,
          0.09680690346663146,
          0.09691956847692654,
          0.09937082675952327,
          0.0994080963787085,
          0.10187654463829574
         ],
         "yaxis": "y16",
         "z": [
          [
           null,
           null,
           null,
           null,
           null
          ],
          [
           null,
           0.7338085274891545,
           null,
           null,
           null
          ],
          [
           null,
           0.7083551689200992,
           null,
           null,
           null
          ],
          [
           null,
           0.7004367588713172,
           null,
           null,
           null
          ],
          [
           null,
           0.7410560850537378,
           null,
           null,
           null
          ],
          [
           null,
           0.7303230111071862,
           null,
           null,
           null
          ],
          [
           null,
           0.7187234404215536,
           null,
           null,
           null
          ],
          [
           null,
           null,
           null,
           0.20952380952380953,
           null
          ],
          [
           null,
           null,
           null,
           0.20555555555555557,
           null
          ],
          [
           null,
           0.7251143410414643,
           null,
           null,
           null
          ],
          [
           null,
           null,
           0.7251014997100008,
           null,
           null
          ],
          [
           null,
           null,
           0.4104813315339631,
           null,
           null
          ],
          [
           null,
           null,
           null,
           0.7075079433569998,
           null
          ],
          [
           null,
           null,
           null,
           0.2048780487804878,
           null
          ],
          [
           null,
           null,
           0.7187736469303957,
           null,
           null
          ],
          [
           null,
           null,
           null,
           0.6437047346296103,
           null
          ],
          [
           null,
           0.7247416953493858,
           null,
           null,
           null
          ],
          [
           null,
           null,
           0.1993127147766323,
           null,
           null
          ],
          [
           null,
           null,
           0.736661712964727,
           null,
           null
          ],
          [
           null,
           null,
           0.743672415096469,
           null,
           null
          ],
          [
           null,
           null,
           null,
           0.03487253487253487,
           null
          ],
          [
           null,
           0.4927765330677952,
           null,
           null,
           null
          ],
          [
           null,
           null,
           0.7355501340321076,
           null,
           null
          ],
          [
           null,
           null,
           0.7330559549961694,
           null,
           null
          ],
          [
           null,
           null,
           0.736955681025112,
           null,
           null
          ],
          [
           null,
           null,
           0.7354094453087331,
           null,
           null
          ],
          [
           null,
           null,
           0.7288287315009699,
           null,
           null
          ],
          [
           null,
           null,
           null,
           0.7221044711714647,
           null
          ],
          [
           null,
           null,
           0.7069358178053831,
           null,
           null
          ],
          [
           null,
           null,
           0.7178831099783266,
           null,
           null
          ],
          [
           null,
           null,
           null,
           0.7397243107769423,
           null
          ],
          [
           null,
           null,
           null,
           0.6891311575135104,
           null
          ],
          [
           null,
           null,
           null,
           0.19865319865319866,
           null
          ],
          [
           null,
           0.6182821118991332,
           null,
           null,
           null
          ],
          [
           null,
           null,
           null,
           0.2582566916083945,
           null
          ],
          [
           null,
           null,
           0.7005870672537338,
           null,
           null
          ],
          [
           null,
           null,
           null,
           null,
           null
          ]
         ]
        },
        {
         "marker": {
          "color": "black",
          "line": {
           "color": "Gray",
           "width": 2
          }
         },
         "mode": "markers",
         "name": "Feasible Trial",
         "showlegend": false,
         "type": "scatter",
         "x": [
          200,
          200,
          200,
          100,
          200,
          150,
          200,
          150,
          150,
          200,
          100,
          100,
          100,
          100,
          100,
          200,
          100,
          200,
          100,
          150,
          200,
          150,
          150,
          150,
          150,
          150,
          100,
          200,
          150,
          100,
          200,
          150,
          150,
          150,
          150
         ],
         "xaxis": "x16",
         "y": [
          0.09937082675952327,
          0.09349754729562262,
          0.08537928994950458,
          0.08537947874638763,
          0.07555304134674155,
          0.09349698775914125,
          0.07398456754725026,
          0.0735411454485706,
          0.07821175835909654,
          0.07990923174589054,
          0.057854034295215365,
          0.05672700459303386,
          0.050039131186963744,
          0.06330557333773223,
          0.06766958994432284,
          0.06389674553083408,
          0.052401396449164334,
          0.09366006862483765,
          0.05851597962389249,
          0.08600847328552844,
          0.06711093143267129,
          0.08791295233242938,
          0.09206698211614449,
          0.0994080963787085,
          0.08949453778337746,
          0.08221136191243872,
          0.09691956847692654,
          0.08988517994586956,
          0.0710547738303259,
          0.08170980573983573,
          0.09680690346663146,
          0.08643159140122408,
          0.08820431595805273,
          0.0826595204037524,
          0.083088237668143
         ],
         "yaxis": "y16"
        },
        {
         "colorbar": {
          "title": {
           "text": "Objective Value"
          }
         },
         "colorscale": [
          [
           0,
           "rgb(247,251,255)"
          ],
          [
           0.125,
           "rgb(222,235,247)"
          ],
          [
           0.25,
           "rgb(198,219,239)"
          ],
          [
           0.375,
           "rgb(158,202,225)"
          ],
          [
           0.5,
           "rgb(107,174,214)"
          ],
          [
           0.625,
           "rgb(66,146,198)"
          ],
          [
           0.75,
           "rgb(33,113,181)"
          ],
          [
           0.875,
           "rgb(8,81,156)"
          ],
          [
           1,
           "rgb(8,48,107)"
          ]
         ],
         "connectgaps": true,
         "contours": {
          "coloring": "heatmap"
         },
         "hoverinfo": "none",
         "line": {
          "smoothing": 1.3
         },
         "reversescale": false,
         "showscale": false,
         "type": "contour",
         "x": [
          95,
          100,
          150,
          200,
          205
         ],
         "xaxis": "x21",
         "y": [
          8.315603778470874e-7,
          0.0000011635393603063947,
          0.0000023094071481095476,
          0.000007694072728756075,
          0.000009041973441856718,
          0.0000120628423169246,
          0.000017689390716193458,
          0.000022473858786331558,
          0.000023248275975612407,
          0.000030718743013361876,
          0.000046059257159255764,
          0.0000495490175608353,
          0.00005004345599490854,
          0.000054084277920453076,
          0.0000567961592098049,
          0.00007604936940612161,
          0.00008025000116876372,
          0.00009393652218769055,
          0.00010495226455352575,
          0.00010564926287579155,
          0.00011770387178985493,
          0.00011931169586112166,
          0.00015302368750292746,
          0.0001547499414756148,
          0.00016762821491891325,
          0.00016987384540062114,
          0.00022810096153700054,
          0.000235837375972441,
          0.0002662989058111937,
          0.00028675383501458807,
          0.000287529810936762,
          0.0004076065453883772,
          0.0004480420675843755,
          0.0005562781120729123,
          0.0007674171673042348,
          0.0009627796574239111,
          0.001347144544831864
         ],
         "yaxis": "y21",
         "z": [
          [
           null,
           null,
           null,
           null,
           null
          ],
          [
           null,
           null,
           null,
           0.03487253487253487,
           null
          ],
          [
           null,
           null,
           0.4104813315339631,
           null,
           null
          ],
          [
           null,
           null,
           null,
           0.20555555555555557,
           null
          ],
          [
           null,
           null,
           null,
           0.20952380952380953,
           null
          ],
          [
           null,
           null,
           0.1993127147766323,
           null,
           null
          ],
          [
           null,
           null,
           null,
           0.19865319865319866,
           null
          ],
          [
           null,
           null,
           null,
           0.2582566916083945,
           null
          ],
          [
           null,
           null,
           null,
           0.2048780487804878,
           null
          ],
          [
           null,
           null,
           null,
           0.6437047346296103,
           null
          ],
          [
           null,
           null,
           0.743672415096469,
           null,
           null
          ],
          [
           null,
           null,
           0.7251014997100008,
           null,
           null
          ],
          [
           null,
           0.4927765330677952,
           null,
           null,
           null
          ],
          [
           null,
           null,
           0.7005870672537338,
           null,
           null
          ],
          [
           null,
           null,
           0.736661712964727,
           null,
           null
          ],
          [
           null,
           0.7303230111071862,
           null,
           null,
           null
          ],
          [
           null,
           0.7187234404215536,
           null,
           null,
           null
          ],
          [
           null,
           null,
           0.7354094453087331,
           null,
           null
          ],
          [
           null,
           0.6182821118991332,
           null,
           null,
           null
          ],
          [
           null,
           null,
           0.736955681025112,
           null,
           null
          ],
          [
           null,
           null,
           0.7330559549961694,
           null,
           null
          ],
          [
           null,
           null,
           0.7355501340321076,
           null,
           null
          ],
          [
           null,
           0.7410560850537378,
           null,
           null,
           null
          ],
          [
           null,
           0.7004367588713172,
           null,
           null,
           null
          ],
          [
           null,
           0.7338085274891545,
           null,
           null,
           null
          ],
          [
           null,
           null,
           0.7187736469303957,
           null,
           null
          ],
          [
           null,
           0.7247416953493858,
           null,
           null,
           null
          ],
          [
           null,
           null,
           null,
           0.7397243107769423,
           null
          ],
          [
           null,
           null,
           0.7288287315009699,
           null,
           null
          ],
          [
           null,
           0.7083551689200992,
           null,
           null,
           null
          ],
          [
           null,
           null,
           0.7069358178053831,
           null,
           null
          ],
          [
           null,
           0.7251143410414643,
           null,
           null,
           null
          ],
          [
           null,
           null,
           null,
           0.7075079433569998,
           null
          ],
          [
           null,
           null,
           null,
           0.7221044711714647,
           null
          ],
          [
           null,
           null,
           0.7178831099783266,
           null,
           null
          ],
          [
           null,
           null,
           null,
           0.6891311575135104,
           null
          ],
          [
           null,
           null,
           null,
           null,
           null
          ]
         ]
        },
        {
         "marker": {
          "color": "black",
          "line": {
           "color": "Gray",
           "width": 2
          }
         },
         "mode": "markers",
         "name": "Feasible Trial",
         "showlegend": false,
         "type": "scatter",
         "x": [
          200,
          200,
          200,
          100,
          200,
          150,
          200,
          150,
          150,
          200,
          100,
          100,
          100,
          100,
          100,
          200,
          100,
          200,
          100,
          150,
          200,
          150,
          150,
          150,
          150,
          150,
          100,
          200,
          150,
          100,
          200,
          150,
          150,
          150,
          150
         ],
         "xaxis": "x21",
         "y": [
          0.000022473858786331558,
          0.000235837375972441,
          0.0000011635393603063947,
          0.00005004345599490854,
          0.000023248275975612407,
          0.0007674171673042348,
          0.0004480420675843755,
          0.0000023094071481095476,
          0.00016987384540062114,
          0.000030718743013361876,
          0.00015302368750292746,
          0.0001547499414756148,
          0.00016762821491891325,
          0.00008025000116876372,
          0.0004076065453883772,
          0.000009041973441856718,
          0.00028675383501458807,
          0.0009627796574239111,
          0.00007604936940612161,
          0.00011931169586112166,
          0.000007694072728756075,
          0.00010564926287579155,
          0.000287529810936762,
          0.000054084277920453076,
          0.0002662989058111937,
          0.0000120628423169246,
          0.00010495226455352575,
          0.0005562781120729123,
          0.0000495490175608353,
          0.00022810096153700054,
          0.000017689390716193458,
          0.00011770387178985493,
          0.00009393652218769055,
          0.0000567961592098049,
          0.000046059257159255764
         ],
         "yaxis": "y21"
        },
        {
         "colorbar": {
          "title": {
           "text": "Objective Value"
          }
         },
         "colorscale": [
          [
           0,
           "rgb(247,251,255)"
          ],
          [
           0.125,
           "rgb(222,235,247)"
          ],
          [
           0.25,
           "rgb(198,219,239)"
          ],
          [
           0.375,
           "rgb(158,202,225)"
          ],
          [
           0.5,
           "rgb(107,174,214)"
          ],
          [
           0.625,
           "rgb(66,146,198)"
          ],
          [
           0.75,
           "rgb(33,113,181)"
          ],
          [
           0.875,
           "rgb(8,81,156)"
          ],
          [
           1,
           "rgb(8,48,107)"
          ]
         ],
         "connectgaps": true,
         "contours": {
          "coloring": "heatmap"
         },
         "hoverinfo": "none",
         "line": {
          "smoothing": 1.3
         },
         "reversescale": false,
         "showscale": false,
         "type": "contour",
         "x": [
          54.4,
          64,
          128,
          256,
          265.6
         ],
         "xaxis": "x2",
         "y": [
          95,
          100,
          150,
          200,
          205
         ],
         "yaxis": "y2",
         "z": [
          [
           null,
           null,
           null,
           null,
           null
          ],
          [
           null,
           0.7410560850537378,
           0.7303230111071862,
           0.7247416953493858,
           null
          ],
          [
           null,
           0.7178831099783266,
           0.7251014997100008,
           0.743672415096469,
           null
          ],
          [
           null,
           0.7397243107769423,
           0.7075079433569998,
           0.6437047346296103,
           null
          ],
          [
           null,
           null,
           null,
           null,
           null
          ]
         ]
        },
        {
         "marker": {
          "color": "black",
          "line": {
           "color": "Gray",
           "width": 2
          }
         },
         "mode": "markers",
         "name": "Feasible Trial",
         "showlegend": false,
         "type": "scatter",
         "x": [
          128,
          64,
          256,
          64,
          64,
          64,
          128,
          64,
          256,
          256,
          64,
          64,
          64,
          64,
          64,
          128,
          64,
          64,
          128,
          256,
          64,
          256,
          256,
          256,
          256,
          256,
          64,
          64,
          128,
          256,
          128,
          256,
          256,
          256,
          256
         ],
         "xaxis": "x2",
         "y": [
          200,
          200,
          200,
          100,
          200,
          150,
          200,
          150,
          150,
          200,
          100,
          100,
          100,
          100,
          100,
          200,
          100,
          200,
          100,
          150,
          200,
          150,
          150,
          150,
          150,
          150,
          100,
          200,
          150,
          100,
          200,
          150,
          150,
          150,
          150
         ],
         "yaxis": "y2"
        },
        {
         "type": "scatter",
         "xaxis": "x7",
         "yaxis": "y7"
        },
        {
         "colorbar": {
          "title": {
           "text": "Objective Value"
          }
         },
         "colorscale": [
          [
           0,
           "rgb(247,251,255)"
          ],
          [
           0.125,
           "rgb(222,235,247)"
          ],
          [
           0.25,
           "rgb(198,219,239)"
          ],
          [
           0.375,
           "rgb(158,202,225)"
          ],
          [
           0.5,
           "rgb(107,174,214)"
          ],
          [
           0.625,
           "rgb(66,146,198)"
          ],
          [
           0.75,
           "rgb(33,113,181)"
          ],
          [
           0.875,
           "rgb(8,81,156)"
          ],
          [
           1,
           "rgb(8,48,107)"
          ]
         ],
         "connectgaps": true,
         "contours": {
          "coloring": "heatmap"
         },
         "hoverinfo": "none",
         "line": {
          "smoothing": 1.3
         },
         "reversescale": false,
         "showscale": false,
         "type": "contour",
         "x": [
          54.4,
          64,
          128,
          256,
          265.6
         ],
         "xaxis": "x12",
         "y": [
          0.043466152670791985,
          0.05554937256711111,
          0.06385206243116642,
          0.0651886095045491,
          0.09183897870762982,
          0.09250840338104498,
          0.0986729597160335,
          0.11174956415258834,
          0.11465077494664683,
          0.1156713724500694,
          0.12046325878870909,
          0.12800229872034904,
          0.13387570402654014,
          0.1378090102336979,
          0.1453264456086812,
          0.1478180141067793,
          0.15064557057690897,
          0.15349679728788918,
          0.15590285977199148,
          0.16134343558461572,
          0.16238731348221075,
          0.1731643507450079,
          0.1731740948385147,
          0.1877705161672686,
          0.18833485064608974,
          0.19866896646462542,
          0.20498071047682687,
          0.22251626560325732,
          0.2291435960126414,
          0.23417605472778696,
          0.25114280027181346,
          0.26062489815836487,
          0.28061157532406417,
          0.2818320666291123,
          0.2945510490437179,
          0.2972137704934936,
          0.30929699038981273
         ],
         "yaxis": "y12",
         "z": [
          [
           null,
           null,
           null,
           null,
           null
          ],
          [
           null,
           null,
           0.2582566916083945,
           null,
           null
          ],
          [
           null,
           null,
           null,
           0.7247416953493858,
           null
          ],
          [
           null,
           0.6182821118991332,
           null,
           null,
           null
          ],
          [
           null,
           0.2048780487804878,
           null,
           null,
           null
          ],
          [
           null,
           0.7178831099783266,
           null,
           null,
           null
          ],
          [
           null,
           null,
           0.7075079433569998,
           null,
           null
          ],
          [
           null,
           null,
           0.19865319865319866,
           null,
           null
          ],
          [
           null,
           null,
           null,
           0.736661712964727,
           null
          ],
          [
           null,
           null,
           null,
           0.03487253487253487,
           null
          ],
          [
           null,
           null,
           null,
           0.743672415096469,
           null
          ],
          [
           null,
           null,
           null,
           0.7288287315009699,
           null
          ],
          [
           null,
           null,
           null,
           0.7069358178053831,
           null
          ],
          [
           null,
           null,
           0.20952380952380953,
           null,
           null
          ],
          [
           null,
           null,
           null,
           0.736955681025112,
           null
          ],
          [
           null,
           null,
           null,
           0.7330559549961694,
           null
          ],
          [
           null,
           null,
           null,
           0.7355501340321076,
           null
          ],
          [
           null,
           0.7221044711714647,
           null,
           null,
           null
          ],
          [
           null,
           null,
           null,
           0.7354094453087331,
           null
          ],
          [
           null,
           null,
           null,
           0.7187736469303957,
           null
          ],
          [
           null,
           0.7397243107769423,
           null,
           null,
           null
          ],
          [
           null,
           0.4104813315339631,
           null,
           null,
           null
          ],
          [
           null,
           0.4927765330677952,
           null,
           null,
           null
          ],
          [
           null,
           null,
           0.7251014997100008,
           null,
           null
          ],
          [
           null,
           null,
           null,
           0.7005870672537338,
           null
          ],
          [
           null,
           null,
           0.7303230111071862,
           null,
           null
          ],
          [
           null,
           0.7083551689200992,
           null,
           null,
           null
          ],
          [
           null,
           0.7251143410414643,
           null,
           null,
           null
          ],
          [
           null,
           null,
           null,
           0.6437047346296103,
           null
          ],
          [
           null,
           0.7338085274891545,
           null,
           null,
           null
          ],
          [
           null,
           0.20555555555555557,
           null,
           null,
           null
          ],
          [
           null,
           0.6891311575135104,
           null,
           null,
           null
          ],
          [
           null,
           0.7004367588713172,
           null,
           null,
           null
          ],
          [
           null,
           0.7187234404215536,
           null,
           null,
           null
          ],
          [
           null,
           null,
           null,
           0.1993127147766323,
           null
          ],
          [
           null,
           0.7410560850537378,
           null,
           null,
           null
          ],
          [
           null,
           null,
           null,
           null,
           null
          ]
         ]
        },
        {
         "marker": {
          "color": "black",
          "line": {
           "color": "Gray",
           "width": 2
          }
         },
         "mode": "markers",
         "name": "Feasible Trial",
         "showlegend": false,
         "type": "scatter",
         "x": [
          128,
          64,
          256,
          64,
          64,
          64,
          128,
          64,
          256,
          256,
          64,
          64,
          64,
          64,
          64,
          128,
          64,
          64,
          128,
          256,
          64,
          256,
          256,
          256,
          256,
          256,
          64,
          64,
          128,
          256,
          128,
          256,
          256,
          256,
          256
         ],
         "xaxis": "x12",
         "y": [
          0.05554937256711111,
          0.16238731348221075,
          0.1156713724500694,
          0.1731740948385147,
          0.09183897870762982,
          0.09250840338104498,
          0.0986729597160335,
          0.1731643507450079,
          0.16134343558461572,
          0.2291435960126414,
          0.2972137704934936,
          0.28061157532406417,
          0.23417605472778696,
          0.2818320666291123,
          0.22251626560325732,
          0.1378090102336979,
          0.20498071047682687,
          0.26062489815836487,
          0.19866896646462542,
          0.15064557057690897,
          0.25114280027181346,
          0.1453264456086812,
          0.13387570402654014,
          0.18833485064608974,
          0.12800229872034904,
          0.2945510490437179,
          0.0651886095045491,
          0.15349679728788918,
          0.1877705161672686,
          0.06385206243116642,
          0.11174956415258834,
          0.1478180141067793,
          0.15590285977199148,
          0.11465077494664683,
          0.12046325878870909
         ],
         "yaxis": "y12"
        },
        {
         "colorbar": {
          "title": {
           "text": "Objective Value"
          }
         },
         "colorscale": [
          [
           0,
           "rgb(247,251,255)"
          ],
          [
           0.125,
           "rgb(222,235,247)"
          ],
          [
           0.25,
           "rgb(198,219,239)"
          ],
          [
           0.375,
           "rgb(158,202,225)"
          ],
          [
           0.5,
           "rgb(107,174,214)"
          ],
          [
           0.625,
           "rgb(66,146,198)"
          ],
          [
           0.75,
           "rgb(33,113,181)"
          ],
          [
           0.875,
           "rgb(8,81,156)"
          ],
          [
           1,
           "rgb(8,48,107)"
          ]
         ],
         "connectgaps": true,
         "contours": {
          "coloring": "heatmap"
         },
         "hoverinfo": "none",
         "line": {
          "smoothing": 1.3
         },
         "reversescale": false,
         "showscale": false,
         "type": "contour",
         "x": [
          54.4,
          64,
          128,
          256,
          265.6
         ],
         "xaxis": "x17",
         "y": [
          0.047570682927376505,
          0.050039131186963744,
          0.052401396449164334,
          0.05672700459303386,
          0.057854034295215365,
          0.05851597962389249,
          0.06330557333773223,
          0.06389674553083408,
          0.06711093143267129,
          0.06766958994432284,
          0.0710547738303259,
          0.0735411454485706,
          0.07398456754725026,
          0.07555304134674155,
          0.07821175835909654,
          0.07990923174589054,
          0.08170980573983573,
          0.08221136191243872,
          0.0826595204037524,
          0.083088237668143,
          0.08537928994950458,
          0.08537947874638763,
          0.08600847328552844,
          0.08643159140122408,
          0.08791295233242938,
          0.08820431595805273,
          0.08949453778337746,
          0.08988517994586956,
          0.09206698211614449,
          0.09349698775914125,
          0.09349754729562262,
          0.09366006862483765,
          0.09680690346663146,
          0.09691956847692654,
          0.09937082675952327,
          0.0994080963787085,
          0.10187654463829574
         ],
         "yaxis": "y17",
         "z": [
          [
           null,
           null,
           null,
           null,
           null
          ],
          [
           null,
           0.7338085274891545,
           null,
           null,
           null
          ],
          [
           null,
           0.7083551689200992,
           null,
           null,
           null
          ],
          [
           null,
           0.7004367588713172,
           null,
           null,
           null
          ],
          [
           null,
           0.7410560850537378,
           null,
           null,
           null
          ],
          [
           null,
           null,
           0.7303230111071862,
           null,
           null
          ],
          [
           null,
           0.7187234404215536,
           null,
           null,
           null
          ],
          [
           null,
           null,
           0.20952380952380953,
           null,
           null
          ],
          [
           null,
           0.20555555555555557,
           null,
           null,
           null
          ],
          [
           null,
           0.7251143410414643,
           null,
           null,
           null
          ],
          [
           null,
           null,
           0.7251014997100008,
           null,
           null
          ],
          [
           null,
           0.4104813315339631,
           null,
           null,
           null
          ],
          [
           null,
           null,
           0.7075079433569998,
           null,
           null
          ],
          [
           null,
           0.2048780487804878,
           null,
           null,
           null
          ],
          [
           null,
           null,
           null,
           0.7187736469303957,
           null
          ],
          [
           null,
           null,
           null,
           0.6437047346296103,
           null
          ],
          [
           null,
           null,
           null,
           0.7247416953493858,
           null
          ],
          [
           null,
           null,
           null,
           0.1993127147766323,
           null
          ],
          [
           null,
           null,
           null,
           0.736661712964727,
           null
          ],
          [
           null,
           null,
           null,
           0.743672415096469,
           null
          ],
          [
           null,
           null,
           null,
           0.03487253487253487,
           null
          ],
          [
           null,
           0.4927765330677952,
           null,
           null,
           null
          ],
          [
           null,
           null,
           null,
           0.7355501340321076,
           null
          ],
          [
           null,
           null,
           null,
           0.7330559549961694,
           null
          ],
          [
           null,
           null,
           null,
           0.736955681025112,
           null
          ],
          [
           null,
           null,
           null,
           0.7354094453087331,
           null
          ],
          [
           null,
           null,
           null,
           0.7288287315009699,
           null
          ],
          [
           null,
           0.7221044711714647,
           null,
           null,
           null
          ],
          [
           null,
           null,
           null,
           0.7069358178053831,
           null
          ],
          [
           null,
           0.7178831099783266,
           null,
           null,
           null
          ],
          [
           null,
           0.7397243107769423,
           null,
           null,
           null
          ],
          [
           null,
           0.6891311575135104,
           null,
           null,
           null
          ],
          [
           null,
           null,
           0.19865319865319866,
           null,
           null
          ],
          [
           null,
           0.6182821118991332,
           null,
           null,
           null
          ],
          [
           null,
           null,
           0.2582566916083945,
           null,
           null
          ],
          [
           null,
           null,
           null,
           0.7005870672537338,
           null
          ],
          [
           null,
           null,
           null,
           null,
           null
          ]
         ]
        },
        {
         "marker": {
          "color": "black",
          "line": {
           "color": "Gray",
           "width": 2
          }
         },
         "mode": "markers",
         "name": "Feasible Trial",
         "showlegend": false,
         "type": "scatter",
         "x": [
          128,
          64,
          256,
          64,
          64,
          64,
          128,
          64,
          256,
          256,
          64,
          64,
          64,
          64,
          64,
          128,
          64,
          64,
          128,
          256,
          64,
          256,
          256,
          256,
          256,
          256,
          64,
          64,
          128,
          256,
          128,
          256,
          256,
          256,
          256
         ],
         "xaxis": "x17",
         "y": [
          0.09937082675952327,
          0.09349754729562262,
          0.08537928994950458,
          0.08537947874638763,
          0.07555304134674155,
          0.09349698775914125,
          0.07398456754725026,
          0.0735411454485706,
          0.07821175835909654,
          0.07990923174589054,
          0.057854034295215365,
          0.05672700459303386,
          0.050039131186963744,
          0.06330557333773223,
          0.06766958994432284,
          0.06389674553083408,
          0.052401396449164334,
          0.09366006862483765,
          0.05851597962389249,
          0.08600847328552844,
          0.06711093143267129,
          0.08791295233242938,
          0.09206698211614449,
          0.0994080963787085,
          0.08949453778337746,
          0.08221136191243872,
          0.09691956847692654,
          0.08988517994586956,
          0.0710547738303259,
          0.08170980573983573,
          0.09680690346663146,
          0.08643159140122408,
          0.08820431595805273,
          0.0826595204037524,
          0.083088237668143
         ],
         "yaxis": "y17"
        },
        {
         "colorbar": {
          "title": {
           "text": "Objective Value"
          }
         },
         "colorscale": [
          [
           0,
           "rgb(247,251,255)"
          ],
          [
           0.125,
           "rgb(222,235,247)"
          ],
          [
           0.25,
           "rgb(198,219,239)"
          ],
          [
           0.375,
           "rgb(158,202,225)"
          ],
          [
           0.5,
           "rgb(107,174,214)"
          ],
          [
           0.625,
           "rgb(66,146,198)"
          ],
          [
           0.75,
           "rgb(33,113,181)"
          ],
          [
           0.875,
           "rgb(8,81,156)"
          ],
          [
           1,
           "rgb(8,48,107)"
          ]
         ],
         "connectgaps": true,
         "contours": {
          "coloring": "heatmap"
         },
         "hoverinfo": "none",
         "line": {
          "smoothing": 1.3
         },
         "reversescale": false,
         "showscale": false,
         "type": "contour",
         "x": [
          54.4,
          64,
          128,
          256,
          265.6
         ],
         "xaxis": "x22",
         "y": [
          8.315603778470874e-7,
          0.0000011635393603063947,
          0.0000023094071481095476,
          0.000007694072728756075,
          0.000009041973441856718,
          0.0000120628423169246,
          0.000017689390716193458,
          0.000022473858786331558,
          0.000023248275975612407,
          0.000030718743013361876,
          0.000046059257159255764,
          0.0000495490175608353,
          0.00005004345599490854,
          0.000054084277920453076,
          0.0000567961592098049,
          0.00007604936940612161,
          0.00008025000116876372,
          0.00009393652218769055,
          0.00010495226455352575,
          0.00010564926287579155,
          0.00011770387178985493,
          0.00011931169586112166,
          0.00015302368750292746,
          0.0001547499414756148,
          0.00016762821491891325,
          0.00016987384540062114,
          0.00022810096153700054,
          0.000235837375972441,
          0.0002662989058111937,
          0.00028675383501458807,
          0.000287529810936762,
          0.0004076065453883772,
          0.0004480420675843755,
          0.0005562781120729123,
          0.0007674171673042348,
          0.0009627796574239111,
          0.001347144544831864
         ],
         "yaxis": "y22",
         "z": [
          [
           null,
           null,
           null,
           null,
           null
          ],
          [
           null,
           null,
           null,
           0.03487253487253487,
           null
          ],
          [
           null,
           0.4104813315339631,
           null,
           null,
           null
          ],
          [
           null,
           0.20555555555555557,
           null,
           null,
           null
          ],
          [
           null,
           null,
           0.20952380952380953,
           null,
           null
          ],
          [
           null,
           null,
           null,
           0.1993127147766323,
           null
          ],
          [
           null,
           null,
           0.19865319865319866,
           null,
           null
          ],
          [
           null,
           null,
           0.2582566916083945,
           null,
           null
          ],
          [
           null,
           0.2048780487804878,
           null,
           null,
           null
          ],
          [
           null,
           null,
           null,
           0.6437047346296103,
           null
          ],
          [
           null,
           null,
           null,
           0.743672415096469,
           null
          ],
          [
           null,
           null,
           0.7251014997100008,
           null,
           null
          ],
          [
           null,
           0.4927765330677952,
           null,
           null,
           null
          ],
          [
           null,
           null,
           null,
           0.7005870672537338,
           null
          ],
          [
           null,
           null,
           null,
           0.736661712964727,
           null
          ],
          [
           null,
           null,
           0.7303230111071862,
           null,
           null
          ],
          [
           null,
           0.7187234404215536,
           null,
           null,
           null
          ],
          [
           null,
           null,
           null,
           0.7354094453087331,
           null
          ],
          [
           null,
           0.6182821118991332,
           null,
           null,
           null
          ],
          [
           null,
           null,
           null,
           0.736955681025112,
           null
          ],
          [
           null,
           null,
           null,
           0.7330559549961694,
           null
          ],
          [
           null,
           null,
           null,
           0.7355501340321076,
           null
          ],
          [
           null,
           0.7410560850537378,
           null,
           null,
           null
          ],
          [
           null,
           0.7004367588713172,
           null,
           null,
           null
          ],
          [
           null,
           0.7338085274891545,
           null,
           null,
           null
          ],
          [
           null,
           null,
           null,
           0.7187736469303957,
           null
          ],
          [
           null,
           null,
           null,
           0.7247416953493858,
           null
          ],
          [
           null,
           0.7397243107769423,
           null,
           null,
           null
          ],
          [
           null,
           null,
           null,
           0.7288287315009699,
           null
          ],
          [
           null,
           0.7083551689200992,
           null,
           null,
           null
          ],
          [
           null,
           null,
           null,
           0.7069358178053831,
           null
          ],
          [
           null,
           0.7251143410414643,
           null,
           null,
           null
          ],
          [
           null,
           null,
           0.7075079433569998,
           null,
           null
          ],
          [
           null,
           0.7221044711714647,
           null,
           null,
           null
          ],
          [
           null,
           0.7178831099783266,
           null,
           null,
           null
          ],
          [
           null,
           0.6891311575135104,
           null,
           null,
           null
          ],
          [
           null,
           null,
           null,
           null,
           null
          ]
         ]
        },
        {
         "marker": {
          "color": "black",
          "line": {
           "color": "Gray",
           "width": 2
          }
         },
         "mode": "markers",
         "name": "Feasible Trial",
         "showlegend": false,
         "type": "scatter",
         "x": [
          128,
          64,
          256,
          64,
          64,
          64,
          128,
          64,
          256,
          256,
          64,
          64,
          64,
          64,
          64,
          128,
          64,
          64,
          128,
          256,
          64,
          256,
          256,
          256,
          256,
          256,
          64,
          64,
          128,
          256,
          128,
          256,
          256,
          256,
          256
         ],
         "xaxis": "x22",
         "y": [
          0.000022473858786331558,
          0.000235837375972441,
          0.0000011635393603063947,
          0.00005004345599490854,
          0.000023248275975612407,
          0.0007674171673042348,
          0.0004480420675843755,
          0.0000023094071481095476,
          0.00016987384540062114,
          0.000030718743013361876,
          0.00015302368750292746,
          0.0001547499414756148,
          0.00016762821491891325,
          0.00008025000116876372,
          0.0004076065453883772,
          0.000009041973441856718,
          0.00028675383501458807,
          0.0009627796574239111,
          0.00007604936940612161,
          0.00011931169586112166,
          0.000007694072728756075,
          0.00010564926287579155,
          0.000287529810936762,
          0.000054084277920453076,
          0.0002662989058111937,
          0.0000120628423169246,
          0.00010495226455352575,
          0.0005562781120729123,
          0.0000495490175608353,
          0.00022810096153700054,
          0.000017689390716193458,
          0.00011770387178985493,
          0.00009393652218769055,
          0.0000567961592098049,
          0.000046059257159255764
         ],
         "yaxis": "y22"
        },
        {
         "colorbar": {
          "title": {
           "text": "Objective Value"
          }
         },
         "colorscale": [
          [
           0,
           "rgb(247,251,255)"
          ],
          [
           0.125,
           "rgb(222,235,247)"
          ],
          [
           0.25,
           "rgb(198,219,239)"
          ],
          [
           0.375,
           "rgb(158,202,225)"
          ],
          [
           0.5,
           "rgb(107,174,214)"
          ],
          [
           0.625,
           "rgb(66,146,198)"
          ],
          [
           0.75,
           "rgb(33,113,181)"
          ],
          [
           0.875,
           "rgb(8,81,156)"
          ],
          [
           1,
           "rgb(8,48,107)"
          ]
         ],
         "connectgaps": true,
         "contours": {
          "coloring": "heatmap"
         },
         "hoverinfo": "none",
         "line": {
          "smoothing": 1.3
         },
         "reversescale": false,
         "showscale": false,
         "type": "contour",
         "x": [
          0.043466152670791985,
          0.05554937256711111,
          0.06385206243116642,
          0.0651886095045491,
          0.09183897870762982,
          0.09250840338104498,
          0.0986729597160335,
          0.11174956415258834,
          0.11465077494664683,
          0.1156713724500694,
          0.12046325878870909,
          0.12800229872034904,
          0.13387570402654014,
          0.1378090102336979,
          0.1453264456086812,
          0.1478180141067793,
          0.15064557057690897,
          0.15349679728788918,
          0.15590285977199148,
          0.16134343558461572,
          0.16238731348221075,
          0.1731643507450079,
          0.1731740948385147,
          0.1877705161672686,
          0.18833485064608974,
          0.19866896646462542,
          0.20498071047682687,
          0.22251626560325732,
          0.2291435960126414,
          0.23417605472778696,
          0.25114280027181346,
          0.26062489815836487,
          0.28061157532406417,
          0.2818320666291123,
          0.2945510490437179,
          0.2972137704934936,
          0.30929699038981273
         ],
         "xaxis": "x3",
         "y": [
          95,
          100,
          150,
          200,
          205
         ],
         "yaxis": "y3",
         "z": [
          [
           null,
           null,
           null,
           null,
           null,
           null,
           null,
           null,
           null,
           null,
           null,
           null,
           null,
           null,
           null,
           null,
           null,
           null,
           null,
           null,
           null,
           null,
           null,
           null,
           null,
           null,
           null,
           null,
           null,
           null,
           null,
           null,
           null,
           null,
           null,
           null,
           null
          ],
          [
           null,
           null,
           0.7247416953493858,
           0.6182821118991332,
           null,
           null,
           null,
           null,
           null,
           null,
           null,
           null,
           null,
           null,
           null,
           null,
           null,
           null,
           null,
           null,
           null,
           null,
           0.4927765330677952,
           null,
           null,
           0.7303230111071862,
           0.7083551689200992,
           0.7251143410414643,
           null,
           0.7338085274891545,
           null,
           null,
           0.7004367588713172,
           0.7187234404215536,
           null,
           0.7410560850537378,
           null
          ],
          [
           null,
           null,
           null,
           null,
           null,
           0.7178831099783266,
           null,
           null,
           0.736661712964727,
           null,
           0.743672415096469,
           0.7288287315009699,
           0.7069358178053831,
           null,
           0.736955681025112,
           0.7330559549961694,
           0.7355501340321076,
           null,
           0.7354094453087331,
           0.7187736469303957,
           null,
           0.4104813315339631,
           null,
           0.7251014997100008,
           0.7005870672537338,
           null,
           null,
           null,
           null,
           null,
           null,
           null,
           null,
           null,
           0.1993127147766323,
           null,
           null
          ],
          [
           null,
           0.2582566916083945,
           null,
           null,
           0.2048780487804878,
           null,
           0.7075079433569998,
           0.19865319865319866,
           null,
           0.03487253487253487,
           null,
           null,
           null,
           0.20952380952380953,
           null,
           null,
           null,
           0.7221044711714647,
           null,
           null,
           0.7397243107769423,
           null,
           null,
           null,
           null,
           null,
           null,
           null,
           0.6437047346296103,
           null,
           0.20555555555555557,
           0.6891311575135104,
           null,
           null,
           null,
           null,
           null
          ],
          [
           null,
           null,
           null,
           null,
           null,
           null,
           null,
           null,
           null,
           null,
           null,
           null,
           null,
           null,
           null,
           null,
           null,
           null,
           null,
           null,
           null,
           null,
           null,
           null,
           null,
           null,
           null,
           null,
           null,
           null,
           null,
           null,
           null,
           null,
           null,
           null,
           null
          ]
         ]
        },
        {
         "marker": {
          "color": "black",
          "line": {
           "color": "Gray",
           "width": 2
          }
         },
         "mode": "markers",
         "name": "Feasible Trial",
         "showlegend": false,
         "type": "scatter",
         "x": [
          0.05554937256711111,
          0.16238731348221075,
          0.1156713724500694,
          0.1731740948385147,
          0.09183897870762982,
          0.09250840338104498,
          0.0986729597160335,
          0.1731643507450079,
          0.16134343558461572,
          0.2291435960126414,
          0.2972137704934936,
          0.28061157532406417,
          0.23417605472778696,
          0.2818320666291123,
          0.22251626560325732,
          0.1378090102336979,
          0.20498071047682687,
          0.26062489815836487,
          0.19866896646462542,
          0.15064557057690897,
          0.25114280027181346,
          0.1453264456086812,
          0.13387570402654014,
          0.18833485064608974,
          0.12800229872034904,
          0.2945510490437179,
          0.0651886095045491,
          0.15349679728788918,
          0.1877705161672686,
          0.06385206243116642,
          0.11174956415258834,
          0.1478180141067793,
          0.15590285977199148,
          0.11465077494664683,
          0.12046325878870909
         ],
         "xaxis": "x3",
         "y": [
          200,
          200,
          200,
          100,
          200,
          150,
          200,
          150,
          150,
          200,
          100,
          100,
          100,
          100,
          100,
          200,
          100,
          200,
          100,
          150,
          200,
          150,
          150,
          150,
          150,
          150,
          100,
          200,
          150,
          100,
          200,
          150,
          150,
          150,
          150
         ],
         "yaxis": "y3"
        },
        {
         "colorbar": {
          "title": {
           "text": "Objective Value"
          }
         },
         "colorscale": [
          [
           0,
           "rgb(247,251,255)"
          ],
          [
           0.125,
           "rgb(222,235,247)"
          ],
          [
           0.25,
           "rgb(198,219,239)"
          ],
          [
           0.375,
           "rgb(158,202,225)"
          ],
          [
           0.5,
           "rgb(107,174,214)"
          ],
          [
           0.625,
           "rgb(66,146,198)"
          ],
          [
           0.75,
           "rgb(33,113,181)"
          ],
          [
           0.875,
           "rgb(8,81,156)"
          ],
          [
           1,
           "rgb(8,48,107)"
          ]
         ],
         "connectgaps": true,
         "contours": {
          "coloring": "heatmap"
         },
         "hoverinfo": "none",
         "line": {
          "smoothing": 1.3
         },
         "reversescale": false,
         "showscale": false,
         "type": "contour",
         "x": [
          0.043466152670791985,
          0.05554937256711111,
          0.06385206243116642,
          0.0651886095045491,
          0.09183897870762982,
          0.09250840338104498,
          0.0986729597160335,
          0.11174956415258834,
          0.11465077494664683,
          0.1156713724500694,
          0.12046325878870909,
          0.12800229872034904,
          0.13387570402654014,
          0.1378090102336979,
          0.1453264456086812,
          0.1478180141067793,
          0.15064557057690897,
          0.15349679728788918,
          0.15590285977199148,
          0.16134343558461572,
          0.16238731348221075,
          0.1731643507450079,
          0.1731740948385147,
          0.1877705161672686,
          0.18833485064608974,
          0.19866896646462542,
          0.20498071047682687,
          0.22251626560325732,
          0.2291435960126414,
          0.23417605472778696,
          0.25114280027181346,
          0.26062489815836487,
          0.28061157532406417,
          0.2818320666291123,
          0.2945510490437179,
          0.2972137704934936,
          0.30929699038981273
         ],
         "xaxis": "x8",
         "y": [
          54.4,
          64,
          128,
          256,
          265.6
         ],
         "yaxis": "y8",
         "z": [
          [
           null,
           null,
           null,
           null,
           null,
           null,
           null,
           null,
           null,
           null,
           null,
           null,
           null,
           null,
           null,
           null,
           null,
           null,
           null,
           null,
           null,
           null,
           null,
           null,
           null,
           null,
           null,
           null,
           null,
           null,
           null,
           null,
           null,
           null,
           null,
           null,
           null
          ],
          [
           null,
           null,
           null,
           0.6182821118991332,
           0.2048780487804878,
           0.7178831099783266,
           null,
           null,
           null,
           null,
           null,
           null,
           null,
           null,
           null,
           null,
           null,
           0.7221044711714647,
           null,
           null,
           0.7397243107769423,
           0.4104813315339631,
           0.4927765330677952,
           null,
           null,
           null,
           0.7083551689200992,
           0.7251143410414643,
           null,
           0.7338085274891545,
           0.20555555555555557,
           0.6891311575135104,
           0.7004367588713172,
           0.7187234404215536,
           null,
           0.7410560850537378,
           null
          ],
          [
           null,
           0.2582566916083945,
           null,
           null,
           null,
           null,
           0.7075079433569998,
           0.19865319865319866,
           null,
           null,
           null,
           null,
           null,
           0.20952380952380953,
           null,
           null,
           null,
           null,
           null,
           null,
           null,
           null,
           null,
           0.7251014997100008,
           null,
           0.7303230111071862,
           null,
           null,
           null,
           null,
           null,
           null,
           null,
           null,
           null,
           null,
           null
          ],
          [
           null,
           null,
           0.7247416953493858,
           null,
           null,
           null,
           null,
           null,
           0.736661712964727,
           0.03487253487253487,
           0.743672415096469,
           0.7288287315009699,
           0.7069358178053831,
           null,
           0.736955681025112,
           0.7330559549961694,
           0.7355501340321076,
           null,
           0.7354094453087331,
           0.7187736469303957,
           null,
           null,
           null,
           null,
           0.7005870672537338,
           null,
           null,
           null,
           0.6437047346296103,
           null,
           null,
           null,
           null,
           null,
           0.1993127147766323,
           null,
           null
          ],
          [
           null,
           null,
           null,
           null,
           null,
           null,
           null,
           null,
           null,
           null,
           null,
           null,
           null,
           null,
           null,
           null,
           null,
           null,
           null,
           null,
           null,
           null,
           null,
           null,
           null,
           null,
           null,
           null,
           null,
           null,
           null,
           null,
           null,
           null,
           null,
           null,
           null
          ]
         ]
        },
        {
         "marker": {
          "color": "black",
          "line": {
           "color": "Gray",
           "width": 2
          }
         },
         "mode": "markers",
         "name": "Feasible Trial",
         "showlegend": false,
         "type": "scatter",
         "x": [
          0.05554937256711111,
          0.16238731348221075,
          0.1156713724500694,
          0.1731740948385147,
          0.09183897870762982,
          0.09250840338104498,
          0.0986729597160335,
          0.1731643507450079,
          0.16134343558461572,
          0.2291435960126414,
          0.2972137704934936,
          0.28061157532406417,
          0.23417605472778696,
          0.2818320666291123,
          0.22251626560325732,
          0.1378090102336979,
          0.20498071047682687,
          0.26062489815836487,
          0.19866896646462542,
          0.15064557057690897,
          0.25114280027181346,
          0.1453264456086812,
          0.13387570402654014,
          0.18833485064608974,
          0.12800229872034904,
          0.2945510490437179,
          0.0651886095045491,
          0.15349679728788918,
          0.1877705161672686,
          0.06385206243116642,
          0.11174956415258834,
          0.1478180141067793,
          0.15590285977199148,
          0.11465077494664683,
          0.12046325878870909
         ],
         "xaxis": "x8",
         "y": [
          128,
          64,
          256,
          64,
          64,
          64,
          128,
          64,
          256,
          256,
          64,
          64,
          64,
          64,
          64,
          128,
          64,
          64,
          128,
          256,
          64,
          256,
          256,
          256,
          256,
          256,
          64,
          64,
          128,
          256,
          128,
          256,
          256,
          256,
          256
         ],
         "yaxis": "y8"
        },
        {
         "type": "scatter",
         "xaxis": "x13",
         "yaxis": "y13"
        },
        {
         "colorbar": {
          "title": {
           "text": "Objective Value"
          }
         },
         "colorscale": [
          [
           0,
           "rgb(247,251,255)"
          ],
          [
           0.125,
           "rgb(222,235,247)"
          ],
          [
           0.25,
           "rgb(198,219,239)"
          ],
          [
           0.375,
           "rgb(158,202,225)"
          ],
          [
           0.5,
           "rgb(107,174,214)"
          ],
          [
           0.625,
           "rgb(66,146,198)"
          ],
          [
           0.75,
           "rgb(33,113,181)"
          ],
          [
           0.875,
           "rgb(8,81,156)"
          ],
          [
           1,
           "rgb(8,48,107)"
          ]
         ],
         "connectgaps": true,
         "contours": {
          "coloring": "heatmap"
         },
         "hoverinfo": "none",
         "line": {
          "smoothing": 1.3
         },
         "reversescale": false,
         "showscale": false,
         "type": "contour",
         "x": [
          0.043466152670791985,
          0.05554937256711111,
          0.06385206243116642,
          0.0651886095045491,
          0.09183897870762982,
          0.09250840338104498,
          0.0986729597160335,
          0.11174956415258834,
          0.11465077494664683,
          0.1156713724500694,
          0.12046325878870909,
          0.12800229872034904,
          0.13387570402654014,
          0.1378090102336979,
          0.1453264456086812,
          0.1478180141067793,
          0.15064557057690897,
          0.15349679728788918,
          0.15590285977199148,
          0.16134343558461572,
          0.16238731348221075,
          0.1731643507450079,
          0.1731740948385147,
          0.1877705161672686,
          0.18833485064608974,
          0.19866896646462542,
          0.20498071047682687,
          0.22251626560325732,
          0.2291435960126414,
          0.23417605472778696,
          0.25114280027181346,
          0.26062489815836487,
          0.28061157532406417,
          0.2818320666291123,
          0.2945510490437179,
          0.2972137704934936,
          0.30929699038981273
         ],
         "xaxis": "x18",
         "y": [
          0.047570682927376505,
          0.050039131186963744,
          0.052401396449164334,
          0.05672700459303386,
          0.057854034295215365,
          0.05851597962389249,
          0.06330557333773223,
          0.06389674553083408,
          0.06711093143267129,
          0.06766958994432284,
          0.0710547738303259,
          0.0735411454485706,
          0.07398456754725026,
          0.07555304134674155,
          0.07821175835909654,
          0.07990923174589054,
          0.08170980573983573,
          0.08221136191243872,
          0.0826595204037524,
          0.083088237668143,
          0.08537928994950458,
          0.08537947874638763,
          0.08600847328552844,
          0.08643159140122408,
          0.08791295233242938,
          0.08820431595805273,
          0.08949453778337746,
          0.08988517994586956,
          0.09206698211614449,
          0.09349698775914125,
          0.09349754729562262,
          0.09366006862483765,
          0.09680690346663146,
          0.09691956847692654,
          0.09937082675952327,
          0.0994080963787085,
          0.10187654463829574
         ],
         "yaxis": "y18",
         "z": [
          [
           null,
           null,
           null,
           null,
           null,
           null,
           null,
           null,
           null,
           null,
           null,
           null,
           null,
           null,
           null,
           null,
           null,
           null,
           null,
           null,
           null,
           null,
           null,
           null,
           null,
           null,
           null,
           null,
           null,
           null,
           null,
           null,
           null,
           null,
           null,
           null,
           null
          ],
          [
           null,
           null,
           null,
           null,
           null,
           null,
           null,
           null,
           null,
           null,
           null,
           null,
           null,
           null,
           null,
           null,
           null,
           null,
           null,
           null,
           null,
           null,
           null,
           null,
           null,
           null,
           null,
           null,
           null,
           0.7338085274891545,
           null,
           null,
           null,
           null,
           null,
           null,
           null
          ],
          [
           null,
           null,
           null,
           null,
           null,
           null,
           null,
           null,
           null,
           null,
           null,
           null,
           null,
           null,
           null,
           null,
           null,
           null,
           null,
           null,
           null,
           null,
           null,
           null,
           null,
           null,
           0.7083551689200992,
           null,
           null,
           null,
           null,
           null,
           null,
           null,
           null,
           null,
           null
          ],
          [
           null,
           null,
           null,
           null,
           null,
           null,
           null,
           null,
           null,
           null,
           null,
           null,
           null,
           null,
           null,
           null,
           null,
           null,
           null,
           null,
           null,
           null,
           null,
           null,
           null,
           null,
           null,
           null,
           null,
           null,
           null,
           null,
           0.7004367588713172,
           null,
           null,
           null,
           null
          ],
          [
           null,
           null,
           null,
           null,
           null,
           null,
           null,
           null,
           null,
           null,
           null,
           null,
           null,
           null,
           null,
           null,
           null,
           null,
           null,
           null,
           null,
           null,
           null,
           null,
           null,
           null,
           null,
           null,
           null,
           null,
           null,
           null,
           null,
           null,
           null,
           0.7410560850537378,
           null
          ],
          [
           null,
           null,
           null,
           null,
           null,
           null,
           null,
           null,
           null,
           null,
           null,
           null,
           null,
           null,
           null,
           null,
           null,
           null,
           null,
           null,
           null,
           null,
           null,
           null,
           null,
           0.7303230111071862,
           null,
           null,
           null,
           null,
           null,
           null,
           null,
           null,
           null,
           null,
           null
          ],
          [
           null,
           null,
           null,
           null,
           null,
           null,
           null,
           null,
           null,
           null,
           null,
           null,
           null,
           null,
           null,
           null,
           null,
           null,
           null,
           null,
           null,
           null,
           null,
           null,
           null,
           null,
           null,
           null,
           null,
           null,
           null,
           null,
           null,
           0.7187234404215536,
           null,
           null,
           null
          ],
          [
           null,
           null,
           null,
           null,
           null,
           null,
           null,
           null,
           null,
           null,
           null,
           null,
           null,
           0.20952380952380953,
           null,
           null,
           null,
           null,
           null,
           null,
           null,
           null,
           null,
           null,
           null,
           null,
           null,
           null,
           null,
           null,
           null,
           null,
           null,
           null,
           null,
           null,
           null
          ],
          [
           null,
           null,
           null,
           null,
           null,
           null,
           null,
           null,
           null,
           null,
           null,
           null,
           null,
           null,
           null,
           null,
           null,
           null,
           null,
           null,
           null,
           null,
           null,
           null,
           null,
           null,
           null,
           null,
           null,
           null,
           0.20555555555555557,
           null,
           null,
           null,
           null,
           null,
           null
          ],
          [
           null,
           null,
           null,
           null,
           null,
           null,
           null,
           null,
           null,
           null,
           null,
           null,
           null,
           null,
           null,
           null,
           null,
           null,
           null,
           null,
           null,
           null,
           null,
           null,
           null,
           null,
           null,
           0.7251143410414643,
           null,
           null,
           null,
           null,
           null,
           null,
           null,
           null,
           null
          ],
          [
           null,
           null,
           null,
           null,
           null,
           null,
           null,
           null,
           null,
           null,
           null,
           null,
           null,
           null,
           null,
           null,
           null,
           null,
           null,
           null,
           null,
           null,
           null,
           0.7251014997100008,
           null,
           null,
           null,
           null,
           null,
           null,
           null,
           null,
           null,
           null,
           null,
           null,
           null
          ],
          [
           null,
           null,
           null,
           null,
           null,
           null,
           null,
           null,
           null,
           null,
           null,
           null,
           null,
           null,
           null,
           null,
           null,
           null,
           null,
           null,
           null,
           0.4104813315339631,
           null,
           null,
           null,
           null,
           null,
           null,
           null,
           null,
           null,
           null,
           null,
           null,
           null,
           null,
           null
          ],
          [
           null,
           null,
           null,
           null,
           null,
           null,
           0.7075079433569998,
           null,
           null,
           null,
           null,
           null,
           null,
           null,
           null,
           null,
           null,
           null,
           null,
           null,
           null,
           null,
           null,
           null,
           null,
           null,
           null,
           null,
           null,
           null,
           null,
           null,
           null,
           null,
           null,
           null,
           null
          ],
          [
           null,
           null,
           null,
           null,
           0.2048780487804878,
           null,
           null,
           null,
           null,
           null,
           null,
           null,
           null,
           null,
           null,
           null,
           null,
           null,
           null,
           null,
           null,
           null,
           null,
           null,
           null,
           null,
           null,
           null,
           null,
           null,
           null,
           null,
           null,
           null,
           null,
           null,
           null
          ],
          [
           null,
           null,
           null,
           null,
           null,
           null,
           null,
           null,
           null,
           null,
           null,
           null,
           null,
           null,
           null,
           null,
           null,
           null,
           null,
           0.7187736469303957,
           null,
           null,
           null,
           null,
           null,
           null,
           null,
           null,
           null,
           null,
           null,
           null,
           null,
           null,
           null,
           null,
           null
          ],
          [
           null,
           null,
           null,
           null,
           null,
           null,
           null,
           null,
           null,
           null,
           null,
           null,
           null,
           null,
           null,
           null,
           null,
           null,
           null,
           null,
           null,
           null,
           null,
           null,
           null,
           null,
           null,
           null,
           0.6437047346296103,
           null,
           null,
           null,
           null,
           null,
           null,
           null,
           null
          ],
          [
           null,
           null,
           0.7247416953493858,
           null,
           null,
           null,
           null,
           null,
           null,
           null,
           null,
           null,
           null,
           null,
           null,
           null,
           null,
           null,
           null,
           null,
           null,
           null,
           null,
           null,
           null,
           null,
           null,
           null,
           null,
           null,
           null,
           null,
           null,
           null,
           null,
           null,
           null
          ],
          [
           null,
           null,
           null,
           null,
           null,
           null,
           null,
           null,
           null,
           null,
           null,
           null,
           null,
           null,
           null,
           null,
           null,
           null,
           null,
           null,
           null,
           null,
           null,
           null,
           null,
           null,
           null,
           null,
           null,
           null,
           null,
           null,
           null,
           null,
           0.1993127147766323,
           null,
           null
          ],
          [
           null,
           null,
           null,
           null,
           null,
           null,
           null,
           null,
           0.736661712964727,
           null,
           null,
           null,
           null,
           null,
           null,
           null,
           null,
           null,
           null,
           null,
           null,
           null,
           null,
           null,
           null,
           null,
           null,
           null,
           null,
           null,
           null,
           null,
           null,
           null,
           null,
           null,
           null
          ],
          [
           null,
           null,
           null,
           null,
           null,
           null,
           null,
           null,
           null,
           null,
           0.743672415096469,
           null,
           null,
           null,
           null,
           null,
           null,
           null,
           null,
           null,
           null,
           null,
           null,
           null,
           null,
           null,
           null,
           null,
           null,
           null,
           null,
           null,
           null,
           null,
           null,
           null,
           null
          ],
          [
           null,
           null,
           null,
           null,
           null,
           null,
           null,
           null,
           null,
           0.03487253487253487,
           null,
           null,
           null,
           null,
           null,
           null,
           null,
           null,
           null,
           null,
           null,
           null,
           null,
           null,
           null,
           null,
           null,
           null,
           null,
           null,
           null,
           null,
           null,
           null,
           null,
           null,
           null
          ],
          [
           null,
           null,
           null,
           null,
           null,
           null,
           null,
           null,
           null,
           null,
           null,
           null,
           null,
           null,
           null,
           null,
           null,
           null,
           null,
           null,
           null,
           null,
           0.4927765330677952,
           null,
           null,
           null,
           null,
           null,
           null,
           null,
           null,
           null,
           null,
           null,
           null,
           null,
           null
          ],
          [
           null,
           null,
           null,
           null,
           null,
           null,
           null,
           null,
           null,
           null,
           null,
           null,
           null,
           null,
           null,
           null,
           0.7355501340321076,
           null,
           null,
           null,
           null,
           null,
           null,
           null,
           null,
           null,
           null,
           null,
           null,
           null,
           null,
           null,
           null,
           null,
           null,
           null,
           null
          ],
          [
           null,
           null,
           null,
           null,
           null,
           null,
           null,
           null,
           null,
           null,
           null,
           null,
           null,
           null,
           null,
           0.7330559549961694,
           null,
           null,
           null,
           null,
           null,
           null,
           null,
           null,
           null,
           null,
           null,
           null,
           null,
           null,
           null,
           null,
           null,
           null,
           null,
           null,
           null
          ],
          [
           null,
           null,
           null,
           null,
           null,
           null,
           null,
           null,
           null,
           null,
           null,
           null,
           null,
           null,
           0.736955681025112,
           null,
           null,
           null,
           null,
           null,
           null,
           null,
           null,
           null,
           null,
           null,
           null,
           null,
           null,
           null,
           null,
           null,
           null,
           null,
           null,
           null,
           null
          ],
          [
           null,
           null,
           null,
           null,
           null,
           null,
           null,
           null,
           null,
           null,
           null,
           null,
           null,
           null,
           null,
           null,
           null,
           null,
           0.7354094453087331,
           null,
           null,
           null,
           null,
           null,
           null,
           null,
           null,
           null,
           null,
           null,
           null,
           null,
           null,
           null,
           null,
           null,
           null
          ],
          [
           null,
           null,
           null,
           null,
           null,
           null,
           null,
           null,
           null,
           null,
           null,
           0.7288287315009699,
           null,
           null,
           null,
           null,
           null,
           null,
           null,
           null,
           null,
           null,
           null,
           null,
           null,
           null,
           null,
           null,
           null,
           null,
           null,
           null,
           null,
           null,
           null,
           null,
           null
          ],
          [
           null,
           null,
           null,
           null,
           null,
           null,
           null,
           null,
           null,
           null,
           null,
           null,
           null,
           null,
           null,
           null,
           null,
           0.7221044711714647,
           null,
           null,
           null,
           null,
           null,
           null,
           null,
           null,
           null,
           null,
           null,
           null,
           null,
           null,
           null,
           null,
           null,
           null,
           null
          ],
          [
           null,
           null,
           null,
           null,
           null,
           null,
           null,
           null,
           null,
           null,
           null,
           null,
           0.7069358178053831,
           null,
           null,
           null,
           null,
           null,
           null,
           null,
           null,
           null,
           null,
           null,
           null,
           null,
           null,
           null,
           null,
           null,
           null,
           null,
           null,
           null,
           null,
           null,
           null
          ],
          [
           null,
           null,
           null,
           null,
           null,
           0.7178831099783266,
           null,
           null,
           null,
           null,
           null,
           null,
           null,
           null,
           null,
           null,
           null,
           null,
           null,
           null,
           null,
           null,
           null,
           null,
           null,
           null,
           null,
           null,
           null,
           null,
           null,
           null,
           null,
           null,
           null,
           null,
           null
          ],
          [
           null,
           null,
           null,
           null,
           null,
           null,
           null,
           null,
           null,
           null,
           null,
           null,
           null,
           null,
           null,
           null,
           null,
           null,
           null,
           null,
           0.7397243107769423,
           null,
           null,
           null,
           null,
           null,
           null,
           null,
           null,
           null,
           null,
           null,
           null,
           null,
           null,
           null,
           null
          ],
          [
           null,
           null,
           null,
           null,
           null,
           null,
           null,
           null,
           null,
           null,
           null,
           null,
           null,
           null,
           null,
           null,
           null,
           null,
           null,
           null,
           null,
           null,
           null,
           null,
           null,
           null,
           null,
           null,
           null,
           null,
           null,
           0.6891311575135104,
           null,
           null,
           null,
           null,
           null
          ],
          [
           null,
           null,
           null,
           null,
           null,
           null,
           null,
           0.19865319865319866,
           null,
           null,
           null,
           null,
           null,
           null,
           null,
           null,
           null,
           null,
           null,
           null,
           null,
           null,
           null,
           null,
           null,
           null,
           null,
           null,
           null,
           null,
           null,
           null,
           null,
           null,
           null,
           null,
           null
          ],
          [
           null,
           null,
           null,
           0.6182821118991332,
           null,
           null,
           null,
           null,
           null,
           null,
           null,
           null,
           null,
           null,
           null,
           null,
           null,
           null,
           null,
           null,
           null,
           null,
           null,
           null,
           null,
           null,
           null,
           null,
           null,
           null,
           null,
           null,
           null,
           null,
           null,
           null,
           null
          ],
          [
           null,
           0.2582566916083945,
           null,
           null,
           null,
           null,
           null,
           null,
           null,
           null,
           null,
           null,
           null,
           null,
           null,
           null,
           null,
           null,
           null,
           null,
           null,
           null,
           null,
           null,
           null,
           null,
           null,
           null,
           null,
           null,
           null,
           null,
           null,
           null,
           null,
           null,
           null
          ],
          [
           null,
           null,
           null,
           null,
           null,
           null,
           null,
           null,
           null,
           null,
           null,
           null,
           null,
           null,
           null,
           null,
           null,
           null,
           null,
           null,
           null,
           null,
           null,
           null,
           0.7005870672537338,
           null,
           null,
           null,
           null,
           null,
           null,
           null,
           null,
           null,
           null,
           null,
           null
          ],
          [
           null,
           null,
           null,
           null,
           null,
           null,
           null,
           null,
           null,
           null,
           null,
           null,
           null,
           null,
           null,
           null,
           null,
           null,
           null,
           null,
           null,
           null,
           null,
           null,
           null,
           null,
           null,
           null,
           null,
           null,
           null,
           null,
           null,
           null,
           null,
           null,
           null
          ]
         ]
        },
        {
         "marker": {
          "color": "black",
          "line": {
           "color": "Gray",
           "width": 2
          }
         },
         "mode": "markers",
         "name": "Feasible Trial",
         "showlegend": false,
         "type": "scatter",
         "x": [
          0.05554937256711111,
          0.16238731348221075,
          0.1156713724500694,
          0.1731740948385147,
          0.09183897870762982,
          0.09250840338104498,
          0.0986729597160335,
          0.1731643507450079,
          0.16134343558461572,
          0.2291435960126414,
          0.2972137704934936,
          0.28061157532406417,
          0.23417605472778696,
          0.2818320666291123,
          0.22251626560325732,
          0.1378090102336979,
          0.20498071047682687,
          0.26062489815836487,
          0.19866896646462542,
          0.15064557057690897,
          0.25114280027181346,
          0.1453264456086812,
          0.13387570402654014,
          0.18833485064608974,
          0.12800229872034904,
          0.2945510490437179,
          0.0651886095045491,
          0.15349679728788918,
          0.1877705161672686,
          0.06385206243116642,
          0.11174956415258834,
          0.1478180141067793,
          0.15590285977199148,
          0.11465077494664683,
          0.12046325878870909
         ],
         "xaxis": "x18",
         "y": [
          0.09937082675952327,
          0.09349754729562262,
          0.08537928994950458,
          0.08537947874638763,
          0.07555304134674155,
          0.09349698775914125,
          0.07398456754725026,
          0.0735411454485706,
          0.07821175835909654,
          0.07990923174589054,
          0.057854034295215365,
          0.05672700459303386,
          0.050039131186963744,
          0.06330557333773223,
          0.06766958994432284,
          0.06389674553083408,
          0.052401396449164334,
          0.09366006862483765,
          0.05851597962389249,
          0.08600847328552844,
          0.06711093143267129,
          0.08791295233242938,
          0.09206698211614449,
          0.0994080963787085,
          0.08949453778337746,
          0.08221136191243872,
          0.09691956847692654,
          0.08988517994586956,
          0.0710547738303259,
          0.08170980573983573,
          0.09680690346663146,
          0.08643159140122408,
          0.08820431595805273,
          0.0826595204037524,
          0.083088237668143
         ],
         "yaxis": "y18"
        },
        {
         "colorbar": {
          "title": {
           "text": "Objective Value"
          }
         },
         "colorscale": [
          [
           0,
           "rgb(247,251,255)"
          ],
          [
           0.125,
           "rgb(222,235,247)"
          ],
          [
           0.25,
           "rgb(198,219,239)"
          ],
          [
           0.375,
           "rgb(158,202,225)"
          ],
          [
           0.5,
           "rgb(107,174,214)"
          ],
          [
           0.625,
           "rgb(66,146,198)"
          ],
          [
           0.75,
           "rgb(33,113,181)"
          ],
          [
           0.875,
           "rgb(8,81,156)"
          ],
          [
           1,
           "rgb(8,48,107)"
          ]
         ],
         "connectgaps": true,
         "contours": {
          "coloring": "heatmap"
         },
         "hoverinfo": "none",
         "line": {
          "smoothing": 1.3
         },
         "reversescale": false,
         "showscale": false,
         "type": "contour",
         "x": [
          0.043466152670791985,
          0.05554937256711111,
          0.06385206243116642,
          0.0651886095045491,
          0.09183897870762982,
          0.09250840338104498,
          0.0986729597160335,
          0.11174956415258834,
          0.11465077494664683,
          0.1156713724500694,
          0.12046325878870909,
          0.12800229872034904,
          0.13387570402654014,
          0.1378090102336979,
          0.1453264456086812,
          0.1478180141067793,
          0.15064557057690897,
          0.15349679728788918,
          0.15590285977199148,
          0.16134343558461572,
          0.16238731348221075,
          0.1731643507450079,
          0.1731740948385147,
          0.1877705161672686,
          0.18833485064608974,
          0.19866896646462542,
          0.20498071047682687,
          0.22251626560325732,
          0.2291435960126414,
          0.23417605472778696,
          0.25114280027181346,
          0.26062489815836487,
          0.28061157532406417,
          0.2818320666291123,
          0.2945510490437179,
          0.2972137704934936,
          0.30929699038981273
         ],
         "xaxis": "x23",
         "y": [
          8.315603778470874e-7,
          0.0000011635393603063947,
          0.0000023094071481095476,
          0.000007694072728756075,
          0.000009041973441856718,
          0.0000120628423169246,
          0.000017689390716193458,
          0.000022473858786331558,
          0.000023248275975612407,
          0.000030718743013361876,
          0.000046059257159255764,
          0.0000495490175608353,
          0.00005004345599490854,
          0.000054084277920453076,
          0.0000567961592098049,
          0.00007604936940612161,
          0.00008025000116876372,
          0.00009393652218769055,
          0.00010495226455352575,
          0.00010564926287579155,
          0.00011770387178985493,
          0.00011931169586112166,
          0.00015302368750292746,
          0.0001547499414756148,
          0.00016762821491891325,
          0.00016987384540062114,
          0.00022810096153700054,
          0.000235837375972441,
          0.0002662989058111937,
          0.00028675383501458807,
          0.000287529810936762,
          0.0004076065453883772,
          0.0004480420675843755,
          0.0005562781120729123,
          0.0007674171673042348,
          0.0009627796574239111,
          0.001347144544831864
         ],
         "yaxis": "y23",
         "z": [
          [
           null,
           null,
           null,
           null,
           null,
           null,
           null,
           null,
           null,
           null,
           null,
           null,
           null,
           null,
           null,
           null,
           null,
           null,
           null,
           null,
           null,
           null,
           null,
           null,
           null,
           null,
           null,
           null,
           null,
           null,
           null,
           null,
           null,
           null,
           null,
           null,
           null
          ],
          [
           null,
           null,
           null,
           null,
           null,
           null,
           null,
           null,
           null,
           0.03487253487253487,
           null,
           null,
           null,
           null,
           null,
           null,
           null,
           null,
           null,
           null,
           null,
           null,
           null,
           null,
           null,
           null,
           null,
           null,
           null,
           null,
           null,
           null,
           null,
           null,
           null,
           null,
           null
          ],
          [
           null,
           null,
           null,
           null,
           null,
           null,
           null,
           null,
           null,
           null,
           null,
           null,
           null,
           null,
           null,
           null,
           null,
           null,
           null,
           null,
           null,
           0.4104813315339631,
           null,
           null,
           null,
           null,
           null,
           null,
           null,
           null,
           null,
           null,
           null,
           null,
           null,
           null,
           null
          ],
          [
           null,
           null,
           null,
           null,
           null,
           null,
           null,
           null,
           null,
           null,
           null,
           null,
           null,
           null,
           null,
           null,
           null,
           null,
           null,
           null,
           null,
           null,
           null,
           null,
           null,
           null,
           null,
           null,
           null,
           null,
           0.20555555555555557,
           null,
           null,
           null,
           null,
           null,
           null
          ],
          [
           null,
           null,
           null,
           null,
           null,
           null,
           null,
           null,
           null,
           null,
           null,
           null,
           null,
           0.20952380952380953,
           null,
           null,
           null,
           null,
           null,
           null,
           null,
           null,
           null,
           null,
           null,
           null,
           null,
           null,
           null,
           null,
           null,
           null,
           null,
           null,
           null,
           null,
           null
          ],
          [
           null,
           null,
           null,
           null,
           null,
           null,
           null,
           null,
           null,
           null,
           null,
           null,
           null,
           null,
           null,
           null,
           null,
           null,
           null,
           null,
           null,
           null,
           null,
           null,
           null,
           null,
           null,
           null,
           null,
           null,
           null,
           null,
           null,
           null,
           0.1993127147766323,
           null,
           null
          ],
          [
           null,
           null,
           null,
           null,
           null,
           null,
           null,
           0.19865319865319866,
           null,
           null,
           null,
           null,
           null,
           null,
           null,
           null,
           null,
           null,
           null,
           null,
           null,
           null,
           null,
           null,
           null,
           null,
           null,
           null,
           null,
           null,
           null,
           null,
           null,
           null,
           null,
           null,
           null
          ],
          [
           null,
           0.2582566916083945,
           null,
           null,
           null,
           null,
           null,
           null,
           null,
           null,
           null,
           null,
           null,
           null,
           null,
           null,
           null,
           null,
           null,
           null,
           null,
           null,
           null,
           null,
           null,
           null,
           null,
           null,
           null,
           null,
           null,
           null,
           null,
           null,
           null,
           null,
           null
          ],
          [
           null,
           null,
           null,
           null,
           0.2048780487804878,
           null,
           null,
           null,
           null,
           null,
           null,
           null,
           null,
           null,
           null,
           null,
           null,
           null,
           null,
           null,
           null,
           null,
           null,
           null,
           null,
           null,
           null,
           null,
           null,
           null,
           null,
           null,
           null,
           null,
           null,
           null,
           null
          ],
          [
           null,
           null,
           null,
           null,
           null,
           null,
           null,
           null,
           null,
           null,
           null,
           null,
           null,
           null,
           null,
           null,
           null,
           null,
           null,
           null,
           null,
           null,
           null,
           null,
           null,
           null,
           null,
           null,
           0.6437047346296103,
           null,
           null,
           null,
           null,
           null,
           null,
           null,
           null
          ],
          [
           null,
           null,
           null,
           null,
           null,
           null,
           null,
           null,
           null,
           null,
           0.743672415096469,
           null,
           null,
           null,
           null,
           null,
           null,
           null,
           null,
           null,
           null,
           null,
           null,
           null,
           null,
           null,
           null,
           null,
           null,
           null,
           null,
           null,
           null,
           null,
           null,
           null,
           null
          ],
          [
           null,
           null,
           null,
           null,
           null,
           null,
           null,
           null,
           null,
           null,
           null,
           null,
           null,
           null,
           null,
           null,
           null,
           null,
           null,
           null,
           null,
           null,
           null,
           0.7251014997100008,
           null,
           null,
           null,
           null,
           null,
           null,
           null,
           null,
           null,
           null,
           null,
           null,
           null
          ],
          [
           null,
           null,
           null,
           null,
           null,
           null,
           null,
           null,
           null,
           null,
           null,
           null,
           null,
           null,
           null,
           null,
           null,
           null,
           null,
           null,
           null,
           null,
           0.4927765330677952,
           null,
           null,
           null,
           null,
           null,
           null,
           null,
           null,
           null,
           null,
           null,
           null,
           null,
           null
          ],
          [
           null,
           null,
           null,
           null,
           null,
           null,
           null,
           null,
           null,
           null,
           null,
           null,
           null,
           null,
           null,
           null,
           null,
           null,
           null,
           null,
           null,
           null,
           null,
           null,
           0.7005870672537338,
           null,
           null,
           null,
           null,
           null,
           null,
           null,
           null,
           null,
           null,
           null,
           null
          ],
          [
           null,
           null,
           null,
           null,
           null,
           null,
           null,
           null,
           0.736661712964727,
           null,
           null,
           null,
           null,
           null,
           null,
           null,
           null,
           null,
           null,
           null,
           null,
           null,
           null,
           null,
           null,
           null,
           null,
           null,
           null,
           null,
           null,
           null,
           null,
           null,
           null,
           null,
           null
          ],
          [
           null,
           null,
           null,
           null,
           null,
           null,
           null,
           null,
           null,
           null,
           null,
           null,
           null,
           null,
           null,
           null,
           null,
           null,
           null,
           null,
           null,
           null,
           null,
           null,
           null,
           0.7303230111071862,
           null,
           null,
           null,
           null,
           null,
           null,
           null,
           null,
           null,
           null,
           null
          ],
          [
           null,
           null,
           null,
           null,
           null,
           null,
           null,
           null,
           null,
           null,
           null,
           null,
           null,
           null,
           null,
           null,
           null,
           null,
           null,
           null,
           null,
           null,
           null,
           null,
           null,
           null,
           null,
           null,
           null,
           null,
           null,
           null,
           null,
           0.7187234404215536,
           null,
           null,
           null
          ],
          [
           null,
           null,
           null,
           null,
           null,
           null,
           null,
           null,
           null,
           null,
           null,
           null,
           null,
           null,
           null,
           null,
           null,
           null,
           0.7354094453087331,
           null,
           null,
           null,
           null,
           null,
           null,
           null,
           null,
           null,
           null,
           null,
           null,
           null,
           null,
           null,
           null,
           null,
           null
          ],
          [
           null,
           null,
           null,
           0.6182821118991332,
           null,
           null,
           null,
           null,
           null,
           null,
           null,
           null,
           null,
           null,
           null,
           null,
           null,
           null,
           null,
           null,
           null,
           null,
           null,
           null,
           null,
           null,
           null,
           null,
           null,
           null,
           null,
           null,
           null,
           null,
           null,
           null,
           null
          ],
          [
           null,
           null,
           null,
           null,
           null,
           null,
           null,
           null,
           null,
           null,
           null,
           null,
           null,
           null,
           0.736955681025112,
           null,
           null,
           null,
           null,
           null,
           null,
           null,
           null,
           null,
           null,
           null,
           null,
           null,
           null,
           null,
           null,
           null,
           null,
           null,
           null,
           null,
           null
          ],
          [
           null,
           null,
           null,
           null,
           null,
           null,
           null,
           null,
           null,
           null,
           null,
           null,
           null,
           null,
           null,
           0.7330559549961694,
           null,
           null,
           null,
           null,
           null,
           null,
           null,
           null,
           null,
           null,
           null,
           null,
           null,
           null,
           null,
           null,
           null,
           null,
           null,
           null,
           null
          ],
          [
           null,
           null,
           null,
           null,
           null,
           null,
           null,
           null,
           null,
           null,
           null,
           null,
           null,
           null,
           null,
           null,
           0.7355501340321076,
           null,
           null,
           null,
           null,
           null,
           null,
           null,
           null,
           null,
           null,
           null,
           null,
           null,
           null,
           null,
           null,
           null,
           null,
           null,
           null
          ],
          [
           null,
           null,
           null,
           null,
           null,
           null,
           null,
           null,
           null,
           null,
           null,
           null,
           null,
           null,
           null,
           null,
           null,
           null,
           null,
           null,
           null,
           null,
           null,
           null,
           null,
           null,
           null,
           null,
           null,
           null,
           null,
           null,
           null,
           null,
           null,
           0.7410560850537378,
           null
          ],
          [
           null,
           null,
           null,
           null,
           null,
           null,
           null,
           null,
           null,
           null,
           null,
           null,
           null,
           null,
           null,
           null,
           null,
           null,
           null,
           null,
           null,
           null,
           null,
           null,
           null,
           null,
           null,
           null,
           null,
           null,
           null,
           null,
           0.7004367588713172,
           null,
           null,
           null,
           null
          ],
          [
           null,
           null,
           null,
           null,
           null,
           null,
           null,
           null,
           null,
           null,
           null,
           null,
           null,
           null,
           null,
           null,
           null,
           null,
           null,
           null,
           null,
           null,
           null,
           null,
           null,
           null,
           null,
           null,
           null,
           0.7338085274891545,
           null,
           null,
           null,
           null,
           null,
           null,
           null
          ],
          [
           null,
           null,
           null,
           null,
           null,
           null,
           null,
           null,
           null,
           null,
           null,
           null,
           null,
           null,
           null,
           null,
           null,
           null,
           null,
           0.7187736469303957,
           null,
           null,
           null,
           null,
           null,
           null,
           null,
           null,
           null,
           null,
           null,
           null,
           null,
           null,
           null,
           null,
           null
          ],
          [
           null,
           null,
           0.7247416953493858,
           null,
           null,
           null,
           null,
           null,
           null,
           null,
           null,
           null,
           null,
           null,
           null,
           null,
           null,
           null,
           null,
           null,
           null,
           null,
           null,
           null,
           null,
           null,
           null,
           null,
           null,
           null,
           null,
           null,
           null,
           null,
           null,
           null,
           null
          ],
          [
           null,
           null,
           null,
           null,
           null,
           null,
           null,
           null,
           null,
           null,
           null,
           null,
           null,
           null,
           null,
           null,
           null,
           null,
           null,
           null,
           0.7397243107769423,
           null,
           null,
           null,
           null,
           null,
           null,
           null,
           null,
           null,
           null,
           null,
           null,
           null,
           null,
           null,
           null
          ],
          [
           null,
           null,
           null,
           null,
           null,
           null,
           null,
           null,
           null,
           null,
           null,
           0.7288287315009699,
           null,
           null,
           null,
           null,
           null,
           null,
           null,
           null,
           null,
           null,
           null,
           null,
           null,
           null,
           null,
           null,
           null,
           null,
           null,
           null,
           null,
           null,
           null,
           null,
           null
          ],
          [
           null,
           null,
           null,
           null,
           null,
           null,
           null,
           null,
           null,
           null,
           null,
           null,
           null,
           null,
           null,
           null,
           null,
           null,
           null,
           null,
           null,
           null,
           null,
           null,
           null,
           null,
           0.7083551689200992,
           null,
           null,
           null,
           null,
           null,
           null,
           null,
           null,
           null,
           null
          ],
          [
           null,
           null,
           null,
           null,
           null,
           null,
           null,
           null,
           null,
           null,
           null,
           null,
           0.7069358178053831,
           null,
           null,
           null,
           null,
           null,
           null,
           null,
           null,
           null,
           null,
           null,
           null,
           null,
           null,
           null,
           null,
           null,
           null,
           null,
           null,
           null,
           null,
           null,
           null
          ],
          [
           null,
           null,
           null,
           null,
           null,
           null,
           null,
           null,
           null,
           null,
           null,
           null,
           null,
           null,
           null,
           null,
           null,
           null,
           null,
           null,
           null,
           null,
           null,
           null,
           null,
           null,
           null,
           0.7251143410414643,
           null,
           null,
           null,
           null,
           null,
           null,
           null,
           null,
           null
          ],
          [
           null,
           null,
           null,
           null,
           null,
           null,
           0.7075079433569998,
           null,
           null,
           null,
           null,
           null,
           null,
           null,
           null,
           null,
           null,
           null,
           null,
           null,
           null,
           null,
           null,
           null,
           null,
           null,
           null,
           null,
           null,
           null,
           null,
           null,
           null,
           null,
           null,
           null,
           null
          ],
          [
           null,
           null,
           null,
           null,
           null,
           null,
           null,
           null,
           null,
           null,
           null,
           null,
           null,
           null,
           null,
           null,
           null,
           0.7221044711714647,
           null,
           null,
           null,
           null,
           null,
           null,
           null,
           null,
           null,
           null,
           null,
           null,
           null,
           null,
           null,
           null,
           null,
           null,
           null
          ],
          [
           null,
           null,
           null,
           null,
           null,
           0.7178831099783266,
           null,
           null,
           null,
           null,
           null,
           null,
           null,
           null,
           null,
           null,
           null,
           null,
           null,
           null,
           null,
           null,
           null,
           null,
           null,
           null,
           null,
           null,
           null,
           null,
           null,
           null,
           null,
           null,
           null,
           null,
           null
          ],
          [
           null,
           null,
           null,
           null,
           null,
           null,
           null,
           null,
           null,
           null,
           null,
           null,
           null,
           null,
           null,
           null,
           null,
           null,
           null,
           null,
           null,
           null,
           null,
           null,
           null,
           null,
           null,
           null,
           null,
           null,
           null,
           0.6891311575135104,
           null,
           null,
           null,
           null,
           null
          ],
          [
           null,
           null,
           null,
           null,
           null,
           null,
           null,
           null,
           null,
           null,
           null,
           null,
           null,
           null,
           null,
           null,
           null,
           null,
           null,
           null,
           null,
           null,
           null,
           null,
           null,
           null,
           null,
           null,
           null,
           null,
           null,
           null,
           null,
           null,
           null,
           null,
           null
          ]
         ]
        },
        {
         "marker": {
          "color": "black",
          "line": {
           "color": "Gray",
           "width": 2
          }
         },
         "mode": "markers",
         "name": "Feasible Trial",
         "showlegend": false,
         "type": "scatter",
         "x": [
          0.05554937256711111,
          0.16238731348221075,
          0.1156713724500694,
          0.1731740948385147,
          0.09183897870762982,
          0.09250840338104498,
          0.0986729597160335,
          0.1731643507450079,
          0.16134343558461572,
          0.2291435960126414,
          0.2972137704934936,
          0.28061157532406417,
          0.23417605472778696,
          0.2818320666291123,
          0.22251626560325732,
          0.1378090102336979,
          0.20498071047682687,
          0.26062489815836487,
          0.19866896646462542,
          0.15064557057690897,
          0.25114280027181346,
          0.1453264456086812,
          0.13387570402654014,
          0.18833485064608974,
          0.12800229872034904,
          0.2945510490437179,
          0.0651886095045491,
          0.15349679728788918,
          0.1877705161672686,
          0.06385206243116642,
          0.11174956415258834,
          0.1478180141067793,
          0.15590285977199148,
          0.11465077494664683,
          0.12046325878870909
         ],
         "xaxis": "x23",
         "y": [
          0.000022473858786331558,
          0.000235837375972441,
          0.0000011635393603063947,
          0.00005004345599490854,
          0.000023248275975612407,
          0.0007674171673042348,
          0.0004480420675843755,
          0.0000023094071481095476,
          0.00016987384540062114,
          0.000030718743013361876,
          0.00015302368750292746,
          0.0001547499414756148,
          0.00016762821491891325,
          0.00008025000116876372,
          0.0004076065453883772,
          0.000009041973441856718,
          0.00028675383501458807,
          0.0009627796574239111,
          0.00007604936940612161,
          0.00011931169586112166,
          0.000007694072728756075,
          0.00010564926287579155,
          0.000287529810936762,
          0.000054084277920453076,
          0.0002662989058111937,
          0.0000120628423169246,
          0.00010495226455352575,
          0.0005562781120729123,
          0.0000495490175608353,
          0.00022810096153700054,
          0.000017689390716193458,
          0.00011770387178985493,
          0.00009393652218769055,
          0.0000567961592098049,
          0.000046059257159255764
         ],
         "yaxis": "y23"
        },
        {
         "colorbar": {
          "title": {
           "text": "Objective Value"
          }
         },
         "colorscale": [
          [
           0,
           "rgb(247,251,255)"
          ],
          [
           0.125,
           "rgb(222,235,247)"
          ],
          [
           0.25,
           "rgb(198,219,239)"
          ],
          [
           0.375,
           "rgb(158,202,225)"
          ],
          [
           0.5,
           "rgb(107,174,214)"
          ],
          [
           0.625,
           "rgb(66,146,198)"
          ],
          [
           0.75,
           "rgb(33,113,181)"
          ],
          [
           0.875,
           "rgb(8,81,156)"
          ],
          [
           1,
           "rgb(8,48,107)"
          ]
         ],
         "connectgaps": true,
         "contours": {
          "coloring": "heatmap"
         },
         "hoverinfo": "none",
         "line": {
          "smoothing": 1.3
         },
         "reversescale": false,
         "showscale": false,
         "type": "contour",
         "x": [
          0.047570682927376505,
          0.050039131186963744,
          0.052401396449164334,
          0.05672700459303386,
          0.057854034295215365,
          0.05851597962389249,
          0.06330557333773223,
          0.06389674553083408,
          0.06711093143267129,
          0.06766958994432284,
          0.0710547738303259,
          0.0735411454485706,
          0.07398456754725026,
          0.07555304134674155,
          0.07821175835909654,
          0.07990923174589054,
          0.08170980573983573,
          0.08221136191243872,
          0.0826595204037524,
          0.083088237668143,
          0.08537928994950458,
          0.08537947874638763,
          0.08600847328552844,
          0.08643159140122408,
          0.08791295233242938,
          0.08820431595805273,
          0.08949453778337746,
          0.08988517994586956,
          0.09206698211614449,
          0.09349698775914125,
          0.09349754729562262,
          0.09366006862483765,
          0.09680690346663146,
          0.09691956847692654,
          0.09937082675952327,
          0.0994080963787085,
          0.10187654463829574
         ],
         "xaxis": "x4",
         "y": [
          95,
          100,
          150,
          200,
          205
         ],
         "yaxis": "y4",
         "z": [
          [
           null,
           null,
           null,
           null,
           null,
           null,
           null,
           null,
           null,
           null,
           null,
           null,
           null,
           null,
           null,
           null,
           null,
           null,
           null,
           null,
           null,
           null,
           null,
           null,
           null,
           null,
           null,
           null,
           null,
           null,
           null,
           null,
           null,
           null,
           null,
           null,
           null
          ],
          [
           null,
           0.7338085274891545,
           0.7083551689200992,
           0.7004367588713172,
           0.7410560850537378,
           0.7303230111071862,
           0.7187234404215536,
           null,
           null,
           0.7251143410414643,
           null,
           null,
           null,
           null,
           null,
           null,
           0.7247416953493858,
           null,
           null,
           null,
           null,
           0.4927765330677952,
           null,
           null,
           null,
           null,
           null,
           null,
           null,
           null,
           null,
           null,
           null,
           0.6182821118991332,
           null,
           null,
           null
          ],
          [
           null,
           null,
           null,
           null,
           null,
           null,
           null,
           null,
           null,
           null,
           0.7251014997100008,
           0.4104813315339631,
           null,
           null,
           0.7187736469303957,
           null,
           null,
           0.1993127147766323,
           0.736661712964727,
           0.743672415096469,
           null,
           null,
           0.7355501340321076,
           0.7330559549961694,
           0.736955681025112,
           0.7354094453087331,
           0.7288287315009699,
           null,
           0.7069358178053831,
           0.7178831099783266,
           null,
           null,
           null,
           null,
           null,
           0.7005870672537338,
           null
          ],
          [
           null,
           null,
           null,
           null,
           null,
           null,
           null,
           0.20952380952380953,
           0.20555555555555557,
           null,
           null,
           null,
           0.7075079433569998,
           0.2048780487804878,
           null,
           0.6437047346296103,
           null,
           null,
           null,
           null,
           0.03487253487253487,
           null,
           null,
           null,
           null,
           null,
           null,
           0.7221044711714647,
           null,
           null,
           0.7397243107769423,
           0.6891311575135104,
           0.19865319865319866,
           null,
           0.2582566916083945,
           null,
           null
          ],
          [
           null,
           null,
           null,
           null,
           null,
           null,
           null,
           null,
           null,
           null,
           null,
           null,
           null,
           null,
           null,
           null,
           null,
           null,
           null,
           null,
           null,
           null,
           null,
           null,
           null,
           null,
           null,
           null,
           null,
           null,
           null,
           null,
           null,
           null,
           null,
           null,
           null
          ]
         ]
        },
        {
         "marker": {
          "color": "black",
          "line": {
           "color": "Gray",
           "width": 2
          }
         },
         "mode": "markers",
         "name": "Feasible Trial",
         "showlegend": false,
         "type": "scatter",
         "x": [
          0.09937082675952327,
          0.09349754729562262,
          0.08537928994950458,
          0.08537947874638763,
          0.07555304134674155,
          0.09349698775914125,
          0.07398456754725026,
          0.0735411454485706,
          0.07821175835909654,
          0.07990923174589054,
          0.057854034295215365,
          0.05672700459303386,
          0.050039131186963744,
          0.06330557333773223,
          0.06766958994432284,
          0.06389674553083408,
          0.052401396449164334,
          0.09366006862483765,
          0.05851597962389249,
          0.08600847328552844,
          0.06711093143267129,
          0.08791295233242938,
          0.09206698211614449,
          0.0994080963787085,
          0.08949453778337746,
          0.08221136191243872,
          0.09691956847692654,
          0.08988517994586956,
          0.0710547738303259,
          0.08170980573983573,
          0.09680690346663146,
          0.08643159140122408,
          0.08820431595805273,
          0.0826595204037524,
          0.083088237668143
         ],
         "xaxis": "x4",
         "y": [
          200,
          200,
          200,
          100,
          200,
          150,
          200,
          150,
          150,
          200,
          100,
          100,
          100,
          100,
          100,
          200,
          100,
          200,
          100,
          150,
          200,
          150,
          150,
          150,
          150,
          150,
          100,
          200,
          150,
          100,
          200,
          150,
          150,
          150,
          150
         ],
         "yaxis": "y4"
        },
        {
         "colorbar": {
          "title": {
           "text": "Objective Value"
          }
         },
         "colorscale": [
          [
           0,
           "rgb(247,251,255)"
          ],
          [
           0.125,
           "rgb(222,235,247)"
          ],
          [
           0.25,
           "rgb(198,219,239)"
          ],
          [
           0.375,
           "rgb(158,202,225)"
          ],
          [
           0.5,
           "rgb(107,174,214)"
          ],
          [
           0.625,
           "rgb(66,146,198)"
          ],
          [
           0.75,
           "rgb(33,113,181)"
          ],
          [
           0.875,
           "rgb(8,81,156)"
          ],
          [
           1,
           "rgb(8,48,107)"
          ]
         ],
         "connectgaps": true,
         "contours": {
          "coloring": "heatmap"
         },
         "hoverinfo": "none",
         "line": {
          "smoothing": 1.3
         },
         "reversescale": false,
         "showscale": false,
         "type": "contour",
         "x": [
          0.047570682927376505,
          0.050039131186963744,
          0.052401396449164334,
          0.05672700459303386,
          0.057854034295215365,
          0.05851597962389249,
          0.06330557333773223,
          0.06389674553083408,
          0.06711093143267129,
          0.06766958994432284,
          0.0710547738303259,
          0.0735411454485706,
          0.07398456754725026,
          0.07555304134674155,
          0.07821175835909654,
          0.07990923174589054,
          0.08170980573983573,
          0.08221136191243872,
          0.0826595204037524,
          0.083088237668143,
          0.08537928994950458,
          0.08537947874638763,
          0.08600847328552844,
          0.08643159140122408,
          0.08791295233242938,
          0.08820431595805273,
          0.08949453778337746,
          0.08988517994586956,
          0.09206698211614449,
          0.09349698775914125,
          0.09349754729562262,
          0.09366006862483765,
          0.09680690346663146,
          0.09691956847692654,
          0.09937082675952327,
          0.0994080963787085,
          0.10187654463829574
         ],
         "xaxis": "x9",
         "y": [
          54.4,
          64,
          128,
          256,
          265.6
         ],
         "yaxis": "y9",
         "z": [
          [
           null,
           null,
           null,
           null,
           null,
           null,
           null,
           null,
           null,
           null,
           null,
           null,
           null,
           null,
           null,
           null,
           null,
           null,
           null,
           null,
           null,
           null,
           null,
           null,
           null,
           null,
           null,
           null,
           null,
           null,
           null,
           null,
           null,
           null,
           null,
           null,
           null
          ],
          [
           null,
           0.7338085274891545,
           0.7083551689200992,
           0.7004367588713172,
           0.7410560850537378,
           null,
           0.7187234404215536,
           null,
           0.20555555555555557,
           0.7251143410414643,
           null,
           0.4104813315339631,
           null,
           0.2048780487804878,
           null,
           null,
           null,
           null,
           null,
           null,
           null,
           0.4927765330677952,
           null,
           null,
           null,
           null,
           null,
           0.7221044711714647,
           null,
           0.7178831099783266,
           0.7397243107769423,
           0.6891311575135104,
           null,
           0.6182821118991332,
           null,
           null,
           null
          ],
          [
           null,
           null,
           null,
           null,
           null,
           0.7303230111071862,
           null,
           0.20952380952380953,
           null,
           null,
           0.7251014997100008,
           null,
           0.7075079433569998,
           null,
           null,
           null,
           null,
           null,
           null,
           null,
           null,
           null,
           null,
           null,
           null,
           null,
           null,
           null,
           null,
           null,
           null,
           null,
           0.19865319865319866,
           null,
           0.2582566916083945,
           null,
           null
          ],
          [
           null,
           null,
           null,
           null,
           null,
           null,
           null,
           null,
           null,
           null,
           null,
           null,
           null,
           null,
           0.7187736469303957,
           0.6437047346296103,
           0.7247416953493858,
           0.1993127147766323,
           0.736661712964727,
           0.743672415096469,
           0.03487253487253487,
           null,
           0.7355501340321076,
           0.7330559549961694,
           0.736955681025112,
           0.7354094453087331,
           0.7288287315009699,
           null,
           0.7069358178053831,
           null,
           null,
           null,
           null,
           null,
           null,
           0.7005870672537338,
           null
          ],
          [
           null,
           null,
           null,
           null,
           null,
           null,
           null,
           null,
           null,
           null,
           null,
           null,
           null,
           null,
           null,
           null,
           null,
           null,
           null,
           null,
           null,
           null,
           null,
           null,
           null,
           null,
           null,
           null,
           null,
           null,
           null,
           null,
           null,
           null,
           null,
           null,
           null
          ]
         ]
        },
        {
         "marker": {
          "color": "black",
          "line": {
           "color": "Gray",
           "width": 2
          }
         },
         "mode": "markers",
         "name": "Feasible Trial",
         "showlegend": false,
         "type": "scatter",
         "x": [
          0.09937082675952327,
          0.09349754729562262,
          0.08537928994950458,
          0.08537947874638763,
          0.07555304134674155,
          0.09349698775914125,
          0.07398456754725026,
          0.0735411454485706,
          0.07821175835909654,
          0.07990923174589054,
          0.057854034295215365,
          0.05672700459303386,
          0.050039131186963744,
          0.06330557333773223,
          0.06766958994432284,
          0.06389674553083408,
          0.052401396449164334,
          0.09366006862483765,
          0.05851597962389249,
          0.08600847328552844,
          0.06711093143267129,
          0.08791295233242938,
          0.09206698211614449,
          0.0994080963787085,
          0.08949453778337746,
          0.08221136191243872,
          0.09691956847692654,
          0.08988517994586956,
          0.0710547738303259,
          0.08170980573983573,
          0.09680690346663146,
          0.08643159140122408,
          0.08820431595805273,
          0.0826595204037524,
          0.083088237668143
         ],
         "xaxis": "x9",
         "y": [
          128,
          64,
          256,
          64,
          64,
          64,
          128,
          64,
          256,
          256,
          64,
          64,
          64,
          64,
          64,
          128,
          64,
          64,
          128,
          256,
          64,
          256,
          256,
          256,
          256,
          256,
          64,
          64,
          128,
          256,
          128,
          256,
          256,
          256,
          256
         ],
         "yaxis": "y9"
        },
        {
         "colorbar": {
          "title": {
           "text": "Objective Value"
          }
         },
         "colorscale": [
          [
           0,
           "rgb(247,251,255)"
          ],
          [
           0.125,
           "rgb(222,235,247)"
          ],
          [
           0.25,
           "rgb(198,219,239)"
          ],
          [
           0.375,
           "rgb(158,202,225)"
          ],
          [
           0.5,
           "rgb(107,174,214)"
          ],
          [
           0.625,
           "rgb(66,146,198)"
          ],
          [
           0.75,
           "rgb(33,113,181)"
          ],
          [
           0.875,
           "rgb(8,81,156)"
          ],
          [
           1,
           "rgb(8,48,107)"
          ]
         ],
         "connectgaps": true,
         "contours": {
          "coloring": "heatmap"
         },
         "hoverinfo": "none",
         "line": {
          "smoothing": 1.3
         },
         "reversescale": false,
         "showscale": false,
         "type": "contour",
         "x": [
          0.047570682927376505,
          0.050039131186963744,
          0.052401396449164334,
          0.05672700459303386,
          0.057854034295215365,
          0.05851597962389249,
          0.06330557333773223,
          0.06389674553083408,
          0.06711093143267129,
          0.06766958994432284,
          0.0710547738303259,
          0.0735411454485706,
          0.07398456754725026,
          0.07555304134674155,
          0.07821175835909654,
          0.07990923174589054,
          0.08170980573983573,
          0.08221136191243872,
          0.0826595204037524,
          0.083088237668143,
          0.08537928994950458,
          0.08537947874638763,
          0.08600847328552844,
          0.08643159140122408,
          0.08791295233242938,
          0.08820431595805273,
          0.08949453778337746,
          0.08988517994586956,
          0.09206698211614449,
          0.09349698775914125,
          0.09349754729562262,
          0.09366006862483765,
          0.09680690346663146,
          0.09691956847692654,
          0.09937082675952327,
          0.0994080963787085,
          0.10187654463829574
         ],
         "xaxis": "x14",
         "y": [
          0.043466152670791985,
          0.05554937256711111,
          0.06385206243116642,
          0.0651886095045491,
          0.09183897870762982,
          0.09250840338104498,
          0.0986729597160335,
          0.11174956415258834,
          0.11465077494664683,
          0.1156713724500694,
          0.12046325878870909,
          0.12800229872034904,
          0.13387570402654014,
          0.1378090102336979,
          0.1453264456086812,
          0.1478180141067793,
          0.15064557057690897,
          0.15349679728788918,
          0.15590285977199148,
          0.16134343558461572,
          0.16238731348221075,
          0.1731643507450079,
          0.1731740948385147,
          0.1877705161672686,
          0.18833485064608974,
          0.19866896646462542,
          0.20498071047682687,
          0.22251626560325732,
          0.2291435960126414,
          0.23417605472778696,
          0.25114280027181346,
          0.26062489815836487,
          0.28061157532406417,
          0.2818320666291123,
          0.2945510490437179,
          0.2972137704934936,
          0.30929699038981273
         ],
         "yaxis": "y14",
         "z": [
          [
           null,
           null,
           null,
           null,
           null,
           null,
           null,
           null,
           null,
           null,
           null,
           null,
           null,
           null,
           null,
           null,
           null,
           null,
           null,
           null,
           null,
           null,
           null,
           null,
           null,
           null,
           null,
           null,
           null,
           null,
           null,
           null,
           null,
           null,
           null,
           null,
           null
          ],
          [
           null,
           null,
           null,
           null,
           null,
           null,
           null,
           null,
           null,
           null,
           null,
           null,
           null,
           null,
           null,
           null,
           null,
           null,
           null,
           null,
           null,
           null,
           null,
           null,
           null,
           null,
           null,
           null,
           null,
           null,
           null,
           null,
           null,
           null,
           0.2582566916083945,
           null,
           null
          ],
          [
           null,
           null,
           null,
           null,
           null,
           null,
           null,
           null,
           null,
           null,
           null,
           null,
           null,
           null,
           null,
           null,
           0.7247416953493858,
           null,
           null,
           null,
           null,
           null,
           null,
           null,
           null,
           null,
           null,
           null,
           null,
           null,
           null,
           null,
           null,
           null,
           null,
           null,
           null
          ],
          [
           null,
           null,
           null,
           null,
           null,
           null,
           null,
           null,
           null,
           null,
           null,
           null,
           null,
           null,
           null,
           null,
           null,
           null,
           null,
           null,
           null,
           null,
           null,
           null,
           null,
           null,
           null,
           null,
           null,
           null,
           null,
           null,
           null,
           0.6182821118991332,
           null,
           null,
           null
          ],
          [
           null,
           null,
           null,
           null,
           null,
           null,
           null,
           null,
           null,
           null,
           null,
           null,
           null,
           0.2048780487804878,
           null,
           null,
           null,
           null,
           null,
           null,
           null,
           null,
           null,
           null,
           null,
           null,
           null,
           null,
           null,
           null,
           null,
           null,
           null,
           null,
           null,
           null,
           null
          ],
          [
           null,
           null,
           null,
           null,
           null,
           null,
           null,
           null,
           null,
           null,
           null,
           null,
           null,
           null,
           null,
           null,
           null,
           null,
           null,
           null,
           null,
           null,
           null,
           null,
           null,
           null,
           null,
           null,
           null,
           0.7178831099783266,
           null,
           null,
           null,
           null,
           null,
           null,
           null
          ],
          [
           null,
           null,
           null,
           null,
           null,
           null,
           null,
           null,
           null,
           null,
           null,
           null,
           0.7075079433569998,
           null,
           null,
           null,
           null,
           null,
           null,
           null,
           null,
           null,
           null,
           null,
           null,
           null,
           null,
           null,
           null,
           null,
           null,
           null,
           null,
           null,
           null,
           null,
           null
          ],
          [
           null,
           null,
           null,
           null,
           null,
           null,
           null,
           null,
           null,
           null,
           null,
           null,
           null,
           null,
           null,
           null,
           null,
           null,
           null,
           null,
           null,
           null,
           null,
           null,
           null,
           null,
           null,
           null,
           null,
           null,
           null,
           null,
           0.19865319865319866,
           null,
           null,
           null,
           null
          ],
          [
           null,
           null,
           null,
           null,
           null,
           null,
           null,
           null,
           null,
           null,
           null,
           null,
           null,
           null,
           null,
           null,
           null,
           null,
           0.736661712964727,
           null,
           null,
           null,
           null,
           null,
           null,
           null,
           null,
           null,
           null,
           null,
           null,
           null,
           null,
           null,
           null,
           null,
           null
          ],
          [
           null,
           null,
           null,
           null,
           null,
           null,
           null,
           null,
           null,
           null,
           null,
           null,
           null,
           null,
           null,
           null,
           null,
           null,
           null,
           null,
           0.03487253487253487,
           null,
           null,
           null,
           null,
           null,
           null,
           null,
           null,
           null,
           null,
           null,
           null,
           null,
           null,
           null,
           null
          ],
          [
           null,
           null,
           null,
           null,
           null,
           null,
           null,
           null,
           null,
           null,
           null,
           null,
           null,
           null,
           null,
           null,
           null,
           null,
           null,
           0.743672415096469,
           null,
           null,
           null,
           null,
           null,
           null,
           null,
           null,
           null,
           null,
           null,
           null,
           null,
           null,
           null,
           null,
           null
          ],
          [
           null,
           null,
           null,
           null,
           null,
           null,
           null,
           null,
           null,
           null,
           null,
           null,
           null,
           null,
           null,
           null,
           null,
           null,
           null,
           null,
           null,
           null,
           null,
           null,
           null,
           null,
           0.7288287315009699,
           null,
           null,
           null,
           null,
           null,
           null,
           null,
           null,
           null,
           null
          ],
          [
           null,
           null,
           null,
           null,
           null,
           null,
           null,
           null,
           null,
           null,
           null,
           null,
           null,
           null,
           null,
           null,
           null,
           null,
           null,
           null,
           null,
           null,
           null,
           null,
           null,
           null,
           null,
           null,
           0.7069358178053831,
           null,
           null,
           null,
           null,
           null,
           null,
           null,
           null
          ],
          [
           null,
           null,
           null,
           null,
           null,
           null,
           null,
           0.20952380952380953,
           null,
           null,
           null,
           null,
           null,
           null,
           null,
           null,
           null,
           null,
           null,
           null,
           null,
           null,
           null,
           null,
           null,
           null,
           null,
           null,
           null,
           null,
           null,
           null,
           null,
           null,
           null,
           null,
           null
          ],
          [
           null,
           null,
           null,
           null,
           null,
           null,
           null,
           null,
           null,
           null,
           null,
           null,
           null,
           null,
           null,
           null,
           null,
           null,
           null,
           null,
           null,
           null,
           null,
           null,
           0.736955681025112,
           null,
           null,
           null,
           null,
           null,
           null,
           null,
           null,
           null,
           null,
           null,
           null
          ],
          [
           null,
           null,
           null,
           null,
           null,
           null,
           null,
           null,
           null,
           null,
           null,
           null,
           null,
           null,
           null,
           null,
           null,
           null,
           null,
           null,
           null,
           null,
           null,
           0.7330559549961694,
           null,
           null,
           null,
           null,
           null,
           null,
           null,
           null,
           null,
           null,
           null,
           null,
           null
          ],
          [
           null,
           null,
           null,
           null,
           null,
           null,
           null,
           null,
           null,
           null,
           null,
           null,
           null,
           null,
           null,
           null,
           null,
           null,
           null,
           null,
           null,
           null,
           0.7355501340321076,
           null,
           null,
           null,
           null,
           null,
           null,
           null,
           null,
           null,
           null,
           null,
           null,
           null,
           null
          ],
          [
           null,
           null,
           null,
           null,
           null,
           null,
           null,
           null,
           null,
           null,
           null,
           null,
           null,
           null,
           null,
           null,
           null,
           null,
           null,
           null,
           null,
           null,
           null,
           null,
           null,
           null,
           null,
           0.7221044711714647,
           null,
           null,
           null,
           null,
           null,
           null,
           null,
           null,
           null
          ],
          [
           null,
           null,
           null,
           null,
           null,
           null,
           null,
           null,
           null,
           null,
           null,
           null,
           null,
           null,
           null,
           null,
           null,
           null,
           null,
           null,
           null,
           null,
           null,
           null,
           null,
           0.7354094453087331,
           null,
           null,
           null,
           null,
           null,
           null,
           null,
           null,
           null,
           null,
           null
          ],
          [
           null,
           null,
           null,
           null,
           null,
           null,
           null,
           null,
           null,
           null,
           null,
           null,
           null,
           null,
           0.7187736469303957,
           null,
           null,
           null,
           null,
           null,
           null,
           null,
           null,
           null,
           null,
           null,
           null,
           null,
           null,
           null,
           null,
           null,
           null,
           null,
           null,
           null,
           null
          ],
          [
           null,
           null,
           null,
           null,
           null,
           null,
           null,
           null,
           null,
           null,
           null,
           null,
           null,
           null,
           null,
           null,
           null,
           null,
           null,
           null,
           null,
           null,
           null,
           null,
           null,
           null,
           null,
           null,
           null,
           null,
           0.7397243107769423,
           null,
           null,
           null,
           null,
           null,
           null
          ],
          [
           null,
           null,
           null,
           null,
           null,
           null,
           null,
           null,
           null,
           null,
           null,
           0.4104813315339631,
           null,
           null,
           null,
           null,
           null,
           null,
           null,
           null,
           null,
           null,
           null,
           null,
           null,
           null,
           null,
           null,
           null,
           null,
           null,
           null,
           null,
           null,
           null,
           null,
           null
          ],
          [
           null,
           null,
           null,
           null,
           null,
           null,
           null,
           null,
           null,
           null,
           null,
           null,
           null,
           null,
           null,
           null,
           null,
           null,
           null,
           null,
           null,
           0.4927765330677952,
           null,
           null,
           null,
           null,
           null,
           null,
           null,
           null,
           null,
           null,
           null,
           null,
           null,
           null,
           null
          ],
          [
           null,
           null,
           null,
           null,
           null,
           null,
           null,
           null,
           null,
           null,
           0.7251014997100008,
           null,
           null,
           null,
           null,
           null,
           null,
           null,
           null,
           null,
           null,
           null,
           null,
           null,
           null,
           null,
           null,
           null,
           null,
           null,
           null,
           null,
           null,
           null,
           null,
           null,
           null
          ],
          [
           null,
           null,
           null,
           null,
           null,
           null,
           null,
           null,
           null,
           null,
           null,
           null,
           null,
           null,
           null,
           null,
           null,
           null,
           null,
           null,
           null,
           null,
           null,
           null,
           null,
           null,
           null,
           null,
           null,
           null,
           null,
           null,
           null,
           null,
           null,
           0.7005870672537338,
           null
          ],
          [
           null,
           null,
           null,
           null,
           null,
           0.7303230111071862,
           null,
           null,
           null,
           null,
           null,
           null,
           null,
           null,
           null,
           null,
           null,
           null,
           null,
           null,
           null,
           null,
           null,
           null,
           null,
           null,
           null,
           null,
           null,
           null,
           null,
           null,
           null,
           null,
           null,
           null,
           null
          ],
          [
           null,
           null,
           0.7083551689200992,
           null,
           null,
           null,
           null,
           null,
           null,
           null,
           null,
           null,
           null,
           null,
           null,
           null,
           null,
           null,
           null,
           null,
           null,
           null,
           null,
           null,
           null,
           null,
           null,
           null,
           null,
           null,
           null,
           null,
           null,
           null,
           null,
           null,
           null
          ],
          [
           null,
           null,
           null,
           null,
           null,
           null,
           null,
           null,
           null,
           0.7251143410414643,
           null,
           null,
           null,
           null,
           null,
           null,
           null,
           null,
           null,
           null,
           null,
           null,
           null,
           null,
           null,
           null,
           null,
           null,
           null,
           null,
           null,
           null,
           null,
           null,
           null,
           null,
           null
          ],
          [
           null,
           null,
           null,
           null,
           null,
           null,
           null,
           null,
           null,
           null,
           null,
           null,
           null,
           null,
           null,
           0.6437047346296103,
           null,
           null,
           null,
           null,
           null,
           null,
           null,
           null,
           null,
           null,
           null,
           null,
           null,
           null,
           null,
           null,
           null,
           null,
           null,
           null,
           null
          ],
          [
           null,
           0.7338085274891545,
           null,
           null,
           null,
           null,
           null,
           null,
           null,
           null,
           null,
           null,
           null,
           null,
           null,
           null,
           null,
           null,
           null,
           null,
           null,
           null,
           null,
           null,
           null,
           null,
           null,
           null,
           null,
           null,
           null,
           null,
           null,
           null,
           null,
           null,
           null
          ],
          [
           null,
           null,
           null,
           null,
           null,
           null,
           null,
           null,
           0.20555555555555557,
           null,
           null,
           null,
           null,
           null,
           null,
           null,
           null,
           null,
           null,
           null,
           null,
           null,
           null,
           null,
           null,
           null,
           null,
           null,
           null,
           null,
           null,
           null,
           null,
           null,
           null,
           null,
           null
          ],
          [
           null,
           null,
           null,
           null,
           null,
           null,
           null,
           null,
           null,
           null,
           null,
           null,
           null,
           null,
           null,
           null,
           null,
           null,
           null,
           null,
           null,
           null,
           null,
           null,
           null,
           null,
           null,
           null,
           null,
           null,
           null,
           0.6891311575135104,
           null,
           null,
           null,
           null,
           null
          ],
          [
           null,
           null,
           null,
           0.7004367588713172,
           null,
           null,
           null,
           null,
           null,
           null,
           null,
           null,
           null,
           null,
           null,
           null,
           null,
           null,
           null,
           null,
           null,
           null,
           null,
           null,
           null,
           null,
           null,
           null,
           null,
           null,
           null,
           null,
           null,
           null,
           null,
           null,
           null
          ],
          [
           null,
           null,
           null,
           null,
           null,
           null,
           0.7187234404215536,
           null,
           null,
           null,
           null,
           null,
           null,
           null,
           null,
           null,
           null,
           null,
           null,
           null,
           null,
           null,
           null,
           null,
           null,
           null,
           null,
           null,
           null,
           null,
           null,
           null,
           null,
           null,
           null,
           null,
           null
          ],
          [
           null,
           null,
           null,
           null,
           null,
           null,
           null,
           null,
           null,
           null,
           null,
           null,
           null,
           null,
           null,
           null,
           null,
           0.1993127147766323,
           null,
           null,
           null,
           null,
           null,
           null,
           null,
           null,
           null,
           null,
           null,
           null,
           null,
           null,
           null,
           null,
           null,
           null,
           null
          ],
          [
           null,
           null,
           null,
           null,
           0.7410560850537378,
           null,
           null,
           null,
           null,
           null,
           null,
           null,
           null,
           null,
           null,
           null,
           null,
           null,
           null,
           null,
           null,
           null,
           null,
           null,
           null,
           null,
           null,
           null,
           null,
           null,
           null,
           null,
           null,
           null,
           null,
           null,
           null
          ],
          [
           null,
           null,
           null,
           null,
           null,
           null,
           null,
           null,
           null,
           null,
           null,
           null,
           null,
           null,
           null,
           null,
           null,
           null,
           null,
           null,
           null,
           null,
           null,
           null,
           null,
           null,
           null,
           null,
           null,
           null,
           null,
           null,
           null,
           null,
           null,
           null,
           null
          ]
         ]
        },
        {
         "marker": {
          "color": "black",
          "line": {
           "color": "Gray",
           "width": 2
          }
         },
         "mode": "markers",
         "name": "Feasible Trial",
         "showlegend": false,
         "type": "scatter",
         "x": [
          0.09937082675952327,
          0.09349754729562262,
          0.08537928994950458,
          0.08537947874638763,
          0.07555304134674155,
          0.09349698775914125,
          0.07398456754725026,
          0.0735411454485706,
          0.07821175835909654,
          0.07990923174589054,
          0.057854034295215365,
          0.05672700459303386,
          0.050039131186963744,
          0.06330557333773223,
          0.06766958994432284,
          0.06389674553083408,
          0.052401396449164334,
          0.09366006862483765,
          0.05851597962389249,
          0.08600847328552844,
          0.06711093143267129,
          0.08791295233242938,
          0.09206698211614449,
          0.0994080963787085,
          0.08949453778337746,
          0.08221136191243872,
          0.09691956847692654,
          0.08988517994586956,
          0.0710547738303259,
          0.08170980573983573,
          0.09680690346663146,
          0.08643159140122408,
          0.08820431595805273,
          0.0826595204037524,
          0.083088237668143
         ],
         "xaxis": "x14",
         "y": [
          0.05554937256711111,
          0.16238731348221075,
          0.1156713724500694,
          0.1731740948385147,
          0.09183897870762982,
          0.09250840338104498,
          0.0986729597160335,
          0.1731643507450079,
          0.16134343558461572,
          0.2291435960126414,
          0.2972137704934936,
          0.28061157532406417,
          0.23417605472778696,
          0.2818320666291123,
          0.22251626560325732,
          0.1378090102336979,
          0.20498071047682687,
          0.26062489815836487,
          0.19866896646462542,
          0.15064557057690897,
          0.25114280027181346,
          0.1453264456086812,
          0.13387570402654014,
          0.18833485064608974,
          0.12800229872034904,
          0.2945510490437179,
          0.0651886095045491,
          0.15349679728788918,
          0.1877705161672686,
          0.06385206243116642,
          0.11174956415258834,
          0.1478180141067793,
          0.15590285977199148,
          0.11465077494664683,
          0.12046325878870909
         ],
         "yaxis": "y14"
        },
        {
         "type": "scatter",
         "xaxis": "x19",
         "yaxis": "y19"
        },
        {
         "colorbar": {
          "title": {
           "text": "Objective Value"
          }
         },
         "colorscale": [
          [
           0,
           "rgb(247,251,255)"
          ],
          [
           0.125,
           "rgb(222,235,247)"
          ],
          [
           0.25,
           "rgb(198,219,239)"
          ],
          [
           0.375,
           "rgb(158,202,225)"
          ],
          [
           0.5,
           "rgb(107,174,214)"
          ],
          [
           0.625,
           "rgb(66,146,198)"
          ],
          [
           0.75,
           "rgb(33,113,181)"
          ],
          [
           0.875,
           "rgb(8,81,156)"
          ],
          [
           1,
           "rgb(8,48,107)"
          ]
         ],
         "connectgaps": true,
         "contours": {
          "coloring": "heatmap"
         },
         "hoverinfo": "none",
         "line": {
          "smoothing": 1.3
         },
         "reversescale": false,
         "showscale": false,
         "type": "contour",
         "x": [
          0.047570682927376505,
          0.050039131186963744,
          0.052401396449164334,
          0.05672700459303386,
          0.057854034295215365,
          0.05851597962389249,
          0.06330557333773223,
          0.06389674553083408,
          0.06711093143267129,
          0.06766958994432284,
          0.0710547738303259,
          0.0735411454485706,
          0.07398456754725026,
          0.07555304134674155,
          0.07821175835909654,
          0.07990923174589054,
          0.08170980573983573,
          0.08221136191243872,
          0.0826595204037524,
          0.083088237668143,
          0.08537928994950458,
          0.08537947874638763,
          0.08600847328552844,
          0.08643159140122408,
          0.08791295233242938,
          0.08820431595805273,
          0.08949453778337746,
          0.08988517994586956,
          0.09206698211614449,
          0.09349698775914125,
          0.09349754729562262,
          0.09366006862483765,
          0.09680690346663146,
          0.09691956847692654,
          0.09937082675952327,
          0.0994080963787085,
          0.10187654463829574
         ],
         "xaxis": "x24",
         "y": [
          8.315603778470874e-7,
          0.0000011635393603063947,
          0.0000023094071481095476,
          0.000007694072728756075,
          0.000009041973441856718,
          0.0000120628423169246,
          0.000017689390716193458,
          0.000022473858786331558,
          0.000023248275975612407,
          0.000030718743013361876,
          0.000046059257159255764,
          0.0000495490175608353,
          0.00005004345599490854,
          0.000054084277920453076,
          0.0000567961592098049,
          0.00007604936940612161,
          0.00008025000116876372,
          0.00009393652218769055,
          0.00010495226455352575,
          0.00010564926287579155,
          0.00011770387178985493,
          0.00011931169586112166,
          0.00015302368750292746,
          0.0001547499414756148,
          0.00016762821491891325,
          0.00016987384540062114,
          0.00022810096153700054,
          0.000235837375972441,
          0.0002662989058111937,
          0.00028675383501458807,
          0.000287529810936762,
          0.0004076065453883772,
          0.0004480420675843755,
          0.0005562781120729123,
          0.0007674171673042348,
          0.0009627796574239111,
          0.001347144544831864
         ],
         "yaxis": "y24",
         "z": [
          [
           null,
           null,
           null,
           null,
           null,
           null,
           null,
           null,
           null,
           null,
           null,
           null,
           null,
           null,
           null,
           null,
           null,
           null,
           null,
           null,
           null,
           null,
           null,
           null,
           null,
           null,
           null,
           null,
           null,
           null,
           null,
           null,
           null,
           null,
           null,
           null,
           null
          ],
          [
           null,
           null,
           null,
           null,
           null,
           null,
           null,
           null,
           null,
           null,
           null,
           null,
           null,
           null,
           null,
           null,
           null,
           null,
           null,
           null,
           0.03487253487253487,
           null,
           null,
           null,
           null,
           null,
           null,
           null,
           null,
           null,
           null,
           null,
           null,
           null,
           null,
           null,
           null
          ],
          [
           null,
           null,
           null,
           null,
           null,
           null,
           null,
           null,
           null,
           null,
           null,
           0.4104813315339631,
           null,
           null,
           null,
           null,
           null,
           null,
           null,
           null,
           null,
           null,
           null,
           null,
           null,
           null,
           null,
           null,
           null,
           null,
           null,
           null,
           null,
           null,
           null,
           null,
           null
          ],
          [
           null,
           null,
           null,
           null,
           null,
           null,
           null,
           null,
           0.20555555555555557,
           null,
           null,
           null,
           null,
           null,
           null,
           null,
           null,
           null,
           null,
           null,
           null,
           null,
           null,
           null,
           null,
           null,
           null,
           null,
           null,
           null,
           null,
           null,
           null,
           null,
           null,
           null,
           null
          ],
          [
           null,
           null,
           null,
           null,
           null,
           null,
           null,
           0.20952380952380953,
           null,
           null,
           null,
           null,
           null,
           null,
           null,
           null,
           null,
           null,
           null,
           null,
           null,
           null,
           null,
           null,
           null,
           null,
           null,
           null,
           null,
           null,
           null,
           null,
           null,
           null,
           null,
           null,
           null
          ],
          [
           null,
           null,
           null,
           null,
           null,
           null,
           null,
           null,
           null,
           null,
           null,
           null,
           null,
           null,
           null,
           null,
           null,
           0.1993127147766323,
           null,
           null,
           null,
           null,
           null,
           null,
           null,
           null,
           null,
           null,
           null,
           null,
           null,
           null,
           null,
           null,
           null,
           null,
           null
          ],
          [
           null,
           null,
           null,
           null,
           null,
           null,
           null,
           null,
           null,
           null,
           null,
           null,
           null,
           null,
           null,
           null,
           null,
           null,
           null,
           null,
           null,
           null,
           null,
           null,
           null,
           null,
           null,
           null,
           null,
           null,
           null,
           null,
           0.19865319865319866,
           null,
           null,
           null,
           null
          ],
          [
           null,
           null,
           null,
           null,
           null,
           null,
           null,
           null,
           null,
           null,
           null,
           null,
           null,
           null,
           null,
           null,
           null,
           null,
           null,
           null,
           null,
           null,
           null,
           null,
           null,
           null,
           null,
           null,
           null,
           null,
           null,
           null,
           null,
           null,
           0.2582566916083945,
           null,
           null
          ],
          [
           null,
           null,
           null,
           null,
           null,
           null,
           null,
           null,
           null,
           null,
           null,
           null,
           null,
           0.2048780487804878,
           null,
           null,
           null,
           null,
           null,
           null,
           null,
           null,
           null,
           null,
           null,
           null,
           null,
           null,
           null,
           null,
           null,
           null,
           null,
           null,
           null,
           null,
           null
          ],
          [
           null,
           null,
           null,
           null,
           null,
           null,
           null,
           null,
           null,
           null,
           null,
           null,
           null,
           null,
           null,
           0.6437047346296103,
           null,
           null,
           null,
           null,
           null,
           null,
           null,
           null,
           null,
           null,
           null,
           null,
           null,
           null,
           null,
           null,
           null,
           null,
           null,
           null,
           null
          ],
          [
           null,
           null,
           null,
           null,
           null,
           null,
           null,
           null,
           null,
           null,
           null,
           null,
           null,
           null,
           null,
           null,
           null,
           null,
           null,
           0.743672415096469,
           null,
           null,
           null,
           null,
           null,
           null,
           null,
           null,
           null,
           null,
           null,
           null,
           null,
           null,
           null,
           null,
           null
          ],
          [
           null,
           null,
           null,
           null,
           null,
           null,
           null,
           null,
           null,
           null,
           0.7251014997100008,
           null,
           null,
           null,
           null,
           null,
           null,
           null,
           null,
           null,
           null,
           null,
           null,
           null,
           null,
           null,
           null,
           null,
           null,
           null,
           null,
           null,
           null,
           null,
           null,
           null,
           null
          ],
          [
           null,
           null,
           null,
           null,
           null,
           null,
           null,
           null,
           null,
           null,
           null,
           null,
           null,
           null,
           null,
           null,
           null,
           null,
           null,
           null,
           null,
           0.4927765330677952,
           null,
           null,
           null,
           null,
           null,
           null,
           null,
           null,
           null,
           null,
           null,
           null,
           null,
           null,
           null
          ],
          [
           null,
           null,
           null,
           null,
           null,
           null,
           null,
           null,
           null,
           null,
           null,
           null,
           null,
           null,
           null,
           null,
           null,
           null,
           null,
           null,
           null,
           null,
           null,
           null,
           null,
           null,
           null,
           null,
           null,
           null,
           null,
           null,
           null,
           null,
           null,
           0.7005870672537338,
           null
          ],
          [
           null,
           null,
           null,
           null,
           null,
           null,
           null,
           null,
           null,
           null,
           null,
           null,
           null,
           null,
           null,
           null,
           null,
           null,
           0.736661712964727,
           null,
           null,
           null,
           null,
           null,
           null,
           null,
           null,
           null,
           null,
           null,
           null,
           null,
           null,
           null,
           null,
           null,
           null
          ],
          [
           null,
           null,
           null,
           null,
           null,
           0.7303230111071862,
           null,
           null,
           null,
           null,
           null,
           null,
           null,
           null,
           null,
           null,
           null,
           null,
           null,
           null,
           null,
           null,
           null,
           null,
           null,
           null,
           null,
           null,
           null,
           null,
           null,
           null,
           null,
           null,
           null,
           null,
           null
          ],
          [
           null,
           null,
           null,
           null,
           null,
           null,
           0.7187234404215536,
           null,
           null,
           null,
           null,
           null,
           null,
           null,
           null,
           null,
           null,
           null,
           null,
           null,
           null,
           null,
           null,
           null,
           null,
           null,
           null,
           null,
           null,
           null,
           null,
           null,
           null,
           null,
           null,
           null,
           null
          ],
          [
           null,
           null,
           null,
           null,
           null,
           null,
           null,
           null,
           null,
           null,
           null,
           null,
           null,
           null,
           null,
           null,
           null,
           null,
           null,
           null,
           null,
           null,
           null,
           null,
           null,
           0.7354094453087331,
           null,
           null,
           null,
           null,
           null,
           null,
           null,
           null,
           null,
           null,
           null
          ],
          [
           null,
           null,
           null,
           null,
           null,
           null,
           null,
           null,
           null,
           null,
           null,
           null,
           null,
           null,
           null,
           null,
           null,
           null,
           null,
           null,
           null,
           null,
           null,
           null,
           null,
           null,
           null,
           null,
           null,
           null,
           null,
           null,
           null,
           0.6182821118991332,
           null,
           null,
           null
          ],
          [
           null,
           null,
           null,
           null,
           null,
           null,
           null,
           null,
           null,
           null,
           null,
           null,
           null,
           null,
           null,
           null,
           null,
           null,
           null,
           null,
           null,
           null,
           null,
           null,
           0.736955681025112,
           null,
           null,
           null,
           null,
           null,
           null,
           null,
           null,
           null,
           null,
           null,
           null
          ],
          [
           null,
           null,
           null,
           null,
           null,
           null,
           null,
           null,
           null,
           null,
           null,
           null,
           null,
           null,
           null,
           null,
           null,
           null,
           null,
           null,
           null,
           null,
           null,
           0.7330559549961694,
           null,
           null,
           null,
           null,
           null,
           null,
           null,
           null,
           null,
           null,
           null,
           null,
           null
          ],
          [
           null,
           null,
           null,
           null,
           null,
           null,
           null,
           null,
           null,
           null,
           null,
           null,
           null,
           null,
           null,
           null,
           null,
           null,
           null,
           null,
           null,
           null,
           0.7355501340321076,
           null,
           null,
           null,
           null,
           null,
           null,
           null,
           null,
           null,
           null,
           null,
           null,
           null,
           null
          ],
          [
           null,
           null,
           null,
           null,
           0.7410560850537378,
           null,
           null,
           null,
           null,
           null,
           null,
           null,
           null,
           null,
           null,
           null,
           null,
           null,
           null,
           null,
           null,
           null,
           null,
           null,
           null,
           null,
           null,
           null,
           null,
           null,
           null,
           null,
           null,
           null,
           null,
           null,
           null
          ],
          [
           null,
           null,
           null,
           0.7004367588713172,
           null,
           null,
           null,
           null,
           null,
           null,
           null,
           null,
           null,
           null,
           null,
           null,
           null,
           null,
           null,
           null,
           null,
           null,
           null,
           null,
           null,
           null,
           null,
           null,
           null,
           null,
           null,
           null,
           null,
           null,
           null,
           null,
           null
          ],
          [
           null,
           0.7338085274891545,
           null,
           null,
           null,
           null,
           null,
           null,
           null,
           null,
           null,
           null,
           null,
           null,
           null,
           null,
           null,
           null,
           null,
           null,
           null,
           null,
           null,
           null,
           null,
           null,
           null,
           null,
           null,
           null,
           null,
           null,
           null,
           null,
           null,
           null,
           null
          ],
          [
           null,
           null,
           null,
           null,
           null,
           null,
           null,
           null,
           null,
           null,
           null,
           null,
           null,
           null,
           0.7187736469303957,
           null,
           null,
           null,
           null,
           null,
           null,
           null,
           null,
           null,
           null,
           null,
           null,
           null,
           null,
           null,
           null,
           null,
           null,
           null,
           null,
           null,
           null
          ],
          [
           null,
           null,
           null,
           null,
           null,
           null,
           null,
           null,
           null,
           null,
           null,
           null,
           null,
           null,
           null,
           null,
           0.7247416953493858,
           null,
           null,
           null,
           null,
           null,
           null,
           null,
           null,
           null,
           null,
           null,
           null,
           null,
           null,
           null,
           null,
           null,
           null,
           null,
           null
          ],
          [
           null,
           null,
           null,
           null,
           null,
           null,
           null,
           null,
           null,
           null,
           null,
           null,
           null,
           null,
           null,
           null,
           null,
           null,
           null,
           null,
           null,
           null,
           null,
           null,
           null,
           null,
           null,
           null,
           null,
           null,
           0.7397243107769423,
           null,
           null,
           null,
           null,
           null,
           null
          ],
          [
           null,
           null,
           null,
           null,
           null,
           null,
           null,
           null,
           null,
           null,
           null,
           null,
           null,
           null,
           null,
           null,
           null,
           null,
           null,
           null,
           null,
           null,
           null,
           null,
           null,
           null,
           0.7288287315009699,
           null,
           null,
           null,
           null,
           null,
           null,
           null,
           null,
           null,
           null
          ],
          [
           null,
           null,
           0.7083551689200992,
           null,
           null,
           null,
           null,
           null,
           null,
           null,
           null,
           null,
           null,
           null,
           null,
           null,
           null,
           null,
           null,
           null,
           null,
           null,
           null,
           null,
           null,
           null,
           null,
           null,
           null,
           null,
           null,
           null,
           null,
           null,
           null,
           null,
           null
          ],
          [
           null,
           null,
           null,
           null,
           null,
           null,
           null,
           null,
           null,
           null,
           null,
           null,
           null,
           null,
           null,
           null,
           null,
           null,
           null,
           null,
           null,
           null,
           null,
           null,
           null,
           null,
           null,
           null,
           0.7069358178053831,
           null,
           null,
           null,
           null,
           null,
           null,
           null,
           null
          ],
          [
           null,
           null,
           null,
           null,
           null,
           null,
           null,
           null,
           null,
           0.7251143410414643,
           null,
           null,
           null,
           null,
           null,
           null,
           null,
           null,
           null,
           null,
           null,
           null,
           null,
           null,
           null,
           null,
           null,
           null,
           null,
           null,
           null,
           null,
           null,
           null,
           null,
           null,
           null
          ],
          [
           null,
           null,
           null,
           null,
           null,
           null,
           null,
           null,
           null,
           null,
           null,
           null,
           0.7075079433569998,
           null,
           null,
           null,
           null,
           null,
           null,
           null,
           null,
           null,
           null,
           null,
           null,
           null,
           null,
           null,
           null,
           null,
           null,
           null,
           null,
           null,
           null,
           null,
           null
          ],
          [
           null,
           null,
           null,
           null,
           null,
           null,
           null,
           null,
           null,
           null,
           null,
           null,
           null,
           null,
           null,
           null,
           null,
           null,
           null,
           null,
           null,
           null,
           null,
           null,
           null,
           null,
           null,
           0.7221044711714647,
           null,
           null,
           null,
           null,
           null,
           null,
           null,
           null,
           null
          ],
          [
           null,
           null,
           null,
           null,
           null,
           null,
           null,
           null,
           null,
           null,
           null,
           null,
           null,
           null,
           null,
           null,
           null,
           null,
           null,
           null,
           null,
           null,
           null,
           null,
           null,
           null,
           null,
           null,
           null,
           0.7178831099783266,
           null,
           null,
           null,
           null,
           null,
           null,
           null
          ],
          [
           null,
           null,
           null,
           null,
           null,
           null,
           null,
           null,
           null,
           null,
           null,
           null,
           null,
           null,
           null,
           null,
           null,
           null,
           null,
           null,
           null,
           null,
           null,
           null,
           null,
           null,
           null,
           null,
           null,
           null,
           null,
           0.6891311575135104,
           null,
           null,
           null,
           null,
           null
          ],
          [
           null,
           null,
           null,
           null,
           null,
           null,
           null,
           null,
           null,
           null,
           null,
           null,
           null,
           null,
           null,
           null,
           null,
           null,
           null,
           null,
           null,
           null,
           null,
           null,
           null,
           null,
           null,
           null,
           null,
           null,
           null,
           null,
           null,
           null,
           null,
           null,
           null
          ]
         ]
        },
        {
         "marker": {
          "color": "black",
          "line": {
           "color": "Gray",
           "width": 2
          }
         },
         "mode": "markers",
         "name": "Feasible Trial",
         "showlegend": false,
         "type": "scatter",
         "x": [
          0.09937082675952327,
          0.09349754729562262,
          0.08537928994950458,
          0.08537947874638763,
          0.07555304134674155,
          0.09349698775914125,
          0.07398456754725026,
          0.0735411454485706,
          0.07821175835909654,
          0.07990923174589054,
          0.057854034295215365,
          0.05672700459303386,
          0.050039131186963744,
          0.06330557333773223,
          0.06766958994432284,
          0.06389674553083408,
          0.052401396449164334,
          0.09366006862483765,
          0.05851597962389249,
          0.08600847328552844,
          0.06711093143267129,
          0.08791295233242938,
          0.09206698211614449,
          0.0994080963787085,
          0.08949453778337746,
          0.08221136191243872,
          0.09691956847692654,
          0.08988517994586956,
          0.0710547738303259,
          0.08170980573983573,
          0.09680690346663146,
          0.08643159140122408,
          0.08820431595805273,
          0.0826595204037524,
          0.083088237668143
         ],
         "xaxis": "x24",
         "y": [
          0.000022473858786331558,
          0.000235837375972441,
          0.0000011635393603063947,
          0.00005004345599490854,
          0.000023248275975612407,
          0.0007674171673042348,
          0.0004480420675843755,
          0.0000023094071481095476,
          0.00016987384540062114,
          0.000030718743013361876,
          0.00015302368750292746,
          0.0001547499414756148,
          0.00016762821491891325,
          0.00008025000116876372,
          0.0004076065453883772,
          0.000009041973441856718,
          0.00028675383501458807,
          0.0009627796574239111,
          0.00007604936940612161,
          0.00011931169586112166,
          0.000007694072728756075,
          0.00010564926287579155,
          0.000287529810936762,
          0.000054084277920453076,
          0.0002662989058111937,
          0.0000120628423169246,
          0.00010495226455352575,
          0.0005562781120729123,
          0.0000495490175608353,
          0.00022810096153700054,
          0.000017689390716193458,
          0.00011770387178985493,
          0.00009393652218769055,
          0.0000567961592098049,
          0.000046059257159255764
         ],
         "yaxis": "y24"
        },
        {
         "colorbar": {
          "title": {
           "text": "Objective Value"
          }
         },
         "colorscale": [
          [
           0,
           "rgb(247,251,255)"
          ],
          [
           0.125,
           "rgb(222,235,247)"
          ],
          [
           0.25,
           "rgb(198,219,239)"
          ],
          [
           0.375,
           "rgb(158,202,225)"
          ],
          [
           0.5,
           "rgb(107,174,214)"
          ],
          [
           0.625,
           "rgb(66,146,198)"
          ],
          [
           0.75,
           "rgb(33,113,181)"
          ],
          [
           0.875,
           "rgb(8,81,156)"
          ],
          [
           1,
           "rgb(8,48,107)"
          ]
         ],
         "connectgaps": true,
         "contours": {
          "coloring": "heatmap"
         },
         "hoverinfo": "none",
         "line": {
          "smoothing": 1.3
         },
         "reversescale": false,
         "showscale": false,
         "type": "contour",
         "x": [
          8.315603778470874e-7,
          0.0000011635393603063947,
          0.0000023094071481095476,
          0.000007694072728756075,
          0.000009041973441856718,
          0.0000120628423169246,
          0.000017689390716193458,
          0.000022473858786331558,
          0.000023248275975612407,
          0.000030718743013361876,
          0.000046059257159255764,
          0.0000495490175608353,
          0.00005004345599490854,
          0.000054084277920453076,
          0.0000567961592098049,
          0.00007604936940612161,
          0.00008025000116876372,
          0.00009393652218769055,
          0.00010495226455352575,
          0.00010564926287579155,
          0.00011770387178985493,
          0.00011931169586112166,
          0.00015302368750292746,
          0.0001547499414756148,
          0.00016762821491891325,
          0.00016987384540062114,
          0.00022810096153700054,
          0.000235837375972441,
          0.0002662989058111937,
          0.00028675383501458807,
          0.000287529810936762,
          0.0004076065453883772,
          0.0004480420675843755,
          0.0005562781120729123,
          0.0007674171673042348,
          0.0009627796574239111,
          0.001347144544831864
         ],
         "xaxis": "x5",
         "y": [
          95,
          100,
          150,
          200,
          205
         ],
         "yaxis": "y5",
         "z": [
          [
           null,
           null,
           null,
           null,
           null,
           null,
           null,
           null,
           null,
           null,
           null,
           null,
           null,
           null,
           null,
           null,
           null,
           null,
           null,
           null,
           null,
           null,
           null,
           null,
           null,
           null,
           null,
           null,
           null,
           null,
           null,
           null,
           null,
           null,
           null,
           null,
           null
          ],
          [
           null,
           null,
           null,
           null,
           null,
           null,
           null,
           null,
           null,
           null,
           null,
           null,
           0.4927765330677952,
           null,
           null,
           0.7303230111071862,
           0.7187234404215536,
           null,
           0.6182821118991332,
           null,
           null,
           null,
           0.7410560850537378,
           0.7004367588713172,
           0.7338085274891545,
           null,
           0.7247416953493858,
           null,
           null,
           0.7083551689200992,
           null,
           0.7251143410414643,
           null,
           null,
           null,
           null,
           null
          ],
          [
           null,
           null,
           0.4104813315339631,
           null,
           null,
           0.1993127147766323,
           null,
           null,
           null,
           null,
           0.743672415096469,
           0.7251014997100008,
           null,
           0.7005870672537338,
           0.736661712964727,
           null,
           null,
           0.7354094453087331,
           null,
           0.736955681025112,
           0.7330559549961694,
           0.7355501340321076,
           null,
           null,
           null,
           0.7187736469303957,
           null,
           null,
           0.7288287315009699,
           null,
           0.7069358178053831,
           null,
           null,
           null,
           0.7178831099783266,
           null,
           null
          ],
          [
           null,
           0.03487253487253487,
           null,
           0.20555555555555557,
           0.20952380952380953,
           null,
           0.19865319865319866,
           0.2582566916083945,
           0.2048780487804878,
           0.6437047346296103,
           null,
           null,
           null,
           null,
           null,
           null,
           null,
           null,
           null,
           null,
           null,
           null,
           null,
           null,
           null,
           null,
           null,
           0.7397243107769423,
           null,
           null,
           null,
           null,
           0.7075079433569998,
           0.7221044711714647,
           null,
           0.6891311575135104,
           null
          ],
          [
           null,
           null,
           null,
           null,
           null,
           null,
           null,
           null,
           null,
           null,
           null,
           null,
           null,
           null,
           null,
           null,
           null,
           null,
           null,
           null,
           null,
           null,
           null,
           null,
           null,
           null,
           null,
           null,
           null,
           null,
           null,
           null,
           null,
           null,
           null,
           null,
           null
          ]
         ]
        },
        {
         "marker": {
          "color": "black",
          "line": {
           "color": "Gray",
           "width": 2
          }
         },
         "mode": "markers",
         "name": "Feasible Trial",
         "showlegend": false,
         "type": "scatter",
         "x": [
          0.000022473858786331558,
          0.000235837375972441,
          0.0000011635393603063947,
          0.00005004345599490854,
          0.000023248275975612407,
          0.0007674171673042348,
          0.0004480420675843755,
          0.0000023094071481095476,
          0.00016987384540062114,
          0.000030718743013361876,
          0.00015302368750292746,
          0.0001547499414756148,
          0.00016762821491891325,
          0.00008025000116876372,
          0.0004076065453883772,
          0.000009041973441856718,
          0.00028675383501458807,
          0.0009627796574239111,
          0.00007604936940612161,
          0.00011931169586112166,
          0.000007694072728756075,
          0.00010564926287579155,
          0.000287529810936762,
          0.000054084277920453076,
          0.0002662989058111937,
          0.0000120628423169246,
          0.00010495226455352575,
          0.0005562781120729123,
          0.0000495490175608353,
          0.00022810096153700054,
          0.000017689390716193458,
          0.00011770387178985493,
          0.00009393652218769055,
          0.0000567961592098049,
          0.000046059257159255764
         ],
         "xaxis": "x5",
         "y": [
          200,
          200,
          200,
          100,
          200,
          150,
          200,
          150,
          150,
          200,
          100,
          100,
          100,
          100,
          100,
          200,
          100,
          200,
          100,
          150,
          200,
          150,
          150,
          150,
          150,
          150,
          100,
          200,
          150,
          100,
          200,
          150,
          150,
          150,
          150
         ],
         "yaxis": "y5"
        },
        {
         "colorbar": {
          "title": {
           "text": "Objective Value"
          }
         },
         "colorscale": [
          [
           0,
           "rgb(247,251,255)"
          ],
          [
           0.125,
           "rgb(222,235,247)"
          ],
          [
           0.25,
           "rgb(198,219,239)"
          ],
          [
           0.375,
           "rgb(158,202,225)"
          ],
          [
           0.5,
           "rgb(107,174,214)"
          ],
          [
           0.625,
           "rgb(66,146,198)"
          ],
          [
           0.75,
           "rgb(33,113,181)"
          ],
          [
           0.875,
           "rgb(8,81,156)"
          ],
          [
           1,
           "rgb(8,48,107)"
          ]
         ],
         "connectgaps": true,
         "contours": {
          "coloring": "heatmap"
         },
         "hoverinfo": "none",
         "line": {
          "smoothing": 1.3
         },
         "reversescale": false,
         "showscale": false,
         "type": "contour",
         "x": [
          8.315603778470874e-7,
          0.0000011635393603063947,
          0.0000023094071481095476,
          0.000007694072728756075,
          0.000009041973441856718,
          0.0000120628423169246,
          0.000017689390716193458,
          0.000022473858786331558,
          0.000023248275975612407,
          0.000030718743013361876,
          0.000046059257159255764,
          0.0000495490175608353,
          0.00005004345599490854,
          0.000054084277920453076,
          0.0000567961592098049,
          0.00007604936940612161,
          0.00008025000116876372,
          0.00009393652218769055,
          0.00010495226455352575,
          0.00010564926287579155,
          0.00011770387178985493,
          0.00011931169586112166,
          0.00015302368750292746,
          0.0001547499414756148,
          0.00016762821491891325,
          0.00016987384540062114,
          0.00022810096153700054,
          0.000235837375972441,
          0.0002662989058111937,
          0.00028675383501458807,
          0.000287529810936762,
          0.0004076065453883772,
          0.0004480420675843755,
          0.0005562781120729123,
          0.0007674171673042348,
          0.0009627796574239111,
          0.001347144544831864
         ],
         "xaxis": "x10",
         "y": [
          54.4,
          64,
          128,
          256,
          265.6
         ],
         "yaxis": "y10",
         "z": [
          [
           null,
           null,
           null,
           null,
           null,
           null,
           null,
           null,
           null,
           null,
           null,
           null,
           null,
           null,
           null,
           null,
           null,
           null,
           null,
           null,
           null,
           null,
           null,
           null,
           null,
           null,
           null,
           null,
           null,
           null,
           null,
           null,
           null,
           null,
           null,
           null,
           null
          ],
          [
           null,
           null,
           0.4104813315339631,
           0.20555555555555557,
           null,
           null,
           null,
           null,
           0.2048780487804878,
           null,
           null,
           null,
           0.4927765330677952,
           null,
           null,
           null,
           0.7187234404215536,
           null,
           0.6182821118991332,
           null,
           null,
           null,
           0.7410560850537378,
           0.7004367588713172,
           0.7338085274891545,
           null,
           null,
           0.7397243107769423,
           null,
           0.7083551689200992,
           null,
           0.7251143410414643,
           null,
           0.7221044711714647,
           0.7178831099783266,
           0.6891311575135104,
           null
          ],
          [
           null,
           null,
           null,
           null,
           0.20952380952380953,
           null,
           0.19865319865319866,
           0.2582566916083945,
           null,
           null,
           null,
           0.7251014997100008,
           null,
           null,
           null,
           0.7303230111071862,
           null,
           null,
           null,
           null,
           null,
           null,
           null,
           null,
           null,
           null,
           null,
           null,
           null,
           null,
           null,
           null,
           0.7075079433569998,
           null,
           null,
           null,
           null
          ],
          [
           null,
           0.03487253487253487,
           null,
           null,
           null,
           0.1993127147766323,
           null,
           null,
           null,
           0.6437047346296103,
           0.743672415096469,
           null,
           null,
           0.7005870672537338,
           0.736661712964727,
           null,
           null,
           0.7354094453087331,
           null,
           0.736955681025112,
           0.7330559549961694,
           0.7355501340321076,
           null,
           null,
           null,
           0.7187736469303957,
           0.7247416953493858,
           null,
           0.7288287315009699,
           null,
           0.7069358178053831,
           null,
           null,
           null,
           null,
           null,
           null
          ],
          [
           null,
           null,
           null,
           null,
           null,
           null,
           null,
           null,
           null,
           null,
           null,
           null,
           null,
           null,
           null,
           null,
           null,
           null,
           null,
           null,
           null,
           null,
           null,
           null,
           null,
           null,
           null,
           null,
           null,
           null,
           null,
           null,
           null,
           null,
           null,
           null,
           null
          ]
         ]
        },
        {
         "marker": {
          "color": "black",
          "line": {
           "color": "Gray",
           "width": 2
          }
         },
         "mode": "markers",
         "name": "Feasible Trial",
         "showlegend": false,
         "type": "scatter",
         "x": [
          0.000022473858786331558,
          0.000235837375972441,
          0.0000011635393603063947,
          0.00005004345599490854,
          0.000023248275975612407,
          0.0007674171673042348,
          0.0004480420675843755,
          0.0000023094071481095476,
          0.00016987384540062114,
          0.000030718743013361876,
          0.00015302368750292746,
          0.0001547499414756148,
          0.00016762821491891325,
          0.00008025000116876372,
          0.0004076065453883772,
          0.000009041973441856718,
          0.00028675383501458807,
          0.0009627796574239111,
          0.00007604936940612161,
          0.00011931169586112166,
          0.000007694072728756075,
          0.00010564926287579155,
          0.000287529810936762,
          0.000054084277920453076,
          0.0002662989058111937,
          0.0000120628423169246,
          0.00010495226455352575,
          0.0005562781120729123,
          0.0000495490175608353,
          0.00022810096153700054,
          0.000017689390716193458,
          0.00011770387178985493,
          0.00009393652218769055,
          0.0000567961592098049,
          0.000046059257159255764
         ],
         "xaxis": "x10",
         "y": [
          128,
          64,
          256,
          64,
          64,
          64,
          128,
          64,
          256,
          256,
          64,
          64,
          64,
          64,
          64,
          128,
          64,
          64,
          128,
          256,
          64,
          256,
          256,
          256,
          256,
          256,
          64,
          64,
          128,
          256,
          128,
          256,
          256,
          256,
          256
         ],
         "yaxis": "y10"
        },
        {
         "colorbar": {
          "title": {
           "text": "Objective Value"
          }
         },
         "colorscale": [
          [
           0,
           "rgb(247,251,255)"
          ],
          [
           0.125,
           "rgb(222,235,247)"
          ],
          [
           0.25,
           "rgb(198,219,239)"
          ],
          [
           0.375,
           "rgb(158,202,225)"
          ],
          [
           0.5,
           "rgb(107,174,214)"
          ],
          [
           0.625,
           "rgb(66,146,198)"
          ],
          [
           0.75,
           "rgb(33,113,181)"
          ],
          [
           0.875,
           "rgb(8,81,156)"
          ],
          [
           1,
           "rgb(8,48,107)"
          ]
         ],
         "connectgaps": true,
         "contours": {
          "coloring": "heatmap"
         },
         "hoverinfo": "none",
         "line": {
          "smoothing": 1.3
         },
         "reversescale": false,
         "showscale": false,
         "type": "contour",
         "x": [
          8.315603778470874e-7,
          0.0000011635393603063947,
          0.0000023094071481095476,
          0.000007694072728756075,
          0.000009041973441856718,
          0.0000120628423169246,
          0.000017689390716193458,
          0.000022473858786331558,
          0.000023248275975612407,
          0.000030718743013361876,
          0.000046059257159255764,
          0.0000495490175608353,
          0.00005004345599490854,
          0.000054084277920453076,
          0.0000567961592098049,
          0.00007604936940612161,
          0.00008025000116876372,
          0.00009393652218769055,
          0.00010495226455352575,
          0.00010564926287579155,
          0.00011770387178985493,
          0.00011931169586112166,
          0.00015302368750292746,
          0.0001547499414756148,
          0.00016762821491891325,
          0.00016987384540062114,
          0.00022810096153700054,
          0.000235837375972441,
          0.0002662989058111937,
          0.00028675383501458807,
          0.000287529810936762,
          0.0004076065453883772,
          0.0004480420675843755,
          0.0005562781120729123,
          0.0007674171673042348,
          0.0009627796574239111,
          0.001347144544831864
         ],
         "xaxis": "x15",
         "y": [
          0.043466152670791985,
          0.05554937256711111,
          0.06385206243116642,
          0.0651886095045491,
          0.09183897870762982,
          0.09250840338104498,
          0.0986729597160335,
          0.11174956415258834,
          0.11465077494664683,
          0.1156713724500694,
          0.12046325878870909,
          0.12800229872034904,
          0.13387570402654014,
          0.1378090102336979,
          0.1453264456086812,
          0.1478180141067793,
          0.15064557057690897,
          0.15349679728788918,
          0.15590285977199148,
          0.16134343558461572,
          0.16238731348221075,
          0.1731643507450079,
          0.1731740948385147,
          0.1877705161672686,
          0.18833485064608974,
          0.19866896646462542,
          0.20498071047682687,
          0.22251626560325732,
          0.2291435960126414,
          0.23417605472778696,
          0.25114280027181346,
          0.26062489815836487,
          0.28061157532406417,
          0.2818320666291123,
          0.2945510490437179,
          0.2972137704934936,
          0.30929699038981273
         ],
         "yaxis": "y15",
         "z": [
          [
           null,
           null,
           null,
           null,
           null,
           null,
           null,
           null,
           null,
           null,
           null,
           null,
           null,
           null,
           null,
           null,
           null,
           null,
           null,
           null,
           null,
           null,
           null,
           null,
           null,
           null,
           null,
           null,
           null,
           null,
           null,
           null,
           null,
           null,
           null,
           null,
           null
          ],
          [
           null,
           null,
           null,
           null,
           null,
           null,
           null,
           0.2582566916083945,
           null,
           null,
           null,
           null,
           null,
           null,
           null,
           null,
           null,
           null,
           null,
           null,
           null,
           null,
           null,
           null,
           null,
           null,
           null,
           null,
           null,
           null,
           null,
           null,
           null,
           null,
           null,
           null,
           null
          ],
          [
           null,
           null,
           null,
           null,
           null,
           null,
           null,
           null,
           null,
           null,
           null,
           null,
           null,
           null,
           null,
           null,
           null,
           null,
           null,
           null,
           null,
           null,
           null,
           null,
           null,
           null,
           0.7247416953493858,
           null,
           null,
           null,
           null,
           null,
           null,
           null,
           null,
           null,
           null
          ],
          [
           null,
           null,
           null,
           null,
           null,
           null,
           null,
           null,
           null,
           null,
           null,
           null,
           null,
           null,
           null,
           null,
           null,
           null,
           0.6182821118991332,
           null,
           null,
           null,
           null,
           null,
           null,
           null,
           null,
           null,
           null,
           null,
           null,
           null,
           null,
           null,
           null,
           null,
           null
          ],
          [
           null,
           null,
           null,
           null,
           null,
           null,
           null,
           null,
           0.2048780487804878,
           null,
           null,
           null,
           null,
           null,
           null,
           null,
           null,
           null,
           null,
           null,
           null,
           null,
           null,
           null,
           null,
           null,
           null,
           null,
           null,
           null,
           null,
           null,
           null,
           null,
           null,
           null,
           null
          ],
          [
           null,
           null,
           null,
           null,
           null,
           null,
           null,
           null,
           null,
           null,
           null,
           null,
           null,
           null,
           null,
           null,
           null,
           null,
           null,
           null,
           null,
           null,
           null,
           null,
           null,
           null,
           null,
           null,
           null,
           null,
           null,
           null,
           null,
           null,
           0.7178831099783266,
           null,
           null
          ],
          [
           null,
           null,
           null,
           null,
           null,
           null,
           null,
           null,
           null,
           null,
           null,
           null,
           null,
           null,
           null,
           null,
           null,
           null,
           null,
           null,
           null,
           null,
           null,
           null,
           null,
           null,
           null,
           null,
           null,
           null,
           null,
           null,
           0.7075079433569998,
           null,
           null,
           null,
           null
          ],
          [
           null,
           null,
           null,
           null,
           null,
           null,
           0.19865319865319866,
           null,
           null,
           null,
           null,
           null,
           null,
           null,
           null,
           null,
           null,
           null,
           null,
           null,
           null,
           null,
           null,
           null,
           null,
           null,
           null,
           null,
           null,
           null,
           null,
           null,
           null,
           null,
           null,
           null,
           null
          ],
          [
           null,
           null,
           null,
           null,
           null,
           null,
           null,
           null,
           null,
           null,
           null,
           null,
           null,
           null,
           0.736661712964727,
           null,
           null,
           null,
           null,
           null,
           null,
           null,
           null,
           null,
           null,
           null,
           null,
           null,
           null,
           null,
           null,
           null,
           null,
           null,
           null,
           null,
           null
          ],
          [
           null,
           0.03487253487253487,
           null,
           null,
           null,
           null,
           null,
           null,
           null,
           null,
           null,
           null,
           null,
           null,
           null,
           null,
           null,
           null,
           null,
           null,
           null,
           null,
           null,
           null,
           null,
           null,
           null,
           null,
           null,
           null,
           null,
           null,
           null,
           null,
           null,
           null,
           null
          ],
          [
           null,
           null,
           null,
           null,
           null,
           null,
           null,
           null,
           null,
           null,
           0.743672415096469,
           null,
           null,
           null,
           null,
           null,
           null,
           null,
           null,
           null,
           null,
           null,
           null,
           null,
           null,
           null,
           null,
           null,
           null,
           null,
           null,
           null,
           null,
           null,
           null,
           null,
           null
          ],
          [
           null,
           null,
           null,
           null,
           null,
           null,
           null,
           null,
           null,
           null,
           null,
           null,
           null,
           null,
           null,
           null,
           null,
           null,
           null,
           null,
           null,
           null,
           null,
           null,
           null,
           null,
           null,
           null,
           0.7288287315009699,
           null,
           null,
           null,
           null,
           null,
           null,
           null,
           null
          ],
          [
           null,
           null,
           null,
           null,
           null,
           null,
           null,
           null,
           null,
           null,
           null,
           null,
           null,
           null,
           null,
           null,
           null,
           null,
           null,
           null,
           null,
           null,
           null,
           null,
           null,
           null,
           null,
           null,
           null,
           null,
           0.7069358178053831,
           null,
           null,
           null,
           null,
           null,
           null
          ],
          [
           null,
           null,
           null,
           null,
           0.20952380952380953,
           null,
           null,
           null,
           null,
           null,
           null,
           null,
           null,
           null,
           null,
           null,
           null,
           null,
           null,
           null,
           null,
           null,
           null,
           null,
           null,
           null,
           null,
           null,
           null,
           null,
           null,
           null,
           null,
           null,
           null,
           null,
           null
          ],
          [
           null,
           null,
           null,
           null,
           null,
           null,
           null,
           null,
           null,
           null,
           null,
           null,
           null,
           null,
           null,
           null,
           null,
           null,
           null,
           0.736955681025112,
           null,
           null,
           null,
           null,
           null,
           null,
           null,
           null,
           null,
           null,
           null,
           null,
           null,
           null,
           null,
           null,
           null
          ],
          [
           null,
           null,
           null,
           null,
           null,
           null,
           null,
           null,
           null,
           null,
           null,
           null,
           null,
           null,
           null,
           null,
           null,
           null,
           null,
           null,
           0.7330559549961694,
           null,
           null,
           null,
           null,
           null,
           null,
           null,
           null,
           null,
           null,
           null,
           null,
           null,
           null,
           null,
           null
          ],
          [
           null,
           null,
           null,
           null,
           null,
           null,
           null,
           null,
           null,
           null,
           null,
           null,
           null,
           null,
           null,
           null,
           null,
           null,
           null,
           null,
           null,
           0.7355501340321076,
           null,
           null,
           null,
           null,
           null,
           null,
           null,
           null,
           null,
           null,
           null,
           null,
           null,
           null,
           null
          ],
          [
           null,
           null,
           null,
           null,
           null,
           null,
           null,
           null,
           null,
           null,
           null,
           null,
           null,
           null,
           null,
           null,
           null,
           null,
           null,
           null,
           null,
           null,
           null,
           null,
           null,
           null,
           null,
           null,
           null,
           null,
           null,
           null,
           null,
           0.7221044711714647,
           null,
           null,
           null
          ],
          [
           null,
           null,
           null,
           null,
           null,
           null,
           null,
           null,
           null,
           null,
           null,
           null,
           null,
           null,
           null,
           null,
           null,
           0.7354094453087331,
           null,
           null,
           null,
           null,
           null,
           null,
           null,
           null,
           null,
           null,
           null,
           null,
           null,
           null,
           null,
           null,
           null,
           null,
           null
          ],
          [
           null,
           null,
           null,
           null,
           null,
           null,
           null,
           null,
           null,
           null,
           null,
           null,
           null,
           null,
           null,
           null,
           null,
           null,
           null,
           null,
           null,
           null,
           null,
           null,
           null,
           0.7187736469303957,
           null,
           null,
           null,
           null,
           null,
           null,
           null,
           null,
           null,
           null,
           null
          ],
          [
           null,
           null,
           null,
           null,
           null,
           null,
           null,
           null,
           null,
           null,
           null,
           null,
           null,
           null,
           null,
           null,
           null,
           null,
           null,
           null,
           null,
           null,
           null,
           null,
           null,
           null,
           null,
           0.7397243107769423,
           null,
           null,
           null,
           null,
           null,
           null,
           null,
           null,
           null
          ],
          [
           null,
           null,
           0.4104813315339631,
           null,
           null,
           null,
           null,
           null,
           null,
           null,
           null,
           null,
           null,
           null,
           null,
           null,
           null,
           null,
           null,
           null,
           null,
           null,
           null,
           null,
           null,
           null,
           null,
           null,
           null,
           null,
           null,
           null,
           null,
           null,
           null,
           null,
           null
          ],
          [
           null,
           null,
           null,
           null,
           null,
           null,
           null,
           null,
           null,
           null,
           null,
           null,
           0.4927765330677952,
           null,
           null,
           null,
           null,
           null,
           null,
           null,
           null,
           null,
           null,
           null,
           null,
           null,
           null,
           null,
           null,
           null,
           null,
           null,
           null,
           null,
           null,
           null,
           null
          ],
          [
           null,
           null,
           null,
           null,
           null,
           null,
           null,
           null,
           null,
           null,
           null,
           0.7251014997100008,
           null,
           null,
           null,
           null,
           null,
           null,
           null,
           null,
           null,
           null,
           null,
           null,
           null,
           null,
           null,
           null,
           null,
           null,
           null,
           null,
           null,
           null,
           null,
           null,
           null
          ],
          [
           null,
           null,
           null,
           null,
           null,
           null,
           null,
           null,
           null,
           null,
           null,
           null,
           null,
           0.7005870672537338,
           null,
           null,
           null,
           null,
           null,
           null,
           null,
           null,
           null,
           null,
           null,
           null,
           null,
           null,
           null,
           null,
           null,
           null,
           null,
           null,
           null,
           null,
           null
          ],
          [
           null,
           null,
           null,
           null,
           null,
           null,
           null,
           null,
           null,
           null,
           null,
           null,
           null,
           null,
           null,
           0.7303230111071862,
           null,
           null,
           null,
           null,
           null,
           null,
           null,
           null,
           null,
           null,
           null,
           null,
           null,
           null,
           null,
           null,
           null,
           null,
           null,
           null,
           null
          ],
          [
           null,
           null,
           null,
           null,
           null,
           null,
           null,
           null,
           null,
           null,
           null,
           null,
           null,
           null,
           null,
           null,
           null,
           null,
           null,
           null,
           null,
           null,
           null,
           null,
           null,
           null,
           null,
           null,
           null,
           0.7083551689200992,
           null,
           null,
           null,
           null,
           null,
           null,
           null
          ],
          [
           null,
           null,
           null,
           null,
           null,
           null,
           null,
           null,
           null,
           null,
           null,
           null,
           null,
           null,
           null,
           null,
           null,
           null,
           null,
           null,
           null,
           null,
           null,
           null,
           null,
           null,
           null,
           null,
           null,
           null,
           null,
           0.7251143410414643,
           null,
           null,
           null,
           null,
           null
          ],
          [
           null,
           null,
           null,
           null,
           null,
           null,
           null,
           null,
           null,
           0.6437047346296103,
           null,
           null,
           null,
           null,
           null,
           null,
           null,
           null,
           null,
           null,
           null,
           null,
           null,
           null,
           null,
           null,
           null,
           null,
           null,
           null,
           null,
           null,
           null,
           null,
           null,
           null,
           null
          ],
          [
           null,
           null,
           null,
           null,
           null,
           null,
           null,
           null,
           null,
           null,
           null,
           null,
           null,
           null,
           null,
           null,
           null,
           null,
           null,
           null,
           null,
           null,
           null,
           null,
           0.7338085274891545,
           null,
           null,
           null,
           null,
           null,
           null,
           null,
           null,
           null,
           null,
           null,
           null
          ],
          [
           null,
           null,
           null,
           0.20555555555555557,
           null,
           null,
           null,
           null,
           null,
           null,
           null,
           null,
           null,
           null,
           null,
           null,
           null,
           null,
           null,
           null,
           null,
           null,
           null,
           null,
           null,
           null,
           null,
           null,
           null,
           null,
           null,
           null,
           null,
           null,
           null,
           null,
           null
          ],
          [
           null,
           null,
           null,
           null,
           null,
           null,
           null,
           null,
           null,
           null,
           null,
           null,
           null,
           null,
           null,
           null,
           null,
           null,
           null,
           null,
           null,
           null,
           null,
           null,
           null,
           null,
           null,
           null,
           null,
           null,
           null,
           null,
           null,
           null,
           null,
           0.6891311575135104,
           null
          ],
          [
           null,
           null,
           null,
           null,
           null,
           null,
           null,
           null,
           null,
           null,
           null,
           null,
           null,
           null,
           null,
           null,
           null,
           null,
           null,
           null,
           null,
           null,
           null,
           0.7004367588713172,
           null,
           null,
           null,
           null,
           null,
           null,
           null,
           null,
           null,
           null,
           null,
           null,
           null
          ],
          [
           null,
           null,
           null,
           null,
           null,
           null,
           null,
           null,
           null,
           null,
           null,
           null,
           null,
           null,
           null,
           null,
           0.7187234404215536,
           null,
           null,
           null,
           null,
           null,
           null,
           null,
           null,
           null,
           null,
           null,
           null,
           null,
           null,
           null,
           null,
           null,
           null,
           null,
           null
          ],
          [
           null,
           null,
           null,
           null,
           null,
           0.1993127147766323,
           null,
           null,
           null,
           null,
           null,
           null,
           null,
           null,
           null,
           null,
           null,
           null,
           null,
           null,
           null,
           null,
           null,
           null,
           null,
           null,
           null,
           null,
           null,
           null,
           null,
           null,
           null,
           null,
           null,
           null,
           null
          ],
          [
           null,
           null,
           null,
           null,
           null,
           null,
           null,
           null,
           null,
           null,
           null,
           null,
           null,
           null,
           null,
           null,
           null,
           null,
           null,
           null,
           null,
           null,
           0.7410560850537378,
           null,
           null,
           null,
           null,
           null,
           null,
           null,
           null,
           null,
           null,
           null,
           null,
           null,
           null
          ],
          [
           null,
           null,
           null,
           null,
           null,
           null,
           null,
           null,
           null,
           null,
           null,
           null,
           null,
           null,
           null,
           null,
           null,
           null,
           null,
           null,
           null,
           null,
           null,
           null,
           null,
           null,
           null,
           null,
           null,
           null,
           null,
           null,
           null,
           null,
           null,
           null,
           null
          ]
         ]
        },
        {
         "marker": {
          "color": "black",
          "line": {
           "color": "Gray",
           "width": 2
          }
         },
         "mode": "markers",
         "name": "Feasible Trial",
         "showlegend": false,
         "type": "scatter",
         "x": [
          0.000022473858786331558,
          0.000235837375972441,
          0.0000011635393603063947,
          0.00005004345599490854,
          0.000023248275975612407,
          0.0007674171673042348,
          0.0004480420675843755,
          0.0000023094071481095476,
          0.00016987384540062114,
          0.000030718743013361876,
          0.00015302368750292746,
          0.0001547499414756148,
          0.00016762821491891325,
          0.00008025000116876372,
          0.0004076065453883772,
          0.000009041973441856718,
          0.00028675383501458807,
          0.0009627796574239111,
          0.00007604936940612161,
          0.00011931169586112166,
          0.000007694072728756075,
          0.00010564926287579155,
          0.000287529810936762,
          0.000054084277920453076,
          0.0002662989058111937,
          0.0000120628423169246,
          0.00010495226455352575,
          0.0005562781120729123,
          0.0000495490175608353,
          0.00022810096153700054,
          0.000017689390716193458,
          0.00011770387178985493,
          0.00009393652218769055,
          0.0000567961592098049,
          0.000046059257159255764
         ],
         "xaxis": "x15",
         "y": [
          0.05554937256711111,
          0.16238731348221075,
          0.1156713724500694,
          0.1731740948385147,
          0.09183897870762982,
          0.09250840338104498,
          0.0986729597160335,
          0.1731643507450079,
          0.16134343558461572,
          0.2291435960126414,
          0.2972137704934936,
          0.28061157532406417,
          0.23417605472778696,
          0.2818320666291123,
          0.22251626560325732,
          0.1378090102336979,
          0.20498071047682687,
          0.26062489815836487,
          0.19866896646462542,
          0.15064557057690897,
          0.25114280027181346,
          0.1453264456086812,
          0.13387570402654014,
          0.18833485064608974,
          0.12800229872034904,
          0.2945510490437179,
          0.0651886095045491,
          0.15349679728788918,
          0.1877705161672686,
          0.06385206243116642,
          0.11174956415258834,
          0.1478180141067793,
          0.15590285977199148,
          0.11465077494664683,
          0.12046325878870909
         ],
         "yaxis": "y15"
        },
        {
         "colorbar": {
          "title": {
           "text": "Objective Value"
          }
         },
         "colorscale": [
          [
           0,
           "rgb(247,251,255)"
          ],
          [
           0.125,
           "rgb(222,235,247)"
          ],
          [
           0.25,
           "rgb(198,219,239)"
          ],
          [
           0.375,
           "rgb(158,202,225)"
          ],
          [
           0.5,
           "rgb(107,174,214)"
          ],
          [
           0.625,
           "rgb(66,146,198)"
          ],
          [
           0.75,
           "rgb(33,113,181)"
          ],
          [
           0.875,
           "rgb(8,81,156)"
          ],
          [
           1,
           "rgb(8,48,107)"
          ]
         ],
         "connectgaps": true,
         "contours": {
          "coloring": "heatmap"
         },
         "hoverinfo": "none",
         "line": {
          "smoothing": 1.3
         },
         "reversescale": false,
         "showscale": false,
         "type": "contour",
         "x": [
          8.315603778470874e-7,
          0.0000011635393603063947,
          0.0000023094071481095476,
          0.000007694072728756075,
          0.000009041973441856718,
          0.0000120628423169246,
          0.000017689390716193458,
          0.000022473858786331558,
          0.000023248275975612407,
          0.000030718743013361876,
          0.000046059257159255764,
          0.0000495490175608353,
          0.00005004345599490854,
          0.000054084277920453076,
          0.0000567961592098049,
          0.00007604936940612161,
          0.00008025000116876372,
          0.00009393652218769055,
          0.00010495226455352575,
          0.00010564926287579155,
          0.00011770387178985493,
          0.00011931169586112166,
          0.00015302368750292746,
          0.0001547499414756148,
          0.00016762821491891325,
          0.00016987384540062114,
          0.00022810096153700054,
          0.000235837375972441,
          0.0002662989058111937,
          0.00028675383501458807,
          0.000287529810936762,
          0.0004076065453883772,
          0.0004480420675843755,
          0.0005562781120729123,
          0.0007674171673042348,
          0.0009627796574239111,
          0.001347144544831864
         ],
         "xaxis": "x20",
         "y": [
          0.047570682927376505,
          0.050039131186963744,
          0.052401396449164334,
          0.05672700459303386,
          0.057854034295215365,
          0.05851597962389249,
          0.06330557333773223,
          0.06389674553083408,
          0.06711093143267129,
          0.06766958994432284,
          0.0710547738303259,
          0.0735411454485706,
          0.07398456754725026,
          0.07555304134674155,
          0.07821175835909654,
          0.07990923174589054,
          0.08170980573983573,
          0.08221136191243872,
          0.0826595204037524,
          0.083088237668143,
          0.08537928994950458,
          0.08537947874638763,
          0.08600847328552844,
          0.08643159140122408,
          0.08791295233242938,
          0.08820431595805273,
          0.08949453778337746,
          0.08988517994586956,
          0.09206698211614449,
          0.09349698775914125,
          0.09349754729562262,
          0.09366006862483765,
          0.09680690346663146,
          0.09691956847692654,
          0.09937082675952327,
          0.0994080963787085,
          0.10187654463829574
         ],
         "yaxis": "y20",
         "z": [
          [
           null,
           null,
           null,
           null,
           null,
           null,
           null,
           null,
           null,
           null,
           null,
           null,
           null,
           null,
           null,
           null,
           null,
           null,
           null,
           null,
           null,
           null,
           null,
           null,
           null,
           null,
           null,
           null,
           null,
           null,
           null,
           null,
           null,
           null,
           null,
           null,
           null
          ],
          [
           null,
           null,
           null,
           null,
           null,
           null,
           null,
           null,
           null,
           null,
           null,
           null,
           null,
           null,
           null,
           null,
           null,
           null,
           null,
           null,
           null,
           null,
           null,
           null,
           0.7338085274891545,
           null,
           null,
           null,
           null,
           null,
           null,
           null,
           null,
           null,
           null,
           null,
           null
          ],
          [
           null,
           null,
           null,
           null,
           null,
           null,
           null,
           null,
           null,
           null,
           null,
           null,
           null,
           null,
           null,
           null,
           null,
           null,
           null,
           null,
           null,
           null,
           null,
           null,
           null,
           null,
           null,
           null,
           null,
           0.7083551689200992,
           null,
           null,
           null,
           null,
           null,
           null,
           null
          ],
          [
           null,
           null,
           null,
           null,
           null,
           null,
           null,
           null,
           null,
           null,
           null,
           null,
           null,
           null,
           null,
           null,
           null,
           null,
           null,
           null,
           null,
           null,
           null,
           0.7004367588713172,
           null,
           null,
           null,
           null,
           null,
           null,
           null,
           null,
           null,
           null,
           null,
           null,
           null
          ],
          [
           null,
           null,
           null,
           null,
           null,
           null,
           null,
           null,
           null,
           null,
           null,
           null,
           null,
           null,
           null,
           null,
           null,
           null,
           null,
           null,
           null,
           null,
           0.7410560850537378,
           null,
           null,
           null,
           null,
           null,
           null,
           null,
           null,
           null,
           null,
           null,
           null,
           null,
           null
          ],
          [
           null,
           null,
           null,
           null,
           null,
           null,
           null,
           null,
           null,
           null,
           null,
           null,
           null,
           null,
           null,
           0.7303230111071862,
           null,
           null,
           null,
           null,
           null,
           null,
           null,
           null,
           null,
           null,
           null,
           null,
           null,
           null,
           null,
           null,
           null,
           null,
           null,
           null,
           null
          ],
          [
           null,
           null,
           null,
           null,
           null,
           null,
           null,
           null,
           null,
           null,
           null,
           null,
           null,
           null,
           null,
           null,
           0.7187234404215536,
           null,
           null,
           null,
           null,
           null,
           null,
           null,
           null,
           null,
           null,
           null,
           null,
           null,
           null,
           null,
           null,
           null,
           null,
           null,
           null
          ],
          [
           null,
           null,
           null,
           null,
           0.20952380952380953,
           null,
           null,
           null,
           null,
           null,
           null,
           null,
           null,
           null,
           null,
           null,
           null,
           null,
           null,
           null,
           null,
           null,
           null,
           null,
           null,
           null,
           null,
           null,
           null,
           null,
           null,
           null,
           null,
           null,
           null,
           null,
           null
          ],
          [
           null,
           null,
           null,
           0.20555555555555557,
           null,
           null,
           null,
           null,
           null,
           null,
           null,
           null,
           null,
           null,
           null,
           null,
           null,
           null,
           null,
           null,
           null,
           null,
           null,
           null,
           null,
           null,
           null,
           null,
           null,
           null,
           null,
           null,
           null,
           null,
           null,
           null,
           null
          ],
          [
           null,
           null,
           null,
           null,
           null,
           null,
           null,
           null,
           null,
           null,
           null,
           null,
           null,
           null,
           null,
           null,
           null,
           null,
           null,
           null,
           null,
           null,
           null,
           null,
           null,
           null,
           null,
           null,
           null,
           null,
           null,
           0.7251143410414643,
           null,
           null,
           null,
           null,
           null
          ],
          [
           null,
           null,
           null,
           null,
           null,
           null,
           null,
           null,
           null,
           null,
           null,
           0.7251014997100008,
           null,
           null,
           null,
           null,
           null,
           null,
           null,
           null,
           null,
           null,
           null,
           null,
           null,
           null,
           null,
           null,
           null,
           null,
           null,
           null,
           null,
           null,
           null,
           null,
           null
          ],
          [
           null,
           null,
           0.4104813315339631,
           null,
           null,
           null,
           null,
           null,
           null,
           null,
           null,
           null,
           null,
           null,
           null,
           null,
           null,
           null,
           null,
           null,
           null,
           null,
           null,
           null,
           null,
           null,
           null,
           null,
           null,
           null,
           null,
           null,
           null,
           null,
           null,
           null,
           null
          ],
          [
           null,
           null,
           null,
           null,
           null,
           null,
           null,
           null,
           null,
           null,
           null,
           null,
           null,
           null,
           null,
           null,
           null,
           null,
           null,
           null,
           null,
           null,
           null,
           null,
           null,
           null,
           null,
           null,
           null,
           null,
           null,
           null,
           0.7075079433569998,
           null,
           null,
           null,
           null
          ],
          [
           null,
           null,
           null,
           null,
           null,
           null,
           null,
           null,
           0.2048780487804878,
           null,
           null,
           null,
           null,
           null,
           null,
           null,
           null,
           null,
           null,
           null,
           null,
           null,
           null,
           null,
           null,
           null,
           null,
           null,
           null,
           null,
           null,
           null,
           null,
           null,
           null,
           null,
           null
          ],
          [
           null,
           null,
           null,
           null,
           null,
           null,
           null,
           null,
           null,
           null,
           null,
           null,
           null,
           null,
           null,
           null,
           null,
           null,
           null,
           null,
           null,
           null,
           null,
           null,
           null,
           0.7187736469303957,
           null,
           null,
           null,
           null,
           null,
           null,
           null,
           null,
           null,
           null,
           null
          ],
          [
           null,
           null,
           null,
           null,
           null,
           null,
           null,
           null,
           null,
           0.6437047346296103,
           null,
           null,
           null,
           null,
           null,
           null,
           null,
           null,
           null,
           null,
           null,
           null,
           null,
           null,
           null,
           null,
           null,
           null,
           null,
           null,
           null,
           null,
           null,
           null,
           null,
           null,
           null
          ],
          [
           null,
           null,
           null,
           null,
           null,
           null,
           null,
           null,
           null,
           null,
           null,
           null,
           null,
           null,
           null,
           null,
           null,
           null,
           null,
           null,
           null,
           null,
           null,
           null,
           null,
           null,
           0.7247416953493858,
           null,
           null,
           null,
           null,
           null,
           null,
           null,
           null,
           null,
           null
          ],
          [
           null,
           null,
           null,
           null,
           null,
           0.1993127147766323,
           null,
           null,
           null,
           null,
           null,
           null,
           null,
           null,
           null,
           null,
           null,
           null,
           null,
           null,
           null,
           null,
           null,
           null,
           null,
           null,
           null,
           null,
           null,
           null,
           null,
           null,
           null,
           null,
           null,
           null,
           null
          ],
          [
           null,
           null,
           null,
           null,
           null,
           null,
           null,
           null,
           null,
           null,
           null,
           null,
           null,
           null,
           0.736661712964727,
           null,
           null,
           null,
           null,
           null,
           null,
           null,
           null,
           null,
           null,
           null,
           null,
           null,
           null,
           null,
           null,
           null,
           null,
           null,
           null,
           null,
           null
          ],
          [
           null,
           null,
           null,
           null,
           null,
           null,
           null,
           null,
           null,
           null,
           0.743672415096469,
           null,
           null,
           null,
           null,
           null,
           null,
           null,
           null,
           null,
           null,
           null,
           null,
           null,
           null,
           null,
           null,
           null,
           null,
           null,
           null,
           null,
           null,
           null,
           null,
           null,
           null
          ],
          [
           null,
           0.03487253487253487,
           null,
           null,
           null,
           null,
           null,
           null,
           null,
           null,
           null,
           null,
           null,
           null,
           null,
           null,
           null,
           null,
           null,
           null,
           null,
           null,
           null,
           null,
           null,
           null,
           null,
           null,
           null,
           null,
           null,
           null,
           null,
           null,
           null,
           null,
           null
          ],
          [
           null,
           null,
           null,
           null,
           null,
           null,
           null,
           null,
           null,
           null,
           null,
           null,
           0.4927765330677952,
           null,
           null,
           null,
           null,
           null,
           null,
           null,
           null,
           null,
           null,
           null,
           null,
           null,
           null,
           null,
           null,
           null,
           null,
           null,
           null,
           null,
           null,
           null,
           null
          ],
          [
           null,
           null,
           null,
           null,
           null,
           null,
           null,
           null,
           null,
           null,
           null,
           null,
           null,
           null,
           null,
           null,
           null,
           null,
           null,
           null,
           null,
           0.7355501340321076,
           null,
           null,
           null,
           null,
           null,
           null,
           null,
           null,
           null,
           null,
           null,
           null,
           null,
           null,
           null
          ],
          [
           null,
           null,
           null,
           null,
           null,
           null,
           null,
           null,
           null,
           null,
           null,
           null,
           null,
           null,
           null,
           null,
           null,
           null,
           null,
           null,
           0.7330559549961694,
           null,
           null,
           null,
           null,
           null,
           null,
           null,
           null,
           null,
           null,
           null,
           null,
           null,
           null,
           null,
           null
          ],
          [
           null,
           null,
           null,
           null,
           null,
           null,
           null,
           null,
           null,
           null,
           null,
           null,
           null,
           null,
           null,
           null,
           null,
           null,
           null,
           0.736955681025112,
           null,
           null,
           null,
           null,
           null,
           null,
           null,
           null,
           null,
           null,
           null,
           null,
           null,
           null,
           null,
           null,
           null
          ],
          [
           null,
           null,
           null,
           null,
           null,
           null,
           null,
           null,
           null,
           null,
           null,
           null,
           null,
           null,
           null,
           null,
           null,
           0.7354094453087331,
           null,
           null,
           null,
           null,
           null,
           null,
           null,
           null,
           null,
           null,
           null,
           null,
           null,
           null,
           null,
           null,
           null,
           null,
           null
          ],
          [
           null,
           null,
           null,
           null,
           null,
           null,
           null,
           null,
           null,
           null,
           null,
           null,
           null,
           null,
           null,
           null,
           null,
           null,
           null,
           null,
           null,
           null,
           null,
           null,
           null,
           null,
           null,
           null,
           0.7288287315009699,
           null,
           null,
           null,
           null,
           null,
           null,
           null,
           null
          ],
          [
           null,
           null,
           null,
           null,
           null,
           null,
           null,
           null,
           null,
           null,
           null,
           null,
           null,
           null,
           null,
           null,
           null,
           null,
           null,
           null,
           null,
           null,
           null,
           null,
           null,
           null,
           null,
           null,
           null,
           null,
           null,
           null,
           null,
           0.7221044711714647,
           null,
           null,
           null
          ],
          [
           null,
           null,
           null,
           null,
           null,
           null,
           null,
           null,
           null,
           null,
           null,
           null,
           null,
           null,
           null,
           null,
           null,
           null,
           null,
           null,
           null,
           null,
           null,
           null,
           null,
           null,
           null,
           null,
           null,
           null,
           0.7069358178053831,
           null,
           null,
           null,
           null,
           null,
           null
          ],
          [
           null,
           null,
           null,
           null,
           null,
           null,
           null,
           null,
           null,
           null,
           null,
           null,
           null,
           null,
           null,
           null,
           null,
           null,
           null,
           null,
           null,
           null,
           null,
           null,
           null,
           null,
           null,
           null,
           null,
           null,
           null,
           null,
           null,
           null,
           0.7178831099783266,
           null,
           null
          ],
          [
           null,
           null,
           null,
           null,
           null,
           null,
           null,
           null,
           null,
           null,
           null,
           null,
           null,
           null,
           null,
           null,
           null,
           null,
           null,
           null,
           null,
           null,
           null,
           null,
           null,
           null,
           null,
           0.7397243107769423,
           null,
           null,
           null,
           null,
           null,
           null,
           null,
           null,
           null
          ],
          [
           null,
           null,
           null,
           null,
           null,
           null,
           null,
           null,
           null,
           null,
           null,
           null,
           null,
           null,
           null,
           null,
           null,
           null,
           null,
           null,
           null,
           null,
           null,
           null,
           null,
           null,
           null,
           null,
           null,
           null,
           null,
           null,
           null,
           null,
           null,
           0.6891311575135104,
           null
          ],
          [
           null,
           null,
           null,
           null,
           null,
           null,
           0.19865319865319866,
           null,
           null,
           null,
           null,
           null,
           null,
           null,
           null,
           null,
           null,
           null,
           null,
           null,
           null,
           null,
           null,
           null,
           null,
           null,
           null,
           null,
           null,
           null,
           null,
           null,
           null,
           null,
           null,
           null,
           null
          ],
          [
           null,
           null,
           null,
           null,
           null,
           null,
           null,
           null,
           null,
           null,
           null,
           null,
           null,
           null,
           null,
           null,
           null,
           null,
           0.6182821118991332,
           null,
           null,
           null,
           null,
           null,
           null,
           null,
           null,
           null,
           null,
           null,
           null,
           null,
           null,
           null,
           null,
           null,
           null
          ],
          [
           null,
           null,
           null,
           null,
           null,
           null,
           null,
           0.2582566916083945,
           null,
           null,
           null,
           null,
           null,
           null,
           null,
           null,
           null,
           null,
           null,
           null,
           null,
           null,
           null,
           null,
           null,
           null,
           null,
           null,
           null,
           null,
           null,
           null,
           null,
           null,
           null,
           null,
           null
          ],
          [
           null,
           null,
           null,
           null,
           null,
           null,
           null,
           null,
           null,
           null,
           null,
           null,
           null,
           0.7005870672537338,
           null,
           null,
           null,
           null,
           null,
           null,
           null,
           null,
           null,
           null,
           null,
           null,
           null,
           null,
           null,
           null,
           null,
           null,
           null,
           null,
           null,
           null,
           null
          ],
          [
           null,
           null,
           null,
           null,
           null,
           null,
           null,
           null,
           null,
           null,
           null,
           null,
           null,
           null,
           null,
           null,
           null,
           null,
           null,
           null,
           null,
           null,
           null,
           null,
           null,
           null,
           null,
           null,
           null,
           null,
           null,
           null,
           null,
           null,
           null,
           null,
           null
          ]
         ]
        },
        {
         "marker": {
          "color": "black",
          "line": {
           "color": "Gray",
           "width": 2
          }
         },
         "mode": "markers",
         "name": "Feasible Trial",
         "showlegend": false,
         "type": "scatter",
         "x": [
          0.000022473858786331558,
          0.000235837375972441,
          0.0000011635393603063947,
          0.00005004345599490854,
          0.000023248275975612407,
          0.0007674171673042348,
          0.0004480420675843755,
          0.0000023094071481095476,
          0.00016987384540062114,
          0.000030718743013361876,
          0.00015302368750292746,
          0.0001547499414756148,
          0.00016762821491891325,
          0.00008025000116876372,
          0.0004076065453883772,
          0.000009041973441856718,
          0.00028675383501458807,
          0.0009627796574239111,
          0.00007604936940612161,
          0.00011931169586112166,
          0.000007694072728756075,
          0.00010564926287579155,
          0.000287529810936762,
          0.000054084277920453076,
          0.0002662989058111937,
          0.0000120628423169246,
          0.00010495226455352575,
          0.0005562781120729123,
          0.0000495490175608353,
          0.00022810096153700054,
          0.000017689390716193458,
          0.00011770387178985493,
          0.00009393652218769055,
          0.0000567961592098049,
          0.000046059257159255764
         ],
         "xaxis": "x20",
         "y": [
          0.09937082675952327,
          0.09349754729562262,
          0.08537928994950458,
          0.08537947874638763,
          0.07555304134674155,
          0.09349698775914125,
          0.07398456754725026,
          0.0735411454485706,
          0.07821175835909654,
          0.07990923174589054,
          0.057854034295215365,
          0.05672700459303386,
          0.050039131186963744,
          0.06330557333773223,
          0.06766958994432284,
          0.06389674553083408,
          0.052401396449164334,
          0.09366006862483765,
          0.05851597962389249,
          0.08600847328552844,
          0.06711093143267129,
          0.08791295233242938,
          0.09206698211614449,
          0.0994080963787085,
          0.08949453778337746,
          0.08221136191243872,
          0.09691956847692654,
          0.08988517994586956,
          0.0710547738303259,
          0.08170980573983573,
          0.09680690346663146,
          0.08643159140122408,
          0.08820431595805273,
          0.0826595204037524,
          0.083088237668143
         ],
         "yaxis": "y20"
        },
        {
         "type": "scatter",
         "xaxis": "x25",
         "yaxis": "y25"
        }
       ],
       "layout": {
        "template": {
         "data": {
          "bar": [
           {
            "error_x": {
             "color": "#2a3f5f"
            },
            "error_y": {
             "color": "#2a3f5f"
            },
            "marker": {
             "line": {
              "color": "#E5ECF6",
              "width": 0.5
             },
             "pattern": {
              "fillmode": "overlay",
              "size": 10,
              "solidity": 0.2
             }
            },
            "type": "bar"
           }
          ],
          "barpolar": [
           {
            "marker": {
             "line": {
              "color": "#E5ECF6",
              "width": 0.5
             },
             "pattern": {
              "fillmode": "overlay",
              "size": 10,
              "solidity": 0.2
             }
            },
            "type": "barpolar"
           }
          ],
          "carpet": [
           {
            "aaxis": {
             "endlinecolor": "#2a3f5f",
             "gridcolor": "white",
             "linecolor": "white",
             "minorgridcolor": "white",
             "startlinecolor": "#2a3f5f"
            },
            "baxis": {
             "endlinecolor": "#2a3f5f",
             "gridcolor": "white",
             "linecolor": "white",
             "minorgridcolor": "white",
             "startlinecolor": "#2a3f5f"
            },
            "type": "carpet"
           }
          ],
          "choropleth": [
           {
            "colorbar": {
             "outlinewidth": 0,
             "ticks": ""
            },
            "type": "choropleth"
           }
          ],
          "contour": [
           {
            "colorbar": {
             "outlinewidth": 0,
             "ticks": ""
            },
            "colorscale": [
             [
              0,
              "#0d0887"
             ],
             [
              0.1111111111111111,
              "#46039f"
             ],
             [
              0.2222222222222222,
              "#7201a8"
             ],
             [
              0.3333333333333333,
              "#9c179e"
             ],
             [
              0.4444444444444444,
              "#bd3786"
             ],
             [
              0.5555555555555556,
              "#d8576b"
             ],
             [
              0.6666666666666666,
              "#ed7953"
             ],
             [
              0.7777777777777778,
              "#fb9f3a"
             ],
             [
              0.8888888888888888,
              "#fdca26"
             ],
             [
              1,
              "#f0f921"
             ]
            ],
            "type": "contour"
           }
          ],
          "contourcarpet": [
           {
            "colorbar": {
             "outlinewidth": 0,
             "ticks": ""
            },
            "type": "contourcarpet"
           }
          ],
          "heatmap": [
           {
            "colorbar": {
             "outlinewidth": 0,
             "ticks": ""
            },
            "colorscale": [
             [
              0,
              "#0d0887"
             ],
             [
              0.1111111111111111,
              "#46039f"
             ],
             [
              0.2222222222222222,
              "#7201a8"
             ],
             [
              0.3333333333333333,
              "#9c179e"
             ],
             [
              0.4444444444444444,
              "#bd3786"
             ],
             [
              0.5555555555555556,
              "#d8576b"
             ],
             [
              0.6666666666666666,
              "#ed7953"
             ],
             [
              0.7777777777777778,
              "#fb9f3a"
             ],
             [
              0.8888888888888888,
              "#fdca26"
             ],
             [
              1,
              "#f0f921"
             ]
            ],
            "type": "heatmap"
           }
          ],
          "heatmapgl": [
           {
            "colorbar": {
             "outlinewidth": 0,
             "ticks": ""
            },
            "colorscale": [
             [
              0,
              "#0d0887"
             ],
             [
              0.1111111111111111,
              "#46039f"
             ],
             [
              0.2222222222222222,
              "#7201a8"
             ],
             [
              0.3333333333333333,
              "#9c179e"
             ],
             [
              0.4444444444444444,
              "#bd3786"
             ],
             [
              0.5555555555555556,
              "#d8576b"
             ],
             [
              0.6666666666666666,
              "#ed7953"
             ],
             [
              0.7777777777777778,
              "#fb9f3a"
             ],
             [
              0.8888888888888888,
              "#fdca26"
             ],
             [
              1,
              "#f0f921"
             ]
            ],
            "type": "heatmapgl"
           }
          ],
          "histogram": [
           {
            "marker": {
             "pattern": {
              "fillmode": "overlay",
              "size": 10,
              "solidity": 0.2
             }
            },
            "type": "histogram"
           }
          ],
          "histogram2d": [
           {
            "colorbar": {
             "outlinewidth": 0,
             "ticks": ""
            },
            "colorscale": [
             [
              0,
              "#0d0887"
             ],
             [
              0.1111111111111111,
              "#46039f"
             ],
             [
              0.2222222222222222,
              "#7201a8"
             ],
             [
              0.3333333333333333,
              "#9c179e"
             ],
             [
              0.4444444444444444,
              "#bd3786"
             ],
             [
              0.5555555555555556,
              "#d8576b"
             ],
             [
              0.6666666666666666,
              "#ed7953"
             ],
             [
              0.7777777777777778,
              "#fb9f3a"
             ],
             [
              0.8888888888888888,
              "#fdca26"
             ],
             [
              1,
              "#f0f921"
             ]
            ],
            "type": "histogram2d"
           }
          ],
          "histogram2dcontour": [
           {
            "colorbar": {
             "outlinewidth": 0,
             "ticks": ""
            },
            "colorscale": [
             [
              0,
              "#0d0887"
             ],
             [
              0.1111111111111111,
              "#46039f"
             ],
             [
              0.2222222222222222,
              "#7201a8"
             ],
             [
              0.3333333333333333,
              "#9c179e"
             ],
             [
              0.4444444444444444,
              "#bd3786"
             ],
             [
              0.5555555555555556,
              "#d8576b"
             ],
             [
              0.6666666666666666,
              "#ed7953"
             ],
             [
              0.7777777777777778,
              "#fb9f3a"
             ],
             [
              0.8888888888888888,
              "#fdca26"
             ],
             [
              1,
              "#f0f921"
             ]
            ],
            "type": "histogram2dcontour"
           }
          ],
          "mesh3d": [
           {
            "colorbar": {
             "outlinewidth": 0,
             "ticks": ""
            },
            "type": "mesh3d"
           }
          ],
          "parcoords": [
           {
            "line": {
             "colorbar": {
              "outlinewidth": 0,
              "ticks": ""
             }
            },
            "type": "parcoords"
           }
          ],
          "pie": [
           {
            "automargin": true,
            "type": "pie"
           }
          ],
          "scatter": [
           {
            "fillpattern": {
             "fillmode": "overlay",
             "size": 10,
             "solidity": 0.2
            },
            "type": "scatter"
           }
          ],
          "scatter3d": [
           {
            "line": {
             "colorbar": {
              "outlinewidth": 0,
              "ticks": ""
             }
            },
            "marker": {
             "colorbar": {
              "outlinewidth": 0,
              "ticks": ""
             }
            },
            "type": "scatter3d"
           }
          ],
          "scattercarpet": [
           {
            "marker": {
             "colorbar": {
              "outlinewidth": 0,
              "ticks": ""
             }
            },
            "type": "scattercarpet"
           }
          ],
          "scattergeo": [
           {
            "marker": {
             "colorbar": {
              "outlinewidth": 0,
              "ticks": ""
             }
            },
            "type": "scattergeo"
           }
          ],
          "scattergl": [
           {
            "marker": {
             "colorbar": {
              "outlinewidth": 0,
              "ticks": ""
             }
            },
            "type": "scattergl"
           }
          ],
          "scattermapbox": [
           {
            "marker": {
             "colorbar": {
              "outlinewidth": 0,
              "ticks": ""
             }
            },
            "type": "scattermapbox"
           }
          ],
          "scatterpolar": [
           {
            "marker": {
             "colorbar": {
              "outlinewidth": 0,
              "ticks": ""
             }
            },
            "type": "scatterpolar"
           }
          ],
          "scatterpolargl": [
           {
            "marker": {
             "colorbar": {
              "outlinewidth": 0,
              "ticks": ""
             }
            },
            "type": "scatterpolargl"
           }
          ],
          "scatterternary": [
           {
            "marker": {
             "colorbar": {
              "outlinewidth": 0,
              "ticks": ""
             }
            },
            "type": "scatterternary"
           }
          ],
          "surface": [
           {
            "colorbar": {
             "outlinewidth": 0,
             "ticks": ""
            },
            "colorscale": [
             [
              0,
              "#0d0887"
             ],
             [
              0.1111111111111111,
              "#46039f"
             ],
             [
              0.2222222222222222,
              "#7201a8"
             ],
             [
              0.3333333333333333,
              "#9c179e"
             ],
             [
              0.4444444444444444,
              "#bd3786"
             ],
             [
              0.5555555555555556,
              "#d8576b"
             ],
             [
              0.6666666666666666,
              "#ed7953"
             ],
             [
              0.7777777777777778,
              "#fb9f3a"
             ],
             [
              0.8888888888888888,
              "#fdca26"
             ],
             [
              1,
              "#f0f921"
             ]
            ],
            "type": "surface"
           }
          ],
          "table": [
           {
            "cells": {
             "fill": {
              "color": "#EBF0F8"
             },
             "line": {
              "color": "white"
             }
            },
            "header": {
             "fill": {
              "color": "#C8D4E3"
             },
             "line": {
              "color": "white"
             }
            },
            "type": "table"
           }
          ]
         },
         "layout": {
          "annotationdefaults": {
           "arrowcolor": "#2a3f5f",
           "arrowhead": 0,
           "arrowwidth": 1
          },
          "autotypenumbers": "strict",
          "coloraxis": {
           "colorbar": {
            "outlinewidth": 0,
            "ticks": ""
           }
          },
          "colorscale": {
           "diverging": [
            [
             0,
             "#8e0152"
            ],
            [
             0.1,
             "#c51b7d"
            ],
            [
             0.2,
             "#de77ae"
            ],
            [
             0.3,
             "#f1b6da"
            ],
            [
             0.4,
             "#fde0ef"
            ],
            [
             0.5,
             "#f7f7f7"
            ],
            [
             0.6,
             "#e6f5d0"
            ],
            [
             0.7,
             "#b8e186"
            ],
            [
             0.8,
             "#7fbc41"
            ],
            [
             0.9,
             "#4d9221"
            ],
            [
             1,
             "#276419"
            ]
           ],
           "sequential": [
            [
             0,
             "#0d0887"
            ],
            [
             0.1111111111111111,
             "#46039f"
            ],
            [
             0.2222222222222222,
             "#7201a8"
            ],
            [
             0.3333333333333333,
             "#9c179e"
            ],
            [
             0.4444444444444444,
             "#bd3786"
            ],
            [
             0.5555555555555556,
             "#d8576b"
            ],
            [
             0.6666666666666666,
             "#ed7953"
            ],
            [
             0.7777777777777778,
             "#fb9f3a"
            ],
            [
             0.8888888888888888,
             "#fdca26"
            ],
            [
             1,
             "#f0f921"
            ]
           ],
           "sequentialminus": [
            [
             0,
             "#0d0887"
            ],
            [
             0.1111111111111111,
             "#46039f"
            ],
            [
             0.2222222222222222,
             "#7201a8"
            ],
            [
             0.3333333333333333,
             "#9c179e"
            ],
            [
             0.4444444444444444,
             "#bd3786"
            ],
            [
             0.5555555555555556,
             "#d8576b"
            ],
            [
             0.6666666666666666,
             "#ed7953"
            ],
            [
             0.7777777777777778,
             "#fb9f3a"
            ],
            [
             0.8888888888888888,
             "#fdca26"
            ],
            [
             1,
             "#f0f921"
            ]
           ]
          },
          "colorway": [
           "#636efa",
           "#EF553B",
           "#00cc96",
           "#ab63fa",
           "#FFA15A",
           "#19d3f3",
           "#FF6692",
           "#B6E880",
           "#FF97FF",
           "#FECB52"
          ],
          "font": {
           "color": "#2a3f5f"
          },
          "geo": {
           "bgcolor": "white",
           "lakecolor": "white",
           "landcolor": "#E5ECF6",
           "showlakes": true,
           "showland": true,
           "subunitcolor": "white"
          },
          "hoverlabel": {
           "align": "left"
          },
          "hovermode": "closest",
          "mapbox": {
           "style": "light"
          },
          "paper_bgcolor": "white",
          "plot_bgcolor": "#E5ECF6",
          "polar": {
           "angularaxis": {
            "gridcolor": "white",
            "linecolor": "white",
            "ticks": ""
           },
           "bgcolor": "#E5ECF6",
           "radialaxis": {
            "gridcolor": "white",
            "linecolor": "white",
            "ticks": ""
           }
          },
          "scene": {
           "xaxis": {
            "backgroundcolor": "#E5ECF6",
            "gridcolor": "white",
            "gridwidth": 2,
            "linecolor": "white",
            "showbackground": true,
            "ticks": "",
            "zerolinecolor": "white"
           },
           "yaxis": {
            "backgroundcolor": "#E5ECF6",
            "gridcolor": "white",
            "gridwidth": 2,
            "linecolor": "white",
            "showbackground": true,
            "ticks": "",
            "zerolinecolor": "white"
           },
           "zaxis": {
            "backgroundcolor": "#E5ECF6",
            "gridcolor": "white",
            "gridwidth": 2,
            "linecolor": "white",
            "showbackground": true,
            "ticks": "",
            "zerolinecolor": "white"
           }
          },
          "shapedefaults": {
           "line": {
            "color": "#2a3f5f"
           }
          },
          "ternary": {
           "aaxis": {
            "gridcolor": "white",
            "linecolor": "white",
            "ticks": ""
           },
           "baxis": {
            "gridcolor": "white",
            "linecolor": "white",
            "ticks": ""
           },
           "bgcolor": "#E5ECF6",
           "caxis": {
            "gridcolor": "white",
            "linecolor": "white",
            "ticks": ""
           }
          },
          "title": {
           "x": 0.05
          },
          "xaxis": {
           "automargin": true,
           "gridcolor": "white",
           "linecolor": "white",
           "ticks": "",
           "title": {
            "standoff": 15
           },
           "zerolinecolor": "white",
           "zerolinewidth": 2
          },
          "yaxis": {
           "automargin": true,
           "gridcolor": "white",
           "linecolor": "white",
           "ticks": "",
           "title": {
            "standoff": 15
           },
           "zerolinecolor": "white",
           "zerolinewidth": 2
          }
         }
        },
        "title": {
         "text": "Contour Plot"
        },
        "xaxis": {
         "anchor": "y",
         "domain": [
          0,
          0.16799999999999998
         ],
         "matches": "x21",
         "range": [
          95,
          205
         ],
         "showticklabels": false
        },
        "xaxis10": {
         "anchor": "y10",
         "domain": [
          0.832,
          1
         ],
         "matches": "x25",
         "range": [
          -6.080106212092276,
          -2.8705858031968705
         ],
         "showticklabels": false,
         "type": "log"
        },
        "xaxis11": {
         "anchor": "y11",
         "domain": [
          0,
          0.16799999999999998
         ],
         "matches": "x21",
         "range": [
          95,
          205
         ],
         "showticklabels": false
        },
        "xaxis12": {
         "anchor": "y12",
         "domain": [
          0.208,
          0.376
         ],
         "matches": "x22",
         "range": [
          54.4,
          265.6
         ],
         "showticklabels": false
        },
        "xaxis13": {
         "anchor": "y13",
         "domain": [
          0.416,
          0.584
         ],
         "matches": "x23",
         "range": [
          0.043466152670791985,
          0.30929699038981273
         ],
         "showticklabels": false
        },
        "xaxis14": {
         "anchor": "y14",
         "domain": [
          0.624,
          0.792
         ],
         "matches": "x24",
         "range": [
          0.047570682927376505,
          0.10187654463829574
         ],
         "showticklabels": false
        },
        "xaxis15": {
         "anchor": "y15",
         "domain": [
          0.832,
          1
         ],
         "matches": "x25",
         "range": [
          -6.080106212092276,
          -2.8705858031968705
         ],
         "showticklabels": false,
         "type": "log"
        },
        "xaxis16": {
         "anchor": "y16",
         "domain": [
          0,
          0.16799999999999998
         ],
         "matches": "x21",
         "range": [
          95,
          205
         ],
         "showticklabels": false
        },
        "xaxis17": {
         "anchor": "y17",
         "domain": [
          0.208,
          0.376
         ],
         "matches": "x22",
         "range": [
          54.4,
          265.6
         ],
         "showticklabels": false
        },
        "xaxis18": {
         "anchor": "y18",
         "domain": [
          0.416,
          0.584
         ],
         "matches": "x23",
         "range": [
          0.043466152670791985,
          0.30929699038981273
         ],
         "showticklabels": false
        },
        "xaxis19": {
         "anchor": "y19",
         "domain": [
          0.624,
          0.792
         ],
         "matches": "x24",
         "range": [
          0.047570682927376505,
          0.10187654463829574
         ],
         "showticklabels": false
        },
        "xaxis2": {
         "anchor": "y2",
         "domain": [
          0.208,
          0.376
         ],
         "matches": "x22",
         "range": [
          54.4,
          265.6
         ],
         "showticklabels": false
        },
        "xaxis20": {
         "anchor": "y20",
         "domain": [
          0.832,
          1
         ],
         "matches": "x25",
         "range": [
          -6.080106212092276,
          -2.8705858031968705
         ],
         "showticklabels": false,
         "type": "log"
        },
        "xaxis21": {
         "anchor": "y21",
         "domain": [
          0,
          0.16799999999999998
         ],
         "range": [
          95,
          205
         ],
         "title": {
          "text": "EMBEDDING_DIM"
         }
        },
        "xaxis22": {
         "anchor": "y22",
         "domain": [
          0.208,
          0.376
         ],
         "range": [
          54.4,
          265.6
         ],
         "title": {
          "text": "LSTM_units"
         }
        },
        "xaxis23": {
         "anchor": "y23",
         "domain": [
          0.416,
          0.584
         ],
         "range": [
          0.043466152670791985,
          0.30929699038981273
         ],
         "title": {
          "text": "dropout_rate"
         }
        },
        "xaxis24": {
         "anchor": "y24",
         "domain": [
          0.624,
          0.792
         ],
         "range": [
          0.047570682927376505,
          0.10187654463829574
         ],
         "title": {
          "text": "dropout_rate2"
         }
        },
        "xaxis25": {
         "anchor": "y25",
         "domain": [
          0.832,
          1
         ],
         "range": [
          -6.080106212092276,
          -2.8705858031968705
         ],
         "title": {
          "text": "learning_rate"
         },
         "type": "log"
        },
        "xaxis3": {
         "anchor": "y3",
         "domain": [
          0.416,
          0.584
         ],
         "matches": "x23",
         "range": [
          0.043466152670791985,
          0.30929699038981273
         ],
         "showticklabels": false
        },
        "xaxis4": {
         "anchor": "y4",
         "domain": [
          0.624,
          0.792
         ],
         "matches": "x24",
         "range": [
          0.047570682927376505,
          0.10187654463829574
         ],
         "showticklabels": false
        },
        "xaxis5": {
         "anchor": "y5",
         "domain": [
          0.832,
          1
         ],
         "matches": "x25",
         "range": [
          -6.080106212092276,
          -2.8705858031968705
         ],
         "showticklabels": false,
         "type": "log"
        },
        "xaxis6": {
         "anchor": "y6",
         "domain": [
          0,
          0.16799999999999998
         ],
         "matches": "x21",
         "range": [
          95,
          205
         ],
         "showticklabels": false
        },
        "xaxis7": {
         "anchor": "y7",
         "domain": [
          0.208,
          0.376
         ],
         "matches": "x22",
         "range": [
          54.4,
          265.6
         ],
         "showticklabels": false
        },
        "xaxis8": {
         "anchor": "y8",
         "domain": [
          0.416,
          0.584
         ],
         "matches": "x23",
         "range": [
          0.043466152670791985,
          0.30929699038981273
         ],
         "showticklabels": false
        },
        "xaxis9": {
         "anchor": "y9",
         "domain": [
          0.624,
          0.792
         ],
         "matches": "x24",
         "range": [
          0.047570682927376505,
          0.10187654463829574
         ],
         "showticklabels": false
        },
        "yaxis": {
         "anchor": "x",
         "domain": [
          0.848,
          1
         ],
         "range": [
          95,
          205
         ],
         "title": {
          "text": "EMBEDDING_DIM"
         }
        },
        "yaxis10": {
         "anchor": "x10",
         "domain": [
          0.6359999999999999,
          0.7879999999999999
         ],
         "matches": "y6",
         "range": [
          54.4,
          265.6
         ],
         "showticklabels": false
        },
        "yaxis11": {
         "anchor": "x11",
         "domain": [
          0.424,
          0.576
         ],
         "range": [
          0.043466152670791985,
          0.30929699038981273
         ],
         "title": {
          "text": "dropout_rate"
         }
        },
        "yaxis12": {
         "anchor": "x12",
         "domain": [
          0.424,
          0.576
         ],
         "matches": "y11",
         "range": [
          0.043466152670791985,
          0.30929699038981273
         ],
         "showticklabels": false
        },
        "yaxis13": {
         "anchor": "x13",
         "domain": [
          0.424,
          0.576
         ],
         "matches": "y11",
         "range": [
          0.043466152670791985,
          0.30929699038981273
         ],
         "showticklabels": false
        },
        "yaxis14": {
         "anchor": "x14",
         "domain": [
          0.424,
          0.576
         ],
         "matches": "y11",
         "range": [
          0.043466152670791985,
          0.30929699038981273
         ],
         "showticklabels": false
        },
        "yaxis15": {
         "anchor": "x15",
         "domain": [
          0.424,
          0.576
         ],
         "matches": "y11",
         "range": [
          0.043466152670791985,
          0.30929699038981273
         ],
         "showticklabels": false
        },
        "yaxis16": {
         "anchor": "x16",
         "domain": [
          0.212,
          0.364
         ],
         "range": [
          0.047570682927376505,
          0.10187654463829574
         ],
         "title": {
          "text": "dropout_rate2"
         }
        },
        "yaxis17": {
         "anchor": "x17",
         "domain": [
          0.212,
          0.364
         ],
         "matches": "y16",
         "range": [
          0.047570682927376505,
          0.10187654463829574
         ],
         "showticklabels": false
        },
        "yaxis18": {
         "anchor": "x18",
         "domain": [
          0.212,
          0.364
         ],
         "matches": "y16",
         "range": [
          0.047570682927376505,
          0.10187654463829574
         ],
         "showticklabels": false
        },
        "yaxis19": {
         "anchor": "x19",
         "domain": [
          0.212,
          0.364
         ],
         "matches": "y16",
         "range": [
          0.047570682927376505,
          0.10187654463829574
         ],
         "showticklabels": false
        },
        "yaxis2": {
         "anchor": "x2",
         "domain": [
          0.848,
          1
         ],
         "matches": "y",
         "range": [
          95,
          205
         ],
         "showticklabels": false
        },
        "yaxis20": {
         "anchor": "x20",
         "domain": [
          0.212,
          0.364
         ],
         "matches": "y16",
         "range": [
          0.047570682927376505,
          0.10187654463829574
         ],
         "showticklabels": false
        },
        "yaxis21": {
         "anchor": "x21",
         "domain": [
          0,
          0.152
         ],
         "range": [
          -6.080106212092276,
          -2.8705858031968705
         ],
         "title": {
          "text": "learning_rate"
         },
         "type": "log"
        },
        "yaxis22": {
         "anchor": "x22",
         "domain": [
          0,
          0.152
         ],
         "matches": "y21",
         "range": [
          -6.080106212092276,
          -2.8705858031968705
         ],
         "showticklabels": false,
         "type": "log"
        },
        "yaxis23": {
         "anchor": "x23",
         "domain": [
          0,
          0.152
         ],
         "matches": "y21",
         "range": [
          -6.080106212092276,
          -2.8705858031968705
         ],
         "showticklabels": false,
         "type": "log"
        },
        "yaxis24": {
         "anchor": "x24",
         "domain": [
          0,
          0.152
         ],
         "matches": "y21",
         "range": [
          -6.080106212092276,
          -2.8705858031968705
         ],
         "showticklabels": false,
         "type": "log"
        },
        "yaxis25": {
         "anchor": "x25",
         "domain": [
          0,
          0.152
         ],
         "matches": "y21",
         "range": [
          -6.080106212092276,
          -2.8705858031968705
         ],
         "showticklabels": false,
         "type": "log"
        },
        "yaxis3": {
         "anchor": "x3",
         "domain": [
          0.848,
          1
         ],
         "matches": "y",
         "range": [
          95,
          205
         ],
         "showticklabels": false
        },
        "yaxis4": {
         "anchor": "x4",
         "domain": [
          0.848,
          1
         ],
         "matches": "y",
         "range": [
          95,
          205
         ],
         "showticklabels": false
        },
        "yaxis5": {
         "anchor": "x5",
         "domain": [
          0.848,
          1
         ],
         "matches": "y",
         "range": [
          95,
          205
         ],
         "showticklabels": false
        },
        "yaxis6": {
         "anchor": "x6",
         "domain": [
          0.6359999999999999,
          0.7879999999999999
         ],
         "range": [
          54.4,
          265.6
         ],
         "title": {
          "text": "LSTM_units"
         }
        },
        "yaxis7": {
         "anchor": "x7",
         "domain": [
          0.6359999999999999,
          0.7879999999999999
         ],
         "matches": "y6",
         "range": [
          54.4,
          265.6
         ],
         "showticklabels": false
        },
        "yaxis8": {
         "anchor": "x8",
         "domain": [
          0.6359999999999999,
          0.7879999999999999
         ],
         "matches": "y6",
         "range": [
          54.4,
          265.6
         ],
         "showticklabels": false
        },
        "yaxis9": {
         "anchor": "x9",
         "domain": [
          0.6359999999999999,
          0.7879999999999999
         ],
         "matches": "y6",
         "range": [
          54.4,
          265.6
         ],
         "showticklabels": false
        }
       }
      }
     },
     "metadata": {},
     "output_type": "display_data"
    }
   ],
   "source": [
    "optuna.visualization.plot_optimization_history(study)\n",
    "optuna.visualization.plot_slice(study)\n",
    "optuna.visualization.plot_contour(study, params=['dropout_rate','dropout_rate2','LSTM_units','EMBEDDING_DIM','learning_rate'])"
   ]
  },
  {
   "cell_type": "code",
   "execution_count": 23,
   "metadata": {},
   "outputs": [],
   "source": [
    "best_param = study.best_params"
   ]
  },
  {
   "cell_type": "code",
   "execution_count": 24,
   "metadata": {},
   "outputs": [
    {
     "data": {
      "application/vnd.plotly.v1+json": {
       "config": {
        "plotlyServerURL": "https://plot.ly"
       },
       "data": [
        {
         "mode": "markers",
         "name": "Objective Value",
         "type": "scatter",
         "x": [
          0,
          1,
          2,
          3,
          4,
          5,
          6,
          7,
          8,
          9,
          10,
          11,
          12,
          13,
          14,
          15,
          16,
          17,
          18,
          19,
          20,
          21,
          22,
          23,
          24,
          25,
          26,
          27,
          28,
          29,
          30,
          31,
          32,
          33,
          34
         ],
         "y": [
          0.2582566916083945,
          0.7397243107769423,
          0.03487253487253487,
          0.4927765330677952,
          0.2048780487804878,
          0.7178831099783266,
          0.7075079433569998,
          0.4104813315339631,
          0.7187736469303957,
          0.6437047346296103,
          0.7410560850537378,
          0.7004367588713172,
          0.7338085274891545,
          0.7187234404215536,
          0.7251143410414643,
          0.20952380952380953,
          0.7083551689200992,
          0.6891311575135104,
          0.7303230111071862,
          0.7355501340321076,
          0.20555555555555557,
          0.736955681025112,
          0.7069358178053831,
          0.7005870672537338,
          0.7288287315009699,
          0.1993127147766323,
          0.6182821118991332,
          0.7221044711714647,
          0.7251014997100008,
          0.7247416953493858,
          0.19865319865319866,
          0.7330559549961694,
          0.7354094453087331,
          0.736661712964727,
          0.743672415096469
         ]
        },
        {
         "mode": "lines",
         "name": "Best Value",
         "type": "scatter",
         "x": [
          0,
          1,
          2,
          3,
          4,
          5,
          6,
          7,
          8,
          9,
          10,
          11,
          12,
          13,
          14,
          15,
          16,
          17,
          18,
          19,
          20,
          21,
          22,
          23,
          24,
          25,
          26,
          27,
          28,
          29,
          30,
          31,
          32,
          33,
          34
         ],
         "y": [
          0.2582566916083945,
          0.7397243107769423,
          0.7397243107769423,
          0.7397243107769423,
          0.7397243107769423,
          0.7397243107769423,
          0.7397243107769423,
          0.7397243107769423,
          0.7397243107769423,
          0.7397243107769423,
          0.7410560850537378,
          0.7410560850537378,
          0.7410560850537378,
          0.7410560850537378,
          0.7410560850537378,
          0.7410560850537378,
          0.7410560850537378,
          0.7410560850537378,
          0.7410560850537378,
          0.7410560850537378,
          0.7410560850537378,
          0.7410560850537378,
          0.7410560850537378,
          0.7410560850537378,
          0.7410560850537378,
          0.7410560850537378,
          0.7410560850537378,
          0.7410560850537378,
          0.7410560850537378,
          0.7410560850537378,
          0.7410560850537378,
          0.7410560850537378,
          0.7410560850537378,
          0.7410560850537378,
          0.743672415096469
         ]
        },
        {
         "marker": {
          "color": "#cccccc"
         },
         "mode": "markers",
         "name": "Infeasible Trial",
         "showlegend": false,
         "type": "scatter",
         "x": [],
         "y": []
        }
       ],
       "layout": {
        "template": {
         "data": {
          "bar": [
           {
            "error_x": {
             "color": "#2a3f5f"
            },
            "error_y": {
             "color": "#2a3f5f"
            },
            "marker": {
             "line": {
              "color": "#E5ECF6",
              "width": 0.5
             },
             "pattern": {
              "fillmode": "overlay",
              "size": 10,
              "solidity": 0.2
             }
            },
            "type": "bar"
           }
          ],
          "barpolar": [
           {
            "marker": {
             "line": {
              "color": "#E5ECF6",
              "width": 0.5
             },
             "pattern": {
              "fillmode": "overlay",
              "size": 10,
              "solidity": 0.2
             }
            },
            "type": "barpolar"
           }
          ],
          "carpet": [
           {
            "aaxis": {
             "endlinecolor": "#2a3f5f",
             "gridcolor": "white",
             "linecolor": "white",
             "minorgridcolor": "white",
             "startlinecolor": "#2a3f5f"
            },
            "baxis": {
             "endlinecolor": "#2a3f5f",
             "gridcolor": "white",
             "linecolor": "white",
             "minorgridcolor": "white",
             "startlinecolor": "#2a3f5f"
            },
            "type": "carpet"
           }
          ],
          "choropleth": [
           {
            "colorbar": {
             "outlinewidth": 0,
             "ticks": ""
            },
            "type": "choropleth"
           }
          ],
          "contour": [
           {
            "colorbar": {
             "outlinewidth": 0,
             "ticks": ""
            },
            "colorscale": [
             [
              0,
              "#0d0887"
             ],
             [
              0.1111111111111111,
              "#46039f"
             ],
             [
              0.2222222222222222,
              "#7201a8"
             ],
             [
              0.3333333333333333,
              "#9c179e"
             ],
             [
              0.4444444444444444,
              "#bd3786"
             ],
             [
              0.5555555555555556,
              "#d8576b"
             ],
             [
              0.6666666666666666,
              "#ed7953"
             ],
             [
              0.7777777777777778,
              "#fb9f3a"
             ],
             [
              0.8888888888888888,
              "#fdca26"
             ],
             [
              1,
              "#f0f921"
             ]
            ],
            "type": "contour"
           }
          ],
          "contourcarpet": [
           {
            "colorbar": {
             "outlinewidth": 0,
             "ticks": ""
            },
            "type": "contourcarpet"
           }
          ],
          "heatmap": [
           {
            "colorbar": {
             "outlinewidth": 0,
             "ticks": ""
            },
            "colorscale": [
             [
              0,
              "#0d0887"
             ],
             [
              0.1111111111111111,
              "#46039f"
             ],
             [
              0.2222222222222222,
              "#7201a8"
             ],
             [
              0.3333333333333333,
              "#9c179e"
             ],
             [
              0.4444444444444444,
              "#bd3786"
             ],
             [
              0.5555555555555556,
              "#d8576b"
             ],
             [
              0.6666666666666666,
              "#ed7953"
             ],
             [
              0.7777777777777778,
              "#fb9f3a"
             ],
             [
              0.8888888888888888,
              "#fdca26"
             ],
             [
              1,
              "#f0f921"
             ]
            ],
            "type": "heatmap"
           }
          ],
          "heatmapgl": [
           {
            "colorbar": {
             "outlinewidth": 0,
             "ticks": ""
            },
            "colorscale": [
             [
              0,
              "#0d0887"
             ],
             [
              0.1111111111111111,
              "#46039f"
             ],
             [
              0.2222222222222222,
              "#7201a8"
             ],
             [
              0.3333333333333333,
              "#9c179e"
             ],
             [
              0.4444444444444444,
              "#bd3786"
             ],
             [
              0.5555555555555556,
              "#d8576b"
             ],
             [
              0.6666666666666666,
              "#ed7953"
             ],
             [
              0.7777777777777778,
              "#fb9f3a"
             ],
             [
              0.8888888888888888,
              "#fdca26"
             ],
             [
              1,
              "#f0f921"
             ]
            ],
            "type": "heatmapgl"
           }
          ],
          "histogram": [
           {
            "marker": {
             "pattern": {
              "fillmode": "overlay",
              "size": 10,
              "solidity": 0.2
             }
            },
            "type": "histogram"
           }
          ],
          "histogram2d": [
           {
            "colorbar": {
             "outlinewidth": 0,
             "ticks": ""
            },
            "colorscale": [
             [
              0,
              "#0d0887"
             ],
             [
              0.1111111111111111,
              "#46039f"
             ],
             [
              0.2222222222222222,
              "#7201a8"
             ],
             [
              0.3333333333333333,
              "#9c179e"
             ],
             [
              0.4444444444444444,
              "#bd3786"
             ],
             [
              0.5555555555555556,
              "#d8576b"
             ],
             [
              0.6666666666666666,
              "#ed7953"
             ],
             [
              0.7777777777777778,
              "#fb9f3a"
             ],
             [
              0.8888888888888888,
              "#fdca26"
             ],
             [
              1,
              "#f0f921"
             ]
            ],
            "type": "histogram2d"
           }
          ],
          "histogram2dcontour": [
           {
            "colorbar": {
             "outlinewidth": 0,
             "ticks": ""
            },
            "colorscale": [
             [
              0,
              "#0d0887"
             ],
             [
              0.1111111111111111,
              "#46039f"
             ],
             [
              0.2222222222222222,
              "#7201a8"
             ],
             [
              0.3333333333333333,
              "#9c179e"
             ],
             [
              0.4444444444444444,
              "#bd3786"
             ],
             [
              0.5555555555555556,
              "#d8576b"
             ],
             [
              0.6666666666666666,
              "#ed7953"
             ],
             [
              0.7777777777777778,
              "#fb9f3a"
             ],
             [
              0.8888888888888888,
              "#fdca26"
             ],
             [
              1,
              "#f0f921"
             ]
            ],
            "type": "histogram2dcontour"
           }
          ],
          "mesh3d": [
           {
            "colorbar": {
             "outlinewidth": 0,
             "ticks": ""
            },
            "type": "mesh3d"
           }
          ],
          "parcoords": [
           {
            "line": {
             "colorbar": {
              "outlinewidth": 0,
              "ticks": ""
             }
            },
            "type": "parcoords"
           }
          ],
          "pie": [
           {
            "automargin": true,
            "type": "pie"
           }
          ],
          "scatter": [
           {
            "fillpattern": {
             "fillmode": "overlay",
             "size": 10,
             "solidity": 0.2
            },
            "type": "scatter"
           }
          ],
          "scatter3d": [
           {
            "line": {
             "colorbar": {
              "outlinewidth": 0,
              "ticks": ""
             }
            },
            "marker": {
             "colorbar": {
              "outlinewidth": 0,
              "ticks": ""
             }
            },
            "type": "scatter3d"
           }
          ],
          "scattercarpet": [
           {
            "marker": {
             "colorbar": {
              "outlinewidth": 0,
              "ticks": ""
             }
            },
            "type": "scattercarpet"
           }
          ],
          "scattergeo": [
           {
            "marker": {
             "colorbar": {
              "outlinewidth": 0,
              "ticks": ""
             }
            },
            "type": "scattergeo"
           }
          ],
          "scattergl": [
           {
            "marker": {
             "colorbar": {
              "outlinewidth": 0,
              "ticks": ""
             }
            },
            "type": "scattergl"
           }
          ],
          "scattermapbox": [
           {
            "marker": {
             "colorbar": {
              "outlinewidth": 0,
              "ticks": ""
             }
            },
            "type": "scattermapbox"
           }
          ],
          "scatterpolar": [
           {
            "marker": {
             "colorbar": {
              "outlinewidth": 0,
              "ticks": ""
             }
            },
            "type": "scatterpolar"
           }
          ],
          "scatterpolargl": [
           {
            "marker": {
             "colorbar": {
              "outlinewidth": 0,
              "ticks": ""
             }
            },
            "type": "scatterpolargl"
           }
          ],
          "scatterternary": [
           {
            "marker": {
             "colorbar": {
              "outlinewidth": 0,
              "ticks": ""
             }
            },
            "type": "scatterternary"
           }
          ],
          "surface": [
           {
            "colorbar": {
             "outlinewidth": 0,
             "ticks": ""
            },
            "colorscale": [
             [
              0,
              "#0d0887"
             ],
             [
              0.1111111111111111,
              "#46039f"
             ],
             [
              0.2222222222222222,
              "#7201a8"
             ],
             [
              0.3333333333333333,
              "#9c179e"
             ],
             [
              0.4444444444444444,
              "#bd3786"
             ],
             [
              0.5555555555555556,
              "#d8576b"
             ],
             [
              0.6666666666666666,
              "#ed7953"
             ],
             [
              0.7777777777777778,
              "#fb9f3a"
             ],
             [
              0.8888888888888888,
              "#fdca26"
             ],
             [
              1,
              "#f0f921"
             ]
            ],
            "type": "surface"
           }
          ],
          "table": [
           {
            "cells": {
             "fill": {
              "color": "#EBF0F8"
             },
             "line": {
              "color": "white"
             }
            },
            "header": {
             "fill": {
              "color": "#C8D4E3"
             },
             "line": {
              "color": "white"
             }
            },
            "type": "table"
           }
          ]
         },
         "layout": {
          "annotationdefaults": {
           "arrowcolor": "#2a3f5f",
           "arrowhead": 0,
           "arrowwidth": 1
          },
          "autotypenumbers": "strict",
          "coloraxis": {
           "colorbar": {
            "outlinewidth": 0,
            "ticks": ""
           }
          },
          "colorscale": {
           "diverging": [
            [
             0,
             "#8e0152"
            ],
            [
             0.1,
             "#c51b7d"
            ],
            [
             0.2,
             "#de77ae"
            ],
            [
             0.3,
             "#f1b6da"
            ],
            [
             0.4,
             "#fde0ef"
            ],
            [
             0.5,
             "#f7f7f7"
            ],
            [
             0.6,
             "#e6f5d0"
            ],
            [
             0.7,
             "#b8e186"
            ],
            [
             0.8,
             "#7fbc41"
            ],
            [
             0.9,
             "#4d9221"
            ],
            [
             1,
             "#276419"
            ]
           ],
           "sequential": [
            [
             0,
             "#0d0887"
            ],
            [
             0.1111111111111111,
             "#46039f"
            ],
            [
             0.2222222222222222,
             "#7201a8"
            ],
            [
             0.3333333333333333,
             "#9c179e"
            ],
            [
             0.4444444444444444,
             "#bd3786"
            ],
            [
             0.5555555555555556,
             "#d8576b"
            ],
            [
             0.6666666666666666,
             "#ed7953"
            ],
            [
             0.7777777777777778,
             "#fb9f3a"
            ],
            [
             0.8888888888888888,
             "#fdca26"
            ],
            [
             1,
             "#f0f921"
            ]
           ],
           "sequentialminus": [
            [
             0,
             "#0d0887"
            ],
            [
             0.1111111111111111,
             "#46039f"
            ],
            [
             0.2222222222222222,
             "#7201a8"
            ],
            [
             0.3333333333333333,
             "#9c179e"
            ],
            [
             0.4444444444444444,
             "#bd3786"
            ],
            [
             0.5555555555555556,
             "#d8576b"
            ],
            [
             0.6666666666666666,
             "#ed7953"
            ],
            [
             0.7777777777777778,
             "#fb9f3a"
            ],
            [
             0.8888888888888888,
             "#fdca26"
            ],
            [
             1,
             "#f0f921"
            ]
           ]
          },
          "colorway": [
           "#636efa",
           "#EF553B",
           "#00cc96",
           "#ab63fa",
           "#FFA15A",
           "#19d3f3",
           "#FF6692",
           "#B6E880",
           "#FF97FF",
           "#FECB52"
          ],
          "font": {
           "color": "#2a3f5f"
          },
          "geo": {
           "bgcolor": "white",
           "lakecolor": "white",
           "landcolor": "#E5ECF6",
           "showlakes": true,
           "showland": true,
           "subunitcolor": "white"
          },
          "hoverlabel": {
           "align": "left"
          },
          "hovermode": "closest",
          "mapbox": {
           "style": "light"
          },
          "paper_bgcolor": "white",
          "plot_bgcolor": "#E5ECF6",
          "polar": {
           "angularaxis": {
            "gridcolor": "white",
            "linecolor": "white",
            "ticks": ""
           },
           "bgcolor": "#E5ECF6",
           "radialaxis": {
            "gridcolor": "white",
            "linecolor": "white",
            "ticks": ""
           }
          },
          "scene": {
           "xaxis": {
            "backgroundcolor": "#E5ECF6",
            "gridcolor": "white",
            "gridwidth": 2,
            "linecolor": "white",
            "showbackground": true,
            "ticks": "",
            "zerolinecolor": "white"
           },
           "yaxis": {
            "backgroundcolor": "#E5ECF6",
            "gridcolor": "white",
            "gridwidth": 2,
            "linecolor": "white",
            "showbackground": true,
            "ticks": "",
            "zerolinecolor": "white"
           },
           "zaxis": {
            "backgroundcolor": "#E5ECF6",
            "gridcolor": "white",
            "gridwidth": 2,
            "linecolor": "white",
            "showbackground": true,
            "ticks": "",
            "zerolinecolor": "white"
           }
          },
          "shapedefaults": {
           "line": {
            "color": "#2a3f5f"
           }
          },
          "ternary": {
           "aaxis": {
            "gridcolor": "white",
            "linecolor": "white",
            "ticks": ""
           },
           "baxis": {
            "gridcolor": "white",
            "linecolor": "white",
            "ticks": ""
           },
           "bgcolor": "#E5ECF6",
           "caxis": {
            "gridcolor": "white",
            "linecolor": "white",
            "ticks": ""
           }
          },
          "title": {
           "x": 0.05
          },
          "xaxis": {
           "automargin": true,
           "gridcolor": "white",
           "linecolor": "white",
           "ticks": "",
           "title": {
            "standoff": 15
           },
           "zerolinecolor": "white",
           "zerolinewidth": 2
          },
          "yaxis": {
           "automargin": true,
           "gridcolor": "white",
           "linecolor": "white",
           "ticks": "",
           "title": {
            "standoff": 15
           },
           "zerolinecolor": "white",
           "zerolinewidth": 2
          }
         }
        },
        "title": {
         "text": "Optimization History Plot"
        },
        "xaxis": {
         "title": {
          "text": "Trial"
         }
        },
        "yaxis": {
         "title": {
          "text": "Objective Value"
         }
        }
       }
      }
     },
     "metadata": {},
     "output_type": "display_data"
    }
   ],
   "source": [
    "import matplotlib.pyplot as plt\n",
    "\n",
    "optuna.visualization.plot_optimization_history(study)"
   ]
  },
  {
   "cell_type": "code",
   "execution_count": 25,
   "metadata": {},
   "outputs": [
    {
     "data": {
      "application/vnd.plotly.v1+json": {
       "config": {
        "plotlyServerURL": "https://plot.ly"
       },
       "data": [
        {
         "dimensions": [
          {
           "label": "Objective Value",
           "range": [
            0.03487253487253487,
            0.743672415096469
           ],
           "values": [
            0.4927765330677952,
            0.7410560850537378,
            0.7004367588713172,
            0.7338085274891545,
            0.7187234404215536,
            0.7251143410414643,
            0.7083551689200992,
            0.6182821118991332,
            0.7303230111071862,
            0.7247416953493858,
            0.7178831099783266,
            0.4104813315339631,
            0.7251014997100008,
            0.7187736469303957,
            0.7355501340321076,
            0.736955681025112,
            0.7069358178053831,
            0.7005870672537338,
            0.7288287315009699,
            0.1993127147766323,
            0.7330559549961694,
            0.7354094453087331,
            0.736661712964727,
            0.743672415096469,
            0.7397243107769423,
            0.2048780487804878,
            0.6891311575135104,
            0.20555555555555557,
            0.7221044711714647,
            0.2582566916083945,
            0.7075079433569998,
            0.20952380952380953,
            0.19865319865319866,
            0.03487253487253487,
            0.6437047346296103
           ]
          },
          {
           "label": "EMBEDDING_DIM",
           "range": [
            0,
            2
           ],
           "ticktext": [
            "100",
            "150",
            "200"
           ],
           "tickvals": [
            0,
            1,
            2
           ],
           "values": [
            0,
            0,
            0,
            0,
            0,
            0,
            0,
            0,
            0,
            0,
            1,
            1,
            1,
            1,
            1,
            1,
            1,
            1,
            1,
            1,
            1,
            1,
            1,
            1,
            2,
            2,
            2,
            2,
            2,
            2,
            2,
            2,
            2,
            2,
            2
           ]
          },
          {
           "label": "LSTM_units",
           "range": [
            0,
            2
           ],
           "ticktext": [
            "64",
            "128",
            "256"
           ],
           "tickvals": [
            0,
            1,
            2
           ],
           "values": [
            0,
            0,
            0,
            0,
            0,
            0,
            0,
            0,
            1,
            2,
            0,
            0,
            1,
            2,
            2,
            2,
            2,
            2,
            2,
            2,
            2,
            2,
            2,
            2,
            0,
            0,
            0,
            0,
            0,
            1,
            1,
            1,
            1,
            2,
            2
           ]
          },
          {
           "label": "dropout_rate",
           "range": [
            0.05554937256711111,
            0.2972137704934936
           ],
           "values": [
            0.1731740948385147,
            0.2972137704934936,
            0.28061157532406417,
            0.23417605472778696,
            0.2818320666291123,
            0.22251626560325732,
            0.20498071047682687,
            0.0651886095045491,
            0.19866896646462542,
            0.06385206243116642,
            0.09250840338104498,
            0.1731643507450079,
            0.1877705161672686,
            0.16134343558461572,
            0.15064557057690897,
            0.1453264456086812,
            0.13387570402654014,
            0.18833485064608974,
            0.12800229872034904,
            0.2945510490437179,
            0.1478180141067793,
            0.15590285977199148,
            0.11465077494664683,
            0.12046325878870909,
            0.16238731348221075,
            0.09183897870762982,
            0.26062489815836487,
            0.25114280027181346,
            0.15349679728788918,
            0.05554937256711111,
            0.0986729597160335,
            0.1378090102336979,
            0.11174956415258834,
            0.1156713724500694,
            0.2291435960126414
           ]
          },
          {
           "label": "dropout_rate2",
           "range": [
            0.050039131186963744,
            0.0994080963787085
           ],
           "values": [
            0.08537947874638763,
            0.057854034295215365,
            0.05672700459303386,
            0.050039131186963744,
            0.06330557333773223,
            0.06766958994432284,
            0.052401396449164334,
            0.09691956847692654,
            0.05851597962389249,
            0.08170980573983573,
            0.09349698775914125,
            0.0735411454485706,
            0.0710547738303259,
            0.07821175835909654,
            0.08600847328552844,
            0.08791295233242938,
            0.09206698211614449,
            0.0994080963787085,
            0.08949453778337746,
            0.08221136191243872,
            0.08643159140122408,
            0.08820431595805273,
            0.0826595204037524,
            0.083088237668143,
            0.09349754729562262,
            0.07555304134674155,
            0.09366006862483765,
            0.06711093143267129,
            0.08988517994586956,
            0.09937082675952327,
            0.07398456754725026,
            0.06389674553083408,
            0.09680690346663146,
            0.08537928994950458,
            0.07990923174589054
           ]
          },
          {
           "label": "learning_rate",
           "range": [
            -5.934218920778848,
            -3.016473094510298
           ],
           "ticktext": [
            "1.16e-06",
            "1e-05",
            "0.0001",
            "0.000963"
           ],
           "tickvals": [
            -5.934218920778848,
            -5,
            -4,
            -3.016473094510298
           ],
           "values": [
            -4.3006527056194965,
            -3.8152413367931968,
            -3.8103695065522536,
            -3.7756528797852082,
            -4.095554952598011,
            -3.389758850663574,
            -3.5424907651807094,
            -3.9790081862145983,
            -4.118904382723108,
            -3.641872883994139,
            -3.114968489758363,
            -5.636499494285285,
            -4.304964952119935,
            -3.7698734820642654,
            -3.923316981317298,
            -3.976133528711933,
            -3.5413171212207573,
            -4.266928964186089,
            -3.574630618018952,
            -4.918550349151406,
            -3.9292092510961325,
            -4.02716552274181,
            -4.245681032077472,
            -4.336683070588845,
            -3.627387365940399,
            -4.63360924759293,
            -3.016473094510298,
            -5.113843712811091,
            -3.254708027948737,
            -4.648322352337,
            -3.348681207291937,
            -5.043736772912432,
            -4.752287125436917,
            -5.934218920778848,
            -4.512596559263232
           ]
          }
         ],
         "labelangle": 30,
         "labelside": "bottom",
         "line": {
          "color": [
           0.4927765330677952,
           0.7410560850537378,
           0.7004367588713172,
           0.7338085274891545,
           0.7187234404215536,
           0.7251143410414643,
           0.7083551689200992,
           0.6182821118991332,
           0.7303230111071862,
           0.7247416953493858,
           0.7178831099783266,
           0.4104813315339631,
           0.7251014997100008,
           0.7187736469303957,
           0.7355501340321076,
           0.736955681025112,
           0.7069358178053831,
           0.7005870672537338,
           0.7288287315009699,
           0.1993127147766323,
           0.7330559549961694,
           0.7354094453087331,
           0.736661712964727,
           0.743672415096469,
           0.7397243107769423,
           0.2048780487804878,
           0.6891311575135104,
           0.20555555555555557,
           0.7221044711714647,
           0.2582566916083945,
           0.7075079433569998,
           0.20952380952380953,
           0.19865319865319866,
           0.03487253487253487,
           0.6437047346296103
          ],
          "colorbar": {
           "title": {
            "text": "Objective Value"
           }
          },
          "colorscale": [
           [
            0,
            "rgb(247,251,255)"
           ],
           [
            0.125,
            "rgb(222,235,247)"
           ],
           [
            0.25,
            "rgb(198,219,239)"
           ],
           [
            0.375,
            "rgb(158,202,225)"
           ],
           [
            0.5,
            "rgb(107,174,214)"
           ],
           [
            0.625,
            "rgb(66,146,198)"
           ],
           [
            0.75,
            "rgb(33,113,181)"
           ],
           [
            0.875,
            "rgb(8,81,156)"
           ],
           [
            1,
            "rgb(8,48,107)"
           ]
          ],
          "reversescale": false,
          "showscale": true
         },
         "type": "parcoords"
        }
       ],
       "layout": {
        "template": {
         "data": {
          "bar": [
           {
            "error_x": {
             "color": "#2a3f5f"
            },
            "error_y": {
             "color": "#2a3f5f"
            },
            "marker": {
             "line": {
              "color": "#E5ECF6",
              "width": 0.5
             },
             "pattern": {
              "fillmode": "overlay",
              "size": 10,
              "solidity": 0.2
             }
            },
            "type": "bar"
           }
          ],
          "barpolar": [
           {
            "marker": {
             "line": {
              "color": "#E5ECF6",
              "width": 0.5
             },
             "pattern": {
              "fillmode": "overlay",
              "size": 10,
              "solidity": 0.2
             }
            },
            "type": "barpolar"
           }
          ],
          "carpet": [
           {
            "aaxis": {
             "endlinecolor": "#2a3f5f",
             "gridcolor": "white",
             "linecolor": "white",
             "minorgridcolor": "white",
             "startlinecolor": "#2a3f5f"
            },
            "baxis": {
             "endlinecolor": "#2a3f5f",
             "gridcolor": "white",
             "linecolor": "white",
             "minorgridcolor": "white",
             "startlinecolor": "#2a3f5f"
            },
            "type": "carpet"
           }
          ],
          "choropleth": [
           {
            "colorbar": {
             "outlinewidth": 0,
             "ticks": ""
            },
            "type": "choropleth"
           }
          ],
          "contour": [
           {
            "colorbar": {
             "outlinewidth": 0,
             "ticks": ""
            },
            "colorscale": [
             [
              0,
              "#0d0887"
             ],
             [
              0.1111111111111111,
              "#46039f"
             ],
             [
              0.2222222222222222,
              "#7201a8"
             ],
             [
              0.3333333333333333,
              "#9c179e"
             ],
             [
              0.4444444444444444,
              "#bd3786"
             ],
             [
              0.5555555555555556,
              "#d8576b"
             ],
             [
              0.6666666666666666,
              "#ed7953"
             ],
             [
              0.7777777777777778,
              "#fb9f3a"
             ],
             [
              0.8888888888888888,
              "#fdca26"
             ],
             [
              1,
              "#f0f921"
             ]
            ],
            "type": "contour"
           }
          ],
          "contourcarpet": [
           {
            "colorbar": {
             "outlinewidth": 0,
             "ticks": ""
            },
            "type": "contourcarpet"
           }
          ],
          "heatmap": [
           {
            "colorbar": {
             "outlinewidth": 0,
             "ticks": ""
            },
            "colorscale": [
             [
              0,
              "#0d0887"
             ],
             [
              0.1111111111111111,
              "#46039f"
             ],
             [
              0.2222222222222222,
              "#7201a8"
             ],
             [
              0.3333333333333333,
              "#9c179e"
             ],
             [
              0.4444444444444444,
              "#bd3786"
             ],
             [
              0.5555555555555556,
              "#d8576b"
             ],
             [
              0.6666666666666666,
              "#ed7953"
             ],
             [
              0.7777777777777778,
              "#fb9f3a"
             ],
             [
              0.8888888888888888,
              "#fdca26"
             ],
             [
              1,
              "#f0f921"
             ]
            ],
            "type": "heatmap"
           }
          ],
          "heatmapgl": [
           {
            "colorbar": {
             "outlinewidth": 0,
             "ticks": ""
            },
            "colorscale": [
             [
              0,
              "#0d0887"
             ],
             [
              0.1111111111111111,
              "#46039f"
             ],
             [
              0.2222222222222222,
              "#7201a8"
             ],
             [
              0.3333333333333333,
              "#9c179e"
             ],
             [
              0.4444444444444444,
              "#bd3786"
             ],
             [
              0.5555555555555556,
              "#d8576b"
             ],
             [
              0.6666666666666666,
              "#ed7953"
             ],
             [
              0.7777777777777778,
              "#fb9f3a"
             ],
             [
              0.8888888888888888,
              "#fdca26"
             ],
             [
              1,
              "#f0f921"
             ]
            ],
            "type": "heatmapgl"
           }
          ],
          "histogram": [
           {
            "marker": {
             "pattern": {
              "fillmode": "overlay",
              "size": 10,
              "solidity": 0.2
             }
            },
            "type": "histogram"
           }
          ],
          "histogram2d": [
           {
            "colorbar": {
             "outlinewidth": 0,
             "ticks": ""
            },
            "colorscale": [
             [
              0,
              "#0d0887"
             ],
             [
              0.1111111111111111,
              "#46039f"
             ],
             [
              0.2222222222222222,
              "#7201a8"
             ],
             [
              0.3333333333333333,
              "#9c179e"
             ],
             [
              0.4444444444444444,
              "#bd3786"
             ],
             [
              0.5555555555555556,
              "#d8576b"
             ],
             [
              0.6666666666666666,
              "#ed7953"
             ],
             [
              0.7777777777777778,
              "#fb9f3a"
             ],
             [
              0.8888888888888888,
              "#fdca26"
             ],
             [
              1,
              "#f0f921"
             ]
            ],
            "type": "histogram2d"
           }
          ],
          "histogram2dcontour": [
           {
            "colorbar": {
             "outlinewidth": 0,
             "ticks": ""
            },
            "colorscale": [
             [
              0,
              "#0d0887"
             ],
             [
              0.1111111111111111,
              "#46039f"
             ],
             [
              0.2222222222222222,
              "#7201a8"
             ],
             [
              0.3333333333333333,
              "#9c179e"
             ],
             [
              0.4444444444444444,
              "#bd3786"
             ],
             [
              0.5555555555555556,
              "#d8576b"
             ],
             [
              0.6666666666666666,
              "#ed7953"
             ],
             [
              0.7777777777777778,
              "#fb9f3a"
             ],
             [
              0.8888888888888888,
              "#fdca26"
             ],
             [
              1,
              "#f0f921"
             ]
            ],
            "type": "histogram2dcontour"
           }
          ],
          "mesh3d": [
           {
            "colorbar": {
             "outlinewidth": 0,
             "ticks": ""
            },
            "type": "mesh3d"
           }
          ],
          "parcoords": [
           {
            "line": {
             "colorbar": {
              "outlinewidth": 0,
              "ticks": ""
             }
            },
            "type": "parcoords"
           }
          ],
          "pie": [
           {
            "automargin": true,
            "type": "pie"
           }
          ],
          "scatter": [
           {
            "fillpattern": {
             "fillmode": "overlay",
             "size": 10,
             "solidity": 0.2
            },
            "type": "scatter"
           }
          ],
          "scatter3d": [
           {
            "line": {
             "colorbar": {
              "outlinewidth": 0,
              "ticks": ""
             }
            },
            "marker": {
             "colorbar": {
              "outlinewidth": 0,
              "ticks": ""
             }
            },
            "type": "scatter3d"
           }
          ],
          "scattercarpet": [
           {
            "marker": {
             "colorbar": {
              "outlinewidth": 0,
              "ticks": ""
             }
            },
            "type": "scattercarpet"
           }
          ],
          "scattergeo": [
           {
            "marker": {
             "colorbar": {
              "outlinewidth": 0,
              "ticks": ""
             }
            },
            "type": "scattergeo"
           }
          ],
          "scattergl": [
           {
            "marker": {
             "colorbar": {
              "outlinewidth": 0,
              "ticks": ""
             }
            },
            "type": "scattergl"
           }
          ],
          "scattermapbox": [
           {
            "marker": {
             "colorbar": {
              "outlinewidth": 0,
              "ticks": ""
             }
            },
            "type": "scattermapbox"
           }
          ],
          "scatterpolar": [
           {
            "marker": {
             "colorbar": {
              "outlinewidth": 0,
              "ticks": ""
             }
            },
            "type": "scatterpolar"
           }
          ],
          "scatterpolargl": [
           {
            "marker": {
             "colorbar": {
              "outlinewidth": 0,
              "ticks": ""
             }
            },
            "type": "scatterpolargl"
           }
          ],
          "scatterternary": [
           {
            "marker": {
             "colorbar": {
              "outlinewidth": 0,
              "ticks": ""
             }
            },
            "type": "scatterternary"
           }
          ],
          "surface": [
           {
            "colorbar": {
             "outlinewidth": 0,
             "ticks": ""
            },
            "colorscale": [
             [
              0,
              "#0d0887"
             ],
             [
              0.1111111111111111,
              "#46039f"
             ],
             [
              0.2222222222222222,
              "#7201a8"
             ],
             [
              0.3333333333333333,
              "#9c179e"
             ],
             [
              0.4444444444444444,
              "#bd3786"
             ],
             [
              0.5555555555555556,
              "#d8576b"
             ],
             [
              0.6666666666666666,
              "#ed7953"
             ],
             [
              0.7777777777777778,
              "#fb9f3a"
             ],
             [
              0.8888888888888888,
              "#fdca26"
             ],
             [
              1,
              "#f0f921"
             ]
            ],
            "type": "surface"
           }
          ],
          "table": [
           {
            "cells": {
             "fill": {
              "color": "#EBF0F8"
             },
             "line": {
              "color": "white"
             }
            },
            "header": {
             "fill": {
              "color": "#C8D4E3"
             },
             "line": {
              "color": "white"
             }
            },
            "type": "table"
           }
          ]
         },
         "layout": {
          "annotationdefaults": {
           "arrowcolor": "#2a3f5f",
           "arrowhead": 0,
           "arrowwidth": 1
          },
          "autotypenumbers": "strict",
          "coloraxis": {
           "colorbar": {
            "outlinewidth": 0,
            "ticks": ""
           }
          },
          "colorscale": {
           "diverging": [
            [
             0,
             "#8e0152"
            ],
            [
             0.1,
             "#c51b7d"
            ],
            [
             0.2,
             "#de77ae"
            ],
            [
             0.3,
             "#f1b6da"
            ],
            [
             0.4,
             "#fde0ef"
            ],
            [
             0.5,
             "#f7f7f7"
            ],
            [
             0.6,
             "#e6f5d0"
            ],
            [
             0.7,
             "#b8e186"
            ],
            [
             0.8,
             "#7fbc41"
            ],
            [
             0.9,
             "#4d9221"
            ],
            [
             1,
             "#276419"
            ]
           ],
           "sequential": [
            [
             0,
             "#0d0887"
            ],
            [
             0.1111111111111111,
             "#46039f"
            ],
            [
             0.2222222222222222,
             "#7201a8"
            ],
            [
             0.3333333333333333,
             "#9c179e"
            ],
            [
             0.4444444444444444,
             "#bd3786"
            ],
            [
             0.5555555555555556,
             "#d8576b"
            ],
            [
             0.6666666666666666,
             "#ed7953"
            ],
            [
             0.7777777777777778,
             "#fb9f3a"
            ],
            [
             0.8888888888888888,
             "#fdca26"
            ],
            [
             1,
             "#f0f921"
            ]
           ],
           "sequentialminus": [
            [
             0,
             "#0d0887"
            ],
            [
             0.1111111111111111,
             "#46039f"
            ],
            [
             0.2222222222222222,
             "#7201a8"
            ],
            [
             0.3333333333333333,
             "#9c179e"
            ],
            [
             0.4444444444444444,
             "#bd3786"
            ],
            [
             0.5555555555555556,
             "#d8576b"
            ],
            [
             0.6666666666666666,
             "#ed7953"
            ],
            [
             0.7777777777777778,
             "#fb9f3a"
            ],
            [
             0.8888888888888888,
             "#fdca26"
            ],
            [
             1,
             "#f0f921"
            ]
           ]
          },
          "colorway": [
           "#636efa",
           "#EF553B",
           "#00cc96",
           "#ab63fa",
           "#FFA15A",
           "#19d3f3",
           "#FF6692",
           "#B6E880",
           "#FF97FF",
           "#FECB52"
          ],
          "font": {
           "color": "#2a3f5f"
          },
          "geo": {
           "bgcolor": "white",
           "lakecolor": "white",
           "landcolor": "#E5ECF6",
           "showlakes": true,
           "showland": true,
           "subunitcolor": "white"
          },
          "hoverlabel": {
           "align": "left"
          },
          "hovermode": "closest",
          "mapbox": {
           "style": "light"
          },
          "paper_bgcolor": "white",
          "plot_bgcolor": "#E5ECF6",
          "polar": {
           "angularaxis": {
            "gridcolor": "white",
            "linecolor": "white",
            "ticks": ""
           },
           "bgcolor": "#E5ECF6",
           "radialaxis": {
            "gridcolor": "white",
            "linecolor": "white",
            "ticks": ""
           }
          },
          "scene": {
           "xaxis": {
            "backgroundcolor": "#E5ECF6",
            "gridcolor": "white",
            "gridwidth": 2,
            "linecolor": "white",
            "showbackground": true,
            "ticks": "",
            "zerolinecolor": "white"
           },
           "yaxis": {
            "backgroundcolor": "#E5ECF6",
            "gridcolor": "white",
            "gridwidth": 2,
            "linecolor": "white",
            "showbackground": true,
            "ticks": "",
            "zerolinecolor": "white"
           },
           "zaxis": {
            "backgroundcolor": "#E5ECF6",
            "gridcolor": "white",
            "gridwidth": 2,
            "linecolor": "white",
            "showbackground": true,
            "ticks": "",
            "zerolinecolor": "white"
           }
          },
          "shapedefaults": {
           "line": {
            "color": "#2a3f5f"
           }
          },
          "ternary": {
           "aaxis": {
            "gridcolor": "white",
            "linecolor": "white",
            "ticks": ""
           },
           "baxis": {
            "gridcolor": "white",
            "linecolor": "white",
            "ticks": ""
           },
           "bgcolor": "#E5ECF6",
           "caxis": {
            "gridcolor": "white",
            "linecolor": "white",
            "ticks": ""
           }
          },
          "title": {
           "x": 0.05
          },
          "xaxis": {
           "automargin": true,
           "gridcolor": "white",
           "linecolor": "white",
           "ticks": "",
           "title": {
            "standoff": 15
           },
           "zerolinecolor": "white",
           "zerolinewidth": 2
          },
          "yaxis": {
           "automargin": true,
           "gridcolor": "white",
           "linecolor": "white",
           "ticks": "",
           "title": {
            "standoff": 15
           },
           "zerolinecolor": "white",
           "zerolinewidth": 2
          }
         }
        },
        "title": {
         "text": "Parallel Coordinate Plot"
        }
       }
      }
     },
     "metadata": {},
     "output_type": "display_data"
    }
   ],
   "source": [
    "optuna.visualization.plot_parallel_coordinate(study)"
   ]
  },
  {
   "cell_type": "code",
   "execution_count": 26,
   "metadata": {},
   "outputs": [
    {
     "data": {
      "application/vnd.plotly.v1+json": {
       "config": {
        "plotlyServerURL": "https://plot.ly"
       },
       "data": [
        {
         "marker": {
          "color": [
           0,
           1,
           2,
           3,
           4,
           5,
           6,
           7,
           8,
           9,
           10,
           11,
           12,
           13,
           14,
           15,
           16,
           17,
           18,
           19,
           20,
           21,
           22,
           23,
           24,
           25,
           26,
           27,
           28,
           29,
           30,
           31,
           32,
           33,
           34
          ],
          "colorbar": {
           "title": {
            "text": "Trial"
           },
           "x": 1,
           "xpad": 40
          },
          "colorscale": [
           [
            0,
            "rgb(247,251,255)"
           ],
           [
            0.125,
            "rgb(222,235,247)"
           ],
           [
            0.25,
            "rgb(198,219,239)"
           ],
           [
            0.375,
            "rgb(158,202,225)"
           ],
           [
            0.5,
            "rgb(107,174,214)"
           ],
           [
            0.625,
            "rgb(66,146,198)"
           ],
           [
            0.75,
            "rgb(33,113,181)"
           ],
           [
            0.875,
            "rgb(8,81,156)"
           ],
           [
            1,
            "rgb(8,48,107)"
           ]
          ],
          "line": {
           "color": "Grey",
           "width": 0.5
          },
          "showscale": true
         },
         "mode": "markers",
         "name": "Feasible Trial",
         "showlegend": false,
         "type": "scatter",
         "x": [
          200,
          200,
          200,
          100,
          200,
          150,
          200,
          150,
          150,
          200,
          100,
          100,
          100,
          100,
          100,
          200,
          100,
          200,
          100,
          150,
          200,
          150,
          150,
          150,
          150,
          150,
          100,
          200,
          150,
          100,
          200,
          150,
          150,
          150,
          150
         ],
         "xaxis": "x",
         "y": [
          0.2582566916083945,
          0.7397243107769423,
          0.03487253487253487,
          0.4927765330677952,
          0.2048780487804878,
          0.7178831099783266,
          0.7075079433569998,
          0.4104813315339631,
          0.7187736469303957,
          0.6437047346296103,
          0.7410560850537378,
          0.7004367588713172,
          0.7338085274891545,
          0.7187234404215536,
          0.7251143410414643,
          0.20952380952380953,
          0.7083551689200992,
          0.6891311575135104,
          0.7303230111071862,
          0.7355501340321076,
          0.20555555555555557,
          0.736955681025112,
          0.7069358178053831,
          0.7005870672537338,
          0.7288287315009699,
          0.1993127147766323,
          0.6182821118991332,
          0.7221044711714647,
          0.7251014997100008,
          0.7247416953493858,
          0.19865319865319866,
          0.7330559549961694,
          0.7354094453087331,
          0.736661712964727,
          0.743672415096469
         ],
         "yaxis": "y"
        },
        {
         "marker": {
          "color": [
           0,
           1,
           2,
           3,
           4,
           5,
           6,
           7,
           8,
           9,
           10,
           11,
           12,
           13,
           14,
           15,
           16,
           17,
           18,
           19,
           20,
           21,
           22,
           23,
           24,
           25,
           26,
           27,
           28,
           29,
           30,
           31,
           32,
           33,
           34
          ],
          "colorbar": {
           "title": {
            "text": "Trial"
           },
           "x": 1,
           "xpad": 40
          },
          "colorscale": [
           [
            0,
            "rgb(247,251,255)"
           ],
           [
            0.125,
            "rgb(222,235,247)"
           ],
           [
            0.25,
            "rgb(198,219,239)"
           ],
           [
            0.375,
            "rgb(158,202,225)"
           ],
           [
            0.5,
            "rgb(107,174,214)"
           ],
           [
            0.625,
            "rgb(66,146,198)"
           ],
           [
            0.75,
            "rgb(33,113,181)"
           ],
           [
            0.875,
            "rgb(8,81,156)"
           ],
           [
            1,
            "rgb(8,48,107)"
           ]
          ],
          "line": {
           "color": "Grey",
           "width": 0.5
          },
          "showscale": false
         },
         "mode": "markers",
         "name": "Feasible Trial",
         "showlegend": false,
         "type": "scatter",
         "x": [
          128,
          64,
          256,
          64,
          64,
          64,
          128,
          64,
          256,
          256,
          64,
          64,
          64,
          64,
          64,
          128,
          64,
          64,
          128,
          256,
          64,
          256,
          256,
          256,
          256,
          256,
          64,
          64,
          128,
          256,
          128,
          256,
          256,
          256,
          256
         ],
         "xaxis": "x2",
         "y": [
          0.2582566916083945,
          0.7397243107769423,
          0.03487253487253487,
          0.4927765330677952,
          0.2048780487804878,
          0.7178831099783266,
          0.7075079433569998,
          0.4104813315339631,
          0.7187736469303957,
          0.6437047346296103,
          0.7410560850537378,
          0.7004367588713172,
          0.7338085274891545,
          0.7187234404215536,
          0.7251143410414643,
          0.20952380952380953,
          0.7083551689200992,
          0.6891311575135104,
          0.7303230111071862,
          0.7355501340321076,
          0.20555555555555557,
          0.736955681025112,
          0.7069358178053831,
          0.7005870672537338,
          0.7288287315009699,
          0.1993127147766323,
          0.6182821118991332,
          0.7221044711714647,
          0.7251014997100008,
          0.7247416953493858,
          0.19865319865319866,
          0.7330559549961694,
          0.7354094453087331,
          0.736661712964727,
          0.743672415096469
         ],
         "yaxis": "y2"
        },
        {
         "marker": {
          "color": [
           0,
           1,
           2,
           3,
           4,
           5,
           6,
           7,
           8,
           9,
           10,
           11,
           12,
           13,
           14,
           15,
           16,
           17,
           18,
           19,
           20,
           21,
           22,
           23,
           24,
           25,
           26,
           27,
           28,
           29,
           30,
           31,
           32,
           33,
           34
          ],
          "colorbar": {
           "title": {
            "text": "Trial"
           },
           "x": 1,
           "xpad": 40
          },
          "colorscale": [
           [
            0,
            "rgb(247,251,255)"
           ],
           [
            0.125,
            "rgb(222,235,247)"
           ],
           [
            0.25,
            "rgb(198,219,239)"
           ],
           [
            0.375,
            "rgb(158,202,225)"
           ],
           [
            0.5,
            "rgb(107,174,214)"
           ],
           [
            0.625,
            "rgb(66,146,198)"
           ],
           [
            0.75,
            "rgb(33,113,181)"
           ],
           [
            0.875,
            "rgb(8,81,156)"
           ],
           [
            1,
            "rgb(8,48,107)"
           ]
          ],
          "line": {
           "color": "Grey",
           "width": 0.5
          },
          "showscale": false
         },
         "mode": "markers",
         "name": "Feasible Trial",
         "showlegend": false,
         "type": "scatter",
         "x": [
          0.05554937256711111,
          0.16238731348221075,
          0.1156713724500694,
          0.1731740948385147,
          0.09183897870762982,
          0.09250840338104498,
          0.0986729597160335,
          0.1731643507450079,
          0.16134343558461572,
          0.2291435960126414,
          0.2972137704934936,
          0.28061157532406417,
          0.23417605472778696,
          0.2818320666291123,
          0.22251626560325732,
          0.1378090102336979,
          0.20498071047682687,
          0.26062489815836487,
          0.19866896646462542,
          0.15064557057690897,
          0.25114280027181346,
          0.1453264456086812,
          0.13387570402654014,
          0.18833485064608974,
          0.12800229872034904,
          0.2945510490437179,
          0.0651886095045491,
          0.15349679728788918,
          0.1877705161672686,
          0.06385206243116642,
          0.11174956415258834,
          0.1478180141067793,
          0.15590285977199148,
          0.11465077494664683,
          0.12046325878870909
         ],
         "xaxis": "x3",
         "y": [
          0.2582566916083945,
          0.7397243107769423,
          0.03487253487253487,
          0.4927765330677952,
          0.2048780487804878,
          0.7178831099783266,
          0.7075079433569998,
          0.4104813315339631,
          0.7187736469303957,
          0.6437047346296103,
          0.7410560850537378,
          0.7004367588713172,
          0.7338085274891545,
          0.7187234404215536,
          0.7251143410414643,
          0.20952380952380953,
          0.7083551689200992,
          0.6891311575135104,
          0.7303230111071862,
          0.7355501340321076,
          0.20555555555555557,
          0.736955681025112,
          0.7069358178053831,
          0.7005870672537338,
          0.7288287315009699,
          0.1993127147766323,
          0.6182821118991332,
          0.7221044711714647,
          0.7251014997100008,
          0.7247416953493858,
          0.19865319865319866,
          0.7330559549961694,
          0.7354094453087331,
          0.736661712964727,
          0.743672415096469
         ],
         "yaxis": "y3"
        },
        {
         "marker": {
          "color": [
           0,
           1,
           2,
           3,
           4,
           5,
           6,
           7,
           8,
           9,
           10,
           11,
           12,
           13,
           14,
           15,
           16,
           17,
           18,
           19,
           20,
           21,
           22,
           23,
           24,
           25,
           26,
           27,
           28,
           29,
           30,
           31,
           32,
           33,
           34
          ],
          "colorbar": {
           "title": {
            "text": "Trial"
           },
           "x": 1,
           "xpad": 40
          },
          "colorscale": [
           [
            0,
            "rgb(247,251,255)"
           ],
           [
            0.125,
            "rgb(222,235,247)"
           ],
           [
            0.25,
            "rgb(198,219,239)"
           ],
           [
            0.375,
            "rgb(158,202,225)"
           ],
           [
            0.5,
            "rgb(107,174,214)"
           ],
           [
            0.625,
            "rgb(66,146,198)"
           ],
           [
            0.75,
            "rgb(33,113,181)"
           ],
           [
            0.875,
            "rgb(8,81,156)"
           ],
           [
            1,
            "rgb(8,48,107)"
           ]
          ],
          "line": {
           "color": "Grey",
           "width": 0.5
          },
          "showscale": false
         },
         "mode": "markers",
         "name": "Feasible Trial",
         "showlegend": false,
         "type": "scatter",
         "x": [
          0.09937082675952327,
          0.09349754729562262,
          0.08537928994950458,
          0.08537947874638763,
          0.07555304134674155,
          0.09349698775914125,
          0.07398456754725026,
          0.0735411454485706,
          0.07821175835909654,
          0.07990923174589054,
          0.057854034295215365,
          0.05672700459303386,
          0.050039131186963744,
          0.06330557333773223,
          0.06766958994432284,
          0.06389674553083408,
          0.052401396449164334,
          0.09366006862483765,
          0.05851597962389249,
          0.08600847328552844,
          0.06711093143267129,
          0.08791295233242938,
          0.09206698211614449,
          0.0994080963787085,
          0.08949453778337746,
          0.08221136191243872,
          0.09691956847692654,
          0.08988517994586956,
          0.0710547738303259,
          0.08170980573983573,
          0.09680690346663146,
          0.08643159140122408,
          0.08820431595805273,
          0.0826595204037524,
          0.083088237668143
         ],
         "xaxis": "x4",
         "y": [
          0.2582566916083945,
          0.7397243107769423,
          0.03487253487253487,
          0.4927765330677952,
          0.2048780487804878,
          0.7178831099783266,
          0.7075079433569998,
          0.4104813315339631,
          0.7187736469303957,
          0.6437047346296103,
          0.7410560850537378,
          0.7004367588713172,
          0.7338085274891545,
          0.7187234404215536,
          0.7251143410414643,
          0.20952380952380953,
          0.7083551689200992,
          0.6891311575135104,
          0.7303230111071862,
          0.7355501340321076,
          0.20555555555555557,
          0.736955681025112,
          0.7069358178053831,
          0.7005870672537338,
          0.7288287315009699,
          0.1993127147766323,
          0.6182821118991332,
          0.7221044711714647,
          0.7251014997100008,
          0.7247416953493858,
          0.19865319865319866,
          0.7330559549961694,
          0.7354094453087331,
          0.736661712964727,
          0.743672415096469
         ],
         "yaxis": "y4"
        },
        {
         "marker": {
          "color": [
           0,
           1,
           2,
           3,
           4,
           5,
           6,
           7,
           8,
           9,
           10,
           11,
           12,
           13,
           14,
           15,
           16,
           17,
           18,
           19,
           20,
           21,
           22,
           23,
           24,
           25,
           26,
           27,
           28,
           29,
           30,
           31,
           32,
           33,
           34
          ],
          "colorbar": {
           "title": {
            "text": "Trial"
           },
           "x": 1,
           "xpad": 40
          },
          "colorscale": [
           [
            0,
            "rgb(247,251,255)"
           ],
           [
            0.125,
            "rgb(222,235,247)"
           ],
           [
            0.25,
            "rgb(198,219,239)"
           ],
           [
            0.375,
            "rgb(158,202,225)"
           ],
           [
            0.5,
            "rgb(107,174,214)"
           ],
           [
            0.625,
            "rgb(66,146,198)"
           ],
           [
            0.75,
            "rgb(33,113,181)"
           ],
           [
            0.875,
            "rgb(8,81,156)"
           ],
           [
            1,
            "rgb(8,48,107)"
           ]
          ],
          "line": {
           "color": "Grey",
           "width": 0.5
          },
          "showscale": false
         },
         "mode": "markers",
         "name": "Feasible Trial",
         "showlegend": false,
         "type": "scatter",
         "x": [
          0.000022473858786331558,
          0.000235837375972441,
          0.0000011635393603063947,
          0.00005004345599490854,
          0.000023248275975612407,
          0.0007674171673042348,
          0.0004480420675843755,
          0.0000023094071481095476,
          0.00016987384540062114,
          0.000030718743013361876,
          0.00015302368750292746,
          0.0001547499414756148,
          0.00016762821491891325,
          0.00008025000116876372,
          0.0004076065453883772,
          0.000009041973441856718,
          0.00028675383501458807,
          0.0009627796574239111,
          0.00007604936940612161,
          0.00011931169586112166,
          0.000007694072728756075,
          0.00010564926287579155,
          0.000287529810936762,
          0.000054084277920453076,
          0.0002662989058111937,
          0.0000120628423169246,
          0.00010495226455352575,
          0.0005562781120729123,
          0.0000495490175608353,
          0.00022810096153700054,
          0.000017689390716193458,
          0.00011770387178985493,
          0.00009393652218769055,
          0.0000567961592098049,
          0.000046059257159255764
         ],
         "xaxis": "x5",
         "y": [
          0.2582566916083945,
          0.7397243107769423,
          0.03487253487253487,
          0.4927765330677952,
          0.2048780487804878,
          0.7178831099783266,
          0.7075079433569998,
          0.4104813315339631,
          0.7187736469303957,
          0.6437047346296103,
          0.7410560850537378,
          0.7004367588713172,
          0.7338085274891545,
          0.7187234404215536,
          0.7251143410414643,
          0.20952380952380953,
          0.7083551689200992,
          0.6891311575135104,
          0.7303230111071862,
          0.7355501340321076,
          0.20555555555555557,
          0.736955681025112,
          0.7069358178053831,
          0.7005870672537338,
          0.7288287315009699,
          0.1993127147766323,
          0.6182821118991332,
          0.7221044711714647,
          0.7251014997100008,
          0.7247416953493858,
          0.19865319865319866,
          0.7330559549961694,
          0.7354094453087331,
          0.736661712964727,
          0.743672415096469
         ],
         "yaxis": "y5"
        }
       ],
       "layout": {
        "template": {
         "data": {
          "bar": [
           {
            "error_x": {
             "color": "#2a3f5f"
            },
            "error_y": {
             "color": "#2a3f5f"
            },
            "marker": {
             "line": {
              "color": "#E5ECF6",
              "width": 0.5
             },
             "pattern": {
              "fillmode": "overlay",
              "size": 10,
              "solidity": 0.2
             }
            },
            "type": "bar"
           }
          ],
          "barpolar": [
           {
            "marker": {
             "line": {
              "color": "#E5ECF6",
              "width": 0.5
             },
             "pattern": {
              "fillmode": "overlay",
              "size": 10,
              "solidity": 0.2
             }
            },
            "type": "barpolar"
           }
          ],
          "carpet": [
           {
            "aaxis": {
             "endlinecolor": "#2a3f5f",
             "gridcolor": "white",
             "linecolor": "white",
             "minorgridcolor": "white",
             "startlinecolor": "#2a3f5f"
            },
            "baxis": {
             "endlinecolor": "#2a3f5f",
             "gridcolor": "white",
             "linecolor": "white",
             "minorgridcolor": "white",
             "startlinecolor": "#2a3f5f"
            },
            "type": "carpet"
           }
          ],
          "choropleth": [
           {
            "colorbar": {
             "outlinewidth": 0,
             "ticks": ""
            },
            "type": "choropleth"
           }
          ],
          "contour": [
           {
            "colorbar": {
             "outlinewidth": 0,
             "ticks": ""
            },
            "colorscale": [
             [
              0,
              "#0d0887"
             ],
             [
              0.1111111111111111,
              "#46039f"
             ],
             [
              0.2222222222222222,
              "#7201a8"
             ],
             [
              0.3333333333333333,
              "#9c179e"
             ],
             [
              0.4444444444444444,
              "#bd3786"
             ],
             [
              0.5555555555555556,
              "#d8576b"
             ],
             [
              0.6666666666666666,
              "#ed7953"
             ],
             [
              0.7777777777777778,
              "#fb9f3a"
             ],
             [
              0.8888888888888888,
              "#fdca26"
             ],
             [
              1,
              "#f0f921"
             ]
            ],
            "type": "contour"
           }
          ],
          "contourcarpet": [
           {
            "colorbar": {
             "outlinewidth": 0,
             "ticks": ""
            },
            "type": "contourcarpet"
           }
          ],
          "heatmap": [
           {
            "colorbar": {
             "outlinewidth": 0,
             "ticks": ""
            },
            "colorscale": [
             [
              0,
              "#0d0887"
             ],
             [
              0.1111111111111111,
              "#46039f"
             ],
             [
              0.2222222222222222,
              "#7201a8"
             ],
             [
              0.3333333333333333,
              "#9c179e"
             ],
             [
              0.4444444444444444,
              "#bd3786"
             ],
             [
              0.5555555555555556,
              "#d8576b"
             ],
             [
              0.6666666666666666,
              "#ed7953"
             ],
             [
              0.7777777777777778,
              "#fb9f3a"
             ],
             [
              0.8888888888888888,
              "#fdca26"
             ],
             [
              1,
              "#f0f921"
             ]
            ],
            "type": "heatmap"
           }
          ],
          "heatmapgl": [
           {
            "colorbar": {
             "outlinewidth": 0,
             "ticks": ""
            },
            "colorscale": [
             [
              0,
              "#0d0887"
             ],
             [
              0.1111111111111111,
              "#46039f"
             ],
             [
              0.2222222222222222,
              "#7201a8"
             ],
             [
              0.3333333333333333,
              "#9c179e"
             ],
             [
              0.4444444444444444,
              "#bd3786"
             ],
             [
              0.5555555555555556,
              "#d8576b"
             ],
             [
              0.6666666666666666,
              "#ed7953"
             ],
             [
              0.7777777777777778,
              "#fb9f3a"
             ],
             [
              0.8888888888888888,
              "#fdca26"
             ],
             [
              1,
              "#f0f921"
             ]
            ],
            "type": "heatmapgl"
           }
          ],
          "histogram": [
           {
            "marker": {
             "pattern": {
              "fillmode": "overlay",
              "size": 10,
              "solidity": 0.2
             }
            },
            "type": "histogram"
           }
          ],
          "histogram2d": [
           {
            "colorbar": {
             "outlinewidth": 0,
             "ticks": ""
            },
            "colorscale": [
             [
              0,
              "#0d0887"
             ],
             [
              0.1111111111111111,
              "#46039f"
             ],
             [
              0.2222222222222222,
              "#7201a8"
             ],
             [
              0.3333333333333333,
              "#9c179e"
             ],
             [
              0.4444444444444444,
              "#bd3786"
             ],
             [
              0.5555555555555556,
              "#d8576b"
             ],
             [
              0.6666666666666666,
              "#ed7953"
             ],
             [
              0.7777777777777778,
              "#fb9f3a"
             ],
             [
              0.8888888888888888,
              "#fdca26"
             ],
             [
              1,
              "#f0f921"
             ]
            ],
            "type": "histogram2d"
           }
          ],
          "histogram2dcontour": [
           {
            "colorbar": {
             "outlinewidth": 0,
             "ticks": ""
            },
            "colorscale": [
             [
              0,
              "#0d0887"
             ],
             [
              0.1111111111111111,
              "#46039f"
             ],
             [
              0.2222222222222222,
              "#7201a8"
             ],
             [
              0.3333333333333333,
              "#9c179e"
             ],
             [
              0.4444444444444444,
              "#bd3786"
             ],
             [
              0.5555555555555556,
              "#d8576b"
             ],
             [
              0.6666666666666666,
              "#ed7953"
             ],
             [
              0.7777777777777778,
              "#fb9f3a"
             ],
             [
              0.8888888888888888,
              "#fdca26"
             ],
             [
              1,
              "#f0f921"
             ]
            ],
            "type": "histogram2dcontour"
           }
          ],
          "mesh3d": [
           {
            "colorbar": {
             "outlinewidth": 0,
             "ticks": ""
            },
            "type": "mesh3d"
           }
          ],
          "parcoords": [
           {
            "line": {
             "colorbar": {
              "outlinewidth": 0,
              "ticks": ""
             }
            },
            "type": "parcoords"
           }
          ],
          "pie": [
           {
            "automargin": true,
            "type": "pie"
           }
          ],
          "scatter": [
           {
            "fillpattern": {
             "fillmode": "overlay",
             "size": 10,
             "solidity": 0.2
            },
            "type": "scatter"
           }
          ],
          "scatter3d": [
           {
            "line": {
             "colorbar": {
              "outlinewidth": 0,
              "ticks": ""
             }
            },
            "marker": {
             "colorbar": {
              "outlinewidth": 0,
              "ticks": ""
             }
            },
            "type": "scatter3d"
           }
          ],
          "scattercarpet": [
           {
            "marker": {
             "colorbar": {
              "outlinewidth": 0,
              "ticks": ""
             }
            },
            "type": "scattercarpet"
           }
          ],
          "scattergeo": [
           {
            "marker": {
             "colorbar": {
              "outlinewidth": 0,
              "ticks": ""
             }
            },
            "type": "scattergeo"
           }
          ],
          "scattergl": [
           {
            "marker": {
             "colorbar": {
              "outlinewidth": 0,
              "ticks": ""
             }
            },
            "type": "scattergl"
           }
          ],
          "scattermapbox": [
           {
            "marker": {
             "colorbar": {
              "outlinewidth": 0,
              "ticks": ""
             }
            },
            "type": "scattermapbox"
           }
          ],
          "scatterpolar": [
           {
            "marker": {
             "colorbar": {
              "outlinewidth": 0,
              "ticks": ""
             }
            },
            "type": "scatterpolar"
           }
          ],
          "scatterpolargl": [
           {
            "marker": {
             "colorbar": {
              "outlinewidth": 0,
              "ticks": ""
             }
            },
            "type": "scatterpolargl"
           }
          ],
          "scatterternary": [
           {
            "marker": {
             "colorbar": {
              "outlinewidth": 0,
              "ticks": ""
             }
            },
            "type": "scatterternary"
           }
          ],
          "surface": [
           {
            "colorbar": {
             "outlinewidth": 0,
             "ticks": ""
            },
            "colorscale": [
             [
              0,
              "#0d0887"
             ],
             [
              0.1111111111111111,
              "#46039f"
             ],
             [
              0.2222222222222222,
              "#7201a8"
             ],
             [
              0.3333333333333333,
              "#9c179e"
             ],
             [
              0.4444444444444444,
              "#bd3786"
             ],
             [
              0.5555555555555556,
              "#d8576b"
             ],
             [
              0.6666666666666666,
              "#ed7953"
             ],
             [
              0.7777777777777778,
              "#fb9f3a"
             ],
             [
              0.8888888888888888,
              "#fdca26"
             ],
             [
              1,
              "#f0f921"
             ]
            ],
            "type": "surface"
           }
          ],
          "table": [
           {
            "cells": {
             "fill": {
              "color": "#EBF0F8"
             },
             "line": {
              "color": "white"
             }
            },
            "header": {
             "fill": {
              "color": "#C8D4E3"
             },
             "line": {
              "color": "white"
             }
            },
            "type": "table"
           }
          ]
         },
         "layout": {
          "annotationdefaults": {
           "arrowcolor": "#2a3f5f",
           "arrowhead": 0,
           "arrowwidth": 1
          },
          "autotypenumbers": "strict",
          "coloraxis": {
           "colorbar": {
            "outlinewidth": 0,
            "ticks": ""
           }
          },
          "colorscale": {
           "diverging": [
            [
             0,
             "#8e0152"
            ],
            [
             0.1,
             "#c51b7d"
            ],
            [
             0.2,
             "#de77ae"
            ],
            [
             0.3,
             "#f1b6da"
            ],
            [
             0.4,
             "#fde0ef"
            ],
            [
             0.5,
             "#f7f7f7"
            ],
            [
             0.6,
             "#e6f5d0"
            ],
            [
             0.7,
             "#b8e186"
            ],
            [
             0.8,
             "#7fbc41"
            ],
            [
             0.9,
             "#4d9221"
            ],
            [
             1,
             "#276419"
            ]
           ],
           "sequential": [
            [
             0,
             "#0d0887"
            ],
            [
             0.1111111111111111,
             "#46039f"
            ],
            [
             0.2222222222222222,
             "#7201a8"
            ],
            [
             0.3333333333333333,
             "#9c179e"
            ],
            [
             0.4444444444444444,
             "#bd3786"
            ],
            [
             0.5555555555555556,
             "#d8576b"
            ],
            [
             0.6666666666666666,
             "#ed7953"
            ],
            [
             0.7777777777777778,
             "#fb9f3a"
            ],
            [
             0.8888888888888888,
             "#fdca26"
            ],
            [
             1,
             "#f0f921"
            ]
           ],
           "sequentialminus": [
            [
             0,
             "#0d0887"
            ],
            [
             0.1111111111111111,
             "#46039f"
            ],
            [
             0.2222222222222222,
             "#7201a8"
            ],
            [
             0.3333333333333333,
             "#9c179e"
            ],
            [
             0.4444444444444444,
             "#bd3786"
            ],
            [
             0.5555555555555556,
             "#d8576b"
            ],
            [
             0.6666666666666666,
             "#ed7953"
            ],
            [
             0.7777777777777778,
             "#fb9f3a"
            ],
            [
             0.8888888888888888,
             "#fdca26"
            ],
            [
             1,
             "#f0f921"
            ]
           ]
          },
          "colorway": [
           "#636efa",
           "#EF553B",
           "#00cc96",
           "#ab63fa",
           "#FFA15A",
           "#19d3f3",
           "#FF6692",
           "#B6E880",
           "#FF97FF",
           "#FECB52"
          ],
          "font": {
           "color": "#2a3f5f"
          },
          "geo": {
           "bgcolor": "white",
           "lakecolor": "white",
           "landcolor": "#E5ECF6",
           "showlakes": true,
           "showland": true,
           "subunitcolor": "white"
          },
          "hoverlabel": {
           "align": "left"
          },
          "hovermode": "closest",
          "mapbox": {
           "style": "light"
          },
          "paper_bgcolor": "white",
          "plot_bgcolor": "#E5ECF6",
          "polar": {
           "angularaxis": {
            "gridcolor": "white",
            "linecolor": "white",
            "ticks": ""
           },
           "bgcolor": "#E5ECF6",
           "radialaxis": {
            "gridcolor": "white",
            "linecolor": "white",
            "ticks": ""
           }
          },
          "scene": {
           "xaxis": {
            "backgroundcolor": "#E5ECF6",
            "gridcolor": "white",
            "gridwidth": 2,
            "linecolor": "white",
            "showbackground": true,
            "ticks": "",
            "zerolinecolor": "white"
           },
           "yaxis": {
            "backgroundcolor": "#E5ECF6",
            "gridcolor": "white",
            "gridwidth": 2,
            "linecolor": "white",
            "showbackground": true,
            "ticks": "",
            "zerolinecolor": "white"
           },
           "zaxis": {
            "backgroundcolor": "#E5ECF6",
            "gridcolor": "white",
            "gridwidth": 2,
            "linecolor": "white",
            "showbackground": true,
            "ticks": "",
            "zerolinecolor": "white"
           }
          },
          "shapedefaults": {
           "line": {
            "color": "#2a3f5f"
           }
          },
          "ternary": {
           "aaxis": {
            "gridcolor": "white",
            "linecolor": "white",
            "ticks": ""
           },
           "baxis": {
            "gridcolor": "white",
            "linecolor": "white",
            "ticks": ""
           },
           "bgcolor": "#E5ECF6",
           "caxis": {
            "gridcolor": "white",
            "linecolor": "white",
            "ticks": ""
           }
          },
          "title": {
           "x": 0.05
          },
          "xaxis": {
           "automargin": true,
           "gridcolor": "white",
           "linecolor": "white",
           "ticks": "",
           "title": {
            "standoff": 15
           },
           "zerolinecolor": "white",
           "zerolinewidth": 2
          },
          "yaxis": {
           "automargin": true,
           "gridcolor": "white",
           "linecolor": "white",
           "ticks": "",
           "title": {
            "standoff": 15
           },
           "zerolinecolor": "white",
           "zerolinewidth": 2
          }
         }
        },
        "title": {
         "text": "Slice Plot"
        },
        "width": 1500,
        "xaxis": {
         "anchor": "y",
         "categoryarray": [
          100,
          150,
          200
         ],
         "categoryorder": "array",
         "domain": [
          0,
          0.16799999999999998
         ],
         "title": {
          "text": "EMBEDDING_DIM"
         },
         "type": "category"
        },
        "xaxis2": {
         "anchor": "y2",
         "categoryarray": [
          64,
          128,
          256
         ],
         "categoryorder": "array",
         "domain": [
          0.208,
          0.376
         ],
         "title": {
          "text": "LSTM_units"
         },
         "type": "category"
        },
        "xaxis3": {
         "anchor": "y3",
         "domain": [
          0.416,
          0.584
         ],
         "title": {
          "text": "dropout_rate"
         }
        },
        "xaxis4": {
         "anchor": "y4",
         "domain": [
          0.624,
          0.792
         ],
         "title": {
          "text": "dropout_rate2"
         }
        },
        "xaxis5": {
         "anchor": "y5",
         "domain": [
          0.832,
          1
         ],
         "title": {
          "text": "learning_rate"
         },
         "type": "log"
        },
        "yaxis": {
         "anchor": "x",
         "domain": [
          0,
          1
         ],
         "title": {
          "text": "Objective Value"
         }
        },
        "yaxis2": {
         "anchor": "x2",
         "domain": [
          0,
          1
         ],
         "matches": "y",
         "showticklabels": false
        },
        "yaxis3": {
         "anchor": "x3",
         "domain": [
          0,
          1
         ],
         "matches": "y",
         "showticklabels": false
        },
        "yaxis4": {
         "anchor": "x4",
         "domain": [
          0,
          1
         ],
         "matches": "y",
         "showticklabels": false
        },
        "yaxis5": {
         "anchor": "x5",
         "domain": [
          0,
          1
         ],
         "matches": "y",
         "showticklabels": false
        }
       }
      }
     },
     "metadata": {},
     "output_type": "display_data"
    }
   ],
   "source": [
    "optuna.visualization.plot_slice(study,params=['dropout_rate','dropout_rate2','LSTM_units','EMBEDDING_DIM','learning_rate'])"
   ]
  },
  {
   "cell_type": "code",
   "execution_count": 32,
   "metadata": {},
   "outputs": [
    {
     "data": {
      "application/vnd.plotly.v1+json": {
       "config": {
        "plotlyServerURL": "https://plot.ly"
       },
       "data": [
        {
         "cliponaxis": false,
         "hovertemplate": [
          "EMBEDDING_DIM (CategoricalDistribution): 0.004627538522375546<extra></extra>",
          "LSTM_units (CategoricalDistribution): 0.007803060913260273<extra></extra>",
          "dropout_rate (FloatDistribution): 0.03571871213145898<extra></extra>",
          "dropout_rate2 (FloatDistribution): 0.0371451400791328<extra></extra>",
          "learning_rate (FloatDistribution): 0.9147055483537725<extra></extra>"
         ],
         "name": "Objective Value",
         "orientation": "h",
         "text": [
          "<0.01",
          "<0.01",
          "0.04",
          "0.04",
          "0.91"
         ],
         "textposition": "outside",
         "type": "bar",
         "x": [
          0.004627538522375546,
          0.007803060913260273,
          0.03571871213145898,
          0.0371451400791328,
          0.9147055483537725
         ],
         "y": [
          "EMBEDDING_DIM",
          "LSTM_units",
          "dropout_rate",
          "dropout_rate2",
          "learning_rate"
         ]
        }
       ],
       "layout": {
        "template": {
         "data": {
          "bar": [
           {
            "error_x": {
             "color": "#2a3f5f"
            },
            "error_y": {
             "color": "#2a3f5f"
            },
            "marker": {
             "line": {
              "color": "#E5ECF6",
              "width": 0.5
             },
             "pattern": {
              "fillmode": "overlay",
              "size": 10,
              "solidity": 0.2
             }
            },
            "type": "bar"
           }
          ],
          "barpolar": [
           {
            "marker": {
             "line": {
              "color": "#E5ECF6",
              "width": 0.5
             },
             "pattern": {
              "fillmode": "overlay",
              "size": 10,
              "solidity": 0.2
             }
            },
            "type": "barpolar"
           }
          ],
          "carpet": [
           {
            "aaxis": {
             "endlinecolor": "#2a3f5f",
             "gridcolor": "white",
             "linecolor": "white",
             "minorgridcolor": "white",
             "startlinecolor": "#2a3f5f"
            },
            "baxis": {
             "endlinecolor": "#2a3f5f",
             "gridcolor": "white",
             "linecolor": "white",
             "minorgridcolor": "white",
             "startlinecolor": "#2a3f5f"
            },
            "type": "carpet"
           }
          ],
          "choropleth": [
           {
            "colorbar": {
             "outlinewidth": 0,
             "ticks": ""
            },
            "type": "choropleth"
           }
          ],
          "contour": [
           {
            "colorbar": {
             "outlinewidth": 0,
             "ticks": ""
            },
            "colorscale": [
             [
              0,
              "#0d0887"
             ],
             [
              0.1111111111111111,
              "#46039f"
             ],
             [
              0.2222222222222222,
              "#7201a8"
             ],
             [
              0.3333333333333333,
              "#9c179e"
             ],
             [
              0.4444444444444444,
              "#bd3786"
             ],
             [
              0.5555555555555556,
              "#d8576b"
             ],
             [
              0.6666666666666666,
              "#ed7953"
             ],
             [
              0.7777777777777778,
              "#fb9f3a"
             ],
             [
              0.8888888888888888,
              "#fdca26"
             ],
             [
              1,
              "#f0f921"
             ]
            ],
            "type": "contour"
           }
          ],
          "contourcarpet": [
           {
            "colorbar": {
             "outlinewidth": 0,
             "ticks": ""
            },
            "type": "contourcarpet"
           }
          ],
          "heatmap": [
           {
            "colorbar": {
             "outlinewidth": 0,
             "ticks": ""
            },
            "colorscale": [
             [
              0,
              "#0d0887"
             ],
             [
              0.1111111111111111,
              "#46039f"
             ],
             [
              0.2222222222222222,
              "#7201a8"
             ],
             [
              0.3333333333333333,
              "#9c179e"
             ],
             [
              0.4444444444444444,
              "#bd3786"
             ],
             [
              0.5555555555555556,
              "#d8576b"
             ],
             [
              0.6666666666666666,
              "#ed7953"
             ],
             [
              0.7777777777777778,
              "#fb9f3a"
             ],
             [
              0.8888888888888888,
              "#fdca26"
             ],
             [
              1,
              "#f0f921"
             ]
            ],
            "type": "heatmap"
           }
          ],
          "heatmapgl": [
           {
            "colorbar": {
             "outlinewidth": 0,
             "ticks": ""
            },
            "colorscale": [
             [
              0,
              "#0d0887"
             ],
             [
              0.1111111111111111,
              "#46039f"
             ],
             [
              0.2222222222222222,
              "#7201a8"
             ],
             [
              0.3333333333333333,
              "#9c179e"
             ],
             [
              0.4444444444444444,
              "#bd3786"
             ],
             [
              0.5555555555555556,
              "#d8576b"
             ],
             [
              0.6666666666666666,
              "#ed7953"
             ],
             [
              0.7777777777777778,
              "#fb9f3a"
             ],
             [
              0.8888888888888888,
              "#fdca26"
             ],
             [
              1,
              "#f0f921"
             ]
            ],
            "type": "heatmapgl"
           }
          ],
          "histogram": [
           {
            "marker": {
             "pattern": {
              "fillmode": "overlay",
              "size": 10,
              "solidity": 0.2
             }
            },
            "type": "histogram"
           }
          ],
          "histogram2d": [
           {
            "colorbar": {
             "outlinewidth": 0,
             "ticks": ""
            },
            "colorscale": [
             [
              0,
              "#0d0887"
             ],
             [
              0.1111111111111111,
              "#46039f"
             ],
             [
              0.2222222222222222,
              "#7201a8"
             ],
             [
              0.3333333333333333,
              "#9c179e"
             ],
             [
              0.4444444444444444,
              "#bd3786"
             ],
             [
              0.5555555555555556,
              "#d8576b"
             ],
             [
              0.6666666666666666,
              "#ed7953"
             ],
             [
              0.7777777777777778,
              "#fb9f3a"
             ],
             [
              0.8888888888888888,
              "#fdca26"
             ],
             [
              1,
              "#f0f921"
             ]
            ],
            "type": "histogram2d"
           }
          ],
          "histogram2dcontour": [
           {
            "colorbar": {
             "outlinewidth": 0,
             "ticks": ""
            },
            "colorscale": [
             [
              0,
              "#0d0887"
             ],
             [
              0.1111111111111111,
              "#46039f"
             ],
             [
              0.2222222222222222,
              "#7201a8"
             ],
             [
              0.3333333333333333,
              "#9c179e"
             ],
             [
              0.4444444444444444,
              "#bd3786"
             ],
             [
              0.5555555555555556,
              "#d8576b"
             ],
             [
              0.6666666666666666,
              "#ed7953"
             ],
             [
              0.7777777777777778,
              "#fb9f3a"
             ],
             [
              0.8888888888888888,
              "#fdca26"
             ],
             [
              1,
              "#f0f921"
             ]
            ],
            "type": "histogram2dcontour"
           }
          ],
          "mesh3d": [
           {
            "colorbar": {
             "outlinewidth": 0,
             "ticks": ""
            },
            "type": "mesh3d"
           }
          ],
          "parcoords": [
           {
            "line": {
             "colorbar": {
              "outlinewidth": 0,
              "ticks": ""
             }
            },
            "type": "parcoords"
           }
          ],
          "pie": [
           {
            "automargin": true,
            "type": "pie"
           }
          ],
          "scatter": [
           {
            "fillpattern": {
             "fillmode": "overlay",
             "size": 10,
             "solidity": 0.2
            },
            "type": "scatter"
           }
          ],
          "scatter3d": [
           {
            "line": {
             "colorbar": {
              "outlinewidth": 0,
              "ticks": ""
             }
            },
            "marker": {
             "colorbar": {
              "outlinewidth": 0,
              "ticks": ""
             }
            },
            "type": "scatter3d"
           }
          ],
          "scattercarpet": [
           {
            "marker": {
             "colorbar": {
              "outlinewidth": 0,
              "ticks": ""
             }
            },
            "type": "scattercarpet"
           }
          ],
          "scattergeo": [
           {
            "marker": {
             "colorbar": {
              "outlinewidth": 0,
              "ticks": ""
             }
            },
            "type": "scattergeo"
           }
          ],
          "scattergl": [
           {
            "marker": {
             "colorbar": {
              "outlinewidth": 0,
              "ticks": ""
             }
            },
            "type": "scattergl"
           }
          ],
          "scattermapbox": [
           {
            "marker": {
             "colorbar": {
              "outlinewidth": 0,
              "ticks": ""
             }
            },
            "type": "scattermapbox"
           }
          ],
          "scatterpolar": [
           {
            "marker": {
             "colorbar": {
              "outlinewidth": 0,
              "ticks": ""
             }
            },
            "type": "scatterpolar"
           }
          ],
          "scatterpolargl": [
           {
            "marker": {
             "colorbar": {
              "outlinewidth": 0,
              "ticks": ""
             }
            },
            "type": "scatterpolargl"
           }
          ],
          "scatterternary": [
           {
            "marker": {
             "colorbar": {
              "outlinewidth": 0,
              "ticks": ""
             }
            },
            "type": "scatterternary"
           }
          ],
          "surface": [
           {
            "colorbar": {
             "outlinewidth": 0,
             "ticks": ""
            },
            "colorscale": [
             [
              0,
              "#0d0887"
             ],
             [
              0.1111111111111111,
              "#46039f"
             ],
             [
              0.2222222222222222,
              "#7201a8"
             ],
             [
              0.3333333333333333,
              "#9c179e"
             ],
             [
              0.4444444444444444,
              "#bd3786"
             ],
             [
              0.5555555555555556,
              "#d8576b"
             ],
             [
              0.6666666666666666,
              "#ed7953"
             ],
             [
              0.7777777777777778,
              "#fb9f3a"
             ],
             [
              0.8888888888888888,
              "#fdca26"
             ],
             [
              1,
              "#f0f921"
             ]
            ],
            "type": "surface"
           }
          ],
          "table": [
           {
            "cells": {
             "fill": {
              "color": "#EBF0F8"
             },
             "line": {
              "color": "white"
             }
            },
            "header": {
             "fill": {
              "color": "#C8D4E3"
             },
             "line": {
              "color": "white"
             }
            },
            "type": "table"
           }
          ]
         },
         "layout": {
          "annotationdefaults": {
           "arrowcolor": "#2a3f5f",
           "arrowhead": 0,
           "arrowwidth": 1
          },
          "autotypenumbers": "strict",
          "coloraxis": {
           "colorbar": {
            "outlinewidth": 0,
            "ticks": ""
           }
          },
          "colorscale": {
           "diverging": [
            [
             0,
             "#8e0152"
            ],
            [
             0.1,
             "#c51b7d"
            ],
            [
             0.2,
             "#de77ae"
            ],
            [
             0.3,
             "#f1b6da"
            ],
            [
             0.4,
             "#fde0ef"
            ],
            [
             0.5,
             "#f7f7f7"
            ],
            [
             0.6,
             "#e6f5d0"
            ],
            [
             0.7,
             "#b8e186"
            ],
            [
             0.8,
             "#7fbc41"
            ],
            [
             0.9,
             "#4d9221"
            ],
            [
             1,
             "#276419"
            ]
           ],
           "sequential": [
            [
             0,
             "#0d0887"
            ],
            [
             0.1111111111111111,
             "#46039f"
            ],
            [
             0.2222222222222222,
             "#7201a8"
            ],
            [
             0.3333333333333333,
             "#9c179e"
            ],
            [
             0.4444444444444444,
             "#bd3786"
            ],
            [
             0.5555555555555556,
             "#d8576b"
            ],
            [
             0.6666666666666666,
             "#ed7953"
            ],
            [
             0.7777777777777778,
             "#fb9f3a"
            ],
            [
             0.8888888888888888,
             "#fdca26"
            ],
            [
             1,
             "#f0f921"
            ]
           ],
           "sequentialminus": [
            [
             0,
             "#0d0887"
            ],
            [
             0.1111111111111111,
             "#46039f"
            ],
            [
             0.2222222222222222,
             "#7201a8"
            ],
            [
             0.3333333333333333,
             "#9c179e"
            ],
            [
             0.4444444444444444,
             "#bd3786"
            ],
            [
             0.5555555555555556,
             "#d8576b"
            ],
            [
             0.6666666666666666,
             "#ed7953"
            ],
            [
             0.7777777777777778,
             "#fb9f3a"
            ],
            [
             0.8888888888888888,
             "#fdca26"
            ],
            [
             1,
             "#f0f921"
            ]
           ]
          },
          "colorway": [
           "#636efa",
           "#EF553B",
           "#00cc96",
           "#ab63fa",
           "#FFA15A",
           "#19d3f3",
           "#FF6692",
           "#B6E880",
           "#FF97FF",
           "#FECB52"
          ],
          "font": {
           "color": "#2a3f5f"
          },
          "geo": {
           "bgcolor": "white",
           "lakecolor": "white",
           "landcolor": "#E5ECF6",
           "showlakes": true,
           "showland": true,
           "subunitcolor": "white"
          },
          "hoverlabel": {
           "align": "left"
          },
          "hovermode": "closest",
          "mapbox": {
           "style": "light"
          },
          "paper_bgcolor": "white",
          "plot_bgcolor": "#E5ECF6",
          "polar": {
           "angularaxis": {
            "gridcolor": "white",
            "linecolor": "white",
            "ticks": ""
           },
           "bgcolor": "#E5ECF6",
           "radialaxis": {
            "gridcolor": "white",
            "linecolor": "white",
            "ticks": ""
           }
          },
          "scene": {
           "xaxis": {
            "backgroundcolor": "#E5ECF6",
            "gridcolor": "white",
            "gridwidth": 2,
            "linecolor": "white",
            "showbackground": true,
            "ticks": "",
            "zerolinecolor": "white"
           },
           "yaxis": {
            "backgroundcolor": "#E5ECF6",
            "gridcolor": "white",
            "gridwidth": 2,
            "linecolor": "white",
            "showbackground": true,
            "ticks": "",
            "zerolinecolor": "white"
           },
           "zaxis": {
            "backgroundcolor": "#E5ECF6",
            "gridcolor": "white",
            "gridwidth": 2,
            "linecolor": "white",
            "showbackground": true,
            "ticks": "",
            "zerolinecolor": "white"
           }
          },
          "shapedefaults": {
           "line": {
            "color": "#2a3f5f"
           }
          },
          "ternary": {
           "aaxis": {
            "gridcolor": "white",
            "linecolor": "white",
            "ticks": ""
           },
           "baxis": {
            "gridcolor": "white",
            "linecolor": "white",
            "ticks": ""
           },
           "bgcolor": "#E5ECF6",
           "caxis": {
            "gridcolor": "white",
            "linecolor": "white",
            "ticks": ""
           }
          },
          "title": {
           "x": 0.05
          },
          "xaxis": {
           "automargin": true,
           "gridcolor": "white",
           "linecolor": "white",
           "ticks": "",
           "title": {
            "standoff": 15
           },
           "zerolinecolor": "white",
           "zerolinewidth": 2
          },
          "yaxis": {
           "automargin": true,
           "gridcolor": "white",
           "linecolor": "white",
           "ticks": "",
           "title": {
            "standoff": 15
           },
           "zerolinecolor": "white",
           "zerolinewidth": 2
          }
         }
        },
        "title": {
         "text": "Hyperparameter Importances"
        },
        "xaxis": {
         "title": {
          "text": "Hyperparameter Importance"
         }
        },
        "yaxis": {
         "title": {
          "text": "Hyperparameter"
         }
        }
       }
      }
     },
     "metadata": {},
     "output_type": "display_data"
    }
   ],
   "source": [
    "optuna.visualization.plot_param_importances(study)"
   ]
  },
  {
   "cell_type": "code",
   "execution_count": 31,
   "metadata": {},
   "outputs": [
    {
     "name": "stderr",
     "output_type": "stream",
     "text": [
      "C:\\Users\\mrbvb\\AppData\\Local\\Temp\\ipykernel_49100\\2497081126.py:1: ExperimentalWarning:\n",
      "\n",
      "plot_timeline is experimental (supported from v3.2.0). The interface can change in the future.\n",
      "\n"
     ]
    },
    {
     "data": {
      "application/vnd.plotly.v1+json": {
       "config": {
        "plotlyServerURL": "https://plot.ly"
       },
       "data": [
        {
         "base": [
          "2024-04-23T16:33:27.901539",
          "2024-04-23T16:37:13.660123",
          "2024-04-23T16:41:04.951503",
          "2024-04-23T16:52:09.118208",
          "2024-04-23T16:57:54.193250",
          "2024-04-23T17:02:07.645130",
          "2024-04-23T17:07:46.965112",
          "2024-04-23T17:14:01.458427",
          "2024-04-23T17:20:13.278296",
          "2024-04-23T17:30:46.877688",
          "2024-04-23T17:42:26.223302",
          "2024-04-23T17:49:57.046277",
          "2024-04-23T17:57:14.658164",
          "2024-04-23T18:04:05.529899",
          "2024-04-23T18:11:05.956609",
          "2024-04-23T18:27:23.475483",
          "2024-04-23T18:46:28.489778",
          "2024-04-23T18:54:04.614728",
          "2024-04-23T19:01:01.303552",
          "2024-04-23T19:07:36.534323",
          "2024-04-23T19:21:39.946315",
          "2024-04-23T19:28:53.728135",
          "2024-04-23T19:40:17.390073",
          "2024-04-23T19:53:27.735008",
          "2024-04-23T20:06:21.905079",
          "2024-04-23T20:19:15.813103",
          "2024-04-23T20:32:34.574237",
          "2024-04-23T20:42:10.513125",
          "2024-04-23T20:49:50.986291",
          "2024-04-23T20:57:01.014008",
          "2024-04-23T21:16:22.571976",
          "2024-04-23T21:22:59.674019",
          "2024-04-23T21:35:04.523719",
          "2024-04-23T21:47:25.435688",
          "2024-04-23T22:00:04.944957"
         ],
         "hovertemplate": "%{text}<extra>COMPLETE</extra>",
         "marker": {
          "color": "blue"
         },
         "name": "COMPLETE",
         "orientation": "h",
         "text": [
          "{<br>  \"number\": 0,<br>  \"values\": [<br>    0.2582566916083945<br>  ],<br>  \"params\": {<br>    \"dropout_rate\": 0.05554937256711111,<br>    \"dropout_rate2\": 0.09937082675952327,<br>    \"LSTM_units\": 128,<br>    \"EMBEDDING_DIM\": 200,<br>    \"learning_rate\": 2.2473858786331558e-05<br>  }<br>}",
          "{<br>  \"number\": 1,<br>  \"values\": [<br>    0.7397243107769423<br>  ],<br>  \"params\": {<br>    \"dropout_rate\": 0.16238731348221075,<br>    \"dropout_rate2\": 0.09349754729562262,<br>    \"LSTM_units\": 64,<br>    \"EMBEDDING_DIM\": 200,<br>    \"learning_rate\": 0.000235837375972441<br>  }<br>}",
          "{<br>  \"number\": 2,<br>  \"values\": [<br>    0.03487253487253487<br>  ],<br>  \"params\": {<br>    \"dropout_rate\": 0.1156713724500694,<br>    \"dropout_rate2\": 0.08537928994950458,<br>    \"LSTM_units\": 256,<br>    \"EMBEDDING_DIM\": 200,<br>    \"learning_rate\": 1.1635393603063947e-06<br>  }<br>}",
          "{<br>  \"number\": 3,<br>  \"values\": [<br>    0.4927765330677952<br>  ],<br>  \"params\": {<br>    \"dropout_rate\": 0.1731740948385147,<br>    \"dropout_rate2\": 0.08537947874638763,<br>    \"LSTM_units\": 64,<br>    \"EMBEDDING_DIM\": 100,<br>    \"learning_rate\": 5.004345599490854e-05<br>  }<br>}",
          "{<br>  \"number\": 4,<br>  \"values\": [<br>    0.2048780487804878<br>  ],<br>  \"params\": {<br>    \"dropout_rate\": 0.09183897870762982,<br>    \"dropout_rate2\": 0.07555304134674155,<br>    \"LSTM_units\": 64,<br>    \"EMBEDDING_DIM\": 200,<br>    \"learning_rate\": 2.3248275975612407e-05<br>  }<br>}",
          "{<br>  \"number\": 5,<br>  \"values\": [<br>    0.7178831099783266<br>  ],<br>  \"params\": {<br>    \"dropout_rate\": 0.09250840338104498,<br>    \"dropout_rate2\": 0.09349698775914125,<br>    \"LSTM_units\": 64,<br>    \"EMBEDDING_DIM\": 150,<br>    \"learning_rate\": 0.0007674171673042348<br>  }<br>}",
          "{<br>  \"number\": 6,<br>  \"values\": [<br>    0.7075079433569998<br>  ],<br>  \"params\": {<br>    \"dropout_rate\": 0.0986729597160335,<br>    \"dropout_rate2\": 0.07398456754725026,<br>    \"LSTM_units\": 128,<br>    \"EMBEDDING_DIM\": 200,<br>    \"learning_rate\": 0.0004480420675843755<br>  }<br>}",
          "{<br>  \"number\": 7,<br>  \"values\": [<br>    0.4104813315339631<br>  ],<br>  \"params\": {<br>    \"dropout_rate\": 0.1731643507450079,<br>    \"dropout_rate2\": 0.0735411454485706,<br>    \"LSTM_units\": 64,<br>    \"EMBEDDING_DIM\": 150,<br>    \"learning_rate\": 2.3094071481095476e-06<br>  }<br>}",
          "{<br>  \"number\": 8,<br>  \"values\": [<br>    0.7187736469303957<br>  ],<br>  \"params\": {<br>    \"dropout_rate\": 0.16134343558461572,<br>    \"dropout_rate2\": 0.07821175835909654,<br>    \"LSTM_units\": 256,<br>    \"EMBEDDING_DIM\": 150,<br>    \"learning_rate\": 0.00016987384540062114<br>  }<br>}",
          "{<br>  \"number\": 9,<br>  \"values\": [<br>    0.6437047346296103<br>  ],<br>  \"params\": {<br>    \"dropout_rate\": 0.2291435960126414,<br>    \"dropout_rate2\": 0.07990923174589054,<br>    \"LSTM_units\": 256,<br>    \"EMBEDDING_DIM\": 200,<br>    \"learning_rate\": 3.0718743013361876e-05<br>  }<br>}",
          "{<br>  \"number\": 10,<br>  \"values\": [<br>    0.7410560850537378<br>  ],<br>  \"params\": {<br>    \"dropout_rate\": 0.2972137704934936,<br>    \"dropout_rate2\": 0.057854034295215365,<br>    \"LSTM_units\": 64,<br>    \"EMBEDDING_DIM\": 100,<br>    \"learning_rate\": 0.00015302368750292746<br>  }<br>}",
          "{<br>  \"number\": 11,<br>  \"values\": [<br>    0.7004367588713172<br>  ],<br>  \"params\": {<br>    \"dropout_rate\": 0.28061157532406417,<br>    \"dropout_rate2\": 0.05672700459303386,<br>    \"LSTM_units\": 64,<br>    \"EMBEDDING_DIM\": 100,<br>    \"learning_rate\": 0.0001547499414756148<br>  }<br>}",
          "{<br>  \"number\": 12,<br>  \"values\": [<br>    0.7338085274891545<br>  ],<br>  \"params\": {<br>    \"dropout_rate\": 0.23417605472778696,<br>    \"dropout_rate2\": 0.050039131186963744,<br>    \"LSTM_units\": 64,<br>    \"EMBEDDING_DIM\": 100,<br>    \"learning_rate\": 0.00016762821491891325<br>  }<br>}",
          "{<br>  \"number\": 13,<br>  \"values\": [<br>    0.7187234404215536<br>  ],<br>  \"params\": {<br>    \"dropout_rate\": 0.2818320666291123,<br>    \"dropout_rate2\": 0.06330557333773223,<br>    \"LSTM_units\": 64,<br>    \"EMBEDDING_DIM\": 100,<br>    \"learning_rate\": 8.025000116876372e-05<br>  }<br>}",
          "{<br>  \"number\": 14,<br>  \"values\": [<br>    0.7251143410414643<br>  ],<br>  \"params\": {<br>    \"dropout_rate\": 0.22251626560325732,<br>    \"dropout_rate2\": 0.06766958994432284,<br>    \"LSTM_units\": 64,<br>    \"EMBEDDING_DIM\": 100,<br>    \"learning_rate\": 0.0004076065453883772<br>  }<br>}",
          "{<br>  \"number\": 15,<br>  \"values\": [<br>    0.20952380952380953<br>  ],<br>  \"params\": {<br>    \"dropout_rate\": 0.1378090102336979,<br>    \"dropout_rate2\": 0.06389674553083408,<br>    \"LSTM_units\": 128,<br>    \"EMBEDDING_DIM\": 200,<br>    \"learning_rate\": 9.041973441856718e-06<br>  }<br>}",
          "{<br>  \"number\": 16,<br>  \"values\": [<br>    0.7083551689200992<br>  ],<br>  \"params\": {<br>    \"dropout_rate\": 0.20498071047682687,<br>    \"dropout_rate2\": 0.052401396449164334,<br>    \"LSTM_units\": 64,<br>    \"EMBEDDING_DIM\": 100,<br>    \"learning_rate\": 0.00028675383501458807<br>  }<br>}",
          "{<br>  \"number\": 17,<br>  \"values\": [<br>    0.6891311575135104<br>  ],<br>  \"params\": {<br>    \"dropout_rate\": 0.26062489815836487,<br>    \"dropout_rate2\": 0.09366006862483765,<br>    \"LSTM_units\": 64,<br>    \"EMBEDDING_DIM\": 200,<br>    \"learning_rate\": 0.0009627796574239111<br>  }<br>}",
          "{<br>  \"number\": 18,<br>  \"values\": [<br>    0.7303230111071862<br>  ],<br>  \"params\": {<br>    \"dropout_rate\": 0.19866896646462542,<br>    \"dropout_rate2\": 0.05851597962389249,<br>    \"LSTM_units\": 128,<br>    \"EMBEDDING_DIM\": 100,<br>    \"learning_rate\": 7.604936940612161e-05<br>  }<br>}",
          "{<br>  \"number\": 19,<br>  \"values\": [<br>    0.7355501340321076<br>  ],<br>  \"params\": {<br>    \"dropout_rate\": 0.15064557057690897,<br>    \"dropout_rate2\": 0.08600847328552844,<br>    \"LSTM_units\": 256,<br>    \"EMBEDDING_DIM\": 150,<br>    \"learning_rate\": 0.00011931169586112166<br>  }<br>}",
          "{<br>  \"number\": 20,<br>  \"values\": [<br>    0.20555555555555557<br>  ],<br>  \"params\": {<br>    \"dropout_rate\": 0.25114280027181346,<br>    \"dropout_rate2\": 0.06711093143267129,<br>    \"LSTM_units\": 64,<br>    \"EMBEDDING_DIM\": 200,<br>    \"learning_rate\": 7.694072728756075e-06<br>  }<br>}",
          "{<br>  \"number\": 21,<br>  \"values\": [<br>    0.736955681025112<br>  ],<br>  \"params\": {<br>    \"dropout_rate\": 0.1453264456086812,<br>    \"dropout_rate2\": 0.08791295233242938,<br>    \"LSTM_units\": 256,<br>    \"EMBEDDING_DIM\": 150,<br>    \"learning_rate\": 0.00010564926287579155<br>  }<br>}",
          "{<br>  \"number\": 22,<br>  \"values\": [<br>    0.7069358178053831<br>  ],<br>  \"params\": {<br>    \"dropout_rate\": 0.13387570402654014,<br>    \"dropout_rate2\": 0.09206698211614449,<br>    \"LSTM_units\": 256,<br>    \"EMBEDDING_DIM\": 150,<br>    \"learning_rate\": 0.000287529810936762<br>  }<br>}",
          "{<br>  \"number\": 23,<br>  \"values\": [<br>    0.7005870672537338<br>  ],<br>  \"params\": {<br>    \"dropout_rate\": 0.18833485064608974,<br>    \"dropout_rate2\": 0.0994080963787085,<br>    \"LSTM_units\": 256,<br>    \"EMBEDDING_DIM\": 150,<br>    \"learning_rate\": 5.4084277920453076e-05<br>  }<br>}",
          "{<br>  \"number\": 24,<br>  \"values\": [<br>    0.7288287315009699<br>  ],<br>  \"params\": {<br>    \"dropout_rate\": 0.12800229872034904,<br>    \"dropout_rate2\": 0.08949453778337746,<br>    \"LSTM_units\": 256,<br>    \"EMBEDDING_DIM\": 150,<br>    \"learning_rate\": 0.0002662989058111937<br>  }<br>}",
          "{<br>  \"number\": 25,<br>  \"values\": [<br>    0.1993127147766323<br>  ],<br>  \"params\": {<br>    \"dropout_rate\": 0.2945510490437179,<br>    \"dropout_rate2\": 0.08221136191243872,<br>    \"LSTM_units\": 256,<br>    \"EMBEDDING_DIM\": 150,<br>    \"learning_rate\": 1.20628423169246e-05<br>  }<br>}",
          "{<br>  \"number\": 26,<br>  \"values\": [<br>    0.6182821118991332<br>  ],<br>  \"params\": {<br>    \"dropout_rate\": 0.0651886095045491,<br>    \"dropout_rate2\": 0.09691956847692654,<br>    \"LSTM_units\": 64,<br>    \"EMBEDDING_DIM\": 100,<br>    \"learning_rate\": 0.00010495226455352575<br>  }<br>}",
          "{<br>  \"number\": 27,<br>  \"values\": [<br>    0.7221044711714647<br>  ],<br>  \"params\": {<br>    \"dropout_rate\": 0.15349679728788918,<br>    \"dropout_rate2\": 0.08988517994586956,<br>    \"LSTM_units\": 64,<br>    \"EMBEDDING_DIM\": 200,<br>    \"learning_rate\": 0.0005562781120729123<br>  }<br>}",
          "{<br>  \"number\": 28,<br>  \"values\": [<br>    0.7251014997100008<br>  ],<br>  \"params\": {<br>    \"dropout_rate\": 0.1877705161672686,<br>    \"dropout_rate2\": 0.0710547738303259,<br>    \"LSTM_units\": 128,<br>    \"EMBEDDING_DIM\": 150,<br>    \"learning_rate\": 4.95490175608353e-05<br>  }<br>}",
          "{<br>  \"number\": 29,<br>  \"values\": [<br>    0.7247416953493858<br>  ],<br>  \"params\": {<br>    \"dropout_rate\": 0.06385206243116642,<br>    \"dropout_rate2\": 0.08170980573983573,<br>    \"LSTM_units\": 256,<br>    \"EMBEDDING_DIM\": 100,<br>    \"learning_rate\": 0.00022810096153700054<br>  }<br>}",
          "{<br>  \"number\": 30,<br>  \"values\": [<br>    0.19865319865319866<br>  ],<br>  \"params\": {<br>    \"dropout_rate\": 0.11174956415258834,<br>    \"dropout_rate2\": 0.09680690346663146,<br>    \"LSTM_units\": 128,<br>    \"EMBEDDING_DIM\": 200,<br>    \"learning_rate\": 1.7689390716193458e-05<br>  }<br>}",
          "{<br>  \"number\": 31,<br>  \"values\": [<br>    0.7330559549961694<br>  ],<br>  \"params\": {<br>    \"dropout_rate\": 0.1478180141067793,<br>    \"dropout_rate2\": 0.08643159140122408,<br>    \"LSTM_units\": 256,<br>    \"EMBEDDING_DIM\": 150,<br>    \"learning_rate\": 0.00011770387178985493<br>  }<br>}",
          "{<br>  \"number\": 32,<br>  \"values\": [<br>    0.7354094453087331<br>  ],<br>  \"params\": {<br>    \"dropout_rate\": 0.15590285977199148,<br>    \"dropout_rate2\": 0.08820431595805273,<br>    \"LSTM_units\": 256,<br>    \"EMBEDDING_DIM\": 150,<br>    \"learning_rate\": 9.393652218769055e-05<br>  }<br>}",
          "{<br>  \"number\": 33,<br>  \"values\": [<br>    0.736661712964727<br>  ],<br>  \"params\": {<br>    \"dropout_rate\": 0.11465077494664683,<br>    \"dropout_rate2\": 0.0826595204037524,<br>    \"LSTM_units\": 256,<br>    \"EMBEDDING_DIM\": 150,<br>    \"learning_rate\": 5.67961592098049e-05<br>  }<br>}",
          "{<br>  \"number\": 34,<br>  \"values\": [<br>    0.743672415096469<br>  ],<br>  \"params\": {<br>    \"dropout_rate\": 0.12046325878870909,<br>    \"dropout_rate2\": 0.083088237668143,<br>    \"LSTM_units\": 256,<br>    \"EMBEDDING_DIM\": 150,<br>    \"learning_rate\": 4.6059257159255764e-05<br>  }<br>}"
         ],
         "textposition": "none",
         "type": "bar",
         "x": [
          225757.598,
          231290.353,
          664165.706,
          345074.041,
          253450.883,
          339318.986,
          374493.315,
          371818.34199999995,
          633598.38,
          699344.613,
          450821.974,
          437610.888,
          410871.735,
          420425.708,
          977514.8809999999,
          1145013.3020000001,
          456124.95,
          416687.826,
          395228.771,
          843410.962,
          433779.81999999995,
          683660.939,
          790343.4230000001,
          774169.082,
          773907.013,
          798760.127,
          575937.868,
          460472.172,
          430026.71400000004,
          1161557.968,
          397101.045,
          724849.7,
          740910.961,
          759508.2690000001,
          787573.86
         ],
         "y": [
          0,
          1,
          2,
          3,
          4,
          5,
          6,
          7,
          8,
          9,
          10,
          11,
          12,
          13,
          14,
          15,
          16,
          17,
          18,
          19,
          20,
          21,
          22,
          23,
          24,
          25,
          26,
          27,
          28,
          29,
          30,
          31,
          32,
          33,
          34
         ]
        }
       ],
       "layout": {
        "showlegend": true,
        "template": {
         "data": {
          "bar": [
           {
            "error_x": {
             "color": "#2a3f5f"
            },
            "error_y": {
             "color": "#2a3f5f"
            },
            "marker": {
             "line": {
              "color": "#E5ECF6",
              "width": 0.5
             },
             "pattern": {
              "fillmode": "overlay",
              "size": 10,
              "solidity": 0.2
             }
            },
            "type": "bar"
           }
          ],
          "barpolar": [
           {
            "marker": {
             "line": {
              "color": "#E5ECF6",
              "width": 0.5
             },
             "pattern": {
              "fillmode": "overlay",
              "size": 10,
              "solidity": 0.2
             }
            },
            "type": "barpolar"
           }
          ],
          "carpet": [
           {
            "aaxis": {
             "endlinecolor": "#2a3f5f",
             "gridcolor": "white",
             "linecolor": "white",
             "minorgridcolor": "white",
             "startlinecolor": "#2a3f5f"
            },
            "baxis": {
             "endlinecolor": "#2a3f5f",
             "gridcolor": "white",
             "linecolor": "white",
             "minorgridcolor": "white",
             "startlinecolor": "#2a3f5f"
            },
            "type": "carpet"
           }
          ],
          "choropleth": [
           {
            "colorbar": {
             "outlinewidth": 0,
             "ticks": ""
            },
            "type": "choropleth"
           }
          ],
          "contour": [
           {
            "colorbar": {
             "outlinewidth": 0,
             "ticks": ""
            },
            "colorscale": [
             [
              0,
              "#0d0887"
             ],
             [
              0.1111111111111111,
              "#46039f"
             ],
             [
              0.2222222222222222,
              "#7201a8"
             ],
             [
              0.3333333333333333,
              "#9c179e"
             ],
             [
              0.4444444444444444,
              "#bd3786"
             ],
             [
              0.5555555555555556,
              "#d8576b"
             ],
             [
              0.6666666666666666,
              "#ed7953"
             ],
             [
              0.7777777777777778,
              "#fb9f3a"
             ],
             [
              0.8888888888888888,
              "#fdca26"
             ],
             [
              1,
              "#f0f921"
             ]
            ],
            "type": "contour"
           }
          ],
          "contourcarpet": [
           {
            "colorbar": {
             "outlinewidth": 0,
             "ticks": ""
            },
            "type": "contourcarpet"
           }
          ],
          "heatmap": [
           {
            "colorbar": {
             "outlinewidth": 0,
             "ticks": ""
            },
            "colorscale": [
             [
              0,
              "#0d0887"
             ],
             [
              0.1111111111111111,
              "#46039f"
             ],
             [
              0.2222222222222222,
              "#7201a8"
             ],
             [
              0.3333333333333333,
              "#9c179e"
             ],
             [
              0.4444444444444444,
              "#bd3786"
             ],
             [
              0.5555555555555556,
              "#d8576b"
             ],
             [
              0.6666666666666666,
              "#ed7953"
             ],
             [
              0.7777777777777778,
              "#fb9f3a"
             ],
             [
              0.8888888888888888,
              "#fdca26"
             ],
             [
              1,
              "#f0f921"
             ]
            ],
            "type": "heatmap"
           }
          ],
          "heatmapgl": [
           {
            "colorbar": {
             "outlinewidth": 0,
             "ticks": ""
            },
            "colorscale": [
             [
              0,
              "#0d0887"
             ],
             [
              0.1111111111111111,
              "#46039f"
             ],
             [
              0.2222222222222222,
              "#7201a8"
             ],
             [
              0.3333333333333333,
              "#9c179e"
             ],
             [
              0.4444444444444444,
              "#bd3786"
             ],
             [
              0.5555555555555556,
              "#d8576b"
             ],
             [
              0.6666666666666666,
              "#ed7953"
             ],
             [
              0.7777777777777778,
              "#fb9f3a"
             ],
             [
              0.8888888888888888,
              "#fdca26"
             ],
             [
              1,
              "#f0f921"
             ]
            ],
            "type": "heatmapgl"
           }
          ],
          "histogram": [
           {
            "marker": {
             "pattern": {
              "fillmode": "overlay",
              "size": 10,
              "solidity": 0.2
             }
            },
            "type": "histogram"
           }
          ],
          "histogram2d": [
           {
            "colorbar": {
             "outlinewidth": 0,
             "ticks": ""
            },
            "colorscale": [
             [
              0,
              "#0d0887"
             ],
             [
              0.1111111111111111,
              "#46039f"
             ],
             [
              0.2222222222222222,
              "#7201a8"
             ],
             [
              0.3333333333333333,
              "#9c179e"
             ],
             [
              0.4444444444444444,
              "#bd3786"
             ],
             [
              0.5555555555555556,
              "#d8576b"
             ],
             [
              0.6666666666666666,
              "#ed7953"
             ],
             [
              0.7777777777777778,
              "#fb9f3a"
             ],
             [
              0.8888888888888888,
              "#fdca26"
             ],
             [
              1,
              "#f0f921"
             ]
            ],
            "type": "histogram2d"
           }
          ],
          "histogram2dcontour": [
           {
            "colorbar": {
             "outlinewidth": 0,
             "ticks": ""
            },
            "colorscale": [
             [
              0,
              "#0d0887"
             ],
             [
              0.1111111111111111,
              "#46039f"
             ],
             [
              0.2222222222222222,
              "#7201a8"
             ],
             [
              0.3333333333333333,
              "#9c179e"
             ],
             [
              0.4444444444444444,
              "#bd3786"
             ],
             [
              0.5555555555555556,
              "#d8576b"
             ],
             [
              0.6666666666666666,
              "#ed7953"
             ],
             [
              0.7777777777777778,
              "#fb9f3a"
             ],
             [
              0.8888888888888888,
              "#fdca26"
             ],
             [
              1,
              "#f0f921"
             ]
            ],
            "type": "histogram2dcontour"
           }
          ],
          "mesh3d": [
           {
            "colorbar": {
             "outlinewidth": 0,
             "ticks": ""
            },
            "type": "mesh3d"
           }
          ],
          "parcoords": [
           {
            "line": {
             "colorbar": {
              "outlinewidth": 0,
              "ticks": ""
             }
            },
            "type": "parcoords"
           }
          ],
          "pie": [
           {
            "automargin": true,
            "type": "pie"
           }
          ],
          "scatter": [
           {
            "fillpattern": {
             "fillmode": "overlay",
             "size": 10,
             "solidity": 0.2
            },
            "type": "scatter"
           }
          ],
          "scatter3d": [
           {
            "line": {
             "colorbar": {
              "outlinewidth": 0,
              "ticks": ""
             }
            },
            "marker": {
             "colorbar": {
              "outlinewidth": 0,
              "ticks": ""
             }
            },
            "type": "scatter3d"
           }
          ],
          "scattercarpet": [
           {
            "marker": {
             "colorbar": {
              "outlinewidth": 0,
              "ticks": ""
             }
            },
            "type": "scattercarpet"
           }
          ],
          "scattergeo": [
           {
            "marker": {
             "colorbar": {
              "outlinewidth": 0,
              "ticks": ""
             }
            },
            "type": "scattergeo"
           }
          ],
          "scattergl": [
           {
            "marker": {
             "colorbar": {
              "outlinewidth": 0,
              "ticks": ""
             }
            },
            "type": "scattergl"
           }
          ],
          "scattermapbox": [
           {
            "marker": {
             "colorbar": {
              "outlinewidth": 0,
              "ticks": ""
             }
            },
            "type": "scattermapbox"
           }
          ],
          "scatterpolar": [
           {
            "marker": {
             "colorbar": {
              "outlinewidth": 0,
              "ticks": ""
             }
            },
            "type": "scatterpolar"
           }
          ],
          "scatterpolargl": [
           {
            "marker": {
             "colorbar": {
              "outlinewidth": 0,
              "ticks": ""
             }
            },
            "type": "scatterpolargl"
           }
          ],
          "scatterternary": [
           {
            "marker": {
             "colorbar": {
              "outlinewidth": 0,
              "ticks": ""
             }
            },
            "type": "scatterternary"
           }
          ],
          "surface": [
           {
            "colorbar": {
             "outlinewidth": 0,
             "ticks": ""
            },
            "colorscale": [
             [
              0,
              "#0d0887"
             ],
             [
              0.1111111111111111,
              "#46039f"
             ],
             [
              0.2222222222222222,
              "#7201a8"
             ],
             [
              0.3333333333333333,
              "#9c179e"
             ],
             [
              0.4444444444444444,
              "#bd3786"
             ],
             [
              0.5555555555555556,
              "#d8576b"
             ],
             [
              0.6666666666666666,
              "#ed7953"
             ],
             [
              0.7777777777777778,
              "#fb9f3a"
             ],
             [
              0.8888888888888888,
              "#fdca26"
             ],
             [
              1,
              "#f0f921"
             ]
            ],
            "type": "surface"
           }
          ],
          "table": [
           {
            "cells": {
             "fill": {
              "color": "#EBF0F8"
             },
             "line": {
              "color": "white"
             }
            },
            "header": {
             "fill": {
              "color": "#C8D4E3"
             },
             "line": {
              "color": "white"
             }
            },
            "type": "table"
           }
          ]
         },
         "layout": {
          "annotationdefaults": {
           "arrowcolor": "#2a3f5f",
           "arrowhead": 0,
           "arrowwidth": 1
          },
          "autotypenumbers": "strict",
          "coloraxis": {
           "colorbar": {
            "outlinewidth": 0,
            "ticks": ""
           }
          },
          "colorscale": {
           "diverging": [
            [
             0,
             "#8e0152"
            ],
            [
             0.1,
             "#c51b7d"
            ],
            [
             0.2,
             "#de77ae"
            ],
            [
             0.3,
             "#f1b6da"
            ],
            [
             0.4,
             "#fde0ef"
            ],
            [
             0.5,
             "#f7f7f7"
            ],
            [
             0.6,
             "#e6f5d0"
            ],
            [
             0.7,
             "#b8e186"
            ],
            [
             0.8,
             "#7fbc41"
            ],
            [
             0.9,
             "#4d9221"
            ],
            [
             1,
             "#276419"
            ]
           ],
           "sequential": [
            [
             0,
             "#0d0887"
            ],
            [
             0.1111111111111111,
             "#46039f"
            ],
            [
             0.2222222222222222,
             "#7201a8"
            ],
            [
             0.3333333333333333,
             "#9c179e"
            ],
            [
             0.4444444444444444,
             "#bd3786"
            ],
            [
             0.5555555555555556,
             "#d8576b"
            ],
            [
             0.6666666666666666,
             "#ed7953"
            ],
            [
             0.7777777777777778,
             "#fb9f3a"
            ],
            [
             0.8888888888888888,
             "#fdca26"
            ],
            [
             1,
             "#f0f921"
            ]
           ],
           "sequentialminus": [
            [
             0,
             "#0d0887"
            ],
            [
             0.1111111111111111,
             "#46039f"
            ],
            [
             0.2222222222222222,
             "#7201a8"
            ],
            [
             0.3333333333333333,
             "#9c179e"
            ],
            [
             0.4444444444444444,
             "#bd3786"
            ],
            [
             0.5555555555555556,
             "#d8576b"
            ],
            [
             0.6666666666666666,
             "#ed7953"
            ],
            [
             0.7777777777777778,
             "#fb9f3a"
            ],
            [
             0.8888888888888888,
             "#fdca26"
            ],
            [
             1,
             "#f0f921"
            ]
           ]
          },
          "colorway": [
           "#636efa",
           "#EF553B",
           "#00cc96",
           "#ab63fa",
           "#FFA15A",
           "#19d3f3",
           "#FF6692",
           "#B6E880",
           "#FF97FF",
           "#FECB52"
          ],
          "font": {
           "color": "#2a3f5f"
          },
          "geo": {
           "bgcolor": "white",
           "lakecolor": "white",
           "landcolor": "#E5ECF6",
           "showlakes": true,
           "showland": true,
           "subunitcolor": "white"
          },
          "hoverlabel": {
           "align": "left"
          },
          "hovermode": "closest",
          "mapbox": {
           "style": "light"
          },
          "paper_bgcolor": "white",
          "plot_bgcolor": "#E5ECF6",
          "polar": {
           "angularaxis": {
            "gridcolor": "white",
            "linecolor": "white",
            "ticks": ""
           },
           "bgcolor": "#E5ECF6",
           "radialaxis": {
            "gridcolor": "white",
            "linecolor": "white",
            "ticks": ""
           }
          },
          "scene": {
           "xaxis": {
            "backgroundcolor": "#E5ECF6",
            "gridcolor": "white",
            "gridwidth": 2,
            "linecolor": "white",
            "showbackground": true,
            "ticks": "",
            "zerolinecolor": "white"
           },
           "yaxis": {
            "backgroundcolor": "#E5ECF6",
            "gridcolor": "white",
            "gridwidth": 2,
            "linecolor": "white",
            "showbackground": true,
            "ticks": "",
            "zerolinecolor": "white"
           },
           "zaxis": {
            "backgroundcolor": "#E5ECF6",
            "gridcolor": "white",
            "gridwidth": 2,
            "linecolor": "white",
            "showbackground": true,
            "ticks": "",
            "zerolinecolor": "white"
           }
          },
          "shapedefaults": {
           "line": {
            "color": "#2a3f5f"
           }
          },
          "ternary": {
           "aaxis": {
            "gridcolor": "white",
            "linecolor": "white",
            "ticks": ""
           },
           "baxis": {
            "gridcolor": "white",
            "linecolor": "white",
            "ticks": ""
           },
           "bgcolor": "#E5ECF6",
           "caxis": {
            "gridcolor": "white",
            "linecolor": "white",
            "ticks": ""
           }
          },
          "title": {
           "x": 0.05
          },
          "xaxis": {
           "automargin": true,
           "gridcolor": "white",
           "linecolor": "white",
           "ticks": "",
           "title": {
            "standoff": 15
           },
           "zerolinecolor": "white",
           "zerolinewidth": 2
          },
          "yaxis": {
           "automargin": true,
           "gridcolor": "white",
           "linecolor": "white",
           "ticks": "",
           "title": {
            "standoff": 15
           },
           "zerolinecolor": "white",
           "zerolinewidth": 2
          }
         }
        },
        "title": {
         "text": "Timeline Plot"
        },
        "xaxis": {
         "title": {
          "text": "Datetime"
         },
         "type": "date"
        },
        "yaxis": {
         "title": {
          "text": "Trial"
         }
        }
       }
      }
     },
     "metadata": {},
     "output_type": "display_data"
    }
   ],
   "source": [
    "optuna.visualization.plot_timeline(study)"
   ]
  },
  {
   "cell_type": "markdown",
   "metadata": {},
   "source": [
    "# End of the Walkway"
   ]
  },
  {
   "cell_type": "markdown",
   "metadata": {},
   "source": [
    "# real training"
   ]
  },
  {
   "cell_type": "code",
   "execution_count": null,
   "metadata": {},
   "outputs": [],
   "source": [
    "def create_model(dropout_rate, dropout_rate2, LSTM_units, EMBEDDING_DIM, learning_rate):  \n",
    "    model = Sequential()\n",
    "    model.add(Embedding(MAX_WORDS, EMBEDDING_DIM, input_length=MAX_SEQUENCE_LENGTH))\n",
    "    model.add(Bidirectional(LSTM(LSTM_units, dropout = dropout_rate ,return_sequences=True)))\n",
    "    model.add(Dropout(dropout_rate2)) \n",
    "    model.add(Bidirectional(LSTM(int(LSTM_units / 2))))\n",
    "    model.add(Dropout(dropout_rate2))\n",
    "    model.add(Dense(1, activation='sigmoid'))\n",
    "    #model.add(KerasClassifier(build_fn=create_svc_model, verbose=0))\n",
    "    model.compile(loss='binary_crossentropy', optimizer=Adam(learning_rate), metrics=['accuracy'])\n",
    "    return model"
   ]
  },
  {
   "cell_type": "code",
   "execution_count": null,
   "metadata": {},
   "outputs": [],
   "source": [
    "model = create_model(00.1836937368228891,0.09850857359174835,256,150,0.00012597950524043458)\n",
    "model.fit()"
   ]
  },
  {
   "cell_type": "markdown",
   "metadata": {},
   "source": [
    "# dont bother"
   ]
  },
  {
   "cell_type": "code",
   "execution_count": null,
   "metadata": {},
   "outputs": [],
   "source": [
    "'''def recall_m(y_true, y_pred):\n",
    "    true_positives = K.sum(K.round(K.clip(y_true * y_pred, 0, 1)))\n",
    "    possible_positives = K.sum(K.round(K.clip(y_true, 0, 1)))\n",
    "    recall = true_positives / (possible_positives + K.epsilon())\n",
    "    return recall\n",
    "\n",
    "def precision_m(y_true, y_pred):\n",
    "    true_positives = K.sum(K.round(K.clip(y_true * y_pred, 0, 1)))\n",
    "    predicted_positives = K.sum(K.round(K.clip(y_pred, 0, 1)))\n",
    "    precision = true_positives / (predicted_positives + K.epsilon())\n",
    "    return precision\n",
    "\n",
    "def f1_m(y_true, y_pred):\n",
    "    precision = precision_m(y_true, y_pred)\n",
    "    recall = recall_m(y_true, y_pred)\n",
    "    return 2*((precision*recall)/(precision+recall+K.epsilon()))'''"
   ]
  },
  {
   "cell_type": "code",
   "execution_count": null,
   "metadata": {},
   "outputs": [],
   "source": [
    "'''def create_model(hp):\n",
    "    model = Sequential()\n",
    "    #model.add(Embedding(input_dim=X_train.shape[0], output_dim=input_dim, input_length=X_train.shape[1]))\n",
    "    model.add(Embedding(MAX_WORDS, EMBEDDING_DIM, input_length=MAX_SEQUENCE_LENGTH)) #keras embedding\n",
    "    model.add(Bidirectional(LSTM(128, return_sequences=True)))\n",
    "    model.add(Dropout(0.1)) \n",
    "    model.add(Bidirectional(LSTM(64)))\n",
    "    model.add(Dropout(0.1)) \n",
    "    model.add(Dense(1, activation='sigmoid'))  # linear for svm\n",
    "    model.compile(loss='binary_crossentropy', optimizer='adam', metrics=['accuracy']) #binary_crossentropy, hinge for svm [f1_m]\n",
    "    model.summary()\n",
    "    return model '''"
   ]
  },
  {
   "cell_type": "code",
   "execution_count": null,
   "metadata": {},
   "outputs": [],
   "source": [
    "import tensorflow as tf\n",
    "from tf.keras import ops\n",
    "\n",
    "\n",
    "class CustomMetric(keras.metrics.Metric):\n",
    "    def __init__(self, **kwargs):\n",
    "        # Specify the name of the metric as \"custom_metric\".\n",
    "        super().__init__(name=\"custom_metric\", **kwargs)\n",
    "        self.sum = self.add_weight(name=\"sum\", initializer=\"zeros\")\n",
    "        self.count = self.add_weight(name=\"count\", dtype=\"int32\", initializer=\"zeros\")\n",
    "\n",
    "    def update_state(self, y_true, y_pred, sample_weight=None):\n",
    "        values = ops.square(y_true - y_pred)\n",
    "        count = ops.shape(y_true)[0]\n",
    "        if sample_weight is not None:\n",
    "            sample_weight = ops.cast(sample_weight, self.dtype)\n",
    "            values *= sample_weight\n",
    "            count *= sample_weight\n",
    "        self.sum.assign_add(ops.sum(values))\n",
    "        self.count.assign_add(count)\n",
    "\n",
    "    def result(self):\n",
    "        return self.sum / ops.cast(self.count, \"float32\")\n",
    "\n",
    "    def reset_states(self):\n",
    "        self.sum.assign(0)\n",
    "        self.count.assign(0)"
   ]
  },
  {
   "cell_type": "code",
   "execution_count": null,
   "metadata": {},
   "outputs": [],
   "source": [
    "Y_train.shape"
   ]
  },
  {
   "cell_type": "code",
   "execution_count": null,
   "metadata": {},
   "outputs": [],
   "source": [
    "X_train.shape"
   ]
  },
  {
   "cell_type": "markdown",
   "metadata": {},
   "source": [
    "custom metric"
   ]
  },
  {
   "cell_type": "code",
   "execution_count": null,
   "metadata": {},
   "outputs": [],
   "source": [
    "#from keras import ops\n",
    "from keras import backend as K\n",
    "from keras.metrics import Metric\n",
    "class CustomMetric(keras.metrics.Metric):\n",
    "#class F1Score(Metric):\n",
    "    def __init__(self, name='custom_metric', **kwargs):\n",
    "        super(F1Score, self).__init__(name=name, **kwargs)\n",
    "        self.true_positives = self.add_weight(name='true_positives', initializer='zeros')\n",
    "        self.false_positives = self.add_weight(name='false_positives', initializer='zeros')\n",
    "        self.false_negatives = self.add_weight(name='false_negatives', initializer='zeros')\n",
    "\n",
    "    def update_state(self, y_true, y_pred, sample_weight=None):\n",
    "        y_true = K.cast(y_true, 'float32')\n",
    "        y_pred = K.cast(K.round(y_pred), 'float32')\n",
    "\n",
    "        true_positives = K.sum(K.cast(y_true * y_pred, 'float32'))\n",
    "        false_positives = K.sum(K.cast((1 - y_true) * y_pred, 'float32'))\n",
    "        false_negatives = K.sum(K.cast(y_true * (1 - y_pred), 'float32'))\n",
    "\n",
    "        self.true_positives.assign_add(true_positives)\n",
    "        self.false_positives.assign_add(false_positives)\n",
    "        self.false_negatives.assign_add(false_negatives)\n",
    "\n",
    "    def result(self):\n",
    "        precision = self.true_positives / (self.true_positives + self.false_positives + K.epsilon())\n",
    "        recall = self.true_positives / (self.true_positives + self.false_negatives + K.epsilon())\n",
    "\n",
    "        f1_score = 2 * (precision * recall) / (precision + recall + K.epsilon())\n",
    "        return f1_score\n",
    "\n",
    "    def reset_states(self):\n",
    "        K.batch_set_value([(v, 0) for v in self.variables])\n",
    "\n",
    "\n"
   ]
  },
  {
   "cell_type": "code",
   "execution_count": null,
   "metadata": {},
   "outputs": [],
   "source": [
    "import numpy as np\n",
    "from tensorflow import keras\n",
    "from tensorflow.keras import layers\n",
    "from kerastuner.tuners import RandomSearch\n",
    "import keras_tuner as kt \n",
    "\n",
    "\n",
    "# Define the model building function\n",
    "def build_model(hp):\n",
    "    model = keras.Sequential()\n",
    "    model.add(layers.Bidirectional(layers.LSTM(units=hp.Int('units', min_value=32, max_value=512, step=32),\n",
    "                                               input_shape=(X_train.shape[1], X_train.shape[2]))))\n",
    "    model.add(layers.Dense(1, activation='sigmoid'))\n",
    "    model.compile(optimizer=keras.optimizers.Adam(hp.Choice('learning_rate', 1e-2, 1e-3, 1e-4)),\n",
    "                  loss='binary_crossentropy',\n",
    "                  metrics=[CustomMetric()])\n",
    "    return model\n",
    "\n",
    "# Define the Keras Tuner RandomSearch tuner\n",
    "tuner = RandomSearch(\n",
    "    hypermodel=build_model,\n",
    "    # Specify the name and direction of the objective.\n",
    "    objective=kt.Objective(\"val_custom_metric\", direction=\"max\"),\n",
    "    max_trials=3,\n",
    "    overwrite=True,\n",
    "    directory=\"my_dir\",\n",
    "    project_name=\"custom_metrics\",\n",
    ")\n",
    "\n",
    "\n",
    "# Perform the hyperparameter search\n",
    "tuner.search(X_train, Y_train,\n",
    "             epochs=10,            # Number of epochs for each training run\n",
    "             validation_data=(X_test, Y_test))\n",
    "\n",
    "# Get the best hyperparameters\n",
    "best_hps = tuner.get_best_hyperparameters(num_trials=1)[0]\n",
    "\n",
    "# Build the model with the best hyperparameters\n",
    "model = tuner.hypermodel.build(best_hps)"
   ]
  },
  {
   "cell_type": "code",
   "execution_count": null,
   "metadata": {},
   "outputs": [],
   "source": [
    "# Get the best hyperparameters\n",
    "best_hps = tuner.get_best_hyperparameters(num_trials=1)[0]\n",
    "\n",
    "# Build the model with the best hyperparameters\n",
    "model = tuner.hypermodel.build(best_hps)\n",
    "model.summary()"
   ]
  },
  {
   "cell_type": "code",
   "execution_count": null,
   "metadata": {},
   "outputs": [],
   "source": [
    "from keras.models import Sequential\n",
    "from keras.layers import Embedding, Bidirectional, LSTM, Dense\n",
    "from kerastuner.tuners import RandomSearch\n",
    "from kerastuner.engine.hyperparameters import HyperParameters\n",
    "\n",
    "def f1_m(y_true, y_pred):\n",
    "    precision = precision_m(y_true, y_pred)  # Assuming precision_m and recall_m are defined elsewhere\n",
    "    recall = recall_m(y_true, y_pred)\n",
    "    return 2 * ((precision * recall) / (precision + recall + K.epsilon()))\n",
    "\n",
    "def build_model(hp):\n",
    "    model = Sequential()\n",
    "    model.add(Embedding(input_dim=vocab_size, output_dim=embedding_dim, input_length=max_sequence_length))\n",
    "    model.add(Bidirectional(LSTM(units=LSTM_units, dropout=dropout_rate, recurrent_dropout=0.1)))\n",
    "    model.add(Dense(units=num_classes, activation='softmax'))\n",
    "    model.compile(loss='binary_crossentropy', optimizer='adam', metrics=[f1_m])\n",
    "    return model\n",
    "\n",
    "# Instantiate the tuner\n",
    "tuner = RandomSearch(\n",
    "    build_model,\n",
    "    objective='val_accuracy',  # or other metric you want to optimize\n",
    "    max_trials=5,  # adjust as needed\n",
    "    executions_per_trial=3,  # adjust as needed\n",
    "    directory='./',\n",
    "    project_name='bi_lstm_hyperparameter_tuning'\n",
    ")\n",
    "\n",
    "# Perform the hyperparameter search\n",
    "tuner.search(x_train, y_train, epochs=10, validation_data=(x_val, y_val))\n",
    "\n",
    "# Get the best hyperparameters\n",
    "best_hps = tuner.get_best_hyperparameters(num_trials=1)[0]\n",
    "\n",
    "# Build the model with the best hyperparameters\n",
    "model = tuner.hypermodel.build(best_hps)\n",
    "model.summary()\n"
   ]
  },
  {
   "cell_type": "markdown",
   "metadata": {},
   "source": [
    "Idiot grid"
   ]
  },
  {
   "cell_type": "code",
   "execution_count": null,
   "metadata": {},
   "outputs": [],
   "source": [
    "# Define your data-specific constants\n",
    "MAX_WORDS = 3500\n",
    "EMBEDDING_DIM = 100\n",
    "MAX_SEQUENCE_LENGTH = 134\n",
    "\n",
    "# Function to create model\n",
    "def create_model(dropout_rate=0.1, LSTM_units=100, learning_rate=0.001):\n",
    "    model = Sequential()\n",
    "    model.add(Embedding(MAX_WORDS, EMBEDDING_DIM, input_length=MAX_SEQUENCE_LENGTH))\n",
    "    model.add(Dense(64, activation='relu'))\n",
    "    model.add(Bidirectional(LSTM(units=LSTM_units, dropout=dropout_rate, recurrent_dropout=0.1)))\n",
    "    model.add(Dense(1, activation='sigmoid'))\n",
    "    optimizer = Adam(learning_rate)\n",
    "    model.compile(optimizer=optimizer, loss='binary_crossentropy', metrics=['f1_macro'])  \n",
    "    return model\n",
    "\n",
    "class CustomKerasClassifier(BaseEstimator):\n",
    "    def __init__(self, dropout_rate=0.1, LSTM_units=100, learning_rate=0.001, **kwargs):\n",
    "        self.dropout_rate = dropout_rate\n",
    "        self.LSTM_units = LSTM_units\n",
    "        self.learning_rate = learning_rate\n",
    "        self.kwargs = kwargs\n",
    "\n",
    "    def fit(self, X, Y):\n",
    "        self.model = create_model(dropout_rate=self.dropout_rate, LSTM_units=self.LSTM_units,\n",
    "                                  learning_rate=self.learning_rate, **self.kwargs)\n",
    "        self.model.fit(X, Y, **self.kwargs)\n",
    "        return self\n",
    "\n",
    "    def predict(self, X):\n",
    "        return self.model.predict(X)\n",
    "\n",
    "# Create CustomKerasClassifier instance\n",
    "model = CustomKerasClassifier()\n",
    "\n",
    "# Define the grid search parameters\n",
    "param_grid = {\n",
    "    'dropout_rate': [0.1, 0.08, 0.09],\n",
    "    'LSTM_units': [50, 100, 150],  # Uncomment if you want to search over LSTM_units\n",
    "    'learning_rate': [0.001, 0.0009, 0.0008]  # Uncomment if you want to search over learning_rate\n",
    "}\n",
    "\n",
    "f1 = make_scorer(fbeta_score, beta = 1)\n",
    "# Perform grid search\n",
    "grid_search = GridSearchCV(estimator=model, param_grid=param_grid, cv=3, scoring=f1, verbose=1)  # Change scoring to 'accuracy'\n",
    "grid_result = grid_search.fit(X_train, Y_train)\n",
    "\n",
    "# Print results\n",
    "print(\"Best: %f using %s\" % (grid_result.best_score_, grid_result.best_params_))\n",
    "means = grid_result.cv_results_['mean_test_score']\n",
    "stds = grid_result.cv_results_['std_test_score']\n",
    "params = grid_result.cv_results_['params']\n",
    "for mean, stdev, param in zip(means, stds, params):\n",
    "    print(\"%f (%f) with: %r\" % (mean, stdev, param))\n"
   ]
  },
  {
   "cell_type": "markdown",
   "metadata": {},
   "source": [
    "Save model"
   ]
  },
  {
   "cell_type": "code",
   "execution_count": null,
   "metadata": {},
   "outputs": [],
   "source": [
    "# Save the best model\n",
    "best_model = grid_result.best_estimator_.model\n",
    "best_model.save('best_model.h5')\n"
   ]
  },
  {
   "cell_type": "markdown",
   "metadata": {},
   "source": [
    "Ending the new gridsearch"
   ]
  },
  {
   "cell_type": "code",
   "execution_count": null,
   "metadata": {},
   "outputs": [],
   "source": [
    "#from gpt\n",
    "from sklearn.metrics import confusion_matrix, precision_score, recall_score, f1_score\n",
    "import seaborn as sns\n",
    "import matplotlib.pyplot as plt\n",
    "\n",
    "# Predict classes for test data\n",
    "Y_pred = best_model.predict_classes(X_test)\n",
    "\n",
    "# Calculate precision, recall, and F1-score\n",
    "precision = precision_score(Y_test, Y_pred)\n",
    "recall = recall_score(Y_test, Y_pred)\n",
    "f1 = f1_score(Y_test, Y_pred)\n",
    "\n",
    "# Calculate confusion matrix\n",
    "conf_matrix = confusion_matrix(Y_test, Y_pred)\n",
    "\n",
    "# Plot confusion matrix\n",
    "sns.heatmap(conf_matrix, annot=True, fmt='d', cmap='Blues')\n",
    "plt.xlabel('Predicted Label')\n",
    "plt.ylabel('True Label')\n",
    "plt.title('Confusion Matrix')\n",
    "plt.show()"
   ]
  },
  {
   "cell_type": "markdown",
   "metadata": {},
   "source": [
    "evaluation and matrix"
   ]
  },
  {
   "cell_type": "code",
   "execution_count": null,
   "metadata": {},
   "outputs": [],
   "source": [
    "from sklearn.metrics import precision_score, recall_score, f1_score\n",
    "\n",
    "# Evaluate the model on the test set\n",
    "evaluation = model.evaluate(X_test, Y_test)\n",
    "\n",
    "loss = evaluation[0]\n",
    "f1_score = evaluation[1]\n",
    "\n",
    "# Print evaluation metrics\n",
    "print('Test set evaluate\\n  Loss: {:0.3f}\\n  F1 Score: {:0.3f}'.format(loss, f1_score))\n",
    "\n",
    "y_pred = model.predict(X_test)\n",
    "y_pred_binary = (y_pred > 0.5).astype(int)\n",
    "\n",
    "# Calculate precision, recall, and F1 score for the test set\n",
    "precision = precision_score(Y_test, y_pred_binary, average='weighted')\n",
    "recall = recall_score(Y_test, y_pred_binary, average='weighted')\n",
    "f1_metric = (2 * precision * recall)/(precision + recall)\n",
    "\n",
    "# Print precision, recall, and F1 score\n",
    "print('Precision: {:0.3f}\\nRecall: {:0.3f}\\nF1 Score: {:0.3f}\\n'.format(precision, recall, f1_metric))"
   ]
  },
  {
   "cell_type": "code",
   "execution_count": null,
   "metadata": {},
   "outputs": [],
   "source": [
    "from sklearn.metrics import confusion_matrix, ConfusionMatrixDisplay\n",
    "import matplotlib.pyplot as plt\n",
    "\n",
    "# Calculate confusion matrix\n",
    "cm = confusion_matrix(Y_test, y_pred_binary)\n",
    "\n",
    "# Plot confusion matrix\n",
    "disp = ConfusionMatrixDisplay(confusion_matrix=cm, display_labels=label_encoder.classes_)\n",
    "disp.plot(cmap=plt.cm.Blues, colorbar=False)\n",
    "plt.title('Confusion Matrix') #put title before to avoid cropping\n",
    "plt.gcf().set_size_inches(4, 3) \n",
    "\n",
    "# Prevent cropping\n",
    "plt.tight_layout()\n",
    "\n",
    "plt.savefig('./img/confusion_relevant_ori_trafbal_pau.png') # Save the figure before showing\n",
    "plt.show()"
   ]
  },
  {
   "cell_type": "markdown",
   "metadata": {},
   "source": [
    "save model"
   ]
  },
  {
   "cell_type": "code",
   "execution_count": null,
   "metadata": {},
   "outputs": [],
   "source": [
    "model_json = model.to_json()\n",
    "with open(\"./model/relevant_arch_ori_n_trafbal.json\", \"w\") as json_file:\n",
    "    json_file.write(model_json)\n",
    "    \n",
    "model.save_weights('./model/relevant_w_ori_n_trafbal.h5')"
   ]
  },
  {
   "cell_type": "code",
   "execution_count": null,
   "metadata": {},
   "outputs": [],
   "source": [
    "from sklearn.metrics import confusion_matrix, ConfusionMatrixDisplay\n",
    "import matplotlib.pyplot as plt\n",
    "\n",
    "# Calculate confusion matrix\n",
    "cm = confusion_matrix(Y_test, y_pred_binary)\n",
    "\n",
    "# Plot confusion matrix\n",
    "disp = ConfusionMatrixDisplay(confusion_matrix=cm, display_labels=label_encoder.classes_)\n",
    "disp.plot(cmap=plt.cm.Blues, colorbar=False)\n",
    "\n",
    "# Get current axis and adjust figure size to fit the matrix\n",
    "plt.gca().set_aspect('equal', adjustable='box')\n",
    "plt.gcf().set_size_inches(cm.shape[1], cm.shape[0])  # Set figure size based on matrix dimensions\n",
    "\n",
    "plt.title('Confusion Matrix')\n",
    "\n",
    "# Save the figure before showing\n",
    "plt.savefig('./img/confusion_relevant_ori_trafbal') #_ori_trafbal'\n",
    "\n",
    "plt.show()\n"
   ]
  },
  {
   "cell_type": "code",
   "execution_count": null,
   "metadata": {},
   "outputs": [],
   "source": [
    "accr = model.evaluate(X_test, Y_test)\n",
    "print('Test set\\n  Loss: {:0.3f}\\n  Accuracy: {:0.3f}'.format(accr[0], accr[1]))\n",
    "\n",
    "\n",
    "# Get predictions for the test set\n",
    "y_pred = np.argmax(model.predict(X_test), axis=1)\n"
   ]
  },
  {
   "cell_type": "code",
   "execution_count": null,
   "metadata": {},
   "outputs": [],
   "source": [
    "from sklearn.metrics import roc_auc_score\n",
    "score = roc_auc_score(Y_test, y_pred)\n",
    "print('ROC AUC: %.3f' % score)\n",
    "cm = confusion_matrix(Y_test, y_pred)\n",
    "\n",
    "# Plot confusion matrix\n",
    "plt.figure(figsize=(4, 3))\n",
    "sns.heatmap(cm, annot=True, fmt='d', cmap='Blues', xticklabels=label_encoder.classes_, yticklabels=label_encoder.classes_)\n",
    "plt.xlabel('Predicted')\n",
    "plt.ylabel('True')\n",
    "plt.title('Confusion Matrix')\n",
    "plt.show()"
   ]
  }
 ],
 "metadata": {
  "kernelspec": {
   "display_name": "gpt-twitter",
   "language": "python",
   "name": "python3"
  },
  "language_info": {
   "codemirror_mode": {
    "name": "ipython",
    "version": 3
   },
   "file_extension": ".py",
   "mimetype": "text/x-python",
   "name": "python",
   "nbconvert_exporter": "python",
   "pygments_lexer": "ipython3",
   "version": "3.11.1"
  }
 },
 "nbformat": 4,
 "nbformat_minor": 2
}
